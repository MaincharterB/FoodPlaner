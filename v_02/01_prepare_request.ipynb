{
 "cells": [
  {
   "cell_type": "markdown",
   "metadata": {},
   "source": [
    "# Introduction.\n",
    "Hi. So, in this part we are going to create the definition of our request to the nutrition matching service."
   ]
  },
  {
   "cell_type": "markdown",
   "metadata": {},
   "source": [
    "Suppose we have a user who only knows how many kilocalories he needs, how many fats, proteins and carbohydrates he needs."
   ]
  },
  {
   "cell_type": "code",
   "execution_count": 12,
   "metadata": {},
   "outputs": [],
   "source": [
    "from model.Nutrition import Nutrition\n",
    "nutrition_data = Nutrition(kcal=2679, protein=150, fat=70, carbs=338)"
   ]
  },
  {
   "cell_type": "markdown",
   "metadata": {},
   "source": [
    "Plus, we know this user likes to eat 4 times a day. "
   ]
  },
  {
   "cell_type": "code",
   "execution_count": 11,
   "metadata": {},
   "outputs": [],
   "source": [
    "meal_count_by_day = 4"
   ]
  },
  {
   "cell_type": "markdown",
   "metadata": {},
   "source": [
    "Based on these data, we need to make up his caloric intake for each meal, as well as make the layout of desired foods for each meal. \n",
    "Since no favorite foods are specified, we will apply the standard approach, in which we will put complex carbohydrates in the first part of the day, together with "
   ]
  },
  {
   "cell_type": "markdown",
   "metadata": {},
   "source": [
    "# Prepare meals by timepart"
   ]
  },
  {
   "cell_type": "code",
   "execution_count": 13,
   "metadata": {},
   "outputs": [],
   "source": [
    "meals = []"
   ]
  },
  {
   "cell_type": "markdown",
   "metadata": {},
   "source": [
    "So, suppose we set limits between the hours when the user can start eating and the last hour when the user wants to eat. In our example it will between 6 A.M and 8 P.M. For this we will use Linear Optimization"
   ]
  },
  {
   "cell_type": "code",
   "execution_count": 24,
   "metadata": {},
   "outputs": [],
   "source": [
    "start_of_day = 6\n",
    "end_of_day = 20\n",
    "\n",
    "min_distance_between_meals = 2\n",
    "max_distance_between_meals = 8"
   ]
  },
  {
   "cell_type": "code",
   "execution_count": 25,
   "metadata": {},
   "outputs": [],
   "source": [
    "from ortools.sat.python import cp_model \n",
    "meals_hours = []\n",
    "\n",
    "model = cp_model.CpModel()\n",
    "for i in range(1, meal_count_by_day):\n",
    "    meal_model = model.NewIntVar(start_of_day, end_of_day, 'meal_'+str(i+1))\n",
    "    if len(meals_hours) == 0:\n",
    "        meal_zero = model.NewIntVar(start_of_day, end_of_day, 'meal_'+str((i)))\n",
    "        meals_hours.append(meal_zero)\n",
    "    meal_zero = meals_hours[i-1]\n",
    "    meals_hours.append(meal_model)\n",
    "    model.Add(meal_zero < meal_model)    \n",
    "    model.Add(meal_model - meal_zero >= min_distance_between_meals)\n",
    "    model.Add(meal_model - meal_zero <= max_distance_between_meals)"
   ]
  },
  {
   "cell_type": "code",
   "execution_count": 26,
   "metadata": {},
   "outputs": [
    {
     "name": "stdout",
     "output_type": "stream",
     "text": [
      "meal_1: 6 ч.\n",
      "meal_2: 10 ч.\n",
      "meal_3: 16 ч.\n",
      "meal_4: 20 ч.\n"
     ]
    }
   ],
   "source": [
    "\n",
    "solver = cp_model.CpSolver()\n",
    "status = solver.Solve(model)\n",
    "\n",
    "if status == cp_model.OPTIMAL or status == cp_model.FEASIBLE:\n",
    "    for resolved_time in meals_hours:\n",
    "        print(f\"{resolved_time}: {solver.Value(resolved_time)} ч.\")\n",
    "else: \n",
    "    print(\"ERROR NOT FOUND\")        "
   ]
  }
 ],
 "metadata": {
  "kernelspec": {
   "display_name": "Python 3",
   "language": "python",
   "name": "python3"
  },
  "language_info": {
   "codemirror_mode": {
    "name": "ipython",
    "version": 3
   },
   "file_extension": ".py",
   "mimetype": "text/x-python",
   "name": "python",
   "nbconvert_exporter": "python",
   "pygments_lexer": "ipython3",
   "version": "3.10.0"
  }
 },
 "nbformat": 4,
 "nbformat_minor": 2
}
