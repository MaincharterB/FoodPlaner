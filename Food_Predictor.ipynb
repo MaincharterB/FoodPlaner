{
  "cells": [
    {
      "cell_type": "code",
      "execution_count": 39,
      "metadata": {
        "id": "2rptU6mxyaoP"
      },
      "outputs": [],
      "source": [
        "from typing import Dict, Text\n",
        "\n",
        "import numpy as np\n",
        "import tensorflow as tf\n",
        "import tensorflow_datasets as tfds\n",
        "import pandas as pd\n",
        "import tensorflow_recommenders as tfrs"
      ]
    },
    {
      "cell_type": "code",
      "execution_count": 40,
      "metadata": {},
      "outputs": [],
      "source": [
        "import os\n",
        "os.environ['TF_ENABLE_ONEDNN_OPTS'] = '0'"
      ]
    },
    {
      "cell_type": "markdown",
      "metadata": {
        "id": "16W1-BvjtVmz"
      },
      "source": [
        "Let's pretend we have 3 users:\n",
        "1. Clarissa is a vegetarian who is lactose intolerant. 🥝🍅\n",
        "2. Martin is an athlete who prefers meat dishes to vegetable dishes. 🍖🥩\n",
        "3. Stella - has no special preferences, eats mostly everything. 🍲🍠"
      ]
    },
    {
      "cell_type": "code",
      "execution_count": 3,
      "metadata": {
        "id": "FDNshkxJvR-U"
      },
      "outputs": [],
      "source": [
        "clarissa = {'id':'clr', 'prefers': ['vegetables', 'vegan', 'nomeat', 'vegetarian'], 'hates': ['meat', 'lactose']}\n",
        "martin = {'id':'mrt', 'prefers': 'meat', 'hates': 'vegetables'}\n",
        "stella = {'id':'stl', 'prefers': '', 'hates': ''}"
      ]
    },
    {
      "cell_type": "markdown",
      "metadata": {
        "id": "FS8T34Y4xNhX"
      },
      "source": [
        "We will additionally enter the factors Calories, Protein, Fat, Carbohydrates for our requirements. **(The numbers were taken at random and do not reflect proportions or recommendations - the numbers are just an example)**\n",
        "* Clarissa - 2000/100/60/120\n",
        "* Martin, 2600/150/100/328.\n",
        "* Stella - 2200/80/50/100"
      ]
    },
    {
      "cell_type": "code",
      "execution_count": 4,
      "metadata": {
        "id": "qoPCpCLMxUob"
      },
      "outputs": [],
      "source": [
        "def set_requirements(user, calories, proteins, fats, carbs):\n",
        "  user['calories'] = calories\n",
        "  user['proteins'] = proteins\n",
        "  user['fats'] = fats\n",
        "  user['carbs'] = carbs\n",
        "set_requirements(clarissa, 2000, 100, 60, 120)\n",
        "set_requirements(martin, 2600, 150, 100, 328)\n",
        "set_requirements(martin, 2200, 80, 50, 100)\n"
      ]
    },
    {
      "cell_type": "markdown",
      "metadata": {
        "id": "iFMln3jutPpe"
      },
      "source": [
        "# Data processing 📊"
      ]
    },
    {
      "cell_type": "markdown",
      "metadata": {
        "id": "yDHv_HGvzWkB"
      },
      "source": [
        "Loading recipes and user_interactions. Nutritions showed like:calories (#), total fat (PDV), sugar (PDV) , sodium (PDV) , protein (PDV) , saturated fat (PDV) , and carbohydrates (PDV)"
      ]
    },
    {
      "cell_type": "code",
      "execution_count": 41,
      "metadata": {
        "colab": {
          "base_uri": "https://localhost:8080/",
          "height": 293
        },
        "id": "1gVJ6QAiyXLz",
        "outputId": "0e6c0673-457a-4063-eaa5-b553ec30edc8"
      },
      "outputs": [
        {
          "data": {
            "text/html": [
              "<div>\n",
              "<style scoped>\n",
              "    .dataframe tbody tr th:only-of-type {\n",
              "        vertical-align: middle;\n",
              "    }\n",
              "\n",
              "    .dataframe tbody tr th {\n",
              "        vertical-align: top;\n",
              "    }\n",
              "\n",
              "    .dataframe thead th {\n",
              "        text-align: right;\n",
              "    }\n",
              "</style>\n",
              "<table border=\"1\" class=\"dataframe\">\n",
              "  <thead>\n",
              "    <tr style=\"text-align: right;\">\n",
              "      <th></th>\n",
              "      <th>name</th>\n",
              "      <th>id</th>\n",
              "      <th>minutes</th>\n",
              "      <th>contributor_id</th>\n",
              "      <th>submitted</th>\n",
              "      <th>tags</th>\n",
              "      <th>nutrition</th>\n",
              "      <th>n_steps</th>\n",
              "      <th>steps</th>\n",
              "      <th>description</th>\n",
              "      <th>ingredients</th>\n",
              "      <th>n_ingredients</th>\n",
              "    </tr>\n",
              "  </thead>\n",
              "  <tbody>\n",
              "    <tr>\n",
              "      <th>0</th>\n",
              "      <td>arriba   baked winter squash mexican style</td>\n",
              "      <td>137739</td>\n",
              "      <td>55</td>\n",
              "      <td>47892</td>\n",
              "      <td>2005-09-16</td>\n",
              "      <td>['60-minutes-or-less', 'time-to-make', 'course...</td>\n",
              "      <td>[51.5, 0.0, 13.0, 0.0, 2.0, 0.0, 4.0]</td>\n",
              "      <td>11</td>\n",
              "      <td>['make a choice and proceed with recipe', 'dep...</td>\n",
              "      <td>autumn is my favorite time of year to cook! th...</td>\n",
              "      <td>['winter squash', 'mexican seasoning', 'mixed ...</td>\n",
              "      <td>7</td>\n",
              "    </tr>\n",
              "    <tr>\n",
              "      <th>1</th>\n",
              "      <td>a bit different  breakfast pizza</td>\n",
              "      <td>31490</td>\n",
              "      <td>30</td>\n",
              "      <td>26278</td>\n",
              "      <td>2002-06-17</td>\n",
              "      <td>['30-minutes-or-less', 'time-to-make', 'course...</td>\n",
              "      <td>[173.4, 18.0, 0.0, 17.0, 22.0, 35.0, 1.0]</td>\n",
              "      <td>9</td>\n",
              "      <td>['preheat oven to 425 degrees f', 'press dough...</td>\n",
              "      <td>this recipe calls for the crust to be prebaked...</td>\n",
              "      <td>['prepared pizza crust', 'sausage patty', 'egg...</td>\n",
              "      <td>6</td>\n",
              "    </tr>\n",
              "    <tr>\n",
              "      <th>2</th>\n",
              "      <td>all in the kitchen  chili</td>\n",
              "      <td>112140</td>\n",
              "      <td>130</td>\n",
              "      <td>196586</td>\n",
              "      <td>2005-02-25</td>\n",
              "      <td>['time-to-make', 'course', 'preparation', 'mai...</td>\n",
              "      <td>[269.8, 22.0, 32.0, 48.0, 39.0, 27.0, 5.0]</td>\n",
              "      <td>6</td>\n",
              "      <td>['brown ground beef in large pot', 'add choppe...</td>\n",
              "      <td>this modified version of 'mom's' chili was a h...</td>\n",
              "      <td>['ground beef', 'yellow onions', 'diced tomato...</td>\n",
              "      <td>13</td>\n",
              "    </tr>\n",
              "    <tr>\n",
              "      <th>3</th>\n",
              "      <td>alouette  potatoes</td>\n",
              "      <td>59389</td>\n",
              "      <td>45</td>\n",
              "      <td>68585</td>\n",
              "      <td>2003-04-14</td>\n",
              "      <td>['60-minutes-or-less', 'time-to-make', 'course...</td>\n",
              "      <td>[368.1, 17.0, 10.0, 2.0, 14.0, 8.0, 20.0]</td>\n",
              "      <td>11</td>\n",
              "      <td>['place potatoes in a large pot of lightly sal...</td>\n",
              "      <td>this is a super easy, great tasting, make ahea...</td>\n",
              "      <td>['spreadable cheese with garlic and herbs', 'n...</td>\n",
              "      <td>11</td>\n",
              "    </tr>\n",
              "    <tr>\n",
              "      <th>4</th>\n",
              "      <td>amish  tomato ketchup  for canning</td>\n",
              "      <td>44061</td>\n",
              "      <td>190</td>\n",
              "      <td>41706</td>\n",
              "      <td>2002-10-25</td>\n",
              "      <td>['weeknight', 'time-to-make', 'course', 'main-...</td>\n",
              "      <td>[352.9, 1.0, 337.0, 23.0, 3.0, 0.0, 28.0]</td>\n",
              "      <td>5</td>\n",
              "      <td>['mix all ingredients&amp; boil for 2 1 / 2 hours ...</td>\n",
              "      <td>my dh's amish mother raised him on this recipe...</td>\n",
              "      <td>['tomato juice', 'apple cider vinegar', 'sugar...</td>\n",
              "      <td>8</td>\n",
              "    </tr>\n",
              "  </tbody>\n",
              "</table>\n",
              "</div>"
            ],
            "text/plain": [
              "                                         name      id  minutes  \\\n",
              "0  arriba   baked winter squash mexican style  137739       55   \n",
              "1            a bit different  breakfast pizza   31490       30   \n",
              "2                   all in the kitchen  chili  112140      130   \n",
              "3                          alouette  potatoes   59389       45   \n",
              "4          amish  tomato ketchup  for canning   44061      190   \n",
              "\n",
              "   contributor_id   submitted  \\\n",
              "0           47892  2005-09-16   \n",
              "1           26278  2002-06-17   \n",
              "2          196586  2005-02-25   \n",
              "3           68585  2003-04-14   \n",
              "4           41706  2002-10-25   \n",
              "\n",
              "                                                tags  \\\n",
              "0  ['60-minutes-or-less', 'time-to-make', 'course...   \n",
              "1  ['30-minutes-or-less', 'time-to-make', 'course...   \n",
              "2  ['time-to-make', 'course', 'preparation', 'mai...   \n",
              "3  ['60-minutes-or-less', 'time-to-make', 'course...   \n",
              "4  ['weeknight', 'time-to-make', 'course', 'main-...   \n",
              "\n",
              "                                    nutrition  n_steps  \\\n",
              "0       [51.5, 0.0, 13.0, 0.0, 2.0, 0.0, 4.0]       11   \n",
              "1   [173.4, 18.0, 0.0, 17.0, 22.0, 35.0, 1.0]        9   \n",
              "2  [269.8, 22.0, 32.0, 48.0, 39.0, 27.0, 5.0]        6   \n",
              "3   [368.1, 17.0, 10.0, 2.0, 14.0, 8.0, 20.0]       11   \n",
              "4   [352.9, 1.0, 337.0, 23.0, 3.0, 0.0, 28.0]        5   \n",
              "\n",
              "                                               steps  \\\n",
              "0  ['make a choice and proceed with recipe', 'dep...   \n",
              "1  ['preheat oven to 425 degrees f', 'press dough...   \n",
              "2  ['brown ground beef in large pot', 'add choppe...   \n",
              "3  ['place potatoes in a large pot of lightly sal...   \n",
              "4  ['mix all ingredients& boil for 2 1 / 2 hours ...   \n",
              "\n",
              "                                         description  \\\n",
              "0  autumn is my favorite time of year to cook! th...   \n",
              "1  this recipe calls for the crust to be prebaked...   \n",
              "2  this modified version of 'mom's' chili was a h...   \n",
              "3  this is a super easy, great tasting, make ahea...   \n",
              "4  my dh's amish mother raised him on this recipe...   \n",
              "\n",
              "                                         ingredients  n_ingredients  \n",
              "0  ['winter squash', 'mexican seasoning', 'mixed ...              7  \n",
              "1  ['prepared pizza crust', 'sausage patty', 'egg...              6  \n",
              "2  ['ground beef', 'yellow onions', 'diced tomato...             13  \n",
              "3  ['spreadable cheese with garlic and herbs', 'n...             11  \n",
              "4  ['tomato juice', 'apple cider vinegar', 'sugar...              8  "
            ]
          },
          "execution_count": 41,
          "metadata": {},
          "output_type": "execute_result"
        }
      ],
      "source": [
        "raw_recipes = pd.read_csv('./sample_data/RAW_recipes.csv')\n",
        "raw_interactions = pd.read_csv('./sample_data/RAW_interactions.csv')\n",
        "raw_recipes.head()"
      ]
    },
    {
      "cell_type": "markdown",
      "metadata": {
        "id": "9_z_pQgv4fvC"
      },
      "source": [
        "Merge data interactions with recipe infos"
      ]
    },
    {
      "cell_type": "code",
      "execution_count": 42,
      "metadata": {
        "colab": {
          "base_uri": "https://localhost:8080/",
          "height": 293
        },
        "id": "ahU35J7P31xt",
        "outputId": "f26e3ef4-cfee-4ecd-b0bd-44e31a36503b"
      },
      "outputs": [
        {
          "data": {
            "text/html": [
              "<div>\n",
              "<style scoped>\n",
              "    .dataframe tbody tr th:only-of-type {\n",
              "        vertical-align: middle;\n",
              "    }\n",
              "\n",
              "    .dataframe tbody tr th {\n",
              "        vertical-align: top;\n",
              "    }\n",
              "\n",
              "    .dataframe thead th {\n",
              "        text-align: right;\n",
              "    }\n",
              "</style>\n",
              "<table border=\"1\" class=\"dataframe\">\n",
              "  <thead>\n",
              "    <tr style=\"text-align: right;\">\n",
              "      <th></th>\n",
              "      <th>user_id</th>\n",
              "      <th>recipe_id</th>\n",
              "      <th>rating</th>\n",
              "      <th>recipe_name</th>\n",
              "      <th>tags</th>\n",
              "      <th>ingredients</th>\n",
              "    </tr>\n",
              "  </thead>\n",
              "  <tbody>\n",
              "    <tr>\n",
              "      <th>0</th>\n",
              "      <td>38094</td>\n",
              "      <td>40893</td>\n",
              "      <td>4</td>\n",
              "      <td>white bean   green chile pepper soup</td>\n",
              "      <td>['weeknight', 'time-to-make', 'course', 'main-...</td>\n",
              "      <td>['great northern beans', 'yellow onion', 'dice...</td>\n",
              "    </tr>\n",
              "    <tr>\n",
              "      <th>1</th>\n",
              "      <td>1293707</td>\n",
              "      <td>40893</td>\n",
              "      <td>5</td>\n",
              "      <td>white bean   green chile pepper soup</td>\n",
              "      <td>['weeknight', 'time-to-make', 'course', 'main-...</td>\n",
              "      <td>['great northern beans', 'yellow onion', 'dice...</td>\n",
              "    </tr>\n",
              "    <tr>\n",
              "      <th>2</th>\n",
              "      <td>8937</td>\n",
              "      <td>44394</td>\n",
              "      <td>4</td>\n",
              "      <td>devilicious cookie cake delights</td>\n",
              "      <td>['30-minutes-or-less', 'time-to-make', 'course...</td>\n",
              "      <td>[\"devil's food cake mix\", 'vegetable oil', 'eg...</td>\n",
              "    </tr>\n",
              "    <tr>\n",
              "      <th>3</th>\n",
              "      <td>126440</td>\n",
              "      <td>85009</td>\n",
              "      <td>5</td>\n",
              "      <td>baked potato toppings</td>\n",
              "      <td>['15-minutes-or-less', 'time-to-make', 'course...</td>\n",
              "      <td>['mayonnaise', 'salsa', 'cheddar cheese', 'ref...</td>\n",
              "    </tr>\n",
              "    <tr>\n",
              "      <th>4</th>\n",
              "      <td>57222</td>\n",
              "      <td>85009</td>\n",
              "      <td>5</td>\n",
              "      <td>baked potato toppings</td>\n",
              "      <td>['15-minutes-or-less', 'time-to-make', 'course...</td>\n",
              "      <td>['mayonnaise', 'salsa', 'cheddar cheese', 'ref...</td>\n",
              "    </tr>\n",
              "  </tbody>\n",
              "</table>\n",
              "</div>"
            ],
            "text/plain": [
              "   user_id  recipe_id  rating                           recipe_name  \\\n",
              "0    38094      40893       4  white bean   green chile pepper soup   \n",
              "1  1293707      40893       5  white bean   green chile pepper soup   \n",
              "2     8937      44394       4      devilicious cookie cake delights   \n",
              "3   126440      85009       5                 baked potato toppings   \n",
              "4    57222      85009       5                 baked potato toppings   \n",
              "\n",
              "                                                tags  \\\n",
              "0  ['weeknight', 'time-to-make', 'course', 'main-...   \n",
              "1  ['weeknight', 'time-to-make', 'course', 'main-...   \n",
              "2  ['30-minutes-or-less', 'time-to-make', 'course...   \n",
              "3  ['15-minutes-or-less', 'time-to-make', 'course...   \n",
              "4  ['15-minutes-or-less', 'time-to-make', 'course...   \n",
              "\n",
              "                                         ingredients  \n",
              "0  ['great northern beans', 'yellow onion', 'dice...  \n",
              "1  ['great northern beans', 'yellow onion', 'dice...  \n",
              "2  [\"devil's food cake mix\", 'vegetable oil', 'eg...  \n",
              "3  ['mayonnaise', 'salsa', 'cheddar cheese', 'ref...  \n",
              "4  ['mayonnaise', 'salsa', 'cheddar cheese', 'ref...  "
            ]
          },
          "execution_count": 42,
          "metadata": {},
          "output_type": "execute_result"
        }
      ],
      "source": [
        "interactions_with_recipe_info = pd.merge(raw_interactions, raw_recipes[['name', 'tags', 'ingredients', 'id']], left_on='recipe_id', right_on='id', how='left')\n",
        "interactions_with_recipe_info = interactions_with_recipe_info[['user_id', 'recipe_id', 'rating', 'name', 'tags', 'ingredients']]\n",
        "interactions_with_recipe_info.rename(columns={'name': 'recipe_name'}, inplace=True)\n",
        "interactions_with_recipe_info.head()"
      ]
    },
    {
      "cell_type": "code",
      "execution_count": 43,
      "metadata": {
        "id": "a47R5lVA2r_t"
      },
      "outputs": [],
      "source": [
        "import ast\n",
        "\n",
        "def convert_to_list(data_str):\n",
        "  try:\n",
        "    return ast.literal_eval(data_str)\n",
        "  except (SyntaxError, ValueError):\n",
        "    return []"
      ]
    },
    {
      "cell_type": "code",
      "execution_count": 44,
      "metadata": {
        "id": "Fai3Kw-i7xmw"
      },
      "outputs": [],
      "source": [
        "interactions_with_recipe_info['ingredients_str'] = interactions_with_recipe_info['ingredients'].apply(convert_to_list)\n",
        "interactions_with_recipe_info['tags_str'] = interactions_with_recipe_info['tags'].apply(convert_to_list)\n",
        "\n",
        "raw_recipes['ingredients_str'] = raw_recipes['ingredients'].apply(convert_to_list)\n",
        "raw_recipes['tags_str'] = raw_recipes['tags'].apply(convert_to_list)"
      ]
    },
    {
      "cell_type": "code",
      "execution_count": 12,
      "metadata": {},
      "outputs": [
        {
          "data": {
            "text/plain": [
              "array([ 9,  4, 13,  2, 12, 10, 16,  8, 14, 15,  7, 11,  6,  5, 23, 22, 17,\n",
              "        3, 18, 19, 21, 26, 29, 24, 20, 27, 25, 33, 30, 31,  1, 28, 35, 32,\n",
              "       34, 43, 40, 39, 37, 36, 38], dtype=int64)"
            ]
          },
          "execution_count": 12,
          "metadata": {},
          "output_type": "execute_result"
        }
      ],
      "source": [
        "interactions_with_recipe_info['ingredients_str'].str.len().unique()"
      ]
    },
    {
      "cell_type": "markdown",
      "metadata": {
        "id": "nVgYKJQ57wyE"
      },
      "source": [
        "Formatting data for Datasets"
      ]
    },
    {
      "cell_type": "code",
      "execution_count": 45,
      "metadata": {
        "id": "6wavCmee7zWl"
      },
      "outputs": [],
      "source": [
        "interactions_with_recipe_info['user_id'] = interactions_with_recipe_info.user_id.astype(\"str\")\n",
        "interactions_with_recipe_info['recipe_id'] = interactions_with_recipe_info.recipe_id.astype(\"str\")\n",
        "interactions_with_recipe_info['rating'] = interactions_with_recipe_info.rating.astype(np.float32)\n",
        "interactions_with_recipe_info['recipe_name'] = interactions_with_recipe_info.recipe_name.astype(\"str\")\n",
        "interactions_with_recipe_info['tags'] = interactions_with_recipe_info.tags.astype(\"str\")\n",
        "interactions_with_recipe_info['ingredients'] = interactions_with_recipe_info.ingredients.astype(\"str\")\n"
      ]
    },
    {
      "cell_type": "markdown",
      "metadata": {
        "id": "ZMXuOAHX9sgD"
      },
      "source": [
        "Creating train preferences for users"
      ]
    },
    {
      "cell_type": "code",
      "execution_count": 46,
      "metadata": {
        "colab": {
          "base_uri": "https://localhost:8080/",
          "height": 206
        },
        "id": "4XwFlxfM9wJI",
        "outputId": "c018cb40-8d45-400f-93bf-e5dc2ee5b992"
      },
      "outputs": [
        {
          "data": {
            "text/html": [
              "<div>\n",
              "<style scoped>\n",
              "    .dataframe tbody tr th:only-of-type {\n",
              "        vertical-align: middle;\n",
              "    }\n",
              "\n",
              "    .dataframe tbody tr th {\n",
              "        vertical-align: top;\n",
              "    }\n",
              "\n",
              "    .dataframe thead th {\n",
              "        text-align: right;\n",
              "    }\n",
              "</style>\n",
              "<table border=\"1\" class=\"dataframe\">\n",
              "  <thead>\n",
              "    <tr style=\"text-align: right;\">\n",
              "      <th></th>\n",
              "      <th>user_id</th>\n",
              "      <th>rating</th>\n",
              "      <th>tags_str</th>\n",
              "    </tr>\n",
              "  </thead>\n",
              "  <tbody>\n",
              "    <tr>\n",
              "      <th>0</th>\n",
              "      <td>38094</td>\n",
              "      <td>4.0</td>\n",
              "      <td>[weeknight, time-to-make, course, main-ingredi...</td>\n",
              "    </tr>\n",
              "    <tr>\n",
              "      <th>1</th>\n",
              "      <td>1293707</td>\n",
              "      <td>5.0</td>\n",
              "      <td>[weeknight, time-to-make, course, main-ingredi...</td>\n",
              "    </tr>\n",
              "    <tr>\n",
              "      <th>2</th>\n",
              "      <td>8937</td>\n",
              "      <td>4.0</td>\n",
              "      <td>[30-minutes-or-less, time-to-make, course, mai...</td>\n",
              "    </tr>\n",
              "    <tr>\n",
              "      <th>3</th>\n",
              "      <td>126440</td>\n",
              "      <td>5.0</td>\n",
              "      <td>[15-minutes-or-less, time-to-make, course, mai...</td>\n",
              "    </tr>\n",
              "    <tr>\n",
              "      <th>4</th>\n",
              "      <td>57222</td>\n",
              "      <td>5.0</td>\n",
              "      <td>[15-minutes-or-less, time-to-make, course, mai...</td>\n",
              "    </tr>\n",
              "  </tbody>\n",
              "</table>\n",
              "</div>"
            ],
            "text/plain": [
              "   user_id  rating                                           tags_str\n",
              "0    38094     4.0  [weeknight, time-to-make, course, main-ingredi...\n",
              "1  1293707     5.0  [weeknight, time-to-make, course, main-ingredi...\n",
              "2     8937     4.0  [30-minutes-or-less, time-to-make, course, mai...\n",
              "3   126440     5.0  [15-minutes-or-less, time-to-make, course, mai...\n",
              "4    57222     5.0  [15-minutes-or-less, time-to-make, course, mai..."
            ]
          },
          "execution_count": 46,
          "metadata": {},
          "output_type": "execute_result"
        }
      ],
      "source": [
        "user_preferences = interactions_with_recipe_info[['user_id', 'rating', 'tags_str']]\n",
        "user_preferences.head()"
      ]
    },
    {
      "cell_type": "code",
      "execution_count": 47,
      "metadata": {
        "id": "RN5oeRb--M5o"
      },
      "outputs": [],
      "source": [
        "user_liked_tags = user_preferences[user_preferences['rating'] >= 3].groupby('user_id')['tags_str'].apply(list).reset_index()\n",
        "user_unliked_tags = user_preferences[user_preferences['rating'] < 3].groupby('user_id')['tags_str'].apply(list).reset_index()\n",
        "users_ds = pd.DataFrame(interactions_with_recipe_info['user_id'].unique(), columns=['user_id'])\n"
      ]
    },
    {
      "cell_type": "code",
      "execution_count": 48,
      "metadata": {
        "id": "swe2hQ9dBZsI"
      },
      "outputs": [],
      "source": [
        "users_ds = users_ds.merge(user_liked_tags, on='user_id', how='left')\n",
        "users_ds = users_ds.rename(columns={'tags_str': 'liked_tags'})\n",
        "users_ds = users_ds.merge(user_unliked_tags, on='user_id', how='left')\n",
        "users_ds = users_ds.rename(columns={'tags_str': 'unliked_tags'})"
      ]
    },
    {
      "cell_type": "code",
      "execution_count": null,
      "metadata": {
        "colab": {
          "base_uri": "https://localhost:8080/",
          "height": 206
        },
        "id": "M2fouB8BCOLp",
        "outputId": "f28b08de-b1ec-49c8-8dc9-6a88074c7444"
      },
      "outputs": [],
      "source": [
        "users_ds.head()"
      ]
    },
    {
      "cell_type": "markdown",
      "metadata": {
        "id": "O9knZ5NNC1C0"
      },
      "source": [
        "Looking that some of users don't have unliked_tags, so replace all Nan with empty arrays"
      ]
    },
    {
      "cell_type": "code",
      "execution_count": 49,
      "metadata": {
        "id": "eZUt0mAcDLVQ"
      },
      "outputs": [],
      "source": [
        "def unique_tags_in_list(tags_list):\n",
        "  if isinstance(tags_list, list):\n",
        "    unique_tags = []\n",
        "    for sublist in tags_list:\n",
        "      if isinstance(sublist, list):\n",
        "        for tag in sublist:\n",
        "          if tag not in unique_tags:\n",
        "            unique_tags.append(tag)\n",
        "    return unique_tags\n",
        "  else:\n",
        "    return []\n",
        "\n",
        "users_ds['liked_tags'] = users_ds['liked_tags'].apply(unique_tags_in_list)\n",
        "users_ds['unliked_tags'] = users_ds['unliked_tags'].apply(unique_tags_in_list)"
      ]
    },
    {
      "cell_type": "code",
      "execution_count": 50,
      "metadata": {
        "id": "OpuGJ1nTFoVR"
      },
      "outputs": [],
      "source": [
        "def remove_duplicate_tags(row):\n",
        "  liked_tags = set(row['liked_tags']) if isinstance(row['liked_tags'], list) else set()\n",
        "  unliked_tags = set(row['unliked_tags']) if isinstance(row['unliked_tags'], list) else set()\n",
        "  duplicate_tags = liked_tags.intersection(unliked_tags)\n",
        "  row['liked_tags'] = [tag for tag in row['liked_tags'] if tag not in duplicate_tags] if isinstance(row['liked_tags'], list) else []\n",
        "  row['unliked_tags'] = [tag for tag in row['unliked_tags'] if tag not in duplicate_tags] if isinstance(row['unliked_tags'], list) else []\n",
        "  return row\n",
        "\n",
        "users_ds = users_ds.apply(remove_duplicate_tags, axis=1)\n"
      ]
    },
    {
      "cell_type": "code",
      "execution_count": null,
      "metadata": {
        "colab": {
          "base_uri": "https://localhost:8080/",
          "height": 206
        },
        "id": "9qRO0tcMF9-X",
        "outputId": "bdbccbcd-2a5f-48c4-a981-76a5231cc610"
      },
      "outputs": [],
      "source": [
        "users_ds.head()"
      ]
    },
    {
      "cell_type": "code",
      "execution_count": 51,
      "metadata": {
        "id": "GjbluG3mGqXq"
      },
      "outputs": [],
      "source": [
        "interactions_with_recipe_info = pd.merge(interactions_with_recipe_info, users_ds, on='user_id', how='left')"
      ]
    },
    {
      "cell_type": "markdown",
      "metadata": {
        "id": "nzycE1Re7X9i"
      },
      "source": [
        "Creating datasets"
      ]
    },
    {
      "cell_type": "code",
      "execution_count": 52,
      "metadata": {},
      "outputs": [],
      "source": [
        "# Параметры\n",
        "MAX_TAG_LENGTH = 30\n",
        "PADDING_VALUE = \"empty\"\n",
        "\n",
        "interactions_with_recipe_info['liked_tags'] = [\n",
        "    (tags + [PADDING_VALUE] * (MAX_TAG_LENGTH - len(tags)))[:MAX_TAG_LENGTH] \n",
        "    for tags in interactions_with_recipe_info['liked_tags']\n",
        "]\n",
        "interactions_with_recipe_info['unliked_tags'] = [\n",
        "    (tags + [PADDING_VALUE] * (MAX_TAG_LENGTH - len(tags)))[:MAX_TAG_LENGTH] \n",
        "    for tags in interactions_with_recipe_info['unliked_tags']\n",
        "]\n",
        "interactions_with_recipe_info['ingredients_str'] =  [\n",
        "    (tags + [PADDING_VALUE] * (MAX_TAG_LENGTH - len(tags)))[:MAX_TAG_LENGTH] \n",
        "    for tags in interactions_with_recipe_info['ingredients_str'] ]\n",
        "\n",
        "interactions_with_recipe_info['tags_str'] =  [\n",
        "    (tags + [PADDING_VALUE] * (MAX_TAG_LENGTH - len(tags)))[:MAX_TAG_LENGTH] \n",
        "    for tags in interactions_with_recipe_info['tags_str'] ]\n",
        "\n",
        "raw_recipes['tags_str'] = [\n",
        "    (tags + [PADDING_VALUE] * (MAX_TAG_LENGTH - len(tags)))[:MAX_TAG_LENGTH] \n",
        "    for tags in raw_recipes['tags_str'] ]\n",
        "\n",
        "raw_recipes['ingredients_str'] = [\n",
        "    (tags + [PADDING_VALUE] * (MAX_TAG_LENGTH - len(tags)))[:MAX_TAG_LENGTH] \n",
        "    for tags in raw_recipes['ingredients_str'] ]"
      ]
    },
    {
      "cell_type": "code",
      "execution_count": 53,
      "metadata": {},
      "outputs": [
        {
          "data": {
            "text/plain": [
              "(array([30], dtype=int64), array([30], dtype=int64))"
            ]
          },
          "execution_count": 53,
          "metadata": {},
          "output_type": "execute_result"
        }
      ],
      "source": [
        "interactions_with_recipe_info['ingredients_str'].str.len().unique(), interactions_with_recipe_info['unliked_tags'].str.len().unique(), "
      ]
    },
    {
      "cell_type": "code",
      "execution_count": 60,
      "metadata": {
        "id": "aZMJRewvLYJb"
      },
      "outputs": [],
      "source": [
        "interactions_with_recipe_info['liked_tags_str'] = interactions_with_recipe_info['liked_tags'].apply(lambda x: ','.join(x))\n",
        "interactions_with_recipe_info['unliked_tags_str'] = interactions_with_recipe_info['unliked_tags'].apply(lambda x: ','.join(x))\n",
        "interactions_with_recipe_info['tags_str'] = interactions_with_recipe_info['tags_str'].apply(lambda x: ','.join(x))"
      ]
    },
    {
      "cell_type": "code",
      "execution_count": 55,
      "metadata": {
        "id": "2l72F9aCLw46"
      },
      "outputs": [],
      "source": [
        "def split_tags(tags_string):\n",
        "    return tf.strings.split(tf.strings.strip(tags_string), ',')"
      ]
    },
    {
      "cell_type": "code",
      "execution_count": null,
      "metadata": {},
      "outputs": [],
      "source": [
        "tf.compat.v1.enable_eager_execution()"
      ]
    },
    {
      "cell_type": "code",
      "execution_count": 61,
      "metadata": {
        "id": "1QwBdlgU7Xms"
      },
      "outputs": [],
      "source": [
        "def squeeze_tags(data):\n",
        "    return {\n",
        "        \"user_id\": data[\"user_id\"],\n",
        "        \"recipe_id\": data[\"recipe_id\"],\n",
        "        \"rating\": data[\"rating\"],\n",
        "        \"recipe_name\": data[\"recipe_name\"],\n",
        "        \"tags\": tf.squeeze(data[\"tags\"], axis=0),  # Укажите ось, которую нужно удалить\n",
        "        \"liked_tags\": tf.squeeze(data[\"liked_tags\"], axis=0),  # Укажите ось, которую нужно удалить\n",
        "        \"unliked_tags\": tf.squeeze(data[\"unliked_tags\"], axis=0)  # Укажите ось, которую нужно удалить\n",
        "    }\n",
        "\n",
        "ratings = tf.data.Dataset.from_tensor_slices((tf.cast(interactions_with_recipe_info['user_id'].values, tf.string),\n",
        "                                              tf.cast(interactions_with_recipe_info['recipe_id'].values, tf.string),\n",
        "                                              tf.cast(interactions_with_recipe_info['rating'].values, tf.float32),\n",
        "                                              tf.cast(interactions_with_recipe_info['recipe_name'].values, tf.string),\n",
        "                                              tf.cast(interactions_with_recipe_info['tags_str'].values.reshape(-1,1), tf.string),\n",
        "                                              tf.cast(interactions_with_recipe_info['liked_tags_str'].values.reshape(-1,1), tf.string),\n",
        "                                              tf.cast(interactions_with_recipe_info['unliked_tags_str'].values.reshape(-1,1), tf.string)\n",
        "                                              )).map(lambda x, x1, x2, x3, x4, x5, x6: {\n",
        "                                                  \"user_id\": x,\n",
        "                                                  \"recipe_id\": x1,\n",
        "                                                  \"rating\": x2,\n",
        "                                                  \"recipe_name\": x3,\n",
        "                                                  \"tags\": split_tags(x4),\n",
        "                                                  \"liked_tags\": split_tags(x5),\n",
        "                                                  \"unliked_tags\": split_tags(x6)\n",
        "                                              }).map(squeeze_tags)\n"
      ]
    },
    {
      "cell_type": "code",
      "execution_count": 62,
      "metadata": {},
      "outputs": [
        {
          "name": "stdout",
          "output_type": "stream",
          "text": [
            "{'user_id': b'38094', 'recipe_id': b'40893', 'rating': 4.0, 'recipe_name': b'white bean   green chile pepper soup', 'tags': array([b'weeknight', b'time-to-make', b'course', b'main-ingredient',\n",
            "       b'preparation', b'occasion', b'soups-stews', b'beans',\n",
            "       b'vegetables', b'easy', b'crock-pot-slow-cooker', b'dietary',\n",
            "       b'equipment', b'empty', b'empty', b'empty', b'empty', b'empty',\n",
            "       b'empty', b'empty', b'empty', b'empty', b'empty', b'empty',\n",
            "       b'empty', b'empty', b'empty', b'empty', b'empty', b'empty'],\n",
            "      dtype=object), 'liked_tags': array([b'weeknight', b'time-to-make', b'course', b'main-ingredient',\n",
            "       b'preparation', b'occasion', b'soups-stews', b'beans',\n",
            "       b'vegetables', b'easy', b'crock-pot-slow-cooker', b'dietary',\n",
            "       b'equipment', b'60-minutes-or-less', b'main-dish', b'fruit',\n",
            "       b'vegan', b'vegetarian', b'stove-top', b'black-beans',\n",
            "       b'30-minutes-or-less', b'low-protein', b'salads', b'dinner-party',\n",
            "       b'low-cholesterol', b'low-carb', b'healthy-2', b'low-in-something',\n",
            "       b'for-1-or-2', b'side-dishes'], dtype=object), 'unliked_tags': array([b'empty', b'empty', b'empty', b'empty', b'empty', b'empty',\n",
            "       b'empty', b'empty', b'empty', b'empty', b'empty', b'empty',\n",
            "       b'empty', b'empty', b'empty', b'empty', b'empty', b'empty',\n",
            "       b'empty', b'empty', b'empty', b'empty', b'empty', b'empty',\n",
            "       b'empty', b'empty', b'empty', b'empty', b'empty', b'empty'],\n",
            "      dtype=object)}\n"
          ]
        }
      ],
      "source": [
        "for data in ratings.take(1).as_numpy_iterator():\n",
        "    print(data)"
      ]
    },
    {
      "cell_type": "code",
      "execution_count": 66,
      "metadata": {
        "id": "8MS4nMhHMDgp"
      },
      "outputs": [],
      "source": [
        "raw_recipes['ingredients_str'] = raw_recipes['ingredients_str'].apply(lambda x: ','.join(x))\n",
        "raw_recipes['tags_str'] = raw_recipes['tags_str'].apply(lambda x: ','.join(x))"
      ]
    },
    {
      "cell_type": "code",
      "execution_count": null,
      "metadata": {
        "colab": {
          "base_uri": "https://localhost:8080/",
          "height": 293
        },
        "id": "rqtiorEQMH8R",
        "outputId": "0cb1b61d-3171-4534-ec3b-1a6d617531ed"
      },
      "outputs": [],
      "source": [
        "raw_recipes.head()"
      ]
    },
    {
      "cell_type": "code",
      "execution_count": 67,
      "metadata": {
        "id": "i8HzpEQW_YZw"
      },
      "outputs": [],
      "source": [
        "raw_recipes['id'] = raw_recipes.id.astype(\"str\")\n",
        "raw_recipes['name'] = raw_recipes.name.astype(\"str\")\n",
        "raw_recipes['tags'] = raw_recipes.tags.astype(\"str\")\n",
        "raw_recipes['ingredients'] = raw_recipes.ingredients.astype(\"str\")"
      ]
    },
    {
      "cell_type": "code",
      "execution_count": null,
      "metadata": {},
      "outputs": [],
      "source": [
        "raw_recipes['name'][:1]"
      ]
    },
    {
      "cell_type": "code",
      "execution_count": 68,
      "metadata": {
        "colab": {
          "base_uri": "https://localhost:8080/"
        },
        "id": "PvNaaXXCPzK2",
        "outputId": "d096fdf6-825f-4105-b630-1f8c0d177652"
      },
      "outputs": [
        {
          "name": "stdout",
          "output_type": "stream",
          "text": [
            "{'recipe_id': b'137739', 'recipe_name': b'arriba   baked winter squash mexican style', 'tags': array([b'60-minutes-or-less', b'time-to-make', b'course',\n",
            "       b'main-ingredient', b'cuisine', b'preparation', b'occasion',\n",
            "       b'north-american', b'side-dishes', b'vegetables', b'mexican',\n",
            "       b'easy', b'fall', b'holiday-event', b'vegetarian', b'winter',\n",
            "       b'dietary', b'christmas', b'seasonal', b'squash', b'empty',\n",
            "       b'empty', b'empty', b'empty', b'empty', b'empty', b'empty',\n",
            "       b'empty', b'empty', b'empty'], dtype=object)}\n"
          ]
        }
      ],
      "source": [
        "# prompt: Создай на основе raw_recipes датасет, но учти что ingredients_str это массив\n",
        "\n",
        "recipes = tf.data.Dataset.from_tensor_slices((tf.cast(raw_recipes['id'].values, tf.string),\n",
        "                                              tf.cast(raw_recipes['name'].values, tf.string),\n",
        "                                              tf.cast(raw_recipes['tags_str'].values.reshape(-1, 1), tf.string)\n",
        "                                            #   tf.cast(raw_recipes['ingredients_str'].values.reshape(-1, 1), tf.string),\n",
        "                                              )\n",
        "                                             ).map(lambda x, x1, x2: {\n",
        "                                                  \"recipe_id\": x,\n",
        "                                                  \"recipe_name\": x1,\n",
        "                                                  \"tags\": split_tags(x2),\n",
        "                                                #   \"ingredients\": split_tags(x3)\n",
        "                                              }).map(lambda data: {\n",
        "        **data,\n",
        "        \"tags\": tf.squeeze(data[\"tags\"], axis=0)  # Удаляем дополнительные измерения\n",
        "        # \"ingredients\": tf.squeeze(data[\"ingredients\"], axis=0)  # Удаляем дополнительные измерения\n",
        "    })\n",
        "\n",
        "for data in recipes.take(1).as_numpy_iterator():\n",
        "  print(data.tags)\n"
      ]
    },
    {
      "cell_type": "code",
      "execution_count": 73,
      "metadata": {},
      "outputs": [
        {
          "name": "stdout",
          "output_type": "stream",
          "text": [
            "[30]\n"
          ]
        }
      ],
      "source": [
        "sizes = []\n",
        "for data in recipes.as_numpy_iterator():\n",
        "  sizes.append(len(data[\"tags\"]))\n",
        "print(np.unique(sizes))  "
      ]
    },
    {
      "cell_type": "code",
      "execution_count": 74,
      "metadata": {
        "id": "jxTLSUjNgCLs"
      },
      "outputs": [],
      "source": [
        "recipe_names = tf.data.Dataset.from_tensor_slices((tf.cast(raw_recipes['name'].values.reshape(-1, 1), tf.string))).map(lambda x: x)"
      ]
    },
    {
      "cell_type": "markdown",
      "metadata": {
        "id": "3L-UtJ6K5N2B"
      },
      "source": [
        "# Towers 🗼"
      ]
    },
    {
      "cell_type": "markdown",
      "metadata": {
        "id": "oWGCI8IYBx3Z"
      },
      "source": [
        "For our towers set dimensionality of the query and candidate representations: **32**. Higher values will correspond to models that may be more accurate, but will also be slower to fit and more prone to overfitting."
      ]
    },
    {
      "cell_type": "code",
      "execution_count": 75,
      "metadata": {
        "id": "8H35ROAtB2L2"
      },
      "outputs": [],
      "source": [
        "embedding_dimension = 32"
      ]
    },
    {
      "cell_type": "markdown",
      "metadata": {
        "id": "UGLl4NdNBHoH"
      },
      "source": [
        "## User tower 👷"
      ]
    },
    {
      "cell_type": "markdown",
      "metadata": {
        "id": "S_w7g9Se6Lk_"
      },
      "source": [
        "Lets start creating our towers with User towers. We will compute by:\n",
        "1. User id\n",
        "2. Prefers and hates"
      ]
    },
    {
      "cell_type": "markdown",
      "metadata": {
        "id": "O0pr_riLBCKa"
      },
      "source": [
        "### User ID model"
      ]
    },
    {
      "cell_type": "code",
      "execution_count": 76,
      "metadata": {
        "colab": {
          "base_uri": "https://localhost:8080/"
        },
        "id": "IVERCEAMPPbE",
        "outputId": "e2631cda-7833-44b7-b005-542bb5f24933"
      },
      "outputs": [
        {
          "data": {
            "text/plain": [
              "array(['38094', '1293707', '8937', '126440', '57222', '52282', '124416',\n",
              "       '2000192946', '76535', '273745'], dtype=object)"
            ]
          },
          "execution_count": 76,
          "metadata": {},
          "output_type": "execute_result"
        }
      ],
      "source": [
        "unique_user_ids = users_ds[\"user_id\"].unique()\n",
        "unique_user_ids[:10]"
      ]
    },
    {
      "cell_type": "code",
      "execution_count": 77,
      "metadata": {
        "id": "4DU-YbghCPJx"
      },
      "outputs": [
        {
          "name": "stdout",
          "output_type": "stream",
          "text": [
            "WARNING:tensorflow:From C:\\Users\\azdanevy\\AppData\\Roaming\\Python\\Python310\\site-packages\\keras\\src\\backend.py:873: The name tf.get_default_graph is deprecated. Please use tf.compat.v1.get_default_graph instead.\n",
            "\n"
          ]
        }
      ],
      "source": [
        "user_id_model = tf.keras.Sequential([\n",
        "  tf.keras.layers.StringLookup(\n",
        "      vocabulary=unique_user_ids, mask_token=None),\n",
        "  # We add an additional embedding to account for unknown tokens.\n",
        "  tf.keras.layers.Embedding(len(unique_user_ids)+1, embedding_dimension)\n",
        "])"
      ]
    },
    {
      "cell_type": "markdown",
      "metadata": {
        "id": "Q6e5kR2_MsOh"
      },
      "source": [
        "### User Prefers models"
      ]
    },
    {
      "cell_type": "code",
      "execution_count": 78,
      "metadata": {
        "id": "EOzP-NwLMvZI"
      },
      "outputs": [],
      "source": [
        "# prompt: модель для liked_tags которым стоит отдать предпочтение, но учти что liked_tags в датасете это массив\n",
        "\n",
        "unique_liked_tags = set()\n",
        "for tags in users_ds['liked_tags']:\n",
        "  if isinstance(tags, list):\n",
        "    for tag in tags:\n",
        "      unique_liked_tags.add(tag)\n",
        "unique_liked_tags = list(unique_liked_tags)\n",
        "\n",
        "liked_tags_model = tf.keras.Sequential([\n",
        "  tf.keras.layers.StringLookup(\n",
        "      vocabulary=unique_liked_tags, mask_token=None),\n",
        "  tf.keras.layers.Embedding(len(unique_liked_tags) + 1, embedding_dimension)\n",
        "])\n"
      ]
    },
    {
      "cell_type": "code",
      "execution_count": 79,
      "metadata": {
        "colab": {
          "base_uri": "https://localhost:8080/"
        },
        "id": "K_uNmQ2yREWq",
        "outputId": "6221b14d-1fcf-4517-ed41-f13c56f83186"
      },
      "outputs": [
        {
          "data": {
            "text/plain": [
              "['',\n",
              " 'shakes',\n",
              " 'melons',\n",
              " 'easter',\n",
              " 'savory-sauces',\n",
              " 'main-ingredient',\n",
              " 'celebrity',\n",
              " 'micro-melanesia',\n",
              " 'sandwiches',\n",
              " 'oatmeal']"
            ]
          },
          "execution_count": 79,
          "metadata": {},
          "output_type": "execute_result"
        }
      ],
      "source": [
        "unique_liked_tags[:10]"
      ]
    },
    {
      "cell_type": "code",
      "execution_count": 80,
      "metadata": {
        "colab": {
          "base_uri": "https://localhost:8080/"
        },
        "id": "W4vprrUvRb3Y",
        "outputId": "3aa5cd85-e456-4cef-9b17-c8e0d4221dce"
      },
      "outputs": [
        {
          "data": {
            "text/plain": [
              "['',\n",
              " 'shakes',\n",
              " 'melons',\n",
              " 'easter',\n",
              " 'savory-sauces',\n",
              " 'celebrity',\n",
              " 'main-ingredient',\n",
              " 'micro-melanesia',\n",
              " 'sandwiches',\n",
              " 'oatmeal']"
            ]
          },
          "execution_count": 80,
          "metadata": {},
          "output_type": "execute_result"
        }
      ],
      "source": [
        "\n",
        "unique_unliked_tags = set()\n",
        "for tags in users_ds['unliked_tags']:\n",
        "  if isinstance(tags, list):\n",
        "    for tag in tags:\n",
        "      unique_unliked_tags.add(tag)\n",
        "unique_unliked_tags = list(unique_unliked_tags)\n",
        "\n",
        "unliked_tags_model = tf.keras.Sequential([\n",
        "  tf.keras.layers.StringLookup(\n",
        "      vocabulary=unique_unliked_tags, mask_token=None),\n",
        "  tf.keras.layers.Embedding(len(unique_unliked_tags) + 1, embedding_dimension)\n",
        "])\n",
        "unique_unliked_tags[:10]"
      ]
    },
    {
      "cell_type": "markdown",
      "metadata": {
        "id": "5Zt9V_nAHMqp"
      },
      "source": [
        "## Recipe tower 🌭"
      ]
    },
    {
      "cell_type": "code",
      "execution_count": 81,
      "metadata": {
        "colab": {
          "base_uri": "https://localhost:8080/"
        },
        "id": "e3zzDVmWJmSA",
        "outputId": "2b48e837-bb5f-4670-b353-bb91770413dd"
      },
      "outputs": [
        {
          "data": {
            "text/plain": [
              "array(['0 carb   0 cal gummy worms', '0 fat chunky watermelon salsa',\n",
              "       '0 point ice cream  only 1 ingredient', '0 point soup   ww',\n",
              "       '0 point soup  crock pot', '007  martini', '007 cocktail',\n",
              "       '1  2  3  swiss meringue buttercream', '1 00 tangy chicken recipe',\n",
              "       '1 000 artichoke hearts'], dtype='<U85')"
            ]
          },
          "execution_count": 81,
          "metadata": {},
          "output_type": "execute_result"
        }
      ],
      "source": [
        "unique_recipe_names = np.unique(list(raw_recipes[\"name\"].unique()))\n",
        "recipe_name_model = tf.keras.Sequential([\n",
        "  tf.keras.layers.StringLookup(\n",
        "      vocabulary=unique_recipe_names, mask_token=None),\n",
        "  # We add an additional embedding to account for unknown tokens.\n",
        "  tf.keras.layers.Embedding(len(unique_recipe_names) + 1, embedding_dimension)\n",
        "])\n",
        "unique_recipe_names[:10]"
      ]
    },
    {
      "cell_type": "code",
      "execution_count": 82,
      "metadata": {
        "colab": {
          "base_uri": "https://localhost:8080/"
        },
        "id": "h8rZOklso4NX",
        "outputId": "64110b89-9f3f-4cce-e81e-95939b66d3f9"
      },
      "outputs": [
        {
          "name": "stdout",
          "output_type": "stream",
          "text": [
            "WARNING:tensorflow:From C:\\Users\\azdanevy\\AppData\\Roaming\\Python\\Python310\\site-packages\\keras\\src\\utils\\tf_utils.py:492: The name tf.ragged.RaggedTensorValue is deprecated. Please use tf.compat.v1.ragged.RaggedTensorValue instead.\n",
            "\n"
          ]
        },
        {
          "data": {
            "text/plain": [
              "<tf.Tensor: shape=(1, 32), dtype=float32, numpy=\n",
              "array([[ 0.04462362, -0.0411157 ,  0.01327555, -0.00280144,  0.00288799,\n",
              "        -0.02189916, -0.0080206 , -0.03798301, -0.00193814, -0.01662099,\n",
              "        -0.01828358, -0.00580681,  0.02175344, -0.0115008 ,  0.04752484,\n",
              "        -0.00697392, -0.01448102,  0.0471747 ,  0.02936641, -0.04120439,\n",
              "         0.0456428 ,  0.02193146,  0.04568547, -0.04585805, -0.00483686,\n",
              "         0.03381243, -0.00441347, -0.0137526 , -0.04958592,  0.01526498,\n",
              "         0.04224307,  0.04389704]], dtype=float32)>"
            ]
          },
          "execution_count": 82,
          "metadata": {},
          "output_type": "execute_result"
        }
      ],
      "source": [
        "# prompt: напиши вызов recipe_name_model\n",
        "\n",
        "recipe_name_model(['some recipe name'])\n"
      ]
    },
    {
      "cell_type": "markdown",
      "metadata": {
        "id": "q2VwZxnOCg9F"
      },
      "source": [
        "### Recipe ingredient&tag model"
      ]
    },
    {
      "cell_type": "code",
      "execution_count": 83,
      "metadata": {
        "colab": {
          "base_uri": "https://localhost:8080/"
        },
        "id": "QqUQ43gVQIUp",
        "outputId": "49f54edf-1d29-4efc-e338-84c05a6f7e16"
      },
      "outputs": [
        {
          "data": {
            "text/plain": [
              "array(['', '1-day-or-more', '15-minutes-or-less', '3-steps-or-less',\n",
              "       '30-minutes-or-less', '4-hours-or-less', '5-ingredients-or-less',\n",
              "       '60-minutes-or-less',\n",
              "       'Throw the ultimate fiesta with this sopaipillas recipe from Food.com.',\n",
              "       'a1-sauce'], dtype='<U69')"
            ]
          },
          "execution_count": 83,
          "metadata": {},
          "output_type": "execute_result"
        }
      ],
      "source": [
        "unique_tags = set()\n",
        "for tags in raw_recipes['tags'].apply(convert_to_list):\n",
        "  if isinstance(tags, list):\n",
        "    for tag in tags:\n",
        "      unique_tags.add(tag)\n",
        "unique_tags = np.unique(list(unique_tags))\n",
        "\n",
        "recipe_tags_model = tf.keras.Sequential([\n",
        "  tf.keras.layers.StringLookup(\n",
        "      vocabulary=unique_tags, mask_token=None),\n",
        "  tf.keras.layers.Embedding(len(unique_tags) + 1, embedding_dimension)\n",
        "])\n",
        "unique_tags[:10]"
      ]
    },
    {
      "cell_type": "markdown",
      "metadata": {
        "id": "n1dQh7uGI2ow"
      },
      "source": [
        "## Combine models"
      ]
    },
    {
      "cell_type": "code",
      "execution_count": 39,
      "metadata": {},
      "outputs": [],
      "source": [
        "class RecipeModel(tf.keras.Model):\n",
        "    def __init__(self, unique_recipe_names, unique_tags, embedding_dimension):\n",
        "        super().__init__()\n",
        "\n",
        "        self.recipe_model = tf.keras.Sequential([\n",
        "            tf.keras.layers.StringLookup(\n",
        "                vocabulary=unique_recipe_names, mask_token=None),\n",
        "            tf.keras.layers.Embedding(len(unique_recipe_names) + 1, embedding_dimension)\n",
        "        ])\n",
        "    \n",
        "    # Tags embeddings\n",
        "        self.tags_model = tf.keras.Sequential([\n",
        "            tf.keras.layers.StringLookup(\n",
        "                vocabulary=unique_tags, mask_token=None),\n",
        "            tf.keras.layers.Embedding(len(unique_tags) + 1, embedding_dimension)\n",
        "        ])\n",
        "        \n",
        "    def call(self, features):\n",
        "        # Inputs should contain \"recipe_name\" and \"tags\"\n",
        "        recipe_name = features[\"recipe_name\"]\n",
        "        tags = features[\"tags\"]\n",
        "\n",
        "        # Embed recipe name\n",
        "        recipe_embeddings = self.recipe_model(recipe_name)\n",
        "\n",
        "        tags_embeddings = self.tags_model(tags)\n",
        "        if(len(recipe_embeddings.shape.as_list())>=3): \n",
        "        #   recipe_embeddings = tf.reshape(recipe_embeddings, [1,32])\n",
        "           recipe_embeddings = tf.reshape(recipe_embeddings, [1,embedding_dimension])\n",
        "        if(len(tags_embeddings.shape.as_list())>=3):\n",
        "            tags_embeddings = tf.reshape(tags_embeddings, [1,embedding_dimension])\n",
        "        #   tags_embeddings = tf.reshape(tags_embeddings, [1,32])\n",
        "        recipe_embeddings = tf.concat([recipe_embeddings, tags_embeddings], axis=1)\n",
        "        return recipe_embeddings"
      ]
    },
    {
      "cell_type": "code",
      "execution_count": 85,
      "metadata": {},
      "outputs": [],
      "source": [
        "class UserModel(tf.keras.Model):\n",
        "    def __init__(self, unique_user_ids, unique_liked_tags, unique_unliked_tags, embedding_dimension):\n",
        "        super().__init__()\n",
        "        \n",
        "        # User ID embeddings\n",
        "        self.user_id_model = tf.keras.Sequential([\n",
        "            tf.keras.layers.StringLookup(\n",
        "                vocabulary=unique_user_ids, mask_token=None),\n",
        "            tf.keras.layers.Embedding(len(unique_user_ids) + 1, embedding_dimension)\n",
        "        ])\n",
        "        \n",
        "        # Liked tags embeddings\n",
        "        self.liked_tags_model = tf.keras.Sequential([\n",
        "            tf.keras.layers.StringLookup(\n",
        "                vocabulary=unique_liked_tags, mask_token=None),\n",
        "            tf.keras.layers.Embedding(len(unique_liked_tags) + 1, embedding_dimension)\n",
        "        ])\n",
        "\n",
        "        # Unliked tags embeddings\n",
        "        self.unliked_tags_model = tf.keras.Sequential([\n",
        "            tf.keras.layers.StringLookup(\n",
        "                vocabulary=unique_unliked_tags, mask_token=None),\n",
        "            tf.keras.layers.Embedding(len(unique_unliked_tags) + 1, embedding_dimension)\n",
        "        ])\n",
        "\n",
        "        # Penalty weight for unliked tags\n",
        "        self.penalty_weight = -0.5\n",
        "\n",
        "    def call(self, features):\n",
        "        user_id = features[\"user_id\"]\n",
        "        liked_tags = features[\"liked_tags\"]\n",
        "        unliked_tags = features[\"unliked_tags\"]\n",
        "\n",
        "        # Embed user ID\n",
        "        user_id_embedding = self.user_id_model(user_id)\n",
        "        #user_id_embedding = tf.reduce_mean(user_id_embedding, axis=1)\n",
        "\n",
        "        # Embed liked and unliked tags\n",
        "        liked_tags_embedding = self.liked_tags_model(liked_tags)\n",
        "        unliked_tags_embedding = self.unliked_tags_model(unliked_tags)\n",
        "\n",
        "        # Apply penalty to unliked tags\n",
        "        unliked_tags_embedding = unliked_tags_embedding * self.penalty_weight\n",
        "\n",
        "        # Aggregate embeddings\n",
        "        liked_tags_embedding = tf.reduce_mean(liked_tags_embedding, axis=1, keepdims=True)  # (1, 32)\n",
        "        unliked_tags_embedding = tf.reduce_mean(unliked_tags_embedding, axis=1, keepdims=True)  # (1, 32)\n",
        "\n",
        "        # Используйте weighted суммирование для учета штрафов\n",
        "        user_embedding = tf.add(user_id_embedding, liked_tags_embedding)\n",
        "        user_embedding = tf.add(user_embedding, unliked_tags_embedding)\n",
        "\n",
        "        return user_embedding\n",
        "\n"
      ]
    },
    {
      "cell_type": "code",
      "execution_count": 86,
      "metadata": {},
      "outputs": [
        {
          "data": {
            "text/plain": [
              "<tf.Tensor: shape=(30, 32), dtype=float32, numpy=\n",
              "array([[ 1.36629818e-03,  3.92483734e-02,  3.60111184e-02,\n",
              "         6.65247720e-03, -1.04860514e-02,  2.09468789e-02,\n",
              "         3.67291607e-02,  1.68962441e-02,  9.70973354e-03,\n",
              "        -1.93486288e-02,  3.61275263e-02, -1.27276154e-02,\n",
              "        -4.68134843e-02, -3.55399102e-02, -5.33879139e-02,\n",
              "        -3.52501944e-02, -3.32739912e-02,  2.29207752e-03,\n",
              "         1.68916248e-02, -5.63968010e-02, -9.48077068e-03,\n",
              "         1.84719823e-02, -8.37540254e-03, -2.91431621e-02,\n",
              "        -8.92527867e-04, -1.60721615e-02,  6.27827179e-03,\n",
              "        -5.54107502e-02,  2.09747739e-02,  1.08181639e-02,\n",
              "        -4.69630631e-03,  1.45586086e-02],\n",
              "       [ 1.11571420e-03,  3.89977880e-02,  3.57605331e-02,\n",
              "         6.40189368e-03, -1.07366359e-02,  2.06962936e-02,\n",
              "         3.64785753e-02,  1.66456588e-02,  9.45915002e-03,\n",
              "        -1.95992142e-02,  3.58769409e-02, -1.29781989e-02,\n",
              "        -4.70640697e-02, -3.57904918e-02, -5.36384992e-02,\n",
              "        -3.55007797e-02, -3.35245766e-02,  2.04149354e-03,\n",
              "         1.66410394e-02, -5.66473864e-02, -9.73135512e-03,\n",
              "         1.82213970e-02, -8.62598699e-03, -2.93937474e-02,\n",
              "        -1.14311208e-03, -1.63227469e-02,  6.02768827e-03,\n",
              "        -5.56613356e-02,  2.07241885e-02,  1.05675803e-02,\n",
              "        -4.94689029e-03,  1.43080251e-02],\n",
              "       [-2.48018513e-03,  3.54018919e-02,  3.21646370e-02,\n",
              "         2.80599436e-03, -1.43325357e-02,  1.71003938e-02,\n",
              "         3.28826793e-02,  1.30497599e-02,  5.86325023e-03,\n",
              "        -2.31951140e-02,  3.22810449e-02, -1.65740997e-02,\n",
              "        -5.06599657e-02, -3.93863916e-02, -5.72343953e-02,\n",
              "        -3.90966758e-02, -3.71204726e-02, -1.55440578e-03,\n",
              "         1.30451405e-02, -6.02432825e-02, -1.33272549e-02,\n",
              "         1.46254981e-02, -1.22218858e-02, -3.29896472e-02,\n",
              "        -4.73901117e-03, -1.99186467e-02,  2.43178895e-03,\n",
              "        -5.92572317e-02,  1.71282887e-02,  6.97168056e-03,\n",
              "        -8.54278915e-03,  1.07121253e-02],\n",
              "       [ 1.06355734e-03,  3.89456339e-02,  3.57083790e-02,\n",
              "         6.34973682e-03, -1.07887927e-02,  2.06441395e-02,\n",
              "         3.64264213e-02,  1.65935047e-02,  9.40699317e-03,\n",
              "        -1.96513701e-02,  3.58247869e-02, -1.30303558e-02,\n",
              "        -4.71162237e-02, -3.58426496e-02, -5.36906533e-02,\n",
              "        -3.55529338e-02, -3.35767306e-02,  1.98933668e-03,\n",
              "         1.65888853e-02, -5.66995405e-02, -9.78351198e-03,\n",
              "         1.81692429e-02, -8.67814384e-03, -2.94459015e-02,\n",
              "        -1.19526871e-03, -1.63749028e-02,  5.97553141e-03,\n",
              "        -5.57134897e-02,  2.06720345e-02,  1.05154235e-02,\n",
              "        -4.99904715e-03,  1.42558692e-02],\n",
              "       [ 1.16507588e-02,  4.95328344e-02,  4.62955795e-02,\n",
              "         1.69369392e-02, -2.01590359e-04,  3.12313400e-02,\n",
              "         4.70136218e-02,  2.71807052e-02,  1.99941956e-02,\n",
              "        -9.06416774e-03,  4.64119874e-02, -2.44315341e-03,\n",
              "        -3.65290232e-02, -2.52554454e-02, -4.31034528e-02,\n",
              "        -2.49657333e-02, -2.29895301e-02,  1.25765381e-02,\n",
              "         2.71760859e-02, -4.61123399e-02,  8.03690404e-04,\n",
              "         2.87564434e-02,  1.90905854e-03, -1.88587010e-02,\n",
              "         9.39193368e-03, -5.78770041e-03,  1.65627338e-02,\n",
              "        -4.51262891e-02,  3.12592350e-02,  2.11026259e-02,\n",
              "         5.58815524e-03,  2.48430707e-02],\n",
              "       [ 1.05528412e-02,  4.84349169e-02,  4.51976620e-02,\n",
              "         1.58390217e-02, -1.29950885e-03,  3.01334225e-02,\n",
              "         4.59157042e-02,  2.60827877e-02,  1.88962780e-02,\n",
              "        -1.01620862e-02,  4.53140698e-02, -3.54107190e-03,\n",
              "        -3.76269408e-02, -2.63533667e-02, -4.42013703e-02,\n",
              "        -2.60636508e-02, -2.40874477e-02,  1.14786206e-02,\n",
              "         2.60781683e-02, -4.72102575e-02, -2.94228084e-04,\n",
              "         2.76585259e-02,  8.11140053e-04, -1.99566185e-02,\n",
              "         8.29401519e-03, -6.88561890e-03,  1.54648153e-02,\n",
              "        -4.62242067e-02,  3.01613174e-02,  2.00047083e-02,\n",
              "         4.49023675e-03,  2.37451531e-02],\n",
              "       [ 6.79004099e-03,  4.46721166e-02,  4.14348617e-02,\n",
              "         1.20762205e-02, -5.06230909e-03,  2.63706222e-02,\n",
              "         4.21529040e-02,  2.23199874e-02,  1.51334768e-02,\n",
              "        -1.39248865e-02,  4.15512696e-02, -7.30387215e-03,\n",
              "        -4.13897410e-02, -3.01161669e-02, -4.79641706e-02,\n",
              "        -2.98264511e-02, -2.78502479e-02,  7.71582033e-03,\n",
              "         2.23153681e-02, -5.09730577e-02, -4.05702833e-03,\n",
              "         2.38957256e-02, -2.95166019e-03, -2.37194188e-02,\n",
              "         4.53121495e-03, -1.06484191e-02,  1.17020151e-02,\n",
              "        -4.99870069e-02,  2.63985172e-02,  1.62419081e-02,\n",
              "         7.27436505e-04,  1.99823529e-02],\n",
              "       [ 6.08405285e-03,  4.39661294e-02,  4.07288745e-02,\n",
              "         1.13702314e-02, -5.76829724e-03,  2.56646313e-02,\n",
              "         4.14469168e-02,  2.16139965e-02,  1.44274877e-02,\n",
              "        -1.46308746e-02,  4.08452824e-02, -8.00986029e-03,\n",
              "        -4.20957282e-02, -3.08221541e-02, -4.86701578e-02,\n",
              "        -3.05324420e-02, -2.85562389e-02,  7.00983219e-03,\n",
              "         2.16093771e-02, -5.16790450e-02, -4.76301648e-03,\n",
              "         2.31897347e-02, -3.65764857e-03, -2.44254097e-02,\n",
              "         3.82522680e-03, -1.13544073e-02,  1.09960260e-02,\n",
              "        -5.06929941e-02,  2.56925263e-02,  1.55359181e-02,\n",
              "         2.14483589e-05,  1.92763619e-02],\n",
              "       [ 2.36575305e-03,  4.02478278e-02,  3.70105729e-02,\n",
              "         7.65193254e-03, -9.48659703e-03,  2.19463333e-02,\n",
              "         3.77286151e-02,  1.78956985e-02,  1.07091889e-02,\n",
              "        -1.83491744e-02,  3.71269807e-02, -1.17281601e-02,\n",
              "        -4.58140299e-02, -3.45404521e-02, -5.23884594e-02,\n",
              "        -3.42507400e-02, -3.22745368e-02,  3.29153240e-03,\n",
              "         1.78910792e-02, -5.53973466e-02, -8.48131627e-03,\n",
              "         1.94714367e-02, -7.37594813e-03, -2.81437077e-02,\n",
              "         1.06927007e-04, -1.50727071e-02,  7.27772713e-03,\n",
              "        -5.44112958e-02,  2.19742283e-02,  1.18176183e-02,\n",
              "        -3.69685143e-03,  1.55580631e-02],\n",
              "       [ 5.72534837e-03,  4.36074249e-02,  4.03701700e-02,\n",
              "         1.10115288e-02, -6.12700172e-03,  2.53059305e-02,\n",
              "         4.10882123e-02,  2.12552957e-02,  1.40687851e-02,\n",
              "        -1.49895791e-02,  4.04865779e-02, -8.36856477e-03,\n",
              "        -4.24544327e-02, -3.11808586e-02, -4.90288623e-02,\n",
              "        -3.08911428e-02, -2.89149396e-02,  6.65112771e-03,\n",
              "         2.12506764e-02, -5.20377494e-02, -5.12172095e-03,\n",
              "         2.28310339e-02, -4.01635282e-03, -2.47841105e-02,\n",
              "         3.46652232e-03, -1.17131118e-02,  1.06373224e-02,\n",
              "        -5.10516986e-02,  2.53338255e-02,  1.51772154e-02,\n",
              "        -3.37256119e-04,  1.89176612e-02],\n",
              "       [ 3.01068742e-03,  4.08927649e-02,  3.76555100e-02,\n",
              "         8.29686690e-03, -8.84166267e-03,  2.25912668e-02,\n",
              "         3.83735523e-02,  1.85406320e-02,  1.13541232e-02,\n",
              "        -1.77042410e-02,  3.77719179e-02, -1.10832257e-02,\n",
              "        -4.51690927e-02, -3.38955186e-02, -5.17435223e-02,\n",
              "        -3.36058065e-02, -3.16296034e-02,  3.93646676e-03,\n",
              "         1.85360126e-02, -5.47524095e-02, -7.83638190e-03,\n",
              "         2.01163702e-02, -6.73101377e-03, -2.74987742e-02,\n",
              "         7.51861371e-04, -1.44277727e-02,  7.92266149e-03,\n",
              "        -5.37663586e-02,  2.26191618e-02,  1.24625536e-02,\n",
              "        -3.05191684e-03,  1.62029974e-02],\n",
              "       [-2.57433206e-03,  3.53077427e-02,  3.20704877e-02,\n",
              "         2.71184742e-03, -1.44266821e-02,  1.70062482e-02,\n",
              "         3.27885300e-02,  1.29556125e-02,  5.76910377e-03,\n",
              "        -2.32892595e-02,  3.21868956e-02, -1.66682452e-02,\n",
              "        -5.07541150e-02, -3.94805372e-02, -5.73285446e-02,\n",
              "        -3.91908251e-02, -3.72146219e-02, -1.64855272e-03,\n",
              "         1.29509931e-02, -6.03374317e-02, -1.34214014e-02,\n",
              "         1.45313507e-02, -1.23160332e-02, -3.30837928e-02,\n",
              "        -4.83315811e-03, -2.00127922e-02,  2.33764201e-03,\n",
              "        -5.93513809e-02,  1.70341432e-02,  6.87753409e-03,\n",
              "        -8.63693655e-03,  1.06179789e-02],\n",
              "       [-1.63366087e-04,  3.77187096e-02,  3.44814546e-02,\n",
              "         5.12281340e-03, -1.20157162e-02,  1.94172151e-02,\n",
              "         3.51994969e-02,  1.53665794e-02,  8.18006974e-03,\n",
              "        -2.08782926e-02,  3.45978625e-02, -1.42572792e-02,\n",
              "        -4.83431481e-02, -3.70695703e-02, -5.49175777e-02,\n",
              "        -3.67798582e-02, -3.48036550e-02,  7.62413256e-04,\n",
              "         1.53619600e-02, -5.79264648e-02, -1.10104354e-02,\n",
              "         1.69423185e-02, -9.90506727e-03, -3.06728259e-02,\n",
              "        -2.42219213e-03, -1.76018253e-02,  4.74860799e-03,\n",
              "        -5.69404140e-02,  1.94451101e-02,  9.28850006e-03,\n",
              "        -6.22597057e-03,  1.30289448e-02],\n",
              "       [ 3.89222428e-03,  4.17742990e-02,  3.85370441e-02,\n",
              "         9.17840376e-03, -7.96012580e-03,  2.34728046e-02,\n",
              "         3.92550863e-02,  1.94221698e-02,  1.22356610e-02,\n",
              "        -1.68227032e-02,  3.86534519e-02, -1.02016889e-02,\n",
              "        -4.42875586e-02, -3.30139808e-02, -5.08619882e-02,\n",
              "        -3.27242687e-02, -3.07480656e-02,  4.81800362e-03,\n",
              "         1.94175504e-02, -5.38708754e-02, -6.95484504e-03,\n",
              "         2.09979080e-02, -5.84947690e-03, -2.66172364e-02,\n",
              "         1.63339823e-03, -1.35462359e-02,  8.80419835e-03,\n",
              "        -5.28848246e-02,  2.35006995e-02,  1.33440914e-02,\n",
              "        -2.17037997e-03,  1.70845352e-02],\n",
              "       [ 9.79911629e-03,  4.76811938e-02,  4.44439389e-02,\n",
              "         1.50852958e-02, -2.05323379e-03,  2.93796994e-02,\n",
              "         4.51619811e-02,  2.53290609e-02,  1.81425512e-02,\n",
              "        -1.09158112e-02,  4.45603468e-02, -4.29479685e-03,\n",
              "        -3.83806638e-02, -2.71070898e-02, -4.49550934e-02,\n",
              "        -2.68173777e-02, -2.48411745e-02,  1.07248956e-02,\n",
              "         2.53244415e-02, -4.79639806e-02, -1.04795303e-03,\n",
              "         2.69048028e-02,  5.74151054e-05, -2.07103454e-02,\n",
              "         7.54029024e-03, -7.63934385e-03,  1.47110904e-02,\n",
              "        -4.69779335e-02,  2.94075944e-02,  1.92509815e-02,\n",
              "         3.73651180e-03,  2.29914263e-02],\n",
              "       [ 1.61749218e-03,  3.94995697e-02,  3.62623148e-02,\n",
              "         6.90367166e-03, -1.02348579e-02,  2.11980715e-02,\n",
              "         3.69803570e-02,  1.71474367e-02,  9.96092800e-03,\n",
              "        -1.90974362e-02,  3.63787226e-02, -1.24764210e-02,\n",
              "        -4.65622880e-02, -3.52887139e-02, -5.31367175e-02,\n",
              "        -3.49990018e-02, -3.30227986e-02,  2.54327152e-03,\n",
              "         1.71428174e-02, -5.61456047e-02, -9.22957715e-03,\n",
              "         1.87231749e-02, -8.12420901e-03, -2.88919695e-02,\n",
              "        -6.41333871e-04, -1.58209689e-02,  6.52946625e-03,\n",
              "        -5.51595539e-02,  2.12259665e-02,  1.10693583e-02,\n",
              "        -4.44511231e-03,  1.48098031e-02],\n",
              "       [ 1.41077768e-03,  3.92928533e-02,  3.60555984e-02,\n",
              "         6.69695716e-03, -1.04415724e-02,  2.09913589e-02,\n",
              "         3.67736407e-02,  1.69407241e-02,  9.75421350e-03,\n",
              "        -1.93041489e-02,  3.61720063e-02, -1.26831355e-02,\n",
              "        -4.67690043e-02, -3.54954302e-02, -5.33434339e-02,\n",
              "        -3.52057144e-02, -3.32295112e-02,  2.33655702e-03,\n",
              "         1.69361047e-02, -5.63523211e-02, -9.43629164e-03,\n",
              "         1.85164623e-02, -8.33092351e-03, -2.90986821e-02,\n",
              "        -8.48048599e-04, -1.60276815e-02,  6.32275175e-03,\n",
              "        -5.53662702e-02,  2.10192539e-02,  1.08626438e-02,\n",
              "        -4.65182681e-03,  1.46030886e-02],\n",
              "       [ 6.53093774e-03,  4.44130115e-02,  4.11757566e-02,\n",
              "         1.18171172e-02, -5.32141235e-03,  2.61115171e-02,\n",
              "         4.18937989e-02,  2.20608823e-02,  1.48743736e-02,\n",
              "        -1.41839897e-02,  4.12921645e-02, -7.56297540e-03,\n",
              "        -4.16488461e-02, -3.03752683e-02, -4.82232757e-02,\n",
              "        -3.00855562e-02, -2.81093530e-02,  7.45671708e-03,\n",
              "         2.20562629e-02, -5.12321629e-02, -4.31613158e-03,\n",
              "         2.36366205e-02, -3.21076345e-03, -2.39785239e-02,\n",
              "         4.27211169e-03, -1.09075224e-02,  1.14429118e-02,\n",
              "        -5.02461083e-02,  2.61394121e-02,  1.59828030e-02,\n",
              "         4.68333252e-04,  1.97232477e-02],\n",
              "       [-3.00021563e-03,  3.48818600e-02,  3.16446051e-02,\n",
              "         2.28596386e-03, -1.48525657e-02,  1.65803656e-02,\n",
              "         3.23626474e-02,  1.25297299e-02,  5.34322020e-03,\n",
              "        -2.37151422e-02,  3.17610130e-02, -1.70941278e-02,\n",
              "        -5.11799976e-02, -3.99064235e-02, -5.77544272e-02,\n",
              "        -3.96167077e-02, -3.76405045e-02, -2.07443628e-03,\n",
              "         1.25251105e-02, -6.07633144e-02, -1.38472850e-02,\n",
              "         1.41054681e-02, -1.27419168e-02, -3.35096754e-02,\n",
              "        -5.25904167e-03, -2.04386748e-02,  1.91175845e-03,\n",
              "        -5.97772636e-02,  1.66082606e-02,  6.45165052e-03,\n",
              "        -9.06282011e-03,  1.01920953e-02],\n",
              "       [ 2.53871549e-03,  4.04207893e-02,  3.71835344e-02,\n",
              "         7.82489497e-03, -9.31363460e-03,  2.21192949e-02,\n",
              "         3.79015766e-02,  1.80686601e-02,  1.08821513e-02,\n",
              "        -1.81762129e-02,  3.72999422e-02, -1.15551976e-02,\n",
              "        -4.56410684e-02, -3.43674906e-02, -5.22154979e-02,\n",
              "        -3.40777785e-02, -3.21015753e-02,  3.46449483e-03,\n",
              "         1.80640407e-02, -5.52243851e-02, -8.30835383e-03,\n",
              "         1.96443982e-02, -7.20298570e-03, -2.79707462e-02,\n",
              "         2.79889442e-04, -1.48997447e-02,  7.45068956e-03,\n",
              "        -5.42383343e-02,  2.21471898e-02,  1.19905816e-02,\n",
              "        -3.52388923e-03,  1.57310255e-02],\n",
              "       [ 1.08804358e-02,  4.87625115e-02,  4.55252565e-02,\n",
              "         1.61666162e-02, -9.71914269e-04,  3.04610170e-02,\n",
              "         4.62432988e-02,  2.64103822e-02,  1.92238726e-02,\n",
              "        -9.83449165e-03,  4.56416644e-02, -3.21347732e-03,\n",
              "        -3.72993462e-02, -2.60257721e-02, -4.38737758e-02,\n",
              "        -2.57360563e-02, -2.37598531e-02,  1.18062152e-02,\n",
              "         2.64057629e-02, -4.68826629e-02,  3.33664939e-05,\n",
              "         2.79861204e-02,  1.13873463e-03, -1.96290240e-02,\n",
              "         8.62160977e-03, -6.55802432e-03,  1.57924108e-02,\n",
              "        -4.58966121e-02,  3.04889120e-02,  2.03323029e-02,\n",
              "         4.81783133e-03,  2.40727477e-02],\n",
              "       [ 7.46078603e-03,  4.53428626e-02,  4.21056077e-02,\n",
              "         1.27469664e-02, -4.39156406e-03,  2.70413682e-02,\n",
              "         4.28236499e-02,  2.29907334e-02,  1.58042237e-02,\n",
              "        -1.32541414e-02,  4.22220156e-02, -6.63312711e-03,\n",
              "        -4.07189950e-02, -2.94454210e-02, -4.72934246e-02,\n",
              "        -2.91557051e-02, -2.71795020e-02,  8.38656537e-03,\n",
              "         2.29861140e-02, -5.03023118e-02, -3.38628329e-03,\n",
              "         2.45664716e-02, -2.28091516e-03, -2.30486728e-02,\n",
              "         5.20195998e-03, -9.97767411e-03,  1.23727610e-02,\n",
              "        -4.93162610e-02,  2.70692632e-02,  1.69126540e-02,\n",
              "         1.39818154e-03,  2.06530988e-02],\n",
              "       [ 3.50452494e-03,  4.13866006e-02,  3.81493457e-02,\n",
              "         8.79070442e-03, -8.34782515e-03,  2.30851062e-02,\n",
              "         3.88673879e-02,  1.90344714e-02,  1.18479608e-02,\n",
              "        -1.72104016e-02,  3.82657535e-02, -1.05893882e-02,\n",
              "        -4.46752571e-02, -3.34016830e-02, -5.12496866e-02,\n",
              "        -3.31119671e-02, -3.11357640e-02,  4.43030428e-03,\n",
              "         1.90298520e-02, -5.42585738e-02, -7.34254438e-03,\n",
              "         2.06102096e-02, -6.23717625e-03, -2.70049348e-02,\n",
              "         1.24569889e-03, -1.39339352e-02,  8.41649901e-03,\n",
              "        -5.32725230e-02,  2.31130011e-02,  1.29563911e-02,\n",
              "        -2.55807932e-03,  1.66968368e-02],\n",
              "       [ 8.16121604e-03,  4.60432917e-02,  4.28060368e-02,\n",
              "         1.34473955e-02, -3.69113404e-03,  2.77417973e-02,\n",
              "         4.35240790e-02,  2.36911625e-02,  1.65046528e-02,\n",
              "        -1.25537114e-02,  4.29224446e-02, -5.93269709e-03,\n",
              "        -4.00185660e-02, -2.87449919e-02, -4.65929955e-02,\n",
              "        -2.84552760e-02, -2.64790729e-02,  9.08699539e-03,\n",
              "         2.36865431e-02, -4.96018827e-02, -2.68585328e-03,\n",
              "         2.52669007e-02, -1.58048514e-03, -2.23482437e-02,\n",
              "         5.90239000e-03, -9.27724410e-03,  1.30731901e-02,\n",
              "        -4.86158319e-02,  2.77696922e-02,  1.76130831e-02,\n",
              "         2.09861156e-03,  2.13535279e-02],\n",
              "       [ 9.75264329e-03,  4.76347208e-02,  4.43974659e-02,\n",
              "         1.50388228e-02, -2.09970633e-03,  2.93332264e-02,\n",
              "         4.51155081e-02,  2.52825879e-02,  1.80960782e-02,\n",
              "        -1.09622832e-02,  4.45138738e-02, -4.34126938e-03,\n",
              "        -3.84271368e-02, -2.71535628e-02, -4.50015664e-02,\n",
              "        -2.68638507e-02, -2.48876475e-02,  1.06784226e-02,\n",
              "         2.52779685e-02, -4.80104536e-02, -1.09442556e-03,\n",
              "         2.68583298e-02,  1.09425746e-05, -2.07568184e-02,\n",
              "         7.49381725e-03, -7.68581638e-03,  1.46646174e-02,\n",
              "        -4.70244028e-02,  2.93611214e-02,  1.92045085e-02,\n",
              "         3.69003881e-03,  2.29449533e-02],\n",
              "       [-5.87714370e-04,  3.72943617e-02,  3.40571068e-02,\n",
              "         4.69846558e-03, -1.24400649e-02,  1.89928673e-02,\n",
              "         3.47751491e-02,  1.49422316e-02,  7.75572192e-03,\n",
              "        -2.13026404e-02,  3.41735147e-02, -1.46816270e-02,\n",
              "        -4.87674959e-02, -3.74939218e-02, -5.53419255e-02,\n",
              "        -3.72042060e-02, -3.52280028e-02,  3.38064972e-04,\n",
              "         1.49376122e-02, -5.83508126e-02, -1.14347842e-02,\n",
              "         1.65179707e-02, -1.03294160e-02, -3.10971737e-02,\n",
              "        -2.84654042e-03, -1.80261731e-02,  4.32426017e-03,\n",
              "        -5.73647618e-02,  1.90207623e-02,  8.86415225e-03,\n",
              "        -6.65031886e-03,  1.26045970e-02],\n",
              "       [ 4.53911256e-04,  3.83359864e-02,  3.50987315e-02,\n",
              "         5.74009027e-03, -1.13984384e-02,  2.00344920e-02,\n",
              "         3.58167738e-02,  1.59838572e-02,  8.79734661e-03,\n",
              "        -2.02610157e-02,  3.52151394e-02, -1.36400023e-02,\n",
              "        -4.77258712e-02, -3.64522934e-02, -5.43003008e-02,\n",
              "        -3.61625813e-02, -3.41863781e-02,  1.37969060e-03,\n",
              "         1.59792379e-02, -5.73091879e-02, -1.03931576e-02,\n",
              "         1.75595954e-02, -9.28778946e-03, -3.00555490e-02,\n",
              "        -1.80491479e-03, -1.69845484e-02,  5.36588486e-03,\n",
              "        -5.63231371e-02,  2.00623870e-02,  9.90577694e-03,\n",
              "        -5.60869323e-03,  1.36462217e-02],\n",
              "       [ 1.46552278e-02,  5.25373034e-02,  4.93000485e-02,\n",
              "         1.99414082e-02,  2.80287862e-03,  3.42358090e-02,\n",
              "         5.00180908e-02,  3.01851742e-02,  2.29986645e-02,\n",
              "        -6.05969876e-03,  4.94164564e-02,  5.61315566e-04,\n",
              "        -3.35245542e-02, -2.22509764e-02, -4.00989838e-02,\n",
              "        -2.19612643e-02, -1.99850611e-02,  1.55810071e-02,\n",
              "         3.01805548e-02, -4.31078710e-02,  3.80815938e-03,\n",
              "         3.17609124e-02,  4.91352752e-03, -1.58542320e-02,\n",
              "         1.23964017e-02, -2.78323144e-03,  1.95672028e-02,\n",
              "        -4.21218202e-02,  3.42637040e-02,  2.41070949e-02,\n",
              "         8.59262422e-03,  2.78475396e-02],\n",
              "       [ 2.72782054e-03,  4.06098962e-02,  3.73726413e-02,\n",
              "         8.01400002e-03, -9.12452955e-03,  2.23084018e-02,\n",
              "         3.80906835e-02,  1.82577670e-02,  1.10712564e-02,\n",
              "        -1.79871060e-02,  3.74890491e-02, -1.13660926e-02,\n",
              "        -4.54519615e-02, -3.41783874e-02, -5.20263910e-02,\n",
              "        -3.38886715e-02, -3.19124684e-02,  3.65359988e-03,\n",
              "         1.82531476e-02, -5.50352782e-02, -8.11924879e-03,\n",
              "         1.98335052e-02, -7.01388065e-03, -2.77816392e-02,\n",
              "         4.68994491e-04, -1.47106396e-02,  7.63979461e-03,\n",
              "        -5.40492274e-02,  2.23362967e-02,  1.21796867e-02,\n",
              "        -3.33478395e-03,  1.59201324e-02],\n",
              "       [ 9.76730976e-03,  4.76493873e-02,  4.44121324e-02,\n",
              "         1.50534892e-02, -2.08504032e-03,  2.93478929e-02,\n",
              "         4.51301746e-02,  2.52972543e-02,  1.81107447e-02,\n",
              "        -1.09476177e-02,  4.45285402e-02, -4.32660338e-03,\n",
              "        -3.84124704e-02, -2.71388963e-02, -4.49868999e-02,\n",
              "        -2.68491842e-02, -2.48729810e-02,  1.06930891e-02,\n",
              "         2.52926350e-02, -4.79957871e-02, -1.07975956e-03,\n",
              "         2.68729962e-02,  2.56085768e-05, -2.07421519e-02,\n",
              "         7.50848372e-03, -7.67115038e-03,  1.46792838e-02,\n",
              "        -4.70097400e-02,  2.93757878e-02,  1.92191750e-02,\n",
              "         3.70470528e-03,  2.29596198e-02]], dtype=float32)>"
            ]
          },
          "execution_count": 86,
          "metadata": {},
          "output_type": "execute_result"
        }
      ],
      "source": [
        "# Извлечение данных пользователя\n",
        "test_user = {}\n",
        "for data in ratings.take(1).as_numpy_iterator():\n",
        "    test_user = data\n",
        "    \n",
        "user_model = UserModel(unique_user_ids, unique_liked_tags, unique_unliked_tags, embedding_dimension)\n",
        "\n",
        "\n",
        "user_model(test_user)"
      ]
    },
    {
      "cell_type": "code",
      "execution_count": 87,
      "metadata": {},
      "outputs": [],
      "source": [
        "class RecipeAndUserModel(tfrs.Model):\n",
        "\n",
        "    def _reduce_mean_if_needed(self, embedding):\n",
        "        \"\"\"Сокращает размерность эмбеддинга до среднего, если он многомерный.\"\"\"\n",
        "        if len(embedding.shape) >= 3:\n",
        "            return tf.reduce_mean(embedding, axis=1)\n",
        "        return embedding\n",
        "\n",
        "    def __init__(self, unique_recipe_names, unique_tags, embedding_dimension):\n",
        "        super().__init__()\n",
        "        self.embedding_dimension = embedding_dimension\n",
        "        # Модель пользователя\n",
        "        self.user_model = UserModel(unique_user_ids, unique_liked_tags, unique_unliked_tags, 64)\n",
        "\n",
        "        # Recipe embeddings\n",
        "        self.recipe_model = tf.keras.Sequential([\n",
        "            tf.keras.layers.StringLookup(\n",
        "                vocabulary=unique_recipe_names, mask_token=None),\n",
        "            tf.keras.layers.Embedding(len(unique_recipe_names) + 1, embedding_dimension)\n",
        "        ])\n",
        "\n",
        "        # Tags embeddings\n",
        "        self.tags_model = tf.keras.Sequential([\n",
        "            tf.keras.layers.StringLookup(\n",
        "                vocabulary=unique_tags, mask_token=None),\n",
        "            tf.keras.layers.Embedding(len(unique_tags) + 1, embedding_dimension)\n",
        "        ])\n",
        "\n",
        "        self.dense = tf.keras.layers.Dense(embedding_dimension)  # Сжимаем до размерности 32\n",
        "\n",
        "        # Подготовка кандидатов, учитывающих и теги\n",
        "        self.candidates = recipes.batch(128).map(self._get_candidate_embeddings)\n",
        "\n",
        "        self.task = tfrs.tasks.Retrieval(\n",
        "            metrics=tfrs.metrics.FactorizedTopK(\n",
        "                candidates=self.candidates\n",
        "            )\n",
        "        )\n",
        "        \n",
        "    def _get_candidate_embeddings(self, recipe_name):\n",
        "        # Получаем эмбеддинги для имен и тегов\n",
        "        recipe_embedding = self.recipe_model(recipe_name['recipe_name'])\n",
        "        print(recipe_name['tags'])\n",
        "        tags_embedding = self.tags_model(recipe_name['tags'])  # Здесь предполагается, что recipe_name может содержать теги\n",
        "        recipe_embedding = self._reduce_mean_if_needed(recipe_embedding)\n",
        "        tags_embedding = self._reduce_mean_if_needed(tags_embedding)\n",
        "        # Объединяем эмбеддинги имен и тегов\n",
        "        combined_embedding = tf.concat([recipe_embedding, tags_embedding], axis=1)\n",
        "        return combined_embedding\n",
        "\n",
        "    def call(self, features: Dict[Text, tf.Tensor]) -> tf.Tensor:\n",
        "        # User embedding\n",
        "        user_embedding = self.user_model(features)\n",
        "\n",
        "        # Recipe name embeddings\n",
        "        recipe_name_embeddings = self.recipe_model(features[\"recipe_name\"])\n",
        "        recipe_name_embeddings = self._reduce_mean_if_needed(recipe_name_embeddings)\n",
        "        # Tags embeddings\n",
        "        tags = features[\"tags\"]\n",
        "        tags_embeddings = self.tags_model(tags)\n",
        "        tags_embeddings = self._reduce_mean_if_needed(tags_embeddings)\n",
        "        # # Вычисление средневзвешенного значения для тегов (можно модифицировать веса)\n",
        "        # tags_embeddings_weighted_sum = tf.reduce_sum(tags_embeddings, axis=1)\n",
        "        # sum_of_weights = tf.reduce_sum(tf.ones_like(tags_embeddings), axis=1)\n",
        "        # tags_embeddings = tags_embeddings_weighted_sum / sum_of_weights\n",
        "        \n",
        "        # recipe_name_embeddings = self._reduce_mean_if_needed(recipe_name_embeddings)\n",
        "        # tags_embeddings = tf.expand_dims(tags_embeddings, axis=0)\n",
        "        # Конкатенация эмбеддингов рецепта и тегов\n",
        "        recipe_embeddings = tf.concat([recipe_name_embeddings, tags_embeddings], axis=1)\n",
        "\n",
        "        return user_embedding, recipe_embeddings\n",
        "\n",
        "    def compute_loss(self, features: Dict[Text, tf.Tensor], training=False) -> tf.Tensor:\n",
        "        user_embeddings, recipe_embeddings = self(features)\n",
        "        print(\"Computed: \", user_embeddings.shape, recipe_embeddings.shape)\n",
        "        # Используем задачу факторизованного топ-K для оптимизации\n",
        "        user_embeddings = self._reduce_mean_if_needed(user_embeddings)\n",
        "        recipe_embeddings = self._reduce_mean_if_needed(recipe_embeddings)\n",
        "        \n",
        "        # user_embeddings = tf.keras.layers.Dense(64)(user_embeddings)\n",
        "        # recipe_embeddings = tf.keras.layers.Dense(64)(recipe_embeddings)\n",
        "        print(\"Computed: \", user_embeddings.shape, recipe_embeddings.shape)\n",
        "        return self.task(user_embeddings, recipe_embeddings)\n"
      ]
    },
    {
      "cell_type": "code",
      "execution_count": 91,
      "metadata": {
        "id": "4ln6bTE6XuUT"
      },
      "outputs": [],
      "source": [
        "# Randomly shuffle data and split between train and test.\n",
        "tf.random.set_seed(42)\n",
        "shuffled = ratings.shuffle(100_000, seed=42, reshuffle_each_iteration=False)\n",
        "\n",
        "train = shuffled.take(5_000)\n",
        "test = shuffled.skip(80_000).take(20_000)\n",
        "\n",
        "cached_train =  train.batch(10_000).cache()\n",
        "cached_test = test.batch(4096).cache()"
      ]
    },
    {
      "cell_type": "code",
      "execution_count": 89,
      "metadata": {},
      "outputs": [
        {
          "name": "stdout",
          "output_type": "stream",
          "text": [
            "{'user_id': TensorShape([]), 'recipe_id': TensorShape([]), 'rating': TensorShape([]), 'recipe_name': TensorShape([]), 'tags': TensorShape([None]), 'liked_tags': TensorShape([None]), 'unliked_tags': TensorShape([None])}\n"
          ]
        }
      ],
      "source": [
        "def print_shapes(features):\n",
        "    print({k: v.shape for k, v in features.items()})\n",
        "    return features\n",
        "\n",
        "# Проверьте формы данных перед batch\n",
        "shuffled = shuffled.map(print_shapes)"
      ]
    },
    {
      "cell_type": "code",
      "execution_count": 92,
      "metadata": {
        "id": "-7Gi0OYpUbOM"
      },
      "outputs": [
        {
          "name": "stdout",
          "output_type": "stream",
          "text": [
            "Tensor(\"args_2:0\", shape=(None, None), dtype=string)\n",
            "Tensor(\"args_2:0\", shape=(None, None), dtype=string)\n",
            "Computed:  (None, None, 64) (None, 64)\n",
            "Computed:  (None, 64) (None, 64)\n",
            "Computed:  (None, None, 64) (None, 64)\n",
            "Computed:  (None, 64) (None, 64)\n",
            "1/1 [==============================] - 138s 138s/step - factorized_top_k/top_1_categorical_accuracy: 0.0000e+00 - factorized_top_k/top_5_categorical_accuracy: 0.0000e+00 - factorized_top_k/top_10_categorical_accuracy: 0.0000e+00 - factorized_top_k/top_50_categorical_accuracy: 0.0000e+00 - factorized_top_k/top_100_categorical_accuracy: 0.0000e+00 - loss: 42585.7461 - regularization_loss: 0.0000e+00 - total_loss: 42585.7461\n"
          ]
        },
        {
          "data": {
            "text/plain": [
              "<keras.src.callbacks.History at 0x20491b6ab30>"
            ]
          },
          "execution_count": 92,
          "metadata": {},
          "output_type": "execute_result"
        }
      ],
      "source": [
        "model = RecipeAndUserModel(unique_recipe_names, unique_tags, embedding_dimension)\n",
        "model.compile(optimizer=tf.keras.optimizers.Adagrad(learning_rate=0.1))\n",
        "model.fit(cached_train, epochs=1)"
      ]
    },
    {
      "cell_type": "code",
      "execution_count": null,
      "metadata": {},
      "outputs": [],
      "source": [
        "# prompt: Напиши код для теста model для пользователя 42\n",
        "model2 = RecipeAndUserModel()\n",
        "model2.compile(optimizer=tf.keras.optimizers.Adagrad(learning_rate=0.1))\n",
        "test_user = {}\n",
        "for data in test.take(1).as_numpy_iterator():\n",
        "  print(model2(data))"
      ]
    },
    {
      "cell_type": "code",
      "execution_count": 93,
      "metadata": {},
      "outputs": [
        {
          "name": "stdout",
          "output_type": "stream",
          "text": [
            "Computed:  (None, None, 64) (None, 64)\n",
            "Computed:  (None, 64) (None, 64)\n",
            "5/5 [==============================] - 95s 17s/step - factorized_top_k/top_1_categorical_accuracy: 0.0000e+00 - factorized_top_k/top_5_categorical_accuracy: 0.0000e+00 - factorized_top_k/top_10_categorical_accuracy: 0.0000e+00 - factorized_top_k/top_50_categorical_accuracy: 2.0000e-04 - factorized_top_k/top_100_categorical_accuracy: 3.5000e-04 - loss: 32580.0553 - regularization_loss: 0.0000e+00 - total_loss: 32580.0553\n"
          ]
        },
        {
          "data": {
            "text/plain": [
              "{'factorized_top_k/top_1_categorical_accuracy': 0.0,\n",
              " 'factorized_top_k/top_5_categorical_accuracy': 0.0,\n",
              " 'factorized_top_k/top_10_categorical_accuracy': 0.0,\n",
              " 'factorized_top_k/top_50_categorical_accuracy': 0.00019999999494757503,\n",
              " 'factorized_top_k/top_100_categorical_accuracy': 0.0003499999875202775,\n",
              " 'loss': 29619.15234375,\n",
              " 'regularization_loss': 0,\n",
              " 'total_loss': 29619.15234375}"
            ]
          },
          "execution_count": 93,
          "metadata": {},
          "output_type": "execute_result"
        }
      ],
      "source": [
        "model.evaluate(cached_test, return_dict=True)"
      ]
    },
    {
      "cell_type": "markdown",
      "metadata": {},
      "source": [
        "### Making predictions"
      ]
    },
    {
      "cell_type": "code",
      "execution_count": 98,
      "metadata": {},
      "outputs": [
        {
          "name": "stdout",
          "output_type": "stream",
          "text": [
            "Tensor(\"args_2:0\", shape=(None, None), dtype=string)\n"
          ]
        }
      ],
      "source": [
        "# Извлечение данных пользователя\n",
        "test_user = {}\n",
        "for data in test.take(1).as_numpy_iterator():\n",
        "    test_user = data\n",
        "\n",
        "# Создание набора данных для тестового пользователя\n",
        "user_id_to_test = \"42\"  # Замените на нужный ID пользователя\n",
        "test_user_dataset = {\n",
        "    \"user_id\": np.array(test_user[\"user_id\"]),\n",
        "    \"liked_tags\": np.array(test_user[\"liked_tags\"]),\n",
        "    \"unliked_tags\": np.array(test_user[\"unliked_tags\"])\n",
        "}\n",
        "\n",
        "brute_force = tfrs.layers.factorized_top_k.BruteForce(model.user_model)\n",
        "def _reduce_mean_if_needed(embedding):\n",
        "    \"\"\"Сокращает размерность эмбеддинга до среднего, если он многомерный.\"\"\"\n",
        "    if len(embedding.shape) >= 3:\n",
        "        return tf.reduce_mean(embedding, axis=1)\n",
        "    return embedding\n",
        "dense = tf.keras.layers.Dense(96)\n",
        "\n",
        "def _get_candidate_embeddings(recipe_name):\n",
        "    # Получаем эмбеддинги для имен и тегов\n",
        "    recipe_embedding =  model.recipe_model(recipe_name['recipe_name'])\n",
        "    print(recipe_name['tags'])\n",
        "    tags_embedding = model.tags_model(recipe_name['tags'])  # Здесь предполагается, что recipe_name может содержать теги\n",
        "    recipe_embedding = _reduce_mean_if_needed(recipe_embedding)\n",
        "    tags_embedding = _reduce_mean_if_needed(tags_embedding)\n",
        "    # Объединяем эмбеддинги имен и тегов\n",
        "    combined_embedding = tf.concat([recipe_embedding, tags_embedding], axis=1)\n",
        "    return combined_embedding\n",
        "    \n",
        "# Создание набора данных для рецептов и тегов\n",
        "def get_recipe_and_tag_embeddings(x):\n",
        "    recipe_embedding = model.recipe_model(x['recipe_name'])  # (None, 32)\n",
        "    tag_embedding = model.tags_model(x['tags'])  # (None, 32)\n",
        "    recipe_embedding =_reduce_mean_if_needed(recipe_embedding)\n",
        "    tag_embedding = _reduce_mean_if_needed(tag_embedding)\n",
        "    \n",
        "    combined_embeddings = tf.concat([_reduce_mean_if_needed(recipe_embedding),  _reduce_mean_if_needed(tag_embedding)], axis=1)  # (None, 64)\n",
        "    \n",
        "    return dense(combined_embeddings)\n",
        "\n",
        "# Используем map для обработки всех данных сразу\n",
        "recipes_embeddings = recipes.batch(100).map(_get_candidate_embeddings)\n",
        "\n",
        "\n",
        "# Создание набора имен рецептов\n",
        "recipes_names = recipes.batch(100).map(lambda x: x[\"recipe_id\"])  # Убедитесь, что это (None,)\n",
        "\n",
        "# Объединяем эмбеддинги с именами\n",
        "index = brute_force.index_from_dataset(\n",
        "    tf.data.Dataset.zip((recipes_names, recipes_embeddings))\n",
        ")\n",
        "\n",
        "# Получаем рекомендации\n",
        "_, titles = index(test_user_dataset, k=15)\n",
        "\n",
        "# Вывод тегов для рекомендуемых рецептов\n",
        "recommended_tags = raw_recipes[raw_recipes['id'].isin(titles.numpy().flatten().astype('str'))]\n"
      ]
    },
    {
      "cell_type": "code",
      "execution_count": 99,
      "metadata": {},
      "outputs": [
        {
          "data": {
            "text/html": [
              "<div>\n",
              "<style scoped>\n",
              "    .dataframe tbody tr th:only-of-type {\n",
              "        vertical-align: middle;\n",
              "    }\n",
              "\n",
              "    .dataframe tbody tr th {\n",
              "        vertical-align: top;\n",
              "    }\n",
              "\n",
              "    .dataframe thead th {\n",
              "        text-align: right;\n",
              "    }\n",
              "</style>\n",
              "<table border=\"1\" class=\"dataframe\">\n",
              "  <thead>\n",
              "    <tr style=\"text-align: right;\">\n",
              "      <th></th>\n",
              "      <th>name</th>\n",
              "      <th>id</th>\n",
              "      <th>minutes</th>\n",
              "      <th>contributor_id</th>\n",
              "      <th>submitted</th>\n",
              "      <th>tags</th>\n",
              "      <th>nutrition</th>\n",
              "      <th>n_steps</th>\n",
              "      <th>steps</th>\n",
              "      <th>description</th>\n",
              "      <th>ingredients</th>\n",
              "      <th>n_ingredients</th>\n",
              "      <th>ingredients_str</th>\n",
              "      <th>tags_str</th>\n",
              "    </tr>\n",
              "  </thead>\n",
              "  <tbody>\n",
              "    <tr>\n",
              "      <th>6937</th>\n",
              "      <td>apple nut muffins</td>\n",
              "      <td>400691</td>\n",
              "      <td>60</td>\n",
              "      <td>463435</td>\n",
              "      <td>2009-11-22</td>\n",
              "      <td>['60-minutes-or-less', 'time-to-make', 'course...</td>\n",
              "      <td>[478.7, 36.0, 123.0, 23.0, 13.0, 62.0, 20.0]</td>\n",
              "      <td>22</td>\n",
              "      <td>['for apple filling:', 'in a saucepan , melt b...</td>\n",
              "      <td>this are like little coffee cakes to-go. perfe...</td>\n",
              "      <td>['butter', 'brown sugar', 'flour', 'ground cin...</td>\n",
              "      <td>15</td>\n",
              "      <td>butter,brown sugar,flour,ground cinnamon,groun...</td>\n",
              "      <td>60-minutes-or-less,time-to-make,course,main-in...</td>\n",
              "    </tr>\n",
              "    <tr>\n",
              "      <th>10021</th>\n",
              "      <td>asparagus with toasted pine nuts   lemon vinai...</td>\n",
              "      <td>7218</td>\n",
              "      <td>11</td>\n",
              "      <td>53425</td>\n",
              "      <td>2000-03-06</td>\n",
              "      <td>['15-minutes-or-less', 'time-to-make', 'main-i...</td>\n",
              "      <td>[189.0, 27.0, 7.0, 12.0, 7.0, 11.0, 2.0]</td>\n",
              "      <td>13</td>\n",
              "      <td>['snap off tough ends of asparagus', 'remove s...</td>\n",
              "      <td>NaN</td>\n",
              "      <td>['asparagus', 'pine nuts', 'olive oil', 'lemon...</td>\n",
              "      <td>9</td>\n",
              "      <td>asparagus,pine nuts,olive oil,lemon juice,garl...</td>\n",
              "      <td>15-minutes-or-less,time-to-make,main-ingredien...</td>\n",
              "    </tr>\n",
              "    <tr>\n",
              "      <th>24339</th>\n",
              "      <td>black bean tamale pie</td>\n",
              "      <td>422184</td>\n",
              "      <td>45</td>\n",
              "      <td>1413296</td>\n",
              "      <td>2010-04-29</td>\n",
              "      <td>['weeknight', '60-minutes-or-less', 'time-to-m...</td>\n",
              "      <td>[435.7, 33.0, 23.0, 25.0, 50.0, 36.0, 12.0]</td>\n",
              "      <td>11</td>\n",
              "      <td>['in a skillet , saute onions and green pepper...</td>\n",
              "      <td>one of my picky family's most favorite recipes...</td>\n",
              "      <td>['vegetable oil', 'onion', 'green pepper', 'gr...</td>\n",
              "      <td>14</td>\n",
              "      <td>vegetable oil,onion,green pepper,ground turkey...</td>\n",
              "      <td>weeknight,60-minutes-or-less,time-to-make,cour...</td>\n",
              "    </tr>\n",
              "    <tr>\n",
              "      <th>37015</th>\n",
              "      <td>carrot muffins with apple</td>\n",
              "      <td>34184</td>\n",
              "      <td>33</td>\n",
              "      <td>27643</td>\n",
              "      <td>2002-07-15</td>\n",
              "      <td>['60-minutes-or-less', 'time-to-make', 'course...</td>\n",
              "      <td>[200.9, 10.0, 69.0, 14.0, 7.0, 5.0, 10.0]</td>\n",
              "      <td>6</td>\n",
              "      <td>['mix first 6 ingredients in lg bowl', 'in sma...</td>\n",
              "      <td>these easy muffins are fruity, moist and delic...</td>\n",
              "      <td>['raisin bran cereal', 'flour', 'sugar', 'baki...</td>\n",
              "      <td>12</td>\n",
              "      <td>raisin bran cereal,flour,sugar,baking soda,cin...</td>\n",
              "      <td>60-minutes-or-less,time-to-make,course,main-in...</td>\n",
              "    </tr>\n",
              "    <tr>\n",
              "      <th>47671</th>\n",
              "      <td>chili mashed potatoes</td>\n",
              "      <td>52696</td>\n",
              "      <td>25</td>\n",
              "      <td>41480</td>\n",
              "      <td>2003-01-29</td>\n",
              "      <td>['30-minutes-or-less', 'time-to-make', 'course...</td>\n",
              "      <td>[299.6, 17.0, 8.0, 5.0, 19.0, 35.0, 13.0]</td>\n",
              "      <td>7</td>\n",
              "      <td>['in medium saucepan , cover potatoes with wat...</td>\n",
              "      <td>pep up your mashed potatoes with chili powder ...</td>\n",
              "      <td>['potatoes', 'sour cream', 'green onion', 'chi...</td>\n",
              "      <td>9</td>\n",
              "      <td>potatoes,sour cream,green onion,chili powder,t...</td>\n",
              "      <td>30-minutes-or-less,time-to-make,course,main-in...</td>\n",
              "    </tr>\n",
              "    <tr>\n",
              "      <th>77152</th>\n",
              "      <td>easy microwave chocolate fudge</td>\n",
              "      <td>174932</td>\n",
              "      <td>5</td>\n",
              "      <td>194696</td>\n",
              "      <td>2006-06-27</td>\n",
              "      <td>['15-minutes-or-less', 'time-to-make', 'course...</td>\n",
              "      <td>[161.0, 14.0, 60.0, 1.0, 5.0, 20.0, 5.0]</td>\n",
              "      <td>5</td>\n",
              "      <td>['place chocolate chips , condensed milk and b...</td>\n",
              "      <td>this chocolate fudge is so easy and so yummy. ...</td>\n",
              "      <td>['milk chocolate chips', 'sweetened condensed ...</td>\n",
              "      <td>4</td>\n",
              "      <td>milk chocolate chips,sweetened condensed milk,...</td>\n",
              "      <td>15-minutes-or-less,time-to-make,course,main-in...</td>\n",
              "    </tr>\n",
              "    <tr>\n",
              "      <th>96551</th>\n",
              "      <td>greek mama</td>\n",
              "      <td>171496</td>\n",
              "      <td>5</td>\n",
              "      <td>58104</td>\n",
              "      <td>2006-06-05</td>\n",
              "      <td>['15-minutes-or-less', 'time-to-make', 'course...</td>\n",
              "      <td>[65.5, 0.0, 0.0, 0.0, 0.0, 0.0, 0.0]</td>\n",
              "      <td>1</td>\n",
              "      <td>['shake with ice and strain pouring into a mar...</td>\n",
              "      <td>chill your martini glasses!!!!!</td>\n",
              "      <td>['frangelico', 'ouzo', 'dark rum']</td>\n",
              "      <td>3</td>\n",
              "      <td>frangelico,ouzo,dark rum,empty,empty,empty,emp...</td>\n",
              "      <td>15-minutes-or-less,time-to-make,course,cuisine...</td>\n",
              "    </tr>\n",
              "    <tr>\n",
              "      <th>113248</th>\n",
              "      <td>italian style ground beef</td>\n",
              "      <td>109487</td>\n",
              "      <td>25</td>\n",
              "      <td>190300</td>\n",
              "      <td>2005-01-25</td>\n",
              "      <td>['30-minutes-or-less', 'time-to-make', 'main-i...</td>\n",
              "      <td>[1112.8, 125.0, 5.0, 12.0, 169.0, 142.0, 1.0]</td>\n",
              "      <td>4</td>\n",
              "      <td>['heat oil in pan until hot', 'combine green p...</td>\n",
              "      <td>this recipe is used to mix with spagetti. i le...</td>\n",
              "      <td>['ground beef', 'fresh garlic', 'onion', 'gree...</td>\n",
              "      <td>8</td>\n",
              "      <td>ground beef,fresh garlic,onion,green pepper,or...</td>\n",
              "      <td>30-minutes-or-less,time-to-make,main-ingredien...</td>\n",
              "    </tr>\n",
              "    <tr>\n",
              "      <th>113444</th>\n",
              "      <td>italian style ground beef</td>\n",
              "      <td>218857</td>\n",
              "      <td>40</td>\n",
              "      <td>330545</td>\n",
              "      <td>2007-03-26</td>\n",
              "      <td>['60-minutes-or-less', 'time-to-make', 'course...</td>\n",
              "      <td>[388.9, 33.0, 25.0, 27.0, 67.0, 47.0, 4.0]</td>\n",
              "      <td>10</td>\n",
              "      <td>['mix together beef , water , seasoned salt , ...</td>\n",
              "      <td>best results come from using a lean ground mea...</td>\n",
              "      <td>['lean ground beef', 'cold water', 'seasoning ...</td>\n",
              "      <td>11</td>\n",
              "      <td>lean ground beef,cold water,seasoning salt,bla...</td>\n",
              "      <td>60-minutes-or-less,time-to-make,course,main-in...</td>\n",
              "    </tr>\n",
              "    <tr>\n",
              "      <th>114613</th>\n",
              "      <td>java chicken</td>\n",
              "      <td>39352</td>\n",
              "      <td>500</td>\n",
              "      <td>39547</td>\n",
              "      <td>2002-09-03</td>\n",
              "      <td>['weeknight', 'time-to-make', 'course', 'main-...</td>\n",
              "      <td>[341.9, 8.0, 161.0, 16.0, 56.0, 4.0, 14.0]</td>\n",
              "      <td>14</td>\n",
              "      <td>['heat a saut pan over medium flame , add oil ...</td>\n",
              "      <td>here's a change of pace for your marinated chi...</td>\n",
              "      <td>['boneless skinless chicken breasts', 'onion',...</td>\n",
              "      <td>10</td>\n",
              "      <td>boneless skinless chicken breasts,onion,olive ...</td>\n",
              "      <td>weeknight,time-to-make,course,main-ingredient,...</td>\n",
              "    </tr>\n",
              "    <tr>\n",
              "      <th>132456</th>\n",
              "      <td>meat or mushroom kubbeh</td>\n",
              "      <td>26755</td>\n",
              "      <td>60</td>\n",
              "      <td>21752</td>\n",
              "      <td>2002-04-29</td>\n",
              "      <td>['60-minutes-or-less', 'time-to-make', 'course...</td>\n",
              "      <td>[260.0, 23.0, 9.0, 17.0, 24.0, 18.0, 6.0]</td>\n",
              "      <td>22</td>\n",
              "      <td>['the amount of crust in the recipe is adequat...</td>\n",
              "      <td>as per recipe request. time consuming, but rea...</td>\n",
              "      <td>['canned mushroom', 'oil', 'onions', 'black pe...</td>\n",
              "      <td>17</td>\n",
              "      <td>canned mushroom,oil,onions,black pepper,cinnam...</td>\n",
              "      <td>60-minutes-or-less,time-to-make,course,main-in...</td>\n",
              "    </tr>\n",
              "    <tr>\n",
              "      <th>132640</th>\n",
              "      <td>meatballs stroganoff</td>\n",
              "      <td>134748</td>\n",
              "      <td>75</td>\n",
              "      <td>229137</td>\n",
              "      <td>2005-08-24</td>\n",
              "      <td>['time-to-make', 'course', 'main-ingredient', ...</td>\n",
              "      <td>[791.4, 83.0, 16.0, 35.0, 89.0, 135.0, 8.0]</td>\n",
              "      <td>19</td>\n",
              "      <td>['in small bowl combine milk and breadcrumbs a...</td>\n",
              "      <td>the stroganoff recipe is easy and very tasty w...</td>\n",
              "      <td>['ground beef', 'breadcrumbs', 'milk', 'egg', ...</td>\n",
              "      <td>22</td>\n",
              "      <td>ground beef,breadcrumbs,milk,egg,white onion,p...</td>\n",
              "      <td>time-to-make,course,main-ingredient,cuisine,pr...</td>\n",
              "    </tr>\n",
              "    <tr>\n",
              "      <th>156601</th>\n",
              "      <td>pear and walnut muffins</td>\n",
              "      <td>190684</td>\n",
              "      <td>35</td>\n",
              "      <td>37449</td>\n",
              "      <td>2006-10-14</td>\n",
              "      <td>['60-minutes-or-less', 'time-to-make', 'course...</td>\n",
              "      <td>[147.6, 8.0, 51.0, 7.0, 5.0, 4.0, 7.0]</td>\n",
              "      <td>17</td>\n",
              "      <td>['preheat oven to 400f', 'place walnuts in a f...</td>\n",
              "      <td>pears and walnuts pair up so well together! an...</td>\n",
              "      <td>['walnuts', 'all-purpose flour', 'whole wheat ...</td>\n",
              "      <td>16</td>\n",
              "      <td>walnuts,all-purpose flour,whole wheat flour,ba...</td>\n",
              "      <td>60-minutes-or-less,time-to-make,course,main-in...</td>\n",
              "    </tr>\n",
              "    <tr>\n",
              "      <th>169089</th>\n",
              "      <td>quick meatball lasagna</td>\n",
              "      <td>111426</td>\n",
              "      <td>100</td>\n",
              "      <td>6258</td>\n",
              "      <td>2005-02-18</td>\n",
              "      <td>['time-to-make', 'course', 'main-ingredient', ...</td>\n",
              "      <td>[413.6, 25.0, 64.0, 44.0, 46.0, 42.0, 13.0]</td>\n",
              "      <td>21</td>\n",
              "      <td>['slice thawed meatballs in half', 'set aside'...</td>\n",
              "      <td>i found this recipe in the san antonio express...</td>\n",
              "      <td>['meatballs', 'marinara sauce', 'lasagna noodl...</td>\n",
              "      <td>7</td>\n",
              "      <td>meatballs,marinara sauce,lasagna noodles,egg,l...</td>\n",
              "      <td>time-to-make,course,main-ingredient,cuisine,pr...</td>\n",
              "    </tr>\n",
              "    <tr>\n",
              "      <th>172874</th>\n",
              "      <td>regal alaskan s blackened shrimp or halibut</td>\n",
              "      <td>67652</td>\n",
              "      <td>65</td>\n",
              "      <td>93190</td>\n",
              "      <td>2003-07-26</td>\n",
              "      <td>['weeknight', 'time-to-make', 'course', 'main-...</td>\n",
              "      <td>[1955.6, 188.0, 17.0, 932.0, 372.0, 348.0, 9.0]</td>\n",
              "      <td>16</td>\n",
              "      <td>['this recipe is designed to feed however many...</td>\n",
              "      <td>this recipe was given to me by a chef at the r...</td>\n",
              "      <td>['halibut fillet', 'large shrimp', 'butter', '...</td>\n",
              "      <td>18</td>\n",
              "      <td>halibut fillet,large shrimp,butter,paprika,sal...</td>\n",
              "      <td>weeknight,time-to-make,course,main-ingredient,...</td>\n",
              "    </tr>\n",
              "    <tr>\n",
              "      <th>181569</th>\n",
              "      <td>sauteed sea scallops with caramelized peaches</td>\n",
              "      <td>53856</td>\n",
              "      <td>27</td>\n",
              "      <td>15034</td>\n",
              "      <td>2003-02-10</td>\n",
              "      <td>['30-minutes-or-less', 'time-to-make', 'course...</td>\n",
              "      <td>[170.3, 11.0, 20.0, 6.0, 31.0, 5.0, 3.0]</td>\n",
              "      <td>11</td>\n",
              "      <td>['place oil in sautee pan and heat until light...</td>\n",
              "      <td>most excellent recipe i invented while doing a...</td>\n",
              "      <td>['sea scallops', 'salt and pepper', 'olive oil...</td>\n",
              "      <td>8</td>\n",
              "      <td>sea scallops,salt and pepper,olive oil,garlic,...</td>\n",
              "      <td>30-minutes-or-less,time-to-make,course,main-in...</td>\n",
              "    </tr>\n",
              "    <tr>\n",
              "      <th>187480</th>\n",
              "      <td>simplest 5 ingredient sweet heaven</td>\n",
              "      <td>46204</td>\n",
              "      <td>45</td>\n",
              "      <td>39992</td>\n",
              "      <td>2002-11-15</td>\n",
              "      <td>['60-minutes-or-less', 'time-to-make', 'course...</td>\n",
              "      <td>[145.9, 11.0, 63.0, 1.0, 4.0, 17.0, 6.0]</td>\n",
              "      <td>11</td>\n",
              "      <td>['preheat oven to 350 degrees', 'generously bu...</td>\n",
              "      <td>it's easy, fast, and everyone loves it. it doe...</td>\n",
              "      <td>['graham cracker crumbs', 'eagle brand condens...</td>\n",
              "      <td>5</td>\n",
              "      <td>graham cracker crumbs,eagle brand condensed mi...</td>\n",
              "      <td>60-minutes-or-less,time-to-make,course,cuisine...</td>\n",
              "    </tr>\n",
              "    <tr>\n",
              "      <th>190988</th>\n",
              "      <td>soft snickerdoodle cookies</td>\n",
              "      <td>97496</td>\n",
              "      <td>25</td>\n",
              "      <td>156653</td>\n",
              "      <td>2004-08-10</td>\n",
              "      <td>['30-minutes-or-less', 'time-to-make', 'course...</td>\n",
              "      <td>[182.3, 12.0, 56.0, 6.0, 4.0, 25.0, 8.0]</td>\n",
              "      <td>10</td>\n",
              "      <td>['preheat oven to 350f', 'mix softened butter ...</td>\n",
              "      <td>these snickerdoodle cookies are so delicious, ...</td>\n",
              "      <td>['butter', 'sugar', 'eggs', 'flour', 'cream of...</td>\n",
              "      <td>9</td>\n",
              "      <td>butter,sugar,eggs,flour,cream of tartar,baking...</td>\n",
              "      <td>30-minutes-or-less,time-to-make,course,prepara...</td>\n",
              "    </tr>\n",
              "    <tr>\n",
              "      <th>193208</th>\n",
              "      <td>soy protein powder smoothie</td>\n",
              "      <td>218080</td>\n",
              "      <td>2</td>\n",
              "      <td>336058</td>\n",
              "      <td>2007-03-21</td>\n",
              "      <td>['15-minutes-or-less', 'time-to-make', 'course...</td>\n",
              "      <td>[296.1, 1.0, 197.0, 0.0, 6.0, 1.0, 23.0]</td>\n",
              "      <td>1</td>\n",
              "      <td>['combine in blender and process until creamy ...</td>\n",
              "      <td>from outpost natural foods.  i never thought o...</td>\n",
              "      <td>['orange juice', 'powdered soy protein concent...</td>\n",
              "      <td>6</td>\n",
              "      <td>orange juice,powdered soy protein concentrate,...</td>\n",
              "      <td>15-minutes-or-less,time-to-make,course,main-in...</td>\n",
              "    </tr>\n",
              "    <tr>\n",
              "      <th>193946</th>\n",
              "      <td>spanish pasta toss</td>\n",
              "      <td>369707</td>\n",
              "      <td>5</td>\n",
              "      <td>171790</td>\n",
              "      <td>2009-05-05</td>\n",
              "      <td>['15-minutes-or-less', 'time-to-make', 'course...</td>\n",
              "      <td>[287.8, 29.0, 8.0, 0.0, 7.0, 13.0, 9.0]</td>\n",
              "      <td>3</td>\n",
              "      <td>['in a large bowl , whisk together the olive o...</td>\n",
              "      <td>a recipe from chatelaine food express quickies...</td>\n",
              "      <td>['olive oil', 'red wine vinegar', 'garlic clov...</td>\n",
              "      <td>7</td>\n",
              "      <td>olive oil,red wine vinegar,garlic cloves,dried...</td>\n",
              "      <td>15-minutes-or-less,time-to-make,course,main-in...</td>\n",
              "    </tr>\n",
              "    <tr>\n",
              "      <th>194656</th>\n",
              "      <td>spiced carrot salad  greek</td>\n",
              "      <td>269463</td>\n",
              "      <td>12</td>\n",
              "      <td>527607</td>\n",
              "      <td>2007-12-03</td>\n",
              "      <td>['15-minutes-or-less', 'time-to-make', 'course...</td>\n",
              "      <td>[129.6, 16.0, 14.0, 2.0, 2.0, 7.0, 2.0]</td>\n",
              "      <td>4</td>\n",
              "      <td>['shred the carrots', 'combine the carrots , g...</td>\n",
              "      <td>from chef on a shoestring's greek menu. this s...</td>\n",
              "      <td>['carrots', 'garlic clove', 'ground walnuts', ...</td>\n",
              "      <td>10</td>\n",
              "      <td>carrots,garlic clove,ground walnuts,ground cin...</td>\n",
              "      <td>15-minutes-or-less,time-to-make,course,cuisine...</td>\n",
              "    </tr>\n",
              "    <tr>\n",
              "      <th>198189</th>\n",
              "      <td>spinach  onion tofu stir fry</td>\n",
              "      <td>168035</td>\n",
              "      <td>30</td>\n",
              "      <td>317805</td>\n",
              "      <td>2006-05-15</td>\n",
              "      <td>['30-minutes-or-less', 'time-to-make', 'course...</td>\n",
              "      <td>[390.2, 48.0, 16.0, 53.0, 34.0, 22.0, 5.0]</td>\n",
              "      <td>5</td>\n",
              "      <td>['place the oil and tofu in a large frying pan...</td>\n",
              "      <td>a healthy hearty meal with a great taste!</td>\n",
              "      <td>['olive oil', 'tofu', 'onion', 'dry roasted pe...</td>\n",
              "      <td>10</td>\n",
              "      <td>olive oil,tofu,onion,dry roasted peanuts,dry b...</td>\n",
              "      <td>30-minutes-or-less,time-to-make,course,main-in...</td>\n",
              "    </tr>\n",
              "    <tr>\n",
              "      <th>198278</th>\n",
              "      <td>spinach rice pot</td>\n",
              "      <td>511961</td>\n",
              "      <td>45</td>\n",
              "      <td>220195</td>\n",
              "      <td>2014-01-11</td>\n",
              "      <td>['weeknight', '60-minutes-or-less', 'time-to-m...</td>\n",
              "      <td>[295.9, 21.0, 2.0, 23.0, 29.0, 36.0, 9.0]</td>\n",
              "      <td>6</td>\n",
              "      <td>['preheat oven to 350 fahrenheit', 'combine ri...</td>\n",
              "      <td>a casserole from the classic \"diet for a small...</td>\n",
              "      <td>['cooked brown rice', 'cheddar cheese', 'eggs'...</td>\n",
              "      <td>9</td>\n",
              "      <td>cooked brown rice,cheddar cheese,eggs,fresh pa...</td>\n",
              "      <td>weeknight,60-minutes-or-less,time-to-make,cour...</td>\n",
              "    </tr>\n",
              "    <tr>\n",
              "      <th>206611</th>\n",
              "      <td>sweet potato shepherd s pie</td>\n",
              "      <td>272104</td>\n",
              "      <td>60</td>\n",
              "      <td>350627</td>\n",
              "      <td>2007-12-16</td>\n",
              "      <td>['60-minutes-or-less', 'time-to-make', 'course...</td>\n",
              "      <td>[373.3, 24.0, 34.0, 15.0, 53.0, 25.0, 10.0]</td>\n",
              "      <td>14</td>\n",
              "      <td>['spray a 9\" x 13\" baking dish with non-stick ...</td>\n",
              "      <td>we clipped out this recipe and i want to post ...</td>\n",
              "      <td>['sweet potatoes', 'butter', 'buttermilk', 'pa...</td>\n",
              "      <td>16</td>\n",
              "      <td>sweet potatoes,butter,buttermilk,parsley,salt ...</td>\n",
              "      <td>60-minutes-or-less,time-to-make,course,main-in...</td>\n",
              "    </tr>\n",
              "    <tr>\n",
              "      <th>211161</th>\n",
              "      <td>the  sommer  smoothie</td>\n",
              "      <td>177896</td>\n",
              "      <td>3</td>\n",
              "      <td>164610</td>\n",
              "      <td>2006-07-17</td>\n",
              "      <td>['15-minutes-or-less', 'time-to-make', 'course...</td>\n",
              "      <td>[383.8, 6.0, 210.0, 5.0, 21.0, 3.0, 26.0]</td>\n",
              "      <td>6</td>\n",
              "      <td>['place all ingredients into a blender', 'blen...</td>\n",
              "      <td>i call this the \"sommer\" smoothie for two reas...</td>\n",
              "      <td>['unsweetened soymilk', 'banana', 'frozen unsw...</td>\n",
              "      <td>8</td>\n",
              "      <td>unsweetened soymilk,banana,frozen unsweetened ...</td>\n",
              "      <td>15-minutes-or-less,time-to-make,course,main-in...</td>\n",
              "    </tr>\n",
              "    <tr>\n",
              "      <th>218274</th>\n",
              "      <td>turkey sandwich with cream cheese   avocado</td>\n",
              "      <td>308674</td>\n",
              "      <td>5</td>\n",
              "      <td>227932</td>\n",
              "      <td>2008-06-11</td>\n",
              "      <td>['15-minutes-or-less', 'time-to-make', 'course...</td>\n",
              "      <td>[496.9, 40.0, 29.0, 75.0, 48.0, 34.0, 14.0]</td>\n",
              "      <td>4</td>\n",
              "      <td>['lightly toast bread', 'spread mayo and cream...</td>\n",
              "      <td>i enjoy a sandwich very similar to this at a l...</td>\n",
              "      <td>['bread', 'deli turkey', 'avocado', 'low-fat c...</td>\n",
              "      <td>6</td>\n",
              "      <td>bread,deli turkey,avocado,low-fat cream cheese...</td>\n",
              "      <td>15-minutes-or-less,time-to-make,course,main-in...</td>\n",
              "    </tr>\n",
              "  </tbody>\n",
              "</table>\n",
              "</div>"
            ],
            "text/plain": [
              "                                                     name      id  minutes  \\\n",
              "6937                                    apple nut muffins  400691       60   \n",
              "10021   asparagus with toasted pine nuts   lemon vinai...    7218       11   \n",
              "24339                               black bean tamale pie  422184       45   \n",
              "37015                           carrot muffins with apple   34184       33   \n",
              "47671                               chili mashed potatoes   52696       25   \n",
              "77152                      easy microwave chocolate fudge  174932        5   \n",
              "96551                                          greek mama  171496        5   \n",
              "113248                          italian style ground beef  109487       25   \n",
              "113444                          italian style ground beef  218857       40   \n",
              "114613                                       java chicken   39352      500   \n",
              "132456                            meat or mushroom kubbeh   26755       60   \n",
              "132640                               meatballs stroganoff  134748       75   \n",
              "156601                            pear and walnut muffins  190684       35   \n",
              "169089                             quick meatball lasagna  111426      100   \n",
              "172874        regal alaskan s blackened shrimp or halibut   67652       65   \n",
              "181569      sauteed sea scallops with caramelized peaches   53856       27   \n",
              "187480                 simplest 5 ingredient sweet heaven   46204       45   \n",
              "190988                         soft snickerdoodle cookies   97496       25   \n",
              "193208                        soy protein powder smoothie  218080        2   \n",
              "193946                                 spanish pasta toss  369707        5   \n",
              "194656                         spiced carrot salad  greek  269463       12   \n",
              "198189                       spinach  onion tofu stir fry  168035       30   \n",
              "198278                                   spinach rice pot  511961       45   \n",
              "206611                        sweet potato shepherd s pie  272104       60   \n",
              "211161                              the  sommer  smoothie  177896        3   \n",
              "218274        turkey sandwich with cream cheese   avocado  308674        5   \n",
              "\n",
              "        contributor_id   submitted  \\\n",
              "6937            463435  2009-11-22   \n",
              "10021            53425  2000-03-06   \n",
              "24339          1413296  2010-04-29   \n",
              "37015            27643  2002-07-15   \n",
              "47671            41480  2003-01-29   \n",
              "77152           194696  2006-06-27   \n",
              "96551            58104  2006-06-05   \n",
              "113248          190300  2005-01-25   \n",
              "113444          330545  2007-03-26   \n",
              "114613           39547  2002-09-03   \n",
              "132456           21752  2002-04-29   \n",
              "132640          229137  2005-08-24   \n",
              "156601           37449  2006-10-14   \n",
              "169089            6258  2005-02-18   \n",
              "172874           93190  2003-07-26   \n",
              "181569           15034  2003-02-10   \n",
              "187480           39992  2002-11-15   \n",
              "190988          156653  2004-08-10   \n",
              "193208          336058  2007-03-21   \n",
              "193946          171790  2009-05-05   \n",
              "194656          527607  2007-12-03   \n",
              "198189          317805  2006-05-15   \n",
              "198278          220195  2014-01-11   \n",
              "206611          350627  2007-12-16   \n",
              "211161          164610  2006-07-17   \n",
              "218274          227932  2008-06-11   \n",
              "\n",
              "                                                     tags  \\\n",
              "6937    ['60-minutes-or-less', 'time-to-make', 'course...   \n",
              "10021   ['15-minutes-or-less', 'time-to-make', 'main-i...   \n",
              "24339   ['weeknight', '60-minutes-or-less', 'time-to-m...   \n",
              "37015   ['60-minutes-or-less', 'time-to-make', 'course...   \n",
              "47671   ['30-minutes-or-less', 'time-to-make', 'course...   \n",
              "77152   ['15-minutes-or-less', 'time-to-make', 'course...   \n",
              "96551   ['15-minutes-or-less', 'time-to-make', 'course...   \n",
              "113248  ['30-minutes-or-less', 'time-to-make', 'main-i...   \n",
              "113444  ['60-minutes-or-less', 'time-to-make', 'course...   \n",
              "114613  ['weeknight', 'time-to-make', 'course', 'main-...   \n",
              "132456  ['60-minutes-or-less', 'time-to-make', 'course...   \n",
              "132640  ['time-to-make', 'course', 'main-ingredient', ...   \n",
              "156601  ['60-minutes-or-less', 'time-to-make', 'course...   \n",
              "169089  ['time-to-make', 'course', 'main-ingredient', ...   \n",
              "172874  ['weeknight', 'time-to-make', 'course', 'main-...   \n",
              "181569  ['30-minutes-or-less', 'time-to-make', 'course...   \n",
              "187480  ['60-minutes-or-less', 'time-to-make', 'course...   \n",
              "190988  ['30-minutes-or-less', 'time-to-make', 'course...   \n",
              "193208  ['15-minutes-or-less', 'time-to-make', 'course...   \n",
              "193946  ['15-minutes-or-less', 'time-to-make', 'course...   \n",
              "194656  ['15-minutes-or-less', 'time-to-make', 'course...   \n",
              "198189  ['30-minutes-or-less', 'time-to-make', 'course...   \n",
              "198278  ['weeknight', '60-minutes-or-less', 'time-to-m...   \n",
              "206611  ['60-minutes-or-less', 'time-to-make', 'course...   \n",
              "211161  ['15-minutes-or-less', 'time-to-make', 'course...   \n",
              "218274  ['15-minutes-or-less', 'time-to-make', 'course...   \n",
              "\n",
              "                                              nutrition  n_steps  \\\n",
              "6937       [478.7, 36.0, 123.0, 23.0, 13.0, 62.0, 20.0]       22   \n",
              "10021          [189.0, 27.0, 7.0, 12.0, 7.0, 11.0, 2.0]       13   \n",
              "24339       [435.7, 33.0, 23.0, 25.0, 50.0, 36.0, 12.0]       11   \n",
              "37015         [200.9, 10.0, 69.0, 14.0, 7.0, 5.0, 10.0]        6   \n",
              "47671         [299.6, 17.0, 8.0, 5.0, 19.0, 35.0, 13.0]        7   \n",
              "77152          [161.0, 14.0, 60.0, 1.0, 5.0, 20.0, 5.0]        5   \n",
              "96551              [65.5, 0.0, 0.0, 0.0, 0.0, 0.0, 0.0]        1   \n",
              "113248    [1112.8, 125.0, 5.0, 12.0, 169.0, 142.0, 1.0]        4   \n",
              "113444       [388.9, 33.0, 25.0, 27.0, 67.0, 47.0, 4.0]       10   \n",
              "114613       [341.9, 8.0, 161.0, 16.0, 56.0, 4.0, 14.0]       14   \n",
              "132456        [260.0, 23.0, 9.0, 17.0, 24.0, 18.0, 6.0]       22   \n",
              "132640      [791.4, 83.0, 16.0, 35.0, 89.0, 135.0, 8.0]       19   \n",
              "156601           [147.6, 8.0, 51.0, 7.0, 5.0, 4.0, 7.0]       17   \n",
              "169089      [413.6, 25.0, 64.0, 44.0, 46.0, 42.0, 13.0]       21   \n",
              "172874  [1955.6, 188.0, 17.0, 932.0, 372.0, 348.0, 9.0]       16   \n",
              "181569         [170.3, 11.0, 20.0, 6.0, 31.0, 5.0, 3.0]       11   \n",
              "187480         [145.9, 11.0, 63.0, 1.0, 4.0, 17.0, 6.0]       11   \n",
              "190988         [182.3, 12.0, 56.0, 6.0, 4.0, 25.0, 8.0]       10   \n",
              "193208         [296.1, 1.0, 197.0, 0.0, 6.0, 1.0, 23.0]        1   \n",
              "193946          [287.8, 29.0, 8.0, 0.0, 7.0, 13.0, 9.0]        3   \n",
              "194656          [129.6, 16.0, 14.0, 2.0, 2.0, 7.0, 2.0]        4   \n",
              "198189       [390.2, 48.0, 16.0, 53.0, 34.0, 22.0, 5.0]        5   \n",
              "198278        [295.9, 21.0, 2.0, 23.0, 29.0, 36.0, 9.0]        6   \n",
              "206611      [373.3, 24.0, 34.0, 15.0, 53.0, 25.0, 10.0]       14   \n",
              "211161        [383.8, 6.0, 210.0, 5.0, 21.0, 3.0, 26.0]        6   \n",
              "218274      [496.9, 40.0, 29.0, 75.0, 48.0, 34.0, 14.0]        4   \n",
              "\n",
              "                                                    steps  \\\n",
              "6937    ['for apple filling:', 'in a saucepan , melt b...   \n",
              "10021   ['snap off tough ends of asparagus', 'remove s...   \n",
              "24339   ['in a skillet , saute onions and green pepper...   \n",
              "37015   ['mix first 6 ingredients in lg bowl', 'in sma...   \n",
              "47671   ['in medium saucepan , cover potatoes with wat...   \n",
              "77152   ['place chocolate chips , condensed milk and b...   \n",
              "96551   ['shake with ice and strain pouring into a mar...   \n",
              "113248  ['heat oil in pan until hot', 'combine green p...   \n",
              "113444  ['mix together beef , water , seasoned salt , ...   \n",
              "114613  ['heat a saut pan over medium flame , add oil ...   \n",
              "132456  ['the amount of crust in the recipe is adequat...   \n",
              "132640  ['in small bowl combine milk and breadcrumbs a...   \n",
              "156601  ['preheat oven to 400f', 'place walnuts in a f...   \n",
              "169089  ['slice thawed meatballs in half', 'set aside'...   \n",
              "172874  ['this recipe is designed to feed however many...   \n",
              "181569  ['place oil in sautee pan and heat until light...   \n",
              "187480  ['preheat oven to 350 degrees', 'generously bu...   \n",
              "190988  ['preheat oven to 350f', 'mix softened butter ...   \n",
              "193208  ['combine in blender and process until creamy ...   \n",
              "193946  ['in a large bowl , whisk together the olive o...   \n",
              "194656  ['shred the carrots', 'combine the carrots , g...   \n",
              "198189  ['place the oil and tofu in a large frying pan...   \n",
              "198278  ['preheat oven to 350 fahrenheit', 'combine ri...   \n",
              "206611  ['spray a 9\" x 13\" baking dish with non-stick ...   \n",
              "211161  ['place all ingredients into a blender', 'blen...   \n",
              "218274  ['lightly toast bread', 'spread mayo and cream...   \n",
              "\n",
              "                                              description  \\\n",
              "6937    this are like little coffee cakes to-go. perfe...   \n",
              "10021                                                 NaN   \n",
              "24339   one of my picky family's most favorite recipes...   \n",
              "37015   these easy muffins are fruity, moist and delic...   \n",
              "47671   pep up your mashed potatoes with chili powder ...   \n",
              "77152   this chocolate fudge is so easy and so yummy. ...   \n",
              "96551                     chill your martini glasses!!!!!   \n",
              "113248  this recipe is used to mix with spagetti. i le...   \n",
              "113444  best results come from using a lean ground mea...   \n",
              "114613  here's a change of pace for your marinated chi...   \n",
              "132456  as per recipe request. time consuming, but rea...   \n",
              "132640  the stroganoff recipe is easy and very tasty w...   \n",
              "156601  pears and walnuts pair up so well together! an...   \n",
              "169089  i found this recipe in the san antonio express...   \n",
              "172874  this recipe was given to me by a chef at the r...   \n",
              "181569  most excellent recipe i invented while doing a...   \n",
              "187480  it's easy, fast, and everyone loves it. it doe...   \n",
              "190988  these snickerdoodle cookies are so delicious, ...   \n",
              "193208  from outpost natural foods.  i never thought o...   \n",
              "193946  a recipe from chatelaine food express quickies...   \n",
              "194656  from chef on a shoestring's greek menu. this s...   \n",
              "198189          a healthy hearty meal with a great taste!   \n",
              "198278  a casserole from the classic \"diet for a small...   \n",
              "206611  we clipped out this recipe and i want to post ...   \n",
              "211161  i call this the \"sommer\" smoothie for two reas...   \n",
              "218274  i enjoy a sandwich very similar to this at a l...   \n",
              "\n",
              "                                              ingredients  n_ingredients  \\\n",
              "6937    ['butter', 'brown sugar', 'flour', 'ground cin...             15   \n",
              "10021   ['asparagus', 'pine nuts', 'olive oil', 'lemon...              9   \n",
              "24339   ['vegetable oil', 'onion', 'green pepper', 'gr...             14   \n",
              "37015   ['raisin bran cereal', 'flour', 'sugar', 'baki...             12   \n",
              "47671   ['potatoes', 'sour cream', 'green onion', 'chi...              9   \n",
              "77152   ['milk chocolate chips', 'sweetened condensed ...              4   \n",
              "96551                  ['frangelico', 'ouzo', 'dark rum']              3   \n",
              "113248  ['ground beef', 'fresh garlic', 'onion', 'gree...              8   \n",
              "113444  ['lean ground beef', 'cold water', 'seasoning ...             11   \n",
              "114613  ['boneless skinless chicken breasts', 'onion',...             10   \n",
              "132456  ['canned mushroom', 'oil', 'onions', 'black pe...             17   \n",
              "132640  ['ground beef', 'breadcrumbs', 'milk', 'egg', ...             22   \n",
              "156601  ['walnuts', 'all-purpose flour', 'whole wheat ...             16   \n",
              "169089  ['meatballs', 'marinara sauce', 'lasagna noodl...              7   \n",
              "172874  ['halibut fillet', 'large shrimp', 'butter', '...             18   \n",
              "181569  ['sea scallops', 'salt and pepper', 'olive oil...              8   \n",
              "187480  ['graham cracker crumbs', 'eagle brand condens...              5   \n",
              "190988  ['butter', 'sugar', 'eggs', 'flour', 'cream of...              9   \n",
              "193208  ['orange juice', 'powdered soy protein concent...              6   \n",
              "193946  ['olive oil', 'red wine vinegar', 'garlic clov...              7   \n",
              "194656  ['carrots', 'garlic clove', 'ground walnuts', ...             10   \n",
              "198189  ['olive oil', 'tofu', 'onion', 'dry roasted pe...             10   \n",
              "198278  ['cooked brown rice', 'cheddar cheese', 'eggs'...              9   \n",
              "206611  ['sweet potatoes', 'butter', 'buttermilk', 'pa...             16   \n",
              "211161  ['unsweetened soymilk', 'banana', 'frozen unsw...              8   \n",
              "218274  ['bread', 'deli turkey', 'avocado', 'low-fat c...              6   \n",
              "\n",
              "                                          ingredients_str  \\\n",
              "6937    butter,brown sugar,flour,ground cinnamon,groun...   \n",
              "10021   asparagus,pine nuts,olive oil,lemon juice,garl...   \n",
              "24339   vegetable oil,onion,green pepper,ground turkey...   \n",
              "37015   raisin bran cereal,flour,sugar,baking soda,cin...   \n",
              "47671   potatoes,sour cream,green onion,chili powder,t...   \n",
              "77152   milk chocolate chips,sweetened condensed milk,...   \n",
              "96551   frangelico,ouzo,dark rum,empty,empty,empty,emp...   \n",
              "113248  ground beef,fresh garlic,onion,green pepper,or...   \n",
              "113444  lean ground beef,cold water,seasoning salt,bla...   \n",
              "114613  boneless skinless chicken breasts,onion,olive ...   \n",
              "132456  canned mushroom,oil,onions,black pepper,cinnam...   \n",
              "132640  ground beef,breadcrumbs,milk,egg,white onion,p...   \n",
              "156601  walnuts,all-purpose flour,whole wheat flour,ba...   \n",
              "169089  meatballs,marinara sauce,lasagna noodles,egg,l...   \n",
              "172874  halibut fillet,large shrimp,butter,paprika,sal...   \n",
              "181569  sea scallops,salt and pepper,olive oil,garlic,...   \n",
              "187480  graham cracker crumbs,eagle brand condensed mi...   \n",
              "190988  butter,sugar,eggs,flour,cream of tartar,baking...   \n",
              "193208  orange juice,powdered soy protein concentrate,...   \n",
              "193946  olive oil,red wine vinegar,garlic cloves,dried...   \n",
              "194656  carrots,garlic clove,ground walnuts,ground cin...   \n",
              "198189  olive oil,tofu,onion,dry roasted peanuts,dry b...   \n",
              "198278  cooked brown rice,cheddar cheese,eggs,fresh pa...   \n",
              "206611  sweet potatoes,butter,buttermilk,parsley,salt ...   \n",
              "211161  unsweetened soymilk,banana,frozen unsweetened ...   \n",
              "218274  bread,deli turkey,avocado,low-fat cream cheese...   \n",
              "\n",
              "                                                 tags_str  \n",
              "6937    60-minutes-or-less,time-to-make,course,main-in...  \n",
              "10021   15-minutes-or-less,time-to-make,main-ingredien...  \n",
              "24339   weeknight,60-minutes-or-less,time-to-make,cour...  \n",
              "37015   60-minutes-or-less,time-to-make,course,main-in...  \n",
              "47671   30-minutes-or-less,time-to-make,course,main-in...  \n",
              "77152   15-minutes-or-less,time-to-make,course,main-in...  \n",
              "96551   15-minutes-or-less,time-to-make,course,cuisine...  \n",
              "113248  30-minutes-or-less,time-to-make,main-ingredien...  \n",
              "113444  60-minutes-or-less,time-to-make,course,main-in...  \n",
              "114613  weeknight,time-to-make,course,main-ingredient,...  \n",
              "132456  60-minutes-or-less,time-to-make,course,main-in...  \n",
              "132640  time-to-make,course,main-ingredient,cuisine,pr...  \n",
              "156601  60-minutes-or-less,time-to-make,course,main-in...  \n",
              "169089  time-to-make,course,main-ingredient,cuisine,pr...  \n",
              "172874  weeknight,time-to-make,course,main-ingredient,...  \n",
              "181569  30-minutes-or-less,time-to-make,course,main-in...  \n",
              "187480  60-minutes-or-less,time-to-make,course,cuisine...  \n",
              "190988  30-minutes-or-less,time-to-make,course,prepara...  \n",
              "193208  15-minutes-or-less,time-to-make,course,main-in...  \n",
              "193946  15-minutes-or-less,time-to-make,course,main-in...  \n",
              "194656  15-minutes-or-less,time-to-make,course,cuisine...  \n",
              "198189  30-minutes-or-less,time-to-make,course,main-in...  \n",
              "198278  weeknight,60-minutes-or-less,time-to-make,cour...  \n",
              "206611  60-minutes-or-less,time-to-make,course,main-in...  \n",
              "211161  15-minutes-or-less,time-to-make,course,main-in...  \n",
              "218274  15-minutes-or-less,time-to-make,course,main-in...  "
            ]
          },
          "execution_count": 99,
          "metadata": {},
          "output_type": "execute_result"
        }
      ],
      "source": [
        "recommended_tags"
      ]
    }
  ],
  "metadata": {
    "colab": {
      "provenance": []
    },
    "kernelspec": {
      "display_name": "Python 3",
      "name": "python3"
    },
    "language_info": {
      "codemirror_mode": {
        "name": "ipython",
        "version": 3
      },
      "file_extension": ".py",
      "mimetype": "text/x-python",
      "name": "python",
      "nbconvert_exporter": "python",
      "pygments_lexer": "ipython3",
      "version": "3.10.0"
    }
  },
  "nbformat": 4,
  "nbformat_minor": 0
}
