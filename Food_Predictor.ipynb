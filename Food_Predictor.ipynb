{
  "cells": [
    {
      "cell_type": "code",
      "execution_count": 1,
      "metadata": {
        "id": "2rptU6mxyaoP"
      },
      "outputs": [
        {
          "name": "stdout",
          "output_type": "stream",
          "text": [
            "WARNING:tensorflow:From C:\\Users\\Maincharter\\AppData\\Roaming\\Python\\Python310\\site-packages\\keras\\src\\losses.py:2976: The name tf.losses.sparse_softmax_cross_entropy is deprecated. Please use tf.compat.v1.losses.sparse_softmax_cross_entropy instead.\n",
            "\n"
          ]
        }
      ],
      "source": [
        "from typing import Dict, Text\n",
        "\n",
        "import numpy as np\n",
        "import tensorflow as tf\n",
        "import tensorflow_datasets as tfds\n",
        "import pandas as pd\n",
        "import tensorflow_recommenders as tfrs"
      ]
    },
    {
      "cell_type": "code",
      "execution_count": 2,
      "metadata": {},
      "outputs": [],
      "source": [
        "import os\n",
        "os.environ['TF_ENABLE_ONEDNN_OPTS'] = '0'"
      ]
    },
    {
      "cell_type": "markdown",
      "metadata": {
        "id": "16W1-BvjtVmz"
      },
      "source": [
        "Let's pretend we have 3 users:\n",
        "1. Clarissa is a vegetarian who is lactose intolerant. 🥝🍅\n",
        "2. Martin is an athlete who prefers meat dishes to vegetable dishes. 🍖🥩\n",
        "3. Stella - has no special preferences, eats mostly everything. 🍲🍠"
      ]
    },
    {
      "cell_type": "code",
      "execution_count": 3,
      "metadata": {
        "id": "FDNshkxJvR-U"
      },
      "outputs": [],
      "source": [
        "clarissa = {'id':'clr', 'prefers': ['vegetables', 'vegan', 'nomeat', 'vegetarian'], 'hates': ['meat', 'lactose']}\n",
        "martin = {'id':'mrt', 'prefers': 'meat', 'hates': 'vegetables'}\n",
        "stella = {'id':'stl', 'prefers': '', 'hates': ''}"
      ]
    },
    {
      "cell_type": "markdown",
      "metadata": {
        "id": "FS8T34Y4xNhX"
      },
      "source": [
        "We will additionally enter the factors Calories, Protein, Fat, Carbohydrates for our requirements. **(The numbers were taken at random and do not reflect proportions or recommendations - the numbers are just an example)**\n",
        "* Clarissa - 2000/100/60/120\n",
        "* Martin, 2600/150/100/328.\n",
        "* Stella - 2200/80/50/100"
      ]
    },
    {
      "cell_type": "code",
      "execution_count": 4,
      "metadata": {
        "id": "qoPCpCLMxUob"
      },
      "outputs": [],
      "source": [
        "def set_requirements(user, calories, proteins, fats, carbs):\n",
        "  user['calories'] = calories\n",
        "  user['proteins'] = proteins\n",
        "  user['fats'] = fats\n",
        "  user['carbs'] = carbs\n",
        "set_requirements(clarissa, 2000, 100, 60, 120)\n",
        "set_requirements(martin, 2600, 150, 100, 328)\n",
        "set_requirements(martin, 2200, 80, 50, 100)\n"
      ]
    },
    {
      "cell_type": "markdown",
      "metadata": {
        "id": "iFMln3jutPpe"
      },
      "source": [
        "# Data processing 📊"
      ]
    },
    {
      "cell_type": "markdown",
      "metadata": {
        "id": "yDHv_HGvzWkB"
      },
      "source": [
        "Loading recipes and user_interactions. Nutritions showed like:calories (#), total fat (PDV), sugar (PDV) , sodium (PDV) , protein (PDV) , saturated fat (PDV) , and carbohydrates (PDV)"
      ]
    },
    {
      "cell_type": "code",
      "execution_count": 5,
      "metadata": {
        "colab": {
          "base_uri": "https://localhost:8080/",
          "height": 293
        },
        "id": "1gVJ6QAiyXLz",
        "outputId": "0e6c0673-457a-4063-eaa5-b553ec30edc8"
      },
      "outputs": [
        {
          "data": {
            "text/html": [
              "<div>\n",
              "<style scoped>\n",
              "    .dataframe tbody tr th:only-of-type {\n",
              "        vertical-align: middle;\n",
              "    }\n",
              "\n",
              "    .dataframe tbody tr th {\n",
              "        vertical-align: top;\n",
              "    }\n",
              "\n",
              "    .dataframe thead th {\n",
              "        text-align: right;\n",
              "    }\n",
              "</style>\n",
              "<table border=\"1\" class=\"dataframe\">\n",
              "  <thead>\n",
              "    <tr style=\"text-align: right;\">\n",
              "      <th></th>\n",
              "      <th>name</th>\n",
              "      <th>id</th>\n",
              "      <th>minutes</th>\n",
              "      <th>contributor_id</th>\n",
              "      <th>submitted</th>\n",
              "      <th>tags</th>\n",
              "      <th>nutrition</th>\n",
              "      <th>n_steps</th>\n",
              "      <th>steps</th>\n",
              "      <th>description</th>\n",
              "      <th>ingredients</th>\n",
              "      <th>n_ingredients</th>\n",
              "    </tr>\n",
              "  </thead>\n",
              "  <tbody>\n",
              "    <tr>\n",
              "      <th>0</th>\n",
              "      <td>arriba   baked winter squash mexican style</td>\n",
              "      <td>137739</td>\n",
              "      <td>55</td>\n",
              "      <td>47892</td>\n",
              "      <td>2005-09-16</td>\n",
              "      <td>['60-minutes-or-less', 'time-to-make', 'course...</td>\n",
              "      <td>[51.5, 0.0, 13.0, 0.0, 2.0, 0.0, 4.0]</td>\n",
              "      <td>11</td>\n",
              "      <td>['make a choice and proceed with recipe', 'dep...</td>\n",
              "      <td>autumn is my favorite time of year to cook! th...</td>\n",
              "      <td>['winter squash', 'mexican seasoning', 'mixed ...</td>\n",
              "      <td>7</td>\n",
              "    </tr>\n",
              "    <tr>\n",
              "      <th>1</th>\n",
              "      <td>a bit different  breakfast pizza</td>\n",
              "      <td>31490</td>\n",
              "      <td>30</td>\n",
              "      <td>26278</td>\n",
              "      <td>2002-06-17</td>\n",
              "      <td>['30-minutes-or-less', 'time-to-make', 'course...</td>\n",
              "      <td>[173.4, 18.0, 0.0, 17.0, 22.0, 35.0, 1.0]</td>\n",
              "      <td>9</td>\n",
              "      <td>['preheat oven to 425 degrees f', 'press dough...</td>\n",
              "      <td>this recipe calls for the crust to be prebaked...</td>\n",
              "      <td>['prepared pizza crust', 'sausage patty', 'egg...</td>\n",
              "      <td>6</td>\n",
              "    </tr>\n",
              "    <tr>\n",
              "      <th>2</th>\n",
              "      <td>all in the kitchen  chili</td>\n",
              "      <td>112140</td>\n",
              "      <td>130</td>\n",
              "      <td>196586</td>\n",
              "      <td>2005-02-25</td>\n",
              "      <td>['time-to-make', 'course', 'preparation', 'mai...</td>\n",
              "      <td>[269.8, 22.0, 32.0, 48.0, 39.0, 27.0, 5.0]</td>\n",
              "      <td>6</td>\n",
              "      <td>['brown ground beef in large pot', 'add choppe...</td>\n",
              "      <td>this modified version of 'mom's' chili was a h...</td>\n",
              "      <td>['ground beef', 'yellow onions', 'diced tomato...</td>\n",
              "      <td>13</td>\n",
              "    </tr>\n",
              "    <tr>\n",
              "      <th>3</th>\n",
              "      <td>alouette  potatoes</td>\n",
              "      <td>59389</td>\n",
              "      <td>45</td>\n",
              "      <td>68585</td>\n",
              "      <td>2003-04-14</td>\n",
              "      <td>['60-minutes-or-less', 'time-to-make', 'course...</td>\n",
              "      <td>[368.1, 17.0, 10.0, 2.0, 14.0, 8.0, 20.0]</td>\n",
              "      <td>11</td>\n",
              "      <td>['place potatoes in a large pot of lightly sal...</td>\n",
              "      <td>this is a super easy, great tasting, make ahea...</td>\n",
              "      <td>['spreadable cheese with garlic and herbs', 'n...</td>\n",
              "      <td>11</td>\n",
              "    </tr>\n",
              "    <tr>\n",
              "      <th>4</th>\n",
              "      <td>amish  tomato ketchup  for canning</td>\n",
              "      <td>44061</td>\n",
              "      <td>190</td>\n",
              "      <td>41706</td>\n",
              "      <td>2002-10-25</td>\n",
              "      <td>['weeknight', 'time-to-make', 'course', 'main-...</td>\n",
              "      <td>[352.9, 1.0, 337.0, 23.0, 3.0, 0.0, 28.0]</td>\n",
              "      <td>5</td>\n",
              "      <td>['mix all ingredients&amp; boil for 2 1 / 2 hours ...</td>\n",
              "      <td>my dh's amish mother raised him on this recipe...</td>\n",
              "      <td>['tomato juice', 'apple cider vinegar', 'sugar...</td>\n",
              "      <td>8</td>\n",
              "    </tr>\n",
              "  </tbody>\n",
              "</table>\n",
              "</div>"
            ],
            "text/plain": [
              "                                         name      id  minutes  \\\n",
              "0  arriba   baked winter squash mexican style  137739       55   \n",
              "1            a bit different  breakfast pizza   31490       30   \n",
              "2                   all in the kitchen  chili  112140      130   \n",
              "3                          alouette  potatoes   59389       45   \n",
              "4          amish  tomato ketchup  for canning   44061      190   \n",
              "\n",
              "   contributor_id   submitted  \\\n",
              "0           47892  2005-09-16   \n",
              "1           26278  2002-06-17   \n",
              "2          196586  2005-02-25   \n",
              "3           68585  2003-04-14   \n",
              "4           41706  2002-10-25   \n",
              "\n",
              "                                                tags  \\\n",
              "0  ['60-minutes-or-less', 'time-to-make', 'course...   \n",
              "1  ['30-minutes-or-less', 'time-to-make', 'course...   \n",
              "2  ['time-to-make', 'course', 'preparation', 'mai...   \n",
              "3  ['60-minutes-or-less', 'time-to-make', 'course...   \n",
              "4  ['weeknight', 'time-to-make', 'course', 'main-...   \n",
              "\n",
              "                                    nutrition  n_steps  \\\n",
              "0       [51.5, 0.0, 13.0, 0.0, 2.0, 0.0, 4.0]       11   \n",
              "1   [173.4, 18.0, 0.0, 17.0, 22.0, 35.0, 1.0]        9   \n",
              "2  [269.8, 22.0, 32.0, 48.0, 39.0, 27.0, 5.0]        6   \n",
              "3   [368.1, 17.0, 10.0, 2.0, 14.0, 8.0, 20.0]       11   \n",
              "4   [352.9, 1.0, 337.0, 23.0, 3.0, 0.0, 28.0]        5   \n",
              "\n",
              "                                               steps  \\\n",
              "0  ['make a choice and proceed with recipe', 'dep...   \n",
              "1  ['preheat oven to 425 degrees f', 'press dough...   \n",
              "2  ['brown ground beef in large pot', 'add choppe...   \n",
              "3  ['place potatoes in a large pot of lightly sal...   \n",
              "4  ['mix all ingredients& boil for 2 1 / 2 hours ...   \n",
              "\n",
              "                                         description  \\\n",
              "0  autumn is my favorite time of year to cook! th...   \n",
              "1  this recipe calls for the crust to be prebaked...   \n",
              "2  this modified version of 'mom's' chili was a h...   \n",
              "3  this is a super easy, great tasting, make ahea...   \n",
              "4  my dh's amish mother raised him on this recipe...   \n",
              "\n",
              "                                         ingredients  n_ingredients  \n",
              "0  ['winter squash', 'mexican seasoning', 'mixed ...              7  \n",
              "1  ['prepared pizza crust', 'sausage patty', 'egg...              6  \n",
              "2  ['ground beef', 'yellow onions', 'diced tomato...             13  \n",
              "3  ['spreadable cheese with garlic and herbs', 'n...             11  \n",
              "4  ['tomato juice', 'apple cider vinegar', 'sugar...              8  "
            ]
          },
          "execution_count": 5,
          "metadata": {},
          "output_type": "execute_result"
        }
      ],
      "source": [
        "raw_recipes = pd.read_csv('./sample_data/RAW_recipes.csv')\n",
        "raw_interactions = pd.read_csv('./sample_data/RAW_interactions.csv')\n",
        "raw_recipes.head()"
      ]
    },
    {
      "cell_type": "markdown",
      "metadata": {
        "id": "9_z_pQgv4fvC"
      },
      "source": [
        "Merge data interactions with recipe infos"
      ]
    },
    {
      "cell_type": "code",
      "execution_count": 6,
      "metadata": {
        "colab": {
          "base_uri": "https://localhost:8080/",
          "height": 293
        },
        "id": "ahU35J7P31xt",
        "outputId": "f26e3ef4-cfee-4ecd-b0bd-44e31a36503b"
      },
      "outputs": [
        {
          "data": {
            "text/html": [
              "<div>\n",
              "<style scoped>\n",
              "    .dataframe tbody tr th:only-of-type {\n",
              "        vertical-align: middle;\n",
              "    }\n",
              "\n",
              "    .dataframe tbody tr th {\n",
              "        vertical-align: top;\n",
              "    }\n",
              "\n",
              "    .dataframe thead th {\n",
              "        text-align: right;\n",
              "    }\n",
              "</style>\n",
              "<table border=\"1\" class=\"dataframe\">\n",
              "  <thead>\n",
              "    <tr style=\"text-align: right;\">\n",
              "      <th></th>\n",
              "      <th>user_id</th>\n",
              "      <th>recipe_id</th>\n",
              "      <th>rating</th>\n",
              "      <th>recipe_name</th>\n",
              "      <th>tags</th>\n",
              "      <th>ingredients</th>\n",
              "    </tr>\n",
              "  </thead>\n",
              "  <tbody>\n",
              "    <tr>\n",
              "      <th>0</th>\n",
              "      <td>38094</td>\n",
              "      <td>40893</td>\n",
              "      <td>4</td>\n",
              "      <td>white bean   green chile pepper soup</td>\n",
              "      <td>['weeknight', 'time-to-make', 'course', 'main-...</td>\n",
              "      <td>['great northern beans', 'yellow onion', 'dice...</td>\n",
              "    </tr>\n",
              "    <tr>\n",
              "      <th>1</th>\n",
              "      <td>1293707</td>\n",
              "      <td>40893</td>\n",
              "      <td>5</td>\n",
              "      <td>white bean   green chile pepper soup</td>\n",
              "      <td>['weeknight', 'time-to-make', 'course', 'main-...</td>\n",
              "      <td>['great northern beans', 'yellow onion', 'dice...</td>\n",
              "    </tr>\n",
              "    <tr>\n",
              "      <th>2</th>\n",
              "      <td>8937</td>\n",
              "      <td>44394</td>\n",
              "      <td>4</td>\n",
              "      <td>devilicious cookie cake delights</td>\n",
              "      <td>['30-minutes-or-less', 'time-to-make', 'course...</td>\n",
              "      <td>[\"devil's food cake mix\", 'vegetable oil', 'eg...</td>\n",
              "    </tr>\n",
              "    <tr>\n",
              "      <th>3</th>\n",
              "      <td>126440</td>\n",
              "      <td>85009</td>\n",
              "      <td>5</td>\n",
              "      <td>baked potato toppings</td>\n",
              "      <td>['15-minutes-or-less', 'time-to-make', 'course...</td>\n",
              "      <td>['mayonnaise', 'salsa', 'cheddar cheese', 'ref...</td>\n",
              "    </tr>\n",
              "    <tr>\n",
              "      <th>4</th>\n",
              "      <td>57222</td>\n",
              "      <td>85009</td>\n",
              "      <td>5</td>\n",
              "      <td>baked potato toppings</td>\n",
              "      <td>['15-minutes-or-less', 'time-to-make', 'course...</td>\n",
              "      <td>['mayonnaise', 'salsa', 'cheddar cheese', 'ref...</td>\n",
              "    </tr>\n",
              "  </tbody>\n",
              "</table>\n",
              "</div>"
            ],
            "text/plain": [
              "   user_id  recipe_id  rating                           recipe_name  \\\n",
              "0    38094      40893       4  white bean   green chile pepper soup   \n",
              "1  1293707      40893       5  white bean   green chile pepper soup   \n",
              "2     8937      44394       4      devilicious cookie cake delights   \n",
              "3   126440      85009       5                 baked potato toppings   \n",
              "4    57222      85009       5                 baked potato toppings   \n",
              "\n",
              "                                                tags  \\\n",
              "0  ['weeknight', 'time-to-make', 'course', 'main-...   \n",
              "1  ['weeknight', 'time-to-make', 'course', 'main-...   \n",
              "2  ['30-minutes-or-less', 'time-to-make', 'course...   \n",
              "3  ['15-minutes-or-less', 'time-to-make', 'course...   \n",
              "4  ['15-minutes-or-less', 'time-to-make', 'course...   \n",
              "\n",
              "                                         ingredients  \n",
              "0  ['great northern beans', 'yellow onion', 'dice...  \n",
              "1  ['great northern beans', 'yellow onion', 'dice...  \n",
              "2  [\"devil's food cake mix\", 'vegetable oil', 'eg...  \n",
              "3  ['mayonnaise', 'salsa', 'cheddar cheese', 'ref...  \n",
              "4  ['mayonnaise', 'salsa', 'cheddar cheese', 'ref...  "
            ]
          },
          "execution_count": 6,
          "metadata": {},
          "output_type": "execute_result"
        }
      ],
      "source": [
        "interactions_with_recipe_info = pd.merge(raw_interactions, raw_recipes[['name', 'tags', 'ingredients', 'id']], left_on='recipe_id', right_on='id', how='left')\n",
        "interactions_with_recipe_info = interactions_with_recipe_info[['user_id', 'recipe_id', 'rating', 'name', 'tags', 'ingredients']]\n",
        "interactions_with_recipe_info.rename(columns={'name': 'recipe_name'}, inplace=True)\n",
        "interactions_with_recipe_info.head()"
      ]
    },
    {
      "cell_type": "code",
      "execution_count": 7,
      "metadata": {
        "id": "a47R5lVA2r_t"
      },
      "outputs": [],
      "source": [
        "import ast\n",
        "\n",
        "def convert_to_list(data_str):\n",
        "  try:\n",
        "    return ast.literal_eval(data_str)\n",
        "  except (SyntaxError, ValueError):\n",
        "    return []"
      ]
    },
    {
      "cell_type": "code",
      "execution_count": 8,
      "metadata": {
        "id": "Fai3Kw-i7xmw"
      },
      "outputs": [],
      "source": [
        "interactions_with_recipe_info['ingredients_str'] = interactions_with_recipe_info['ingredients'].apply(convert_to_list)\n",
        "interactions_with_recipe_info['tags_str'] = interactions_with_recipe_info['tags'].apply(convert_to_list)\n",
        "raw_recipes['ingredients_str'] = raw_recipes['ingredients'].apply(convert_to_list)\n",
        "raw_recipes['tags_str'] = raw_recipes['tags'].apply(convert_to_list)"
      ]
    },
    {
      "cell_type": "markdown",
      "metadata": {
        "id": "nVgYKJQ57wyE"
      },
      "source": [
        "Formatting data for Datasets"
      ]
    },
    {
      "cell_type": "code",
      "execution_count": 9,
      "metadata": {
        "id": "6wavCmee7zWl"
      },
      "outputs": [],
      "source": [
        "interactions_with_recipe_info['user_id'] = interactions_with_recipe_info.user_id.astype(\"str\")\n",
        "interactions_with_recipe_info['recipe_id'] = interactions_with_recipe_info.recipe_id.astype(\"str\")\n",
        "interactions_with_recipe_info['rating'] = interactions_with_recipe_info.rating.astype(np.float32)\n",
        "interactions_with_recipe_info['recipe_name'] = interactions_with_recipe_info.recipe_name.astype(\"str\")\n",
        "interactions_with_recipe_info['tags'] = interactions_with_recipe_info.tags.astype(\"str\")\n",
        "interactions_with_recipe_info['ingredients'] = interactions_with_recipe_info.ingredients.astype(\"str\")\n"
      ]
    },
    {
      "cell_type": "markdown",
      "metadata": {
        "id": "ZMXuOAHX9sgD"
      },
      "source": [
        "Creating train preferences for users"
      ]
    },
    {
      "cell_type": "code",
      "execution_count": 10,
      "metadata": {
        "colab": {
          "base_uri": "https://localhost:8080/",
          "height": 206
        },
        "id": "4XwFlxfM9wJI",
        "outputId": "c018cb40-8d45-400f-93bf-e5dc2ee5b992"
      },
      "outputs": [
        {
          "data": {
            "text/html": [
              "<div>\n",
              "<style scoped>\n",
              "    .dataframe tbody tr th:only-of-type {\n",
              "        vertical-align: middle;\n",
              "    }\n",
              "\n",
              "    .dataframe tbody tr th {\n",
              "        vertical-align: top;\n",
              "    }\n",
              "\n",
              "    .dataframe thead th {\n",
              "        text-align: right;\n",
              "    }\n",
              "</style>\n",
              "<table border=\"1\" class=\"dataframe\">\n",
              "  <thead>\n",
              "    <tr style=\"text-align: right;\">\n",
              "      <th></th>\n",
              "      <th>user_id</th>\n",
              "      <th>rating</th>\n",
              "      <th>tags_str</th>\n",
              "    </tr>\n",
              "  </thead>\n",
              "  <tbody>\n",
              "    <tr>\n",
              "      <th>0</th>\n",
              "      <td>38094</td>\n",
              "      <td>4.0</td>\n",
              "      <td>[weeknight, time-to-make, course, main-ingredi...</td>\n",
              "    </tr>\n",
              "    <tr>\n",
              "      <th>1</th>\n",
              "      <td>1293707</td>\n",
              "      <td>5.0</td>\n",
              "      <td>[weeknight, time-to-make, course, main-ingredi...</td>\n",
              "    </tr>\n",
              "    <tr>\n",
              "      <th>2</th>\n",
              "      <td>8937</td>\n",
              "      <td>4.0</td>\n",
              "      <td>[30-minutes-or-less, time-to-make, course, mai...</td>\n",
              "    </tr>\n",
              "    <tr>\n",
              "      <th>3</th>\n",
              "      <td>126440</td>\n",
              "      <td>5.0</td>\n",
              "      <td>[15-minutes-or-less, time-to-make, course, mai...</td>\n",
              "    </tr>\n",
              "    <tr>\n",
              "      <th>4</th>\n",
              "      <td>57222</td>\n",
              "      <td>5.0</td>\n",
              "      <td>[15-minutes-or-less, time-to-make, course, mai...</td>\n",
              "    </tr>\n",
              "  </tbody>\n",
              "</table>\n",
              "</div>"
            ],
            "text/plain": [
              "   user_id  rating                                           tags_str\n",
              "0    38094     4.0  [weeknight, time-to-make, course, main-ingredi...\n",
              "1  1293707     5.0  [weeknight, time-to-make, course, main-ingredi...\n",
              "2     8937     4.0  [30-minutes-or-less, time-to-make, course, mai...\n",
              "3   126440     5.0  [15-minutes-or-less, time-to-make, course, mai...\n",
              "4    57222     5.0  [15-minutes-or-less, time-to-make, course, mai..."
            ]
          },
          "execution_count": 10,
          "metadata": {},
          "output_type": "execute_result"
        }
      ],
      "source": [
        "user_preferences = interactions_with_recipe_info[['user_id', 'rating', 'tags_str']]\n",
        "user_preferences.head()"
      ]
    },
    {
      "cell_type": "code",
      "execution_count": 11,
      "metadata": {
        "id": "RN5oeRb--M5o"
      },
      "outputs": [],
      "source": [
        "user_liked_tags = user_preferences[user_preferences['rating'] >= 3].groupby('user_id')['tags_str'].apply(list).reset_index()\n",
        "user_unliked_tags = user_preferences[user_preferences['rating'] < 3].groupby('user_id')['tags_str'].apply(list).reset_index()\n",
        "users_ds = pd.DataFrame(interactions_with_recipe_info['user_id'].unique(), columns=['user_id'])\n"
      ]
    },
    {
      "cell_type": "code",
      "execution_count": 12,
      "metadata": {
        "id": "swe2hQ9dBZsI"
      },
      "outputs": [],
      "source": [
        "users_ds = users_ds.merge(user_liked_tags, on='user_id', how='left')\n",
        "users_ds = users_ds.rename(columns={'tags_str': 'liked_tags'})\n",
        "users_ds = users_ds.merge(user_unliked_tags, on='user_id', how='left')\n",
        "users_ds = users_ds.rename(columns={'tags_str': 'unliked_tags'})"
      ]
    },
    {
      "cell_type": "code",
      "execution_count": 13,
      "metadata": {
        "colab": {
          "base_uri": "https://localhost:8080/",
          "height": 206
        },
        "id": "M2fouB8BCOLp",
        "outputId": "f28b08de-b1ec-49c8-8dc9-6a88074c7444"
      },
      "outputs": [
        {
          "data": {
            "text/html": [
              "<div>\n",
              "<style scoped>\n",
              "    .dataframe tbody tr th:only-of-type {\n",
              "        vertical-align: middle;\n",
              "    }\n",
              "\n",
              "    .dataframe tbody tr th {\n",
              "        vertical-align: top;\n",
              "    }\n",
              "\n",
              "    .dataframe thead th {\n",
              "        text-align: right;\n",
              "    }\n",
              "</style>\n",
              "<table border=\"1\" class=\"dataframe\">\n",
              "  <thead>\n",
              "    <tr style=\"text-align: right;\">\n",
              "      <th></th>\n",
              "      <th>user_id</th>\n",
              "      <th>liked_tags</th>\n",
              "      <th>unliked_tags</th>\n",
              "    </tr>\n",
              "  </thead>\n",
              "  <tbody>\n",
              "    <tr>\n",
              "      <th>0</th>\n",
              "      <td>38094</td>\n",
              "      <td>[[weeknight, time-to-make, course, main-ingred...</td>\n",
              "      <td>NaN</td>\n",
              "    </tr>\n",
              "    <tr>\n",
              "      <th>1</th>\n",
              "      <td>1293707</td>\n",
              "      <td>[[weeknight, time-to-make, course, main-ingred...</td>\n",
              "      <td>[[60-minutes-or-less, time-to-make, course, ma...</td>\n",
              "    </tr>\n",
              "    <tr>\n",
              "      <th>2</th>\n",
              "      <td>8937</td>\n",
              "      <td>[[30-minutes-or-less, time-to-make, course, ma...</td>\n",
              "      <td>NaN</td>\n",
              "    </tr>\n",
              "    <tr>\n",
              "      <th>3</th>\n",
              "      <td>126440</td>\n",
              "      <td>[[15-minutes-or-less, time-to-make, course, ma...</td>\n",
              "      <td>[[60-minutes-or-less, time-to-make, course, pr...</td>\n",
              "    </tr>\n",
              "    <tr>\n",
              "      <th>4</th>\n",
              "      <td>57222</td>\n",
              "      <td>[[15-minutes-or-less, time-to-make, course, ma...</td>\n",
              "      <td>[[60-minutes-or-less, time-to-make, course, ma...</td>\n",
              "    </tr>\n",
              "  </tbody>\n",
              "</table>\n",
              "</div>"
            ],
            "text/plain": [
              "   user_id                                         liked_tags  \\\n",
              "0    38094  [[weeknight, time-to-make, course, main-ingred...   \n",
              "1  1293707  [[weeknight, time-to-make, course, main-ingred...   \n",
              "2     8937  [[30-minutes-or-less, time-to-make, course, ma...   \n",
              "3   126440  [[15-minutes-or-less, time-to-make, course, ma...   \n",
              "4    57222  [[15-minutes-or-less, time-to-make, course, ma...   \n",
              "\n",
              "                                        unliked_tags  \n",
              "0                                                NaN  \n",
              "1  [[60-minutes-or-less, time-to-make, course, ma...  \n",
              "2                                                NaN  \n",
              "3  [[60-minutes-or-less, time-to-make, course, pr...  \n",
              "4  [[60-minutes-or-less, time-to-make, course, ma...  "
            ]
          },
          "execution_count": 13,
          "metadata": {},
          "output_type": "execute_result"
        }
      ],
      "source": [
        "users_ds.head()"
      ]
    },
    {
      "cell_type": "markdown",
      "metadata": {
        "id": "O9knZ5NNC1C0"
      },
      "source": [
        "Looking that some of users don't have unliked_tags, so replace all Nan with empty arrays"
      ]
    },
    {
      "cell_type": "code",
      "execution_count": 14,
      "metadata": {
        "id": "eZUt0mAcDLVQ"
      },
      "outputs": [],
      "source": [
        "def unique_tags_in_list(tags_list):\n",
        "  if isinstance(tags_list, list):\n",
        "    unique_tags = []\n",
        "    for sublist in tags_list:\n",
        "      if isinstance(sublist, list):\n",
        "        for tag in sublist:\n",
        "          if tag not in unique_tags:\n",
        "            unique_tags.append(tag)\n",
        "    return unique_tags\n",
        "  else:\n",
        "    return []\n",
        "\n",
        "users_ds['liked_tags'] = users_ds['liked_tags'].apply(unique_tags_in_list)\n",
        "users_ds['unliked_tags'] = users_ds['unliked_tags'].apply(unique_tags_in_list)"
      ]
    },
    {
      "cell_type": "code",
      "execution_count": 15,
      "metadata": {
        "id": "OpuGJ1nTFoVR"
      },
      "outputs": [],
      "source": [
        "def remove_duplicate_tags(row):\n",
        "  liked_tags = set(row['liked_tags']) if isinstance(row['liked_tags'], list) else set()\n",
        "  unliked_tags = set(row['unliked_tags']) if isinstance(row['unliked_tags'], list) else set()\n",
        "  duplicate_tags = liked_tags.intersection(unliked_tags)\n",
        "  row['liked_tags'] = [tag for tag in row['liked_tags'] if tag not in duplicate_tags] if isinstance(row['liked_tags'], list) else []\n",
        "  row['unliked_tags'] = [tag for tag in row['unliked_tags'] if tag not in duplicate_tags] if isinstance(row['unliked_tags'], list) else []\n",
        "  return row\n",
        "\n",
        "users_ds = users_ds.apply(remove_duplicate_tags, axis=1)\n"
      ]
    },
    {
      "cell_type": "code",
      "execution_count": 16,
      "metadata": {
        "colab": {
          "base_uri": "https://localhost:8080/",
          "height": 206
        },
        "id": "9qRO0tcMF9-X",
        "outputId": "bdbccbcd-2a5f-48c4-a981-76a5231cc610"
      },
      "outputs": [
        {
          "data": {
            "text/html": [
              "<div>\n",
              "<style scoped>\n",
              "    .dataframe tbody tr th:only-of-type {\n",
              "        vertical-align: middle;\n",
              "    }\n",
              "\n",
              "    .dataframe tbody tr th {\n",
              "        vertical-align: top;\n",
              "    }\n",
              "\n",
              "    .dataframe thead th {\n",
              "        text-align: right;\n",
              "    }\n",
              "</style>\n",
              "<table border=\"1\" class=\"dataframe\">\n",
              "  <thead>\n",
              "    <tr style=\"text-align: right;\">\n",
              "      <th></th>\n",
              "      <th>user_id</th>\n",
              "      <th>liked_tags</th>\n",
              "      <th>unliked_tags</th>\n",
              "    </tr>\n",
              "  </thead>\n",
              "  <tbody>\n",
              "    <tr>\n",
              "      <th>0</th>\n",
              "      <td>38094</td>\n",
              "      <td>[weeknight, time-to-make, course, main-ingredi...</td>\n",
              "      <td>[]</td>\n",
              "    </tr>\n",
              "    <tr>\n",
              "      <th>1</th>\n",
              "      <td>1293707</td>\n",
              "      <td>[weeknight, soups-stews, beans, crock-pot-slow...</td>\n",
              "      <td>[cupcakes, finger-food, cakes, english, cake-f...</td>\n",
              "    </tr>\n",
              "    <tr>\n",
              "      <th>2</th>\n",
              "      <td>8937</td>\n",
              "      <td>[30-minutes-or-less, time-to-make, course, mai...</td>\n",
              "      <td>[]</td>\n",
              "    </tr>\n",
              "    <tr>\n",
              "      <th>3</th>\n",
              "      <td>126440</td>\n",
              "      <td>[15-minutes-or-less, 3-steps-or-less, jewish-s...</td>\n",
              "      <td>[]</td>\n",
              "    </tr>\n",
              "    <tr>\n",
              "      <th>4</th>\n",
              "      <td>57222</td>\n",
              "      <td>[condiments-etc, salads, beans, grains, south-...</td>\n",
              "      <td>[kwanzaa, dairy-free]</td>\n",
              "    </tr>\n",
              "  </tbody>\n",
              "</table>\n",
              "</div>"
            ],
            "text/plain": [
              "   user_id                                         liked_tags  \\\n",
              "0    38094  [weeknight, time-to-make, course, main-ingredi...   \n",
              "1  1293707  [weeknight, soups-stews, beans, crock-pot-slow...   \n",
              "2     8937  [30-minutes-or-less, time-to-make, course, mai...   \n",
              "3   126440  [15-minutes-or-less, 3-steps-or-less, jewish-s...   \n",
              "4    57222  [condiments-etc, salads, beans, grains, south-...   \n",
              "\n",
              "                                        unliked_tags  \n",
              "0                                                 []  \n",
              "1  [cupcakes, finger-food, cakes, english, cake-f...  \n",
              "2                                                 []  \n",
              "3                                                 []  \n",
              "4                              [kwanzaa, dairy-free]  "
            ]
          },
          "execution_count": 16,
          "metadata": {},
          "output_type": "execute_result"
        }
      ],
      "source": [
        "users_ds.head()"
      ]
    },
    {
      "cell_type": "code",
      "execution_count": 17,
      "metadata": {
        "id": "GjbluG3mGqXq"
      },
      "outputs": [],
      "source": [
        "interactions_with_recipe_info = pd.merge(interactions_with_recipe_info, users_ds, on='user_id', how='left')"
      ]
    },
    {
      "cell_type": "markdown",
      "metadata": {
        "id": "nzycE1Re7X9i"
      },
      "source": [
        "Creating datasets"
      ]
    },
    {
      "cell_type": "code",
      "execution_count": 18,
      "metadata": {},
      "outputs": [],
      "source": [
        "# Параметры\n",
        "MAX_TAG_LENGTH = 30\n",
        "PADDING_VALUE = \"empty\"\n",
        "\n",
        "interactions_with_recipe_info['liked_tags'] = [\n",
        "    (tags + [PADDING_VALUE] * (MAX_TAG_LENGTH - len(tags)))[:MAX_TAG_LENGTH] \n",
        "    for tags in interactions_with_recipe_info['liked_tags']\n",
        "]\n",
        "interactions_with_recipe_info['unliked_tags'] = [\n",
        "    (tags + [PADDING_VALUE] * (MAX_TAG_LENGTH - len(tags)))[:MAX_TAG_LENGTH] \n",
        "    for tags in interactions_with_recipe_info['unliked_tags']\n",
        "]\n",
        "interactions_with_recipe_info['ingredients_str'] =  [\n",
        "    (tags + [PADDING_VALUE] * (MAX_TAG_LENGTH - len(tags)))[:MAX_TAG_LENGTH] \n",
        "    for tags in interactions_with_recipe_info['ingredients_str'] ]\n",
        "\n",
        "interactions_with_recipe_info['tags_str'] =  [\n",
        "    (tags + [PADDING_VALUE] * (MAX_TAG_LENGTH - len(tags)))[:MAX_TAG_LENGTH] \n",
        "    for tags in interactions_with_recipe_info['tags_str'] ]\n",
        "\n",
        "raw_recipes['tags_str'] = [\n",
        "    (tags + [PADDING_VALUE] * (MAX_TAG_LENGTH - len(tags)))[:MAX_TAG_LENGTH] \n",
        "    for tags in raw_recipes['tags_str'] ]\n",
        "\n",
        "raw_recipes['ingredients_str'] = [\n",
        "    (tags + [PADDING_VALUE] * (MAX_TAG_LENGTH - len(tags)))[:MAX_TAG_LENGTH] \n",
        "    for tags in raw_recipes['ingredients_str'] ]"
      ]
    },
    {
      "cell_type": "code",
      "execution_count": 19,
      "metadata": {
        "id": "aZMJRewvLYJb"
      },
      "outputs": [],
      "source": [
        "interactions_with_recipe_info['liked_tags_str'] = interactions_with_recipe_info['liked_tags'].apply(lambda x: ','.join(x))\n",
        "interactions_with_recipe_info['unliked_tags_str'] = interactions_with_recipe_info['unliked_tags'].apply(lambda x: ','.join(x))\n",
        "interactions_with_recipe_info['tags_str'] = interactions_with_recipe_info['tags_str'].apply(lambda x: ','.join(x))"
      ]
    },
    {
      "cell_type": "code",
      "execution_count": 20,
      "metadata": {
        "id": "2l72F9aCLw46"
      },
      "outputs": [],
      "source": [
        "def split_tags(tags_string):\n",
        "    return tf.strings.split(tf.strings.strip(tags_string), ',')"
      ]
    },
    {
      "cell_type": "code",
      "execution_count": 21,
      "metadata": {},
      "outputs": [
        {
          "name": "stdout",
          "output_type": "stream",
          "text": [
            "WARNING:tensorflow:From C:\\Users\\Maincharter\\AppData\\Local\\Temp\\ipykernel_17380\\1112888837.py:1: The name tf.enable_eager_execution is deprecated. Please use tf.compat.v1.enable_eager_execution instead.\n",
            "\n"
          ]
        }
      ],
      "source": [
        "tf.compat.v1.enable_eager_execution()"
      ]
    },
    {
      "cell_type": "code",
      "execution_count": 22,
      "metadata": {
        "id": "1QwBdlgU7Xms"
      },
      "outputs": [],
      "source": [
        "def squeeze_tags(data):\n",
        "    return {\n",
        "        \"user_id\": data[\"user_id\"],\n",
        "        \"recipe_id\": data[\"recipe_id\"],\n",
        "        \"rating\": data[\"rating\"],\n",
        "        \"recipe_name\": data[\"recipe_name\"],\n",
        "        \"tags\": tf.squeeze(data[\"tags\"], axis=0),  # Укажите ось, которую нужно удалить\n",
        "        \"liked_tags\": tf.squeeze(data[\"liked_tags\"], axis=0),  # Укажите ось, которую нужно удалить\n",
        "        \"unliked_tags\": tf.squeeze(data[\"unliked_tags\"], axis=0)  # Укажите ось, которую нужно удалить\n",
        "    }\n",
        "\n",
        "ratings = tf.data.Dataset.from_tensor_slices((tf.cast(interactions_with_recipe_info['user_id'].values, tf.string),\n",
        "                                              tf.cast(interactions_with_recipe_info['recipe_id'].values, tf.string),\n",
        "                                              tf.cast(interactions_with_recipe_info['rating'].values, tf.float32),\n",
        "                                              tf.cast(interactions_with_recipe_info['recipe_name'].values, tf.string),\n",
        "                                              tf.cast(interactions_with_recipe_info['tags_str'].values.reshape(-1,1), tf.string),\n",
        "                                              tf.cast(interactions_with_recipe_info['liked_tags_str'].values.reshape(-1,1), tf.string),\n",
        "                                              tf.cast(interactions_with_recipe_info['unliked_tags_str'].values.reshape(-1,1), tf.string)\n",
        "                                              )).map(lambda x, x1, x2, x3, x4, x5, x6: {\n",
        "                                                  \"user_id\": x,\n",
        "                                                  \"recipe_id\": x1,\n",
        "                                                  \"rating\": x2,\n",
        "                                                  \"recipe_name\": x3,\n",
        "                                                  \"tags\": split_tags(x4),\n",
        "                                                  \"liked_tags\": split_tags(x5),\n",
        "                                                  \"unliked_tags\": split_tags(x6)\n",
        "                                              }).map(squeeze_tags)\n"
      ]
    },
    {
      "cell_type": "code",
      "execution_count": 23,
      "metadata": {},
      "outputs": [
        {
          "name": "stdout",
          "output_type": "stream",
          "text": [
            "{'user_id': b'38094', 'recipe_id': b'40893', 'rating': 4.0, 'recipe_name': b'white bean   green chile pepper soup', 'tags': array([b'weeknight', b'time-to-make', b'course', b'main-ingredient',\n",
            "       b'preparation', b'occasion', b'soups-stews', b'beans',\n",
            "       b'vegetables', b'easy', b'crock-pot-slow-cooker', b'dietary',\n",
            "       b'equipment', b'empty', b'empty', b'empty', b'empty', b'empty',\n",
            "       b'empty', b'empty', b'empty', b'empty', b'empty', b'empty',\n",
            "       b'empty', b'empty', b'empty', b'empty', b'empty', b'empty'],\n",
            "      dtype=object), 'liked_tags': array([b'weeknight', b'time-to-make', b'course', b'main-ingredient',\n",
            "       b'preparation', b'occasion', b'soups-stews', b'beans',\n",
            "       b'vegetables', b'easy', b'crock-pot-slow-cooker', b'dietary',\n",
            "       b'equipment', b'60-minutes-or-less', b'main-dish', b'fruit',\n",
            "       b'vegan', b'vegetarian', b'stove-top', b'black-beans',\n",
            "       b'30-minutes-or-less', b'low-protein', b'salads', b'dinner-party',\n",
            "       b'low-cholesterol', b'low-carb', b'healthy-2', b'low-in-something',\n",
            "       b'for-1-or-2', b'side-dishes'], dtype=object), 'unliked_tags': array([b'empty', b'empty', b'empty', b'empty', b'empty', b'empty',\n",
            "       b'empty', b'empty', b'empty', b'empty', b'empty', b'empty',\n",
            "       b'empty', b'empty', b'empty', b'empty', b'empty', b'empty',\n",
            "       b'empty', b'empty', b'empty', b'empty', b'empty', b'empty',\n",
            "       b'empty', b'empty', b'empty', b'empty', b'empty', b'empty'],\n",
            "      dtype=object)}\n"
          ]
        }
      ],
      "source": [
        "for data in ratings.take(1).as_numpy_iterator():\n",
        "    print(data)"
      ]
    },
    {
      "cell_type": "code",
      "execution_count": 24,
      "metadata": {
        "id": "8MS4nMhHMDgp"
      },
      "outputs": [],
      "source": [
        "raw_recipes['ingredients_str'] = raw_recipes['ingredients_str'].apply(lambda x: ','.join(x))\n",
        "raw_recipes['tags_str'] = raw_recipes['tags_str'].apply(lambda x: ','.join(x))"
      ]
    },
    {
      "cell_type": "code",
      "execution_count": 25,
      "metadata": {
        "colab": {
          "base_uri": "https://localhost:8080/",
          "height": 293
        },
        "id": "rqtiorEQMH8R",
        "outputId": "0cb1b61d-3171-4534-ec3b-1a6d617531ed"
      },
      "outputs": [
        {
          "data": {
            "text/html": [
              "<div>\n",
              "<style scoped>\n",
              "    .dataframe tbody tr th:only-of-type {\n",
              "        vertical-align: middle;\n",
              "    }\n",
              "\n",
              "    .dataframe tbody tr th {\n",
              "        vertical-align: top;\n",
              "    }\n",
              "\n",
              "    .dataframe thead th {\n",
              "        text-align: right;\n",
              "    }\n",
              "</style>\n",
              "<table border=\"1\" class=\"dataframe\">\n",
              "  <thead>\n",
              "    <tr style=\"text-align: right;\">\n",
              "      <th></th>\n",
              "      <th>name</th>\n",
              "      <th>id</th>\n",
              "      <th>minutes</th>\n",
              "      <th>contributor_id</th>\n",
              "      <th>submitted</th>\n",
              "      <th>tags</th>\n",
              "      <th>nutrition</th>\n",
              "      <th>n_steps</th>\n",
              "      <th>steps</th>\n",
              "      <th>description</th>\n",
              "      <th>ingredients</th>\n",
              "      <th>n_ingredients</th>\n",
              "      <th>ingredients_str</th>\n",
              "      <th>tags_str</th>\n",
              "    </tr>\n",
              "  </thead>\n",
              "  <tbody>\n",
              "    <tr>\n",
              "      <th>0</th>\n",
              "      <td>arriba   baked winter squash mexican style</td>\n",
              "      <td>137739</td>\n",
              "      <td>55</td>\n",
              "      <td>47892</td>\n",
              "      <td>2005-09-16</td>\n",
              "      <td>['60-minutes-or-less', 'time-to-make', 'course...</td>\n",
              "      <td>[51.5, 0.0, 13.0, 0.0, 2.0, 0.0, 4.0]</td>\n",
              "      <td>11</td>\n",
              "      <td>['make a choice and proceed with recipe', 'dep...</td>\n",
              "      <td>autumn is my favorite time of year to cook! th...</td>\n",
              "      <td>['winter squash', 'mexican seasoning', 'mixed ...</td>\n",
              "      <td>7</td>\n",
              "      <td>winter squash,mexican seasoning,mixed spice,ho...</td>\n",
              "      <td>60-minutes-or-less,time-to-make,course,main-in...</td>\n",
              "    </tr>\n",
              "    <tr>\n",
              "      <th>1</th>\n",
              "      <td>a bit different  breakfast pizza</td>\n",
              "      <td>31490</td>\n",
              "      <td>30</td>\n",
              "      <td>26278</td>\n",
              "      <td>2002-06-17</td>\n",
              "      <td>['30-minutes-or-less', 'time-to-make', 'course...</td>\n",
              "      <td>[173.4, 18.0, 0.0, 17.0, 22.0, 35.0, 1.0]</td>\n",
              "      <td>9</td>\n",
              "      <td>['preheat oven to 425 degrees f', 'press dough...</td>\n",
              "      <td>this recipe calls for the crust to be prebaked...</td>\n",
              "      <td>['prepared pizza crust', 'sausage patty', 'egg...</td>\n",
              "      <td>6</td>\n",
              "      <td>prepared pizza crust,sausage patty,eggs,milk,s...</td>\n",
              "      <td>30-minutes-or-less,time-to-make,course,main-in...</td>\n",
              "    </tr>\n",
              "    <tr>\n",
              "      <th>2</th>\n",
              "      <td>all in the kitchen  chili</td>\n",
              "      <td>112140</td>\n",
              "      <td>130</td>\n",
              "      <td>196586</td>\n",
              "      <td>2005-02-25</td>\n",
              "      <td>['time-to-make', 'course', 'preparation', 'mai...</td>\n",
              "      <td>[269.8, 22.0, 32.0, 48.0, 39.0, 27.0, 5.0]</td>\n",
              "      <td>6</td>\n",
              "      <td>['brown ground beef in large pot', 'add choppe...</td>\n",
              "      <td>this modified version of 'mom's' chili was a h...</td>\n",
              "      <td>['ground beef', 'yellow onions', 'diced tomato...</td>\n",
              "      <td>13</td>\n",
              "      <td>ground beef,yellow onions,diced tomatoes,tomat...</td>\n",
              "      <td>time-to-make,course,preparation,main-dish,chil...</td>\n",
              "    </tr>\n",
              "    <tr>\n",
              "      <th>3</th>\n",
              "      <td>alouette  potatoes</td>\n",
              "      <td>59389</td>\n",
              "      <td>45</td>\n",
              "      <td>68585</td>\n",
              "      <td>2003-04-14</td>\n",
              "      <td>['60-minutes-or-less', 'time-to-make', 'course...</td>\n",
              "      <td>[368.1, 17.0, 10.0, 2.0, 14.0, 8.0, 20.0]</td>\n",
              "      <td>11</td>\n",
              "      <td>['place potatoes in a large pot of lightly sal...</td>\n",
              "      <td>this is a super easy, great tasting, make ahea...</td>\n",
              "      <td>['spreadable cheese with garlic and herbs', 'n...</td>\n",
              "      <td>11</td>\n",
              "      <td>spreadable cheese with garlic and herbs,new po...</td>\n",
              "      <td>60-minutes-or-less,time-to-make,course,main-in...</td>\n",
              "    </tr>\n",
              "    <tr>\n",
              "      <th>4</th>\n",
              "      <td>amish  tomato ketchup  for canning</td>\n",
              "      <td>44061</td>\n",
              "      <td>190</td>\n",
              "      <td>41706</td>\n",
              "      <td>2002-10-25</td>\n",
              "      <td>['weeknight', 'time-to-make', 'course', 'main-...</td>\n",
              "      <td>[352.9, 1.0, 337.0, 23.0, 3.0, 0.0, 28.0]</td>\n",
              "      <td>5</td>\n",
              "      <td>['mix all ingredients&amp; boil for 2 1 / 2 hours ...</td>\n",
              "      <td>my dh's amish mother raised him on this recipe...</td>\n",
              "      <td>['tomato juice', 'apple cider vinegar', 'sugar...</td>\n",
              "      <td>8</td>\n",
              "      <td>tomato juice,apple cider vinegar,sugar,salt,pe...</td>\n",
              "      <td>weeknight,time-to-make,course,main-ingredient,...</td>\n",
              "    </tr>\n",
              "  </tbody>\n",
              "</table>\n",
              "</div>"
            ],
            "text/plain": [
              "                                         name      id  minutes  \\\n",
              "0  arriba   baked winter squash mexican style  137739       55   \n",
              "1            a bit different  breakfast pizza   31490       30   \n",
              "2                   all in the kitchen  chili  112140      130   \n",
              "3                          alouette  potatoes   59389       45   \n",
              "4          amish  tomato ketchup  for canning   44061      190   \n",
              "\n",
              "   contributor_id   submitted  \\\n",
              "0           47892  2005-09-16   \n",
              "1           26278  2002-06-17   \n",
              "2          196586  2005-02-25   \n",
              "3           68585  2003-04-14   \n",
              "4           41706  2002-10-25   \n",
              "\n",
              "                                                tags  \\\n",
              "0  ['60-minutes-or-less', 'time-to-make', 'course...   \n",
              "1  ['30-minutes-or-less', 'time-to-make', 'course...   \n",
              "2  ['time-to-make', 'course', 'preparation', 'mai...   \n",
              "3  ['60-minutes-or-less', 'time-to-make', 'course...   \n",
              "4  ['weeknight', 'time-to-make', 'course', 'main-...   \n",
              "\n",
              "                                    nutrition  n_steps  \\\n",
              "0       [51.5, 0.0, 13.0, 0.0, 2.0, 0.0, 4.0]       11   \n",
              "1   [173.4, 18.0, 0.0, 17.0, 22.0, 35.0, 1.0]        9   \n",
              "2  [269.8, 22.0, 32.0, 48.0, 39.0, 27.0, 5.0]        6   \n",
              "3   [368.1, 17.0, 10.0, 2.0, 14.0, 8.0, 20.0]       11   \n",
              "4   [352.9, 1.0, 337.0, 23.0, 3.0, 0.0, 28.0]        5   \n",
              "\n",
              "                                               steps  \\\n",
              "0  ['make a choice and proceed with recipe', 'dep...   \n",
              "1  ['preheat oven to 425 degrees f', 'press dough...   \n",
              "2  ['brown ground beef in large pot', 'add choppe...   \n",
              "3  ['place potatoes in a large pot of lightly sal...   \n",
              "4  ['mix all ingredients& boil for 2 1 / 2 hours ...   \n",
              "\n",
              "                                         description  \\\n",
              "0  autumn is my favorite time of year to cook! th...   \n",
              "1  this recipe calls for the crust to be prebaked...   \n",
              "2  this modified version of 'mom's' chili was a h...   \n",
              "3  this is a super easy, great tasting, make ahea...   \n",
              "4  my dh's amish mother raised him on this recipe...   \n",
              "\n",
              "                                         ingredients  n_ingredients  \\\n",
              "0  ['winter squash', 'mexican seasoning', 'mixed ...              7   \n",
              "1  ['prepared pizza crust', 'sausage patty', 'egg...              6   \n",
              "2  ['ground beef', 'yellow onions', 'diced tomato...             13   \n",
              "3  ['spreadable cheese with garlic and herbs', 'n...             11   \n",
              "4  ['tomato juice', 'apple cider vinegar', 'sugar...              8   \n",
              "\n",
              "                                     ingredients_str  \\\n",
              "0  winter squash,mexican seasoning,mixed spice,ho...   \n",
              "1  prepared pizza crust,sausage patty,eggs,milk,s...   \n",
              "2  ground beef,yellow onions,diced tomatoes,tomat...   \n",
              "3  spreadable cheese with garlic and herbs,new po...   \n",
              "4  tomato juice,apple cider vinegar,sugar,salt,pe...   \n",
              "\n",
              "                                            tags_str  \n",
              "0  60-minutes-or-less,time-to-make,course,main-in...  \n",
              "1  30-minutes-or-less,time-to-make,course,main-in...  \n",
              "2  time-to-make,course,preparation,main-dish,chil...  \n",
              "3  60-minutes-or-less,time-to-make,course,main-in...  \n",
              "4  weeknight,time-to-make,course,main-ingredient,...  "
            ]
          },
          "execution_count": 25,
          "metadata": {},
          "output_type": "execute_result"
        }
      ],
      "source": [
        "raw_recipes.head()"
      ]
    },
    {
      "cell_type": "code",
      "execution_count": 26,
      "metadata": {
        "id": "i8HzpEQW_YZw"
      },
      "outputs": [],
      "source": [
        "raw_recipes['id'] = raw_recipes.id.astype(\"str\")\n",
        "raw_recipes['name'] = raw_recipes.name.astype(\"str\")\n",
        "raw_recipes['tags'] = raw_recipes.tags.astype(\"str\")\n",
        "raw_recipes['ingredients'] = raw_recipes.ingredients.astype(\"str\")"
      ]
    },
    {
      "cell_type": "code",
      "execution_count": 27,
      "metadata": {},
      "outputs": [
        {
          "data": {
            "text/plain": [
              "0    arriba   baked winter squash mexican style\n",
              "Name: name, dtype: object"
            ]
          },
          "execution_count": 27,
          "metadata": {},
          "output_type": "execute_result"
        }
      ],
      "source": [
        "raw_recipes['name'][:1]"
      ]
    },
    {
      "cell_type": "code",
      "execution_count": 28,
      "metadata": {
        "colab": {
          "base_uri": "https://localhost:8080/"
        },
        "id": "PvNaaXXCPzK2",
        "outputId": "d096fdf6-825f-4105-b630-1f8c0d177652"
      },
      "outputs": [
        {
          "name": "stdout",
          "output_type": "stream",
          "text": [
            "{'recipe_id': b'137739', 'recipe_name': b'arriba   baked winter squash mexican style', 'tags': array([b'60-minutes-or-less', b'time-to-make', b'course',\n",
            "       b'main-ingredient', b'cuisine', b'preparation', b'occasion',\n",
            "       b'north-american', b'side-dishes', b'vegetables', b'mexican',\n",
            "       b'easy', b'fall', b'holiday-event', b'vegetarian', b'winter',\n",
            "       b'dietary', b'christmas', b'seasonal', b'squash', b'empty',\n",
            "       b'empty', b'empty', b'empty', b'empty', b'empty', b'empty',\n",
            "       b'empty', b'empty', b'empty'], dtype=object), 'ingredients': array([b'winter squash', b'mexican seasoning', b'mixed spice', b'honey',\n",
            "       b'butter', b'olive oil', b'salt', b'empty', b'empty', b'empty',\n",
            "       b'empty', b'empty', b'empty', b'empty', b'empty', b'empty',\n",
            "       b'empty', b'empty', b'empty', b'empty', b'empty', b'empty',\n",
            "       b'empty', b'empty', b'empty', b'empty', b'empty', b'empty',\n",
            "       b'empty', b'empty'], dtype=object)}\n"
          ]
        }
      ],
      "source": [
        "# prompt: Создай на основе raw_recipes датасет, но учти что ingredients_str это массив\n",
        "\n",
        "recipes = tf.data.Dataset.from_tensor_slices((tf.cast(raw_recipes['id'].values, tf.string),\n",
        "                                              tf.cast(raw_recipes['name'].values, tf.string),\n",
        "                                              tf.cast(raw_recipes['tags_str'].values.reshape(-1, 1), tf.string),\n",
        "                                              tf.cast(raw_recipes['ingredients_str'].values.reshape(-1, 1), tf.string),)).map(lambda x, x1, x2, x3: {\n",
        "                                                  \"recipe_id\": x,\n",
        "                                                  \"recipe_name\": x1,\n",
        "                                                  \"tags\": split_tags(x2),\n",
        "                                                  \"ingredients\": split_tags(x3)\n",
        "                                              }).map(lambda data: {\n",
        "        **data,\n",
        "        \"tags\": tf.squeeze(data[\"tags\"], axis=0),  # Удаляем дополнительные измерения\n",
        "        \"ingredients\": tf.squeeze(data[\"ingredients\"], axis=0)  # Удаляем дополнительные измерения\n",
        "    })\n",
        "\n",
        "for data in recipes.take(1).as_numpy_iterator():\n",
        "  print(data)\n"
      ]
    },
    {
      "cell_type": "code",
      "execution_count": 29,
      "metadata": {
        "id": "jxTLSUjNgCLs"
      },
      "outputs": [],
      "source": [
        "recipe_names = tf.data.Dataset.from_tensor_slices((tf.cast(raw_recipes['name'].values.reshape(-1, 1), tf.string))).map(lambda x: x)"
      ]
    },
    {
      "cell_type": "markdown",
      "metadata": {
        "id": "3L-UtJ6K5N2B"
      },
      "source": [
        "# Towers 🗼"
      ]
    },
    {
      "cell_type": "markdown",
      "metadata": {
        "id": "oWGCI8IYBx3Z"
      },
      "source": [
        "For our towers set dimensionality of the query and candidate representations: **32**. Higher values will correspond to models that may be more accurate, but will also be slower to fit and more prone to overfitting."
      ]
    },
    {
      "cell_type": "code",
      "execution_count": 30,
      "metadata": {
        "id": "8H35ROAtB2L2"
      },
      "outputs": [],
      "source": [
        "embedding_dimension = 32"
      ]
    },
    {
      "cell_type": "markdown",
      "metadata": {
        "id": "UGLl4NdNBHoH"
      },
      "source": [
        "## User tower 👷"
      ]
    },
    {
      "cell_type": "markdown",
      "metadata": {
        "id": "S_w7g9Se6Lk_"
      },
      "source": [
        "Lets start creating our towers with User towers. We will compute by:\n",
        "1. User id\n",
        "2. Prefers and hates"
      ]
    },
    {
      "cell_type": "markdown",
      "metadata": {
        "id": "O0pr_riLBCKa"
      },
      "source": [
        "### User ID model"
      ]
    },
    {
      "cell_type": "code",
      "execution_count": 31,
      "metadata": {
        "colab": {
          "base_uri": "https://localhost:8080/"
        },
        "id": "IVERCEAMPPbE",
        "outputId": "e2631cda-7833-44b7-b005-542bb5f24933"
      },
      "outputs": [
        {
          "data": {
            "text/plain": [
              "array(['38094', '1293707', '8937', '126440', '57222', '52282', '124416',\n",
              "       '2000192946', '76535', '273745'], dtype=object)"
            ]
          },
          "execution_count": 31,
          "metadata": {},
          "output_type": "execute_result"
        }
      ],
      "source": [
        "unique_user_ids = users_ds[\"user_id\"].unique()\n",
        "unique_user_ids[:10]"
      ]
    },
    {
      "cell_type": "code",
      "execution_count": 32,
      "metadata": {
        "id": "4DU-YbghCPJx"
      },
      "outputs": [
        {
          "name": "stdout",
          "output_type": "stream",
          "text": [
            "WARNING:tensorflow:From C:\\Users\\Maincharter\\AppData\\Roaming\\Python\\Python310\\site-packages\\keras\\src\\backend.py:873: The name tf.get_default_graph is deprecated. Please use tf.compat.v1.get_default_graph instead.\n",
            "\n"
          ]
        }
      ],
      "source": [
        "user_id_model = tf.keras.Sequential([\n",
        "  tf.keras.layers.StringLookup(\n",
        "      vocabulary=unique_user_ids, mask_token=None),\n",
        "  # We add an additional embedding to account for unknown tokens.\n",
        "  tf.keras.layers.Embedding(len(unique_user_ids)+1, embedding_dimension)\n",
        "])"
      ]
    },
    {
      "cell_type": "markdown",
      "metadata": {
        "id": "Q6e5kR2_MsOh"
      },
      "source": [
        "### User Prefers models"
      ]
    },
    {
      "cell_type": "code",
      "execution_count": 33,
      "metadata": {
        "id": "EOzP-NwLMvZI"
      },
      "outputs": [],
      "source": [
        "# prompt: модель для liked_tags которым стоит отдать предпочтение, но учти что liked_tags в датасете это массив\n",
        "\n",
        "unique_liked_tags = set()\n",
        "for tags in users_ds['liked_tags']:\n",
        "  if isinstance(tags, list):\n",
        "    for tag in tags:\n",
        "      unique_liked_tags.add(tag)\n",
        "unique_liked_tags = list(unique_liked_tags)\n",
        "\n",
        "liked_tags_model = tf.keras.Sequential([\n",
        "  tf.keras.layers.StringLookup(\n",
        "      vocabulary=unique_liked_tags, mask_token=None),\n",
        "  tf.keras.layers.Embedding(len(unique_liked_tags) + 1, embedding_dimension)\n",
        "])\n"
      ]
    },
    {
      "cell_type": "code",
      "execution_count": 34,
      "metadata": {
        "colab": {
          "base_uri": "https://localhost:8080/"
        },
        "id": "K_uNmQ2yREWq",
        "outputId": "6221b14d-1fcf-4517-ed41-f13c56f83186"
      },
      "outputs": [
        {
          "data": {
            "text/plain": [
              "['',\n",
              " 'toddler-friendly',\n",
              " 'chick-peas-garbanzos',\n",
              " 'eggs-dairy',\n",
              " 'peaches',\n",
              " 'ragu-recipe-contest',\n",
              " 'savory-sauces',\n",
              " 'green-yellow-beans',\n",
              " 'belgian',\n",
              " 'marinades-and-rubs']"
            ]
          },
          "execution_count": 34,
          "metadata": {},
          "output_type": "execute_result"
        }
      ],
      "source": [
        "unique_liked_tags[:10]"
      ]
    },
    {
      "cell_type": "code",
      "execution_count": 35,
      "metadata": {
        "colab": {
          "base_uri": "https://localhost:8080/"
        },
        "id": "W4vprrUvRb3Y",
        "outputId": "3aa5cd85-e456-4cef-9b17-c8e0d4221dce"
      },
      "outputs": [
        {
          "data": {
            "text/plain": [
              "['',\n",
              " 'toddler-friendly',\n",
              " 'chick-peas-garbanzos',\n",
              " 'eggs-dairy',\n",
              " 'peaches',\n",
              " 'ragu-recipe-contest',\n",
              " 'savory-sauces',\n",
              " 'green-yellow-beans',\n",
              " 'belgian',\n",
              " 'marinades-and-rubs']"
            ]
          },
          "execution_count": 35,
          "metadata": {},
          "output_type": "execute_result"
        }
      ],
      "source": [
        "\n",
        "unique_unliked_tags = set()\n",
        "for tags in users_ds['unliked_tags']:\n",
        "  if isinstance(tags, list):\n",
        "    for tag in tags:\n",
        "      unique_unliked_tags.add(tag)\n",
        "unique_unliked_tags = list(unique_unliked_tags)\n",
        "\n",
        "unliked_tags_model = tf.keras.Sequential([\n",
        "  tf.keras.layers.StringLookup(\n",
        "      vocabulary=unique_unliked_tags, mask_token=None),\n",
        "  tf.keras.layers.Embedding(len(unique_unliked_tags) + 1, embedding_dimension)\n",
        "])\n",
        "unique_unliked_tags[:10]"
      ]
    },
    {
      "cell_type": "markdown",
      "metadata": {
        "id": "5Zt9V_nAHMqp"
      },
      "source": [
        "## Recipe tower 🌭"
      ]
    },
    {
      "cell_type": "code",
      "execution_count": 36,
      "metadata": {
        "colab": {
          "base_uri": "https://localhost:8080/"
        },
        "id": "e3zzDVmWJmSA",
        "outputId": "2b48e837-bb5f-4670-b353-bb91770413dd"
      },
      "outputs": [
        {
          "data": {
            "text/plain": [
              "array(['0 carb   0 cal gummy worms', '0 fat chunky watermelon salsa',\n",
              "       '0 point ice cream  only 1 ingredient', '0 point soup   ww',\n",
              "       '0 point soup  crock pot', '007  martini', '007 cocktail',\n",
              "       '1  2  3  swiss meringue buttercream', '1 00 tangy chicken recipe',\n",
              "       '1 000 artichoke hearts'], dtype='<U85')"
            ]
          },
          "execution_count": 36,
          "metadata": {},
          "output_type": "execute_result"
        }
      ],
      "source": [
        "unique_recipe_names = np.unique(list(raw_recipes[\"name\"].unique()))\n",
        "recipe_name_model = tf.keras.Sequential([\n",
        "  tf.keras.layers.StringLookup(\n",
        "      vocabulary=unique_recipe_names, mask_token=None),\n",
        "  # We add an additional embedding to account for unknown tokens.\n",
        "  tf.keras.layers.Embedding(len(unique_recipe_names) + 1, embedding_dimension)\n",
        "])\n",
        "unique_recipe_names[:10]"
      ]
    },
    {
      "cell_type": "code",
      "execution_count": 37,
      "metadata": {
        "colab": {
          "base_uri": "https://localhost:8080/"
        },
        "id": "h8rZOklso4NX",
        "outputId": "64110b89-9f3f-4cce-e81e-95939b66d3f9"
      },
      "outputs": [
        {
          "name": "stdout",
          "output_type": "stream",
          "text": [
            "WARNING:tensorflow:From C:\\Users\\Maincharter\\AppData\\Roaming\\Python\\Python310\\site-packages\\keras\\src\\utils\\tf_utils.py:492: The name tf.ragged.RaggedTensorValue is deprecated. Please use tf.compat.v1.ragged.RaggedTensorValue instead.\n",
            "\n"
          ]
        },
        {
          "data": {
            "text/plain": [
              "<tf.Tensor: shape=(1, 32), dtype=float32, numpy=\n",
              "array([[ 0.00053295,  0.0327567 ,  0.02697826,  0.01809064,  0.01589452,\n",
              "         0.0016561 , -0.03789175, -0.00153773,  0.00528934, -0.04600277,\n",
              "         0.01358695,  0.01810402,  0.03867164, -0.03290868,  0.04922197,\n",
              "        -0.03007996, -0.01582808,  0.0045259 , -0.00811077, -0.01791621,\n",
              "        -0.02288712,  0.04904668,  0.00751042, -0.01267761, -0.00802997,\n",
              "         0.02425978, -0.01806009,  0.01782855,  0.00202962,  0.03536825,\n",
              "         0.0405396 ,  0.01242997]], dtype=float32)>"
            ]
          },
          "execution_count": 37,
          "metadata": {},
          "output_type": "execute_result"
        }
      ],
      "source": [
        "# prompt: напиши вызов recipe_name_model\n",
        "\n",
        "recipe_name_model(['some recipe name'])\n"
      ]
    },
    {
      "cell_type": "markdown",
      "metadata": {
        "id": "q2VwZxnOCg9F"
      },
      "source": [
        "### Recipe ingredient&tag model"
      ]
    },
    {
      "cell_type": "code",
      "execution_count": 38,
      "metadata": {
        "colab": {
          "base_uri": "https://localhost:8080/"
        },
        "id": "QqUQ43gVQIUp",
        "outputId": "49f54edf-1d29-4efc-e338-84c05a6f7e16"
      },
      "outputs": [
        {
          "data": {
            "text/plain": [
              "array(['', '1-day-or-more', '15-minutes-or-less', '3-steps-or-less',\n",
              "       '30-minutes-or-less', '4-hours-or-less', '5-ingredients-or-less',\n",
              "       '60-minutes-or-less',\n",
              "       'Throw the ultimate fiesta with this sopaipillas recipe from Food.com.',\n",
              "       'a1-sauce'], dtype='<U69')"
            ]
          },
          "execution_count": 38,
          "metadata": {},
          "output_type": "execute_result"
        }
      ],
      "source": [
        "unique_tags = set()\n",
        "for tags in raw_recipes['tags'].apply(convert_to_list):\n",
        "  if isinstance(tags, list):\n",
        "    for tag in tags:\n",
        "      unique_tags.add(tag)\n",
        "unique_tags = np.unique(list(unique_tags))\n",
        "\n",
        "recipe_tags_model = tf.keras.Sequential([\n",
        "  tf.keras.layers.StringLookup(\n",
        "      vocabulary=unique_tags, mask_token=None),\n",
        "  tf.keras.layers.Embedding(len(unique_tags) + 1, embedding_dimension)\n",
        "])\n",
        "unique_tags[:10]"
      ]
    },
    {
      "cell_type": "markdown",
      "metadata": {
        "id": "n1dQh7uGI2ow"
      },
      "source": [
        "## Combine models"
      ]
    },
    {
      "cell_type": "code",
      "execution_count": 39,
      "metadata": {},
      "outputs": [],
      "source": [
        "class RecipeModel(tf.keras.Model):\n",
        "    def __init__(self, unique_recipe_names, unique_tags, embedding_dimension):\n",
        "        super().__init__()\n",
        "\n",
        "        self.recipe_model = tf.keras.Sequential([\n",
        "            tf.keras.layers.StringLookup(\n",
        "                vocabulary=unique_recipe_names, mask_token=None),\n",
        "            tf.keras.layers.Embedding(len(unique_recipe_names) + 1, embedding_dimension)\n",
        "        ])\n",
        "    \n",
        "    # Tags embeddings\n",
        "        self.tags_model = tf.keras.Sequential([\n",
        "            tf.keras.layers.StringLookup(\n",
        "                vocabulary=unique_tags, mask_token=None),\n",
        "            tf.keras.layers.Embedding(len(unique_tags) + 1, embedding_dimension)\n",
        "        ])\n",
        "        \n",
        "    def call(self, features):\n",
        "        # Inputs should contain \"recipe_name\" and \"tags\"\n",
        "        recipe_name = features[\"recipe_name\"]\n",
        "        tags = features[\"tags\"]\n",
        "\n",
        "        # Embed recipe name\n",
        "        recipe_embeddings = self.recipe_model(recipe_name)\n",
        "\n",
        "        tags_embeddings = self.tags_model(tags)\n",
        "        if(len(recipe_embeddings.shape.as_list())>=3): \n",
        "        #   recipe_embeddings = tf.reshape(recipe_embeddings, [1,32])\n",
        "           recipe_embeddings = tf.reshape(recipe_embeddings, [1,embedding_dimension])\n",
        "        if(len(tags_embeddings.shape.as_list())>=3):\n",
        "            tags_embeddings = tf.reshape(tags_embeddings, [1,embedding_dimension])\n",
        "        #   tags_embeddings = tf.reshape(tags_embeddings, [1,32])\n",
        "        recipe_embeddings = tf.concat([recipe_embeddings, tags_embeddings], axis=1)\n",
        "        return recipe_embeddings"
      ]
    },
    {
      "cell_type": "code",
      "execution_count": 40,
      "metadata": {},
      "outputs": [],
      "source": [
        "class UserModel(tf.keras.Model):\n",
        "    def __init__(self, unique_user_ids, unique_liked_tags, unique_unliked_tags, embedding_dimension):\n",
        "        super().__init__()\n",
        "        self.embedding_dimension = embedding_dimension\n",
        "        # User ID embeddings\n",
        "        self.user_id_model = tf.keras.Sequential([\n",
        "            tf.keras.layers.StringLookup(\n",
        "                vocabulary=unique_user_ids, mask_token=None),\n",
        "            tf.keras.layers.Embedding(len(unique_user_ids) + 1, embedding_dimension)\n",
        "        ])\n",
        "        \n",
        "        # Liked tags embeddings\n",
        "        self.liked_tags_model = tf.keras.Sequential([\n",
        "            tf.keras.layers.StringLookup(\n",
        "                vocabulary=unique_liked_tags, mask_token=None),\n",
        "            tf.keras.layers.Embedding(len(unique_liked_tags) + 1, embedding_dimension)\n",
        "        ])\n",
        "\n",
        "        # Unliked tags embeddings\n",
        "        self.unliked_tags_model = tf.keras.Sequential([\n",
        "            tf.keras.layers.StringLookup(\n",
        "                vocabulary=unique_unliked_tags, mask_token=None),\n",
        "            tf.keras.layers.Embedding(len(unique_unliked_tags) + 1, embedding_dimension)\n",
        "        ])\n",
        "\n",
        "        # Penalty weight for unliked tags\n",
        "        self.penalty_weight = -0.5\n",
        "\n",
        "    def call(self, features):\n",
        "        user_id = features[\"user_id\"]\n",
        "        liked_tags = features[\"liked_tags\"]\n",
        "        unliked_tags = features[\"unliked_tags\"]\n",
        "        \n",
        "        user_id_embedding = self.user_id_model(user_id)\n",
        "        if user_id_embedding.shape.as_list() == [1, 1, 32]:\n",
        "            user_id_embedding = tf.reduce_mean(user_id_embedding, axis=1)\n",
        "      # Например, ограничимся 50 тегами\n",
        "        liked_tags = liked_tags[:self.embedding_dimension]\n",
        "        unliked_tags = unliked_tags[:self.embedding_dimension]\n",
        "    \n",
        "        # Embed liked and unliked tags\n",
        "        liked_tags_embedding = self.liked_tags_model(liked_tags)\n",
        "        unliked_tags_embedding = self.unliked_tags_model(unliked_tags)\n",
        "    \n",
        "        # Вычисление средневзвешенного значения (пример)\n",
        "        weights = tf.ones_like(liked_tags_embedding)  # Инициализация весов\n",
        "        weights_unl = tf.ones_like(unliked_tags_embedding)\n",
        "        \n",
        "        # Здесь можно рассчитать более сложные веса, например, на основе частоты встречаемости тегов\n",
        "        weighted_sum = tf.reduce_sum(liked_tags_embedding * weights, axis=1)\n",
        "        weights_unl_sum = tf.reduce_sum(unliked_tags_embedding * weights_unl, axis=1)\n",
        "        \n",
        "        sum_of_weights = tf.reduce_sum(weights, axis=1)\n",
        "        sum_of_weights_unl = tf.reduce_sum(weights_unl, axis=1)\n",
        "        \n",
        "        liked_tags_embedding = weighted_sum / sum_of_weights\n",
        "        unliked_tags_embedding = weights_unl_sum / sum_of_weights_unl\n",
        "    \n",
        "        # Reduce mean to handle ragged tensors (different lengths of liked/unliked tags)\n",
        "        liked_tags_embedding = tf.expand_dims(liked_tags_embedding, axis=0)\n",
        "        unliked_tags_embedding = tf.expand_dims(unliked_tags_embedding, axis=0)\n",
        "        user_id_embedding = tf.expand_dims(user_id_embedding, axis=0)\n",
        "        print(\"USer: \",user_id_embedding.shape,liked_tags_embedding.shape,unliked_tags_embedding.shape   )\n",
        "        # Concatenate user embeddings with liked and unliked tags\n",
        "        user_embedding = tf.concat([user_id_embedding, liked_tags_embedding, unliked_tags_embedding], axis=1)\n",
        "    \n",
        "        return user_embedding\n"
      ]
    },
    {
      "cell_type": "code",
      "execution_count": 41,
      "metadata": {},
      "outputs": [],
      "source": [
        "class UserModel(tf.keras.Model):\n",
        "    def __init__(self, unique_user_ids, unique_liked_tags, unique_unliked_tags, embedding_dimension):\n",
        "        super().__init__()\n",
        "        \n",
        "        # User ID embeddings\n",
        "        self.user_id_model = tf.keras.Sequential([\n",
        "            tf.keras.layers.StringLookup(\n",
        "                vocabulary=unique_user_ids, mask_token=None),\n",
        "            tf.keras.layers.Embedding(len(unique_user_ids) + 1, embedding_dimension)\n",
        "        ])\n",
        "        \n",
        "        # Liked tags embeddings\n",
        "        self.liked_tags_model = tf.keras.Sequential([\n",
        "            tf.keras.layers.StringLookup(\n",
        "                vocabulary=unique_liked_tags, mask_token=None),\n",
        "            tf.keras.layers.Embedding(len(unique_liked_tags) + 1, embedding_dimension)\n",
        "        ])\n",
        "\n",
        "        # Unliked tags embeddings\n",
        "        self.unliked_tags_model = tf.keras.Sequential([\n",
        "            tf.keras.layers.StringLookup(\n",
        "                vocabulary=unique_unliked_tags, mask_token=None),\n",
        "            tf.keras.layers.Embedding(len(unique_unliked_tags) + 1, embedding_dimension)\n",
        "        ])\n",
        "\n",
        "        # Penalty weight for unliked tags\n",
        "        self.penalty_weight = -0.5\n",
        "\n",
        "    def call(self, features):\n",
        "        user_id = features[\"user_id\"]\n",
        "        liked_tags = features[\"liked_tags\"]\n",
        "        unliked_tags = features[\"unliked_tags\"]\n",
        "\n",
        "        # Embed user ID\n",
        "        user_id_embedding = self.user_id_model(user_id)\n",
        "        #user_id_embedding = tf.reduce_mean(user_id_embedding, axis=1)\n",
        "\n",
        "        # Embed liked and unliked tags\n",
        "        liked_tags_embedding = self.liked_tags_model(liked_tags)\n",
        "        unliked_tags_embedding = self.unliked_tags_model(unliked_tags)\n",
        "\n",
        "        # Apply penalty to unliked tags\n",
        "        unliked_tags_embedding = unliked_tags_embedding * self.penalty_weight\n",
        "\n",
        "        # Aggregate embeddings\n",
        "        liked_tags_embedding = tf.reduce_mean(liked_tags_embedding, axis=1, keepdims=True)  # (1, 32)\n",
        "        unliked_tags_embedding = tf.reduce_mean(unliked_tags_embedding, axis=1, keepdims=True)  # (1, 32)\n",
        "\n",
        "        # Используйте weighted суммирование для учета штрафов\n",
        "        user_embedding = tf.add(user_id_embedding, liked_tags_embedding)\n",
        "        user_embedding = tf.add(user_embedding, unliked_tags_embedding)\n",
        "\n",
        "        return user_embedding\n",
        "\n"
      ]
    },
    {
      "cell_type": "code",
      "execution_count": 42,
      "metadata": {},
      "outputs": [
        {
          "data": {
            "text/plain": [
              "<tf.Tensor: shape=(30, 32), dtype=float32, numpy=\n",
              "array([[ 1.29763968e-04,  2.42709070e-02, -3.05240881e-03,\n",
              "        -3.89042832e-02, -4.43574637e-02, -1.72759015e-02,\n",
              "         6.94114715e-06,  2.82437727e-02, -2.92675458e-02,\n",
              "        -9.50353965e-03,  2.69355550e-02, -2.09017713e-02,\n",
              "         6.48100767e-03,  9.60340723e-03, -3.22529264e-02,\n",
              "         4.67817336e-02,  1.57317240e-03,  5.06354719e-02,\n",
              "        -2.40916926e-02, -3.36208083e-02, -3.69999744e-02,\n",
              "         3.72381881e-02,  1.13132149e-02,  3.31809074e-02,\n",
              "        -9.76277515e-05, -1.95095744e-02, -1.07586570e-02,\n",
              "         3.53069697e-03, -2.15469096e-02, -3.28410827e-02,\n",
              "         1.14859380e-02,  5.00914156e-02],\n",
              "       [-7.44607439e-03,  1.66950691e-02, -1.06282476e-02,\n",
              "        -4.64801192e-02, -5.19332998e-02, -2.48517394e-02,\n",
              "        -7.56889721e-03,  2.06679348e-02, -3.68433818e-02,\n",
              "        -1.70793775e-02,  1.93597171e-02, -2.84776092e-02,\n",
              "        -1.09483022e-03,  2.02757027e-03, -3.98287624e-02,\n",
              "         3.92058976e-02, -6.00266550e-03,  4.30596359e-02,\n",
              "        -3.16675305e-02, -4.11966443e-02, -4.45758104e-02,\n",
              "         2.96623502e-02,  3.73737793e-03,  2.56050695e-02,\n",
              "        -7.67346611e-03, -2.70854123e-02, -1.83344949e-02,\n",
              "        -4.04514093e-03, -2.91227475e-02, -4.04169187e-02,\n",
              "         3.91010102e-03,  4.25155796e-02],\n",
              "       [-7.80806178e-03,  1.63330827e-02, -1.09902341e-02,\n",
              "        -4.68421094e-02, -5.22952899e-02, -2.52137259e-02,\n",
              "        -7.93088414e-03,  2.03059465e-02, -3.72053720e-02,\n",
              "        -1.74413659e-02,  1.89977288e-02, -2.88395956e-02,\n",
              "        -1.45681808e-03,  1.66558241e-03, -4.01907526e-02,\n",
              "         3.88439074e-02, -6.36465335e-03,  4.26976457e-02,\n",
              "        -3.20295170e-02, -4.15586345e-02, -4.49378006e-02,\n",
              "         2.93003619e-02,  3.37539008e-03,  2.52430812e-02,\n",
              "        -8.03545304e-03, -2.74473988e-02, -1.86964832e-02,\n",
              "        -4.40712878e-03, -2.94847339e-02, -4.07789089e-02,\n",
              "         3.54811316e-03,  4.21535894e-02],\n",
              "       [ 3.74578545e-03,  2.78869290e-02,  5.63612673e-04,\n",
              "        -3.52882594e-02, -4.07414436e-02, -1.36598796e-02,\n",
              "         3.62296263e-03,  3.18597965e-02, -2.56515238e-02,\n",
              "        -5.88751724e-03,  3.05515770e-02, -1.72857493e-02,\n",
              "         1.00970287e-02,  1.32194292e-02, -2.86369044e-02,\n",
              "         5.03977537e-02,  5.18919388e-03,  5.42514920e-02,\n",
              "        -2.04756707e-02, -3.00047863e-02, -3.33839506e-02,\n",
              "         4.08542082e-02,  1.49292368e-02,  3.67969275e-02,\n",
              "         3.51839373e-03, -1.58935525e-02, -7.14263460e-03,\n",
              "         7.14671845e-03, -1.79308876e-02, -2.92250607e-02,\n",
              "         1.51019599e-02,  5.37074357e-02],\n",
              "       [-3.44439363e-03,  2.06967499e-02, -6.62656641e-03,\n",
              "        -4.24784422e-02, -4.79316190e-02, -2.08500586e-02,\n",
              "        -3.56721645e-03,  2.46696156e-02, -3.28417048e-02,\n",
              "        -1.30776968e-02,  2.33613979e-02, -2.44759284e-02,\n",
              "         2.90685007e-03,  6.02925057e-03, -3.58270854e-02,\n",
              "         4.32075784e-02, -2.00098520e-03,  4.70613167e-02,\n",
              "        -2.76658498e-02, -3.71949673e-02, -4.05741334e-02,\n",
              "         3.36640328e-02,  7.73905823e-03,  2.96067502e-02,\n",
              "        -3.67178535e-03, -2.30837315e-02, -1.43328141e-02,\n",
              "        -4.34606336e-05, -2.51210667e-02, -3.64152417e-02,\n",
              "         7.91178085e-03,  4.65172604e-02],\n",
              "       [-3.30801914e-03,  2.08331235e-02, -6.49019191e-03,\n",
              "        -4.23420668e-02, -4.77952473e-02, -2.07136832e-02,\n",
              "        -3.43084196e-03,  2.48059891e-02, -3.27053294e-02,\n",
              "        -1.29413214e-02,  2.34977715e-02, -2.43395530e-02,\n",
              "         3.04322457e-03,  6.16562506e-03, -3.56907099e-02,\n",
              "         4.33439501e-02, -1.86461071e-03,  4.71976884e-02,\n",
              "        -2.75294743e-02, -3.70585918e-02, -4.04377580e-02,\n",
              "         3.38004045e-02,  7.87543319e-03,  2.97431238e-02,\n",
              "        -3.53541085e-03, -2.29473561e-02, -1.41964387e-02,\n",
              "         9.29138623e-05, -2.49846913e-02, -3.62788662e-02,\n",
              "         8.04815628e-03,  4.66536321e-02],\n",
              "       [ 1.43485889e-03,  2.55760029e-02, -1.74731389e-03,\n",
              "        -3.75991873e-02, -4.30523679e-02, -1.59708057e-02,\n",
              "         1.31203607e-03,  2.95488685e-02, -2.79624499e-02,\n",
              "        -8.19844380e-03,  2.82406509e-02, -1.95966754e-02,\n",
              "         7.78610259e-03,  1.09085031e-02, -3.09478305e-02,\n",
              "         4.80868295e-02,  2.87826732e-03,  5.19405678e-02,\n",
              "        -2.27865968e-02, -3.23157124e-02, -3.56948785e-02,\n",
              "         3.85432839e-02,  1.26183107e-02,  3.44860032e-02,\n",
              "         1.20746717e-03, -1.82044785e-02, -9.45356116e-03,\n",
              "         4.83579189e-03, -2.02418137e-02, -3.15359868e-02,\n",
              "         1.27910338e-02,  5.13965115e-02],\n",
              "       [-4.98704053e-03,  1.91541035e-02, -8.16921331e-03,\n",
              "        -4.40210886e-02, -4.94742692e-02, -2.23927051e-02,\n",
              "        -5.10986336e-03,  2.31269691e-02, -3.43843512e-02,\n",
              "        -1.46203432e-02,  2.18187515e-02, -2.60185748e-02,\n",
              "         1.36420317e-03,  4.48660366e-03, -3.73697318e-02,\n",
              "         4.16649282e-02, -3.54363210e-03,  4.55186665e-02,\n",
              "        -2.92084962e-02, -3.87376137e-02, -4.21167798e-02,\n",
              "         3.21213864e-02,  6.19641133e-03,  2.80641038e-02,\n",
              "        -5.21443225e-03, -2.46263780e-02, -1.58754606e-02,\n",
              "        -1.58610754e-03, -2.66637132e-02, -3.79578881e-02,\n",
              "         6.36913441e-03,  4.49746102e-02],\n",
              "       [-7.17722019e-03,  1.69639233e-02, -1.03593934e-02,\n",
              "        -4.62112650e-02, -5.16644455e-02, -2.45828852e-02,\n",
              "        -7.30004301e-03,  2.09367890e-02, -3.65745276e-02,\n",
              "        -1.68105233e-02,  1.96285713e-02, -2.82087550e-02,\n",
              "        -8.25976254e-04,  2.29642424e-03, -3.95599082e-02,\n",
              "         3.94747518e-02, -5.73381176e-03,  4.33284901e-02,\n",
              "        -3.13986763e-02, -4.09277901e-02, -4.43069562e-02,\n",
              "         2.99312044e-02,  4.00623213e-03,  2.58739237e-02,\n",
              "        -7.40461191e-03, -2.68165581e-02, -1.80656407e-02,\n",
              "        -3.77628719e-03, -2.88538933e-02, -4.01480645e-02,\n",
              "         4.17895522e-03,  4.27844338e-02],\n",
              "       [-1.35864690e-03,  2.27824971e-02, -4.54081967e-03,\n",
              "        -4.03926931e-02, -4.58458737e-02, -1.87643114e-02,\n",
              "        -1.48146972e-03,  2.67553627e-02, -3.07559557e-02,\n",
              "        -1.09919496e-02,  2.54471451e-02, -2.23901812e-02,\n",
              "         4.99259681e-03,  8.11499730e-03, -3.37413363e-02,\n",
              "         4.52933237e-02,  8.47615302e-05,  4.91470620e-02,\n",
              "        -2.55801026e-02, -3.51092182e-02, -3.84883843e-02,\n",
              "         3.57497782e-02,  9.82480496e-03,  3.16924974e-02,\n",
              "        -1.58603862e-03, -2.09979843e-02, -1.22470669e-02,\n",
              "         2.04228610e-03, -2.30353195e-02, -3.43294926e-02,\n",
              "         9.99752805e-03,  4.86030057e-02],\n",
              "       [-1.57537684e-03,  2.25657672e-02, -4.75754961e-03,\n",
              "        -4.06094231e-02, -4.60626036e-02, -1.89810414e-02,\n",
              "        -1.69819966e-03,  2.65386328e-02, -3.09726857e-02,\n",
              "        -1.12086795e-02,  2.52304152e-02, -2.26069111e-02,\n",
              "         4.77586687e-03,  7.89826736e-03, -3.39580663e-02,\n",
              "         4.50765938e-02, -1.31968409e-04,  4.89303321e-02,\n",
              "        -2.57968325e-02, -3.53259481e-02, -3.87051143e-02,\n",
              "         3.55330482e-02,  9.60807502e-03,  3.14757675e-02,\n",
              "        -1.80276856e-03, -2.12147143e-02, -1.24637969e-02,\n",
              "         1.82555616e-03, -2.32520495e-02, -3.45462225e-02,\n",
              "         9.78079811e-03,  4.83862758e-02],\n",
              "       [-6.82355789e-03,  1.73175856e-02, -1.00057311e-02,\n",
              "        -4.58576046e-02, -5.13107851e-02, -2.42292229e-02,\n",
              "        -6.94638072e-03,  2.12904513e-02, -3.62208672e-02,\n",
              "        -1.64568610e-02,  1.99822336e-02, -2.78550927e-02,\n",
              "        -4.72313724e-04,  2.65008677e-03, -3.92062478e-02,\n",
              "         3.98284122e-02, -5.38014900e-03,  4.36821505e-02,\n",
              "        -3.10450122e-02, -4.05741297e-02, -4.39532958e-02,\n",
              "         3.02848667e-02,  4.35989443e-03,  2.62275860e-02,\n",
              "        -7.05094961e-03, -2.64628958e-02, -1.77119784e-02,\n",
              "        -3.42262443e-03, -2.85002310e-02, -3.97944041e-02,\n",
              "         4.53261752e-03,  4.31380942e-02],\n",
              "       [ 1.83269195e-03,  2.59738360e-02, -1.34948082e-03,\n",
              "        -3.72013561e-02, -4.26545367e-02, -1.55729726e-02,\n",
              "         1.70986913e-03,  2.99467016e-02, -2.75646169e-02,\n",
              "        -7.80061027e-03,  2.86384840e-02, -1.91988423e-02,\n",
              "         8.18393566e-03,  1.13063361e-02, -3.05499993e-02,\n",
              "         4.84846607e-02,  3.27610038e-03,  5.23383990e-02,\n",
              "        -2.23887637e-02, -3.19178812e-02, -3.52970473e-02,\n",
              "         3.89411151e-02,  1.30161438e-02,  3.48838344e-02,\n",
              "         1.60530023e-03, -1.78066455e-02, -9.05572809e-03,\n",
              "         5.23362495e-03, -1.98439807e-02, -3.11381556e-02,\n",
              "         1.31888669e-02,  5.17943427e-02],\n",
              "       [-3.24804476e-03,  2.08930988e-02, -6.43021753e-03,\n",
              "        -4.22820896e-02, -4.77352701e-02, -2.06537098e-02,\n",
              "        -3.37086758e-03,  2.48659644e-02, -3.26453522e-02,\n",
              "        -1.28813479e-02,  2.35577468e-02, -2.42795795e-02,\n",
              "         3.10319918e-03,  6.22559944e-03, -3.56307328e-02,\n",
              "         4.34039272e-02, -1.80463609e-03,  4.72576655e-02,\n",
              "        -2.74695009e-02, -3.69986147e-02, -4.03777808e-02,\n",
              "         3.38603817e-02,  7.93540664e-03,  2.98030991e-02,\n",
              "        -3.47543648e-03, -2.28873827e-02, -1.41364653e-02,\n",
              "         1.52888475e-04, -2.49247178e-02, -3.62188891e-02,\n",
              "         8.10812972e-03,  4.67136092e-02],\n",
              "       [-3.13805370e-03,  2.10030898e-02, -6.32022647e-03,\n",
              "        -4.21721004e-02, -4.76252809e-02, -2.05437187e-02,\n",
              "        -3.26087652e-03,  2.49759555e-02, -3.25353630e-02,\n",
              "        -1.27713569e-02,  2.36677378e-02, -2.41695885e-02,\n",
              "         3.21319001e-03,  6.33559050e-03, -3.55207436e-02,\n",
              "         4.35139164e-02, -1.69464527e-03,  4.73676547e-02,\n",
              "        -2.73595098e-02, -3.68886255e-02, -4.02677916e-02,\n",
              "         3.39703709e-02,  8.04539770e-03,  2.99130902e-02,\n",
              "        -3.36544542e-03, -2.27773916e-02, -1.40264742e-02,\n",
              "         2.62879417e-04, -2.48147268e-02, -3.61088999e-02,\n",
              "         8.21812078e-03,  4.68235984e-02],\n",
              "       [-1.75845483e-03,  2.23826878e-02, -4.94062761e-03,\n",
              "        -4.07925025e-02, -4.62456830e-02, -1.91641189e-02,\n",
              "        -1.88127765e-03,  2.63555534e-02, -3.11557651e-02,\n",
              "        -1.13917571e-02,  2.50473358e-02, -2.27899887e-02,\n",
              "         4.59278887e-03,  7.71518936e-03, -3.41411456e-02,\n",
              "         4.48935144e-02, -3.15046404e-04,  4.87472527e-02,\n",
              "        -2.59799100e-02, -3.55090275e-02, -3.88881937e-02,\n",
              "         3.53499688e-02,  9.42499749e-03,  3.12926881e-02,\n",
              "        -1.98584655e-03, -2.13977918e-02, -1.26468744e-02,\n",
              "         1.64247816e-03, -2.34351270e-02, -3.47293019e-02,\n",
              "         9.59772058e-03,  4.82031964e-02],\n",
              "       [ 6.72756368e-03,  3.08687072e-02,  3.54539091e-03,\n",
              "        -3.23064849e-02, -3.77596617e-02, -1.06781013e-02,\n",
              "         6.60474086e-03,  3.48415747e-02, -2.26697456e-02,\n",
              "        -2.90573901e-03,  3.35333571e-02, -1.43039711e-02,\n",
              "         1.30788069e-02,  1.62012074e-02, -2.56551262e-02,\n",
              "         5.33795357e-02,  8.17097165e-03,  5.72332740e-02,\n",
              "        -1.74938925e-02, -2.70230081e-02, -3.04021761e-02,\n",
              "         4.38359901e-02,  1.79110151e-02,  3.97787094e-02,\n",
              "         6.50017196e-03, -1.29117742e-02, -4.16085636e-03,\n",
              "         1.01284962e-02, -1.49491094e-02, -2.62432825e-02,\n",
              "         1.80837382e-02,  5.66892177e-02],\n",
              "       [-4.38463455e-03,  1.97565090e-02, -7.56680733e-03,\n",
              "        -4.34186831e-02, -4.88718599e-02, -2.17902996e-02,\n",
              "        -4.50745737e-03,  2.37293746e-02, -3.37819457e-02,\n",
              "        -1.40179377e-02,  2.24211570e-02, -2.54161693e-02,\n",
              "         1.96660915e-03,  5.08900965e-03, -3.67673263e-02,\n",
              "         4.22673374e-02, -2.94122612e-03,  4.61210757e-02,\n",
              "        -2.86060907e-02, -3.81352082e-02, -4.15143743e-02,\n",
              "         3.27237919e-02,  6.79881731e-03,  2.86665093e-02,\n",
              "        -4.61202627e-03, -2.40239725e-02, -1.52730551e-02,\n",
              "        -9.83701553e-04, -2.60613076e-02, -3.73554826e-02,\n",
              "         6.97154040e-03,  4.55770195e-02],\n",
              "       [-3.07322619e-03,  2.10679173e-02, -6.25539897e-03,\n",
              "        -4.21072729e-02, -4.75604534e-02, -2.04788912e-02,\n",
              "        -3.19604902e-03,  2.50407830e-02, -3.24705355e-02,\n",
              "        -1.27065293e-02,  2.37325653e-02, -2.41047610e-02,\n",
              "         3.27801751e-03,  6.40041800e-03, -3.54559161e-02,\n",
              "         4.35787439e-02, -1.62981777e-03,  4.74324822e-02,\n",
              "        -2.72946823e-02, -3.68237980e-02, -4.02029641e-02,\n",
              "         3.40351984e-02,  8.11022520e-03,  2.99779177e-02,\n",
              "        -3.30061791e-03, -2.27125641e-02, -1.39616467e-02,\n",
              "         3.27706686e-04, -2.47498993e-02, -3.60440724e-02,\n",
              "         8.28294829e-03,  4.68884259e-02],\n",
              "       [ 1.31479464e-04,  2.42726225e-02, -3.05069331e-03,\n",
              "        -3.89025658e-02, -4.43557464e-02, -1.72741860e-02,\n",
              "         8.65664333e-06,  2.82454882e-02, -2.92658303e-02,\n",
              "        -9.50182416e-03,  2.69372705e-02, -2.09000558e-02,\n",
              "         6.48272317e-03,  9.60512273e-03, -3.22512090e-02,\n",
              "         4.67834510e-02,  1.57488789e-03,  5.06371893e-02,\n",
              "        -2.40899771e-02, -3.36190909e-02, -3.69982570e-02,\n",
              "         3.72399054e-02,  1.13149304e-02,  3.31826247e-02,\n",
              "        -9.59122553e-05, -1.95078589e-02, -1.07569415e-02,\n",
              "         3.53241246e-03, -2.15451941e-02, -3.28393653e-02,\n",
              "         1.14876535e-02,  5.00931330e-02],\n",
              "       [-6.37804763e-03,  1.77630968e-02, -9.56021994e-03,\n",
              "        -4.54120934e-02, -5.08652739e-02, -2.37837136e-02,\n",
              "        -6.50087046e-03,  2.17359625e-02, -3.57753560e-02,\n",
              "        -1.60113499e-02,  2.04277448e-02, -2.74095833e-02,\n",
              "        -2.68039294e-05,  3.09559656e-03, -3.87607366e-02,\n",
              "         4.02739234e-02, -4.93463920e-03,  4.41276617e-02,\n",
              "        -3.05995047e-02, -4.01286185e-02, -4.35077846e-02,\n",
              "         3.07303779e-02,  4.80540423e-03,  2.66730972e-02,\n",
              "        -6.60543935e-03, -2.60173865e-02, -1.72664672e-02,\n",
              "        -2.97711464e-03, -2.80547217e-02, -3.93488929e-02,\n",
              "         4.97812731e-03,  4.35836054e-02],\n",
              "       [-6.07877085e-03,  1.80623718e-02, -9.26094316e-03,\n",
              "        -4.51128185e-02, -5.05659990e-02, -2.34844349e-02,\n",
              "        -6.20159367e-03,  2.20352374e-02, -3.54760811e-02,\n",
              "        -1.57120749e-02,  2.07270198e-02, -2.71103047e-02,\n",
              "         2.72472855e-04,  3.39487335e-03, -3.84614617e-02,\n",
              "         4.05731983e-02, -4.63536242e-03,  4.44269367e-02,\n",
              "        -3.03002261e-02, -3.98293436e-02, -4.32085097e-02,\n",
              "         3.10296528e-02,  5.10468101e-03,  2.69723721e-02,\n",
              "        -6.30616257e-03, -2.57181078e-02, -1.69671923e-02,\n",
              "        -2.67783785e-03, -2.77554430e-02, -3.90496179e-02,\n",
              "         5.27740410e-03,  4.38828804e-02],\n",
              "       [-8.04827176e-03,  1.60928722e-02, -1.12304445e-02,\n",
              "        -4.70823199e-02, -5.25355004e-02, -2.54539363e-02,\n",
              "        -8.17109458e-03,  2.00657379e-02, -3.74455824e-02,\n",
              "        -1.76815744e-02,  1.87575202e-02, -2.90798061e-02,\n",
              "        -1.69702806e-03,  1.42537244e-03, -4.04309630e-02,\n",
              "         3.86036970e-02, -6.60486287e-03,  4.24574353e-02,\n",
              "        -3.22697274e-02, -4.17988449e-02, -4.51780111e-02,\n",
              "         2.90601533e-02,  3.13518010e-03,  2.50028726e-02,\n",
              "        -8.27566348e-03, -2.76876092e-02, -1.89366918e-02,\n",
              "        -4.64733876e-03, -2.97249444e-02, -4.10191193e-02,\n",
              "         3.30790319e-03,  4.19133790e-02],\n",
              "       [-4.01292881e-03,  2.01282147e-02, -7.19510159e-03,\n",
              "        -4.30469736e-02, -4.85001579e-02, -2.14185938e-02,\n",
              "        -4.13575163e-03,  2.41010804e-02, -3.34102362e-02,\n",
              "        -1.36462320e-02,  2.27928627e-02, -2.50444636e-02,\n",
              "         2.33831489e-03,  5.46071539e-03, -3.63956168e-02,\n",
              "         4.26390395e-02, -2.56952038e-03,  4.64927778e-02,\n",
              "        -2.82343850e-02, -3.77634987e-02, -4.11426648e-02,\n",
              "         3.30954939e-02,  7.17052305e-03,  2.90382151e-02,\n",
              "        -4.24032053e-03, -2.36522667e-02, -1.49013493e-02,\n",
              "        -6.11995813e-04, -2.56896019e-02, -3.69837731e-02,\n",
              "         7.34324614e-03,  4.59487215e-02],\n",
              "       [-1.89226284e-03,  2.22488809e-02, -5.07443538e-03,\n",
              "        -4.09263112e-02, -4.63794917e-02, -1.92979276e-02,\n",
              "        -2.01508566e-03,  2.62217466e-02, -3.12895738e-02,\n",
              "        -1.15255658e-02,  2.49135289e-02, -2.29237974e-02,\n",
              "         4.45898063e-03,  7.58138159e-03, -3.42749543e-02,\n",
              "         4.47597057e-02, -4.48854407e-04,  4.86134440e-02,\n",
              "        -2.61137187e-02, -3.56428362e-02, -3.90220024e-02,\n",
              "         3.52161601e-02,  9.29118879e-03,  3.11588813e-02,\n",
              "        -2.11965456e-03, -2.15316005e-02, -1.27806831e-02,\n",
              "         1.50867016e-03, -2.35689357e-02, -3.48631106e-02,\n",
              "         9.46391188e-03,  4.80693877e-02],\n",
              "       [ 4.39060805e-03,  2.85317525e-02,  1.20843528e-03,\n",
              "        -3.46434377e-02, -4.00966182e-02, -1.30150560e-02,\n",
              "         4.26778523e-03,  3.25046182e-02, -2.50067003e-02,\n",
              "        -5.24269463e-03,  3.11964005e-02, -1.66409276e-02,\n",
              "         1.07418522e-02,  1.38642527e-02, -2.79920809e-02,\n",
              "         5.10425791e-02,  5.83401648e-03,  5.48963174e-02,\n",
              "        -1.98308490e-02, -2.93599628e-02, -3.27391289e-02,\n",
              "         4.14990336e-02,  1.55740604e-02,  3.74417529e-02,\n",
              "         4.16321633e-03, -1.52487308e-02, -6.49781199e-03,\n",
              "         7.79154105e-03, -1.72860660e-02, -2.85802372e-02,\n",
              "         1.57467835e-02,  5.43522611e-02],\n",
              "       [-6.23171683e-03,  1.79094262e-02, -9.41389054e-03,\n",
              "        -4.52657640e-02, -5.07189445e-02, -2.36373823e-02,\n",
              "        -6.35453966e-03,  2.18822919e-02, -3.56290266e-02,\n",
              "        -1.58650205e-02,  2.05740742e-02, -2.72632521e-02,\n",
              "         1.19526871e-04,  3.24192736e-03, -3.86144072e-02,\n",
              "         4.04202528e-02, -4.78830840e-03,  4.42739911e-02,\n",
              "        -3.04531716e-02, -3.99822891e-02, -4.33614552e-02,\n",
              "         3.08767073e-02,  4.95173503e-03,  2.68194266e-02,\n",
              "        -6.45910855e-03, -2.58710552e-02, -1.71201378e-02,\n",
              "        -2.83078384e-03, -2.79083904e-02, -3.92025635e-02,\n",
              "         5.12445811e-03,  4.37299348e-02],\n",
              "       [ 2.71749450e-04,  2.44128928e-02, -2.91042356e-03,\n",
              "        -3.87622975e-02, -4.42154780e-02, -1.71339158e-02,\n",
              "         1.48926629e-04,  2.83857584e-02, -2.91255601e-02,\n",
              "        -9.36155394e-03,  2.70775408e-02, -2.07597855e-02,\n",
              "         6.62299292e-03,  9.74539295e-03, -3.21109407e-02,\n",
              "         4.69237193e-02,  1.71515788e-03,  5.07774577e-02,\n",
              "        -2.39497069e-02, -3.34788226e-02, -3.68579887e-02,\n",
              "         3.73801738e-02,  1.14552006e-02,  3.33228931e-02,\n",
              "         4.43577301e-05, -1.93675887e-02, -1.06166713e-02,\n",
              "         3.67268245e-03, -2.14049239e-02, -3.26990969e-02,\n",
              "         1.16279237e-02,  5.02334014e-02],\n",
              "       [ 1.01042911e-03,  2.51515731e-02, -2.17174366e-03,\n",
              "        -3.80236171e-02, -4.34767976e-02, -1.63952354e-02,\n",
              "         8.87606293e-04,  2.91244388e-02, -2.83868797e-02,\n",
              "        -8.62287357e-03,  2.78162211e-02, -2.00211052e-02,\n",
              "         7.36167282e-03,  1.04840733e-02, -3.13722603e-02,\n",
              "         4.76623997e-02,  2.45383754e-03,  5.15161380e-02,\n",
              "        -2.32110266e-02, -3.27401422e-02, -3.61193083e-02,\n",
              "         3.81188542e-02,  1.21938810e-02,  3.40615734e-02,\n",
              "         7.83037394e-04, -1.86289083e-02, -9.87799093e-03,\n",
              "         4.41136211e-03, -2.06662435e-02, -3.19604166e-02,\n",
              "         1.23666041e-02,  5.09720817e-02],\n",
              "       [-3.75658274e-03,  2.03845613e-02, -6.93875598e-03,\n",
              "        -4.27906290e-02, -4.82438095e-02, -2.11622473e-02,\n",
              "        -3.87940556e-03,  2.43574269e-02, -3.31538916e-02,\n",
              "        -1.33898854e-02,  2.30492093e-02, -2.47881170e-02,\n",
              "         2.59466097e-03,  5.71706146e-03, -3.61392722e-02,\n",
              "         4.28953879e-02, -2.31317431e-03,  4.67491262e-02,\n",
              "        -2.79780384e-02, -3.75071540e-02, -4.08863202e-02,\n",
              "         3.33518423e-02,  7.42686912e-03,  2.92945616e-02,\n",
              "        -3.98397446e-03, -2.33959202e-02, -1.46450028e-02,\n",
              "        -3.55649856e-04, -2.54332554e-02, -3.67274284e-02,\n",
              "         7.59959221e-03,  4.62050699e-02]], dtype=float32)>"
            ]
          },
          "execution_count": 42,
          "metadata": {},
          "output_type": "execute_result"
        }
      ],
      "source": [
        "# Извлечение данных пользователя\n",
        "test_user = {}\n",
        "for data in ratings.take(1).as_numpy_iterator():\n",
        "    test_user = data\n",
        "    \n",
        "user_model = UserModel(unique_user_ids, unique_liked_tags, unique_unliked_tags, embedding_dimension)\n",
        "\n",
        "\n",
        "user_model(test_user)"
      ]
    },
    {
      "cell_type": "code",
      "execution_count": 43,
      "metadata": {},
      "outputs": [],
      "source": [
        "class RecipeAndUserModel(tfrs.Model):\n",
        "\n",
        "    def _reduce_mean_if_needed(self, embedding):\n",
        "        \"\"\"Сокращает размерность эмбеддинга до среднего, если он многомерный.\"\"\"\n",
        "        if len(embedding.shape) >= 3:\n",
        "            return tf.reduce_mean(embedding, axis=1)\n",
        "        return embedding\n",
        "\n",
        "    def __init__(self, unique_recipe_names, unique_tags, embedding_dimension):\n",
        "        super().__init__()\n",
        "        self.embedding_dimension = embedding_dimension\n",
        "        # Модель пользователя\n",
        "        self.user_model = UserModel(unique_user_ids, unique_liked_tags, unique_unliked_tags, 64)\n",
        "\n",
        "        # Recipe embeddings\n",
        "        self.recipe_model = tf.keras.Sequential([\n",
        "            tf.keras.layers.StringLookup(\n",
        "                vocabulary=unique_recipe_names, mask_token=None),\n",
        "            tf.keras.layers.Embedding(len(unique_recipe_names) + 1, embedding_dimension)\n",
        "        ])\n",
        "\n",
        "        # Tags embeddings\n",
        "        self.tags_model = tf.keras.Sequential([\n",
        "            tf.keras.layers.StringLookup(\n",
        "                vocabulary=unique_tags, mask_token=None),\n",
        "            tf.keras.layers.Embedding(len(unique_tags) + 1, embedding_dimension)\n",
        "        ])\n",
        "\n",
        "        self.dense = tf.keras.layers.Dense(embedding_dimension)  # Сжимаем до размерности 32\n",
        "\n",
        "        # Подготовка кандидатов, учитывающих и теги\n",
        "        self.candidates = recipes.batch(128).map(self._get_candidate_embeddings)\n",
        "\n",
        "        self.task = tfrs.tasks.Retrieval(\n",
        "            metrics=tfrs.metrics.FactorizedTopK(\n",
        "                candidates=self.candidates\n",
        "            )\n",
        "        )\n",
        "        \n",
        "    def _get_candidate_embeddings(self, recipe_name):\n",
        "        # Получаем эмбеддинги для имен и тегов\n",
        "        recipe_embedding = self.recipe_model(recipe_name['recipe_name'])\n",
        "        print(recipe_name['tags'])\n",
        "        tags_embedding = self.tags_model(recipe_name['tags'])  # Здесь предполагается, что recipe_name может содержать теги\n",
        "        recipe_embedding = self._reduce_mean_if_needed(recipe_embedding)\n",
        "        tags_embedding = self._reduce_mean_if_needed(tags_embedding)\n",
        "        # Объединяем эмбеддинги имен и тегов\n",
        "        combined_embedding = tf.concat([recipe_embedding, tags_embedding], axis=1)\n",
        "        return combined_embedding\n",
        "\n",
        "    def call(self, features: Dict[Text, tf.Tensor]) -> tf.Tensor:\n",
        "        # User embedding\n",
        "        user_embedding = self.user_model(features)\n",
        "\n",
        "        # Recipe name embeddings\n",
        "        recipe_name_embeddings = self.recipe_model(features[\"recipe_name\"])\n",
        "        recipe_name_embeddings = self._reduce_mean_if_needed(recipe_name_embeddings)\n",
        "        # Tags embeddings\n",
        "        tags = features[\"tags\"]\n",
        "        tags_embeddings = self.tags_model(tags)\n",
        "        tags_embeddings = self._reduce_mean_if_needed(tags_embeddings)\n",
        "        # # Вычисление средневзвешенного значения для тегов (можно модифицировать веса)\n",
        "        # tags_embeddings_weighted_sum = tf.reduce_sum(tags_embeddings, axis=1)\n",
        "        # sum_of_weights = tf.reduce_sum(tf.ones_like(tags_embeddings), axis=1)\n",
        "        # tags_embeddings = tags_embeddings_weighted_sum / sum_of_weights\n",
        "        \n",
        "        # recipe_name_embeddings = self._reduce_mean_if_needed(recipe_name_embeddings)\n",
        "        # tags_embeddings = tf.expand_dims(tags_embeddings, axis=0)\n",
        "        # Конкатенация эмбеддингов рецепта и тегов\n",
        "        recipe_embeddings = tf.concat([recipe_name_embeddings, tags_embeddings], axis=1)\n",
        "\n",
        "        return user_embedding, recipe_embeddings\n",
        "\n",
        "    def compute_loss(self, features: Dict[Text, tf.Tensor], training=False) -> tf.Tensor:\n",
        "        user_embeddings, recipe_embeddings = self(features)\n",
        "        print(\"Computed: \", user_embeddings.shape, recipe_embeddings.shape)\n",
        "        # Используем задачу факторизованного топ-K для оптимизации\n",
        "        user_embeddings = self._reduce_mean_if_needed(user_embeddings)\n",
        "        recipe_embeddings = self._reduce_mean_if_needed(recipe_embeddings)\n",
        "        \n",
        "        # user_embeddings = tf.keras.layers.Dense(64)(user_embeddings)\n",
        "        # recipe_embeddings = tf.keras.layers.Dense(64)(recipe_embeddings)\n",
        "        print(\"Computed: \", user_embeddings.shape, recipe_embeddings.shape)\n",
        "        return self.task(user_embeddings, recipe_embeddings)\n"
      ]
    },
    {
      "cell_type": "code",
      "execution_count": 44,
      "metadata": {
        "id": "4ln6bTE6XuUT"
      },
      "outputs": [],
      "source": [
        "# Randomly shuffle data and split between train and test.\n",
        "tf.random.set_seed(42)\n",
        "shuffled = ratings.shuffle(100_000, seed=42, reshuffle_each_iteration=False)\n",
        "\n",
        "train = shuffled.take(40_000)\n",
        "test = shuffled.skip(80_000).take(20_000)\n",
        "\n",
        "cached_train =  train.batch(10_000).cache()\n",
        "cached_test = test.batch(4096).cache()"
      ]
    },
    {
      "cell_type": "code",
      "execution_count": 45,
      "metadata": {},
      "outputs": [
        {
          "name": "stdout",
          "output_type": "stream",
          "text": [
            "{'user_id': TensorShape([]), 'recipe_id': TensorShape([]), 'rating': TensorShape([]), 'recipe_name': TensorShape([]), 'tags': TensorShape([None]), 'liked_tags': TensorShape([None]), 'unliked_tags': TensorShape([None])}\n"
          ]
        }
      ],
      "source": [
        "def print_shapes(features):\n",
        "    print({k: v.shape for k, v in features.items()})\n",
        "    return features\n",
        "\n",
        "# Проверьте формы данных перед batch\n",
        "shuffled = shuffled.map(print_shapes)"
      ]
    },
    {
      "cell_type": "code",
      "execution_count": 46,
      "metadata": {
        "id": "-7Gi0OYpUbOM"
      },
      "outputs": [
        {
          "name": "stdout",
          "output_type": "stream",
          "text": [
            "Tensor(\"args_3:0\", shape=(None, None), dtype=string)\n",
            "Tensor(\"args_3:0\", shape=(None, None), dtype=string)\n",
            "Computed:  (None, None, 64) (None, 64)\n",
            "Computed:  (None, 64) (None, 64)\n",
            "Computed:  (None, None, 64) (None, 64)\n",
            "Computed:  (None, 64) (None, 64)\n"
          ]
        },
        {
          "ename": "InvalidArgumentError",
          "evalue": "Graph execution error:\n\nDetected at node retrieval/streaming/ReduceDataset defined at (most recent call last):\n  File \"f:\\P310\\lib\\runpy.py\", line 196, in _run_module_as_main\n\n  File \"f:\\P310\\lib\\runpy.py\", line 86, in _run_code\n\n  File \"C:\\Users\\Maincharter\\AppData\\Roaming\\Python\\Python310\\site-packages\\ipykernel_launcher.py\", line 17, in <module>\n\n  File \"C:\\Users\\Maincharter\\AppData\\Roaming\\Python\\Python310\\site-packages\\traitlets\\config\\application.py\", line 1046, in launch_instance\n\n  File \"C:\\Users\\Maincharter\\AppData\\Roaming\\Python\\Python310\\site-packages\\ipykernel\\kernelapp.py\", line 736, in start\n\n  File \"C:\\Users\\Maincharter\\AppData\\Roaming\\Python\\Python310\\site-packages\\tornado\\platform\\asyncio.py\", line 195, in start\n\n  File \"f:\\P310\\lib\\asyncio\\base_events.py\", line 595, in run_forever\n\n  File \"f:\\P310\\lib\\asyncio\\base_events.py\", line 1881, in _run_once\n\n  File \"f:\\P310\\lib\\asyncio\\events.py\", line 80, in _run\n\n  File \"C:\\Users\\Maincharter\\AppData\\Roaming\\Python\\Python310\\site-packages\\ipykernel\\kernelbase.py\", line 516, in dispatch_queue\n\n  File \"C:\\Users\\Maincharter\\AppData\\Roaming\\Python\\Python310\\site-packages\\ipykernel\\kernelbase.py\", line 505, in process_one\n\n  File \"C:\\Users\\Maincharter\\AppData\\Roaming\\Python\\Python310\\site-packages\\ipykernel\\kernelbase.py\", line 412, in dispatch_shell\n\n  File \"C:\\Users\\Maincharter\\AppData\\Roaming\\Python\\Python310\\site-packages\\ipykernel\\kernelbase.py\", line 740, in execute_request\n\n  File \"C:\\Users\\Maincharter\\AppData\\Roaming\\Python\\Python310\\site-packages\\ipykernel\\ipkernel.py\", line 422, in do_execute\n\n  File \"C:\\Users\\Maincharter\\AppData\\Roaming\\Python\\Python310\\site-packages\\ipykernel\\zmqshell.py\", line 546, in run_cell\n\n  File \"C:\\Users\\Maincharter\\AppData\\Roaming\\Python\\Python310\\site-packages\\IPython\\core\\interactiveshell.py\", line 3024, in run_cell\n\n  File \"C:\\Users\\Maincharter\\AppData\\Roaming\\Python\\Python310\\site-packages\\IPython\\core\\interactiveshell.py\", line 3079, in _run_cell\n\n  File \"C:\\Users\\Maincharter\\AppData\\Roaming\\Python\\Python310\\site-packages\\IPython\\core\\async_helpers.py\", line 129, in _pseudo_sync_runner\n\n  File \"C:\\Users\\Maincharter\\AppData\\Roaming\\Python\\Python310\\site-packages\\IPython\\core\\interactiveshell.py\", line 3284, in run_cell_async\n\n  File \"C:\\Users\\Maincharter\\AppData\\Roaming\\Python\\Python310\\site-packages\\IPython\\core\\interactiveshell.py\", line 3466, in run_ast_nodes\n\n  File \"C:\\Users\\Maincharter\\AppData\\Roaming\\Python\\Python310\\site-packages\\IPython\\core\\interactiveshell.py\", line 3526, in run_code\n\n  File \"C:\\Users\\Maincharter\\AppData\\Local\\Temp\\ipykernel_17380\\561549084.py\", line 3, in <module>\n\n  File \"C:\\Users\\Maincharter\\AppData\\Roaming\\Python\\Python310\\site-packages\\keras\\src\\utils\\traceback_utils.py\", line 65, in error_handler\n\n  File \"C:\\Users\\Maincharter\\AppData\\Roaming\\Python\\Python310\\site-packages\\keras\\src\\engine\\training.py\", line 1807, in fit\n\n  File \"C:\\Users\\Maincharter\\AppData\\Roaming\\Python\\Python310\\site-packages\\keras\\src\\engine\\training.py\", line 1401, in train_function\n\n  File \"C:\\Users\\Maincharter\\AppData\\Roaming\\Python\\Python310\\site-packages\\keras\\src\\engine\\training.py\", line 1384, in step_function\n\n  File \"C:\\Users\\Maincharter\\AppData\\Roaming\\Python\\Python310\\site-packages\\keras\\src\\engine\\training.py\", line 1373, in run_step\n\n  File \"f:\\P310\\lib\\site-packages\\tensorflow_recommenders\\models\\base.py\", line 68, in train_step\n\n  File \"C:\\Users\\Maincharter\\AppData\\Local\\Temp\\ipykernel_17380\\573055804.py\", line 84, in compute_loss\n\n  File \"C:\\Users\\Maincharter\\AppData\\Roaming\\Python\\Python310\\site-packages\\keras\\src\\utils\\traceback_utils.py\", line 65, in error_handler\n\n  File \"C:\\Users\\Maincharter\\AppData\\Roaming\\Python\\Python310\\site-packages\\keras\\src\\engine\\base_layer.py\", line 1149, in __call__\n\n  File \"C:\\Users\\Maincharter\\AppData\\Roaming\\Python\\Python310\\site-packages\\keras\\src\\utils\\traceback_utils.py\", line 96, in error_handler\n\n  File \"f:\\P310\\lib\\site-packages\\tensorflow_recommenders\\tasks\\retrieval.py\", line 195, in call\n\n  File \"f:\\P310\\lib\\site-packages\\tensorflow_recommenders\\tasks\\retrieval.py\", line 196, in call\n\n  File \"f:\\P310\\lib\\site-packages\\tensorflow_recommenders\\tasks\\retrieval.py\", line 197, in call\n\n  File \"f:\\P310\\lib\\site-packages\\tensorflow_recommenders\\metrics\\factorized_top_k.py\", line 136, in update_state\n\n  File \"C:\\Users\\Maincharter\\AppData\\Roaming\\Python\\Python310\\site-packages\\keras\\src\\utils\\traceback_utils.py\", line 65, in error_handler\n\n  File \"C:\\Users\\Maincharter\\AppData\\Roaming\\Python\\Python310\\site-packages\\keras\\src\\engine\\training.py\", line 590, in __call__\n\n  File \"C:\\Users\\Maincharter\\AppData\\Roaming\\Python\\Python310\\site-packages\\keras\\src\\utils\\traceback_utils.py\", line 65, in error_handler\n\n  File \"C:\\Users\\Maincharter\\AppData\\Roaming\\Python\\Python310\\site-packages\\keras\\src\\engine\\base_layer.py\", line 1149, in __call__\n\n  File \"C:\\Users\\Maincharter\\AppData\\Roaming\\Python\\Python310\\site-packages\\keras\\src\\utils\\traceback_utils.py\", line 96, in error_handler\n\n  File \"f:\\P310\\lib\\site-packages\\tensorflow_recommenders\\layers\\factorized_top_k.py\", line 487, in call\n\nCannot add tensor to the batch: number of elements does not match. Shapes are: [tensor]: [31], [batch]: [30]\n\t [[{{node retrieval/streaming/ReduceDataset}}]] [Op:__inference_train_function_2490]",
          "output_type": "error",
          "traceback": [
            "\u001b[1;31m---------------------------------------------------------------------------\u001b[0m",
            "\u001b[1;31mInvalidArgumentError\u001b[0m                      Traceback (most recent call last)",
            "Cell \u001b[1;32mIn[46], line 3\u001b[0m\n\u001b[0;32m      1\u001b[0m model \u001b[38;5;241m=\u001b[39m RecipeAndUserModel(unique_recipe_names, unique_tags, embedding_dimension)\n\u001b[0;32m      2\u001b[0m model\u001b[38;5;241m.\u001b[39mcompile(optimizer\u001b[38;5;241m=\u001b[39mtf\u001b[38;5;241m.\u001b[39mkeras\u001b[38;5;241m.\u001b[39moptimizers\u001b[38;5;241m.\u001b[39mAdagrad(learning_rate\u001b[38;5;241m=\u001b[39m\u001b[38;5;241m0.1\u001b[39m))\n\u001b[1;32m----> 3\u001b[0m \u001b[43mmodel\u001b[49m\u001b[38;5;241;43m.\u001b[39;49m\u001b[43mfit\u001b[49m\u001b[43m(\u001b[49m\u001b[43mcached_train\u001b[49m\u001b[43m,\u001b[49m\u001b[43m \u001b[49m\u001b[43mepochs\u001b[49m\u001b[38;5;241;43m=\u001b[39;49m\u001b[38;5;241;43m1\u001b[39;49m\u001b[43m)\u001b[49m\n",
            "File \u001b[1;32m~\\AppData\\Roaming\\Python\\Python310\\site-packages\\keras\\src\\utils\\traceback_utils.py:70\u001b[0m, in \u001b[0;36mfilter_traceback.<locals>.error_handler\u001b[1;34m(*args, **kwargs)\u001b[0m\n\u001b[0;32m     67\u001b[0m     filtered_tb \u001b[38;5;241m=\u001b[39m _process_traceback_frames(e\u001b[38;5;241m.\u001b[39m__traceback__)\n\u001b[0;32m     68\u001b[0m     \u001b[38;5;66;03m# To get the full stack trace, call:\u001b[39;00m\n\u001b[0;32m     69\u001b[0m     \u001b[38;5;66;03m# `tf.debugging.disable_traceback_filtering()`\u001b[39;00m\n\u001b[1;32m---> 70\u001b[0m     \u001b[38;5;28;01mraise\u001b[39;00m e\u001b[38;5;241m.\u001b[39mwith_traceback(filtered_tb) \u001b[38;5;28;01mfrom\u001b[39;00m \u001b[38;5;28;01mNone\u001b[39;00m\n\u001b[0;32m     71\u001b[0m \u001b[38;5;28;01mfinally\u001b[39;00m:\n\u001b[0;32m     72\u001b[0m     \u001b[38;5;28;01mdel\u001b[39;00m filtered_tb\n",
            "File \u001b[1;32m~\\AppData\\Roaming\\Python\\Python310\\site-packages\\tensorflow\\python\\eager\\execute.py:53\u001b[0m, in \u001b[0;36mquick_execute\u001b[1;34m(op_name, num_outputs, inputs, attrs, ctx, name)\u001b[0m\n\u001b[0;32m     51\u001b[0m \u001b[38;5;28;01mtry\u001b[39;00m:\n\u001b[0;32m     52\u001b[0m   ctx\u001b[38;5;241m.\u001b[39mensure_initialized()\n\u001b[1;32m---> 53\u001b[0m   tensors \u001b[38;5;241m=\u001b[39m pywrap_tfe\u001b[38;5;241m.\u001b[39mTFE_Py_Execute(ctx\u001b[38;5;241m.\u001b[39m_handle, device_name, op_name,\n\u001b[0;32m     54\u001b[0m                                       inputs, attrs, num_outputs)\n\u001b[0;32m     55\u001b[0m \u001b[38;5;28;01mexcept\u001b[39;00m core\u001b[38;5;241m.\u001b[39m_NotOkStatusException \u001b[38;5;28;01mas\u001b[39;00m e:\n\u001b[0;32m     56\u001b[0m   \u001b[38;5;28;01mif\u001b[39;00m name \u001b[38;5;129;01mis\u001b[39;00m \u001b[38;5;129;01mnot\u001b[39;00m \u001b[38;5;28;01mNone\u001b[39;00m:\n",
            "\u001b[1;31mInvalidArgumentError\u001b[0m: Graph execution error:\n\nDetected at node retrieval/streaming/ReduceDataset defined at (most recent call last):\n  File \"f:\\P310\\lib\\runpy.py\", line 196, in _run_module_as_main\n\n  File \"f:\\P310\\lib\\runpy.py\", line 86, in _run_code\n\n  File \"C:\\Users\\Maincharter\\AppData\\Roaming\\Python\\Python310\\site-packages\\ipykernel_launcher.py\", line 17, in <module>\n\n  File \"C:\\Users\\Maincharter\\AppData\\Roaming\\Python\\Python310\\site-packages\\traitlets\\config\\application.py\", line 1046, in launch_instance\n\n  File \"C:\\Users\\Maincharter\\AppData\\Roaming\\Python\\Python310\\site-packages\\ipykernel\\kernelapp.py\", line 736, in start\n\n  File \"C:\\Users\\Maincharter\\AppData\\Roaming\\Python\\Python310\\site-packages\\tornado\\platform\\asyncio.py\", line 195, in start\n\n  File \"f:\\P310\\lib\\asyncio\\base_events.py\", line 595, in run_forever\n\n  File \"f:\\P310\\lib\\asyncio\\base_events.py\", line 1881, in _run_once\n\n  File \"f:\\P310\\lib\\asyncio\\events.py\", line 80, in _run\n\n  File \"C:\\Users\\Maincharter\\AppData\\Roaming\\Python\\Python310\\site-packages\\ipykernel\\kernelbase.py\", line 516, in dispatch_queue\n\n  File \"C:\\Users\\Maincharter\\AppData\\Roaming\\Python\\Python310\\site-packages\\ipykernel\\kernelbase.py\", line 505, in process_one\n\n  File \"C:\\Users\\Maincharter\\AppData\\Roaming\\Python\\Python310\\site-packages\\ipykernel\\kernelbase.py\", line 412, in dispatch_shell\n\n  File \"C:\\Users\\Maincharter\\AppData\\Roaming\\Python\\Python310\\site-packages\\ipykernel\\kernelbase.py\", line 740, in execute_request\n\n  File \"C:\\Users\\Maincharter\\AppData\\Roaming\\Python\\Python310\\site-packages\\ipykernel\\ipkernel.py\", line 422, in do_execute\n\n  File \"C:\\Users\\Maincharter\\AppData\\Roaming\\Python\\Python310\\site-packages\\ipykernel\\zmqshell.py\", line 546, in run_cell\n\n  File \"C:\\Users\\Maincharter\\AppData\\Roaming\\Python\\Python310\\site-packages\\IPython\\core\\interactiveshell.py\", line 3024, in run_cell\n\n  File \"C:\\Users\\Maincharter\\AppData\\Roaming\\Python\\Python310\\site-packages\\IPython\\core\\interactiveshell.py\", line 3079, in _run_cell\n\n  File \"C:\\Users\\Maincharter\\AppData\\Roaming\\Python\\Python310\\site-packages\\IPython\\core\\async_helpers.py\", line 129, in _pseudo_sync_runner\n\n  File \"C:\\Users\\Maincharter\\AppData\\Roaming\\Python\\Python310\\site-packages\\IPython\\core\\interactiveshell.py\", line 3284, in run_cell_async\n\n  File \"C:\\Users\\Maincharter\\AppData\\Roaming\\Python\\Python310\\site-packages\\IPython\\core\\interactiveshell.py\", line 3466, in run_ast_nodes\n\n  File \"C:\\Users\\Maincharter\\AppData\\Roaming\\Python\\Python310\\site-packages\\IPython\\core\\interactiveshell.py\", line 3526, in run_code\n\n  File \"C:\\Users\\Maincharter\\AppData\\Local\\Temp\\ipykernel_17380\\561549084.py\", line 3, in <module>\n\n  File \"C:\\Users\\Maincharter\\AppData\\Roaming\\Python\\Python310\\site-packages\\keras\\src\\utils\\traceback_utils.py\", line 65, in error_handler\n\n  File \"C:\\Users\\Maincharter\\AppData\\Roaming\\Python\\Python310\\site-packages\\keras\\src\\engine\\training.py\", line 1807, in fit\n\n  File \"C:\\Users\\Maincharter\\AppData\\Roaming\\Python\\Python310\\site-packages\\keras\\src\\engine\\training.py\", line 1401, in train_function\n\n  File \"C:\\Users\\Maincharter\\AppData\\Roaming\\Python\\Python310\\site-packages\\keras\\src\\engine\\training.py\", line 1384, in step_function\n\n  File \"C:\\Users\\Maincharter\\AppData\\Roaming\\Python\\Python310\\site-packages\\keras\\src\\engine\\training.py\", line 1373, in run_step\n\n  File \"f:\\P310\\lib\\site-packages\\tensorflow_recommenders\\models\\base.py\", line 68, in train_step\n\n  File \"C:\\Users\\Maincharter\\AppData\\Local\\Temp\\ipykernel_17380\\573055804.py\", line 84, in compute_loss\n\n  File \"C:\\Users\\Maincharter\\AppData\\Roaming\\Python\\Python310\\site-packages\\keras\\src\\utils\\traceback_utils.py\", line 65, in error_handler\n\n  File \"C:\\Users\\Maincharter\\AppData\\Roaming\\Python\\Python310\\site-packages\\keras\\src\\engine\\base_layer.py\", line 1149, in __call__\n\n  File \"C:\\Users\\Maincharter\\AppData\\Roaming\\Python\\Python310\\site-packages\\keras\\src\\utils\\traceback_utils.py\", line 96, in error_handler\n\n  File \"f:\\P310\\lib\\site-packages\\tensorflow_recommenders\\tasks\\retrieval.py\", line 195, in call\n\n  File \"f:\\P310\\lib\\site-packages\\tensorflow_recommenders\\tasks\\retrieval.py\", line 196, in call\n\n  File \"f:\\P310\\lib\\site-packages\\tensorflow_recommenders\\tasks\\retrieval.py\", line 197, in call\n\n  File \"f:\\P310\\lib\\site-packages\\tensorflow_recommenders\\metrics\\factorized_top_k.py\", line 136, in update_state\n\n  File \"C:\\Users\\Maincharter\\AppData\\Roaming\\Python\\Python310\\site-packages\\keras\\src\\utils\\traceback_utils.py\", line 65, in error_handler\n\n  File \"C:\\Users\\Maincharter\\AppData\\Roaming\\Python\\Python310\\site-packages\\keras\\src\\engine\\training.py\", line 590, in __call__\n\n  File \"C:\\Users\\Maincharter\\AppData\\Roaming\\Python\\Python310\\site-packages\\keras\\src\\utils\\traceback_utils.py\", line 65, in error_handler\n\n  File \"C:\\Users\\Maincharter\\AppData\\Roaming\\Python\\Python310\\site-packages\\keras\\src\\engine\\base_layer.py\", line 1149, in __call__\n\n  File \"C:\\Users\\Maincharter\\AppData\\Roaming\\Python\\Python310\\site-packages\\keras\\src\\utils\\traceback_utils.py\", line 96, in error_handler\n\n  File \"f:\\P310\\lib\\site-packages\\tensorflow_recommenders\\layers\\factorized_top_k.py\", line 487, in call\n\nCannot add tensor to the batch: number of elements does not match. Shapes are: [tensor]: [31], [batch]: [30]\n\t [[{{node retrieval/streaming/ReduceDataset}}]] [Op:__inference_train_function_2490]"
          ]
        }
      ],
      "source": [
        "model = RecipeAndUserModel(unique_recipe_names, unique_tags, embedding_dimension)\n",
        "model.compile(optimizer=tf.keras.optimizers.Adagrad(learning_rate=0.1))\n",
        "model.fit(cached_train, epochs=1)"
      ]
    },
    {
      "cell_type": "code",
      "execution_count": null,
      "metadata": {},
      "outputs": [],
      "source": [
        "# prompt: Напиши код для теста model для пользователя 42\n",
        "model2 = RecipeAndUserModel()\n",
        "model2.compile(optimizer=tf.keras.optimizers.Adagrad(learning_rate=0.1))\n",
        "test_user = {}\n",
        "for data in test.take(1).as_numpy_iterator():\n",
        "  print(model2(data))"
      ]
    },
    {
      "cell_type": "code",
      "execution_count": null,
      "metadata": {},
      "outputs": [],
      "source": [
        "model.evaluate(cached_test, return_dict=True)"
      ]
    },
    {
      "cell_type": "markdown",
      "metadata": {},
      "source": [
        "### Making predictions"
      ]
    },
    {
      "cell_type": "code",
      "execution_count": null,
      "metadata": {},
      "outputs": [],
      "source": [
        "# Извлечение данных пользователя\n",
        "test_user = {}\n",
        "for data in test.take(1).as_numpy_iterator():\n",
        "    test_user = data\n",
        "\n",
        "# Создание набора данных для тестового пользователя\n",
        "user_id_to_test = \"42\"  # Замените на нужный ID пользователя\n",
        "test_user_dataset = {\n",
        "    \"user_id\": np.array(test_user[\"user_id\"]),\n",
        "    \"liked_tags\": np.array([['30-minutes-or-less']]),\n",
        "    \"unliked_tags\": np.array([['60-minutes-or-less'], ['lactose']])\n",
        "}\n",
        "\n",
        "brute_force = tfrs.layers.factorized_top_k.BruteForce(model.user_model)\n",
        "def _reduce_mean_if_needed(embedding):\n",
        "    \"\"\"Сокращает размерность эмбеддинга до среднего, если он многомерный.\"\"\"\n",
        "    if len(embedding.shape) >= 3:\n",
        "        return tf.reduce_mean(embedding, axis=1)\n",
        "    return embedding\n",
        "dense = tf.keras.layers.Dense(96)\n",
        "# Создание набора данных для рецептов и тегов\n",
        "def get_recipe_and_tag_embeddings(x):\n",
        "    recipe_embedding = model.recipe_model(x['recipe_name'])  # (None, 32)\n",
        "    tag_embedding = model.tags_model(x['tags'])  # (None, 32)\n",
        "    recipe_embedding =_reduce_mean_if_needed(recipe_embedding)\n",
        "    tag_embedding = _reduce_mean_if_needed(tag_embedding)\n",
        "    \n",
        "    combined_embeddings = tf.concat([_reduce_mean_if_needed(recipe_embedding),  _reduce_mean_if_needed(tag_embedding)], axis=1)  # (None, 64)\n",
        "    \n",
        "    return dense(combined_embeddings)\n",
        "\n",
        "# Используем map для обработки всех данных сразу\n",
        "recipes_embeddings = recipes.batch(100).map(get_recipe_and_tag_embeddings)\n",
        "\n",
        "\n",
        "# Создание набора имен рецептов\n",
        "recipes_names = recipes.batch(100).map(lambda x: x[\"recipe_id\"])  # Убедитесь, что это (None,)\n",
        "\n",
        "# Объединяем эмбеддинги с именами\n",
        "index = brute_force.index_from_dataset(\n",
        "    tf.data.Dataset.zip((recipes_names, recipes_embeddings))\n",
        ")\n",
        "\n",
        "# Получаем рекомендации\n",
        "_, titles = index(test_user_dataset, k=15)\n",
        "\n",
        "# Вывод тегов для рекомендуемых рецептов\n",
        "recommended_tags = raw_recipes[raw_recipes['id'].isin(titles.numpy().flatten().astype('str'))]\n"
      ]
    },
    {
      "cell_type": "code",
      "execution_count": null,
      "metadata": {},
      "outputs": [],
      "source": [
        "recommended_tags"
      ]
    }
  ],
  "metadata": {
    "colab": {
      "provenance": []
    },
    "kernelspec": {
      "display_name": "Python 3",
      "name": "python3"
    },
    "language_info": {
      "codemirror_mode": {
        "name": "ipython",
        "version": 3
      },
      "file_extension": ".py",
      "mimetype": "text/x-python",
      "name": "python",
      "nbconvert_exporter": "python",
      "pygments_lexer": "ipython3",
      "version": "3.10.0"
    }
  },
  "nbformat": 4,
  "nbformat_minor": 0
}
