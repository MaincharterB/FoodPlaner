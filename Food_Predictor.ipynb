{
  "cells": [
    {
      "cell_type": "code",
      "execution_count": 1,
      "metadata": {
        "id": "2rptU6mxyaoP"
      },
      "outputs": [
        {
          "name": "stdout",
          "output_type": "stream",
          "text": [
            "WARNING:tensorflow:From C:\\Users\\azdanevy\\AppData\\Roaming\\Python\\Python310\\site-packages\\keras\\src\\losses.py:2976: The name tf.losses.sparse_softmax_cross_entropy is deprecated. Please use tf.compat.v1.losses.sparse_softmax_cross_entropy instead.\n",
            "\n"
          ]
        }
      ],
      "source": [
        "from typing import Dict, Text\n",
        "\n",
        "import numpy as np\n",
        "import tensorflow as tf\n",
        "import tensorflow_datasets as tfds\n",
        "import pandas as pd\n",
        "import tensorflow_recommenders as tfrs"
      ]
    },
    {
      "cell_type": "markdown",
      "metadata": {
        "id": "16W1-BvjtVmz"
      },
      "source": [
        "Let's pretend we have 3 users:\n",
        "1. Clarissa is a vegetarian who is lactose intolerant. 🥝🍅\n",
        "2. Martin is an athlete who prefers meat dishes to vegetable dishes. 🍖🥩\n",
        "3. Stella - has no special preferences, eats mostly everything. 🍲🍠"
      ]
    },
    {
      "cell_type": "code",
      "execution_count": 2,
      "metadata": {
        "id": "FDNshkxJvR-U"
      },
      "outputs": [],
      "source": [
        "clarissa = {'id':'clr', 'prefers': ['vegetables', 'vegan', 'nomeat', 'vegetarian'], 'hates': ['meat', 'lactose']}\n",
        "martin = {'id':'mrt', 'prefers': 'meat', 'hates': 'vegetables'}\n",
        "stella = {'id':'stl', 'prefers': '', 'hates': ''}"
      ]
    },
    {
      "cell_type": "markdown",
      "metadata": {
        "id": "FS8T34Y4xNhX"
      },
      "source": [
        "We will additionally enter the factors Calories, Protein, Fat, Carbohydrates for our requirements. **(The numbers were taken at random and do not reflect proportions or recommendations - the numbers are just an example)**\n",
        "* Clarissa - 2000/100/60/120\n",
        "* Martin, 2600/150/100/328.\n",
        "* Stella - 2200/80/50/100"
      ]
    },
    {
      "cell_type": "code",
      "execution_count": 3,
      "metadata": {
        "id": "qoPCpCLMxUob"
      },
      "outputs": [],
      "source": [
        "def set_requirements(user, calories, proteins, fats, carbs):\n",
        "  user['calories'] = calories\n",
        "  user['proteins'] = proteins\n",
        "  user['fats'] = fats\n",
        "  user['carbs'] = carbs\n",
        "set_requirements(clarissa, 2000, 100, 60, 120)\n",
        "set_requirements(martin, 2600, 150, 100, 328)\n",
        "set_requirements(martin, 2200, 80, 50, 100)\n"
      ]
    },
    {
      "cell_type": "markdown",
      "metadata": {
        "id": "iFMln3jutPpe"
      },
      "source": [
        "# Data processing 📊"
      ]
    },
    {
      "cell_type": "markdown",
      "metadata": {
        "id": "yDHv_HGvzWkB"
      },
      "source": [
        "Loading recipes and user_interactions. Nutritions showed like:calories (#), total fat (PDV), sugar (PDV) , sodium (PDV) , protein (PDV) , saturated fat (PDV) , and carbohydrates (PDV)"
      ]
    },
    {
      "cell_type": "code",
      "execution_count": 4,
      "metadata": {
        "colab": {
          "base_uri": "https://localhost:8080/",
          "height": 293
        },
        "id": "1gVJ6QAiyXLz",
        "outputId": "0e6c0673-457a-4063-eaa5-b553ec30edc8"
      },
      "outputs": [
        {
          "data": {
            "text/html": [
              "<div>\n",
              "<style scoped>\n",
              "    .dataframe tbody tr th:only-of-type {\n",
              "        vertical-align: middle;\n",
              "    }\n",
              "\n",
              "    .dataframe tbody tr th {\n",
              "        vertical-align: top;\n",
              "    }\n",
              "\n",
              "    .dataframe thead th {\n",
              "        text-align: right;\n",
              "    }\n",
              "</style>\n",
              "<table border=\"1\" class=\"dataframe\">\n",
              "  <thead>\n",
              "    <tr style=\"text-align: right;\">\n",
              "      <th></th>\n",
              "      <th>name</th>\n",
              "      <th>id</th>\n",
              "      <th>minutes</th>\n",
              "      <th>contributor_id</th>\n",
              "      <th>submitted</th>\n",
              "      <th>tags</th>\n",
              "      <th>nutrition</th>\n",
              "      <th>n_steps</th>\n",
              "      <th>steps</th>\n",
              "      <th>description</th>\n",
              "      <th>ingredients</th>\n",
              "      <th>n_ingredients</th>\n",
              "    </tr>\n",
              "  </thead>\n",
              "  <tbody>\n",
              "    <tr>\n",
              "      <th>0</th>\n",
              "      <td>arriba   baked winter squash mexican style</td>\n",
              "      <td>137739</td>\n",
              "      <td>55</td>\n",
              "      <td>47892</td>\n",
              "      <td>2005-09-16</td>\n",
              "      <td>['60-minutes-or-less', 'time-to-make', 'course...</td>\n",
              "      <td>[51.5, 0.0, 13.0, 0.0, 2.0, 0.0, 4.0]</td>\n",
              "      <td>11</td>\n",
              "      <td>['make a choice and proceed with recipe', 'dep...</td>\n",
              "      <td>autumn is my favorite time of year to cook! th...</td>\n",
              "      <td>['winter squash', 'mexican seasoning', 'mixed ...</td>\n",
              "      <td>7</td>\n",
              "    </tr>\n",
              "    <tr>\n",
              "      <th>1</th>\n",
              "      <td>a bit different  breakfast pizza</td>\n",
              "      <td>31490</td>\n",
              "      <td>30</td>\n",
              "      <td>26278</td>\n",
              "      <td>2002-06-17</td>\n",
              "      <td>['30-minutes-or-less', 'time-to-make', 'course...</td>\n",
              "      <td>[173.4, 18.0, 0.0, 17.0, 22.0, 35.0, 1.0]</td>\n",
              "      <td>9</td>\n",
              "      <td>['preheat oven to 425 degrees f', 'press dough...</td>\n",
              "      <td>this recipe calls for the crust to be prebaked...</td>\n",
              "      <td>['prepared pizza crust', 'sausage patty', 'egg...</td>\n",
              "      <td>6</td>\n",
              "    </tr>\n",
              "    <tr>\n",
              "      <th>2</th>\n",
              "      <td>all in the kitchen  chili</td>\n",
              "      <td>112140</td>\n",
              "      <td>130</td>\n",
              "      <td>196586</td>\n",
              "      <td>2005-02-25</td>\n",
              "      <td>['time-to-make', 'course', 'preparation', 'mai...</td>\n",
              "      <td>[269.8, 22.0, 32.0, 48.0, 39.0, 27.0, 5.0]</td>\n",
              "      <td>6</td>\n",
              "      <td>['brown ground beef in large pot', 'add choppe...</td>\n",
              "      <td>this modified version of 'mom's' chili was a h...</td>\n",
              "      <td>['ground beef', 'yellow onions', 'diced tomato...</td>\n",
              "      <td>13</td>\n",
              "    </tr>\n",
              "    <tr>\n",
              "      <th>3</th>\n",
              "      <td>alouette  potatoes</td>\n",
              "      <td>59389</td>\n",
              "      <td>45</td>\n",
              "      <td>68585</td>\n",
              "      <td>2003-04-14</td>\n",
              "      <td>['60-minutes-or-less', 'time-to-make', 'course...</td>\n",
              "      <td>[368.1, 17.0, 10.0, 2.0, 14.0, 8.0, 20.0]</td>\n",
              "      <td>11</td>\n",
              "      <td>['place potatoes in a large pot of lightly sal...</td>\n",
              "      <td>this is a super easy, great tasting, make ahea...</td>\n",
              "      <td>['spreadable cheese with garlic and herbs', 'n...</td>\n",
              "      <td>11</td>\n",
              "    </tr>\n",
              "    <tr>\n",
              "      <th>4</th>\n",
              "      <td>amish  tomato ketchup  for canning</td>\n",
              "      <td>44061</td>\n",
              "      <td>190</td>\n",
              "      <td>41706</td>\n",
              "      <td>2002-10-25</td>\n",
              "      <td>['weeknight', 'time-to-make', 'course', 'main-...</td>\n",
              "      <td>[352.9, 1.0, 337.0, 23.0, 3.0, 0.0, 28.0]</td>\n",
              "      <td>5</td>\n",
              "      <td>['mix all ingredients&amp; boil for 2 1 / 2 hours ...</td>\n",
              "      <td>my dh's amish mother raised him on this recipe...</td>\n",
              "      <td>['tomato juice', 'apple cider vinegar', 'sugar...</td>\n",
              "      <td>8</td>\n",
              "    </tr>\n",
              "  </tbody>\n",
              "</table>\n",
              "</div>"
            ],
            "text/plain": [
              "                                         name      id  minutes  \\\n",
              "0  arriba   baked winter squash mexican style  137739       55   \n",
              "1            a bit different  breakfast pizza   31490       30   \n",
              "2                   all in the kitchen  chili  112140      130   \n",
              "3                          alouette  potatoes   59389       45   \n",
              "4          amish  tomato ketchup  for canning   44061      190   \n",
              "\n",
              "   contributor_id   submitted  \\\n",
              "0           47892  2005-09-16   \n",
              "1           26278  2002-06-17   \n",
              "2          196586  2005-02-25   \n",
              "3           68585  2003-04-14   \n",
              "4           41706  2002-10-25   \n",
              "\n",
              "                                                tags  \\\n",
              "0  ['60-minutes-or-less', 'time-to-make', 'course...   \n",
              "1  ['30-minutes-or-less', 'time-to-make', 'course...   \n",
              "2  ['time-to-make', 'course', 'preparation', 'mai...   \n",
              "3  ['60-minutes-or-less', 'time-to-make', 'course...   \n",
              "4  ['weeknight', 'time-to-make', 'course', 'main-...   \n",
              "\n",
              "                                    nutrition  n_steps  \\\n",
              "0       [51.5, 0.0, 13.0, 0.0, 2.0, 0.0, 4.0]       11   \n",
              "1   [173.4, 18.0, 0.0, 17.0, 22.0, 35.0, 1.0]        9   \n",
              "2  [269.8, 22.0, 32.0, 48.0, 39.0, 27.0, 5.0]        6   \n",
              "3   [368.1, 17.0, 10.0, 2.0, 14.0, 8.0, 20.0]       11   \n",
              "4   [352.9, 1.0, 337.0, 23.0, 3.0, 0.0, 28.0]        5   \n",
              "\n",
              "                                               steps  \\\n",
              "0  ['make a choice and proceed with recipe', 'dep...   \n",
              "1  ['preheat oven to 425 degrees f', 'press dough...   \n",
              "2  ['brown ground beef in large pot', 'add choppe...   \n",
              "3  ['place potatoes in a large pot of lightly sal...   \n",
              "4  ['mix all ingredients& boil for 2 1 / 2 hours ...   \n",
              "\n",
              "                                         description  \\\n",
              "0  autumn is my favorite time of year to cook! th...   \n",
              "1  this recipe calls for the crust to be prebaked...   \n",
              "2  this modified version of 'mom's' chili was a h...   \n",
              "3  this is a super easy, great tasting, make ahea...   \n",
              "4  my dh's amish mother raised him on this recipe...   \n",
              "\n",
              "                                         ingredients  n_ingredients  \n",
              "0  ['winter squash', 'mexican seasoning', 'mixed ...              7  \n",
              "1  ['prepared pizza crust', 'sausage patty', 'egg...              6  \n",
              "2  ['ground beef', 'yellow onions', 'diced tomato...             13  \n",
              "3  ['spreadable cheese with garlic and herbs', 'n...             11  \n",
              "4  ['tomato juice', 'apple cider vinegar', 'sugar...              8  "
            ]
          },
          "execution_count": 4,
          "metadata": {},
          "output_type": "execute_result"
        }
      ],
      "source": [
        "raw_recipes = pd.read_csv('./sample_data/RAW_recipes.csv')\n",
        "raw_interactions = pd.read_csv('./sample_data/RAW_interactions.csv')\n",
        "raw_recipes.head()"
      ]
    },
    {
      "cell_type": "markdown",
      "metadata": {
        "id": "9_z_pQgv4fvC"
      },
      "source": [
        "Merge data interactions with recipe infos"
      ]
    },
    {
      "cell_type": "code",
      "execution_count": 5,
      "metadata": {
        "colab": {
          "base_uri": "https://localhost:8080/",
          "height": 293
        },
        "id": "ahU35J7P31xt",
        "outputId": "f26e3ef4-cfee-4ecd-b0bd-44e31a36503b"
      },
      "outputs": [
        {
          "data": {
            "text/html": [
              "<div>\n",
              "<style scoped>\n",
              "    .dataframe tbody tr th:only-of-type {\n",
              "        vertical-align: middle;\n",
              "    }\n",
              "\n",
              "    .dataframe tbody tr th {\n",
              "        vertical-align: top;\n",
              "    }\n",
              "\n",
              "    .dataframe thead th {\n",
              "        text-align: right;\n",
              "    }\n",
              "</style>\n",
              "<table border=\"1\" class=\"dataframe\">\n",
              "  <thead>\n",
              "    <tr style=\"text-align: right;\">\n",
              "      <th></th>\n",
              "      <th>user_id</th>\n",
              "      <th>recipe_id</th>\n",
              "      <th>rating</th>\n",
              "      <th>recipe_name</th>\n",
              "      <th>tags</th>\n",
              "      <th>ingredients</th>\n",
              "    </tr>\n",
              "  </thead>\n",
              "  <tbody>\n",
              "    <tr>\n",
              "      <th>0</th>\n",
              "      <td>38094</td>\n",
              "      <td>40893</td>\n",
              "      <td>4</td>\n",
              "      <td>white bean   green chile pepper soup</td>\n",
              "      <td>['weeknight', 'time-to-make', 'course', 'main-...</td>\n",
              "      <td>['great northern beans', 'yellow onion', 'dice...</td>\n",
              "    </tr>\n",
              "    <tr>\n",
              "      <th>1</th>\n",
              "      <td>1293707</td>\n",
              "      <td>40893</td>\n",
              "      <td>5</td>\n",
              "      <td>white bean   green chile pepper soup</td>\n",
              "      <td>['weeknight', 'time-to-make', 'course', 'main-...</td>\n",
              "      <td>['great northern beans', 'yellow onion', 'dice...</td>\n",
              "    </tr>\n",
              "    <tr>\n",
              "      <th>2</th>\n",
              "      <td>8937</td>\n",
              "      <td>44394</td>\n",
              "      <td>4</td>\n",
              "      <td>devilicious cookie cake delights</td>\n",
              "      <td>['30-minutes-or-less', 'time-to-make', 'course...</td>\n",
              "      <td>[\"devil's food cake mix\", 'vegetable oil', 'eg...</td>\n",
              "    </tr>\n",
              "    <tr>\n",
              "      <th>3</th>\n",
              "      <td>126440</td>\n",
              "      <td>85009</td>\n",
              "      <td>5</td>\n",
              "      <td>baked potato toppings</td>\n",
              "      <td>['15-minutes-or-less', 'time-to-make', 'course...</td>\n",
              "      <td>['mayonnaise', 'salsa', 'cheddar cheese', 'ref...</td>\n",
              "    </tr>\n",
              "    <tr>\n",
              "      <th>4</th>\n",
              "      <td>57222</td>\n",
              "      <td>85009</td>\n",
              "      <td>5</td>\n",
              "      <td>baked potato toppings</td>\n",
              "      <td>['15-minutes-or-less', 'time-to-make', 'course...</td>\n",
              "      <td>['mayonnaise', 'salsa', 'cheddar cheese', 'ref...</td>\n",
              "    </tr>\n",
              "  </tbody>\n",
              "</table>\n",
              "</div>"
            ],
            "text/plain": [
              "   user_id  recipe_id  rating                           recipe_name  \\\n",
              "0    38094      40893       4  white bean   green chile pepper soup   \n",
              "1  1293707      40893       5  white bean   green chile pepper soup   \n",
              "2     8937      44394       4      devilicious cookie cake delights   \n",
              "3   126440      85009       5                 baked potato toppings   \n",
              "4    57222      85009       5                 baked potato toppings   \n",
              "\n",
              "                                                tags  \\\n",
              "0  ['weeknight', 'time-to-make', 'course', 'main-...   \n",
              "1  ['weeknight', 'time-to-make', 'course', 'main-...   \n",
              "2  ['30-minutes-or-less', 'time-to-make', 'course...   \n",
              "3  ['15-minutes-or-less', 'time-to-make', 'course...   \n",
              "4  ['15-minutes-or-less', 'time-to-make', 'course...   \n",
              "\n",
              "                                         ingredients  \n",
              "0  ['great northern beans', 'yellow onion', 'dice...  \n",
              "1  ['great northern beans', 'yellow onion', 'dice...  \n",
              "2  [\"devil's food cake mix\", 'vegetable oil', 'eg...  \n",
              "3  ['mayonnaise', 'salsa', 'cheddar cheese', 'ref...  \n",
              "4  ['mayonnaise', 'salsa', 'cheddar cheese', 'ref...  "
            ]
          },
          "execution_count": 5,
          "metadata": {},
          "output_type": "execute_result"
        }
      ],
      "source": [
        "interactions_with_recipe_info = pd.merge(raw_interactions, raw_recipes[['name', 'tags', 'ingredients', 'id']], left_on='recipe_id', right_on='id', how='left')\n",
        "interactions_with_recipe_info = interactions_with_recipe_info[['user_id', 'recipe_id', 'rating', 'name', 'tags', 'ingredients']]\n",
        "interactions_with_recipe_info.rename(columns={'name': 'recipe_name'}, inplace=True)\n",
        "interactions_with_recipe_info.head()"
      ]
    },
    {
      "cell_type": "code",
      "execution_count": 6,
      "metadata": {
        "id": "a47R5lVA2r_t"
      },
      "outputs": [],
      "source": [
        "import ast\n",
        "\n",
        "def convert_to_list(data_str):\n",
        "  try:\n",
        "    return ast.literal_eval(data_str)\n",
        "  except (SyntaxError, ValueError):\n",
        "    return []"
      ]
    },
    {
      "cell_type": "code",
      "execution_count": 7,
      "metadata": {
        "id": "Fai3Kw-i7xmw"
      },
      "outputs": [],
      "source": [
        "interactions_with_recipe_info['ingredients_str'] = interactions_with_recipe_info['ingredients'].apply(convert_to_list)\n",
        "interactions_with_recipe_info['tags_str'] = interactions_with_recipe_info['tags'].apply(convert_to_list)\n",
        "raw_recipes['ingredients_str'] = raw_recipes['ingredients'].apply(convert_to_list)\n",
        "raw_recipes['tags_str'] = raw_recipes['tags'].apply(convert_to_list)"
      ]
    },
    {
      "cell_type": "markdown",
      "metadata": {
        "id": "nVgYKJQ57wyE"
      },
      "source": [
        "Formatting data for Datasets"
      ]
    },
    {
      "cell_type": "code",
      "execution_count": 8,
      "metadata": {
        "id": "6wavCmee7zWl"
      },
      "outputs": [],
      "source": [
        "interactions_with_recipe_info['user_id'] = interactions_with_recipe_info.user_id.astype(\"str\")\n",
        "interactions_with_recipe_info['recipe_id'] = interactions_with_recipe_info.recipe_id.astype(\"str\")\n",
        "interactions_with_recipe_info['rating'] = interactions_with_recipe_info.rating.astype(np.float32)\n",
        "interactions_with_recipe_info['recipe_name'] = interactions_with_recipe_info.recipe_name.astype(\"str\")\n",
        "interactions_with_recipe_info['tags'] = interactions_with_recipe_info.tags.astype(\"str\")\n",
        "interactions_with_recipe_info['ingredients'] = interactions_with_recipe_info.ingredients.astype(\"str\")\n"
      ]
    },
    {
      "cell_type": "code",
      "execution_count": 9,
      "metadata": {
        "colab": {
          "base_uri": "https://localhost:8080/"
        },
        "id": "MNJZsenzBSOO",
        "outputId": "44524d39-038a-44ea-f3a4-173df25eae43"
      },
      "outputs": [
        {
          "data": {
            "text/plain": [
              "226570"
            ]
          },
          "execution_count": 9,
          "metadata": {},
          "output_type": "execute_result"
        }
      ],
      "source": [
        "len(interactions_with_recipe_info['user_id'].unique())"
      ]
    },
    {
      "cell_type": "markdown",
      "metadata": {
        "id": "ZMXuOAHX9sgD"
      },
      "source": [
        "Creating train preferences for users"
      ]
    },
    {
      "cell_type": "code",
      "execution_count": 10,
      "metadata": {
        "colab": {
          "base_uri": "https://localhost:8080/",
          "height": 206
        },
        "id": "4XwFlxfM9wJI",
        "outputId": "c018cb40-8d45-400f-93bf-e5dc2ee5b992"
      },
      "outputs": [
        {
          "data": {
            "text/html": [
              "<div>\n",
              "<style scoped>\n",
              "    .dataframe tbody tr th:only-of-type {\n",
              "        vertical-align: middle;\n",
              "    }\n",
              "\n",
              "    .dataframe tbody tr th {\n",
              "        vertical-align: top;\n",
              "    }\n",
              "\n",
              "    .dataframe thead th {\n",
              "        text-align: right;\n",
              "    }\n",
              "</style>\n",
              "<table border=\"1\" class=\"dataframe\">\n",
              "  <thead>\n",
              "    <tr style=\"text-align: right;\">\n",
              "      <th></th>\n",
              "      <th>user_id</th>\n",
              "      <th>rating</th>\n",
              "      <th>tags_str</th>\n",
              "    </tr>\n",
              "  </thead>\n",
              "  <tbody>\n",
              "    <tr>\n",
              "      <th>0</th>\n",
              "      <td>38094</td>\n",
              "      <td>4.0</td>\n",
              "      <td>[weeknight, time-to-make, course, main-ingredi...</td>\n",
              "    </tr>\n",
              "    <tr>\n",
              "      <th>1</th>\n",
              "      <td>1293707</td>\n",
              "      <td>5.0</td>\n",
              "      <td>[weeknight, time-to-make, course, main-ingredi...</td>\n",
              "    </tr>\n",
              "    <tr>\n",
              "      <th>2</th>\n",
              "      <td>8937</td>\n",
              "      <td>4.0</td>\n",
              "      <td>[30-minutes-or-less, time-to-make, course, mai...</td>\n",
              "    </tr>\n",
              "    <tr>\n",
              "      <th>3</th>\n",
              "      <td>126440</td>\n",
              "      <td>5.0</td>\n",
              "      <td>[15-minutes-or-less, time-to-make, course, mai...</td>\n",
              "    </tr>\n",
              "    <tr>\n",
              "      <th>4</th>\n",
              "      <td>57222</td>\n",
              "      <td>5.0</td>\n",
              "      <td>[15-minutes-or-less, time-to-make, course, mai...</td>\n",
              "    </tr>\n",
              "  </tbody>\n",
              "</table>\n",
              "</div>"
            ],
            "text/plain": [
              "   user_id  rating                                           tags_str\n",
              "0    38094     4.0  [weeknight, time-to-make, course, main-ingredi...\n",
              "1  1293707     5.0  [weeknight, time-to-make, course, main-ingredi...\n",
              "2     8937     4.0  [30-minutes-or-less, time-to-make, course, mai...\n",
              "3   126440     5.0  [15-minutes-or-less, time-to-make, course, mai...\n",
              "4    57222     5.0  [15-minutes-or-less, time-to-make, course, mai..."
            ]
          },
          "execution_count": 10,
          "metadata": {},
          "output_type": "execute_result"
        }
      ],
      "source": [
        "user_preferences = interactions_with_recipe_info[['user_id', 'rating', 'tags_str']]\n",
        "user_preferences.head()"
      ]
    },
    {
      "cell_type": "code",
      "execution_count": 11,
      "metadata": {
        "id": "RN5oeRb--M5o"
      },
      "outputs": [],
      "source": [
        "user_liked_tags = user_preferences[user_preferences['rating'] >= 3].groupby('user_id')['tags_str'].apply(list).reset_index()\n",
        "user_unliked_tags = user_preferences[user_preferences['rating'] < 3].groupby('user_id')['tags_str'].apply(list).reset_index()\n",
        "users_ds = pd.DataFrame(interactions_with_recipe_info['user_id'].unique(), columns=['user_id'])\n"
      ]
    },
    {
      "cell_type": "code",
      "execution_count": 12,
      "metadata": {
        "id": "swe2hQ9dBZsI"
      },
      "outputs": [],
      "source": [
        "users_ds = users_ds.merge(user_liked_tags, on='user_id', how='left')\n",
        "users_ds = users_ds.rename(columns={'tags_str': 'liked_tags'})\n",
        "users_ds = users_ds.merge(user_unliked_tags, on='user_id', how='left')\n",
        "users_ds = users_ds.rename(columns={'tags_str': 'unliked_tags'})"
      ]
    },
    {
      "cell_type": "code",
      "execution_count": 13,
      "metadata": {
        "colab": {
          "base_uri": "https://localhost:8080/",
          "height": 206
        },
        "id": "M2fouB8BCOLp",
        "outputId": "f28b08de-b1ec-49c8-8dc9-6a88074c7444"
      },
      "outputs": [
        {
          "data": {
            "text/html": [
              "<div>\n",
              "<style scoped>\n",
              "    .dataframe tbody tr th:only-of-type {\n",
              "        vertical-align: middle;\n",
              "    }\n",
              "\n",
              "    .dataframe tbody tr th {\n",
              "        vertical-align: top;\n",
              "    }\n",
              "\n",
              "    .dataframe thead th {\n",
              "        text-align: right;\n",
              "    }\n",
              "</style>\n",
              "<table border=\"1\" class=\"dataframe\">\n",
              "  <thead>\n",
              "    <tr style=\"text-align: right;\">\n",
              "      <th></th>\n",
              "      <th>user_id</th>\n",
              "      <th>liked_tags</th>\n",
              "      <th>unliked_tags</th>\n",
              "    </tr>\n",
              "  </thead>\n",
              "  <tbody>\n",
              "    <tr>\n",
              "      <th>0</th>\n",
              "      <td>38094</td>\n",
              "      <td>[[weeknight, time-to-make, course, main-ingred...</td>\n",
              "      <td>NaN</td>\n",
              "    </tr>\n",
              "    <tr>\n",
              "      <th>1</th>\n",
              "      <td>1293707</td>\n",
              "      <td>[[weeknight, time-to-make, course, main-ingred...</td>\n",
              "      <td>[[60-minutes-or-less, time-to-make, course, ma...</td>\n",
              "    </tr>\n",
              "    <tr>\n",
              "      <th>2</th>\n",
              "      <td>8937</td>\n",
              "      <td>[[30-minutes-or-less, time-to-make, course, ma...</td>\n",
              "      <td>NaN</td>\n",
              "    </tr>\n",
              "    <tr>\n",
              "      <th>3</th>\n",
              "      <td>126440</td>\n",
              "      <td>[[15-minutes-or-less, time-to-make, course, ma...</td>\n",
              "      <td>[[60-minutes-or-less, time-to-make, course, pr...</td>\n",
              "    </tr>\n",
              "    <tr>\n",
              "      <th>4</th>\n",
              "      <td>57222</td>\n",
              "      <td>[[15-minutes-or-less, time-to-make, course, ma...</td>\n",
              "      <td>[[60-minutes-or-less, time-to-make, course, ma...</td>\n",
              "    </tr>\n",
              "  </tbody>\n",
              "</table>\n",
              "</div>"
            ],
            "text/plain": [
              "   user_id                                         liked_tags  \\\n",
              "0    38094  [[weeknight, time-to-make, course, main-ingred...   \n",
              "1  1293707  [[weeknight, time-to-make, course, main-ingred...   \n",
              "2     8937  [[30-minutes-or-less, time-to-make, course, ma...   \n",
              "3   126440  [[15-minutes-or-less, time-to-make, course, ma...   \n",
              "4    57222  [[15-minutes-or-less, time-to-make, course, ma...   \n",
              "\n",
              "                                        unliked_tags  \n",
              "0                                                NaN  \n",
              "1  [[60-minutes-or-less, time-to-make, course, ma...  \n",
              "2                                                NaN  \n",
              "3  [[60-minutes-or-less, time-to-make, course, pr...  \n",
              "4  [[60-minutes-or-less, time-to-make, course, ma...  "
            ]
          },
          "execution_count": 13,
          "metadata": {},
          "output_type": "execute_result"
        }
      ],
      "source": [
        "users_ds.head()"
      ]
    },
    {
      "cell_type": "markdown",
      "metadata": {
        "id": "O9knZ5NNC1C0"
      },
      "source": [
        "Looking that some of users don't have unliked_tags, so replace all Nan with empty arrays"
      ]
    },
    {
      "cell_type": "code",
      "execution_count": 14,
      "metadata": {
        "id": "eZUt0mAcDLVQ"
      },
      "outputs": [],
      "source": [
        "def unique_tags_in_list(tags_list):\n",
        "  if isinstance(tags_list, list):\n",
        "    unique_tags = []\n",
        "    for sublist in tags_list:\n",
        "      if isinstance(sublist, list):\n",
        "        for tag in sublist:\n",
        "          if tag not in unique_tags:\n",
        "            unique_tags.append(tag)\n",
        "    return unique_tags\n",
        "  else:\n",
        "    return []\n",
        "\n",
        "users_ds['liked_tags'] = users_ds['liked_tags'].apply(unique_tags_in_list)\n",
        "users_ds['unliked_tags'] = users_ds['unliked_tags'].apply(unique_tags_in_list)"
      ]
    },
    {
      "cell_type": "code",
      "execution_count": 15,
      "metadata": {
        "id": "OpuGJ1nTFoVR"
      },
      "outputs": [],
      "source": [
        "def remove_duplicate_tags(row):\n",
        "  liked_tags = set(row['liked_tags']) if isinstance(row['liked_tags'], list) else set()\n",
        "  unliked_tags = set(row['unliked_tags']) if isinstance(row['unliked_tags'], list) else set()\n",
        "  duplicate_tags = liked_tags.intersection(unliked_tags)\n",
        "  row['liked_tags'] = [tag for tag in row['liked_tags'] if tag not in duplicate_tags] if isinstance(row['liked_tags'], list) else []\n",
        "  row['unliked_tags'] = [tag for tag in row['unliked_tags'] if tag not in duplicate_tags] if isinstance(row['unliked_tags'], list) else []\n",
        "  return row\n",
        "\n",
        "users_ds = users_ds.apply(remove_duplicate_tags, axis=1)\n"
      ]
    },
    {
      "cell_type": "code",
      "execution_count": 16,
      "metadata": {
        "colab": {
          "base_uri": "https://localhost:8080/",
          "height": 206
        },
        "id": "9qRO0tcMF9-X",
        "outputId": "bdbccbcd-2a5f-48c4-a981-76a5231cc610"
      },
      "outputs": [
        {
          "data": {
            "text/html": [
              "<div>\n",
              "<style scoped>\n",
              "    .dataframe tbody tr th:only-of-type {\n",
              "        vertical-align: middle;\n",
              "    }\n",
              "\n",
              "    .dataframe tbody tr th {\n",
              "        vertical-align: top;\n",
              "    }\n",
              "\n",
              "    .dataframe thead th {\n",
              "        text-align: right;\n",
              "    }\n",
              "</style>\n",
              "<table border=\"1\" class=\"dataframe\">\n",
              "  <thead>\n",
              "    <tr style=\"text-align: right;\">\n",
              "      <th></th>\n",
              "      <th>user_id</th>\n",
              "      <th>liked_tags</th>\n",
              "      <th>unliked_tags</th>\n",
              "    </tr>\n",
              "  </thead>\n",
              "  <tbody>\n",
              "    <tr>\n",
              "      <th>0</th>\n",
              "      <td>38094</td>\n",
              "      <td>[weeknight, time-to-make, course, main-ingredi...</td>\n",
              "      <td>[]</td>\n",
              "    </tr>\n",
              "    <tr>\n",
              "      <th>1</th>\n",
              "      <td>1293707</td>\n",
              "      <td>[weeknight, soups-stews, beans, crock-pot-slow...</td>\n",
              "      <td>[cupcakes, finger-food, cakes, english, cake-f...</td>\n",
              "    </tr>\n",
              "    <tr>\n",
              "      <th>2</th>\n",
              "      <td>8937</td>\n",
              "      <td>[30-minutes-or-less, time-to-make, course, mai...</td>\n",
              "      <td>[]</td>\n",
              "    </tr>\n",
              "    <tr>\n",
              "      <th>3</th>\n",
              "      <td>126440</td>\n",
              "      <td>[15-minutes-or-less, 3-steps-or-less, jewish-s...</td>\n",
              "      <td>[]</td>\n",
              "    </tr>\n",
              "    <tr>\n",
              "      <th>4</th>\n",
              "      <td>57222</td>\n",
              "      <td>[condiments-etc, salads, beans, grains, south-...</td>\n",
              "      <td>[kwanzaa, dairy-free]</td>\n",
              "    </tr>\n",
              "  </tbody>\n",
              "</table>\n",
              "</div>"
            ],
            "text/plain": [
              "   user_id                                         liked_tags  \\\n",
              "0    38094  [weeknight, time-to-make, course, main-ingredi...   \n",
              "1  1293707  [weeknight, soups-stews, beans, crock-pot-slow...   \n",
              "2     8937  [30-minutes-or-less, time-to-make, course, mai...   \n",
              "3   126440  [15-minutes-or-less, 3-steps-or-less, jewish-s...   \n",
              "4    57222  [condiments-etc, salads, beans, grains, south-...   \n",
              "\n",
              "                                        unliked_tags  \n",
              "0                                                 []  \n",
              "1  [cupcakes, finger-food, cakes, english, cake-f...  \n",
              "2                                                 []  \n",
              "3                                                 []  \n",
              "4                              [kwanzaa, dairy-free]  "
            ]
          },
          "execution_count": 16,
          "metadata": {},
          "output_type": "execute_result"
        }
      ],
      "source": [
        "users_ds.head()"
      ]
    },
    {
      "cell_type": "code",
      "execution_count": 17,
      "metadata": {
        "id": "GjbluG3mGqXq"
      },
      "outputs": [],
      "source": [
        "interactions_with_recipe_info = pd.merge(interactions_with_recipe_info, users_ds, on='user_id', how='left')"
      ]
    },
    {
      "cell_type": "code",
      "execution_count": 18,
      "metadata": {
        "colab": {
          "base_uri": "https://localhost:8080/",
          "height": 293
        },
        "id": "2M49kWGoGvqs",
        "outputId": "a455af49-21b4-4b15-c5d2-3395ac926489"
      },
      "outputs": [
        {
          "data": {
            "text/html": [
              "<div>\n",
              "<style scoped>\n",
              "    .dataframe tbody tr th:only-of-type {\n",
              "        vertical-align: middle;\n",
              "    }\n",
              "\n",
              "    .dataframe tbody tr th {\n",
              "        vertical-align: top;\n",
              "    }\n",
              "\n",
              "    .dataframe thead th {\n",
              "        text-align: right;\n",
              "    }\n",
              "</style>\n",
              "<table border=\"1\" class=\"dataframe\">\n",
              "  <thead>\n",
              "    <tr style=\"text-align: right;\">\n",
              "      <th></th>\n",
              "      <th>user_id</th>\n",
              "      <th>recipe_id</th>\n",
              "      <th>rating</th>\n",
              "      <th>recipe_name</th>\n",
              "      <th>tags</th>\n",
              "      <th>ingredients</th>\n",
              "      <th>ingredients_str</th>\n",
              "      <th>tags_str</th>\n",
              "      <th>liked_tags</th>\n",
              "      <th>unliked_tags</th>\n",
              "    </tr>\n",
              "  </thead>\n",
              "  <tbody>\n",
              "    <tr>\n",
              "      <th>0</th>\n",
              "      <td>38094</td>\n",
              "      <td>40893</td>\n",
              "      <td>4.0</td>\n",
              "      <td>white bean   green chile pepper soup</td>\n",
              "      <td>['weeknight', 'time-to-make', 'course', 'main-...</td>\n",
              "      <td>['great northern beans', 'yellow onion', 'dice...</td>\n",
              "      <td>[great northern beans, yellow onion, diced gre...</td>\n",
              "      <td>[weeknight, time-to-make, course, main-ingredi...</td>\n",
              "      <td>[weeknight, time-to-make, course, main-ingredi...</td>\n",
              "      <td>[]</td>\n",
              "    </tr>\n",
              "    <tr>\n",
              "      <th>1</th>\n",
              "      <td>1293707</td>\n",
              "      <td>40893</td>\n",
              "      <td>5.0</td>\n",
              "      <td>white bean   green chile pepper soup</td>\n",
              "      <td>['weeknight', 'time-to-make', 'course', 'main-...</td>\n",
              "      <td>['great northern beans', 'yellow onion', 'dice...</td>\n",
              "      <td>[great northern beans, yellow onion, diced gre...</td>\n",
              "      <td>[weeknight, time-to-make, course, main-ingredi...</td>\n",
              "      <td>[weeknight, soups-stews, beans, crock-pot-slow...</td>\n",
              "      <td>[cupcakes, finger-food, cakes, english, cake-f...</td>\n",
              "    </tr>\n",
              "    <tr>\n",
              "      <th>2</th>\n",
              "      <td>8937</td>\n",
              "      <td>44394</td>\n",
              "      <td>4.0</td>\n",
              "      <td>devilicious cookie cake delights</td>\n",
              "      <td>['30-minutes-or-less', 'time-to-make', 'course...</td>\n",
              "      <td>[\"devil's food cake mix\", 'vegetable oil', 'eg...</td>\n",
              "      <td>[devil's food cake mix, vegetable oil, eggs, r...</td>\n",
              "      <td>[30-minutes-or-less, time-to-make, course, mai...</td>\n",
              "      <td>[30-minutes-or-less, time-to-make, course, mai...</td>\n",
              "      <td>[]</td>\n",
              "    </tr>\n",
              "    <tr>\n",
              "      <th>3</th>\n",
              "      <td>126440</td>\n",
              "      <td>85009</td>\n",
              "      <td>5.0</td>\n",
              "      <td>baked potato toppings</td>\n",
              "      <td>['15-minutes-or-less', 'time-to-make', 'course...</td>\n",
              "      <td>['mayonnaise', 'salsa', 'cheddar cheese', 'ref...</td>\n",
              "      <td>[mayonnaise, salsa, cheddar cheese, refried be...</td>\n",
              "      <td>[15-minutes-or-less, time-to-make, course, mai...</td>\n",
              "      <td>[15-minutes-or-less, 3-steps-or-less, jewish-s...</td>\n",
              "      <td>[]</td>\n",
              "    </tr>\n",
              "    <tr>\n",
              "      <th>4</th>\n",
              "      <td>57222</td>\n",
              "      <td>85009</td>\n",
              "      <td>5.0</td>\n",
              "      <td>baked potato toppings</td>\n",
              "      <td>['15-minutes-or-less', 'time-to-make', 'course...</td>\n",
              "      <td>['mayonnaise', 'salsa', 'cheddar cheese', 'ref...</td>\n",
              "      <td>[mayonnaise, salsa, cheddar cheese, refried be...</td>\n",
              "      <td>[15-minutes-or-less, time-to-make, course, mai...</td>\n",
              "      <td>[condiments-etc, salads, beans, grains, south-...</td>\n",
              "      <td>[kwanzaa, dairy-free]</td>\n",
              "    </tr>\n",
              "  </tbody>\n",
              "</table>\n",
              "</div>"
            ],
            "text/plain": [
              "   user_id recipe_id  rating                           recipe_name  \\\n",
              "0    38094     40893     4.0  white bean   green chile pepper soup   \n",
              "1  1293707     40893     5.0  white bean   green chile pepper soup   \n",
              "2     8937     44394     4.0      devilicious cookie cake delights   \n",
              "3   126440     85009     5.0                 baked potato toppings   \n",
              "4    57222     85009     5.0                 baked potato toppings   \n",
              "\n",
              "                                                tags  \\\n",
              "0  ['weeknight', 'time-to-make', 'course', 'main-...   \n",
              "1  ['weeknight', 'time-to-make', 'course', 'main-...   \n",
              "2  ['30-minutes-or-less', 'time-to-make', 'course...   \n",
              "3  ['15-minutes-or-less', 'time-to-make', 'course...   \n",
              "4  ['15-minutes-or-less', 'time-to-make', 'course...   \n",
              "\n",
              "                                         ingredients  \\\n",
              "0  ['great northern beans', 'yellow onion', 'dice...   \n",
              "1  ['great northern beans', 'yellow onion', 'dice...   \n",
              "2  [\"devil's food cake mix\", 'vegetable oil', 'eg...   \n",
              "3  ['mayonnaise', 'salsa', 'cheddar cheese', 'ref...   \n",
              "4  ['mayonnaise', 'salsa', 'cheddar cheese', 'ref...   \n",
              "\n",
              "                                     ingredients_str  \\\n",
              "0  [great northern beans, yellow onion, diced gre...   \n",
              "1  [great northern beans, yellow onion, diced gre...   \n",
              "2  [devil's food cake mix, vegetable oil, eggs, r...   \n",
              "3  [mayonnaise, salsa, cheddar cheese, refried be...   \n",
              "4  [mayonnaise, salsa, cheddar cheese, refried be...   \n",
              "\n",
              "                                            tags_str  \\\n",
              "0  [weeknight, time-to-make, course, main-ingredi...   \n",
              "1  [weeknight, time-to-make, course, main-ingredi...   \n",
              "2  [30-minutes-or-less, time-to-make, course, mai...   \n",
              "3  [15-minutes-or-less, time-to-make, course, mai...   \n",
              "4  [15-minutes-or-less, time-to-make, course, mai...   \n",
              "\n",
              "                                          liked_tags  \\\n",
              "0  [weeknight, time-to-make, course, main-ingredi...   \n",
              "1  [weeknight, soups-stews, beans, crock-pot-slow...   \n",
              "2  [30-minutes-or-less, time-to-make, course, mai...   \n",
              "3  [15-minutes-or-less, 3-steps-or-less, jewish-s...   \n",
              "4  [condiments-etc, salads, beans, grains, south-...   \n",
              "\n",
              "                                        unliked_tags  \n",
              "0                                                 []  \n",
              "1  [cupcakes, finger-food, cakes, english, cake-f...  \n",
              "2                                                 []  \n",
              "3                                                 []  \n",
              "4                              [kwanzaa, dairy-free]  "
            ]
          },
          "execution_count": 18,
          "metadata": {},
          "output_type": "execute_result"
        }
      ],
      "source": [
        "interactions_with_recipe_info.head()"
      ]
    },
    {
      "cell_type": "markdown",
      "metadata": {
        "id": "nzycE1Re7X9i"
      },
      "source": [
        "Creating datasets"
      ]
    },
    {
      "cell_type": "code",
      "execution_count": 19,
      "metadata": {},
      "outputs": [],
      "source": [
        "# Параметры\n",
        "MAX_TAG_LENGTH = 30\n",
        "PADDING_VALUE = \"empty\"\n",
        "\n",
        "interactions_with_recipe_info['liked_tags'] = [\n",
        "    (tags + [PADDING_VALUE] * (MAX_TAG_LENGTH - len(tags)))[:MAX_TAG_LENGTH] \n",
        "    for tags in interactions_with_recipe_info['liked_tags']\n",
        "]\n",
        "interactions_with_recipe_info['unliked_tags'] = [\n",
        "    (tags + [PADDING_VALUE] * (MAX_TAG_LENGTH - len(tags)))[:MAX_TAG_LENGTH] \n",
        "    for tags in interactions_with_recipe_info['unliked_tags']\n",
        "]\n",
        "interactions_with_recipe_info['ingredients_str'] =  [\n",
        "    (tags + [PADDING_VALUE] * (MAX_TAG_LENGTH - len(tags)))[:MAX_TAG_LENGTH] \n",
        "    for tags in interactions_with_recipe_info['ingredients_str'] ]\n",
        "\n",
        "interactions_with_recipe_info['tags_str'] =  [\n",
        "    (tags + [PADDING_VALUE] * (MAX_TAG_LENGTH - len(tags)))[:MAX_TAG_LENGTH] \n",
        "    for tags in interactions_with_recipe_info['tags_str'] ]"
      ]
    },
    {
      "cell_type": "code",
      "execution_count": 20,
      "metadata": {
        "id": "aZMJRewvLYJb"
      },
      "outputs": [],
      "source": [
        "interactions_with_recipe_info['liked_tags_str'] = interactions_with_recipe_info['liked_tags'].apply(lambda x: ','.join(x))\n",
        "interactions_with_recipe_info['unliked_tags_str'] = interactions_with_recipe_info['unliked_tags'].apply(lambda x: ','.join(x))"
      ]
    },
    {
      "cell_type": "code",
      "execution_count": 21,
      "metadata": {
        "id": "2l72F9aCLw46"
      },
      "outputs": [],
      "source": [
        "def split_tags(tags_string):\n",
        "    return tf.strings.split(tf.strings.strip(tags_string), ',')"
      ]
    },
    {
      "cell_type": "code",
      "execution_count": 22,
      "metadata": {},
      "outputs": [
        {
          "name": "stdout",
          "output_type": "stream",
          "text": [
            "WARNING:tensorflow:From C:\\Users\\azdanevy\\AppData\\Local\\Temp\\ipykernel_28960\\1112888837.py:1: The name tf.enable_eager_execution is deprecated. Please use tf.compat.v1.enable_eager_execution instead.\n",
            "\n"
          ]
        }
      ],
      "source": [
        "tf.compat.v1.enable_eager_execution()"
      ]
    },
    {
      "cell_type": "code",
      "execution_count": 115,
      "metadata": {
        "id": "1QwBdlgU7Xms"
      },
      "outputs": [],
      "source": [
        "def squeeze_tags(data):\n",
        "    return {\n",
        "        \"user_id\": data[\"user_id\"],\n",
        "        \"recipe_id\": data[\"recipe_id\"],\n",
        "        \"rating\": data[\"rating\"],\n",
        "        \"recipe_name\": data[\"recipe_name\"],\n",
        "        \"tags\": tf.squeeze(data[\"tags\"], axis=0),  # Укажите ось, которую нужно удалить\n",
        "        \"liked_tags\": tf.squeeze(data[\"liked_tags\"], axis=0),  # Укажите ось, которую нужно удалить\n",
        "        \"unliked_tags\": tf.squeeze(data[\"unliked_tags\"], axis=0)  # Укажите ось, которую нужно удалить\n",
        "    }\n",
        "\n",
        "ratings = tf.data.Dataset.from_tensor_slices((tf.cast(interactions_with_recipe_info['user_id'].values, tf.string),\n",
        "                                              tf.cast(interactions_with_recipe_info['recipe_id'].values, tf.string),\n",
        "                                              tf.cast(interactions_with_recipe_info['rating'].values, tf.float32),\n",
        "                                              tf.cast(interactions_with_recipe_info['recipe_name'].values, tf.string),\n",
        "                                              tf.cast(interactions_with_recipe_info['tags'].values.reshape(-1,1), tf.string),\n",
        "                                              tf.cast(interactions_with_recipe_info['liked_tags_str'].values.reshape(-1,1), tf.string),\n",
        "                                              tf.cast(interactions_with_recipe_info['unliked_tags_str'].values.reshape(-1,1), tf.string)\n",
        "                                              )).map(lambda x, x1, x2, x3, x4, x5, x6: {\n",
        "                                                  \"user_id\": x,\n",
        "                                                  \"recipe_id\": x1,\n",
        "                                                  \"rating\": x2,\n",
        "                                                  \"recipe_name\": x3,\n",
        "                                                  \"tags\": x4,\n",
        "                                                  \"liked_tags\": split_tags(x5),\n",
        "                                                  \"unliked_tags\": split_tags(x6)\n",
        "                                              }).map(squeeze_tags)\n"
      ]
    },
    {
      "cell_type": "code",
      "execution_count": 24,
      "metadata": {},
      "outputs": [
        {
          "name": "stdout",
          "output_type": "stream",
          "text": [
            "{'user_id': b'38094', 'recipe_id': b'40893', 'rating': 4.0, 'recipe_name': b'white bean   green chile pepper soup', 'tags': b\"['weeknight', 'time-to-make', 'course', 'main-ingredient', 'preparation', 'occasion', 'soups-stews', 'beans', 'vegetables', 'easy', 'crock-pot-slow-cooker', 'dietary', 'equipment']\", 'liked_tags': array([b'weeknight', b'time-to-make', b'course', b'main-ingredient',\n",
            "       b'preparation', b'occasion', b'soups-stews', b'beans',\n",
            "       b'vegetables', b'easy', b'crock-pot-slow-cooker', b'dietary',\n",
            "       b'equipment', b'60-minutes-or-less', b'main-dish', b'fruit',\n",
            "       b'vegan', b'vegetarian', b'stove-top', b'black-beans',\n",
            "       b'30-minutes-or-less', b'low-protein', b'salads', b'dinner-party',\n",
            "       b'low-cholesterol', b'low-carb', b'healthy-2', b'low-in-something',\n",
            "       b'for-1-or-2', b'side-dishes'], dtype=object), 'unliked_tags': array([b'empty', b'empty', b'empty', b'empty', b'empty', b'empty',\n",
            "       b'empty', b'empty', b'empty', b'empty', b'empty', b'empty',\n",
            "       b'empty', b'empty', b'empty', b'empty', b'empty', b'empty',\n",
            "       b'empty', b'empty', b'empty', b'empty', b'empty', b'empty',\n",
            "       b'empty', b'empty', b'empty', b'empty', b'empty', b'empty'],\n",
            "      dtype=object)}\n"
          ]
        }
      ],
      "source": [
        "for data in ratings.take(1).as_numpy_iterator():\n",
        "    print(data)"
      ]
    },
    {
      "cell_type": "code",
      "execution_count": 25,
      "metadata": {
        "id": "8MS4nMhHMDgp"
      },
      "outputs": [],
      "source": [
        "raw_recipes['ingredients_str'] = raw_recipes['ingredients_str'].apply(lambda x: ','.join(x))\n",
        "raw_recipes['tags_str'] = raw_recipes['tags_str'].apply(lambda x: ','.join(x))"
      ]
    },
    {
      "cell_type": "code",
      "execution_count": 26,
      "metadata": {
        "colab": {
          "base_uri": "https://localhost:8080/",
          "height": 293
        },
        "id": "rqtiorEQMH8R",
        "outputId": "0cb1b61d-3171-4534-ec3b-1a6d617531ed"
      },
      "outputs": [
        {
          "data": {
            "text/html": [
              "<div>\n",
              "<style scoped>\n",
              "    .dataframe tbody tr th:only-of-type {\n",
              "        vertical-align: middle;\n",
              "    }\n",
              "\n",
              "    .dataframe tbody tr th {\n",
              "        vertical-align: top;\n",
              "    }\n",
              "\n",
              "    .dataframe thead th {\n",
              "        text-align: right;\n",
              "    }\n",
              "</style>\n",
              "<table border=\"1\" class=\"dataframe\">\n",
              "  <thead>\n",
              "    <tr style=\"text-align: right;\">\n",
              "      <th></th>\n",
              "      <th>name</th>\n",
              "      <th>id</th>\n",
              "      <th>minutes</th>\n",
              "      <th>contributor_id</th>\n",
              "      <th>submitted</th>\n",
              "      <th>tags</th>\n",
              "      <th>nutrition</th>\n",
              "      <th>n_steps</th>\n",
              "      <th>steps</th>\n",
              "      <th>description</th>\n",
              "      <th>ingredients</th>\n",
              "      <th>n_ingredients</th>\n",
              "      <th>ingredients_str</th>\n",
              "      <th>tags_str</th>\n",
              "    </tr>\n",
              "  </thead>\n",
              "  <tbody>\n",
              "    <tr>\n",
              "      <th>0</th>\n",
              "      <td>arriba   baked winter squash mexican style</td>\n",
              "      <td>137739</td>\n",
              "      <td>55</td>\n",
              "      <td>47892</td>\n",
              "      <td>2005-09-16</td>\n",
              "      <td>['60-minutes-or-less', 'time-to-make', 'course...</td>\n",
              "      <td>[51.5, 0.0, 13.0, 0.0, 2.0, 0.0, 4.0]</td>\n",
              "      <td>11</td>\n",
              "      <td>['make a choice and proceed with recipe', 'dep...</td>\n",
              "      <td>autumn is my favorite time of year to cook! th...</td>\n",
              "      <td>['winter squash', 'mexican seasoning', 'mixed ...</td>\n",
              "      <td>7</td>\n",
              "      <td>winter squash,mexican seasoning,mixed spice,ho...</td>\n",
              "      <td>60-minutes-or-less,time-to-make,course,main-in...</td>\n",
              "    </tr>\n",
              "    <tr>\n",
              "      <th>1</th>\n",
              "      <td>a bit different  breakfast pizza</td>\n",
              "      <td>31490</td>\n",
              "      <td>30</td>\n",
              "      <td>26278</td>\n",
              "      <td>2002-06-17</td>\n",
              "      <td>['30-minutes-or-less', 'time-to-make', 'course...</td>\n",
              "      <td>[173.4, 18.0, 0.0, 17.0, 22.0, 35.0, 1.0]</td>\n",
              "      <td>9</td>\n",
              "      <td>['preheat oven to 425 degrees f', 'press dough...</td>\n",
              "      <td>this recipe calls for the crust to be prebaked...</td>\n",
              "      <td>['prepared pizza crust', 'sausage patty', 'egg...</td>\n",
              "      <td>6</td>\n",
              "      <td>prepared pizza crust,sausage patty,eggs,milk,s...</td>\n",
              "      <td>30-minutes-or-less,time-to-make,course,main-in...</td>\n",
              "    </tr>\n",
              "    <tr>\n",
              "      <th>2</th>\n",
              "      <td>all in the kitchen  chili</td>\n",
              "      <td>112140</td>\n",
              "      <td>130</td>\n",
              "      <td>196586</td>\n",
              "      <td>2005-02-25</td>\n",
              "      <td>['time-to-make', 'course', 'preparation', 'mai...</td>\n",
              "      <td>[269.8, 22.0, 32.0, 48.0, 39.0, 27.0, 5.0]</td>\n",
              "      <td>6</td>\n",
              "      <td>['brown ground beef in large pot', 'add choppe...</td>\n",
              "      <td>this modified version of 'mom's' chili was a h...</td>\n",
              "      <td>['ground beef', 'yellow onions', 'diced tomato...</td>\n",
              "      <td>13</td>\n",
              "      <td>ground beef,yellow onions,diced tomatoes,tomat...</td>\n",
              "      <td>time-to-make,course,preparation,main-dish,chil...</td>\n",
              "    </tr>\n",
              "    <tr>\n",
              "      <th>3</th>\n",
              "      <td>alouette  potatoes</td>\n",
              "      <td>59389</td>\n",
              "      <td>45</td>\n",
              "      <td>68585</td>\n",
              "      <td>2003-04-14</td>\n",
              "      <td>['60-minutes-or-less', 'time-to-make', 'course...</td>\n",
              "      <td>[368.1, 17.0, 10.0, 2.0, 14.0, 8.0, 20.0]</td>\n",
              "      <td>11</td>\n",
              "      <td>['place potatoes in a large pot of lightly sal...</td>\n",
              "      <td>this is a super easy, great tasting, make ahea...</td>\n",
              "      <td>['spreadable cheese with garlic and herbs', 'n...</td>\n",
              "      <td>11</td>\n",
              "      <td>spreadable cheese with garlic and herbs,new po...</td>\n",
              "      <td>60-minutes-or-less,time-to-make,course,main-in...</td>\n",
              "    </tr>\n",
              "    <tr>\n",
              "      <th>4</th>\n",
              "      <td>amish  tomato ketchup  for canning</td>\n",
              "      <td>44061</td>\n",
              "      <td>190</td>\n",
              "      <td>41706</td>\n",
              "      <td>2002-10-25</td>\n",
              "      <td>['weeknight', 'time-to-make', 'course', 'main-...</td>\n",
              "      <td>[352.9, 1.0, 337.0, 23.0, 3.0, 0.0, 28.0]</td>\n",
              "      <td>5</td>\n",
              "      <td>['mix all ingredients&amp; boil for 2 1 / 2 hours ...</td>\n",
              "      <td>my dh's amish mother raised him on this recipe...</td>\n",
              "      <td>['tomato juice', 'apple cider vinegar', 'sugar...</td>\n",
              "      <td>8</td>\n",
              "      <td>tomato juice,apple cider vinegar,sugar,salt,pe...</td>\n",
              "      <td>weeknight,time-to-make,course,main-ingredient,...</td>\n",
              "    </tr>\n",
              "  </tbody>\n",
              "</table>\n",
              "</div>"
            ],
            "text/plain": [
              "                                         name      id  minutes  \\\n",
              "0  arriba   baked winter squash mexican style  137739       55   \n",
              "1            a bit different  breakfast pizza   31490       30   \n",
              "2                   all in the kitchen  chili  112140      130   \n",
              "3                          alouette  potatoes   59389       45   \n",
              "4          amish  tomato ketchup  for canning   44061      190   \n",
              "\n",
              "   contributor_id   submitted  \\\n",
              "0           47892  2005-09-16   \n",
              "1           26278  2002-06-17   \n",
              "2          196586  2005-02-25   \n",
              "3           68585  2003-04-14   \n",
              "4           41706  2002-10-25   \n",
              "\n",
              "                                                tags  \\\n",
              "0  ['60-minutes-or-less', 'time-to-make', 'course...   \n",
              "1  ['30-minutes-or-less', 'time-to-make', 'course...   \n",
              "2  ['time-to-make', 'course', 'preparation', 'mai...   \n",
              "3  ['60-minutes-or-less', 'time-to-make', 'course...   \n",
              "4  ['weeknight', 'time-to-make', 'course', 'main-...   \n",
              "\n",
              "                                    nutrition  n_steps  \\\n",
              "0       [51.5, 0.0, 13.0, 0.0, 2.0, 0.0, 4.0]       11   \n",
              "1   [173.4, 18.0, 0.0, 17.0, 22.0, 35.0, 1.0]        9   \n",
              "2  [269.8, 22.0, 32.0, 48.0, 39.0, 27.0, 5.0]        6   \n",
              "3   [368.1, 17.0, 10.0, 2.0, 14.0, 8.0, 20.0]       11   \n",
              "4   [352.9, 1.0, 337.0, 23.0, 3.0, 0.0, 28.0]        5   \n",
              "\n",
              "                                               steps  \\\n",
              "0  ['make a choice and proceed with recipe', 'dep...   \n",
              "1  ['preheat oven to 425 degrees f', 'press dough...   \n",
              "2  ['brown ground beef in large pot', 'add choppe...   \n",
              "3  ['place potatoes in a large pot of lightly sal...   \n",
              "4  ['mix all ingredients& boil for 2 1 / 2 hours ...   \n",
              "\n",
              "                                         description  \\\n",
              "0  autumn is my favorite time of year to cook! th...   \n",
              "1  this recipe calls for the crust to be prebaked...   \n",
              "2  this modified version of 'mom's' chili was a h...   \n",
              "3  this is a super easy, great tasting, make ahea...   \n",
              "4  my dh's amish mother raised him on this recipe...   \n",
              "\n",
              "                                         ingredients  n_ingredients  \\\n",
              "0  ['winter squash', 'mexican seasoning', 'mixed ...              7   \n",
              "1  ['prepared pizza crust', 'sausage patty', 'egg...              6   \n",
              "2  ['ground beef', 'yellow onions', 'diced tomato...             13   \n",
              "3  ['spreadable cheese with garlic and herbs', 'n...             11   \n",
              "4  ['tomato juice', 'apple cider vinegar', 'sugar...              8   \n",
              "\n",
              "                                     ingredients_str  \\\n",
              "0  winter squash,mexican seasoning,mixed spice,ho...   \n",
              "1  prepared pizza crust,sausage patty,eggs,milk,s...   \n",
              "2  ground beef,yellow onions,diced tomatoes,tomat...   \n",
              "3  spreadable cheese with garlic and herbs,new po...   \n",
              "4  tomato juice,apple cider vinegar,sugar,salt,pe...   \n",
              "\n",
              "                                            tags_str  \n",
              "0  60-minutes-or-less,time-to-make,course,main-in...  \n",
              "1  30-minutes-or-less,time-to-make,course,main-in...  \n",
              "2  time-to-make,course,preparation,main-dish,chil...  \n",
              "3  60-minutes-or-less,time-to-make,course,main-in...  \n",
              "4  weeknight,time-to-make,course,main-ingredient,...  "
            ]
          },
          "execution_count": 26,
          "metadata": {},
          "output_type": "execute_result"
        }
      ],
      "source": [
        "raw_recipes.head()"
      ]
    },
    {
      "cell_type": "code",
      "execution_count": 27,
      "metadata": {
        "id": "i8HzpEQW_YZw"
      },
      "outputs": [],
      "source": [
        "raw_recipes['id'] = raw_recipes.id.astype(\"str\")\n",
        "raw_recipes['name'] = raw_recipes.name.astype(\"str\")\n",
        "raw_recipes['tags'] = raw_recipes.tags.astype(\"str\")\n",
        "raw_recipes['ingredients'] = raw_recipes.ingredients.astype(\"str\")"
      ]
    },
    {
      "cell_type": "code",
      "execution_count": 28,
      "metadata": {},
      "outputs": [
        {
          "data": {
            "text/plain": [
              "0    arriba   baked winter squash mexican style\n",
              "Name: name, dtype: object"
            ]
          },
          "execution_count": 28,
          "metadata": {},
          "output_type": "execute_result"
        }
      ],
      "source": [
        "raw_recipes['name'][:1]"
      ]
    },
    {
      "cell_type": "code",
      "execution_count": 70,
      "metadata": {
        "colab": {
          "base_uri": "https://localhost:8080/"
        },
        "id": "PvNaaXXCPzK2",
        "outputId": "d096fdf6-825f-4105-b630-1f8c0d177652"
      },
      "outputs": [
        {
          "name": "stdout",
          "output_type": "stream",
          "text": [
            "{'recipe_id': b'137739', 'recipe_name': b'arriba   baked winter squash mexican style', 'tags': array([b'60-minutes-or-less', b'time-to-make', b'course',\n",
            "       b'main-ingredient', b'cuisine', b'preparation', b'occasion',\n",
            "       b'north-american', b'side-dishes', b'vegetables', b'mexican',\n",
            "       b'easy', b'fall', b'holiday-event', b'vegetarian', b'winter',\n",
            "       b'dietary', b'christmas', b'seasonal', b'squash'], dtype=object), 'ingredients': array([b'winter squash', b'mexican seasoning', b'mixed spice', b'honey',\n",
            "       b'butter', b'olive oil', b'salt'], dtype=object)}\n"
          ]
        }
      ],
      "source": [
        "# prompt: Создай на основе raw_recipes датасет, но учти что ingredients_str это массив\n",
        "\n",
        "recipes = tf.data.Dataset.from_tensor_slices((tf.cast(raw_recipes['id'].values, tf.string),\n",
        "                                              tf.cast(raw_recipes['name'].values, tf.string),\n",
        "                                              tf.cast(raw_recipes['tags_str'].values.reshape(-1, 1), tf.string),\n",
        "                                              tf.cast(raw_recipes['ingredients_str'].values.reshape(-1, 1), tf.string),)).map(lambda x, x1, x2, x3: {\n",
        "                                                  \"recipe_id\": x,\n",
        "                                                  \"recipe_name\": x1,\n",
        "                                                  \"tags\": split_tags(x2),\n",
        "                                                  \"ingredients\": split_tags(x3)\n",
        "                                              }).map(lambda data: {\n",
        "        **data,\n",
        "        \"tags\": tf.squeeze(data[\"tags\"], axis=0),  # Удаляем дополнительные измерения\n",
        "        \"ingredients\": tf.squeeze(data[\"ingredients\"], axis=0)  # Удаляем дополнительные измерения\n",
        "    })\n",
        "\n",
        "for data in recipes.take(1).as_numpy_iterator():\n",
        "  print(data)\n"
      ]
    },
    {
      "cell_type": "code",
      "execution_count": 30,
      "metadata": {
        "id": "jxTLSUjNgCLs"
      },
      "outputs": [],
      "source": [
        "recipe_names = tf.data.Dataset.from_tensor_slices((tf.cast(raw_recipes['name'].values.reshape(-1, 1), tf.string))).map(lambda x: x)"
      ]
    },
    {
      "cell_type": "markdown",
      "metadata": {
        "id": "3L-UtJ6K5N2B"
      },
      "source": [
        "# Towers 🗼"
      ]
    },
    {
      "cell_type": "markdown",
      "metadata": {
        "id": "oWGCI8IYBx3Z"
      },
      "source": [
        "For our towers set dimensionality of the query and candidate representations: **32**. Higher values will correspond to models that may be more accurate, but will also be slower to fit and more prone to overfitting."
      ]
    },
    {
      "cell_type": "code",
      "execution_count": 31,
      "metadata": {
        "id": "8H35ROAtB2L2"
      },
      "outputs": [],
      "source": [
        "embedding_dimension = 32"
      ]
    },
    {
      "cell_type": "markdown",
      "metadata": {
        "id": "UGLl4NdNBHoH"
      },
      "source": [
        "## User tower 👷"
      ]
    },
    {
      "cell_type": "markdown",
      "metadata": {
        "id": "S_w7g9Se6Lk_"
      },
      "source": [
        "Lets start creating our towers with User towers. We will compute by:\n",
        "1. User id\n",
        "2. Prefers and hates"
      ]
    },
    {
      "cell_type": "markdown",
      "metadata": {
        "id": "O0pr_riLBCKa"
      },
      "source": [
        "### User ID model"
      ]
    },
    {
      "cell_type": "code",
      "execution_count": 32,
      "metadata": {
        "colab": {
          "base_uri": "https://localhost:8080/"
        },
        "id": "IVERCEAMPPbE",
        "outputId": "e2631cda-7833-44b7-b005-542bb5f24933"
      },
      "outputs": [
        {
          "data": {
            "text/plain": [
              "array(['38094', '1293707', '8937', '126440', '57222', '52282', '124416',\n",
              "       '2000192946', '76535', '273745'], dtype=object)"
            ]
          },
          "execution_count": 32,
          "metadata": {},
          "output_type": "execute_result"
        }
      ],
      "source": [
        "unique_user_ids = users_ds[\"user_id\"].unique()\n",
        "unique_user_ids[:10]"
      ]
    },
    {
      "cell_type": "code",
      "execution_count": 33,
      "metadata": {
        "id": "4DU-YbghCPJx"
      },
      "outputs": [
        {
          "name": "stdout",
          "output_type": "stream",
          "text": [
            "WARNING:tensorflow:From C:\\Users\\azdanevy\\AppData\\Roaming\\Python\\Python310\\site-packages\\keras\\src\\backend.py:873: The name tf.get_default_graph is deprecated. Please use tf.compat.v1.get_default_graph instead.\n",
            "\n"
          ]
        }
      ],
      "source": [
        "user_id_model = tf.keras.Sequential([\n",
        "  tf.keras.layers.StringLookup(\n",
        "      vocabulary=unique_user_ids, mask_token=None),\n",
        "  # We add an additional embedding to account for unknown tokens.\n",
        "  tf.keras.layers.Embedding(len(unique_user_ids)+1, embedding_dimension)\n",
        "])"
      ]
    },
    {
      "cell_type": "markdown",
      "metadata": {
        "id": "Q6e5kR2_MsOh"
      },
      "source": [
        "### User Prefers models"
      ]
    },
    {
      "cell_type": "code",
      "execution_count": 34,
      "metadata": {
        "id": "EOzP-NwLMvZI"
      },
      "outputs": [],
      "source": [
        "# prompt: модель для liked_tags которым стоит отдать предпочтение, но учти что liked_tags в датасете это массив\n",
        "\n",
        "unique_liked_tags = set()\n",
        "for tags in users_ds['liked_tags']:\n",
        "  if isinstance(tags, list):\n",
        "    for tag in tags:\n",
        "      unique_liked_tags.add(tag)\n",
        "unique_liked_tags = list(unique_liked_tags)\n",
        "\n",
        "liked_tags_model = tf.keras.Sequential([\n",
        "  tf.keras.layers.StringLookup(\n",
        "      vocabulary=unique_liked_tags, mask_token=None),\n",
        "  tf.keras.layers.Embedding(len(unique_liked_tags) + 1, embedding_dimension)\n",
        "])\n"
      ]
    },
    {
      "cell_type": "code",
      "execution_count": 35,
      "metadata": {
        "colab": {
          "base_uri": "https://localhost:8080/"
        },
        "id": "K_uNmQ2yREWq",
        "outputId": "6221b14d-1fcf-4517-ed41-f13c56f83186"
      },
      "outputs": [
        {
          "data": {
            "text/plain": [
              "['',\n",
              " 'reynolds-wrap',\n",
              " 'black-beans',\n",
              " 'blueberries',\n",
              " 'onions',\n",
              " 'californian',\n",
              " 'malaysian',\n",
              " 'greek',\n",
              " 'guatemalan',\n",
              " 'low-in-something']"
            ]
          },
          "execution_count": 35,
          "metadata": {},
          "output_type": "execute_result"
        }
      ],
      "source": [
        "unique_liked_tags[:10]"
      ]
    },
    {
      "cell_type": "code",
      "execution_count": 36,
      "metadata": {
        "colab": {
          "base_uri": "https://localhost:8080/"
        },
        "id": "W4vprrUvRb3Y",
        "outputId": "3aa5cd85-e456-4cef-9b17-c8e0d4221dce"
      },
      "outputs": [
        {
          "data": {
            "text/plain": [
              "['',\n",
              " 'reynolds-wrap',\n",
              " 'black-beans',\n",
              " 'blueberries',\n",
              " 'onions',\n",
              " 'californian',\n",
              " 'malaysian',\n",
              " 'greek',\n",
              " 'guatemalan',\n",
              " 'low-in-something']"
            ]
          },
          "execution_count": 36,
          "metadata": {},
          "output_type": "execute_result"
        }
      ],
      "source": [
        "\n",
        "unique_unliked_tags = set()\n",
        "for tags in users_ds['unliked_tags']:\n",
        "  if isinstance(tags, list):\n",
        "    for tag in tags:\n",
        "      unique_unliked_tags.add(tag)\n",
        "unique_unliked_tags = list(unique_unliked_tags)\n",
        "\n",
        "unliked_tags_model = tf.keras.Sequential([\n",
        "  tf.keras.layers.StringLookup(\n",
        "      vocabulary=unique_unliked_tags, mask_token=None),\n",
        "  tf.keras.layers.Embedding(len(unique_unliked_tags) + 1, embedding_dimension)\n",
        "])\n",
        "unique_unliked_tags[:10]"
      ]
    },
    {
      "cell_type": "markdown",
      "metadata": {
        "id": "5Zt9V_nAHMqp"
      },
      "source": [
        "## Recipe tower 🌭"
      ]
    },
    {
      "cell_type": "code",
      "execution_count": 37,
      "metadata": {
        "colab": {
          "base_uri": "https://localhost:8080/"
        },
        "id": "e3zzDVmWJmSA",
        "outputId": "2b48e837-bb5f-4670-b353-bb91770413dd"
      },
      "outputs": [
        {
          "data": {
            "text/plain": [
              "array(['0 carb   0 cal gummy worms', '0 fat chunky watermelon salsa',\n",
              "       '0 point ice cream  only 1 ingredient', '0 point soup   ww',\n",
              "       '0 point soup  crock pot', '007  martini', '007 cocktail',\n",
              "       '1  2  3  swiss meringue buttercream', '1 00 tangy chicken recipe',\n",
              "       '1 000 artichoke hearts'], dtype='<U85')"
            ]
          },
          "execution_count": 37,
          "metadata": {},
          "output_type": "execute_result"
        }
      ],
      "source": [
        "unique_recipe_names = np.unique(list(raw_recipes[\"name\"].unique()))\n",
        "recipe_name_model = tf.keras.Sequential([\n",
        "  tf.keras.layers.StringLookup(\n",
        "      vocabulary=unique_recipe_names, mask_token=None),\n",
        "  # We add an additional embedding to account for unknown tokens.\n",
        "  tf.keras.layers.Embedding(len(unique_recipe_names) + 1, embedding_dimension)\n",
        "])\n",
        "unique_recipe_names[:10]"
      ]
    },
    {
      "cell_type": "code",
      "execution_count": 38,
      "metadata": {
        "colab": {
          "base_uri": "https://localhost:8080/"
        },
        "id": "h8rZOklso4NX",
        "outputId": "64110b89-9f3f-4cce-e81e-95939b66d3f9"
      },
      "outputs": [
        {
          "name": "stdout",
          "output_type": "stream",
          "text": [
            "WARNING:tensorflow:From C:\\Users\\azdanevy\\AppData\\Roaming\\Python\\Python310\\site-packages\\keras\\src\\utils\\tf_utils.py:492: The name tf.ragged.RaggedTensorValue is deprecated. Please use tf.compat.v1.ragged.RaggedTensorValue instead.\n",
            "\n"
          ]
        },
        {
          "data": {
            "text/plain": [
              "<tf.Tensor: shape=(1, 32), dtype=float32, numpy=\n",
              "array([[-0.00252416,  0.02199793,  0.01472478,  0.04152365, -0.03028469,\n",
              "         0.00199659,  0.0355151 ,  0.0302232 ,  0.01058785, -0.00437124,\n",
              "         0.02872724,  0.0027905 ,  0.02284441, -0.00569702,  0.026653  ,\n",
              "         0.01385738, -0.00333003,  0.04988858,  0.04023471, -0.00235631,\n",
              "         0.01164798, -0.04291647,  0.00945168,  0.04190016,  0.04190277,\n",
              "        -0.01357026,  0.01443193,  0.00135456,  0.04863217, -0.01933439,\n",
              "        -0.03569666,  0.02382432]], dtype=float32)>"
            ]
          },
          "execution_count": 38,
          "metadata": {},
          "output_type": "execute_result"
        }
      ],
      "source": [
        "# prompt: напиши вызов recipe_name_model\n",
        "\n",
        "recipe_name_model(['some recipe name'])\n"
      ]
    },
    {
      "cell_type": "markdown",
      "metadata": {
        "id": "q2VwZxnOCg9F"
      },
      "source": [
        "### Recipe ingredient&tag model"
      ]
    },
    {
      "cell_type": "code",
      "execution_count": 39,
      "metadata": {
        "colab": {
          "base_uri": "https://localhost:8080/"
        },
        "id": "QqUQ43gVQIUp",
        "outputId": "49f54edf-1d29-4efc-e338-84c05a6f7e16"
      },
      "outputs": [
        {
          "data": {
            "text/plain": [
              "array(['', '1-day-or-more', '15-minutes-or-less', '3-steps-or-less',\n",
              "       '30-minutes-or-less', '4-hours-or-less', '5-ingredients-or-less',\n",
              "       '60-minutes-or-less',\n",
              "       'Throw the ultimate fiesta with this sopaipillas recipe from Food.com.',\n",
              "       'a1-sauce'], dtype='<U69')"
            ]
          },
          "execution_count": 39,
          "metadata": {},
          "output_type": "execute_result"
        }
      ],
      "source": [
        "unique_tags = set()\n",
        "for tags in raw_recipes['tags'].apply(convert_to_list):\n",
        "  if isinstance(tags, list):\n",
        "    for tag in tags:\n",
        "      unique_tags.add(tag)\n",
        "unique_tags = np.unique(list(unique_tags))\n",
        "\n",
        "recipe_tags_model = tf.keras.Sequential([\n",
        "  tf.keras.layers.StringLookup(\n",
        "      vocabulary=unique_tags, mask_token=None),\n",
        "  tf.keras.layers.Embedding(len(unique_tags) + 1, embedding_dimension)\n",
        "])\n",
        "unique_tags[:10]"
      ]
    },
    {
      "cell_type": "markdown",
      "metadata": {
        "id": "n1dQh7uGI2ow"
      },
      "source": [
        "## Combine models"
      ]
    },
    {
      "cell_type": "code",
      "execution_count": 40,
      "metadata": {},
      "outputs": [],
      "source": [
        "class RecipeModel(tf.keras.Model):\n",
        "    def __init__(self, unique_recipe_names, unique_tags, embedding_dimension):\n",
        "        super().__init__()\n",
        "\n",
        "        self.recipe_model = tf.keras.Sequential([\n",
        "            tf.keras.layers.StringLookup(\n",
        "                vocabulary=unique_recipe_names, mask_token=None),\n",
        "            tf.keras.layers.Embedding(len(unique_recipe_names) + 1, embedding_dimension)\n",
        "        ])\n",
        "    \n",
        "    # Tags embeddings\n",
        "        self.tags_model = tf.keras.Sequential([\n",
        "            tf.keras.layers.StringLookup(\n",
        "                vocabulary=unique_tags, mask_token=None),\n",
        "            tf.keras.layers.Embedding(len(unique_tags) + 1, embedding_dimension)\n",
        "        ])\n",
        "        \n",
        "    def call(self, features):\n",
        "        # Inputs should contain \"recipe_name\" and \"tags\"\n",
        "        recipe_name = features[\"recipe_name\"]\n",
        "        tags = features[\"tags\"]\n",
        "\n",
        "        # Embed recipe name\n",
        "        recipe_embeddings = self.recipe_model(recipe_name)\n",
        "\n",
        "        tags_embeddings = self.tags_model(tags)\n",
        "        if(len(recipe_embeddings.shape.as_list())>=3): \n",
        "        #   recipe_embeddings = tf.reshape(recipe_embeddings, [1,32])\n",
        "           recipe_embeddings = tf.reshape(recipe_embeddings, [1,embedding_dimension])\n",
        "        if(len(tags_embeddings.shape.as_list())>=3):\n",
        "            tags_embeddings = tf.reshape(tags_embeddings, [1,embedding_dimension])\n",
        "        #   tags_embeddings = tf.reshape(tags_embeddings, [1,32])\n",
        "        recipe_embeddings = tf.concat([recipe_embeddings, tags_embeddings], axis=1)\n",
        "        return recipe_embeddings"
      ]
    },
    {
      "cell_type": "code",
      "execution_count": 41,
      "metadata": {},
      "outputs": [],
      "source": [
        "class UserModel(tf.keras.Model):\n",
        "    def __init__(self, unique_user_ids, unique_liked_tags, unique_unliked_tags, embedding_dimension):\n",
        "        super().__init__()\n",
        "        self.embedding_dimension = embedding_dimension\n",
        "        # User ID embeddings\n",
        "        self.user_id_model = tf.keras.Sequential([\n",
        "            tf.keras.layers.StringLookup(\n",
        "                vocabulary=unique_user_ids, mask_token=None),\n",
        "            tf.keras.layers.Embedding(len(unique_user_ids) + 1, embedding_dimension)\n",
        "        ])\n",
        "        \n",
        "        # Liked tags embeddings\n",
        "        self.liked_tags_model = tf.keras.Sequential([\n",
        "            tf.keras.layers.StringLookup(\n",
        "                vocabulary=unique_liked_tags, mask_token=None),\n",
        "            tf.keras.layers.Embedding(len(unique_liked_tags) + 1, embedding_dimension)\n",
        "        ])\n",
        "\n",
        "        # Unliked tags embeddings\n",
        "        self.unliked_tags_model = tf.keras.Sequential([\n",
        "            tf.keras.layers.StringLookup(\n",
        "                vocabulary=unique_unliked_tags, mask_token=None),\n",
        "            tf.keras.layers.Embedding(len(unique_unliked_tags) + 1, embedding_dimension)\n",
        "        ])\n",
        "\n",
        "        # Penalty weight for unliked tags\n",
        "        self.penalty_weight = -0.5\n",
        "\n",
        "    def call(self, features):\n",
        "        user_id = features[\"user_id\"]\n",
        "        liked_tags = features[\"liked_tags\"]\n",
        "        unliked_tags = features[\"unliked_tags\"]\n",
        "        \n",
        "        user_id_embedding = self.user_id_model(user_id)\n",
        "        if user_id_embedding.shape.as_list() == [1, 1, 32]:\n",
        "            user_id_embedding = tf.reduce_mean(user_id_embedding, axis=1)\n",
        "      # Например, ограничимся 50 тегами\n",
        "        liked_tags = liked_tags[:self.embedding_dimension]\n",
        "        unliked_tags = unliked_tags[:self.embedding_dimension]\n",
        "    \n",
        "        # Embed liked and unliked tags\n",
        "        liked_tags_embedding = self.liked_tags_model(liked_tags)\n",
        "        unliked_tags_embedding = self.unliked_tags_model(unliked_tags)\n",
        "    \n",
        "        # Вычисление средневзвешенного значения (пример)\n",
        "        weights = tf.ones_like(liked_tags_embedding)  # Инициализация весов\n",
        "        weights_unl = tf.ones_like(unliked_tags_embedding)\n",
        "        \n",
        "        # Здесь можно рассчитать более сложные веса, например, на основе частоты встречаемости тегов\n",
        "        weighted_sum = tf.reduce_sum(liked_tags_embedding * weights, axis=1)\n",
        "        weights_unl_sum = tf.reduce_sum(unliked_tags_embedding * weights_unl, axis=1)\n",
        "        \n",
        "        sum_of_weights = tf.reduce_sum(weights, axis=1)\n",
        "        sum_of_weights_unl = tf.reduce_sum(weights_unl, axis=1)\n",
        "        \n",
        "        liked_tags_embedding = weighted_sum / sum_of_weights\n",
        "        unliked_tags_embedding = weights_unl_sum / sum_of_weights_unl\n",
        "    \n",
        "        # Reduce mean to handle ragged tensors (different lengths of liked/unliked tags)\n",
        "        liked_tags_embedding = tf.expand_dims(liked_tags_embedding, axis=0)\n",
        "        unliked_tags_embedding = tf.expand_dims(unliked_tags_embedding, axis=0)\n",
        "        user_id_embedding = tf.expand_dims(user_id_embedding, axis=0)\n",
        "        print(\"USer: \",user_id_embedding.shape,liked_tags_embedding.shape,unliked_tags_embedding.shape   )\n",
        "        # Concatenate user embeddings with liked and unliked tags\n",
        "        user_embedding = tf.concat([user_id_embedding, liked_tags_embedding, unliked_tags_embedding], axis=1)\n",
        "    \n",
        "        return user_embedding\n"
      ]
    },
    {
      "cell_type": "code",
      "execution_count": 84,
      "metadata": {},
      "outputs": [],
      "source": [
        "class UserModel(tf.keras.Model):\n",
        "    def __init__(self, unique_user_ids, unique_liked_tags, unique_unliked_tags, embedding_dimension):\n",
        "        super().__init__()\n",
        "        \n",
        "        # User ID embeddings\n",
        "        self.user_id_model = tf.keras.Sequential([\n",
        "            tf.keras.layers.StringLookup(\n",
        "                vocabulary=unique_user_ids, mask_token=None),\n",
        "            tf.keras.layers.Embedding(len(unique_user_ids) + 1, embedding_dimension)\n",
        "        ])\n",
        "        \n",
        "        # Liked tags embeddings\n",
        "        self.liked_tags_model = tf.keras.Sequential([\n",
        "            tf.keras.layers.StringLookup(\n",
        "                vocabulary=unique_liked_tags, mask_token=None),\n",
        "            tf.keras.layers.Embedding(len(unique_liked_tags) + 1, embedding_dimension)\n",
        "        ])\n",
        "\n",
        "        # Unliked tags embeddings\n",
        "        self.unliked_tags_model = tf.keras.Sequential([\n",
        "            tf.keras.layers.StringLookup(\n",
        "                vocabulary=unique_unliked_tags, mask_token=None),\n",
        "            tf.keras.layers.Embedding(len(unique_unliked_tags) + 1, embedding_dimension)\n",
        "        ])\n",
        "\n",
        "        # Penalty weight for unliked tags\n",
        "        self.penalty_weight = -0.5\n",
        "\n",
        "    def call(self, features):\n",
        "        user_id = features[\"user_id\"]\n",
        "        liked_tags = features[\"liked_tags\"]\n",
        "        unliked_tags = features[\"unliked_tags\"]\n",
        "\n",
        "        # Embed user ID\n",
        "        user_id_embedding = self.user_id_model(user_id)\n",
        "        #user_id_embedding = tf.reduce_mean(user_id_embedding, axis=1)\n",
        "\n",
        "        # Embed liked and unliked tags\n",
        "        liked_tags_embedding = self.liked_tags_model(liked_tags)\n",
        "        unliked_tags_embedding = self.unliked_tags_model(unliked_tags)\n",
        "\n",
        "        # Apply penalty to unliked tags\n",
        "        unliked_tags_embedding = unliked_tags_embedding * self.penalty_weight\n",
        "\n",
        "        # Aggregate embeddings\n",
        "        liked_tags_embedding = tf.reduce_mean(liked_tags_embedding, axis=1, keepdims=True)  # (1, 32)\n",
        "        unliked_tags_embedding = tf.reduce_mean(unliked_tags_embedding, axis=1, keepdims=True)  # (1, 32)\n",
        "\n",
        "        # Используйте weighted суммирование для учета штрафов\n",
        "        user_embedding = tf.add(user_id_embedding, liked_tags_embedding)\n",
        "        user_embedding = tf.add(user_embedding, unliked_tags_embedding)\n",
        "\n",
        "        return user_embedding\n",
        "\n"
      ]
    },
    {
      "cell_type": "code",
      "execution_count": 63,
      "metadata": {},
      "outputs": [
        {
          "data": {
            "text/plain": [
              "<tf.Tensor: shape=(30, 32), dtype=float32, numpy=\n",
              "array([[ 0.0310438 ,  0.02671361,  0.05227531, -0.01494899,  0.04777858,\n",
              "        -0.01396776,  0.03345274,  0.02340946,  0.03121143,  0.0217368 ,\n",
              "        -0.02240927,  0.01740052, -0.01397754,  0.04791376, -0.01654079,\n",
              "        -0.01551761,  0.05361444, -0.00912508, -0.00609265, -0.02916547,\n",
              "         0.04840864, -0.04076594, -0.01302592,  0.04126536, -0.02635096,\n",
              "         0.05341815,  0.05536278, -0.03190513,  0.01668656, -0.00743085,\n",
              "         0.00985609,  0.03131429],\n",
              "       [ 0.02262242,  0.01829223,  0.04385394, -0.02337036,  0.03935721,\n",
              "        -0.02238914,  0.02503137,  0.01498808,  0.02279005,  0.01331542,\n",
              "        -0.03083065,  0.00897914, -0.02239892,  0.03949238, -0.02496216,\n",
              "        -0.02393899,  0.04519306, -0.01754645, -0.01451403, -0.03758685,\n",
              "         0.03998727, -0.04918732, -0.0214473 ,  0.03284398, -0.03477234,\n",
              "         0.04499678,  0.0469414 , -0.04032651,  0.00826519, -0.01585222,\n",
              "         0.00143472,  0.02289291],\n",
              "       [ 0.03390099,  0.0295708 ,  0.0551325 , -0.0120918 ,  0.05063577,\n",
              "        -0.01111057,  0.03630993,  0.02626665,  0.03406862,  0.02459399,\n",
              "        -0.01955208,  0.02025771, -0.01112034,  0.05077095, -0.0136836 ,\n",
              "        -0.01266042,  0.05647163, -0.00626788, -0.00323546, -0.02630828,\n",
              "         0.05126583, -0.03790875, -0.01016873,  0.04412255, -0.02349377,\n",
              "         0.05627534,  0.05821997, -0.02904794,  0.01954375, -0.00457366,\n",
              "         0.01271329,  0.03417148],\n",
              "       [ 0.02354551,  0.01921532,  0.04477702, -0.02244728,  0.04028029,\n",
              "        -0.02146605,  0.02595445,  0.01591117,  0.02371314,  0.01423851,\n",
              "        -0.02990756,  0.00990223, -0.02147583,  0.04041547, -0.02403908,\n",
              "        -0.02301591,  0.04611615, -0.01662337, -0.01359094, -0.03666376,\n",
              "         0.04091035, -0.04826423, -0.02052421,  0.03376707, -0.03384925,\n",
              "         0.04591986,  0.04786449, -0.03940342,  0.00918827, -0.01492914,\n",
              "         0.0023578 ,  0.023816  ],\n",
              "       [ 0.03885571,  0.03452552,  0.06008722, -0.00713708,  0.05559049,\n",
              "        -0.00615585,  0.04126465,  0.03122136,  0.03902334,  0.02954871,\n",
              "        -0.01459736,  0.02521243, -0.00616563,  0.05572567, -0.00872888,\n",
              "        -0.00770571,  0.06142635, -0.00131317,  0.00171926, -0.02135356,\n",
              "         0.05622055, -0.03295403, -0.00521402,  0.04907727, -0.01853906,\n",
              "         0.06123006,  0.06317469, -0.02409322,  0.02449847,  0.00038106,\n",
              "         0.017668  ,  0.0391262 ],\n",
              "       [ 0.03586898,  0.0315388 ,  0.0571005 , -0.0101238 ,  0.05260377,\n",
              "        -0.00914257,  0.03827793,  0.02823464,  0.03603661,  0.02656199,\n",
              "        -0.01758408,  0.0222257 , -0.00915235,  0.05273895, -0.0117156 ,\n",
              "        -0.01069243,  0.05843962, -0.00429989, -0.00126747, -0.02434028,\n",
              "         0.05323383, -0.03594076, -0.00820074,  0.04609055, -0.02152578,\n",
              "         0.05824334,  0.06018796, -0.02707994,  0.02151175, -0.00260566,\n",
              "         0.01468128,  0.03613948],\n",
              "       [ 0.03098208,  0.0266519 ,  0.0522136 , -0.0150107 ,  0.04771687,\n",
              "        -0.01402948,  0.03339103,  0.02334774,  0.03114972,  0.02167509,\n",
              "        -0.02247098,  0.0173388 , -0.01403925,  0.04785205, -0.0166025 ,\n",
              "        -0.01557933,  0.05355272, -0.00918679, -0.00615437, -0.02922718,\n",
              "         0.04834693, -0.04082765, -0.01308764,  0.04120365, -0.02641268,\n",
              "         0.05335644,  0.05530106, -0.03196684,  0.01662485, -0.00749256,\n",
              "         0.00979438,  0.03125258],\n",
              "       [ 0.03732512,  0.03299493,  0.05855664, -0.00866766,  0.05405991,\n",
              "        -0.00768644,  0.03973407,  0.02969078,  0.03749275,  0.02801812,\n",
              "        -0.01612794,  0.02368184, -0.00769621,  0.05419508, -0.01025946,\n",
              "        -0.00923629,  0.05989576, -0.00284375,  0.00018867, -0.02288415,\n",
              "         0.05468997, -0.03448462, -0.0067446 ,  0.04754668, -0.02006964,\n",
              "         0.05969948,  0.0616441 , -0.0256238 ,  0.02296789, -0.00114952,\n",
              "         0.01613742,  0.03759561],\n",
              "       [ 0.0319453 ,  0.02761511,  0.05317681, -0.01404749,  0.04868008,\n",
              "        -0.01306626,  0.03435424,  0.02431095,  0.03211293,  0.0226383 ,\n",
              "        -0.02150777,  0.01830202, -0.01307604,  0.04881526, -0.01563929,\n",
              "        -0.01461612,  0.05451594, -0.00822358, -0.00519115, -0.02826397,\n",
              "         0.04931014, -0.03986444, -0.01212443,  0.04216686, -0.02544947,\n",
              "         0.05431965,  0.05626427, -0.03100363,  0.01758806, -0.00652935,\n",
              "         0.01075759,  0.03221579],\n",
              "       [ 0.01721592,  0.01288573,  0.03844744, -0.02877686,  0.03395071,\n",
              "        -0.02779564,  0.01962487,  0.00958158,  0.01738355,  0.00790893,\n",
              "        -0.03623715,  0.00357264, -0.02780541,  0.03408588, -0.03036866,\n",
              "        -0.02934549,  0.03978656, -0.02295295, -0.01992053, -0.04299334,\n",
              "         0.03458077, -0.05459382, -0.0268538 ,  0.02743749, -0.04017884,\n",
              "         0.03959028,  0.0415349 , -0.045733  ,  0.00285869, -0.02125872,\n",
              "        -0.00397178,  0.01748642],\n",
              "       [ 0.03252648,  0.02819629,  0.053758  , -0.0134663 ,  0.04926126,\n",
              "        -0.01248508,  0.03493543,  0.02489214,  0.03269411,  0.02321948,\n",
              "        -0.02092659,  0.0188832 , -0.01249485,  0.04939644, -0.0150581 ,\n",
              "        -0.01403493,  0.05509712, -0.00764239, -0.00460997, -0.02768279,\n",
              "         0.04989132, -0.03928326, -0.01154324,  0.04274804, -0.02486828,\n",
              "         0.05490083,  0.05684546, -0.03042245,  0.01816925, -0.00594816,\n",
              "         0.01133878,  0.03279698],\n",
              "       [ 0.02993383,  0.02560364,  0.05116534, -0.01605896,  0.04666861,\n",
              "        -0.01507774,  0.03234277,  0.02229948,  0.03010146,  0.02062683,\n",
              "        -0.02351924,  0.01629055, -0.01508751,  0.04680379, -0.01765076,\n",
              "        -0.01662759,  0.05250446, -0.01023505, -0.00720263, -0.03027544,\n",
              "         0.04729867, -0.04187591, -0.0141359 ,  0.04015539, -0.02746094,\n",
              "         0.05230818,  0.0542528 , -0.0330151 ,  0.01557659, -0.00854082,\n",
              "         0.00874612,  0.03020432],\n",
              "       [ 0.02260443,  0.01827424,  0.04383595, -0.02338836,  0.03933921,\n",
              "        -0.02240713,  0.02501337,  0.01497009,  0.02277206,  0.01329743,\n",
              "        -0.03084864,  0.00896115, -0.02241691,  0.03947439, -0.02498016,\n",
              "        -0.02395698,  0.04517507, -0.01756445, -0.01453202, -0.03760484,\n",
              "         0.03996927, -0.04920531, -0.02146529,  0.03282599, -0.03479034,\n",
              "         0.04497878,  0.04692341, -0.0403445 ,  0.00824719, -0.01587022,\n",
              "         0.00141672,  0.02287492],\n",
              "       [ 0.03145872,  0.02712854,  0.05269024, -0.01453406,  0.04819351,\n",
              "        -0.01355283,  0.03386767,  0.02382438,  0.03162635,  0.02215173,\n",
              "        -0.02199434,  0.01781544, -0.01356261,  0.04832869, -0.01612586,\n",
              "        -0.01510269,  0.05402936, -0.00871015, -0.00567773, -0.02875054,\n",
              "         0.04882357, -0.04035101, -0.012611  ,  0.04168029, -0.02593604,\n",
              "         0.05383308,  0.0557777 , -0.0314902 ,  0.01710149, -0.00701592,\n",
              "         0.01027102,  0.03172922],\n",
              "       [ 0.02963846,  0.02530827,  0.05086998, -0.01635432,  0.04637325,\n",
              "        -0.0153731 ,  0.03204741,  0.02200412,  0.02980609,  0.02033146,\n",
              "        -0.0238146 ,  0.01599518, -0.01538287,  0.04650842, -0.01794612,\n",
              "        -0.01692295,  0.0522091 , -0.01053041, -0.00749799, -0.03057081,\n",
              "         0.04700331, -0.04217128, -0.01443126,  0.03986003, -0.0277563 ,\n",
              "         0.05201282,  0.05395744, -0.03331046,  0.01528123, -0.00883618,\n",
              "         0.00845076,  0.02990896],\n",
              "       [ 0.03682362,  0.03249343,  0.05805513, -0.00916917,  0.0535584 ,\n",
              "        -0.00818794,  0.03923256,  0.02918927,  0.03699125,  0.02751662,\n",
              "        -0.01662945,  0.02318034, -0.00819772,  0.05369358, -0.01076097,\n",
              "        -0.0097378 ,  0.05939426, -0.00334526, -0.00031283, -0.02338565,\n",
              "         0.05418846, -0.03498612, -0.00724611,  0.04704518, -0.02057115,\n",
              "         0.05919797,  0.06114259, -0.02612531,  0.02246638, -0.00165103,\n",
              "         0.01563591,  0.03709411],\n",
              "       [ 0.02572259,  0.02139241,  0.04695411, -0.02027019,  0.04245738,\n",
              "        -0.01928896,  0.02813154,  0.01808825,  0.02589022,  0.0164156 ,\n",
              "        -0.02773047,  0.01207931, -0.01929874,  0.04259256, -0.02186199,\n",
              "        -0.02083882,  0.04829323, -0.01444628, -0.01141386, -0.03448667,\n",
              "         0.04308744, -0.04608715, -0.01834713,  0.03594416, -0.03167217,\n",
              "         0.04809695,  0.05004157, -0.03722633,  0.01136536, -0.01275205,\n",
              "         0.00453489,  0.02599309],\n",
              "       [ 0.03250552,  0.02817533,  0.05373703, -0.01348727,  0.0492403 ,\n",
              "        -0.01250604,  0.03491446,  0.02487117,  0.03267315,  0.02319852,\n",
              "        -0.02094755,  0.01886224, -0.01251582,  0.04937548, -0.01507907,\n",
              "        -0.0140559 ,  0.05507616, -0.00766336, -0.00463093, -0.02770375,\n",
              "         0.04987036, -0.03930422, -0.01156421,  0.04272708, -0.02488925,\n",
              "         0.05487987,  0.05682449, -0.03044341,  0.01814828, -0.00596913,\n",
              "         0.01131781,  0.03277601],\n",
              "       [ 0.03676163,  0.03243144,  0.05799315, -0.00923115,  0.05349642,\n",
              "        -0.00824993,  0.03917057,  0.02912729,  0.03692926,  0.02745463,\n",
              "        -0.01669144,  0.02311835, -0.0082597 ,  0.05363159, -0.01082296,\n",
              "        -0.00979978,  0.05933227, -0.00340724, -0.00037482, -0.02344764,\n",
              "         0.05412648, -0.03504811, -0.00730809,  0.04698319, -0.02063313,\n",
              "         0.05913598,  0.06108061, -0.02618729,  0.0224044 , -0.00171302,\n",
              "         0.01557393,  0.03703212],\n",
              "       [ 0.02223506,  0.01790487,  0.04346658, -0.02375772,  0.03896984,\n",
              "        -0.0227765 ,  0.02464401,  0.01460072,  0.02240269,  0.01292806,\n",
              "        -0.03121801,  0.00859178, -0.02278627,  0.03910502, -0.02534952,\n",
              "        -0.02432635,  0.0448057 , -0.01793381, -0.01490139, -0.03797421,\n",
              "         0.0395999 , -0.04957468, -0.02183466,  0.03245663, -0.0351597 ,\n",
              "         0.04460941,  0.04655404, -0.04071386,  0.00787783, -0.01623958,\n",
              "         0.00104736,  0.02250556],\n",
              "       [ 0.02400143,  0.01967124,  0.04523295, -0.02199135,  0.04073622,\n",
              "        -0.02101013,  0.02641037,  0.01636709,  0.02416906,  0.01469443,\n",
              "        -0.02945164,  0.01035815, -0.0210199 ,  0.04087139, -0.02358316,\n",
              "        -0.02255998,  0.04657207, -0.01616744, -0.01313502, -0.03620784,\n",
              "         0.04136628, -0.04780831, -0.02006829,  0.03422299, -0.03339333,\n",
              "         0.04637579,  0.04832041, -0.03894749,  0.0096442 , -0.01447321,\n",
              "         0.00281373,  0.02427192],\n",
              "       [ 0.03250883,  0.02817864,  0.05374035, -0.01348395,  0.04924362,\n",
              "        -0.01250273,  0.03491778,  0.02487449,  0.03267646,  0.02320183,\n",
              "        -0.02094423,  0.01886555, -0.0125125 ,  0.04937879, -0.01507575,\n",
              "        -0.01405258,  0.05507947, -0.00766004, -0.00462762, -0.02770044,\n",
              "         0.04987368, -0.03930091, -0.01156089,  0.04273039, -0.02488593,\n",
              "         0.05488319,  0.05682781, -0.03044009,  0.0181516 , -0.00596581,\n",
              "         0.01132113,  0.03277932],\n",
              "       [ 0.0288949 ,  0.02456471,  0.05012642, -0.01709788,  0.04562969,\n",
              "        -0.01611666,  0.03130385,  0.02126056,  0.02906253,  0.0195879 ,\n",
              "        -0.02455817,  0.01525162, -0.01612644,  0.04576486, -0.01868968,\n",
              "        -0.01766651,  0.05146554, -0.01127397, -0.00824155, -0.03131437,\n",
              "         0.04625975, -0.04291484, -0.01517482,  0.03911646, -0.02849986,\n",
              "         0.05126926,  0.05321388, -0.03405402,  0.01453767, -0.00957975,\n",
              "         0.0077072 ,  0.02916539],\n",
              "       [ 0.02606998,  0.02173979,  0.0473015 , -0.0199228 ,  0.04280477,\n",
              "        -0.01894158,  0.02847892,  0.01843564,  0.02623761,  0.01676298,\n",
              "        -0.02738309,  0.0124267 , -0.01895136,  0.04293994, -0.02151461,\n",
              "        -0.02049143,  0.04864062, -0.01409889, -0.01106647, -0.03413929,\n",
              "         0.04343482, -0.04573976, -0.01799974,  0.03629154, -0.03132478,\n",
              "         0.04844433,  0.05038896, -0.03687894,  0.01171274, -0.01240466,\n",
              "         0.00488228,  0.02634047],\n",
              "       [ 0.02951375,  0.02518356,  0.05074526, -0.01647904,  0.04624853,\n",
              "        -0.01549781,  0.03192269,  0.0218794 ,  0.02968138,  0.02020675,\n",
              "        -0.02393932,  0.01587047, -0.01550759,  0.0463837 , -0.01807084,\n",
              "        -0.01704767,  0.05208438, -0.01065513, -0.0076227 , -0.03069552,\n",
              "         0.04687859, -0.042296  , -0.01455598,  0.03973531, -0.02788102,\n",
              "         0.0518881 ,  0.05383272, -0.03343518,  0.01515651, -0.0089609 ,\n",
              "         0.00832604,  0.02978424],\n",
              "       [ 0.03123356,  0.02690338,  0.05246508, -0.01475922,  0.04796835,\n",
              "        -0.013778  ,  0.03364251,  0.02359922,  0.03140119,  0.02192657,\n",
              "        -0.02221951,  0.01759028, -0.01378777,  0.04810352, -0.01635102,\n",
              "        -0.01532785,  0.0538042 , -0.00893531, -0.00590289, -0.02897571,\n",
              "         0.0485984 , -0.04057618, -0.01283616,  0.04145512, -0.0261612 ,\n",
              "         0.05360791,  0.05555254, -0.03171536,  0.01687633, -0.00724108,\n",
              "         0.01004586,  0.03150406],\n",
              "       [ 0.0254645 ,  0.02113431,  0.04669602, -0.02052828,  0.04219929,\n",
              "        -0.01954706,  0.02787345,  0.01783016,  0.02563213,  0.0161575 ,\n",
              "        -0.02798857,  0.01182122, -0.01955683,  0.04233446, -0.02212008,\n",
              "        -0.02109691,  0.04803514, -0.01470437, -0.01167195, -0.03474477,\n",
              "         0.04282935, -0.04634524, -0.01860522,  0.03568606, -0.03193026,\n",
              "         0.04783886,  0.04978348, -0.03748442,  0.01110727, -0.01301014,\n",
              "         0.0042768 ,  0.02573499],\n",
              "       [ 0.02816983,  0.02383965,  0.04940135, -0.01782295,  0.04490462,\n",
              "        -0.01684172,  0.03057878,  0.02053549,  0.02833746,  0.01886284,\n",
              "        -0.02528323,  0.01452655, -0.0168515 ,  0.0450398 , -0.01941475,\n",
              "        -0.01839158,  0.05074047, -0.01199904, -0.00896662, -0.03203943,\n",
              "         0.04553468, -0.04363991, -0.01589989,  0.0383914 , -0.02922493,\n",
              "         0.05054419,  0.05248881, -0.03477909,  0.0138126 , -0.01030481,\n",
              "         0.00698213,  0.02844033],\n",
              "       [ 0.02424056,  0.01991038,  0.04547208, -0.02175222,  0.04097535,\n",
              "        -0.020771  ,  0.02664951,  0.01660622,  0.0244082 ,  0.01493357,\n",
              "        -0.0292125 ,  0.01059728, -0.02078077,  0.04111053, -0.02334402,\n",
              "        -0.02232085,  0.0468112 , -0.01592831, -0.01289588, -0.0359687 ,\n",
              "         0.04160541, -0.04756917, -0.01982916,  0.03446213, -0.0331542 ,\n",
              "         0.04661492,  0.04855954, -0.03870836,  0.00988333, -0.01423408,\n",
              "         0.00305286,  0.02451106],\n",
              "       [ 0.02596833,  0.02163814,  0.04719985, -0.02002446,  0.04270311,\n",
              "        -0.01904323,  0.02837727,  0.01833399,  0.02613596,  0.01666133,\n",
              "        -0.02748474,  0.01232505, -0.019053  ,  0.04283829, -0.02161626,\n",
              "        -0.02059308,  0.04853897, -0.01420054, -0.01116812, -0.03424094,\n",
              "         0.04333317, -0.04584141, -0.01810139,  0.03618989, -0.03142643,\n",
              "         0.04834268,  0.05028731, -0.0369806 ,  0.01161109, -0.01250632,\n",
              "         0.00478063,  0.02623882]], dtype=float32)>"
            ]
          },
          "execution_count": 63,
          "metadata": {},
          "output_type": "execute_result"
        }
      ],
      "source": [
        "# Извлечение данных пользователя\n",
        "test_user = {}\n",
        "for data in ratings.take(1).as_numpy_iterator():\n",
        "    test_user = data\n",
        "    \n",
        "user_model = UserModel(unique_user_ids, unique_liked_tags, unique_unliked_tags, embedding_dimension)\n",
        "\n",
        "\n",
        "user_model(test_user)"
      ]
    },
    {
      "cell_type": "code",
      "execution_count": 107,
      "metadata": {},
      "outputs": [],
      "source": [
        "class RecipeAndUserModel(tfrs.Model):\n",
        "\n",
        "    def _reduce_mean_if_needed(self, embedding):\n",
        "        \"\"\"Сокращает размерность эмбеддинга до среднего, если он многомерный.\"\"\"\n",
        "        if len(embedding.shape) >= 3:\n",
        "            return tf.reduce_mean(embedding, axis=1)\n",
        "        return embedding\n",
        "\n",
        "    def __init__(self, unique_recipe_names, unique_tags, embedding_dimension):\n",
        "        super().__init__()\n",
        "        self.embedding_dimension = embedding_dimension\n",
        "        # Модель пользователя\n",
        "        self.user_model = UserModel(unique_user_ids, unique_liked_tags, unique_unliked_tags, 64)\n",
        "\n",
        "        # Recipe embeddings\n",
        "        self.recipe_model = tf.keras.Sequential([\n",
        "            tf.keras.layers.StringLookup(\n",
        "                vocabulary=unique_recipe_names, mask_token=None),\n",
        "            tf.keras.layers.Embedding(len(unique_recipe_names) + 1, embedding_dimension)\n",
        "        ])\n",
        "\n",
        "        # Tags embeddings\n",
        "        self.tags_model = tf.keras.Sequential([\n",
        "            tf.keras.layers.StringLookup(\n",
        "                vocabulary=unique_tags, mask_token=None),\n",
        "            tf.keras.layers.Embedding(len(unique_tags) + 1, embedding_dimension)\n",
        "        ])\n",
        "\n",
        "        self.dense = tf.keras.layers.Dense(embedding_dimension)  # Сжимаем до размерности 32\n",
        "\n",
        "        # Подготовка кандидатов, учитывающих и теги\n",
        "        self.candidates = recipes.batch(128).map(self._get_candidate_embeddings)\n",
        "\n",
        "        self.task = tfrs.tasks.Retrieval(\n",
        "            metrics=tfrs.metrics.FactorizedTopK(\n",
        "                candidates=self.candidates\n",
        "            )\n",
        "        )\n",
        "        \n",
        "    def _get_candidate_embeddings(self, recipe_name):\n",
        "        # Получаем эмбеддинги для имен и тегов\n",
        "        recipe_embedding = self.recipe_model(recipe_name['recipe_name'])\n",
        "        print(recipe_name['tags'])\n",
        "        tags_embedding = self.tags_model(recipe_name['tags'])  # Здесь предполагается, что recipe_name может содержать теги\n",
        "        recipe_embedding = self._reduce_mean_if_needed(recipe_embedding)\n",
        "        tags_embedding = self._reduce_mean_if_needed(tags_embedding)\n",
        "        # Объединяем эмбеддинги имен и тегов\n",
        "        combined_embedding = tf.concat([recipe_embedding, tags_embedding], axis=1)\n",
        "        return combined_embedding\n",
        "\n",
        "    def call(self, features: Dict[Text, tf.Tensor]) -> tf.Tensor:\n",
        "        # User embedding\n",
        "        user_embedding = self.user_model(features)\n",
        "\n",
        "        # Recipe name embeddings\n",
        "        recipe_name_embeddings = self.recipe_model(features[\"recipe_name\"])\n",
        "        recipe_name_embeddings = self._reduce_mean_if_needed(recipe_name_embeddings)\n",
        "        # Tags embeddings\n",
        "        tags = features[\"tags\"]\n",
        "        tags_embeddings = self.tags_model(tags)\n",
        "\n",
        "        # # Вычисление средневзвешенного значения для тегов (можно модифицировать веса)\n",
        "        # tags_embeddings_weighted_sum = tf.reduce_sum(tags_embeddings, axis=1)\n",
        "        # sum_of_weights = tf.reduce_sum(tf.ones_like(tags_embeddings), axis=1)\n",
        "        # tags_embeddings = tags_embeddings_weighted_sum / sum_of_weights\n",
        "        \n",
        "        # recipe_name_embeddings = self._reduce_mean_if_needed(recipe_name_embeddings)\n",
        "        # tags_embeddings = tf.expand_dims(tags_embeddings, axis=0)\n",
        "        # Конкатенация эмбеддингов рецепта и тегов\n",
        "        recipe_embeddings = tf.concat([recipe_name_embeddings, tags_embeddings], axis=1)\n",
        "\n",
        "        return user_embedding, recipe_embeddings\n",
        "\n",
        "    def compute_loss(self, features: Dict[Text, tf.Tensor], training=False) -> tf.Tensor:\n",
        "        user_embeddings, recipe_embeddings = self(features)\n",
        "        print(\"Computed: \", user_embeddings.shape, recipe_embeddings.shape)\n",
        "        # Используем задачу факторизованного топ-K для оптимизации\n",
        "        user_embeddings = self._reduce_mean_if_needed(user_embeddings)\n",
        "        recipe_embeddings = self._reduce_mean_if_needed(recipe_embeddings)\n",
        "        \n",
        "        # user_embeddings = tf.keras.layers.Dense(64)(user_embeddings)\n",
        "        # recipe_embeddings = tf.keras.layers.Dense(64)(recipe_embeddings)\n",
        "        print(\"Computed: \", user_embeddings.shape, recipe_embeddings.shape)\n",
        "        return self.task(user_embeddings, recipe_embeddings)\n"
      ]
    },
    {
      "cell_type": "code",
      "execution_count": 147,
      "metadata": {
        "id": "4ln6bTE6XuUT"
      },
      "outputs": [],
      "source": [
        "# Randomly shuffle data and split between train and test.\n",
        "tf.random.set_seed(42)\n",
        "shuffled = ratings.shuffle(100_000, seed=42, reshuffle_each_iteration=False)\n",
        "\n",
        "train = shuffled.take(2_000).batch(128)\n",
        "test = shuffled.skip(80_000).take(20_000)\n",
        "\n",
        "cached_train =  shuffled.take(1000).batch(64).cache()\n",
        "cached_test = test.batch(4096).cache()"
      ]
    },
    {
      "cell_type": "code",
      "execution_count": 148,
      "metadata": {
        "id": "-7Gi0OYpUbOM"
      },
      "outputs": [
        {
          "name": "stdout",
          "output_type": "stream",
          "text": [
            "Tensor(\"args_3:0\", shape=(None, None), dtype=string)\n",
            "Tensor(\"args_3:0\", shape=(None, None), dtype=string)\n",
            "Computed:  (None, None, 64) (None, 64)\n",
            "Computed:  (None, 64) (None, 64)\n",
            "Computed:  (None, None, 64) (None, 64)\n",
            "Computed:  (None, 64) (None, 64)\n"
          ]
        },
        {
          "ename": "InvalidArgumentError",
          "evalue": "Graph execution error:\n\nDetected at node retrieval_43/streaming_43/ReduceDataset defined at (most recent call last):\n  File \"c:\\Users\\azdanevy\\Music\\Python310\\lib\\runpy.py\", line 196, in _run_module_as_main\n\n  File \"c:\\Users\\azdanevy\\Music\\Python310\\lib\\runpy.py\", line 86, in _run_code\n\n  File \"c:\\Users\\azdanevy\\Music\\Python310\\lib\\site-packages\\ipykernel_launcher.py\", line 17, in <module>\n\n  File \"c:\\Users\\azdanevy\\Music\\Python310\\lib\\site-packages\\traitlets\\config\\application.py\", line 1046, in launch_instance\n\n  File \"c:\\Users\\azdanevy\\Music\\Python310\\lib\\site-packages\\ipykernel\\kernelapp.py\", line 736, in start\n\n  File \"c:\\Users\\azdanevy\\Music\\Python310\\lib\\site-packages\\tornado\\platform\\asyncio.py\", line 195, in start\n\n  File \"c:\\Users\\azdanevy\\Music\\Python310\\lib\\asyncio\\base_events.py\", line 603, in run_forever\n\n  File \"c:\\Users\\azdanevy\\Music\\Python310\\lib\\asyncio\\base_events.py\", line 1909, in _run_once\n\n  File \"c:\\Users\\azdanevy\\Music\\Python310\\lib\\asyncio\\events.py\", line 80, in _run\n\n  File \"c:\\Users\\azdanevy\\Music\\Python310\\lib\\site-packages\\ipykernel\\kernelbase.py\", line 516, in dispatch_queue\n\n  File \"c:\\Users\\azdanevy\\Music\\Python310\\lib\\site-packages\\ipykernel\\kernelbase.py\", line 505, in process_one\n\n  File \"c:\\Users\\azdanevy\\Music\\Python310\\lib\\site-packages\\ipykernel\\kernelbase.py\", line 412, in dispatch_shell\n\n  File \"c:\\Users\\azdanevy\\Music\\Python310\\lib\\site-packages\\ipykernel\\kernelbase.py\", line 740, in execute_request\n\n  File \"c:\\Users\\azdanevy\\Music\\Python310\\lib\\site-packages\\ipykernel\\ipkernel.py\", line 422, in do_execute\n\n  File \"c:\\Users\\azdanevy\\Music\\Python310\\lib\\site-packages\\ipykernel\\zmqshell.py\", line 546, in run_cell\n\n  File \"c:\\Users\\azdanevy\\Music\\Python310\\lib\\site-packages\\IPython\\core\\interactiveshell.py\", line 3024, in run_cell\n\n  File \"c:\\Users\\azdanevy\\Music\\Python310\\lib\\site-packages\\IPython\\core\\interactiveshell.py\", line 3079, in _run_cell\n\n  File \"c:\\Users\\azdanevy\\Music\\Python310\\lib\\site-packages\\IPython\\core\\async_helpers.py\", line 129, in _pseudo_sync_runner\n\n  File \"c:\\Users\\azdanevy\\Music\\Python310\\lib\\site-packages\\IPython\\core\\interactiveshell.py\", line 3284, in run_cell_async\n\n  File \"c:\\Users\\azdanevy\\Music\\Python310\\lib\\site-packages\\IPython\\core\\interactiveshell.py\", line 3466, in run_ast_nodes\n\n  File \"c:\\Users\\azdanevy\\Music\\Python310\\lib\\site-packages\\IPython\\core\\interactiveshell.py\", line 3526, in run_code\n\n  File \"C:\\Users\\azdanevy\\AppData\\Local\\Temp\\ipykernel_28960\\1865470471.py\", line 3, in <module>\n\n  File \"C:\\Users\\azdanevy\\AppData\\Roaming\\Python\\Python310\\site-packages\\keras\\src\\utils\\traceback_utils.py\", line 65, in error_handler\n\n  File \"C:\\Users\\azdanevy\\AppData\\Roaming\\Python\\Python310\\site-packages\\keras\\src\\engine\\training.py\", line 1807, in fit\n\n  File \"C:\\Users\\azdanevy\\AppData\\Roaming\\Python\\Python310\\site-packages\\keras\\src\\engine\\training.py\", line 1401, in train_function\n\n  File \"C:\\Users\\azdanevy\\AppData\\Roaming\\Python\\Python310\\site-packages\\keras\\src\\engine\\training.py\", line 1384, in step_function\n\n  File \"C:\\Users\\azdanevy\\AppData\\Roaming\\Python\\Python310\\site-packages\\keras\\src\\engine\\training.py\", line 1373, in run_step\n\n  File \"C:\\Users\\azdanevy\\AppData\\Roaming\\Python\\Python310\\site-packages\\tensorflow_recommenders\\models\\base.py\", line 68, in train_step\n\n  File \"C:\\Users\\azdanevy\\AppData\\Local\\Temp\\ipykernel_28960\\3761067269.py\", line 84, in compute_loss\n\n  File \"C:\\Users\\azdanevy\\AppData\\Roaming\\Python\\Python310\\site-packages\\keras\\src\\utils\\traceback_utils.py\", line 65, in error_handler\n\n  File \"C:\\Users\\azdanevy\\AppData\\Roaming\\Python\\Python310\\site-packages\\keras\\src\\engine\\base_layer.py\", line 1149, in __call__\n\n  File \"C:\\Users\\azdanevy\\AppData\\Roaming\\Python\\Python310\\site-packages\\keras\\src\\utils\\traceback_utils.py\", line 96, in error_handler\n\n  File \"C:\\Users\\azdanevy\\AppData\\Roaming\\Python\\Python310\\site-packages\\tensorflow_recommenders\\tasks\\retrieval.py\", line 195, in call\n\n  File \"C:\\Users\\azdanevy\\AppData\\Roaming\\Python\\Python310\\site-packages\\tensorflow_recommenders\\tasks\\retrieval.py\", line 196, in call\n\n  File \"C:\\Users\\azdanevy\\AppData\\Roaming\\Python\\Python310\\site-packages\\tensorflow_recommenders\\tasks\\retrieval.py\", line 197, in call\n\n  File \"C:\\Users\\azdanevy\\AppData\\Roaming\\Python\\Python310\\site-packages\\tensorflow_recommenders\\metrics\\factorized_top_k.py\", line 136, in update_state\n\n  File \"C:\\Users\\azdanevy\\AppData\\Roaming\\Python\\Python310\\site-packages\\keras\\src\\utils\\traceback_utils.py\", line 65, in error_handler\n\n  File \"C:\\Users\\azdanevy\\AppData\\Roaming\\Python\\Python310\\site-packages\\keras\\src\\engine\\training.py\", line 590, in __call__\n\n  File \"C:\\Users\\azdanevy\\AppData\\Roaming\\Python\\Python310\\site-packages\\keras\\src\\utils\\traceback_utils.py\", line 65, in error_handler\n\n  File \"C:\\Users\\azdanevy\\AppData\\Roaming\\Python\\Python310\\site-packages\\keras\\src\\engine\\base_layer.py\", line 1149, in __call__\n\n  File \"C:\\Users\\azdanevy\\AppData\\Roaming\\Python\\Python310\\site-packages\\keras\\src\\utils\\traceback_utils.py\", line 96, in error_handler\n\n  File \"C:\\Users\\azdanevy\\AppData\\Roaming\\Python\\Python310\\site-packages\\tensorflow_recommenders\\layers\\factorized_top_k.py\", line 487, in call\n\nCannot add tensor to the batch: number of elements does not match. Shapes are: [tensor]: [6], [batch]: [7]\n\t [[{{node retrieval_43/streaming_43/ReduceDataset}}]] [Op:__inference_train_function_55055]",
          "output_type": "error",
          "traceback": [
            "\u001b[1;31m---------------------------------------------------------------------------\u001b[0m",
            "\u001b[1;31mInvalidArgumentError\u001b[0m                      Traceback (most recent call last)",
            "Cell \u001b[1;32mIn[148], line 3\u001b[0m\n\u001b[0;32m      1\u001b[0m model \u001b[38;5;241m=\u001b[39m RecipeAndUserModel(unique_recipe_names, unique_tags, embedding_dimension)\n\u001b[0;32m      2\u001b[0m model\u001b[38;5;241m.\u001b[39mcompile(optimizer\u001b[38;5;241m=\u001b[39mtf\u001b[38;5;241m.\u001b[39mkeras\u001b[38;5;241m.\u001b[39moptimizers\u001b[38;5;241m.\u001b[39mAdagrad(learning_rate\u001b[38;5;241m=\u001b[39m\u001b[38;5;241m0.1\u001b[39m))\n\u001b[1;32m----> 3\u001b[0m \u001b[43mmodel\u001b[49m\u001b[38;5;241;43m.\u001b[39;49m\u001b[43mfit\u001b[49m\u001b[43m(\u001b[49m\u001b[43mtrain\u001b[49m\u001b[43m,\u001b[49m\u001b[43m \u001b[49m\u001b[43mepochs\u001b[49m\u001b[38;5;241;43m=\u001b[39;49m\u001b[38;5;241;43m1\u001b[39;49m\u001b[43m)\u001b[49m\n",
            "File \u001b[1;32m~\\AppData\\Roaming\\Python\\Python310\\site-packages\\keras\\src\\utils\\traceback_utils.py:70\u001b[0m, in \u001b[0;36mfilter_traceback.<locals>.error_handler\u001b[1;34m(*args, **kwargs)\u001b[0m\n\u001b[0;32m     67\u001b[0m     filtered_tb \u001b[38;5;241m=\u001b[39m _process_traceback_frames(e\u001b[38;5;241m.\u001b[39m__traceback__)\n\u001b[0;32m     68\u001b[0m     \u001b[38;5;66;03m# To get the full stack trace, call:\u001b[39;00m\n\u001b[0;32m     69\u001b[0m     \u001b[38;5;66;03m# `tf.debugging.disable_traceback_filtering()`\u001b[39;00m\n\u001b[1;32m---> 70\u001b[0m     \u001b[38;5;28;01mraise\u001b[39;00m e\u001b[38;5;241m.\u001b[39mwith_traceback(filtered_tb) \u001b[38;5;28;01mfrom\u001b[39;00m \u001b[38;5;28;01mNone\u001b[39;00m\n\u001b[0;32m     71\u001b[0m \u001b[38;5;28;01mfinally\u001b[39;00m:\n\u001b[0;32m     72\u001b[0m     \u001b[38;5;28;01mdel\u001b[39;00m filtered_tb\n",
            "File \u001b[1;32m~\\AppData\\Roaming\\Python\\Python310\\site-packages\\tensorflow\\python\\eager\\execute.py:53\u001b[0m, in \u001b[0;36mquick_execute\u001b[1;34m(op_name, num_outputs, inputs, attrs, ctx, name)\u001b[0m\n\u001b[0;32m     51\u001b[0m \u001b[38;5;28;01mtry\u001b[39;00m:\n\u001b[0;32m     52\u001b[0m   ctx\u001b[38;5;241m.\u001b[39mensure_initialized()\n\u001b[1;32m---> 53\u001b[0m   tensors \u001b[38;5;241m=\u001b[39m pywrap_tfe\u001b[38;5;241m.\u001b[39mTFE_Py_Execute(ctx\u001b[38;5;241m.\u001b[39m_handle, device_name, op_name,\n\u001b[0;32m     54\u001b[0m                                       inputs, attrs, num_outputs)\n\u001b[0;32m     55\u001b[0m \u001b[38;5;28;01mexcept\u001b[39;00m core\u001b[38;5;241m.\u001b[39m_NotOkStatusException \u001b[38;5;28;01mas\u001b[39;00m e:\n\u001b[0;32m     56\u001b[0m   \u001b[38;5;28;01mif\u001b[39;00m name \u001b[38;5;129;01mis\u001b[39;00m \u001b[38;5;129;01mnot\u001b[39;00m \u001b[38;5;28;01mNone\u001b[39;00m:\n",
            "\u001b[1;31mInvalidArgumentError\u001b[0m: Graph execution error:\n\nDetected at node retrieval_43/streaming_43/ReduceDataset defined at (most recent call last):\n  File \"c:\\Users\\azdanevy\\Music\\Python310\\lib\\runpy.py\", line 196, in _run_module_as_main\n\n  File \"c:\\Users\\azdanevy\\Music\\Python310\\lib\\runpy.py\", line 86, in _run_code\n\n  File \"c:\\Users\\azdanevy\\Music\\Python310\\lib\\site-packages\\ipykernel_launcher.py\", line 17, in <module>\n\n  File \"c:\\Users\\azdanevy\\Music\\Python310\\lib\\site-packages\\traitlets\\config\\application.py\", line 1046, in launch_instance\n\n  File \"c:\\Users\\azdanevy\\Music\\Python310\\lib\\site-packages\\ipykernel\\kernelapp.py\", line 736, in start\n\n  File \"c:\\Users\\azdanevy\\Music\\Python310\\lib\\site-packages\\tornado\\platform\\asyncio.py\", line 195, in start\n\n  File \"c:\\Users\\azdanevy\\Music\\Python310\\lib\\asyncio\\base_events.py\", line 603, in run_forever\n\n  File \"c:\\Users\\azdanevy\\Music\\Python310\\lib\\asyncio\\base_events.py\", line 1909, in _run_once\n\n  File \"c:\\Users\\azdanevy\\Music\\Python310\\lib\\asyncio\\events.py\", line 80, in _run\n\n  File \"c:\\Users\\azdanevy\\Music\\Python310\\lib\\site-packages\\ipykernel\\kernelbase.py\", line 516, in dispatch_queue\n\n  File \"c:\\Users\\azdanevy\\Music\\Python310\\lib\\site-packages\\ipykernel\\kernelbase.py\", line 505, in process_one\n\n  File \"c:\\Users\\azdanevy\\Music\\Python310\\lib\\site-packages\\ipykernel\\kernelbase.py\", line 412, in dispatch_shell\n\n  File \"c:\\Users\\azdanevy\\Music\\Python310\\lib\\site-packages\\ipykernel\\kernelbase.py\", line 740, in execute_request\n\n  File \"c:\\Users\\azdanevy\\Music\\Python310\\lib\\site-packages\\ipykernel\\ipkernel.py\", line 422, in do_execute\n\n  File \"c:\\Users\\azdanevy\\Music\\Python310\\lib\\site-packages\\ipykernel\\zmqshell.py\", line 546, in run_cell\n\n  File \"c:\\Users\\azdanevy\\Music\\Python310\\lib\\site-packages\\IPython\\core\\interactiveshell.py\", line 3024, in run_cell\n\n  File \"c:\\Users\\azdanevy\\Music\\Python310\\lib\\site-packages\\IPython\\core\\interactiveshell.py\", line 3079, in _run_cell\n\n  File \"c:\\Users\\azdanevy\\Music\\Python310\\lib\\site-packages\\IPython\\core\\async_helpers.py\", line 129, in _pseudo_sync_runner\n\n  File \"c:\\Users\\azdanevy\\Music\\Python310\\lib\\site-packages\\IPython\\core\\interactiveshell.py\", line 3284, in run_cell_async\n\n  File \"c:\\Users\\azdanevy\\Music\\Python310\\lib\\site-packages\\IPython\\core\\interactiveshell.py\", line 3466, in run_ast_nodes\n\n  File \"c:\\Users\\azdanevy\\Music\\Python310\\lib\\site-packages\\IPython\\core\\interactiveshell.py\", line 3526, in run_code\n\n  File \"C:\\Users\\azdanevy\\AppData\\Local\\Temp\\ipykernel_28960\\1865470471.py\", line 3, in <module>\n\n  File \"C:\\Users\\azdanevy\\AppData\\Roaming\\Python\\Python310\\site-packages\\keras\\src\\utils\\traceback_utils.py\", line 65, in error_handler\n\n  File \"C:\\Users\\azdanevy\\AppData\\Roaming\\Python\\Python310\\site-packages\\keras\\src\\engine\\training.py\", line 1807, in fit\n\n  File \"C:\\Users\\azdanevy\\AppData\\Roaming\\Python\\Python310\\site-packages\\keras\\src\\engine\\training.py\", line 1401, in train_function\n\n  File \"C:\\Users\\azdanevy\\AppData\\Roaming\\Python\\Python310\\site-packages\\keras\\src\\engine\\training.py\", line 1384, in step_function\n\n  File \"C:\\Users\\azdanevy\\AppData\\Roaming\\Python\\Python310\\site-packages\\keras\\src\\engine\\training.py\", line 1373, in run_step\n\n  File \"C:\\Users\\azdanevy\\AppData\\Roaming\\Python\\Python310\\site-packages\\tensorflow_recommenders\\models\\base.py\", line 68, in train_step\n\n  File \"C:\\Users\\azdanevy\\AppData\\Local\\Temp\\ipykernel_28960\\3761067269.py\", line 84, in compute_loss\n\n  File \"C:\\Users\\azdanevy\\AppData\\Roaming\\Python\\Python310\\site-packages\\keras\\src\\utils\\traceback_utils.py\", line 65, in error_handler\n\n  File \"C:\\Users\\azdanevy\\AppData\\Roaming\\Python\\Python310\\site-packages\\keras\\src\\engine\\base_layer.py\", line 1149, in __call__\n\n  File \"C:\\Users\\azdanevy\\AppData\\Roaming\\Python\\Python310\\site-packages\\keras\\src\\utils\\traceback_utils.py\", line 96, in error_handler\n\n  File \"C:\\Users\\azdanevy\\AppData\\Roaming\\Python\\Python310\\site-packages\\tensorflow_recommenders\\tasks\\retrieval.py\", line 195, in call\n\n  File \"C:\\Users\\azdanevy\\AppData\\Roaming\\Python\\Python310\\site-packages\\tensorflow_recommenders\\tasks\\retrieval.py\", line 196, in call\n\n  File \"C:\\Users\\azdanevy\\AppData\\Roaming\\Python\\Python310\\site-packages\\tensorflow_recommenders\\tasks\\retrieval.py\", line 197, in call\n\n  File \"C:\\Users\\azdanevy\\AppData\\Roaming\\Python\\Python310\\site-packages\\tensorflow_recommenders\\metrics\\factorized_top_k.py\", line 136, in update_state\n\n  File \"C:\\Users\\azdanevy\\AppData\\Roaming\\Python\\Python310\\site-packages\\keras\\src\\utils\\traceback_utils.py\", line 65, in error_handler\n\n  File \"C:\\Users\\azdanevy\\AppData\\Roaming\\Python\\Python310\\site-packages\\keras\\src\\engine\\training.py\", line 590, in __call__\n\n  File \"C:\\Users\\azdanevy\\AppData\\Roaming\\Python\\Python310\\site-packages\\keras\\src\\utils\\traceback_utils.py\", line 65, in error_handler\n\n  File \"C:\\Users\\azdanevy\\AppData\\Roaming\\Python\\Python310\\site-packages\\keras\\src\\engine\\base_layer.py\", line 1149, in __call__\n\n  File \"C:\\Users\\azdanevy\\AppData\\Roaming\\Python\\Python310\\site-packages\\keras\\src\\utils\\traceback_utils.py\", line 96, in error_handler\n\n  File \"C:\\Users\\azdanevy\\AppData\\Roaming\\Python\\Python310\\site-packages\\tensorflow_recommenders\\layers\\factorized_top_k.py\", line 487, in call\n\nCannot add tensor to the batch: number of elements does not match. Shapes are: [tensor]: [6], [batch]: [7]\n\t [[{{node retrieval_43/streaming_43/ReduceDataset}}]] [Op:__inference_train_function_55055]"
          ]
        }
      ],
      "source": [
        "model = RecipeAndUserModel(unique_recipe_names, unique_tags, embedding_dimension)\n",
        "model.compile(optimizer=tf.keras.optimizers.Adagrad(learning_rate=0.1))\n",
        "model.fit(train, epochs=1)"
      ]
    },
    {
      "cell_type": "code",
      "execution_count": null,
      "metadata": {},
      "outputs": [],
      "source": [
        "# prompt: Напиши код для теста model для пользователя 42\n",
        "model2 = RecipeAndUserModel()\n",
        "model2.compile(optimizer=tf.keras.optimizers.Adagrad(learning_rate=0.1))\n",
        "test_user = {}\n",
        "for data in test.take(1).as_numpy_iterator():\n",
        "  print(model2(data))"
      ]
    },
    {
      "cell_type": "code",
      "execution_count": null,
      "metadata": {},
      "outputs": [],
      "source": [
        "model.evaluate(cached_test, return_dict=True)"
      ]
    },
    {
      "cell_type": "markdown",
      "metadata": {},
      "source": [
        "### Making predictions"
      ]
    },
    {
      "cell_type": "code",
      "execution_count": null,
      "metadata": {},
      "outputs": [],
      "source": [
        "# Извлечение данных пользователя\n",
        "test_user = {}\n",
        "for data in test.take(1).as_numpy_iterator():\n",
        "    test_user = data\n",
        "\n",
        "# Создание набора данных для тестового пользователя\n",
        "user_id_to_test = \"42\"  # Замените на нужный ID пользователя\n",
        "test_user_dataset = {\n",
        "    \"user_id\": np.array(test_user[\"user_id\"]),\n",
        "    \"liked_tags\": np.array([['30-minutes-or-less']]),\n",
        "    \"unliked_tags\": np.array([['60-minutes-or-less'], ['lactose']])\n",
        "}\n",
        "\n",
        "brute_force = tfrs.layers.factorized_top_k.BruteForce(model.user_model)\n",
        "def _reduce_mean_if_needed(embedding):\n",
        "    \"\"\"Сокращает размерность эмбеддинга до среднего, если он многомерный.\"\"\"\n",
        "    if len(embedding.shape) >= 3:\n",
        "        return tf.reduce_mean(embedding, axis=1)\n",
        "    return embedding\n",
        "dense = tf.keras.layers.Dense(96)\n",
        "# Создание набора данных для рецептов и тегов\n",
        "def get_recipe_and_tag_embeddings(x):\n",
        "    recipe_embedding = model.recipe_model(x['recipe_name'])  # (None, 32)\n",
        "    tag_embedding = model.tags_model(x['tags'])  # (None, 32)\n",
        "    recipe_embedding =_reduce_mean_if_needed(recipe_embedding)\n",
        "    tag_embedding = _reduce_mean_if_needed(tag_embedding)\n",
        "    \n",
        "    combined_embeddings = tf.concat([_reduce_mean_if_needed(recipe_embedding),  _reduce_mean_if_needed(tag_embedding)], axis=1)  # (None, 64)\n",
        "    \n",
        "    return dense(combined_embeddings)\n",
        "\n",
        "# Используем map для обработки всех данных сразу\n",
        "recipes_embeddings = recipes.batch(100).map(get_recipe_and_tag_embeddings)\n",
        "\n",
        "\n",
        "# Создание набора имен рецептов\n",
        "recipes_names = recipes.batch(100).map(lambda x: x[\"recipe_id\"])  # Убедитесь, что это (None,)\n",
        "\n",
        "# Объединяем эмбеддинги с именами\n",
        "index = brute_force.index_from_dataset(\n",
        "    tf.data.Dataset.zip((recipes_names, recipes_embeddings))\n",
        ")\n",
        "\n",
        "# Получаем рекомендации\n",
        "_, titles = index(test_user_dataset, k=15)\n",
        "\n",
        "# Вывод тегов для рекомендуемых рецептов\n",
        "recommended_tags = raw_recipes[raw_recipes['id'].isin(titles.numpy().flatten().astype('str'))]\n"
      ]
    },
    {
      "cell_type": "code",
      "execution_count": null,
      "metadata": {},
      "outputs": [],
      "source": [
        "recommended_tags"
      ]
    }
  ],
  "metadata": {
    "colab": {
      "provenance": []
    },
    "kernelspec": {
      "display_name": "Python 3",
      "name": "python3"
    },
    "language_info": {
      "codemirror_mode": {
        "name": "ipython",
        "version": 3
      },
      "file_extension": ".py",
      "mimetype": "text/x-python",
      "name": "python",
      "nbconvert_exporter": "python",
      "pygments_lexer": "ipython3",
      "version": "3.10.11"
    }
  },
  "nbformat": 4,
  "nbformat_minor": 0
}
