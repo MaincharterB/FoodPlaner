{
  "cells": [
    {
      "cell_type": "code",
      "execution_count": 1,
      "metadata": {
        "id": "2rptU6mxyaoP"
      },
      "outputs": [
        {
          "name": "stdout",
          "output_type": "stream",
          "text": [
            "WARNING:tensorflow:From C:\\Users\\azdanevy\\AppData\\Roaming\\Python\\Python310\\site-packages\\keras\\src\\losses.py:2976: The name tf.losses.sparse_softmax_cross_entropy is deprecated. Please use tf.compat.v1.losses.sparse_softmax_cross_entropy instead.\n",
            "\n"
          ]
        }
      ],
      "source": [
        "from typing import Dict, Text\n",
        "\n",
        "import numpy as np\n",
        "import tensorflow as tf\n",
        "import tensorflow_datasets as tfds\n",
        "import pandas as pd\n",
        "import tensorflow_recommenders as tfrs"
      ]
    },
    {
      "cell_type": "code",
      "execution_count": 2,
      "metadata": {},
      "outputs": [],
      "source": [
        "import os\n",
        "os.environ['TF_ENABLE_ONEDNN_OPTS'] = '0'"
      ]
    },
    {
      "cell_type": "markdown",
      "metadata": {
        "id": "16W1-BvjtVmz"
      },
      "source": [
        "Let's pretend we have 3 users:\n",
        "1. Clarissa is a vegetarian who is lactose intolerant. 🥝🍅\n",
        "2. Martin is an athlete who prefers meat dishes to vegetable dishes. 🍖🥩\n",
        "3. Stella - has no special preferences, eats mostly everything. 🍲🍠"
      ]
    },
    {
      "cell_type": "code",
      "execution_count": 3,
      "metadata": {
        "id": "FDNshkxJvR-U"
      },
      "outputs": [],
      "source": [
        "clarissa = {'id':'clr', 'prefers': ['vegetables', 'vegan', 'nomeat', 'vegetarian'], 'hates': ['meat', 'lactose']}\n",
        "martin = {'id':'mrt', 'prefers': 'meat', 'hates': 'vegetables'}\n",
        "stella = {'id':'stl', 'prefers': '', 'hates': ''}"
      ]
    },
    {
      "cell_type": "markdown",
      "metadata": {
        "id": "FS8T34Y4xNhX"
      },
      "source": [
        "We will additionally enter the factors Calories, Protein, Fat, Carbohydrates for our requirements. **(The numbers were taken at random and do not reflect proportions or recommendations - the numbers are just an example)**\n",
        "* Clarissa - 2000/100/60/120\n",
        "* Martin, 2600/150/100/328.\n",
        "* Stella - 2200/80/50/100"
      ]
    },
    {
      "cell_type": "code",
      "execution_count": 4,
      "metadata": {
        "id": "qoPCpCLMxUob"
      },
      "outputs": [],
      "source": [
        "def set_requirements(user, calories, proteins, fats, carbs):\n",
        "  user['calories'] = calories\n",
        "  user['proteins'] = proteins\n",
        "  user['fats'] = fats\n",
        "  user['carbs'] = carbs\n",
        "set_requirements(clarissa, 2000, 100, 60, 120)\n",
        "set_requirements(martin, 2600, 150, 100, 328)\n",
        "set_requirements(martin, 2200, 80, 50, 100)\n"
      ]
    },
    {
      "cell_type": "markdown",
      "metadata": {
        "id": "iFMln3jutPpe"
      },
      "source": [
        "# Data processing 📊"
      ]
    },
    {
      "cell_type": "markdown",
      "metadata": {
        "id": "yDHv_HGvzWkB"
      },
      "source": [
        "Loading recipes and user_interactions. Nutritions showed like:calories (#), total fat (PDV), sugar (PDV) , sodium (PDV) , protein (PDV) , saturated fat (PDV) , and carbohydrates (PDV)"
      ]
    },
    {
      "cell_type": "code",
      "execution_count": 5,
      "metadata": {
        "colab": {
          "base_uri": "https://localhost:8080/",
          "height": 293
        },
        "id": "1gVJ6QAiyXLz",
        "outputId": "0e6c0673-457a-4063-eaa5-b553ec30edc8"
      },
      "outputs": [
        {
          "data": {
            "text/html": [
              "<div>\n",
              "<style scoped>\n",
              "    .dataframe tbody tr th:only-of-type {\n",
              "        vertical-align: middle;\n",
              "    }\n",
              "\n",
              "    .dataframe tbody tr th {\n",
              "        vertical-align: top;\n",
              "    }\n",
              "\n",
              "    .dataframe thead th {\n",
              "        text-align: right;\n",
              "    }\n",
              "</style>\n",
              "<table border=\"1\" class=\"dataframe\">\n",
              "  <thead>\n",
              "    <tr style=\"text-align: right;\">\n",
              "      <th></th>\n",
              "      <th>name</th>\n",
              "      <th>id</th>\n",
              "      <th>minutes</th>\n",
              "      <th>contributor_id</th>\n",
              "      <th>submitted</th>\n",
              "      <th>tags</th>\n",
              "      <th>nutrition</th>\n",
              "      <th>n_steps</th>\n",
              "      <th>steps</th>\n",
              "      <th>description</th>\n",
              "      <th>ingredients</th>\n",
              "      <th>n_ingredients</th>\n",
              "    </tr>\n",
              "  </thead>\n",
              "  <tbody>\n",
              "    <tr>\n",
              "      <th>0</th>\n",
              "      <td>arriba   baked winter squash mexican style</td>\n",
              "      <td>137739</td>\n",
              "      <td>55</td>\n",
              "      <td>47892</td>\n",
              "      <td>2005-09-16</td>\n",
              "      <td>['60-minutes-or-less', 'time-to-make', 'course...</td>\n",
              "      <td>[51.5, 0.0, 13.0, 0.0, 2.0, 0.0, 4.0]</td>\n",
              "      <td>11</td>\n",
              "      <td>['make a choice and proceed with recipe', 'dep...</td>\n",
              "      <td>autumn is my favorite time of year to cook! th...</td>\n",
              "      <td>['winter squash', 'mexican seasoning', 'mixed ...</td>\n",
              "      <td>7</td>\n",
              "    </tr>\n",
              "    <tr>\n",
              "      <th>1</th>\n",
              "      <td>a bit different  breakfast pizza</td>\n",
              "      <td>31490</td>\n",
              "      <td>30</td>\n",
              "      <td>26278</td>\n",
              "      <td>2002-06-17</td>\n",
              "      <td>['30-minutes-or-less', 'time-to-make', 'course...</td>\n",
              "      <td>[173.4, 18.0, 0.0, 17.0, 22.0, 35.0, 1.0]</td>\n",
              "      <td>9</td>\n",
              "      <td>['preheat oven to 425 degrees f', 'press dough...</td>\n",
              "      <td>this recipe calls for the crust to be prebaked...</td>\n",
              "      <td>['prepared pizza crust', 'sausage patty', 'egg...</td>\n",
              "      <td>6</td>\n",
              "    </tr>\n",
              "    <tr>\n",
              "      <th>2</th>\n",
              "      <td>all in the kitchen  chili</td>\n",
              "      <td>112140</td>\n",
              "      <td>130</td>\n",
              "      <td>196586</td>\n",
              "      <td>2005-02-25</td>\n",
              "      <td>['time-to-make', 'course', 'preparation', 'mai...</td>\n",
              "      <td>[269.8, 22.0, 32.0, 48.0, 39.0, 27.0, 5.0]</td>\n",
              "      <td>6</td>\n",
              "      <td>['brown ground beef in large pot', 'add choppe...</td>\n",
              "      <td>this modified version of 'mom's' chili was a h...</td>\n",
              "      <td>['ground beef', 'yellow onions', 'diced tomato...</td>\n",
              "      <td>13</td>\n",
              "    </tr>\n",
              "    <tr>\n",
              "      <th>3</th>\n",
              "      <td>alouette  potatoes</td>\n",
              "      <td>59389</td>\n",
              "      <td>45</td>\n",
              "      <td>68585</td>\n",
              "      <td>2003-04-14</td>\n",
              "      <td>['60-minutes-or-less', 'time-to-make', 'course...</td>\n",
              "      <td>[368.1, 17.0, 10.0, 2.0, 14.0, 8.0, 20.0]</td>\n",
              "      <td>11</td>\n",
              "      <td>['place potatoes in a large pot of lightly sal...</td>\n",
              "      <td>this is a super easy, great tasting, make ahea...</td>\n",
              "      <td>['spreadable cheese with garlic and herbs', 'n...</td>\n",
              "      <td>11</td>\n",
              "    </tr>\n",
              "    <tr>\n",
              "      <th>4</th>\n",
              "      <td>amish  tomato ketchup  for canning</td>\n",
              "      <td>44061</td>\n",
              "      <td>190</td>\n",
              "      <td>41706</td>\n",
              "      <td>2002-10-25</td>\n",
              "      <td>['weeknight', 'time-to-make', 'course', 'main-...</td>\n",
              "      <td>[352.9, 1.0, 337.0, 23.0, 3.0, 0.0, 28.0]</td>\n",
              "      <td>5</td>\n",
              "      <td>['mix all ingredients&amp; boil for 2 1 / 2 hours ...</td>\n",
              "      <td>my dh's amish mother raised him on this recipe...</td>\n",
              "      <td>['tomato juice', 'apple cider vinegar', 'sugar...</td>\n",
              "      <td>8</td>\n",
              "    </tr>\n",
              "  </tbody>\n",
              "</table>\n",
              "</div>"
            ],
            "text/plain": [
              "                                         name      id  minutes  \\\n",
              "0  arriba   baked winter squash mexican style  137739       55   \n",
              "1            a bit different  breakfast pizza   31490       30   \n",
              "2                   all in the kitchen  chili  112140      130   \n",
              "3                          alouette  potatoes   59389       45   \n",
              "4          amish  tomato ketchup  for canning   44061      190   \n",
              "\n",
              "   contributor_id   submitted  \\\n",
              "0           47892  2005-09-16   \n",
              "1           26278  2002-06-17   \n",
              "2          196586  2005-02-25   \n",
              "3           68585  2003-04-14   \n",
              "4           41706  2002-10-25   \n",
              "\n",
              "                                                tags  \\\n",
              "0  ['60-minutes-or-less', 'time-to-make', 'course...   \n",
              "1  ['30-minutes-or-less', 'time-to-make', 'course...   \n",
              "2  ['time-to-make', 'course', 'preparation', 'mai...   \n",
              "3  ['60-minutes-or-less', 'time-to-make', 'course...   \n",
              "4  ['weeknight', 'time-to-make', 'course', 'main-...   \n",
              "\n",
              "                                    nutrition  n_steps  \\\n",
              "0       [51.5, 0.0, 13.0, 0.0, 2.0, 0.0, 4.0]       11   \n",
              "1   [173.4, 18.0, 0.0, 17.0, 22.0, 35.0, 1.0]        9   \n",
              "2  [269.8, 22.0, 32.0, 48.0, 39.0, 27.0, 5.0]        6   \n",
              "3   [368.1, 17.0, 10.0, 2.0, 14.0, 8.0, 20.0]       11   \n",
              "4   [352.9, 1.0, 337.0, 23.0, 3.0, 0.0, 28.0]        5   \n",
              "\n",
              "                                               steps  \\\n",
              "0  ['make a choice and proceed with recipe', 'dep...   \n",
              "1  ['preheat oven to 425 degrees f', 'press dough...   \n",
              "2  ['brown ground beef in large pot', 'add choppe...   \n",
              "3  ['place potatoes in a large pot of lightly sal...   \n",
              "4  ['mix all ingredients& boil for 2 1 / 2 hours ...   \n",
              "\n",
              "                                         description  \\\n",
              "0  autumn is my favorite time of year to cook! th...   \n",
              "1  this recipe calls for the crust to be prebaked...   \n",
              "2  this modified version of 'mom's' chili was a h...   \n",
              "3  this is a super easy, great tasting, make ahea...   \n",
              "4  my dh's amish mother raised him on this recipe...   \n",
              "\n",
              "                                         ingredients  n_ingredients  \n",
              "0  ['winter squash', 'mexican seasoning', 'mixed ...              7  \n",
              "1  ['prepared pizza crust', 'sausage patty', 'egg...              6  \n",
              "2  ['ground beef', 'yellow onions', 'diced tomato...             13  \n",
              "3  ['spreadable cheese with garlic and herbs', 'n...             11  \n",
              "4  ['tomato juice', 'apple cider vinegar', 'sugar...              8  "
            ]
          },
          "execution_count": 5,
          "metadata": {},
          "output_type": "execute_result"
        }
      ],
      "source": [
        "raw_recipes = pd.read_csv('./sample_data/RAW_recipes.csv')\n",
        "raw_interactions = pd.read_csv('./sample_data/RAW_interactions.csv')\n",
        "raw_recipes.head()"
      ]
    },
    {
      "cell_type": "markdown",
      "metadata": {
        "id": "9_z_pQgv4fvC"
      },
      "source": [
        "Merge data interactions with recipe infos"
      ]
    },
    {
      "cell_type": "code",
      "execution_count": 6,
      "metadata": {
        "colab": {
          "base_uri": "https://localhost:8080/",
          "height": 293
        },
        "id": "ahU35J7P31xt",
        "outputId": "f26e3ef4-cfee-4ecd-b0bd-44e31a36503b"
      },
      "outputs": [
        {
          "data": {
            "text/html": [
              "<div>\n",
              "<style scoped>\n",
              "    .dataframe tbody tr th:only-of-type {\n",
              "        vertical-align: middle;\n",
              "    }\n",
              "\n",
              "    .dataframe tbody tr th {\n",
              "        vertical-align: top;\n",
              "    }\n",
              "\n",
              "    .dataframe thead th {\n",
              "        text-align: right;\n",
              "    }\n",
              "</style>\n",
              "<table border=\"1\" class=\"dataframe\">\n",
              "  <thead>\n",
              "    <tr style=\"text-align: right;\">\n",
              "      <th></th>\n",
              "      <th>user_id</th>\n",
              "      <th>recipe_id</th>\n",
              "      <th>rating</th>\n",
              "      <th>recipe_name</th>\n",
              "      <th>tags</th>\n",
              "      <th>ingredients</th>\n",
              "    </tr>\n",
              "  </thead>\n",
              "  <tbody>\n",
              "    <tr>\n",
              "      <th>0</th>\n",
              "      <td>38094</td>\n",
              "      <td>40893</td>\n",
              "      <td>4</td>\n",
              "      <td>white bean   green chile pepper soup</td>\n",
              "      <td>['weeknight', 'time-to-make', 'course', 'main-...</td>\n",
              "      <td>['great northern beans', 'yellow onion', 'dice...</td>\n",
              "    </tr>\n",
              "    <tr>\n",
              "      <th>1</th>\n",
              "      <td>1293707</td>\n",
              "      <td>40893</td>\n",
              "      <td>5</td>\n",
              "      <td>white bean   green chile pepper soup</td>\n",
              "      <td>['weeknight', 'time-to-make', 'course', 'main-...</td>\n",
              "      <td>['great northern beans', 'yellow onion', 'dice...</td>\n",
              "    </tr>\n",
              "    <tr>\n",
              "      <th>2</th>\n",
              "      <td>8937</td>\n",
              "      <td>44394</td>\n",
              "      <td>4</td>\n",
              "      <td>devilicious cookie cake delights</td>\n",
              "      <td>['30-minutes-or-less', 'time-to-make', 'course...</td>\n",
              "      <td>[\"devil's food cake mix\", 'vegetable oil', 'eg...</td>\n",
              "    </tr>\n",
              "    <tr>\n",
              "      <th>3</th>\n",
              "      <td>126440</td>\n",
              "      <td>85009</td>\n",
              "      <td>5</td>\n",
              "      <td>baked potato toppings</td>\n",
              "      <td>['15-minutes-or-less', 'time-to-make', 'course...</td>\n",
              "      <td>['mayonnaise', 'salsa', 'cheddar cheese', 'ref...</td>\n",
              "    </tr>\n",
              "    <tr>\n",
              "      <th>4</th>\n",
              "      <td>57222</td>\n",
              "      <td>85009</td>\n",
              "      <td>5</td>\n",
              "      <td>baked potato toppings</td>\n",
              "      <td>['15-minutes-or-less', 'time-to-make', 'course...</td>\n",
              "      <td>['mayonnaise', 'salsa', 'cheddar cheese', 'ref...</td>\n",
              "    </tr>\n",
              "  </tbody>\n",
              "</table>\n",
              "</div>"
            ],
            "text/plain": [
              "   user_id  recipe_id  rating                           recipe_name  \\\n",
              "0    38094      40893       4  white bean   green chile pepper soup   \n",
              "1  1293707      40893       5  white bean   green chile pepper soup   \n",
              "2     8937      44394       4      devilicious cookie cake delights   \n",
              "3   126440      85009       5                 baked potato toppings   \n",
              "4    57222      85009       5                 baked potato toppings   \n",
              "\n",
              "                                                tags  \\\n",
              "0  ['weeknight', 'time-to-make', 'course', 'main-...   \n",
              "1  ['weeknight', 'time-to-make', 'course', 'main-...   \n",
              "2  ['30-minutes-or-less', 'time-to-make', 'course...   \n",
              "3  ['15-minutes-or-less', 'time-to-make', 'course...   \n",
              "4  ['15-minutes-or-less', 'time-to-make', 'course...   \n",
              "\n",
              "                                         ingredients  \n",
              "0  ['great northern beans', 'yellow onion', 'dice...  \n",
              "1  ['great northern beans', 'yellow onion', 'dice...  \n",
              "2  [\"devil's food cake mix\", 'vegetable oil', 'eg...  \n",
              "3  ['mayonnaise', 'salsa', 'cheddar cheese', 'ref...  \n",
              "4  ['mayonnaise', 'salsa', 'cheddar cheese', 'ref...  "
            ]
          },
          "execution_count": 6,
          "metadata": {},
          "output_type": "execute_result"
        }
      ],
      "source": [
        "interactions_with_recipe_info = pd.merge(raw_interactions, raw_recipes[['name', 'tags', 'ingredients', 'id']], left_on='recipe_id', right_on='id', how='left')\n",
        "interactions_with_recipe_info = interactions_with_recipe_info[['user_id', 'recipe_id', 'rating', 'name', 'tags', 'ingredients']]\n",
        "interactions_with_recipe_info.rename(columns={'name': 'recipe_name'}, inplace=True)\n",
        "interactions_with_recipe_info.head()"
      ]
    },
    {
      "cell_type": "code",
      "execution_count": 7,
      "metadata": {
        "id": "a47R5lVA2r_t"
      },
      "outputs": [],
      "source": [
        "import ast\n",
        "\n",
        "def convert_to_list(data_str):\n",
        "  try:\n",
        "    return ast.literal_eval(data_str)\n",
        "  except (SyntaxError, ValueError):\n",
        "    return []"
      ]
    },
    {
      "cell_type": "code",
      "execution_count": 8,
      "metadata": {
        "id": "Fai3Kw-i7xmw"
      },
      "outputs": [],
      "source": [
        "interactions_with_recipe_info['ingredients_str'] = interactions_with_recipe_info['ingredients'].apply(convert_to_list)\n",
        "interactions_with_recipe_info['tags_str'] = interactions_with_recipe_info['tags'].apply(convert_to_list)\n",
        "\n",
        "raw_recipes['ingredients_str'] = raw_recipes['ingredients'].apply(convert_to_list)\n",
        "raw_recipes['tags_str'] = raw_recipes['tags'].apply(convert_to_list)"
      ]
    },
    {
      "cell_type": "code",
      "execution_count": 9,
      "metadata": {},
      "outputs": [
        {
          "data": {
            "text/plain": [
              "array([ 9,  4, 13,  2, 12, 10, 16,  8, 14, 15,  7, 11,  6,  5, 23, 22, 17,\n",
              "        3, 18, 19, 21, 26, 29, 24, 20, 27, 25, 33, 30, 31,  1, 28, 35, 32,\n",
              "       34, 43, 40, 39, 37, 36, 38], dtype=int64)"
            ]
          },
          "execution_count": 9,
          "metadata": {},
          "output_type": "execute_result"
        }
      ],
      "source": [
        "interactions_with_recipe_info['ingredients_str'].str.len().unique()"
      ]
    },
    {
      "cell_type": "markdown",
      "metadata": {
        "id": "nVgYKJQ57wyE"
      },
      "source": [
        "Formatting data for Datasets"
      ]
    },
    {
      "cell_type": "code",
      "execution_count": 10,
      "metadata": {
        "id": "6wavCmee7zWl"
      },
      "outputs": [],
      "source": [
        "interactions_with_recipe_info['user_id'] = interactions_with_recipe_info.user_id.astype(\"str\")\n",
        "interactions_with_recipe_info['recipe_id'] = interactions_with_recipe_info.recipe_id.astype(\"str\")\n",
        "interactions_with_recipe_info['rating'] = interactions_with_recipe_info.rating.astype(np.float32)\n",
        "interactions_with_recipe_info['recipe_name'] = interactions_with_recipe_info.recipe_name.astype(\"str\")\n",
        "interactions_with_recipe_info['tags'] = interactions_with_recipe_info.tags.astype(\"str\")\n",
        "interactions_with_recipe_info['ingredients'] = interactions_with_recipe_info.ingredients.astype(\"str\")\n"
      ]
    },
    {
      "cell_type": "markdown",
      "metadata": {
        "id": "ZMXuOAHX9sgD"
      },
      "source": [
        "Creating train preferences for users"
      ]
    },
    {
      "cell_type": "code",
      "execution_count": 11,
      "metadata": {
        "colab": {
          "base_uri": "https://localhost:8080/",
          "height": 206
        },
        "id": "4XwFlxfM9wJI",
        "outputId": "c018cb40-8d45-400f-93bf-e5dc2ee5b992"
      },
      "outputs": [
        {
          "data": {
            "text/html": [
              "<div>\n",
              "<style scoped>\n",
              "    .dataframe tbody tr th:only-of-type {\n",
              "        vertical-align: middle;\n",
              "    }\n",
              "\n",
              "    .dataframe tbody tr th {\n",
              "        vertical-align: top;\n",
              "    }\n",
              "\n",
              "    .dataframe thead th {\n",
              "        text-align: right;\n",
              "    }\n",
              "</style>\n",
              "<table border=\"1\" class=\"dataframe\">\n",
              "  <thead>\n",
              "    <tr style=\"text-align: right;\">\n",
              "      <th></th>\n",
              "      <th>user_id</th>\n",
              "      <th>rating</th>\n",
              "      <th>tags_str</th>\n",
              "    </tr>\n",
              "  </thead>\n",
              "  <tbody>\n",
              "    <tr>\n",
              "      <th>0</th>\n",
              "      <td>38094</td>\n",
              "      <td>4.0</td>\n",
              "      <td>[weeknight, time-to-make, course, main-ingredi...</td>\n",
              "    </tr>\n",
              "    <tr>\n",
              "      <th>1</th>\n",
              "      <td>1293707</td>\n",
              "      <td>5.0</td>\n",
              "      <td>[weeknight, time-to-make, course, main-ingredi...</td>\n",
              "    </tr>\n",
              "    <tr>\n",
              "      <th>2</th>\n",
              "      <td>8937</td>\n",
              "      <td>4.0</td>\n",
              "      <td>[30-minutes-or-less, time-to-make, course, mai...</td>\n",
              "    </tr>\n",
              "    <tr>\n",
              "      <th>3</th>\n",
              "      <td>126440</td>\n",
              "      <td>5.0</td>\n",
              "      <td>[15-minutes-or-less, time-to-make, course, mai...</td>\n",
              "    </tr>\n",
              "    <tr>\n",
              "      <th>4</th>\n",
              "      <td>57222</td>\n",
              "      <td>5.0</td>\n",
              "      <td>[15-minutes-or-less, time-to-make, course, mai...</td>\n",
              "    </tr>\n",
              "  </tbody>\n",
              "</table>\n",
              "</div>"
            ],
            "text/plain": [
              "   user_id  rating                                           tags_str\n",
              "0    38094     4.0  [weeknight, time-to-make, course, main-ingredi...\n",
              "1  1293707     5.0  [weeknight, time-to-make, course, main-ingredi...\n",
              "2     8937     4.0  [30-minutes-or-less, time-to-make, course, mai...\n",
              "3   126440     5.0  [15-minutes-or-less, time-to-make, course, mai...\n",
              "4    57222     5.0  [15-minutes-or-less, time-to-make, course, mai..."
            ]
          },
          "execution_count": 11,
          "metadata": {},
          "output_type": "execute_result"
        }
      ],
      "source": [
        "user_preferences = interactions_with_recipe_info[['user_id', 'rating', 'tags_str']]\n",
        "user_preferences.head()"
      ]
    },
    {
      "cell_type": "code",
      "execution_count": 12,
      "metadata": {
        "id": "RN5oeRb--M5o"
      },
      "outputs": [],
      "source": [
        "user_liked_tags = user_preferences[user_preferences['rating'] >= 3].groupby('user_id')['tags_str'].apply(list).reset_index()\n",
        "user_unliked_tags = user_preferences[user_preferences['rating'] < 3].groupby('user_id')['tags_str'].apply(list).reset_index()\n",
        "users_ds = pd.DataFrame(interactions_with_recipe_info['user_id'].unique(), columns=['user_id'])\n"
      ]
    },
    {
      "cell_type": "code",
      "execution_count": 13,
      "metadata": {
        "id": "swe2hQ9dBZsI"
      },
      "outputs": [],
      "source": [
        "users_ds = users_ds.merge(user_liked_tags, on='user_id', how='left')\n",
        "users_ds = users_ds.rename(columns={'tags_str': 'liked_tags'})\n",
        "users_ds = users_ds.merge(user_unliked_tags, on='user_id', how='left')\n",
        "users_ds = users_ds.rename(columns={'tags_str': 'unliked_tags'})"
      ]
    },
    {
      "cell_type": "code",
      "execution_count": 14,
      "metadata": {
        "colab": {
          "base_uri": "https://localhost:8080/",
          "height": 206
        },
        "id": "M2fouB8BCOLp",
        "outputId": "f28b08de-b1ec-49c8-8dc9-6a88074c7444"
      },
      "outputs": [
        {
          "data": {
            "text/html": [
              "<div>\n",
              "<style scoped>\n",
              "    .dataframe tbody tr th:only-of-type {\n",
              "        vertical-align: middle;\n",
              "    }\n",
              "\n",
              "    .dataframe tbody tr th {\n",
              "        vertical-align: top;\n",
              "    }\n",
              "\n",
              "    .dataframe thead th {\n",
              "        text-align: right;\n",
              "    }\n",
              "</style>\n",
              "<table border=\"1\" class=\"dataframe\">\n",
              "  <thead>\n",
              "    <tr style=\"text-align: right;\">\n",
              "      <th></th>\n",
              "      <th>user_id</th>\n",
              "      <th>liked_tags</th>\n",
              "      <th>unliked_tags</th>\n",
              "    </tr>\n",
              "  </thead>\n",
              "  <tbody>\n",
              "    <tr>\n",
              "      <th>0</th>\n",
              "      <td>38094</td>\n",
              "      <td>[[weeknight, time-to-make, course, main-ingred...</td>\n",
              "      <td>NaN</td>\n",
              "    </tr>\n",
              "    <tr>\n",
              "      <th>1</th>\n",
              "      <td>1293707</td>\n",
              "      <td>[[weeknight, time-to-make, course, main-ingred...</td>\n",
              "      <td>[[60-minutes-or-less, time-to-make, course, ma...</td>\n",
              "    </tr>\n",
              "    <tr>\n",
              "      <th>2</th>\n",
              "      <td>8937</td>\n",
              "      <td>[[30-minutes-or-less, time-to-make, course, ma...</td>\n",
              "      <td>NaN</td>\n",
              "    </tr>\n",
              "    <tr>\n",
              "      <th>3</th>\n",
              "      <td>126440</td>\n",
              "      <td>[[15-minutes-or-less, time-to-make, course, ma...</td>\n",
              "      <td>[[60-minutes-or-less, time-to-make, course, pr...</td>\n",
              "    </tr>\n",
              "    <tr>\n",
              "      <th>4</th>\n",
              "      <td>57222</td>\n",
              "      <td>[[15-minutes-or-less, time-to-make, course, ma...</td>\n",
              "      <td>[[60-minutes-or-less, time-to-make, course, ma...</td>\n",
              "    </tr>\n",
              "  </tbody>\n",
              "</table>\n",
              "</div>"
            ],
            "text/plain": [
              "   user_id                                         liked_tags  \\\n",
              "0    38094  [[weeknight, time-to-make, course, main-ingred...   \n",
              "1  1293707  [[weeknight, time-to-make, course, main-ingred...   \n",
              "2     8937  [[30-minutes-or-less, time-to-make, course, ma...   \n",
              "3   126440  [[15-minutes-or-less, time-to-make, course, ma...   \n",
              "4    57222  [[15-minutes-or-less, time-to-make, course, ma...   \n",
              "\n",
              "                                        unliked_tags  \n",
              "0                                                NaN  \n",
              "1  [[60-minutes-or-less, time-to-make, course, ma...  \n",
              "2                                                NaN  \n",
              "3  [[60-minutes-or-less, time-to-make, course, pr...  \n",
              "4  [[60-minutes-or-less, time-to-make, course, ma...  "
            ]
          },
          "execution_count": 14,
          "metadata": {},
          "output_type": "execute_result"
        }
      ],
      "source": [
        "users_ds.head()"
      ]
    },
    {
      "cell_type": "markdown",
      "metadata": {
        "id": "O9knZ5NNC1C0"
      },
      "source": [
        "Looking that some of users don't have unliked_tags, so replace all Nan with empty arrays"
      ]
    },
    {
      "cell_type": "code",
      "execution_count": 15,
      "metadata": {
        "id": "eZUt0mAcDLVQ"
      },
      "outputs": [],
      "source": [
        "def unique_tags_in_list(tags_list):\n",
        "  if isinstance(tags_list, list):\n",
        "    unique_tags = []\n",
        "    for sublist in tags_list:\n",
        "      if isinstance(sublist, list):\n",
        "        for tag in sublist:\n",
        "          if tag not in unique_tags:\n",
        "            unique_tags.append(tag)\n",
        "    return unique_tags\n",
        "  else:\n",
        "    return []\n",
        "\n",
        "users_ds['liked_tags'] = users_ds['liked_tags'].apply(unique_tags_in_list)\n",
        "users_ds['unliked_tags'] = users_ds['unliked_tags'].apply(unique_tags_in_list)"
      ]
    },
    {
      "cell_type": "code",
      "execution_count": 16,
      "metadata": {
        "id": "OpuGJ1nTFoVR"
      },
      "outputs": [],
      "source": [
        "def remove_duplicate_tags(row):\n",
        "  liked_tags = set(row['liked_tags']) if isinstance(row['liked_tags'], list) else set()\n",
        "  unliked_tags = set(row['unliked_tags']) if isinstance(row['unliked_tags'], list) else set()\n",
        "  duplicate_tags = liked_tags.intersection(unliked_tags)\n",
        "  row['liked_tags'] = [tag for tag in row['liked_tags'] if tag not in duplicate_tags] if isinstance(row['liked_tags'], list) else []\n",
        "  row['unliked_tags'] = [tag for tag in row['unliked_tags'] if tag not in duplicate_tags] if isinstance(row['unliked_tags'], list) else []\n",
        "  return row\n",
        "\n",
        "users_ds = users_ds.apply(remove_duplicate_tags, axis=1)\n"
      ]
    },
    {
      "cell_type": "code",
      "execution_count": 17,
      "metadata": {
        "colab": {
          "base_uri": "https://localhost:8080/",
          "height": 206
        },
        "id": "9qRO0tcMF9-X",
        "outputId": "bdbccbcd-2a5f-48c4-a981-76a5231cc610"
      },
      "outputs": [
        {
          "data": {
            "text/html": [
              "<div>\n",
              "<style scoped>\n",
              "    .dataframe tbody tr th:only-of-type {\n",
              "        vertical-align: middle;\n",
              "    }\n",
              "\n",
              "    .dataframe tbody tr th {\n",
              "        vertical-align: top;\n",
              "    }\n",
              "\n",
              "    .dataframe thead th {\n",
              "        text-align: right;\n",
              "    }\n",
              "</style>\n",
              "<table border=\"1\" class=\"dataframe\">\n",
              "  <thead>\n",
              "    <tr style=\"text-align: right;\">\n",
              "      <th></th>\n",
              "      <th>user_id</th>\n",
              "      <th>liked_tags</th>\n",
              "      <th>unliked_tags</th>\n",
              "    </tr>\n",
              "  </thead>\n",
              "  <tbody>\n",
              "    <tr>\n",
              "      <th>0</th>\n",
              "      <td>38094</td>\n",
              "      <td>[weeknight, time-to-make, course, main-ingredi...</td>\n",
              "      <td>[]</td>\n",
              "    </tr>\n",
              "    <tr>\n",
              "      <th>1</th>\n",
              "      <td>1293707</td>\n",
              "      <td>[weeknight, soups-stews, beans, crock-pot-slow...</td>\n",
              "      <td>[cupcakes, finger-food, cakes, english, cake-f...</td>\n",
              "    </tr>\n",
              "    <tr>\n",
              "      <th>2</th>\n",
              "      <td>8937</td>\n",
              "      <td>[30-minutes-or-less, time-to-make, course, mai...</td>\n",
              "      <td>[]</td>\n",
              "    </tr>\n",
              "    <tr>\n",
              "      <th>3</th>\n",
              "      <td>126440</td>\n",
              "      <td>[15-minutes-or-less, 3-steps-or-less, jewish-s...</td>\n",
              "      <td>[]</td>\n",
              "    </tr>\n",
              "    <tr>\n",
              "      <th>4</th>\n",
              "      <td>57222</td>\n",
              "      <td>[condiments-etc, salads, beans, grains, south-...</td>\n",
              "      <td>[kwanzaa, dairy-free]</td>\n",
              "    </tr>\n",
              "  </tbody>\n",
              "</table>\n",
              "</div>"
            ],
            "text/plain": [
              "   user_id                                         liked_tags  \\\n",
              "0    38094  [weeknight, time-to-make, course, main-ingredi...   \n",
              "1  1293707  [weeknight, soups-stews, beans, crock-pot-slow...   \n",
              "2     8937  [30-minutes-or-less, time-to-make, course, mai...   \n",
              "3   126440  [15-minutes-or-less, 3-steps-or-less, jewish-s...   \n",
              "4    57222  [condiments-etc, salads, beans, grains, south-...   \n",
              "\n",
              "                                        unliked_tags  \n",
              "0                                                 []  \n",
              "1  [cupcakes, finger-food, cakes, english, cake-f...  \n",
              "2                                                 []  \n",
              "3                                                 []  \n",
              "4                              [kwanzaa, dairy-free]  "
            ]
          },
          "execution_count": 17,
          "metadata": {},
          "output_type": "execute_result"
        }
      ],
      "source": [
        "users_ds.head()"
      ]
    },
    {
      "cell_type": "code",
      "execution_count": 18,
      "metadata": {
        "id": "GjbluG3mGqXq"
      },
      "outputs": [],
      "source": [
        "interactions_with_recipe_info = pd.merge(interactions_with_recipe_info, users_ds, on='user_id', how='left')"
      ]
    },
    {
      "cell_type": "markdown",
      "metadata": {
        "id": "nzycE1Re7X9i"
      },
      "source": [
        "Creating datasets"
      ]
    },
    {
      "cell_type": "code",
      "execution_count": 19,
      "metadata": {},
      "outputs": [],
      "source": [
        "# Параметры\n",
        "MAX_TAG_LENGTH = 30\n",
        "PADDING_VALUE = \"empty\"\n",
        "\n",
        "interactions_with_recipe_info['liked_tags'] = [\n",
        "    (tags + [PADDING_VALUE] * (MAX_TAG_LENGTH - len(tags)))[:MAX_TAG_LENGTH] \n",
        "    for tags in interactions_with_recipe_info['liked_tags']\n",
        "]\n",
        "interactions_with_recipe_info['unliked_tags'] = [\n",
        "    (tags + [PADDING_VALUE] * (MAX_TAG_LENGTH - len(tags)))[:MAX_TAG_LENGTH] \n",
        "    for tags in interactions_with_recipe_info['unliked_tags']\n",
        "]\n",
        "interactions_with_recipe_info['ingredients_str'] =  [\n",
        "    (tags + [PADDING_VALUE] * (MAX_TAG_LENGTH - len(tags)))[:MAX_TAG_LENGTH] \n",
        "    for tags in interactions_with_recipe_info['ingredients_str'] ]\n",
        "\n",
        "interactions_with_recipe_info['tags_str'] =  [\n",
        "    (tags + [PADDING_VALUE] * (MAX_TAG_LENGTH - len(tags)))[:MAX_TAG_LENGTH] \n",
        "    for tags in interactions_with_recipe_info['tags_str'] ]\n",
        "\n",
        "raw_recipes['tags_str'] = [\n",
        "    (tags + [PADDING_VALUE] * (MAX_TAG_LENGTH - len(tags)))[:MAX_TAG_LENGTH] \n",
        "    for tags in raw_recipes['tags_str'] ]\n",
        "\n",
        "raw_recipes['ingredients_str'] = [\n",
        "    (tags + [PADDING_VALUE] * (MAX_TAG_LENGTH - len(tags)))[:MAX_TAG_LENGTH] \n",
        "    for tags in raw_recipes['ingredients_str'] ]"
      ]
    },
    {
      "cell_type": "code",
      "execution_count": 20,
      "metadata": {},
      "outputs": [
        {
          "data": {
            "text/plain": [
              "(array([30], dtype=int64), array([30], dtype=int64))"
            ]
          },
          "execution_count": 20,
          "metadata": {},
          "output_type": "execute_result"
        }
      ],
      "source": [
        "interactions_with_recipe_info['ingredients_str'].str.len().unique(), interactions_with_recipe_info['unliked_tags'].str.len().unique(), "
      ]
    },
    {
      "cell_type": "code",
      "execution_count": 21,
      "metadata": {
        "id": "aZMJRewvLYJb"
      },
      "outputs": [],
      "source": [
        "interactions_with_recipe_info['liked_tags_str'] = interactions_with_recipe_info['liked_tags'].apply(lambda x: ','.join(x))\n",
        "interactions_with_recipe_info['unliked_tags_str'] = interactions_with_recipe_info['unliked_tags'].apply(lambda x: ','.join(x))\n",
        "interactions_with_recipe_info['tags_str'] = interactions_with_recipe_info['tags_str'].apply(lambda x: ','.join(x))"
      ]
    },
    {
      "cell_type": "code",
      "execution_count": 22,
      "metadata": {
        "id": "2l72F9aCLw46"
      },
      "outputs": [],
      "source": [
        "def split_tags(tags_string):\n",
        "    return tf.strings.split(tf.strings.strip(tags_string), ',')"
      ]
    },
    {
      "cell_type": "code",
      "execution_count": 23,
      "metadata": {},
      "outputs": [
        {
          "name": "stdout",
          "output_type": "stream",
          "text": [
            "WARNING:tensorflow:From C:\\Users\\azdanevy\\AppData\\Local\\Temp\\ipykernel_17264\\1112888837.py:1: The name tf.enable_eager_execution is deprecated. Please use tf.compat.v1.enable_eager_execution instead.\n",
            "\n"
          ]
        }
      ],
      "source": [
        "tf.compat.v1.enable_eager_execution()"
      ]
    },
    {
      "cell_type": "code",
      "execution_count": 24,
      "metadata": {
        "id": "1QwBdlgU7Xms"
      },
      "outputs": [],
      "source": [
        "def squeeze_tags(data):\n",
        "    return {\n",
        "        \"user_id\": data[\"user_id\"],\n",
        "        \"recipe_id\": data[\"recipe_id\"],\n",
        "        \"rating\": data[\"rating\"],\n",
        "        \"recipe_name\": data[\"recipe_name\"],\n",
        "        \"tags\": tf.squeeze(data[\"tags\"], axis=0),  # Укажите ось, которую нужно удалить\n",
        "        \"liked_tags\": tf.squeeze(data[\"liked_tags\"], axis=0),  # Укажите ось, которую нужно удалить\n",
        "        \"unliked_tags\": tf.squeeze(data[\"unliked_tags\"], axis=0)  # Укажите ось, которую нужно удалить\n",
        "    }\n",
        "\n",
        "ratings = tf.data.Dataset.from_tensor_slices((tf.cast(interactions_with_recipe_info['user_id'].values, tf.string),\n",
        "                                              tf.cast(interactions_with_recipe_info['recipe_id'].values, tf.string),\n",
        "                                              tf.cast(interactions_with_recipe_info['rating'].values, tf.float32),\n",
        "                                              tf.cast(interactions_with_recipe_info['recipe_name'].values, tf.string),\n",
        "                                              tf.cast(interactions_with_recipe_info['tags_str'].values.reshape(-1,1), tf.string),\n",
        "                                              tf.cast(interactions_with_recipe_info['liked_tags_str'].values.reshape(-1,1), tf.string),\n",
        "                                              tf.cast(interactions_with_recipe_info['unliked_tags_str'].values.reshape(-1,1), tf.string)\n",
        "                                              )).map(lambda x, x1, x2, x3, x4, x5, x6: {\n",
        "                                                  \"user_id\": x,\n",
        "                                                  \"recipe_id\": x1,\n",
        "                                                  \"rating\": x2,\n",
        "                                                  \"recipe_name\": x3,\n",
        "                                                  \"tags\": split_tags(x4),\n",
        "                                                  \"liked_tags\": split_tags(x5),\n",
        "                                                  \"unliked_tags\": split_tags(x6)\n",
        "                                              }).map(squeeze_tags)\n"
      ]
    },
    {
      "cell_type": "code",
      "execution_count": 25,
      "metadata": {},
      "outputs": [
        {
          "name": "stdout",
          "output_type": "stream",
          "text": [
            "{'user_id': b'38094', 'recipe_id': b'40893', 'rating': 4.0, 'recipe_name': b'white bean   green chile pepper soup', 'tags': array([b'weeknight', b'time-to-make', b'course', b'main-ingredient',\n",
            "       b'preparation', b'occasion', b'soups-stews', b'beans',\n",
            "       b'vegetables', b'easy', b'crock-pot-slow-cooker', b'dietary',\n",
            "       b'equipment', b'empty', b'empty', b'empty', b'empty', b'empty',\n",
            "       b'empty', b'empty', b'empty', b'empty', b'empty', b'empty',\n",
            "       b'empty', b'empty', b'empty', b'empty', b'empty', b'empty'],\n",
            "      dtype=object), 'liked_tags': array([b'weeknight', b'time-to-make', b'course', b'main-ingredient',\n",
            "       b'preparation', b'occasion', b'soups-stews', b'beans',\n",
            "       b'vegetables', b'easy', b'crock-pot-slow-cooker', b'dietary',\n",
            "       b'equipment', b'60-minutes-or-less', b'main-dish', b'fruit',\n",
            "       b'vegan', b'vegetarian', b'stove-top', b'black-beans',\n",
            "       b'30-minutes-or-less', b'low-protein', b'salads', b'dinner-party',\n",
            "       b'low-cholesterol', b'low-carb', b'healthy-2', b'low-in-something',\n",
            "       b'for-1-or-2', b'side-dishes'], dtype=object), 'unliked_tags': array([b'empty', b'empty', b'empty', b'empty', b'empty', b'empty',\n",
            "       b'empty', b'empty', b'empty', b'empty', b'empty', b'empty',\n",
            "       b'empty', b'empty', b'empty', b'empty', b'empty', b'empty',\n",
            "       b'empty', b'empty', b'empty', b'empty', b'empty', b'empty',\n",
            "       b'empty', b'empty', b'empty', b'empty', b'empty', b'empty'],\n",
            "      dtype=object)}\n"
          ]
        }
      ],
      "source": [
        "for data in ratings.take(1).as_numpy_iterator():\n",
        "    print(data)"
      ]
    },
    {
      "cell_type": "code",
      "execution_count": 26,
      "metadata": {
        "id": "8MS4nMhHMDgp"
      },
      "outputs": [],
      "source": [
        "raw_recipes['ingredients_str'] = raw_recipes['ingredients_str'].apply(lambda x: ','.join(x))\n",
        "raw_recipes['tags_str'] = raw_recipes['tags_str'].apply(lambda x: ','.join(x))"
      ]
    },
    {
      "cell_type": "code",
      "execution_count": 27,
      "metadata": {
        "colab": {
          "base_uri": "https://localhost:8080/",
          "height": 293
        },
        "id": "rqtiorEQMH8R",
        "outputId": "0cb1b61d-3171-4534-ec3b-1a6d617531ed"
      },
      "outputs": [
        {
          "data": {
            "text/html": [
              "<div>\n",
              "<style scoped>\n",
              "    .dataframe tbody tr th:only-of-type {\n",
              "        vertical-align: middle;\n",
              "    }\n",
              "\n",
              "    .dataframe tbody tr th {\n",
              "        vertical-align: top;\n",
              "    }\n",
              "\n",
              "    .dataframe thead th {\n",
              "        text-align: right;\n",
              "    }\n",
              "</style>\n",
              "<table border=\"1\" class=\"dataframe\">\n",
              "  <thead>\n",
              "    <tr style=\"text-align: right;\">\n",
              "      <th></th>\n",
              "      <th>name</th>\n",
              "      <th>id</th>\n",
              "      <th>minutes</th>\n",
              "      <th>contributor_id</th>\n",
              "      <th>submitted</th>\n",
              "      <th>tags</th>\n",
              "      <th>nutrition</th>\n",
              "      <th>n_steps</th>\n",
              "      <th>steps</th>\n",
              "      <th>description</th>\n",
              "      <th>ingredients</th>\n",
              "      <th>n_ingredients</th>\n",
              "      <th>ingredients_str</th>\n",
              "      <th>tags_str</th>\n",
              "    </tr>\n",
              "  </thead>\n",
              "  <tbody>\n",
              "    <tr>\n",
              "      <th>0</th>\n",
              "      <td>arriba   baked winter squash mexican style</td>\n",
              "      <td>137739</td>\n",
              "      <td>55</td>\n",
              "      <td>47892</td>\n",
              "      <td>2005-09-16</td>\n",
              "      <td>['60-minutes-or-less', 'time-to-make', 'course...</td>\n",
              "      <td>[51.5, 0.0, 13.0, 0.0, 2.0, 0.0, 4.0]</td>\n",
              "      <td>11</td>\n",
              "      <td>['make a choice and proceed with recipe', 'dep...</td>\n",
              "      <td>autumn is my favorite time of year to cook! th...</td>\n",
              "      <td>['winter squash', 'mexican seasoning', 'mixed ...</td>\n",
              "      <td>7</td>\n",
              "      <td>winter squash,mexican seasoning,mixed spice,ho...</td>\n",
              "      <td>60-minutes-or-less,time-to-make,course,main-in...</td>\n",
              "    </tr>\n",
              "    <tr>\n",
              "      <th>1</th>\n",
              "      <td>a bit different  breakfast pizza</td>\n",
              "      <td>31490</td>\n",
              "      <td>30</td>\n",
              "      <td>26278</td>\n",
              "      <td>2002-06-17</td>\n",
              "      <td>['30-minutes-or-less', 'time-to-make', 'course...</td>\n",
              "      <td>[173.4, 18.0, 0.0, 17.0, 22.0, 35.0, 1.0]</td>\n",
              "      <td>9</td>\n",
              "      <td>['preheat oven to 425 degrees f', 'press dough...</td>\n",
              "      <td>this recipe calls for the crust to be prebaked...</td>\n",
              "      <td>['prepared pizza crust', 'sausage patty', 'egg...</td>\n",
              "      <td>6</td>\n",
              "      <td>prepared pizza crust,sausage patty,eggs,milk,s...</td>\n",
              "      <td>30-minutes-or-less,time-to-make,course,main-in...</td>\n",
              "    </tr>\n",
              "    <tr>\n",
              "      <th>2</th>\n",
              "      <td>all in the kitchen  chili</td>\n",
              "      <td>112140</td>\n",
              "      <td>130</td>\n",
              "      <td>196586</td>\n",
              "      <td>2005-02-25</td>\n",
              "      <td>['time-to-make', 'course', 'preparation', 'mai...</td>\n",
              "      <td>[269.8, 22.0, 32.0, 48.0, 39.0, 27.0, 5.0]</td>\n",
              "      <td>6</td>\n",
              "      <td>['brown ground beef in large pot', 'add choppe...</td>\n",
              "      <td>this modified version of 'mom's' chili was a h...</td>\n",
              "      <td>['ground beef', 'yellow onions', 'diced tomato...</td>\n",
              "      <td>13</td>\n",
              "      <td>ground beef,yellow onions,diced tomatoes,tomat...</td>\n",
              "      <td>time-to-make,course,preparation,main-dish,chil...</td>\n",
              "    </tr>\n",
              "    <tr>\n",
              "      <th>3</th>\n",
              "      <td>alouette  potatoes</td>\n",
              "      <td>59389</td>\n",
              "      <td>45</td>\n",
              "      <td>68585</td>\n",
              "      <td>2003-04-14</td>\n",
              "      <td>['60-minutes-or-less', 'time-to-make', 'course...</td>\n",
              "      <td>[368.1, 17.0, 10.0, 2.0, 14.0, 8.0, 20.0]</td>\n",
              "      <td>11</td>\n",
              "      <td>['place potatoes in a large pot of lightly sal...</td>\n",
              "      <td>this is a super easy, great tasting, make ahea...</td>\n",
              "      <td>['spreadable cheese with garlic and herbs', 'n...</td>\n",
              "      <td>11</td>\n",
              "      <td>spreadable cheese with garlic and herbs,new po...</td>\n",
              "      <td>60-minutes-or-less,time-to-make,course,main-in...</td>\n",
              "    </tr>\n",
              "    <tr>\n",
              "      <th>4</th>\n",
              "      <td>amish  tomato ketchup  for canning</td>\n",
              "      <td>44061</td>\n",
              "      <td>190</td>\n",
              "      <td>41706</td>\n",
              "      <td>2002-10-25</td>\n",
              "      <td>['weeknight', 'time-to-make', 'course', 'main-...</td>\n",
              "      <td>[352.9, 1.0, 337.0, 23.0, 3.0, 0.0, 28.0]</td>\n",
              "      <td>5</td>\n",
              "      <td>['mix all ingredients&amp; boil for 2 1 / 2 hours ...</td>\n",
              "      <td>my dh's amish mother raised him on this recipe...</td>\n",
              "      <td>['tomato juice', 'apple cider vinegar', 'sugar...</td>\n",
              "      <td>8</td>\n",
              "      <td>tomato juice,apple cider vinegar,sugar,salt,pe...</td>\n",
              "      <td>weeknight,time-to-make,course,main-ingredient,...</td>\n",
              "    </tr>\n",
              "  </tbody>\n",
              "</table>\n",
              "</div>"
            ],
            "text/plain": [
              "                                         name      id  minutes  \\\n",
              "0  arriba   baked winter squash mexican style  137739       55   \n",
              "1            a bit different  breakfast pizza   31490       30   \n",
              "2                   all in the kitchen  chili  112140      130   \n",
              "3                          alouette  potatoes   59389       45   \n",
              "4          amish  tomato ketchup  for canning   44061      190   \n",
              "\n",
              "   contributor_id   submitted  \\\n",
              "0           47892  2005-09-16   \n",
              "1           26278  2002-06-17   \n",
              "2          196586  2005-02-25   \n",
              "3           68585  2003-04-14   \n",
              "4           41706  2002-10-25   \n",
              "\n",
              "                                                tags  \\\n",
              "0  ['60-minutes-or-less', 'time-to-make', 'course...   \n",
              "1  ['30-minutes-or-less', 'time-to-make', 'course...   \n",
              "2  ['time-to-make', 'course', 'preparation', 'mai...   \n",
              "3  ['60-minutes-or-less', 'time-to-make', 'course...   \n",
              "4  ['weeknight', 'time-to-make', 'course', 'main-...   \n",
              "\n",
              "                                    nutrition  n_steps  \\\n",
              "0       [51.5, 0.0, 13.0, 0.0, 2.0, 0.0, 4.0]       11   \n",
              "1   [173.4, 18.0, 0.0, 17.0, 22.0, 35.0, 1.0]        9   \n",
              "2  [269.8, 22.0, 32.0, 48.0, 39.0, 27.0, 5.0]        6   \n",
              "3   [368.1, 17.0, 10.0, 2.0, 14.0, 8.0, 20.0]       11   \n",
              "4   [352.9, 1.0, 337.0, 23.0, 3.0, 0.0, 28.0]        5   \n",
              "\n",
              "                                               steps  \\\n",
              "0  ['make a choice and proceed with recipe', 'dep...   \n",
              "1  ['preheat oven to 425 degrees f', 'press dough...   \n",
              "2  ['brown ground beef in large pot', 'add choppe...   \n",
              "3  ['place potatoes in a large pot of lightly sal...   \n",
              "4  ['mix all ingredients& boil for 2 1 / 2 hours ...   \n",
              "\n",
              "                                         description  \\\n",
              "0  autumn is my favorite time of year to cook! th...   \n",
              "1  this recipe calls for the crust to be prebaked...   \n",
              "2  this modified version of 'mom's' chili was a h...   \n",
              "3  this is a super easy, great tasting, make ahea...   \n",
              "4  my dh's amish mother raised him on this recipe...   \n",
              "\n",
              "                                         ingredients  n_ingredients  \\\n",
              "0  ['winter squash', 'mexican seasoning', 'mixed ...              7   \n",
              "1  ['prepared pizza crust', 'sausage patty', 'egg...              6   \n",
              "2  ['ground beef', 'yellow onions', 'diced tomato...             13   \n",
              "3  ['spreadable cheese with garlic and herbs', 'n...             11   \n",
              "4  ['tomato juice', 'apple cider vinegar', 'sugar...              8   \n",
              "\n",
              "                                     ingredients_str  \\\n",
              "0  winter squash,mexican seasoning,mixed spice,ho...   \n",
              "1  prepared pizza crust,sausage patty,eggs,milk,s...   \n",
              "2  ground beef,yellow onions,diced tomatoes,tomat...   \n",
              "3  spreadable cheese with garlic and herbs,new po...   \n",
              "4  tomato juice,apple cider vinegar,sugar,salt,pe...   \n",
              "\n",
              "                                            tags_str  \n",
              "0  60-minutes-or-less,time-to-make,course,main-in...  \n",
              "1  30-minutes-or-less,time-to-make,course,main-in...  \n",
              "2  time-to-make,course,preparation,main-dish,chil...  \n",
              "3  60-minutes-or-less,time-to-make,course,main-in...  \n",
              "4  weeknight,time-to-make,course,main-ingredient,...  "
            ]
          },
          "execution_count": 27,
          "metadata": {},
          "output_type": "execute_result"
        }
      ],
      "source": [
        "raw_recipes.head()"
      ]
    },
    {
      "cell_type": "code",
      "execution_count": 28,
      "metadata": {
        "id": "i8HzpEQW_YZw"
      },
      "outputs": [],
      "source": [
        "raw_recipes['id'] = raw_recipes.id.astype(\"str\")\n",
        "raw_recipes['name'] = raw_recipes.name.astype(\"str\")\n",
        "raw_recipes['tags'] = raw_recipes.tags.astype(\"str\")\n",
        "raw_recipes['ingredients'] = raw_recipes.ingredients.astype(\"str\")"
      ]
    },
    {
      "cell_type": "code",
      "execution_count": 29,
      "metadata": {},
      "outputs": [
        {
          "data": {
            "text/plain": [
              "0    arriba   baked winter squash mexican style\n",
              "Name: name, dtype: object"
            ]
          },
          "execution_count": 29,
          "metadata": {},
          "output_type": "execute_result"
        }
      ],
      "source": [
        "raw_recipes['name'][:1]"
      ]
    },
    {
      "cell_type": "code",
      "execution_count": 31,
      "metadata": {
        "colab": {
          "base_uri": "https://localhost:8080/"
        },
        "id": "PvNaaXXCPzK2",
        "outputId": "d096fdf6-825f-4105-b630-1f8c0d177652"
      },
      "outputs": [],
      "source": [
        "# prompt: Создай на основе raw_recipes датасет, но учти что ingredients_str это массив\n",
        "\n",
        "recipes = tf.data.Dataset.from_tensor_slices((tf.cast(raw_recipes['id'].values, tf.string),\n",
        "                                              tf.cast(raw_recipes['name'].values, tf.string),\n",
        "                                              tf.cast(raw_recipes['tags_str'].values.reshape(-1, 1), tf.string)\n",
        "                                            #   tf.cast(raw_recipes['ingredients_str'].values.reshape(-1, 1), tf.string),\n",
        "                                              )\n",
        "                                             ).map(lambda x, x1, x2: {\n",
        "                                                  \"recipe_id\": x,\n",
        "                                                  \"recipe_name\": x1,\n",
        "                                                  \"tags\": split_tags(x2),\n",
        "                                                #   \"ingredients\": split_tags(x3)\n",
        "                                              }).map(lambda data: {\n",
        "        **data,\n",
        "        \"tags\": tf.squeeze(data[\"tags\"], axis=0)  # Удаляем дополнительные измерения\n",
        "        # \"ingredients\": tf.squeeze(data[\"ingredients\"], axis=0)  # Удаляем дополнительные измерения\n",
        "    })\n",
        "\n"
      ]
    },
    {
      "cell_type": "code",
      "execution_count": 32,
      "metadata": {},
      "outputs": [
        {
          "name": "stdout",
          "output_type": "stream",
          "text": [
            "[30]\n"
          ]
        }
      ],
      "source": [
        "sizes = []\n",
        "for data in recipes.as_numpy_iterator():\n",
        "  sizes.append(len(data[\"tags\"]))\n",
        "print(np.unique(sizes))  "
      ]
    },
    {
      "cell_type": "code",
      "execution_count": 33,
      "metadata": {
        "id": "jxTLSUjNgCLs"
      },
      "outputs": [],
      "source": [
        "recipe_names = tf.data.Dataset.from_tensor_slices((tf.cast(raw_recipes['name'].values.reshape(-1, 1), tf.string))).map(lambda x: x)"
      ]
    },
    {
      "cell_type": "markdown",
      "metadata": {
        "id": "3L-UtJ6K5N2B"
      },
      "source": [
        "# Towers 🗼"
      ]
    },
    {
      "cell_type": "markdown",
      "metadata": {
        "id": "oWGCI8IYBx3Z"
      },
      "source": [
        "For our towers set dimensionality of the query and candidate representations: **32**. Higher values will correspond to models that may be more accurate, but will also be slower to fit and more prone to overfitting."
      ]
    },
    {
      "cell_type": "code",
      "execution_count": 34,
      "metadata": {
        "id": "8H35ROAtB2L2"
      },
      "outputs": [],
      "source": [
        "embedding_dimension = 32"
      ]
    },
    {
      "cell_type": "markdown",
      "metadata": {
        "id": "UGLl4NdNBHoH"
      },
      "source": [
        "## User tower 👷"
      ]
    },
    {
      "cell_type": "markdown",
      "metadata": {
        "id": "S_w7g9Se6Lk_"
      },
      "source": [
        "Lets start creating our towers with User towers. We will compute by:\n",
        "1. User id\n",
        "2. Prefers and hates"
      ]
    },
    {
      "cell_type": "markdown",
      "metadata": {
        "id": "O0pr_riLBCKa"
      },
      "source": [
        "### User ID model"
      ]
    },
    {
      "cell_type": "code",
      "execution_count": 35,
      "metadata": {
        "colab": {
          "base_uri": "https://localhost:8080/"
        },
        "id": "IVERCEAMPPbE",
        "outputId": "e2631cda-7833-44b7-b005-542bb5f24933"
      },
      "outputs": [
        {
          "data": {
            "text/plain": [
              "array(['38094', '1293707', '8937', '126440', '57222', '52282', '124416',\n",
              "       '2000192946', '76535', '273745'], dtype=object)"
            ]
          },
          "execution_count": 35,
          "metadata": {},
          "output_type": "execute_result"
        }
      ],
      "source": [
        "unique_user_ids = users_ds[\"user_id\"].unique()\n",
        "unique_user_ids[:10]"
      ]
    },
    {
      "cell_type": "code",
      "execution_count": 36,
      "metadata": {
        "id": "4DU-YbghCPJx"
      },
      "outputs": [
        {
          "name": "stdout",
          "output_type": "stream",
          "text": [
            "WARNING:tensorflow:From C:\\Users\\azdanevy\\AppData\\Roaming\\Python\\Python310\\site-packages\\keras\\src\\backend.py:873: The name tf.get_default_graph is deprecated. Please use tf.compat.v1.get_default_graph instead.\n",
            "\n"
          ]
        }
      ],
      "source": [
        "user_id_model = tf.keras.Sequential([\n",
        "  tf.keras.layers.StringLookup(\n",
        "      vocabulary=unique_user_ids, mask_token=None),\n",
        "  # We add an additional embedding to account for unknown tokens.\n",
        "  tf.keras.layers.Embedding(len(unique_user_ids)+1, embedding_dimension)\n",
        "])"
      ]
    },
    {
      "cell_type": "markdown",
      "metadata": {
        "id": "Q6e5kR2_MsOh"
      },
      "source": [
        "### User Prefers models"
      ]
    },
    {
      "cell_type": "code",
      "execution_count": 37,
      "metadata": {
        "id": "EOzP-NwLMvZI"
      },
      "outputs": [],
      "source": [
        "# prompt: модель для liked_tags которым стоит отдать предпочтение, но учти что liked_tags в датасете это массив\n",
        "\n",
        "unique_liked_tags = set()\n",
        "for tags in users_ds['liked_tags']:\n",
        "  if isinstance(tags, list):\n",
        "    for tag in tags:\n",
        "      unique_liked_tags.add(tag)\n",
        "unique_liked_tags = list(unique_liked_tags)\n",
        "\n",
        "liked_tags_model = tf.keras.Sequential([\n",
        "  tf.keras.layers.StringLookup(\n",
        "      vocabulary=unique_liked_tags, mask_token=None),\n",
        "  tf.keras.layers.Embedding(len(unique_liked_tags) + 1, embedding_dimension)\n",
        "])\n"
      ]
    },
    {
      "cell_type": "code",
      "execution_count": 38,
      "metadata": {
        "colab": {
          "base_uri": "https://localhost:8080/"
        },
        "id": "K_uNmQ2yREWq",
        "outputId": "6221b14d-1fcf-4517-ed41-f13c56f83186"
      },
      "outputs": [
        {
          "data": {
            "text/plain": [
              "['',\n",
              " 'whole-turkey',\n",
              " 'puddings-and-mousses',\n",
              " 'cocktails',\n",
              " 'pumpkin-bread',\n",
              " 'vegetables',\n",
              " 'bear',\n",
              " 'cuban',\n",
              " 'saltwater-fish',\n",
              " 'ham-and-bean-soup']"
            ]
          },
          "execution_count": 38,
          "metadata": {},
          "output_type": "execute_result"
        }
      ],
      "source": [
        "unique_liked_tags[:10]"
      ]
    },
    {
      "cell_type": "code",
      "execution_count": 39,
      "metadata": {
        "colab": {
          "base_uri": "https://localhost:8080/"
        },
        "id": "W4vprrUvRb3Y",
        "outputId": "3aa5cd85-e456-4cef-9b17-c8e0d4221dce"
      },
      "outputs": [
        {
          "data": {
            "text/plain": [
              "['',\n",
              " 'whole-turkey',\n",
              " 'puddings-and-mousses',\n",
              " 'cocktails',\n",
              " 'pumpkin-bread',\n",
              " 'vegetables',\n",
              " 'bear',\n",
              " 'cuban',\n",
              " 'saltwater-fish',\n",
              " 'freezer']"
            ]
          },
          "execution_count": 39,
          "metadata": {},
          "output_type": "execute_result"
        }
      ],
      "source": [
        "\n",
        "unique_unliked_tags = set()\n",
        "for tags in users_ds['unliked_tags']:\n",
        "  if isinstance(tags, list):\n",
        "    for tag in tags:\n",
        "      unique_unliked_tags.add(tag)\n",
        "unique_unliked_tags = list(unique_unliked_tags)\n",
        "\n",
        "unliked_tags_model = tf.keras.Sequential([\n",
        "  tf.keras.layers.StringLookup(\n",
        "      vocabulary=unique_unliked_tags, mask_token=None),\n",
        "  tf.keras.layers.Embedding(len(unique_unliked_tags) + 1, embedding_dimension)\n",
        "])\n",
        "unique_unliked_tags[:10]"
      ]
    },
    {
      "cell_type": "markdown",
      "metadata": {
        "id": "5Zt9V_nAHMqp"
      },
      "source": [
        "## Recipe tower 🌭"
      ]
    },
    {
      "cell_type": "code",
      "execution_count": 55,
      "metadata": {
        "colab": {
          "base_uri": "https://localhost:8080/"
        },
        "id": "e3zzDVmWJmSA",
        "outputId": "2b48e837-bb5f-4670-b353-bb91770413dd"
      },
      "outputs": [
        {
          "data": {
            "text/plain": [
              "<tf.Tensor: shape=(10, 32), dtype=float32, numpy=\n",
              "array([[ 0.0472048 ,  0.01294236,  0.00443701,  0.03320727,  0.03093543,\n",
              "        -0.00575296, -0.00971135, -0.00443405, -0.0112393 ,  0.04181773,\n",
              "        -0.01955422, -0.02848119,  0.02421819,  0.00236275, -0.04367229,\n",
              "        -0.0098153 ,  0.02960339, -0.02839004,  0.04600623, -0.00764652,\n",
              "        -0.03071568,  0.04263257,  0.03541404,  0.00306255,  0.02307874,\n",
              "        -0.03934962,  0.02299384,  0.02980052, -0.01855361, -0.04155486,\n",
              "         0.00100814, -0.00252416],\n",
              "       [ 0.01989014,  0.02301419, -0.03366714, -0.01993567, -0.02033699,\n",
              "         0.02615819,  0.04491473,  0.01740885,  0.02885518,  0.04962257,\n",
              "        -0.01450702, -0.03947305,  0.03339407, -0.00873897,  0.00290372,\n",
              "        -0.00048428, -0.02043494, -0.02024843, -0.01525304,  0.00413046,\n",
              "        -0.01673555,  0.0418126 ,  0.0454229 ,  0.04387082,  0.00041959,\n",
              "        -0.0122963 , -0.00599637,  0.00350878, -0.01531995,  0.03534785,\n",
              "        -0.0450451 , -0.04944437],\n",
              "       [-0.01000217, -0.0424719 ,  0.04337222,  0.01026745,  0.04352896,\n",
              "        -0.04590815,  0.01492169,  0.04421988,  0.0141268 , -0.03870596,\n",
              "        -0.04210533, -0.01787201,  0.04730595,  0.02792821,  0.04009768,\n",
              "        -0.01404878, -0.01420737, -0.00453409, -0.0029332 ,  0.04055314,\n",
              "         0.01325703, -0.03883804, -0.00207055,  0.01047994,  0.00533245,\n",
              "        -0.04806196,  0.03144829, -0.02866651, -0.04859233, -0.02246957,\n",
              "        -0.02687503, -0.03258748],\n",
              "       [-0.04622108,  0.00205327,  0.0176116 ,  0.03299816,  0.02215802,\n",
              "        -0.04570662, -0.04475556,  0.04511006, -0.00420271, -0.02689558,\n",
              "        -0.02086307, -0.01168637, -0.03467325, -0.02322017,  0.00868604,\n",
              "        -0.02179492, -0.03926872, -0.03530134, -0.04330268, -0.03703554,\n",
              "        -0.01895347,  0.04311256, -0.03302778, -0.03781233,  0.00335537,\n",
              "         0.043346  ,  0.01309418, -0.04484894,  0.01519037,  0.00418793,\n",
              "        -0.03156854, -0.02589481],\n",
              "       [ 0.01921922, -0.00578479, -0.01638583,  0.00713756,  0.02614448,\n",
              "        -0.02435927, -0.00906394,  0.01234357, -0.03581778,  0.00438938,\n",
              "         0.00799844,  0.04182043,  0.00174289,  0.03923074,  0.00928224,\n",
              "         0.0125958 , -0.00179919,  0.02725935, -0.03133783, -0.01649933,\n",
              "        -0.00935564, -0.04187346, -0.0300294 , -0.03820657,  0.04615797,\n",
              "        -0.00231045, -0.00559852,  0.01349412, -0.02586491,  0.04012711,\n",
              "         0.03860167, -0.00017433],\n",
              "       [-0.01526431,  0.02076541,  0.00251851, -0.02231395,  0.0132505 ,\n",
              "        -0.03203666,  0.04993303, -0.03137226,  0.011677  , -0.02190849,\n",
              "        -0.04730686, -0.0476104 , -0.01371323,  0.00524385, -0.04395645,\n",
              "         0.01345335, -0.0324571 ,  0.02627582, -0.00615252,  0.02061141,\n",
              "         0.01891737, -0.00816373,  0.0067175 ,  0.01533541, -0.01275215,\n",
              "        -0.03035033,  0.01472812, -0.02087714,  0.0262967 , -0.00573945,\n",
              "         0.02593741, -0.00139477],\n",
              "       [-0.03398945, -0.04694104, -0.02917484, -0.00621042,  0.00414866,\n",
              "        -0.03419787, -0.03829732,  0.0145431 ,  0.03184618, -0.00653479,\n",
              "         0.00176755, -0.0422852 ,  0.04239691, -0.02550103,  0.03635085,\n",
              "         0.01114085,  0.00181792, -0.04193347,  0.03378459, -0.00370628,\n",
              "        -0.03990771,  0.02019533,  0.01449733,  0.04567809, -0.01688028,\n",
              "         0.02610717,  0.04449866,  0.03917867, -0.03857227, -0.01863079,\n",
              "         0.04150439, -0.00922059],\n",
              "       [ 0.02787575,  0.01852917,  0.02302411, -0.00084051,  0.00269344,\n",
              "         0.04700947,  0.02695761,  0.03654237,  0.02639666, -0.02149694,\n",
              "        -0.02964303, -0.01900816, -0.01151571, -0.02148631,  0.00527141,\n",
              "         0.04715648, -0.01013876, -0.01925367,  0.01474055, -0.02720192,\n",
              "        -0.01589614,  0.0445945 , -0.02156718,  0.03790262,  0.02888956,\n",
              "        -0.02230227, -0.01150827,  0.0352556 , -0.00806768,  0.03617566,\n",
              "        -0.03733169, -0.00381313],\n",
              "       [-0.02457612,  0.03562063,  0.03617373,  0.02652465,  0.04903017,\n",
              "         0.00506499, -0.01527758,  0.01288238,  0.041223  , -0.01466613,\n",
              "         0.02915983,  0.03477439, -0.0492492 ,  0.00046583, -0.04263691,\n",
              "         0.04139522, -0.03326607,  0.03181719,  0.02755392, -0.02852844,\n",
              "         0.02088392,  0.01245862, -0.01536993, -0.04821267,  0.00531945,\n",
              "         0.04582364, -0.02869856,  0.01540513,  0.0135311 ,  0.04974799,\n",
              "         0.04083034, -0.02012068],\n",
              "       [ 0.04197529,  0.02544988,  0.02193682, -0.00788482, -0.04150065,\n",
              "        -0.01848679, -0.02955371,  0.00034143, -0.01926086,  0.01544496,\n",
              "        -0.03298908,  0.0269911 , -0.01503036, -0.01015772, -0.03841891,\n",
              "        -0.02864692,  0.04011322, -0.00187866, -0.03030119, -0.04682754,\n",
              "        -0.02620888, -0.02803755,  0.04669808, -0.03155227,  0.04969951,\n",
              "         0.04701896, -0.02599002, -0.00131281,  0.00859142, -0.04643659,\n",
              "         0.03715882, -0.02024489]], dtype=float32)>"
            ]
          },
          "execution_count": 55,
          "metadata": {},
          "output_type": "execute_result"
        }
      ],
      "source": [
        "unique_recipe_names = np.unique(list(raw_recipes[\"name\"].unique()))\n",
        "recipe_name_model = tf.keras.Sequential([\n",
        "  tf.keras.layers.StringLookup(\n",
        "      vocabulary=unique_recipe_names, mask_token=None),\n",
        "  # We add an additional embedding to account for unknown tokens.\n",
        "  tf.keras.layers.Embedding(len(unique_recipe_names) + 1, embedding_dimension)\n",
        "])\n",
        "unique_recipe_names[:10]"
      ]
    },
    {
      "cell_type": "code",
      "execution_count": 41,
      "metadata": {
        "colab": {
          "base_uri": "https://localhost:8080/"
        },
        "id": "h8rZOklso4NX",
        "outputId": "64110b89-9f3f-4cce-e81e-95939b66d3f9"
      },
      "outputs": [
        {
          "name": "stdout",
          "output_type": "stream",
          "text": [
            "WARNING:tensorflow:From C:\\Users\\azdanevy\\AppData\\Roaming\\Python\\Python310\\site-packages\\keras\\src\\utils\\tf_utils.py:492: The name tf.ragged.RaggedTensorValue is deprecated. Please use tf.compat.v1.ragged.RaggedTensorValue instead.\n",
            "\n"
          ]
        },
        {
          "data": {
            "text/plain": [
              "<tf.Tensor: shape=(1, 32), dtype=float32, numpy=\n",
              "array([[-0.01512814,  0.00578652, -0.02536417,  0.01278904, -0.02616717,\n",
              "         0.04773802, -0.02358906, -0.00427809, -0.00764314,  0.0321222 ,\n",
              "        -0.0138072 ,  0.04330536, -0.02166371, -0.02522388, -0.02843325,\n",
              "        -0.02910688, -0.04606888,  0.02071381, -0.04990273,  0.00213184,\n",
              "         0.04562029, -0.03151394,  0.03627158, -0.0352541 ,  0.0396946 ,\n",
              "        -0.0235576 , -0.01854372, -0.04658786, -0.01251549,  0.04925865,\n",
              "        -0.02487599, -0.03450589]], dtype=float32)>"
            ]
          },
          "execution_count": 41,
          "metadata": {},
          "output_type": "execute_result"
        }
      ],
      "source": [
        "# prompt: напиши вызов recipe_name_model\n",
        "\n",
        "recipe_name_model(['some recipe name'])\n"
      ]
    },
    {
      "cell_type": "markdown",
      "metadata": {
        "id": "q2VwZxnOCg9F"
      },
      "source": [
        "### Recipe ingredient&tag model"
      ]
    },
    {
      "cell_type": "code",
      "execution_count": 56,
      "metadata": {
        "colab": {
          "base_uri": "https://localhost:8080/"
        },
        "id": "QqUQ43gVQIUp",
        "outputId": "49f54edf-1d29-4efc-e338-84c05a6f7e16"
      },
      "outputs": [
        {
          "data": {
            "text/plain": [
              "<tf.Tensor: shape=(10, 32), dtype=float32, numpy=\n",
              "array([[ 4.87420000e-02,  4.77958806e-02, -8.03662464e-03,\n",
              "        -2.93976795e-02, -4.12520058e-02,  1.25867613e-02,\n",
              "        -1.12114921e-02,  4.56080474e-02, -4.02108915e-02,\n",
              "         4.72535156e-02, -1.00573897e-02, -4.15225402e-02,\n",
              "        -2.64863018e-02, -4.40023653e-02,  2.14552395e-02,\n",
              "        -2.47882679e-03, -3.11393142e-02,  4.25396115e-03,\n",
              "         2.97096111e-02,  4.14888933e-03, -5.62032312e-03,\n",
              "         1.54796280e-02, -1.90889481e-02, -1.47879720e-02,\n",
              "         2.11942680e-02,  1.29952095e-02,  3.20545323e-02,\n",
              "         3.85669507e-02, -8.96073505e-03, -1.79054849e-02,\n",
              "        -7.65532255e-03,  1.17259137e-02],\n",
              "       [ 3.25552486e-02,  7.96619803e-03, -1.23373643e-02,\n",
              "         2.05368660e-02, -4.82404009e-02,  1.09242797e-02,\n",
              "         3.83428819e-02, -1.62575841e-02, -1.55601278e-02,\n",
              "         3.20783295e-02,  1.02849007e-02,  4.92631532e-02,\n",
              "        -6.01029396e-03, -3.65650170e-02, -3.61375436e-02,\n",
              "        -5.90885803e-03,  8.33696127e-03,  1.06036663e-04,\n",
              "         2.34658010e-02,  2.34198086e-02,  5.48129156e-03,\n",
              "         2.65550613e-03,  3.52876447e-02,  3.42378058e-02,\n",
              "         2.56828107e-02,  4.15891148e-02, -2.46073958e-02,\n",
              "        -5.74122742e-03, -4.24232259e-02, -6.20495155e-03,\n",
              "         1.90721489e-02,  4.04694788e-02],\n",
              "       [-2.84947045e-02,  2.22900249e-02, -4.30909544e-03,\n",
              "         3.25130112e-02,  1.07269511e-02, -3.81677635e-02,\n",
              "         3.90901603e-02, -4.81688380e-02,  7.21864775e-03,\n",
              "         4.13318537e-02, -2.41205227e-02,  4.35428359e-02,\n",
              "         4.96450327e-02, -1.86862946e-02,  4.90665697e-02,\n",
              "         2.81316377e-02,  3.03326137e-02, -1.00694783e-02,\n",
              "         7.31717423e-03,  3.05044167e-02,  3.09829786e-03,\n",
              "         4.18330468e-02,  1.09964013e-02, -3.86752859e-02,\n",
              "         3.88648845e-02, -4.48310636e-02,  6.61439821e-03,\n",
              "        -5.64912707e-03,  4.53389920e-02, -2.26817969e-02,\n",
              "        -4.11794782e-02, -8.45704228e-03],\n",
              "       [ 1.67796873e-02,  3.57260965e-02,  4.79613207e-02,\n",
              "         1.94580071e-02, -3.33480723e-02,  3.98576967e-02,\n",
              "        -1.49722919e-02, -5.12488186e-05, -1.44901760e-02,\n",
              "        -1.10803470e-02,  3.12869065e-02, -4.50624712e-02,\n",
              "         4.46198843e-02, -1.23525746e-02, -7.01374933e-03,\n",
              "        -4.85493653e-02, -4.77900021e-02, -3.33686247e-02,\n",
              "         4.35814746e-02,  4.45027687e-02, -2.70808097e-02,\n",
              "        -1.47737749e-02,  3.51482369e-02, -4.92473841e-02,\n",
              "         4.72200252e-02, -4.41918969e-02,  3.30560096e-02,\n",
              "        -1.65205225e-02, -9.17364284e-03, -3.91368940e-03,\n",
              "         3.50801237e-02, -3.90343294e-02],\n",
              "       [-7.89009035e-04, -2.20567472e-02,  4.97328527e-02,\n",
              "        -1.69364363e-03, -3.11782602e-02,  4.74552549e-02,\n",
              "        -4.40550223e-02, -1.73741356e-02,  9.64046642e-03,\n",
              "        -4.66213599e-02, -8.26221704e-03, -2.32191216e-02,\n",
              "         4.13703918e-03, -8.35274532e-03, -3.74400504e-02,\n",
              "         8.54042917e-03,  2.61533149e-02,  1.19458809e-02,\n",
              "         9.14166123e-03, -2.50957850e-02,  7.73619488e-03,\n",
              "        -5.32656908e-03,  2.22019814e-02,  3.14215757e-02,\n",
              "         6.41582161e-03, -2.17167288e-03, -4.68561538e-02,\n",
              "         4.85752709e-02, -1.45132653e-02, -9.37040895e-03,\n",
              "         1.60032772e-02,  3.57428454e-02],\n",
              "       [-2.28970889e-02,  4.00266759e-02, -2.02817805e-02,\n",
              "        -2.38287933e-02,  1.33926906e-02, -2.18081959e-02,\n",
              "        -2.72889733e-02, -2.77767070e-02,  1.40334405e-02,\n",
              "        -2.62497421e-02,  1.71570294e-02, -1.32229328e-02,\n",
              "        -6.58690929e-03,  2.65687145e-02, -1.44766085e-02,\n",
              "         4.86202575e-02,  2.36942805e-02, -2.14143842e-03,\n",
              "        -3.13365087e-02, -4.45166938e-02, -4.13958542e-02,\n",
              "        -1.30309947e-02, -3.21430936e-02,  4.50791977e-02,\n",
              "        -4.23549898e-02, -2.54987366e-02,  5.34638017e-03,\n",
              "         1.77899487e-02,  4.68530320e-02, -1.05438717e-02,\n",
              "         4.44852188e-03, -1.38410702e-02],\n",
              "       [ 3.32490839e-02, -4.54623364e-02, -1.61387026e-04,\n",
              "         4.86145169e-03,  2.57500447e-02,  1.86606087e-02,\n",
              "         3.92543189e-02, -4.67838049e-02, -4.88392971e-02,\n",
              "         4.55738641e-02, -1.33595467e-02,  2.24673264e-02,\n",
              "        -1.54911280e-02,  3.33333947e-02,  4.36321236e-02,\n",
              "         1.69467181e-04, -5.02099842e-03, -2.66177654e-02,\n",
              "        -2.24291217e-02,  2.18296982e-02,  4.16326523e-03,\n",
              "         4.92285825e-02, -3.86014469e-02,  2.47755907e-02,\n",
              "        -3.94492261e-02,  3.51551808e-02, -2.63902433e-02,\n",
              "        -2.20632795e-02, -7.10805506e-03,  3.42143662e-02,\n",
              "        -4.28822637e-02, -1.35901794e-02],\n",
              "       [-2.38539465e-02,  1.17900856e-02, -2.07793359e-02,\n",
              "         2.87215747e-02,  1.70803703e-02,  2.87859328e-02,\n",
              "         3.29287685e-02, -1.74487121e-02, -2.99898982e-02,\n",
              "         1.92334093e-02,  4.21229713e-02, -1.39563084e-02,\n",
              "         2.99933888e-02,  2.80467421e-03, -1.81067102e-02,\n",
              "        -1.72583945e-02, -4.05036435e-02,  1.35728009e-02,\n",
              "        -2.85875089e-02,  4.94670868e-03, -4.05759588e-02,\n",
              "        -4.20487523e-02, -3.04168947e-02, -2.96416283e-02,\n",
              "         2.14810483e-02, -3.76103520e-02,  2.93356515e-02,\n",
              "        -4.78163958e-02, -4.92532030e-02, -3.23435888e-02,\n",
              "         1.31557472e-02, -2.96428688e-02],\n",
              "       [ 2.60090269e-02, -2.51008756e-02,  4.53623384e-03,\n",
              "        -2.25166921e-02,  1.95462592e-02,  4.36876677e-02,\n",
              "        -1.87593699e-03, -4.66725603e-02, -2.89562941e-02,\n",
              "         1.48189180e-02, -2.55077835e-02, -3.23347449e-02,\n",
              "        -4.31296974e-03,  3.99104506e-03,  4.15835418e-02,\n",
              "         3.39747593e-03,  3.34884971e-03, -2.90375240e-02,\n",
              "         1.10641830e-02, -4.69491147e-02,  2.02202536e-02,\n",
              "         2.66661681e-02, -3.88575792e-02, -6.72661141e-03,\n",
              "         4.56424691e-02, -2.11164951e-02,  7.82094151e-03,\n",
              "         3.01193334e-02, -2.33461708e-03, -1.37863383e-02,\n",
              "         3.74898948e-02,  2.34550275e-02],\n",
              "       [-3.93241271e-02, -1.05111226e-02, -4.39758301e-02,\n",
              "        -1.33215562e-02, -7.55307823e-03, -2.12290883e-02,\n",
              "         3.06083001e-02, -1.97277199e-02,  3.51607800e-03,\n",
              "        -1.13481879e-02,  4.67187651e-02,  1.89364664e-02,\n",
              "        -1.08581409e-02,  1.20121129e-02, -2.66366079e-03,\n",
              "        -3.00509688e-02, -6.58413023e-03,  3.09469588e-02,\n",
              "         1.93756856e-02,  4.46915962e-02, -2.68764738e-02,\n",
              "        -3.56664546e-02,  9.11905617e-03, -1.97040197e-02,\n",
              "         3.26072834e-02, -1.18422396e-02,  3.93018834e-02,\n",
              "        -3.00718080e-02,  2.56727599e-02, -1.28186569e-02,\n",
              "         4.20133583e-02, -3.83051485e-03]], dtype=float32)>"
            ]
          },
          "execution_count": 56,
          "metadata": {},
          "output_type": "execute_result"
        }
      ],
      "source": [
        "unique_tags = set()\n",
        "for tags in raw_recipes['tags'].apply(convert_to_list):\n",
        "  if isinstance(tags, list):\n",
        "    for tag in tags:\n",
        "      unique_tags.add(tag)\n",
        "unique_tags = np.unique(list(unique_tags))\n",
        "\n",
        "tags_model = tf.keras.Sequential([\n",
        "  tf.keras.layers.StringLookup(\n",
        "      vocabulary=unique_tags, mask_token=None),\n",
        "  tf.keras.layers.Embedding(len(unique_tags) + 1, embedding_dimension)\n",
        "])\n",
        "unique_tags[:10]"
      ]
    },
    {
      "cell_type": "markdown",
      "metadata": {
        "id": "n1dQh7uGI2ow"
      },
      "source": [
        "## Combine models"
      ]
    },
    {
      "cell_type": "code",
      "execution_count": 49,
      "metadata": {},
      "outputs": [],
      "source": [
        "class UserModel(tf.keras.Model):\n",
        "    def __init__(self, unique_user_ids, tags_model, embedding_dimension):\n",
        "        super().__init__()\n",
        "        \n",
        "        # User ID embeddings\n",
        "        self.user_id_model = tf.keras.Sequential([\n",
        "            tf.keras.layers.StringLookup(\n",
        "                vocabulary=unique_user_ids, mask_token=None),\n",
        "            tf.keras.layers.Embedding(len(unique_user_ids) + 1, embedding_dimension)\n",
        "        ])\n",
        "        \n",
        "        # Liked tags embeddings\n",
        "        self.liked_tags_model = tf.keras.Sequential([\n",
        "          tf.keras.layers.StringLookup(\n",
        "              vocabulary=unique_tags, mask_token=None),\n",
        "          tf.keras.layers.Embedding(len(unique_tags) + 1, embedding_dimension)\n",
        "        ])\n",
        "\n",
        "        # Unliked tags embeddings\n",
        "        self.unliked_tags_model = tf.keras.Sequential([\n",
        "              tf.keras.layers.StringLookup(\n",
        "                  vocabulary=unique_tags, mask_token=None),\n",
        "              tf.keras.layers.Embedding(len(unique_tags) + 1, embedding_dimension)\n",
        "            ])\n",
        "\n",
        "        # Penalty weight for unliked tags\n",
        "        self.penalty_weight = -1.5\n",
        "        self.plus_weight = 1.5\n",
        "\n",
        "    def call(self, features):\n",
        "        user_id = features[\"user_id\"]\n",
        "        liked_tags = features[\"liked_tags\"]\n",
        "        unliked_tags = features[\"unliked_tags\"]\n",
        "\n",
        "        # Embed user ID\n",
        "        user_id_embedding = self.user_id_model(user_id)\n",
        "        #user_id_embedding = tf.reduce_mean(user_id_embedding, axis=1)\n",
        "\n",
        "        # Embed liked and unliked tags\n",
        "        liked_tags_embedding = self.liked_tags_model(liked_tags)\n",
        "        unliked_tags_embedding = self.unliked_tags_model(unliked_tags)\n",
        "\n",
        "        # Apply penalty to unliked tags\n",
        "        unliked_tags_embedding = unliked_tags_embedding * self.penalty_weight\n",
        "        liked_tags_embedding = liked_tags_embedding * self.plus_weight\n",
        "\n",
        "\n",
        "        # Aggregate embeddings\n",
        "        liked_tags_embedding = tf.reduce_max(liked_tags_embedding, axis=1, keepdims=True)\n",
        "        unliked_tags_embedding = tf.reduce_min(unliked_tags_embedding, axis=1, keepdims=True)\n",
        "\n",
        "\n",
        "        # Используйте weighted суммирование для учета штрафов\n",
        "        user_embedding = tf.add(user_id_embedding, liked_tags_embedding)\n",
        "        user_embedding = tf.add(user_embedding, unliked_tags_embedding)\n",
        "\n",
        "        return user_embedding\n",
        "\n"
      ]
    },
    {
      "cell_type": "code",
      "execution_count": 44,
      "metadata": {},
      "outputs": [
        {
          "data": {
            "text/plain": [
              "<tf.Tensor: shape=(30, 32), dtype=float32, numpy=\n",
              "array([[-0.03976297, -0.04187637,  0.02398592,  0.02209097,  0.00898775,\n",
              "         0.03963254,  0.02183858,  0.03877072, -0.04073378,  0.01161937,\n",
              "         0.01351625, -0.04927077, -0.0445059 , -0.00558278, -0.01821656,\n",
              "        -0.02406272,  0.00990583,  0.04035266,  0.04487851,  0.02684188,\n",
              "         0.01571327,  0.02949226,  0.01004782,  0.01906581,  0.03167447,\n",
              "        -0.02848922, -0.03158103,  0.00759529,  0.03222987,  0.02969871,\n",
              "        -0.01239014,  0.03494646],\n",
              "       [-0.04147175, -0.04358515,  0.02227715,  0.0203822 ,  0.00727897,\n",
              "         0.03792375,  0.0201298 ,  0.03706193, -0.04244257,  0.00991058,\n",
              "         0.01180746, -0.05097955, -0.04621468, -0.00729156, -0.01992534,\n",
              "        -0.02577151,  0.00819705,  0.03864388,  0.04316974,  0.02513309,\n",
              "         0.01400448,  0.02778347,  0.00833904,  0.01735704,  0.0299657 ,\n",
              "        -0.03019801, -0.03328981,  0.0058865 ,  0.03052109,  0.02798992,\n",
              "        -0.01409893,  0.03323768],\n",
              "       [-0.04223406, -0.04434746,  0.02151483,  0.01961988,  0.00651667,\n",
              "         0.03716145,  0.01936749,  0.03629963, -0.04320487,  0.00914828,\n",
              "         0.01104516, -0.05174186, -0.04697699, -0.00805387, -0.02068765,\n",
              "        -0.02653381,  0.00743474,  0.03788157,  0.04240742,  0.02437079,\n",
              "         0.01324219,  0.02702117,  0.00757673,  0.01659472,  0.02920339,\n",
              "        -0.03096031, -0.03405212,  0.0051242 ,  0.02975878,  0.02722763,\n",
              "        -0.01486123,  0.03247537],\n",
              "       [-0.0402803 , -0.0423937 ,  0.0234686 ,  0.02157365,  0.00847042,\n",
              "         0.03911521,  0.02132125,  0.03825338, -0.04125112,  0.01110204,\n",
              "         0.01299891, -0.0497881 , -0.04502323, -0.00610011, -0.01873389,\n",
              "        -0.02458005,  0.00938851,  0.03983533,  0.04436119,  0.02632454,\n",
              "         0.01519594,  0.02897492,  0.00953049,  0.01854849,  0.03115715,\n",
              "        -0.02900656, -0.03209836,  0.00707795,  0.03171255,  0.02918138,\n",
              "        -0.01290748,  0.03442913],\n",
              "       [-0.03925587, -0.04136927,  0.02449302,  0.02259807,  0.00949485,\n",
              "         0.04013963,  0.02234568,  0.03927781, -0.04022669,  0.01212646,\n",
              "         0.01402333, -0.04876367, -0.04399881, -0.00507569, -0.01770946,\n",
              "        -0.02355563,  0.01041293,  0.04085976,  0.04538561,  0.02734897,\n",
              "         0.01622036,  0.02999935,  0.01055492,  0.01957291,  0.03218158,\n",
              "        -0.02798213, -0.03107394,  0.00810237,  0.03273697,  0.0302058 ,\n",
              "        -0.01188305,  0.03545356],\n",
              "       [-0.0504677 , -0.0525811 ,  0.0132812 ,  0.01138625, -0.00171698,\n",
              "         0.0289278 ,  0.01113385,  0.02806598, -0.05143852,  0.00091463,\n",
              "         0.00281151, -0.0599755 , -0.05521064, -0.01628751, -0.02892129,\n",
              "        -0.03476746, -0.0007989 ,  0.02964793,  0.03417379,  0.01613714,\n",
              "         0.00500853,  0.01878752, -0.00065691,  0.00836109,  0.02096975,\n",
              "        -0.03919396, -0.04228576, -0.00310946,  0.02152514,  0.01899397,\n",
              "        -0.02309488,  0.02424173],\n",
              "       [-0.04179181, -0.04390521,  0.02195708,  0.02006213,  0.00695891,\n",
              "         0.03760369,  0.01980974,  0.03674187, -0.04276263,  0.00959052,\n",
              "         0.01148739, -0.05129961, -0.04653475, -0.00761162, -0.0202454 ,\n",
              "        -0.02609157,  0.00787699,  0.03832382,  0.04284967,  0.02481303,\n",
              "         0.01368442,  0.02746341,  0.00801898,  0.01703697,  0.02964564,\n",
              "        -0.03051807, -0.03360987,  0.00556643,  0.03020103,  0.02766986,\n",
              "        -0.01441899,  0.03291762],\n",
              "       [-0.0414085 , -0.0435219 ,  0.02234039,  0.02044544,  0.00734222,\n",
              "         0.03798701,  0.02019304,  0.03712519, -0.04237932,  0.00997384,\n",
              "         0.01187071, -0.0509163 , -0.04615144, -0.00722831, -0.01986209,\n",
              "        -0.02570826,  0.00826029,  0.03870712,  0.04323298,  0.02519634,\n",
              "         0.01406774,  0.02784672,  0.00840229,  0.01742028,  0.03002894,\n",
              "        -0.03013476, -0.03322656,  0.00594975,  0.03058434,  0.02805318,\n",
              "        -0.01403568,  0.03330092],\n",
              "       [-0.05312344, -0.05523685,  0.01062545,  0.0087305 , -0.00437272,\n",
              "         0.02627206,  0.00847811,  0.02541023, -0.05409426, -0.00174111,\n",
              "         0.00015576, -0.06263125, -0.05786638, -0.01894326, -0.03157704,\n",
              "        -0.0374232 , -0.00345464,  0.02699219,  0.03151804,  0.01348139,\n",
              "         0.00235279,  0.01613177, -0.00331265,  0.00570534,  0.018314  ,\n",
              "        -0.0418497 , -0.04494151, -0.0057652 ,  0.0188694 ,  0.01633823,\n",
              "        -0.02575062,  0.02158599],\n",
              "       [-0.04045108, -0.04256448,  0.02329782,  0.02140287,  0.00829964,\n",
              "         0.03894442,  0.02115047,  0.0380826 , -0.0414219 ,  0.01093125,\n",
              "         0.01282813, -0.04995888, -0.04519401, -0.00627089, -0.01890467,\n",
              "        -0.02475084,  0.00921772,  0.03966455,  0.04419041,  0.02615376,\n",
              "         0.01502515,  0.02880414,  0.00935971,  0.01837771,  0.03098637,\n",
              "        -0.02917734, -0.03226914,  0.00690717,  0.03154176,  0.02901059,\n",
              "        -0.01307826,  0.03425835],\n",
              "       [-0.07715318, -0.07926658, -0.01340428, -0.01529923, -0.02840246,\n",
              "         0.00224233, -0.01555163,  0.0013805 , -0.07812399, -0.02577084,\n",
              "        -0.02387397, -0.08666098, -0.08189611, -0.04297299, -0.05560677,\n",
              "        -0.06145293, -0.02748438,  0.00296246,  0.00748831, -0.01054834,\n",
              "        -0.02167694, -0.00789796, -0.02734239, -0.01832439, -0.00571573,\n",
              "        -0.06587943, -0.06897124, -0.02979493, -0.00516033, -0.0076915 ,\n",
              "        -0.04978035, -0.00244375],\n",
              "       [-0.04400917, -0.04612257,  0.01973972,  0.01784477,  0.00474155,\n",
              "         0.03538634,  0.01759237,  0.03452452, -0.04497999,  0.00737317,\n",
              "         0.00927004, -0.05351697, -0.04875211, -0.00982898, -0.02246276,\n",
              "        -0.02830893,  0.00565962,  0.03610645,  0.04063231,  0.02259567,\n",
              "         0.01146707,  0.02524605,  0.00580162,  0.01481961,  0.02742827,\n",
              "        -0.03273543, -0.03582723,  0.00334908,  0.02798367,  0.02545251,\n",
              "        -0.01663635,  0.03070025],\n",
              "       [-0.06838518, -0.07049858, -0.00463629, -0.00653124, -0.01963446,\n",
              "         0.01101033, -0.00678363,  0.01014851, -0.06935599, -0.01700284,\n",
              "        -0.01510597, -0.07789297, -0.07312811, -0.03420499, -0.04683877,\n",
              "        -0.05268493, -0.01871638,  0.01173045,  0.0162563 , -0.00178033,\n",
              "        -0.01290894,  0.00087005, -0.01857439, -0.0095564 ,  0.00305226,\n",
              "        -0.05711143, -0.06020324, -0.02102693,  0.00360766,  0.0010765 ,\n",
              "        -0.04101235,  0.00632425],\n",
              "       [-0.03920652, -0.04131992,  0.02454238,  0.02264743,  0.0095442 ,\n",
              "         0.04018898,  0.02239503,  0.03932716, -0.04017734,  0.01217581,\n",
              "         0.01407269, -0.04871432, -0.04394946, -0.00502633, -0.01766011,\n",
              "        -0.02350628,  0.01046228,  0.04090911,  0.04543497,  0.02739832,\n",
              "         0.01626971,  0.0300487 ,  0.01060427,  0.01962227,  0.03223093,\n",
              "        -0.02793278, -0.03102458,  0.00815172,  0.03278632,  0.03025515,\n",
              "        -0.0118337 ,  0.03550291],\n",
              "       [-0.04485666, -0.04697006,  0.01889223,  0.01699728,  0.00389406,\n",
              "         0.03453885,  0.01674488,  0.03367703, -0.04582748,  0.00652568,\n",
              "         0.00842255, -0.05436446, -0.0495996 , -0.01067647, -0.02331025,\n",
              "        -0.02915642,  0.00481214,  0.03525896,  0.03978482,  0.02174819,\n",
              "         0.01061958,  0.02439857,  0.00495413,  0.01397212,  0.02658078,\n",
              "        -0.03358292, -0.03667472,  0.00250159,  0.02713618,  0.02460502,\n",
              "        -0.01748384,  0.02985276],\n",
              "       [-0.04122779, -0.04334119,  0.02252111,  0.02062616,  0.00752293,\n",
              "         0.03816772,  0.02037376,  0.03730589, -0.04219861,  0.01015455,\n",
              "         0.01205142, -0.05073559, -0.04597072, -0.0070476 , -0.01968138,\n",
              "        -0.02552754,  0.00844102,  0.03888784,  0.0434137 ,  0.02537705,\n",
              "         0.01424845,  0.02802743,  0.008583  ,  0.017601  ,  0.03020966,\n",
              "        -0.02995405, -0.03304585,  0.00613046,  0.03076506,  0.02823389,\n",
              "        -0.01385497,  0.03348164],\n",
              "       [-0.04087253, -0.04298593,  0.02287637,  0.02098142,  0.00787819,\n",
              "         0.03852297,  0.02072902,  0.03766115, -0.04184335,  0.0105098 ,\n",
              "         0.01240668, -0.05038033, -0.04561546, -0.00669234, -0.01932612,\n",
              "        -0.02517229,  0.00879627,  0.0392431 ,  0.04376896,  0.02573231,\n",
              "         0.0146037 ,  0.02838269,  0.00893826,  0.01795626,  0.03056492,\n",
              "        -0.02959879, -0.03269059,  0.00648572,  0.03112032,  0.02858914,\n",
              "        -0.01349971,  0.0338369 ],\n",
              "       [-0.04086351, -0.04297692,  0.02288538,  0.02099043,  0.00788721,\n",
              "         0.03853199,  0.02073804,  0.03767017, -0.04183433,  0.01051882,\n",
              "         0.01241569, -0.05037132, -0.04560645, -0.00668333, -0.01931711,\n",
              "        -0.02516327,  0.00880529,  0.03925212,  0.04377797,  0.02574132,\n",
              "         0.01461272,  0.0283917 ,  0.00894728,  0.01796527,  0.03057393,\n",
              "        -0.02958977, -0.03268158,  0.00649473,  0.03112933,  0.02859816,\n",
              "        -0.01349069,  0.03384592],\n",
              "       [-0.04153204, -0.04364544,  0.02221686,  0.02032191,  0.00721868,\n",
              "         0.03786346,  0.02006951,  0.03700164, -0.04250286,  0.00985029,\n",
              "         0.01174717, -0.05103984, -0.04627497, -0.00735185, -0.01998563,\n",
              "        -0.0258318 ,  0.00813676,  0.03858359,  0.04310945,  0.0250728 ,\n",
              "         0.01394419,  0.02772318,  0.00827875,  0.01729675,  0.02990541,\n",
              "        -0.0302583 , -0.0333501 ,  0.00582621,  0.0304608 ,  0.02792963,\n",
              "        -0.01415922,  0.03317739],\n",
              "       [-0.03955974, -0.04167315,  0.02418914,  0.02229419,  0.00919098,\n",
              "         0.03983577,  0.0220418 ,  0.03897394, -0.04053056,  0.0118226 ,\n",
              "         0.01371947, -0.04906755, -0.04430268, -0.00537956, -0.01801334,\n",
              "        -0.0238595 ,  0.01010905,  0.04055588,  0.04508173,  0.0270451 ,\n",
              "         0.0159165 ,  0.02969548,  0.01025105,  0.01926903,  0.0318777 ,\n",
              "        -0.028286  , -0.03137781,  0.00779851,  0.03243309,  0.02990194,\n",
              "        -0.01218692,  0.03514968],\n",
              "       [-0.03926333, -0.04137673,  0.02448556,  0.02259061,  0.00948739,\n",
              "         0.04013218,  0.02233821,  0.03927036, -0.04023415,  0.01211901,\n",
              "         0.01401588, -0.04877113, -0.04400627, -0.00508314, -0.01771692,\n",
              "        -0.02356309,  0.01040547,  0.04085229,  0.04537815,  0.02734151,\n",
              "         0.01621291,  0.02999189,  0.01054746,  0.01956545,  0.03217411,\n",
              "        -0.02798959, -0.03108139,  0.00809492,  0.03272951,  0.03019835,\n",
              "        -0.01189051,  0.03544609],\n",
              "       [-0.04027864, -0.04239205,  0.02347025,  0.0215753 ,  0.00847208,\n",
              "         0.03911686,  0.02132291,  0.03825504, -0.04124946,  0.01110369,\n",
              "         0.01300056, -0.04978644, -0.04502158, -0.00609846, -0.01873223,\n",
              "        -0.0245784 ,  0.00939016,  0.03983699,  0.04436284,  0.02632619,\n",
              "         0.01519759,  0.02897657,  0.00953215,  0.01855014,  0.0311588 ,\n",
              "        -0.0290049 , -0.03209671,  0.0070796 ,  0.0317142 ,  0.02918303,\n",
              "        -0.01290582,  0.03443079],\n",
              "       [-0.03976949, -0.04188289,  0.0239794 ,  0.02208444,  0.00898123,\n",
              "         0.03962602,  0.02183205,  0.03876419, -0.04074031,  0.01161285,\n",
              "         0.01350972, -0.04927729, -0.04451243, -0.00558931, -0.01822308,\n",
              "        -0.02406925,  0.0098993 ,  0.04034613,  0.04487199,  0.02683535,\n",
              "         0.01570675,  0.02948573,  0.0100413 ,  0.01905929,  0.03166795,\n",
              "        -0.02849575, -0.03158756,  0.00758876,  0.03222334,  0.02969219,\n",
              "        -0.01239667,  0.03493993],\n",
              "       [-0.04227936, -0.04439276,  0.02146953,  0.01957458,  0.00647136,\n",
              "         0.03711614,  0.01932219,  0.03625432, -0.04325018,  0.00910297,\n",
              "         0.01099984, -0.05178716, -0.0470223 , -0.00809918, -0.02073295,\n",
              "        -0.02657912,  0.00738944,  0.03783627,  0.04236212,  0.02432548,\n",
              "         0.01319687,  0.02697586,  0.00753143,  0.01654942,  0.02915809,\n",
              "        -0.03100562, -0.03409743,  0.00507888,  0.02971348,  0.02718231,\n",
              "        -0.01490654,  0.03243007],\n",
              "       [-0.04074856, -0.04286196,  0.02300033,  0.02110538,  0.00800216,\n",
              "         0.03864695,  0.02085298,  0.03778513, -0.04171938,  0.01063378,\n",
              "         0.01253065, -0.05025636, -0.04549149, -0.00656837, -0.01920215,\n",
              "        -0.02504832,  0.00892024,  0.03936706,  0.04389292,  0.02585629,\n",
              "         0.01472768,  0.02850667,  0.00906223,  0.01808022,  0.03068888,\n",
              "        -0.02947482, -0.03256662,  0.00660969,  0.03124428,  0.02871312,\n",
              "        -0.01337574,  0.03396086],\n",
              "       [-0.0460314 , -0.0481448 ,  0.0177175 ,  0.01582254,  0.00271932,\n",
              "         0.0333641 ,  0.01557015,  0.03250228, -0.04700222,  0.00535093,\n",
              "         0.00724781, -0.0555392 , -0.05077434, -0.01185121, -0.02448499,\n",
              "        -0.03033116,  0.0036374 ,  0.03408423,  0.03861009,  0.02057344,\n",
              "         0.00944483,  0.02322382,  0.00377939,  0.01279739,  0.02540605,\n",
              "        -0.03475766, -0.03784946,  0.00132684,  0.02596144,  0.02343027,\n",
              "        -0.01865858,  0.02867803],\n",
              "       [-0.04005411, -0.04216751,  0.02369478,  0.02179983,  0.00869661,\n",
              "         0.03934139,  0.02154744,  0.03847957, -0.04102493,  0.01132822,\n",
              "         0.01322509, -0.04956191, -0.04479705, -0.00587393, -0.0185077 ,\n",
              "        -0.02435387,  0.00961469,  0.04006152,  0.04458737,  0.02655073,\n",
              "         0.01542212,  0.02920111,  0.00975668,  0.01877467,  0.03138334,\n",
              "        -0.02878037, -0.03187218,  0.00730413,  0.03193873,  0.02940756,\n",
              "        -0.01268129,  0.03465532],\n",
              "       [-0.04081622, -0.04292962,  0.02293268,  0.02103773,  0.0079345 ,\n",
              "         0.03857929,  0.02078533,  0.03771746, -0.04178704,  0.01056612,\n",
              "         0.01246299, -0.05032402, -0.04555915, -0.00663603, -0.01926981,\n",
              "        -0.02511597,  0.00885259,  0.03929941,  0.04382527,  0.02578862,\n",
              "         0.01466002,  0.028439  ,  0.00899457,  0.01801257,  0.03062123,\n",
              "        -0.02954248, -0.03263428,  0.00654203,  0.03117663,  0.02864546,\n",
              "        -0.0134434 ,  0.03389321],\n",
              "       [-0.04087841, -0.04299181,  0.02287048,  0.02097553,  0.00787231,\n",
              "         0.0385171 ,  0.02072313,  0.03765528, -0.04184923,  0.01050393,\n",
              "         0.01240081, -0.05038621, -0.04562134, -0.00669822, -0.019332  ,\n",
              "        -0.02517816,  0.00879039,  0.03923722,  0.04376307,  0.02572644,\n",
              "         0.01459783,  0.02837682,  0.00893238,  0.01795037,  0.03055903,\n",
              "        -0.02960467, -0.03269647,  0.00647984,  0.03111443,  0.02858327,\n",
              "        -0.01350559,  0.03383102],\n",
              "       [-0.04708856, -0.04920197,  0.01666033,  0.01476538,  0.00166216,\n",
              "         0.03230694,  0.01451299,  0.03144512, -0.04805938,  0.00429377,\n",
              "         0.00619064, -0.05659636, -0.0518315 , -0.01290838, -0.02554215,\n",
              "        -0.03138832,  0.00258024,  0.03302707,  0.03755292,  0.01951627,\n",
              "         0.00838767,  0.02216665,  0.00272223,  0.01174022,  0.02434888,\n",
              "        -0.03581482, -0.03890663,  0.00026968,  0.02490428,  0.02237311,\n",
              "        -0.01971574,  0.02762087]], dtype=float32)>"
            ]
          },
          "execution_count": 44,
          "metadata": {},
          "output_type": "execute_result"
        }
      ],
      "source": [
        "# Извлечение данных пользователя\n",
        "test_user = {}\n",
        "for data in ratings.take(1).as_numpy_iterator():\n",
        "    test_user = data\n",
        "    \n",
        "user_model = UserModel(unique_user_ids, tags_model, embedding_dimension)\n",
        "\n",
        "user_model(test_user)"
      ]
    },
    {
      "cell_type": "code",
      "execution_count": 52,
      "metadata": {},
      "outputs": [],
      "source": [
        "class RecipeAndUserModel(tfrs.Model):\n",
        "\n",
        "    def _reduce_mean_if_needed(self, embedding):\n",
        "        \"\"\"Сокращает размерность эмбеддинга до среднего, если он многомерный.\"\"\"\n",
        "        if len(embedding.shape) >= 3:\n",
        "            return tf.reduce_mean(embedding, axis=1)\n",
        "        return embedding\n",
        "\n",
        "    def __init__(self, unique_recipe_names, unique_tags, embedding_dimension):\n",
        "        super().__init__()\n",
        "        self.embedding_dimension = embedding_dimension\n",
        "        # Модель пользователя\n",
        "        self.user_model = UserModel(unique_user_ids, tags_model, 64)\n",
        "\n",
        "        # Recipe embeddings\n",
        "        self.recipe_model = tf.keras.Sequential([\n",
        "            tf.keras.layers.StringLookup(\n",
        "                vocabulary=unique_recipe_names, mask_token=None),\n",
        "            tf.keras.layers.Embedding(len(unique_recipe_names) + 1, embedding_dimension)\n",
        "        ])\n",
        "\n",
        "        # Tags embeddings\n",
        "        self.tags_model = tags_model\n",
        "\n",
        "        self.dense = tf.keras.layers.Dense(embedding_dimension)  # Сжимаем до размерности 32\n",
        "\n",
        "        # Подготовка кандидатов, учитывающих и теги\n",
        "        self.candidates = recipes.batch(128).map(self._get_candidate_embeddings)\n",
        "\n",
        "        self.task = tfrs.tasks.Retrieval(\n",
        "            metrics=tfrs.metrics.FactorizedTopK(\n",
        "                candidates=self.candidates\n",
        "            )\n",
        "        )\n",
        "        \n",
        "    def _get_candidate_embeddings(self, recipe_name):\n",
        "        # Получаем эмбеддинги для имен и тегов\n",
        "        recipe_embedding = self.recipe_model(recipe_name['recipe_name'])\n",
        "        print(recipe_name['tags'])\n",
        "        tags_embedding = self.tags_model(recipe_name['tags'])  # Здесь предполагается, что recipe_name может содержать теги\n",
        "        recipe_embedding = self._reduce_mean_if_needed(recipe_embedding)\n",
        "        tags_embedding = self._reduce_mean_if_needed(tags_embedding)\n",
        "        # Объединяем эмбеддинги имен и тегов\n",
        "        combined_embedding = tf.concat([recipe_embedding, tags_embedding], axis=1)\n",
        "        return combined_embedding\n",
        "\n",
        "    def call(self, features: Dict[Text, tf.Tensor]) -> tf.Tensor:\n",
        "        # User embedding\n",
        "        user_embedding = self.user_model(features)\n",
        "\n",
        "        # Recipe name embeddings\n",
        "        recipe_name_embeddings = self.recipe_model(features[\"recipe_name\"])\n",
        "        #recipe_name_embeddings = self._reduce_mean_if_needed(recipe_name_embeddings)\n",
        "        # Tags embeddings\n",
        "        tags = features[\"tags\"]\n",
        "        tags_embeddings = self.tags_model(tags)\n",
        "        tags_embeddings = self._reduce_mean_if_needed(tags_embeddings)\n",
        "        # # Вычисление средневзвешенного значения для тегов (можно модифицировать веса)\n",
        "        # tags_embeddings_weighted_sum = tf.reduce_sum(tags_embeddings, axis=1)\n",
        "        # sum_of_weights = tf.reduce_sum(tf.ones_like(tags_embeddings), axis=1)\n",
        "        # tags_embeddings = tags_embeddings_weighted_sum / sum_of_weights\n",
        "        \n",
        "        # recipe_name_embeddings = self._reduce_mean_if_needed(recipe_name_embeddings)\n",
        "        # tags_embeddings = tf.expand_dims(tags_embeddings, axis=0)\n",
        "        # Конкатенация эмбеддингов рецепта и тегов\n",
        "        recipe_embeddings = tf.concat([recipe_name_embeddings, tags_embeddings], axis=1)\n",
        "\n",
        "        return user_embedding, recipe_embeddings\n",
        "\n",
        "    def compute_loss(self, features: Dict[Text, tf.Tensor], training=False) -> tf.Tensor:\n",
        "        user_embeddings, recipe_embeddings = self(features)\n",
        "        print(\"Computed: \", user_embeddings.shape, recipe_embeddings.shape)\n",
        "        # Используем задачу факторизованного топ-K для оптимизации\n",
        "        user_embeddings = self._reduce_mean_if_needed(user_embeddings)\n",
        "        recipe_embeddings = self._reduce_mean_if_needed(recipe_embeddings)\n",
        "        \n",
        "        # user_embeddings = tf.keras.layers.Dense(64)(user_embeddings)\n",
        "        # recipe_embeddings = tf.keras.layers.Dense(64)(recipe_embeddings)\n",
        "        print(\"Computed: \", user_embeddings.shape, recipe_embeddings.shape)\n",
        "        return self.task(user_embeddings, recipe_embeddings)\n"
      ]
    },
    {
      "cell_type": "code",
      "execution_count": 46,
      "metadata": {
        "id": "4ln6bTE6XuUT"
      },
      "outputs": [],
      "source": [
        "# Randomly shuffle data and split between train and test.\n",
        "tf.random.set_seed(42)\n",
        "shuffled = ratings.shuffle(100_000, seed=42, reshuffle_each_iteration=False)\n",
        "\n",
        "train = shuffled.take(5_000)\n",
        "test = shuffled.skip(80_000).take(20_000)\n",
        "\n",
        "cached_train =  train.batch(10_000).cache()\n",
        "cached_test = test.batch(4096).cache()"
      ]
    },
    {
      "cell_type": "code",
      "execution_count": 53,
      "metadata": {
        "id": "-7Gi0OYpUbOM"
      },
      "outputs": [
        {
          "name": "stdout",
          "output_type": "stream",
          "text": [
            "Tensor(\"args_2:0\", shape=(None, None), dtype=string)\n",
            "Tensor(\"args_2:0\", shape=(None, None), dtype=string)\n",
            "Epoch 1/12\n",
            "Computed:  (None, None, 64) (None, 64)\n",
            "Computed:  (None, 64) (None, 64)\n",
            "Computed:  (None, None, 64) (None, 64)\n",
            "Computed:  (None, 64) (None, 64)\n",
            "1/1 [==============================] - 21s 21s/step - factorized_top_k/top_1_categorical_accuracy: 0.0000e+00 - factorized_top_k/top_5_categorical_accuracy: 0.0000e+00 - factorized_top_k/top_10_categorical_accuracy: 0.0000e+00 - factorized_top_k/top_50_categorical_accuracy: 4.0000e-04 - factorized_top_k/top_100_categorical_accuracy: 0.0010 - loss: 42586.2812 - regularization_loss: 0.0000e+00 - total_loss: 42586.2812\n",
            "Epoch 2/12\n",
            "1/1 [==============================] - 20s 20s/step - factorized_top_k/top_1_categorical_accuracy: 0.0000e+00 - factorized_top_k/top_5_categorical_accuracy: 0.0000e+00 - factorized_top_k/top_10_categorical_accuracy: 0.0000e+00 - factorized_top_k/top_50_categorical_accuracy: 0.0000e+00 - factorized_top_k/top_100_categorical_accuracy: 2.0000e-04 - loss: 42477.6914 - regularization_loss: 0.0000e+00 - total_loss: 42477.6914\n",
            "Epoch 3/12\n",
            "1/1 [==============================] - 20s 20s/step - factorized_top_k/top_1_categorical_accuracy: 0.0106 - factorized_top_k/top_5_categorical_accuracy: 0.0138 - factorized_top_k/top_10_categorical_accuracy: 0.0176 - factorized_top_k/top_50_categorical_accuracy: 0.0384 - factorized_top_k/top_100_categorical_accuracy: 0.0522 - loss: 41763.4766 - regularization_loss: 0.0000e+00 - total_loss: 41763.4766\n",
            "Epoch 4/12\n",
            "1/1 [==============================] - 20s 20s/step - factorized_top_k/top_1_categorical_accuracy: 0.0416 - factorized_top_k/top_5_categorical_accuracy: 0.0868 - factorized_top_k/top_10_categorical_accuracy: 0.1158 - factorized_top_k/top_50_categorical_accuracy: 0.1924 - factorized_top_k/top_100_categorical_accuracy: 0.2450 - loss: 40415.3203 - regularization_loss: 0.0000e+00 - total_loss: 40415.3203\n",
            "Epoch 5/12\n",
            "1/1 [==============================] - 20s 20s/step - factorized_top_k/top_1_categorical_accuracy: 0.0860 - factorized_top_k/top_5_categorical_accuracy: 0.2298 - factorized_top_k/top_10_categorical_accuracy: 0.3210 - factorized_top_k/top_50_categorical_accuracy: 0.5134 - factorized_top_k/top_100_categorical_accuracy: 0.5776 - loss: 38427.5820 - regularization_loss: 0.0000e+00 - total_loss: 38427.5820\n",
            "Epoch 6/12\n",
            "1/1 [==============================] - 20s 20s/step - factorized_top_k/top_1_categorical_accuracy: 0.0348 - factorized_top_k/top_5_categorical_accuracy: 0.3302 - factorized_top_k/top_10_categorical_accuracy: 0.4598 - factorized_top_k/top_50_categorical_accuracy: 0.6218 - factorized_top_k/top_100_categorical_accuracy: 0.6956 - loss: 35302.1680 - regularization_loss: 0.0000e+00 - total_loss: 35302.1680\n",
            "Epoch 7/12\n",
            "1/1 [==============================] - 20s 20s/step - factorized_top_k/top_1_categorical_accuracy: 0.0294 - factorized_top_k/top_5_categorical_accuracy: 0.4510 - factorized_top_k/top_10_categorical_accuracy: 0.5800 - factorized_top_k/top_50_categorical_accuracy: 0.7266 - factorized_top_k/top_100_categorical_accuracy: 0.7646 - loss: 31746.0762 - regularization_loss: 0.0000e+00 - total_loss: 31746.0762\n",
            "Epoch 8/12\n",
            "1/1 [==============================] - 21s 21s/step - factorized_top_k/top_1_categorical_accuracy: 0.0340 - factorized_top_k/top_5_categorical_accuracy: 0.4844 - factorized_top_k/top_10_categorical_accuracy: 0.6092 - factorized_top_k/top_50_categorical_accuracy: 0.7570 - factorized_top_k/top_100_categorical_accuracy: 0.8158 - loss: 28123.9219 - regularization_loss: 0.0000e+00 - total_loss: 28123.9219\n",
            "Epoch 9/12\n",
            "1/1 [==============================] - 20s 20s/step - factorized_top_k/top_1_categorical_accuracy: 0.0746 - factorized_top_k/top_5_categorical_accuracy: 0.5366 - factorized_top_k/top_10_categorical_accuracy: 0.6592 - factorized_top_k/top_50_categorical_accuracy: 0.7846 - factorized_top_k/top_100_categorical_accuracy: 0.8308 - loss: 24673.3516 - regularization_loss: 0.0000e+00 - total_loss: 24673.3516\n",
            "Epoch 10/12\n",
            "1/1 [==============================] - 20s 20s/step - factorized_top_k/top_1_categorical_accuracy: 0.0866 - factorized_top_k/top_5_categorical_accuracy: 0.5668 - factorized_top_k/top_10_categorical_accuracy: 0.6908 - factorized_top_k/top_50_categorical_accuracy: 0.8044 - factorized_top_k/top_100_categorical_accuracy: 0.8578 - loss: 21827.2734 - regularization_loss: 0.0000e+00 - total_loss: 21827.2734\n",
            "Epoch 11/12\n",
            "1/1 [==============================] - 20s 20s/step - factorized_top_k/top_1_categorical_accuracy: 0.1464 - factorized_top_k/top_5_categorical_accuracy: 0.6246 - factorized_top_k/top_10_categorical_accuracy: 0.7210 - factorized_top_k/top_50_categorical_accuracy: 0.8328 - factorized_top_k/top_100_categorical_accuracy: 0.8722 - loss: 19763.8730 - regularization_loss: 0.0000e+00 - total_loss: 19763.8730\n",
            "Epoch 12/12\n",
            "1/1 [==============================] - 21s 21s/step - factorized_top_k/top_1_categorical_accuracy: 0.1832 - factorized_top_k/top_5_categorical_accuracy: 0.6604 - factorized_top_k/top_10_categorical_accuracy: 0.7474 - factorized_top_k/top_50_categorical_accuracy: 0.8528 - factorized_top_k/top_100_categorical_accuracy: 0.8990 - loss: 18261.8398 - regularization_loss: 0.0000e+00 - total_loss: 18261.8398\n"
          ]
        },
        {
          "data": {
            "text/plain": [
              "<keras.src.callbacks.History at 0x221293b4a30>"
            ]
          },
          "execution_count": 53,
          "metadata": {},
          "output_type": "execute_result"
        }
      ],
      "source": [
        "model = RecipeAndUserModel(unique_recipe_names, unique_tags, embedding_dimension)\n",
        "early_callback = tf.keras.callbacks.EarlyStopping(monitor='loss',  patience=5, min_delta=0.001)\n",
        "model.compile(optimizer=tf.keras.optimizers.Adagrad(learning_rate=0.1))\n",
        "model.fit(cached_train, epochs=12)"
      ]
    },
    {
      "cell_type": "code",
      "execution_count": null,
      "metadata": {},
      "outputs": [],
      "source": [
        "model.evaluate(cached_test, return_dict=True)"
      ]
    },
    {
      "cell_type": "markdown",
      "metadata": {},
      "source": [
        "### Making predictions"
      ]
    },
    {
      "cell_type": "code",
      "execution_count": null,
      "metadata": {},
      "outputs": [],
      "source": [
        "unique_tags[:20]"
      ]
    },
    {
      "cell_type": "code",
      "execution_count": null,
      "metadata": {},
      "outputs": [],
      "source": [
        "likes = np.full(15, \"asian\")\n",
        "likes_2 = np.full(15, \"african\")\n",
        "likes = np.append(likes,likes_2)\n",
        "likes"
      ]
    },
    {
      "cell_type": "code",
      "execution_count": null,
      "metadata": {},
      "outputs": [],
      "source": [
        "dislikes = np.full(10, '30-minutes-or-less')\n",
        "dislikes_2 = np.full(10, '60-minutes-or-less')\n",
        "dislikes_3 = np.full(10, '15-minutes-or-less')\n",
        "dislikes = np.append(dislikes, [dislikes_2, dislikes_3])\n",
        "dislikes"
      ]
    },
    {
      "cell_type": "code",
      "execution_count": null,
      "metadata": {},
      "outputs": [],
      "source": [
        "test_user['liked_tags']"
      ]
    },
    {
      "cell_type": "code",
      "execution_count": null,
      "metadata": {},
      "outputs": [],
      "source": [
        "# Извлечение данных пользователя\n",
        "test_user = {}\n",
        "for data in test.take(1).as_numpy_iterator():\n",
        "    test_user = data\n",
        "\n",
        "# Создание набора данных для тестового пользователя\n",
        "user_id_to_test = \"42\"  # Замените на нужный ID пользователя\n",
        "test_user_dataset = {\n",
        "    \"user_id\": np.array(test_user[\"user_id\"]),\n",
        "    \"liked_tags\": np.array(likes),\n",
        "    \"unliked_tags\": np.array(dislikes)\n",
        "}\n",
        "\n",
        "brute_force = tfrs.layers.factorized_top_k.BruteForce(model.user_model)\n",
        "def _reduce_mean_if_needed(embedding):\n",
        "    \"\"\"Сокращает размерность эмбеддинга до среднего, если он многомерный.\"\"\"\n",
        "    if len(embedding.shape) >= 3:\n",
        "        return tf.reduce_mean(embedding, axis=1)\n",
        "    return embedding\n",
        "dense = tf.keras.layers.Dense(96)\n",
        "\n",
        "def _get_candidate_embeddings(recipe_name):\n",
        "    # Получаем эмбеддинги для имен и тегов\n",
        "    recipe_embedding =  model.recipe_model(recipe_name['recipe_name'])\n",
        "    print(recipe_name['tags'])\n",
        "    tags_embedding = model.tags_model(recipe_name['tags'])  # Здесь предполагается, что recipe_name может содержать теги\n",
        "    recipe_embedding = _reduce_mean_if_needed(recipe_embedding)\n",
        "    tags_embedding = _reduce_mean_if_needed(tags_embedding)\n",
        "    # Объединяем эмбеддинги имен и тегов\n",
        "    combined_embedding = tf.concat([recipe_embedding, tags_embedding], axis=1)\n",
        "    return combined_embedding\n",
        "    \n",
        "# Создание набора данных для рецептов и тегов\n",
        "def get_recipe_and_tag_embeddings(x):\n",
        "    recipe_embedding = model.recipe_model(x['recipe_name'])  # (None, 32)\n",
        "    tag_embedding = model.tags_model(x['tags'])  # (None, 32)\n",
        "    recipe_embedding =_reduce_mean_if_needed(recipe_embedding)\n",
        "    tag_embedding = _reduce_mean_if_needed(tag_embedding)\n",
        "    \n",
        "    combined_embeddings = tf.concat([_reduce_mean_if_needed(recipe_embedding),  _reduce_mean_if_needed(tag_embedding)], axis=1)  # (None, 64)\n",
        "    \n",
        "    return dense(combined_embeddings)\n",
        "\n",
        "# Используем map для обработки всех данных сразу\n",
        "recipes_embeddings = recipes.batch(100).map(_get_candidate_embeddings)\n",
        "\n",
        "\n",
        "# Создание набора имен рецептов\n",
        "recipes_names = recipes.batch(100).map(lambda x: x[\"recipe_id\"])  # Убедитесь, что это (None,)\n",
        "\n",
        "# Объединяем эмбеддинги с именами\n",
        "index = brute_force.index_from_dataset(\n",
        "    tf.data.Dataset.zip((recipes_names, recipes_embeddings))\n",
        ")\n",
        "\n",
        "# Получаем рекомендации\n",
        "_, titles = index(test_user_dataset, k=15)\n",
        "\n",
        "# Вывод тегов для рекомендуемых рецептов\n",
        "recommended_tags = raw_recipes[raw_recipes['id'].isin(titles.numpy().flatten().astype('str'))]\n"
      ]
    },
    {
      "cell_type": "code",
      "execution_count": null,
      "metadata": {},
      "outputs": [],
      "source": [
        "recommended_tags[['name', 'tags_str']]"
      ]
    },
    {
      "cell_type": "code",
      "execution_count": null,
      "metadata": {},
      "outputs": [],
      "source": [
        "recommended_tags[['name', 'tags_str']]"
      ]
    }
  ],
  "metadata": {
    "colab": {
      "provenance": []
    },
    "kernelspec": {
      "display_name": "Python 3",
      "name": "python3"
    },
    "language_info": {
      "codemirror_mode": {
        "name": "ipython",
        "version": 3
      },
      "file_extension": ".py",
      "mimetype": "text/x-python",
      "name": "python",
      "nbconvert_exporter": "python",
      "pygments_lexer": "ipython3",
      "version": "3.10.0"
    }
  },
  "nbformat": 4,
  "nbformat_minor": 0
}
