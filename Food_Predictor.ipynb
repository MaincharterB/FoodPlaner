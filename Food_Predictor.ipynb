{
  "cells": [
    {
      "cell_type": "code",
      "execution_count": 1,
      "metadata": {
        "id": "2rptU6mxyaoP"
      },
      "outputs": [
        {
          "name": "stdout",
          "output_type": "stream",
          "text": [
            "WARNING:tensorflow:From C:\\Users\\azdanevy\\AppData\\Roaming\\Python\\Python310\\site-packages\\keras\\src\\losses.py:2976: The name tf.losses.sparse_softmax_cross_entropy is deprecated. Please use tf.compat.v1.losses.sparse_softmax_cross_entropy instead.\n",
            "\n"
          ]
        }
      ],
      "source": [
        "from typing import Dict, Text\n",
        "\n",
        "import numpy as np\n",
        "import tensorflow as tf\n",
        "import tensorflow_datasets as tfds\n",
        "import pandas as pd\n",
        "import tensorflow_recommenders as tfrs"
      ]
    },
    {
      "cell_type": "markdown",
      "metadata": {
        "id": "16W1-BvjtVmz"
      },
      "source": [
        "Let's pretend we have 3 users:\n",
        "1. Clarissa is a vegetarian who is lactose intolerant. 🥝🍅\n",
        "2. Martin is an athlete who prefers meat dishes to vegetable dishes. 🍖🥩\n",
        "3. Stella - has no special preferences, eats mostly everything. 🍲🍠"
      ]
    },
    {
      "cell_type": "code",
      "execution_count": 2,
      "metadata": {
        "id": "FDNshkxJvR-U"
      },
      "outputs": [],
      "source": [
        "clarissa = {'id':'clr', 'prefers': ['vegetables', 'vegan', 'nomeat', 'vegetarian'], 'hates': ['meat', 'lactose']}\n",
        "martin = {'id':'mrt', 'prefers': 'meat', 'hates': 'vegetables'}\n",
        "stella = {'id':'stl', 'prefers': '', 'hates': ''}"
      ]
    },
    {
      "cell_type": "markdown",
      "metadata": {
        "id": "FS8T34Y4xNhX"
      },
      "source": [
        "We will additionally enter the factors Calories, Protein, Fat, Carbohydrates for our requirements. **(The numbers were taken at random and do not reflect proportions or recommendations - the numbers are just an example)**\n",
        "* Clarissa - 2000/100/60/120\n",
        "* Martin, 2600/150/100/328.\n",
        "* Stella - 2200/80/50/100"
      ]
    },
    {
      "cell_type": "code",
      "execution_count": 3,
      "metadata": {
        "id": "qoPCpCLMxUob"
      },
      "outputs": [],
      "source": [
        "def set_requirements(user, calories, proteins, fats, carbs):\n",
        "  user['calories'] = calories\n",
        "  user['proteins'] = proteins\n",
        "  user['fats'] = fats\n",
        "  user['carbs'] = carbs\n",
        "set_requirements(clarissa, 2000, 100, 60, 120)\n",
        "set_requirements(martin, 2600, 150, 100, 328)\n",
        "set_requirements(martin, 2200, 80, 50, 100)\n"
      ]
    },
    {
      "cell_type": "markdown",
      "metadata": {
        "id": "iFMln3jutPpe"
      },
      "source": [
        "# Data processing 📊"
      ]
    },
    {
      "cell_type": "markdown",
      "metadata": {
        "id": "yDHv_HGvzWkB"
      },
      "source": [
        "Loading recipes and user_interactions. Nutritions showed like:calories (#), total fat (PDV), sugar (PDV) , sodium (PDV) , protein (PDV) , saturated fat (PDV) , and carbohydrates (PDV)"
      ]
    },
    {
      "cell_type": "code",
      "execution_count": 4,
      "metadata": {
        "colab": {
          "base_uri": "https://localhost:8080/",
          "height": 293
        },
        "id": "1gVJ6QAiyXLz",
        "outputId": "0e6c0673-457a-4063-eaa5-b553ec30edc8"
      },
      "outputs": [
        {
          "data": {
            "text/html": [
              "<div>\n",
              "<style scoped>\n",
              "    .dataframe tbody tr th:only-of-type {\n",
              "        vertical-align: middle;\n",
              "    }\n",
              "\n",
              "    .dataframe tbody tr th {\n",
              "        vertical-align: top;\n",
              "    }\n",
              "\n",
              "    .dataframe thead th {\n",
              "        text-align: right;\n",
              "    }\n",
              "</style>\n",
              "<table border=\"1\" class=\"dataframe\">\n",
              "  <thead>\n",
              "    <tr style=\"text-align: right;\">\n",
              "      <th></th>\n",
              "      <th>name</th>\n",
              "      <th>id</th>\n",
              "      <th>minutes</th>\n",
              "      <th>contributor_id</th>\n",
              "      <th>submitted</th>\n",
              "      <th>tags</th>\n",
              "      <th>nutrition</th>\n",
              "      <th>n_steps</th>\n",
              "      <th>steps</th>\n",
              "      <th>description</th>\n",
              "      <th>ingredients</th>\n",
              "      <th>n_ingredients</th>\n",
              "    </tr>\n",
              "  </thead>\n",
              "  <tbody>\n",
              "    <tr>\n",
              "      <th>0</th>\n",
              "      <td>arriba   baked winter squash mexican style</td>\n",
              "      <td>137739</td>\n",
              "      <td>55</td>\n",
              "      <td>47892</td>\n",
              "      <td>2005-09-16</td>\n",
              "      <td>['60-minutes-or-less', 'time-to-make', 'course...</td>\n",
              "      <td>[51.5, 0.0, 13.0, 0.0, 2.0, 0.0, 4.0]</td>\n",
              "      <td>11</td>\n",
              "      <td>['make a choice and proceed with recipe', 'dep...</td>\n",
              "      <td>autumn is my favorite time of year to cook! th...</td>\n",
              "      <td>['winter squash', 'mexican seasoning', 'mixed ...</td>\n",
              "      <td>7</td>\n",
              "    </tr>\n",
              "    <tr>\n",
              "      <th>1</th>\n",
              "      <td>a bit different  breakfast pizza</td>\n",
              "      <td>31490</td>\n",
              "      <td>30</td>\n",
              "      <td>26278</td>\n",
              "      <td>2002-06-17</td>\n",
              "      <td>['30-minutes-or-less', 'time-to-make', 'course...</td>\n",
              "      <td>[173.4, 18.0, 0.0, 17.0, 22.0, 35.0, 1.0]</td>\n",
              "      <td>9</td>\n",
              "      <td>['preheat oven to 425 degrees f', 'press dough...</td>\n",
              "      <td>this recipe calls for the crust to be prebaked...</td>\n",
              "      <td>['prepared pizza crust', 'sausage patty', 'egg...</td>\n",
              "      <td>6</td>\n",
              "    </tr>\n",
              "    <tr>\n",
              "      <th>2</th>\n",
              "      <td>all in the kitchen  chili</td>\n",
              "      <td>112140</td>\n",
              "      <td>130</td>\n",
              "      <td>196586</td>\n",
              "      <td>2005-02-25</td>\n",
              "      <td>['time-to-make', 'course', 'preparation', 'mai...</td>\n",
              "      <td>[269.8, 22.0, 32.0, 48.0, 39.0, 27.0, 5.0]</td>\n",
              "      <td>6</td>\n",
              "      <td>['brown ground beef in large pot', 'add choppe...</td>\n",
              "      <td>this modified version of 'mom's' chili was a h...</td>\n",
              "      <td>['ground beef', 'yellow onions', 'diced tomato...</td>\n",
              "      <td>13</td>\n",
              "    </tr>\n",
              "    <tr>\n",
              "      <th>3</th>\n",
              "      <td>alouette  potatoes</td>\n",
              "      <td>59389</td>\n",
              "      <td>45</td>\n",
              "      <td>68585</td>\n",
              "      <td>2003-04-14</td>\n",
              "      <td>['60-minutes-or-less', 'time-to-make', 'course...</td>\n",
              "      <td>[368.1, 17.0, 10.0, 2.0, 14.0, 8.0, 20.0]</td>\n",
              "      <td>11</td>\n",
              "      <td>['place potatoes in a large pot of lightly sal...</td>\n",
              "      <td>this is a super easy, great tasting, make ahea...</td>\n",
              "      <td>['spreadable cheese with garlic and herbs', 'n...</td>\n",
              "      <td>11</td>\n",
              "    </tr>\n",
              "    <tr>\n",
              "      <th>4</th>\n",
              "      <td>amish  tomato ketchup  for canning</td>\n",
              "      <td>44061</td>\n",
              "      <td>190</td>\n",
              "      <td>41706</td>\n",
              "      <td>2002-10-25</td>\n",
              "      <td>['weeknight', 'time-to-make', 'course', 'main-...</td>\n",
              "      <td>[352.9, 1.0, 337.0, 23.0, 3.0, 0.0, 28.0]</td>\n",
              "      <td>5</td>\n",
              "      <td>['mix all ingredients&amp; boil for 2 1 / 2 hours ...</td>\n",
              "      <td>my dh's amish mother raised him on this recipe...</td>\n",
              "      <td>['tomato juice', 'apple cider vinegar', 'sugar...</td>\n",
              "      <td>8</td>\n",
              "    </tr>\n",
              "  </tbody>\n",
              "</table>\n",
              "</div>"
            ],
            "text/plain": [
              "                                         name      id  minutes  \\\n",
              "0  arriba   baked winter squash mexican style  137739       55   \n",
              "1            a bit different  breakfast pizza   31490       30   \n",
              "2                   all in the kitchen  chili  112140      130   \n",
              "3                          alouette  potatoes   59389       45   \n",
              "4          amish  tomato ketchup  for canning   44061      190   \n",
              "\n",
              "   contributor_id   submitted  \\\n",
              "0           47892  2005-09-16   \n",
              "1           26278  2002-06-17   \n",
              "2          196586  2005-02-25   \n",
              "3           68585  2003-04-14   \n",
              "4           41706  2002-10-25   \n",
              "\n",
              "                                                tags  \\\n",
              "0  ['60-minutes-or-less', 'time-to-make', 'course...   \n",
              "1  ['30-minutes-or-less', 'time-to-make', 'course...   \n",
              "2  ['time-to-make', 'course', 'preparation', 'mai...   \n",
              "3  ['60-minutes-or-less', 'time-to-make', 'course...   \n",
              "4  ['weeknight', 'time-to-make', 'course', 'main-...   \n",
              "\n",
              "                                    nutrition  n_steps  \\\n",
              "0       [51.5, 0.0, 13.0, 0.0, 2.0, 0.0, 4.0]       11   \n",
              "1   [173.4, 18.0, 0.0, 17.0, 22.0, 35.0, 1.0]        9   \n",
              "2  [269.8, 22.0, 32.0, 48.0, 39.0, 27.0, 5.0]        6   \n",
              "3   [368.1, 17.0, 10.0, 2.0, 14.0, 8.0, 20.0]       11   \n",
              "4   [352.9, 1.0, 337.0, 23.0, 3.0, 0.0, 28.0]        5   \n",
              "\n",
              "                                               steps  \\\n",
              "0  ['make a choice and proceed with recipe', 'dep...   \n",
              "1  ['preheat oven to 425 degrees f', 'press dough...   \n",
              "2  ['brown ground beef in large pot', 'add choppe...   \n",
              "3  ['place potatoes in a large pot of lightly sal...   \n",
              "4  ['mix all ingredients& boil for 2 1 / 2 hours ...   \n",
              "\n",
              "                                         description  \\\n",
              "0  autumn is my favorite time of year to cook! th...   \n",
              "1  this recipe calls for the crust to be prebaked...   \n",
              "2  this modified version of 'mom's' chili was a h...   \n",
              "3  this is a super easy, great tasting, make ahea...   \n",
              "4  my dh's amish mother raised him on this recipe...   \n",
              "\n",
              "                                         ingredients  n_ingredients  \n",
              "0  ['winter squash', 'mexican seasoning', 'mixed ...              7  \n",
              "1  ['prepared pizza crust', 'sausage patty', 'egg...              6  \n",
              "2  ['ground beef', 'yellow onions', 'diced tomato...             13  \n",
              "3  ['spreadable cheese with garlic and herbs', 'n...             11  \n",
              "4  ['tomato juice', 'apple cider vinegar', 'sugar...              8  "
            ]
          },
          "execution_count": 4,
          "metadata": {},
          "output_type": "execute_result"
        }
      ],
      "source": [
        "raw_recipes = pd.read_csv('./sample_data/RAW_recipes.csv')\n",
        "raw_interactions = pd.read_csv('./sample_data/RAW_interactions.csv')\n",
        "raw_recipes.head()"
      ]
    },
    {
      "cell_type": "markdown",
      "metadata": {
        "id": "9_z_pQgv4fvC"
      },
      "source": [
        "Merge data interactions with recipe infos"
      ]
    },
    {
      "cell_type": "code",
      "execution_count": 5,
      "metadata": {
        "colab": {
          "base_uri": "https://localhost:8080/",
          "height": 293
        },
        "id": "ahU35J7P31xt",
        "outputId": "f26e3ef4-cfee-4ecd-b0bd-44e31a36503b"
      },
      "outputs": [
        {
          "data": {
            "text/html": [
              "<div>\n",
              "<style scoped>\n",
              "    .dataframe tbody tr th:only-of-type {\n",
              "        vertical-align: middle;\n",
              "    }\n",
              "\n",
              "    .dataframe tbody tr th {\n",
              "        vertical-align: top;\n",
              "    }\n",
              "\n",
              "    .dataframe thead th {\n",
              "        text-align: right;\n",
              "    }\n",
              "</style>\n",
              "<table border=\"1\" class=\"dataframe\">\n",
              "  <thead>\n",
              "    <tr style=\"text-align: right;\">\n",
              "      <th></th>\n",
              "      <th>user_id</th>\n",
              "      <th>recipe_id</th>\n",
              "      <th>rating</th>\n",
              "      <th>recipe_name</th>\n",
              "      <th>tags</th>\n",
              "      <th>ingredients</th>\n",
              "    </tr>\n",
              "  </thead>\n",
              "  <tbody>\n",
              "    <tr>\n",
              "      <th>0</th>\n",
              "      <td>38094</td>\n",
              "      <td>40893</td>\n",
              "      <td>4</td>\n",
              "      <td>white bean   green chile pepper soup</td>\n",
              "      <td>['weeknight', 'time-to-make', 'course', 'main-...</td>\n",
              "      <td>['great northern beans', 'yellow onion', 'dice...</td>\n",
              "    </tr>\n",
              "    <tr>\n",
              "      <th>1</th>\n",
              "      <td>1293707</td>\n",
              "      <td>40893</td>\n",
              "      <td>5</td>\n",
              "      <td>white bean   green chile pepper soup</td>\n",
              "      <td>['weeknight', 'time-to-make', 'course', 'main-...</td>\n",
              "      <td>['great northern beans', 'yellow onion', 'dice...</td>\n",
              "    </tr>\n",
              "    <tr>\n",
              "      <th>2</th>\n",
              "      <td>8937</td>\n",
              "      <td>44394</td>\n",
              "      <td>4</td>\n",
              "      <td>devilicious cookie cake delights</td>\n",
              "      <td>['30-minutes-or-less', 'time-to-make', 'course...</td>\n",
              "      <td>[\"devil's food cake mix\", 'vegetable oil', 'eg...</td>\n",
              "    </tr>\n",
              "    <tr>\n",
              "      <th>3</th>\n",
              "      <td>126440</td>\n",
              "      <td>85009</td>\n",
              "      <td>5</td>\n",
              "      <td>baked potato toppings</td>\n",
              "      <td>['15-minutes-or-less', 'time-to-make', 'course...</td>\n",
              "      <td>['mayonnaise', 'salsa', 'cheddar cheese', 'ref...</td>\n",
              "    </tr>\n",
              "    <tr>\n",
              "      <th>4</th>\n",
              "      <td>57222</td>\n",
              "      <td>85009</td>\n",
              "      <td>5</td>\n",
              "      <td>baked potato toppings</td>\n",
              "      <td>['15-minutes-or-less', 'time-to-make', 'course...</td>\n",
              "      <td>['mayonnaise', 'salsa', 'cheddar cheese', 'ref...</td>\n",
              "    </tr>\n",
              "  </tbody>\n",
              "</table>\n",
              "</div>"
            ],
            "text/plain": [
              "   user_id  recipe_id  rating                           recipe_name  \\\n",
              "0    38094      40893       4  white bean   green chile pepper soup   \n",
              "1  1293707      40893       5  white bean   green chile pepper soup   \n",
              "2     8937      44394       4      devilicious cookie cake delights   \n",
              "3   126440      85009       5                 baked potato toppings   \n",
              "4    57222      85009       5                 baked potato toppings   \n",
              "\n",
              "                                                tags  \\\n",
              "0  ['weeknight', 'time-to-make', 'course', 'main-...   \n",
              "1  ['weeknight', 'time-to-make', 'course', 'main-...   \n",
              "2  ['30-minutes-or-less', 'time-to-make', 'course...   \n",
              "3  ['15-minutes-or-less', 'time-to-make', 'course...   \n",
              "4  ['15-minutes-or-less', 'time-to-make', 'course...   \n",
              "\n",
              "                                         ingredients  \n",
              "0  ['great northern beans', 'yellow onion', 'dice...  \n",
              "1  ['great northern beans', 'yellow onion', 'dice...  \n",
              "2  [\"devil's food cake mix\", 'vegetable oil', 'eg...  \n",
              "3  ['mayonnaise', 'salsa', 'cheddar cheese', 'ref...  \n",
              "4  ['mayonnaise', 'salsa', 'cheddar cheese', 'ref...  "
            ]
          },
          "execution_count": 5,
          "metadata": {},
          "output_type": "execute_result"
        }
      ],
      "source": [
        "interactions_with_recipe_info = pd.merge(raw_interactions, raw_recipes[['name', 'tags', 'ingredients', 'id']], left_on='recipe_id', right_on='id', how='left')\n",
        "interactions_with_recipe_info = interactions_with_recipe_info[['user_id', 'recipe_id', 'rating', 'name', 'tags', 'ingredients']]\n",
        "interactions_with_recipe_info.rename(columns={'name': 'recipe_name'}, inplace=True)\n",
        "interactions_with_recipe_info.head()"
      ]
    },
    {
      "cell_type": "code",
      "execution_count": 6,
      "metadata": {
        "id": "a47R5lVA2r_t"
      },
      "outputs": [],
      "source": [
        "import ast\n",
        "\n",
        "def convert_to_list(data_str):\n",
        "  try:\n",
        "    return ast.literal_eval(data_str)\n",
        "  except (SyntaxError, ValueError):\n",
        "    return []"
      ]
    },
    {
      "cell_type": "code",
      "execution_count": 7,
      "metadata": {
        "id": "Fai3Kw-i7xmw"
      },
      "outputs": [],
      "source": [
        "interactions_with_recipe_info['ingredients_str'] = interactions_with_recipe_info['ingredients'].apply(convert_to_list)\n",
        "interactions_with_recipe_info['tags_str'] = interactions_with_recipe_info['tags'].apply(convert_to_list)\n",
        "raw_recipes['ingredients_str'] = raw_recipes['ingredients'].apply(convert_to_list)\n",
        "raw_recipes['tags_str'] = raw_recipes['tags'].apply(convert_to_list)"
      ]
    },
    {
      "cell_type": "markdown",
      "metadata": {
        "id": "nVgYKJQ57wyE"
      },
      "source": [
        "Formatting data for Datasets"
      ]
    },
    {
      "cell_type": "code",
      "execution_count": 8,
      "metadata": {
        "id": "6wavCmee7zWl"
      },
      "outputs": [],
      "source": [
        "interactions_with_recipe_info['user_id'] = interactions_with_recipe_info.user_id.astype(\"str\")\n",
        "interactions_with_recipe_info['recipe_id'] = interactions_with_recipe_info.recipe_id.astype(\"str\")\n",
        "interactions_with_recipe_info['rating'] = interactions_with_recipe_info.rating.astype(np.float32)\n",
        "interactions_with_recipe_info['recipe_name'] = interactions_with_recipe_info.recipe_name.astype(\"str\")\n",
        "interactions_with_recipe_info['tags'] = interactions_with_recipe_info.tags.astype(\"str\")\n",
        "interactions_with_recipe_info['ingredients'] = interactions_with_recipe_info.ingredients.astype(\"str\")\n"
      ]
    },
    {
      "cell_type": "code",
      "execution_count": 9,
      "metadata": {
        "colab": {
          "base_uri": "https://localhost:8080/"
        },
        "id": "MNJZsenzBSOO",
        "outputId": "44524d39-038a-44ea-f3a4-173df25eae43"
      },
      "outputs": [
        {
          "data": {
            "text/plain": [
              "226570"
            ]
          },
          "execution_count": 9,
          "metadata": {},
          "output_type": "execute_result"
        }
      ],
      "source": [
        "len(interactions_with_recipe_info['user_id'].unique())"
      ]
    },
    {
      "cell_type": "markdown",
      "metadata": {
        "id": "ZMXuOAHX9sgD"
      },
      "source": [
        "Creating train preferences for users"
      ]
    },
    {
      "cell_type": "code",
      "execution_count": 10,
      "metadata": {
        "colab": {
          "base_uri": "https://localhost:8080/",
          "height": 206
        },
        "id": "4XwFlxfM9wJI",
        "outputId": "c018cb40-8d45-400f-93bf-e5dc2ee5b992"
      },
      "outputs": [
        {
          "data": {
            "text/html": [
              "<div>\n",
              "<style scoped>\n",
              "    .dataframe tbody tr th:only-of-type {\n",
              "        vertical-align: middle;\n",
              "    }\n",
              "\n",
              "    .dataframe tbody tr th {\n",
              "        vertical-align: top;\n",
              "    }\n",
              "\n",
              "    .dataframe thead th {\n",
              "        text-align: right;\n",
              "    }\n",
              "</style>\n",
              "<table border=\"1\" class=\"dataframe\">\n",
              "  <thead>\n",
              "    <tr style=\"text-align: right;\">\n",
              "      <th></th>\n",
              "      <th>user_id</th>\n",
              "      <th>rating</th>\n",
              "      <th>tags_str</th>\n",
              "    </tr>\n",
              "  </thead>\n",
              "  <tbody>\n",
              "    <tr>\n",
              "      <th>0</th>\n",
              "      <td>38094</td>\n",
              "      <td>4.0</td>\n",
              "      <td>[weeknight, time-to-make, course, main-ingredi...</td>\n",
              "    </tr>\n",
              "    <tr>\n",
              "      <th>1</th>\n",
              "      <td>1293707</td>\n",
              "      <td>5.0</td>\n",
              "      <td>[weeknight, time-to-make, course, main-ingredi...</td>\n",
              "    </tr>\n",
              "    <tr>\n",
              "      <th>2</th>\n",
              "      <td>8937</td>\n",
              "      <td>4.0</td>\n",
              "      <td>[30-minutes-or-less, time-to-make, course, mai...</td>\n",
              "    </tr>\n",
              "    <tr>\n",
              "      <th>3</th>\n",
              "      <td>126440</td>\n",
              "      <td>5.0</td>\n",
              "      <td>[15-minutes-or-less, time-to-make, course, mai...</td>\n",
              "    </tr>\n",
              "    <tr>\n",
              "      <th>4</th>\n",
              "      <td>57222</td>\n",
              "      <td>5.0</td>\n",
              "      <td>[15-minutes-or-less, time-to-make, course, mai...</td>\n",
              "    </tr>\n",
              "  </tbody>\n",
              "</table>\n",
              "</div>"
            ],
            "text/plain": [
              "   user_id  rating                                           tags_str\n",
              "0    38094     4.0  [weeknight, time-to-make, course, main-ingredi...\n",
              "1  1293707     5.0  [weeknight, time-to-make, course, main-ingredi...\n",
              "2     8937     4.0  [30-minutes-or-less, time-to-make, course, mai...\n",
              "3   126440     5.0  [15-minutes-or-less, time-to-make, course, mai...\n",
              "4    57222     5.0  [15-minutes-or-less, time-to-make, course, mai..."
            ]
          },
          "execution_count": 10,
          "metadata": {},
          "output_type": "execute_result"
        }
      ],
      "source": [
        "user_preferences = interactions_with_recipe_info[['user_id', 'rating', 'tags_str']]\n",
        "user_preferences.head()"
      ]
    },
    {
      "cell_type": "code",
      "execution_count": 11,
      "metadata": {
        "id": "RN5oeRb--M5o"
      },
      "outputs": [],
      "source": [
        "user_liked_tags = user_preferences[user_preferences['rating'] >= 3].groupby('user_id')['tags_str'].apply(list).reset_index()\n",
        "user_unliked_tags = user_preferences[user_preferences['rating'] < 3].groupby('user_id')['tags_str'].apply(list).reset_index()\n",
        "users_ds = pd.DataFrame(interactions_with_recipe_info['user_id'].unique(), columns=['user_id'])\n"
      ]
    },
    {
      "cell_type": "code",
      "execution_count": 12,
      "metadata": {
        "id": "swe2hQ9dBZsI"
      },
      "outputs": [],
      "source": [
        "users_ds = users_ds.merge(user_liked_tags, on='user_id', how='left')\n",
        "users_ds = users_ds.rename(columns={'tags_str': 'liked_tags'})\n",
        "users_ds = users_ds.merge(user_unliked_tags, on='user_id', how='left')\n",
        "users_ds = users_ds.rename(columns={'tags_str': 'unliked_tags'})"
      ]
    },
    {
      "cell_type": "code",
      "execution_count": 13,
      "metadata": {
        "colab": {
          "base_uri": "https://localhost:8080/",
          "height": 206
        },
        "id": "M2fouB8BCOLp",
        "outputId": "f28b08de-b1ec-49c8-8dc9-6a88074c7444"
      },
      "outputs": [
        {
          "data": {
            "text/html": [
              "<div>\n",
              "<style scoped>\n",
              "    .dataframe tbody tr th:only-of-type {\n",
              "        vertical-align: middle;\n",
              "    }\n",
              "\n",
              "    .dataframe tbody tr th {\n",
              "        vertical-align: top;\n",
              "    }\n",
              "\n",
              "    .dataframe thead th {\n",
              "        text-align: right;\n",
              "    }\n",
              "</style>\n",
              "<table border=\"1\" class=\"dataframe\">\n",
              "  <thead>\n",
              "    <tr style=\"text-align: right;\">\n",
              "      <th></th>\n",
              "      <th>user_id</th>\n",
              "      <th>liked_tags</th>\n",
              "      <th>unliked_tags</th>\n",
              "    </tr>\n",
              "  </thead>\n",
              "  <tbody>\n",
              "    <tr>\n",
              "      <th>0</th>\n",
              "      <td>38094</td>\n",
              "      <td>[[weeknight, time-to-make, course, main-ingred...</td>\n",
              "      <td>NaN</td>\n",
              "    </tr>\n",
              "    <tr>\n",
              "      <th>1</th>\n",
              "      <td>1293707</td>\n",
              "      <td>[[weeknight, time-to-make, course, main-ingred...</td>\n",
              "      <td>[[60-minutes-or-less, time-to-make, course, ma...</td>\n",
              "    </tr>\n",
              "    <tr>\n",
              "      <th>2</th>\n",
              "      <td>8937</td>\n",
              "      <td>[[30-minutes-or-less, time-to-make, course, ma...</td>\n",
              "      <td>NaN</td>\n",
              "    </tr>\n",
              "    <tr>\n",
              "      <th>3</th>\n",
              "      <td>126440</td>\n",
              "      <td>[[15-minutes-or-less, time-to-make, course, ma...</td>\n",
              "      <td>[[60-minutes-or-less, time-to-make, course, pr...</td>\n",
              "    </tr>\n",
              "    <tr>\n",
              "      <th>4</th>\n",
              "      <td>57222</td>\n",
              "      <td>[[15-minutes-or-less, time-to-make, course, ma...</td>\n",
              "      <td>[[60-minutes-or-less, time-to-make, course, ma...</td>\n",
              "    </tr>\n",
              "  </tbody>\n",
              "</table>\n",
              "</div>"
            ],
            "text/plain": [
              "   user_id                                         liked_tags  \\\n",
              "0    38094  [[weeknight, time-to-make, course, main-ingred...   \n",
              "1  1293707  [[weeknight, time-to-make, course, main-ingred...   \n",
              "2     8937  [[30-minutes-or-less, time-to-make, course, ma...   \n",
              "3   126440  [[15-minutes-or-less, time-to-make, course, ma...   \n",
              "4    57222  [[15-minutes-or-less, time-to-make, course, ma...   \n",
              "\n",
              "                                        unliked_tags  \n",
              "0                                                NaN  \n",
              "1  [[60-minutes-or-less, time-to-make, course, ma...  \n",
              "2                                                NaN  \n",
              "3  [[60-minutes-or-less, time-to-make, course, pr...  \n",
              "4  [[60-minutes-or-less, time-to-make, course, ma...  "
            ]
          },
          "execution_count": 13,
          "metadata": {},
          "output_type": "execute_result"
        }
      ],
      "source": [
        "users_ds.head()"
      ]
    },
    {
      "cell_type": "markdown",
      "metadata": {
        "id": "O9knZ5NNC1C0"
      },
      "source": [
        "Looking that some of users don't have unliked_tags, so replace all Nan with empty arrays"
      ]
    },
    {
      "cell_type": "code",
      "execution_count": 14,
      "metadata": {
        "id": "eZUt0mAcDLVQ"
      },
      "outputs": [],
      "source": [
        "def unique_tags_in_list(tags_list):\n",
        "  if isinstance(tags_list, list):\n",
        "    unique_tags = []\n",
        "    for sublist in tags_list:\n",
        "      if isinstance(sublist, list):\n",
        "        for tag in sublist:\n",
        "          if tag not in unique_tags:\n",
        "            unique_tags.append(tag)\n",
        "    return unique_tags\n",
        "  else:\n",
        "    return []\n",
        "\n",
        "users_ds['liked_tags'] = users_ds['liked_tags'].apply(unique_tags_in_list)\n",
        "users_ds['unliked_tags'] = users_ds['unliked_tags'].apply(unique_tags_in_list)"
      ]
    },
    {
      "cell_type": "code",
      "execution_count": 15,
      "metadata": {
        "id": "OpuGJ1nTFoVR"
      },
      "outputs": [],
      "source": [
        "def remove_duplicate_tags(row):\n",
        "  liked_tags = set(row['liked_tags']) if isinstance(row['liked_tags'], list) else set()\n",
        "  unliked_tags = set(row['unliked_tags']) if isinstance(row['unliked_tags'], list) else set()\n",
        "  duplicate_tags = liked_tags.intersection(unliked_tags)\n",
        "  row['liked_tags'] = [tag for tag in row['liked_tags'] if tag not in duplicate_tags] if isinstance(row['liked_tags'], list) else []\n",
        "  row['unliked_tags'] = [tag for tag in row['unliked_tags'] if tag not in duplicate_tags] if isinstance(row['unliked_tags'], list) else []\n",
        "  return row\n",
        "\n",
        "users_ds = users_ds.apply(remove_duplicate_tags, axis=1)\n"
      ]
    },
    {
      "cell_type": "code",
      "execution_count": 16,
      "metadata": {
        "colab": {
          "base_uri": "https://localhost:8080/",
          "height": 206
        },
        "id": "9qRO0tcMF9-X",
        "outputId": "bdbccbcd-2a5f-48c4-a981-76a5231cc610"
      },
      "outputs": [
        {
          "data": {
            "text/html": [
              "<div>\n",
              "<style scoped>\n",
              "    .dataframe tbody tr th:only-of-type {\n",
              "        vertical-align: middle;\n",
              "    }\n",
              "\n",
              "    .dataframe tbody tr th {\n",
              "        vertical-align: top;\n",
              "    }\n",
              "\n",
              "    .dataframe thead th {\n",
              "        text-align: right;\n",
              "    }\n",
              "</style>\n",
              "<table border=\"1\" class=\"dataframe\">\n",
              "  <thead>\n",
              "    <tr style=\"text-align: right;\">\n",
              "      <th></th>\n",
              "      <th>user_id</th>\n",
              "      <th>liked_tags</th>\n",
              "      <th>unliked_tags</th>\n",
              "    </tr>\n",
              "  </thead>\n",
              "  <tbody>\n",
              "    <tr>\n",
              "      <th>0</th>\n",
              "      <td>38094</td>\n",
              "      <td>[weeknight, time-to-make, course, main-ingredi...</td>\n",
              "      <td>[]</td>\n",
              "    </tr>\n",
              "    <tr>\n",
              "      <th>1</th>\n",
              "      <td>1293707</td>\n",
              "      <td>[weeknight, soups-stews, beans, crock-pot-slow...</td>\n",
              "      <td>[cupcakes, finger-food, cakes, english, cake-f...</td>\n",
              "    </tr>\n",
              "    <tr>\n",
              "      <th>2</th>\n",
              "      <td>8937</td>\n",
              "      <td>[30-minutes-or-less, time-to-make, course, mai...</td>\n",
              "      <td>[]</td>\n",
              "    </tr>\n",
              "    <tr>\n",
              "      <th>3</th>\n",
              "      <td>126440</td>\n",
              "      <td>[15-minutes-or-less, 3-steps-or-less, jewish-s...</td>\n",
              "      <td>[]</td>\n",
              "    </tr>\n",
              "    <tr>\n",
              "      <th>4</th>\n",
              "      <td>57222</td>\n",
              "      <td>[condiments-etc, salads, beans, grains, south-...</td>\n",
              "      <td>[kwanzaa, dairy-free]</td>\n",
              "    </tr>\n",
              "  </tbody>\n",
              "</table>\n",
              "</div>"
            ],
            "text/plain": [
              "   user_id                                         liked_tags  \\\n",
              "0    38094  [weeknight, time-to-make, course, main-ingredi...   \n",
              "1  1293707  [weeknight, soups-stews, beans, crock-pot-slow...   \n",
              "2     8937  [30-minutes-or-less, time-to-make, course, mai...   \n",
              "3   126440  [15-minutes-or-less, 3-steps-or-less, jewish-s...   \n",
              "4    57222  [condiments-etc, salads, beans, grains, south-...   \n",
              "\n",
              "                                        unliked_tags  \n",
              "0                                                 []  \n",
              "1  [cupcakes, finger-food, cakes, english, cake-f...  \n",
              "2                                                 []  \n",
              "3                                                 []  \n",
              "4                              [kwanzaa, dairy-free]  "
            ]
          },
          "execution_count": 16,
          "metadata": {},
          "output_type": "execute_result"
        }
      ],
      "source": [
        "users_ds.head()"
      ]
    },
    {
      "cell_type": "code",
      "execution_count": 17,
      "metadata": {
        "id": "GjbluG3mGqXq"
      },
      "outputs": [],
      "source": [
        "interactions_with_recipe_info = pd.merge(interactions_with_recipe_info, users_ds, on='user_id', how='left')"
      ]
    },
    {
      "cell_type": "code",
      "execution_count": 18,
      "metadata": {
        "colab": {
          "base_uri": "https://localhost:8080/",
          "height": 293
        },
        "id": "2M49kWGoGvqs",
        "outputId": "a455af49-21b4-4b15-c5d2-3395ac926489"
      },
      "outputs": [
        {
          "data": {
            "text/html": [
              "<div>\n",
              "<style scoped>\n",
              "    .dataframe tbody tr th:only-of-type {\n",
              "        vertical-align: middle;\n",
              "    }\n",
              "\n",
              "    .dataframe tbody tr th {\n",
              "        vertical-align: top;\n",
              "    }\n",
              "\n",
              "    .dataframe thead th {\n",
              "        text-align: right;\n",
              "    }\n",
              "</style>\n",
              "<table border=\"1\" class=\"dataframe\">\n",
              "  <thead>\n",
              "    <tr style=\"text-align: right;\">\n",
              "      <th></th>\n",
              "      <th>user_id</th>\n",
              "      <th>recipe_id</th>\n",
              "      <th>rating</th>\n",
              "      <th>recipe_name</th>\n",
              "      <th>tags</th>\n",
              "      <th>ingredients</th>\n",
              "      <th>ingredients_str</th>\n",
              "      <th>tags_str</th>\n",
              "      <th>liked_tags</th>\n",
              "      <th>unliked_tags</th>\n",
              "    </tr>\n",
              "  </thead>\n",
              "  <tbody>\n",
              "    <tr>\n",
              "      <th>0</th>\n",
              "      <td>38094</td>\n",
              "      <td>40893</td>\n",
              "      <td>4.0</td>\n",
              "      <td>white bean   green chile pepper soup</td>\n",
              "      <td>['weeknight', 'time-to-make', 'course', 'main-...</td>\n",
              "      <td>['great northern beans', 'yellow onion', 'dice...</td>\n",
              "      <td>[great northern beans, yellow onion, diced gre...</td>\n",
              "      <td>[weeknight, time-to-make, course, main-ingredi...</td>\n",
              "      <td>[weeknight, time-to-make, course, main-ingredi...</td>\n",
              "      <td>[]</td>\n",
              "    </tr>\n",
              "    <tr>\n",
              "      <th>1</th>\n",
              "      <td>1293707</td>\n",
              "      <td>40893</td>\n",
              "      <td>5.0</td>\n",
              "      <td>white bean   green chile pepper soup</td>\n",
              "      <td>['weeknight', 'time-to-make', 'course', 'main-...</td>\n",
              "      <td>['great northern beans', 'yellow onion', 'dice...</td>\n",
              "      <td>[great northern beans, yellow onion, diced gre...</td>\n",
              "      <td>[weeknight, time-to-make, course, main-ingredi...</td>\n",
              "      <td>[weeknight, soups-stews, beans, crock-pot-slow...</td>\n",
              "      <td>[cupcakes, finger-food, cakes, english, cake-f...</td>\n",
              "    </tr>\n",
              "    <tr>\n",
              "      <th>2</th>\n",
              "      <td>8937</td>\n",
              "      <td>44394</td>\n",
              "      <td>4.0</td>\n",
              "      <td>devilicious cookie cake delights</td>\n",
              "      <td>['30-minutes-or-less', 'time-to-make', 'course...</td>\n",
              "      <td>[\"devil's food cake mix\", 'vegetable oil', 'eg...</td>\n",
              "      <td>[devil's food cake mix, vegetable oil, eggs, r...</td>\n",
              "      <td>[30-minutes-or-less, time-to-make, course, mai...</td>\n",
              "      <td>[30-minutes-or-less, time-to-make, course, mai...</td>\n",
              "      <td>[]</td>\n",
              "    </tr>\n",
              "    <tr>\n",
              "      <th>3</th>\n",
              "      <td>126440</td>\n",
              "      <td>85009</td>\n",
              "      <td>5.0</td>\n",
              "      <td>baked potato toppings</td>\n",
              "      <td>['15-minutes-or-less', 'time-to-make', 'course...</td>\n",
              "      <td>['mayonnaise', 'salsa', 'cheddar cheese', 'ref...</td>\n",
              "      <td>[mayonnaise, salsa, cheddar cheese, refried be...</td>\n",
              "      <td>[15-minutes-or-less, time-to-make, course, mai...</td>\n",
              "      <td>[15-minutes-or-less, 3-steps-or-less, jewish-s...</td>\n",
              "      <td>[]</td>\n",
              "    </tr>\n",
              "    <tr>\n",
              "      <th>4</th>\n",
              "      <td>57222</td>\n",
              "      <td>85009</td>\n",
              "      <td>5.0</td>\n",
              "      <td>baked potato toppings</td>\n",
              "      <td>['15-minutes-or-less', 'time-to-make', 'course...</td>\n",
              "      <td>['mayonnaise', 'salsa', 'cheddar cheese', 'ref...</td>\n",
              "      <td>[mayonnaise, salsa, cheddar cheese, refried be...</td>\n",
              "      <td>[15-minutes-or-less, time-to-make, course, mai...</td>\n",
              "      <td>[condiments-etc, salads, beans, grains, south-...</td>\n",
              "      <td>[kwanzaa, dairy-free]</td>\n",
              "    </tr>\n",
              "  </tbody>\n",
              "</table>\n",
              "</div>"
            ],
            "text/plain": [
              "   user_id recipe_id  rating                           recipe_name  \\\n",
              "0    38094     40893     4.0  white bean   green chile pepper soup   \n",
              "1  1293707     40893     5.0  white bean   green chile pepper soup   \n",
              "2     8937     44394     4.0      devilicious cookie cake delights   \n",
              "3   126440     85009     5.0                 baked potato toppings   \n",
              "4    57222     85009     5.0                 baked potato toppings   \n",
              "\n",
              "                                                tags  \\\n",
              "0  ['weeknight', 'time-to-make', 'course', 'main-...   \n",
              "1  ['weeknight', 'time-to-make', 'course', 'main-...   \n",
              "2  ['30-minutes-or-less', 'time-to-make', 'course...   \n",
              "3  ['15-minutes-or-less', 'time-to-make', 'course...   \n",
              "4  ['15-minutes-or-less', 'time-to-make', 'course...   \n",
              "\n",
              "                                         ingredients  \\\n",
              "0  ['great northern beans', 'yellow onion', 'dice...   \n",
              "1  ['great northern beans', 'yellow onion', 'dice...   \n",
              "2  [\"devil's food cake mix\", 'vegetable oil', 'eg...   \n",
              "3  ['mayonnaise', 'salsa', 'cheddar cheese', 'ref...   \n",
              "4  ['mayonnaise', 'salsa', 'cheddar cheese', 'ref...   \n",
              "\n",
              "                                     ingredients_str  \\\n",
              "0  [great northern beans, yellow onion, diced gre...   \n",
              "1  [great northern beans, yellow onion, diced gre...   \n",
              "2  [devil's food cake mix, vegetable oil, eggs, r...   \n",
              "3  [mayonnaise, salsa, cheddar cheese, refried be...   \n",
              "4  [mayonnaise, salsa, cheddar cheese, refried be...   \n",
              "\n",
              "                                            tags_str  \\\n",
              "0  [weeknight, time-to-make, course, main-ingredi...   \n",
              "1  [weeknight, time-to-make, course, main-ingredi...   \n",
              "2  [30-minutes-or-less, time-to-make, course, mai...   \n",
              "3  [15-minutes-or-less, time-to-make, course, mai...   \n",
              "4  [15-minutes-or-less, time-to-make, course, mai...   \n",
              "\n",
              "                                          liked_tags  \\\n",
              "0  [weeknight, time-to-make, course, main-ingredi...   \n",
              "1  [weeknight, soups-stews, beans, crock-pot-slow...   \n",
              "2  [30-minutes-or-less, time-to-make, course, mai...   \n",
              "3  [15-minutes-or-less, 3-steps-or-less, jewish-s...   \n",
              "4  [condiments-etc, salads, beans, grains, south-...   \n",
              "\n",
              "                                        unliked_tags  \n",
              "0                                                 []  \n",
              "1  [cupcakes, finger-food, cakes, english, cake-f...  \n",
              "2                                                 []  \n",
              "3                                                 []  \n",
              "4                              [kwanzaa, dairy-free]  "
            ]
          },
          "execution_count": 18,
          "metadata": {},
          "output_type": "execute_result"
        }
      ],
      "source": [
        "interactions_with_recipe_info.head()"
      ]
    },
    {
      "cell_type": "markdown",
      "metadata": {
        "id": "nzycE1Re7X9i"
      },
      "source": [
        "Creating datasets"
      ]
    },
    {
      "cell_type": "code",
      "execution_count": 19,
      "metadata": {
        "id": "aZMJRewvLYJb"
      },
      "outputs": [],
      "source": [
        "interactions_with_recipe_info['liked_tags_str'] = interactions_with_recipe_info['liked_tags'].apply(lambda x: ','.join(x))\n",
        "interactions_with_recipe_info['unliked_tags_str'] = interactions_with_recipe_info['unliked_tags'].apply(lambda x: ','.join(x))"
      ]
    },
    {
      "cell_type": "code",
      "execution_count": 20,
      "metadata": {
        "id": "2l72F9aCLw46"
      },
      "outputs": [],
      "source": [
        "def split_tags(tags_string):\n",
        "    return tf.strings.split(tags_string, ',')"
      ]
    },
    {
      "cell_type": "code",
      "execution_count": 21,
      "metadata": {
        "id": "1QwBdlgU7Xms"
      },
      "outputs": [],
      "source": [
        "ratings = tf.data.Dataset.from_tensor_slices((tf.cast(interactions_with_recipe_info['user_id'].values.reshape(-1,1), tf.string),\n",
        "                                              tf.cast(interactions_with_recipe_info['recipe_id'].values.reshape(-1,1), tf.string),\n",
        "                                              tf.cast(interactions_with_recipe_info['rating'].values.reshape(-1,1), tf.float32),\n",
        "                                              tf.cast(interactions_with_recipe_info['recipe_name'].values.reshape(-1,1), tf.string),\n",
        "                                              tf.cast(interactions_with_recipe_info['tags'].values.reshape(-1,1), tf.string),\n",
        "                                              tf.cast(interactions_with_recipe_info['liked_tags_str'].values.reshape(-1,1), tf.string),\n",
        "                                              tf.cast(interactions_with_recipe_info['unliked_tags_str'].values.reshape(-1,1), tf.string)\n",
        "                                              )).map(lambda x,x1,x2,x3,x4,x5,x6: {\n",
        "                                                  \"user_id\": x,\n",
        "                                                  \"recipe_id\": x1,\n",
        "                                                  \"rating\": x2,\n",
        "                                                  \"recipe_name\": x3,\n",
        "                                                  \"tags\": x4,\n",
        "                                                  \"liked_tags\": split_tags(x5),\n",
        "                                                  \"unliked_tags\": split_tags(x6)\n",
        "                                              })"
      ]
    },
    {
      "cell_type": "code",
      "execution_count": 22,
      "metadata": {
        "id": "8MS4nMhHMDgp"
      },
      "outputs": [],
      "source": [
        "raw_recipes['ingredients_str'] = raw_recipes['ingredients_str'].apply(lambda x: ','.join(x))\n",
        "raw_recipes['tags_str'] = raw_recipes['tags_str'].apply(lambda x: ','.join(x))"
      ]
    },
    {
      "cell_type": "code",
      "execution_count": 23,
      "metadata": {
        "colab": {
          "base_uri": "https://localhost:8080/",
          "height": 293
        },
        "id": "rqtiorEQMH8R",
        "outputId": "0cb1b61d-3171-4534-ec3b-1a6d617531ed"
      },
      "outputs": [
        {
          "data": {
            "text/html": [
              "<div>\n",
              "<style scoped>\n",
              "    .dataframe tbody tr th:only-of-type {\n",
              "        vertical-align: middle;\n",
              "    }\n",
              "\n",
              "    .dataframe tbody tr th {\n",
              "        vertical-align: top;\n",
              "    }\n",
              "\n",
              "    .dataframe thead th {\n",
              "        text-align: right;\n",
              "    }\n",
              "</style>\n",
              "<table border=\"1\" class=\"dataframe\">\n",
              "  <thead>\n",
              "    <tr style=\"text-align: right;\">\n",
              "      <th></th>\n",
              "      <th>name</th>\n",
              "      <th>id</th>\n",
              "      <th>minutes</th>\n",
              "      <th>contributor_id</th>\n",
              "      <th>submitted</th>\n",
              "      <th>tags</th>\n",
              "      <th>nutrition</th>\n",
              "      <th>n_steps</th>\n",
              "      <th>steps</th>\n",
              "      <th>description</th>\n",
              "      <th>ingredients</th>\n",
              "      <th>n_ingredients</th>\n",
              "      <th>ingredients_str</th>\n",
              "      <th>tags_str</th>\n",
              "    </tr>\n",
              "  </thead>\n",
              "  <tbody>\n",
              "    <tr>\n",
              "      <th>0</th>\n",
              "      <td>arriba   baked winter squash mexican style</td>\n",
              "      <td>137739</td>\n",
              "      <td>55</td>\n",
              "      <td>47892</td>\n",
              "      <td>2005-09-16</td>\n",
              "      <td>['60-minutes-or-less', 'time-to-make', 'course...</td>\n",
              "      <td>[51.5, 0.0, 13.0, 0.0, 2.0, 0.0, 4.0]</td>\n",
              "      <td>11</td>\n",
              "      <td>['make a choice and proceed with recipe', 'dep...</td>\n",
              "      <td>autumn is my favorite time of year to cook! th...</td>\n",
              "      <td>['winter squash', 'mexican seasoning', 'mixed ...</td>\n",
              "      <td>7</td>\n",
              "      <td>winter squash,mexican seasoning,mixed spice,ho...</td>\n",
              "      <td>60-minutes-or-less,time-to-make,course,main-in...</td>\n",
              "    </tr>\n",
              "    <tr>\n",
              "      <th>1</th>\n",
              "      <td>a bit different  breakfast pizza</td>\n",
              "      <td>31490</td>\n",
              "      <td>30</td>\n",
              "      <td>26278</td>\n",
              "      <td>2002-06-17</td>\n",
              "      <td>['30-minutes-or-less', 'time-to-make', 'course...</td>\n",
              "      <td>[173.4, 18.0, 0.0, 17.0, 22.0, 35.0, 1.0]</td>\n",
              "      <td>9</td>\n",
              "      <td>['preheat oven to 425 degrees f', 'press dough...</td>\n",
              "      <td>this recipe calls for the crust to be prebaked...</td>\n",
              "      <td>['prepared pizza crust', 'sausage patty', 'egg...</td>\n",
              "      <td>6</td>\n",
              "      <td>prepared pizza crust,sausage patty,eggs,milk,s...</td>\n",
              "      <td>30-minutes-or-less,time-to-make,course,main-in...</td>\n",
              "    </tr>\n",
              "    <tr>\n",
              "      <th>2</th>\n",
              "      <td>all in the kitchen  chili</td>\n",
              "      <td>112140</td>\n",
              "      <td>130</td>\n",
              "      <td>196586</td>\n",
              "      <td>2005-02-25</td>\n",
              "      <td>['time-to-make', 'course', 'preparation', 'mai...</td>\n",
              "      <td>[269.8, 22.0, 32.0, 48.0, 39.0, 27.0, 5.0]</td>\n",
              "      <td>6</td>\n",
              "      <td>['brown ground beef in large pot', 'add choppe...</td>\n",
              "      <td>this modified version of 'mom's' chili was a h...</td>\n",
              "      <td>['ground beef', 'yellow onions', 'diced tomato...</td>\n",
              "      <td>13</td>\n",
              "      <td>ground beef,yellow onions,diced tomatoes,tomat...</td>\n",
              "      <td>time-to-make,course,preparation,main-dish,chil...</td>\n",
              "    </tr>\n",
              "    <tr>\n",
              "      <th>3</th>\n",
              "      <td>alouette  potatoes</td>\n",
              "      <td>59389</td>\n",
              "      <td>45</td>\n",
              "      <td>68585</td>\n",
              "      <td>2003-04-14</td>\n",
              "      <td>['60-minutes-or-less', 'time-to-make', 'course...</td>\n",
              "      <td>[368.1, 17.0, 10.0, 2.0, 14.0, 8.0, 20.0]</td>\n",
              "      <td>11</td>\n",
              "      <td>['place potatoes in a large pot of lightly sal...</td>\n",
              "      <td>this is a super easy, great tasting, make ahea...</td>\n",
              "      <td>['spreadable cheese with garlic and herbs', 'n...</td>\n",
              "      <td>11</td>\n",
              "      <td>spreadable cheese with garlic and herbs,new po...</td>\n",
              "      <td>60-minutes-or-less,time-to-make,course,main-in...</td>\n",
              "    </tr>\n",
              "    <tr>\n",
              "      <th>4</th>\n",
              "      <td>amish  tomato ketchup  for canning</td>\n",
              "      <td>44061</td>\n",
              "      <td>190</td>\n",
              "      <td>41706</td>\n",
              "      <td>2002-10-25</td>\n",
              "      <td>['weeknight', 'time-to-make', 'course', 'main-...</td>\n",
              "      <td>[352.9, 1.0, 337.0, 23.0, 3.0, 0.0, 28.0]</td>\n",
              "      <td>5</td>\n",
              "      <td>['mix all ingredients&amp; boil for 2 1 / 2 hours ...</td>\n",
              "      <td>my dh's amish mother raised him on this recipe...</td>\n",
              "      <td>['tomato juice', 'apple cider vinegar', 'sugar...</td>\n",
              "      <td>8</td>\n",
              "      <td>tomato juice,apple cider vinegar,sugar,salt,pe...</td>\n",
              "      <td>weeknight,time-to-make,course,main-ingredient,...</td>\n",
              "    </tr>\n",
              "  </tbody>\n",
              "</table>\n",
              "</div>"
            ],
            "text/plain": [
              "                                         name      id  minutes  \\\n",
              "0  arriba   baked winter squash mexican style  137739       55   \n",
              "1            a bit different  breakfast pizza   31490       30   \n",
              "2                   all in the kitchen  chili  112140      130   \n",
              "3                          alouette  potatoes   59389       45   \n",
              "4          amish  tomato ketchup  for canning   44061      190   \n",
              "\n",
              "   contributor_id   submitted  \\\n",
              "0           47892  2005-09-16   \n",
              "1           26278  2002-06-17   \n",
              "2          196586  2005-02-25   \n",
              "3           68585  2003-04-14   \n",
              "4           41706  2002-10-25   \n",
              "\n",
              "                                                tags  \\\n",
              "0  ['60-minutes-or-less', 'time-to-make', 'course...   \n",
              "1  ['30-minutes-or-less', 'time-to-make', 'course...   \n",
              "2  ['time-to-make', 'course', 'preparation', 'mai...   \n",
              "3  ['60-minutes-or-less', 'time-to-make', 'course...   \n",
              "4  ['weeknight', 'time-to-make', 'course', 'main-...   \n",
              "\n",
              "                                    nutrition  n_steps  \\\n",
              "0       [51.5, 0.0, 13.0, 0.0, 2.0, 0.0, 4.0]       11   \n",
              "1   [173.4, 18.0, 0.0, 17.0, 22.0, 35.0, 1.0]        9   \n",
              "2  [269.8, 22.0, 32.0, 48.0, 39.0, 27.0, 5.0]        6   \n",
              "3   [368.1, 17.0, 10.0, 2.0, 14.0, 8.0, 20.0]       11   \n",
              "4   [352.9, 1.0, 337.0, 23.0, 3.0, 0.0, 28.0]        5   \n",
              "\n",
              "                                               steps  \\\n",
              "0  ['make a choice and proceed with recipe', 'dep...   \n",
              "1  ['preheat oven to 425 degrees f', 'press dough...   \n",
              "2  ['brown ground beef in large pot', 'add choppe...   \n",
              "3  ['place potatoes in a large pot of lightly sal...   \n",
              "4  ['mix all ingredients& boil for 2 1 / 2 hours ...   \n",
              "\n",
              "                                         description  \\\n",
              "0  autumn is my favorite time of year to cook! th...   \n",
              "1  this recipe calls for the crust to be prebaked...   \n",
              "2  this modified version of 'mom's' chili was a h...   \n",
              "3  this is a super easy, great tasting, make ahea...   \n",
              "4  my dh's amish mother raised him on this recipe...   \n",
              "\n",
              "                                         ingredients  n_ingredients  \\\n",
              "0  ['winter squash', 'mexican seasoning', 'mixed ...              7   \n",
              "1  ['prepared pizza crust', 'sausage patty', 'egg...              6   \n",
              "2  ['ground beef', 'yellow onions', 'diced tomato...             13   \n",
              "3  ['spreadable cheese with garlic and herbs', 'n...             11   \n",
              "4  ['tomato juice', 'apple cider vinegar', 'sugar...              8   \n",
              "\n",
              "                                     ingredients_str  \\\n",
              "0  winter squash,mexican seasoning,mixed spice,ho...   \n",
              "1  prepared pizza crust,sausage patty,eggs,milk,s...   \n",
              "2  ground beef,yellow onions,diced tomatoes,tomat...   \n",
              "3  spreadable cheese with garlic and herbs,new po...   \n",
              "4  tomato juice,apple cider vinegar,sugar,salt,pe...   \n",
              "\n",
              "                                            tags_str  \n",
              "0  60-minutes-or-less,time-to-make,course,main-in...  \n",
              "1  30-minutes-or-less,time-to-make,course,main-in...  \n",
              "2  time-to-make,course,preparation,main-dish,chil...  \n",
              "3  60-minutes-or-less,time-to-make,course,main-in...  \n",
              "4  weeknight,time-to-make,course,main-ingredient,...  "
            ]
          },
          "execution_count": 23,
          "metadata": {},
          "output_type": "execute_result"
        }
      ],
      "source": [
        "raw_recipes.head()"
      ]
    },
    {
      "cell_type": "code",
      "execution_count": 24,
      "metadata": {
        "id": "i8HzpEQW_YZw"
      },
      "outputs": [],
      "source": [
        "raw_recipes['id'] = raw_recipes.id.astype(\"str\")\n",
        "raw_recipes['name'] = raw_recipes.name.astype(\"str\")\n",
        "raw_recipes['tags'] = raw_recipes.tags.astype(\"str\")\n",
        "raw_recipes['ingredients'] = raw_recipes.ingredients.astype(\"str\")"
      ]
    },
    {
      "cell_type": "code",
      "execution_count": 25,
      "metadata": {
        "colab": {
          "base_uri": "https://localhost:8080/"
        },
        "id": "PvNaaXXCPzK2",
        "outputId": "d096fdf6-825f-4105-b630-1f8c0d177652"
      },
      "outputs": [
        {
          "name": "stdout",
          "output_type": "stream",
          "text": [
            "{'recipe_id': array([b'137739'], dtype=object), 'recipe_name': array([b'arriba   baked winter squash mexican style'], dtype=object), 'tags': array([[b'60-minutes-or-less', b'time-to-make', b'course',\n",
            "        b'main-ingredient', b'cuisine', b'preparation', b'occasion',\n",
            "        b'north-american', b'side-dishes', b'vegetables', b'mexican',\n",
            "        b'easy', b'fall', b'holiday-event', b'vegetarian', b'winter',\n",
            "        b'dietary', b'christmas', b'seasonal', b'squash']], dtype=object), 'ingredients': array([[b'winter squash', b'mexican seasoning', b'mixed spice', b'honey',\n",
            "        b'butter', b'olive oil', b'salt']], dtype=object)}\n"
          ]
        }
      ],
      "source": [
        "# prompt: Создай на основе raw_recipes датасет, но учти что ingredients_str это массив\n",
        "\n",
        "recipes = tf.data.Dataset.from_tensor_slices((tf.cast(raw_recipes['id'].values.reshape(-1, 1), tf.string),\n",
        "                                              tf.cast(raw_recipes['name'].values.reshape(-1, 1), tf.string),\n",
        "                                              tf.cast(raw_recipes['tags_str'].values.reshape(-1, 1), tf.string),\n",
        "                                              tf.cast(raw_recipes['ingredients_str'].values.reshape(-1, 1), tf.string),)).map(lambda x, x1, x2, x3: {\n",
        "                                                  \"recipe_id\": x,\n",
        "                                                  \"recipe_name\": x1,\n",
        "                                                  \"tags\": split_tags(x2),\n",
        "                                                  \"ingredients\": split_tags(x3)\n",
        "                                              })\n",
        "\n",
        "for data in recipes.take(1).as_numpy_iterator():\n",
        "  print(data)\n"
      ]
    },
    {
      "cell_type": "code",
      "execution_count": 26,
      "metadata": {
        "id": "jxTLSUjNgCLs"
      },
      "outputs": [],
      "source": [
        "recipe_names = tf.data.Dataset.from_tensor_slices((tf.cast(raw_recipes['name'].values.reshape(-1, 1), tf.string))).map(lambda x: x)"
      ]
    },
    {
      "cell_type": "markdown",
      "metadata": {
        "id": "3L-UtJ6K5N2B"
      },
      "source": [
        "# Towers 🗼"
      ]
    },
    {
      "cell_type": "markdown",
      "metadata": {
        "id": "oWGCI8IYBx3Z"
      },
      "source": [
        "For our towers set dimensionality of the query and candidate representations: **32**. Higher values will correspond to models that may be more accurate, but will also be slower to fit and more prone to overfitting."
      ]
    },
    {
      "cell_type": "code",
      "execution_count": 27,
      "metadata": {
        "id": "8H35ROAtB2L2"
      },
      "outputs": [],
      "source": [
        "embedding_dimension = 32"
      ]
    },
    {
      "cell_type": "markdown",
      "metadata": {
        "id": "UGLl4NdNBHoH"
      },
      "source": [
        "## User tower 👷"
      ]
    },
    {
      "cell_type": "markdown",
      "metadata": {
        "id": "S_w7g9Se6Lk_"
      },
      "source": [
        "Lets start creating our towers with User towers. We will compute by:\n",
        "1. User id\n",
        "2. Prefers and hates"
      ]
    },
    {
      "cell_type": "markdown",
      "metadata": {
        "id": "O0pr_riLBCKa"
      },
      "source": [
        "### User ID model"
      ]
    },
    {
      "cell_type": "code",
      "execution_count": 28,
      "metadata": {
        "colab": {
          "base_uri": "https://localhost:8080/"
        },
        "id": "IVERCEAMPPbE",
        "outputId": "e2631cda-7833-44b7-b005-542bb5f24933"
      },
      "outputs": [
        {
          "data": {
            "text/plain": [
              "array(['38094', '1293707', '8937', '126440', '57222', '52282', '124416',\n",
              "       '2000192946', '76535', '273745'], dtype=object)"
            ]
          },
          "execution_count": 28,
          "metadata": {},
          "output_type": "execute_result"
        }
      ],
      "source": [
        "unique_user_ids = users_ds[\"user_id\"].unique()\n",
        "unique_user_ids[:10]"
      ]
    },
    {
      "cell_type": "code",
      "execution_count": 29,
      "metadata": {
        "id": "czzDlM3O5S_y"
      },
      "outputs": [],
      "source": [
        "# user_ids = ratings.batch(1_000_000).map(lambda x: x[\"user_id\"])\n",
        "# unique_user_ids = np.unique(np.concatenate(list(user_ids)))\n",
        "# unique_user_ids[:10]"
      ]
    },
    {
      "cell_type": "code",
      "execution_count": 30,
      "metadata": {
        "id": "4DU-YbghCPJx"
      },
      "outputs": [
        {
          "name": "stdout",
          "output_type": "stream",
          "text": [
            "WARNING:tensorflow:From C:\\Users\\azdanevy\\AppData\\Roaming\\Python\\Python310\\site-packages\\keras\\src\\backend.py:873: The name tf.get_default_graph is deprecated. Please use tf.compat.v1.get_default_graph instead.\n",
            "\n"
          ]
        }
      ],
      "source": [
        "user_id_model = tf.keras.Sequential([\n",
        "  tf.keras.layers.StringLookup(\n",
        "      vocabulary=unique_user_ids, mask_token=None),\n",
        "  # We add an additional embedding to account for unknown tokens.\n",
        "  tf.keras.layers.Embedding(len(unique_user_ids)+1, embedding_dimension)\n",
        "])"
      ]
    },
    {
      "cell_type": "markdown",
      "metadata": {
        "id": "Q6e5kR2_MsOh"
      },
      "source": [
        "### User Prefers models"
      ]
    },
    {
      "cell_type": "code",
      "execution_count": 31,
      "metadata": {
        "id": "EOzP-NwLMvZI"
      },
      "outputs": [],
      "source": [
        "# prompt: модель для liked_tags которым стоит отдать предпочтение, но учти что liked_tags в датасете это массив\n",
        "\n",
        "unique_liked_tags = set()\n",
        "for tags in users_ds['liked_tags']:\n",
        "  if isinstance(tags, list):\n",
        "    for tag in tags:\n",
        "      unique_liked_tags.add(tag)\n",
        "unique_liked_tags = list(unique_liked_tags)\n",
        "\n",
        "liked_tags_model = tf.keras.Sequential([\n",
        "  tf.keras.layers.StringLookup(\n",
        "      vocabulary=unique_liked_tags, mask_token=None),\n",
        "  tf.keras.layers.Embedding(len(unique_liked_tags) + 1, embedding_dimension)\n",
        "])\n"
      ]
    },
    {
      "cell_type": "code",
      "execution_count": 32,
      "metadata": {
        "colab": {
          "base_uri": "https://localhost:8080/"
        },
        "id": "K_uNmQ2yREWq",
        "outputId": "6221b14d-1fcf-4517-ed41-f13c56f83186"
      },
      "outputs": [
        {
          "data": {
            "text/plain": [
              "['',\n",
              " 'african',\n",
              " 'rice',\n",
              " 'bread-pudding',\n",
              " 'college',\n",
              " 'leftovers',\n",
              " 'beef-organ-meats',\n",
              " 'breakfast-potatoes',\n",
              " 'steam',\n",
              " 'high-protein']"
            ]
          },
          "execution_count": 32,
          "metadata": {},
          "output_type": "execute_result"
        }
      ],
      "source": [
        "unique_liked_tags[:10]"
      ]
    },
    {
      "cell_type": "code",
      "execution_count": 33,
      "metadata": {
        "colab": {
          "base_uri": "https://localhost:8080/"
        },
        "id": "W4vprrUvRb3Y",
        "outputId": "3aa5cd85-e456-4cef-9b17-c8e0d4221dce"
      },
      "outputs": [
        {
          "data": {
            "text/plain": [
              "['',\n",
              " 'african',\n",
              " 'rice',\n",
              " 'bread-pudding',\n",
              " 'college',\n",
              " 'leftovers',\n",
              " 'beef-organ-meats',\n",
              " 'steam',\n",
              " 'high-protein',\n",
              " 'norwegian']"
            ]
          },
          "execution_count": 33,
          "metadata": {},
          "output_type": "execute_result"
        }
      ],
      "source": [
        "\n",
        "unique_unliked_tags = set()\n",
        "for tags in users_ds['unliked_tags']:\n",
        "  if isinstance(tags, list):\n",
        "    for tag in tags:\n",
        "      unique_unliked_tags.add(tag)\n",
        "unique_unliked_tags = list(unique_unliked_tags)\n",
        "\n",
        "unliked_tags_model = tf.keras.Sequential([\n",
        "  tf.keras.layers.StringLookup(\n",
        "      vocabulary=unique_unliked_tags, mask_token=None),\n",
        "  tf.keras.layers.Embedding(len(unique_unliked_tags) + 1, embedding_dimension)\n",
        "])\n",
        "unique_unliked_tags[:10]"
      ]
    },
    {
      "cell_type": "markdown",
      "metadata": {
        "id": "5Zt9V_nAHMqp"
      },
      "source": [
        "## Recipe tower 🌭"
      ]
    },
    {
      "cell_type": "code",
      "execution_count": 34,
      "metadata": {
        "colab": {
          "base_uri": "https://localhost:8080/"
        },
        "id": "e3zzDVmWJmSA",
        "outputId": "2b48e837-bb5f-4670-b353-bb91770413dd"
      },
      "outputs": [
        {
          "data": {
            "text/plain": [
              "array(['0 carb   0 cal gummy worms', '0 fat chunky watermelon salsa',\n",
              "       '0 point ice cream  only 1 ingredient', '0 point soup   ww',\n",
              "       '0 point soup  crock pot', '007  martini', '007 cocktail',\n",
              "       '1  2  3  swiss meringue buttercream', '1 00 tangy chicken recipe',\n",
              "       '1 000 artichoke hearts'], dtype='<U85')"
            ]
          },
          "execution_count": 34,
          "metadata": {},
          "output_type": "execute_result"
        }
      ],
      "source": [
        "unique_recipe_names = np.unique(list(raw_recipes[\"name\"].unique()))\n",
        "recipe_name_model = tf.keras.Sequential([\n",
        "  tf.keras.layers.StringLookup(\n",
        "      vocabulary=unique_recipe_names, mask_token=None),\n",
        "  # We add an additional embedding to account for unknown tokens.\n",
        "  tf.keras.layers.Embedding(len(unique_recipe_names) + 1, embedding_dimension)\n",
        "])\n",
        "unique_recipe_names[:10]"
      ]
    },
    {
      "cell_type": "code",
      "execution_count": 35,
      "metadata": {
        "colab": {
          "base_uri": "https://localhost:8080/"
        },
        "id": "h8rZOklso4NX",
        "outputId": "64110b89-9f3f-4cce-e81e-95939b66d3f9"
      },
      "outputs": [
        {
          "name": "stdout",
          "output_type": "stream",
          "text": [
            "WARNING:tensorflow:From C:\\Users\\azdanevy\\AppData\\Roaming\\Python\\Python310\\site-packages\\keras\\src\\utils\\tf_utils.py:492: The name tf.ragged.RaggedTensorValue is deprecated. Please use tf.compat.v1.ragged.RaggedTensorValue instead.\n",
            "\n"
          ]
        },
        {
          "data": {
            "text/plain": [
              "<tf.Tensor: shape=(1, 32), dtype=float32, numpy=\n",
              "array([[ 0.00325714,  0.02562556,  0.03951854,  0.01017045, -0.00872608,\n",
              "         0.00291462,  0.04694505,  0.02053418, -0.00848604,  0.03428784,\n",
              "        -0.03977381,  0.00920937, -0.00562949, -0.04887134,  0.04450646,\n",
              "        -0.01497799, -0.03692424,  0.04135099, -0.01470461, -0.00196909,\n",
              "         0.04411311,  0.0225222 ,  0.04636503,  0.01390475, -0.00886477,\n",
              "         0.02615524, -0.03024989,  0.01311851, -0.04282114, -0.01589217,\n",
              "         0.0213158 ,  0.02852312]], dtype=float32)>"
            ]
          },
          "execution_count": 35,
          "metadata": {},
          "output_type": "execute_result"
        }
      ],
      "source": [
        "# prompt: напиши вызов recipe_name_model\n",
        "\n",
        "recipe_name_model(['some recipe name'])\n"
      ]
    },
    {
      "cell_type": "markdown",
      "metadata": {
        "id": "q2VwZxnOCg9F"
      },
      "source": [
        "### Recipe ingredient&tag model"
      ]
    },
    {
      "cell_type": "code",
      "execution_count": 36,
      "metadata": {
        "colab": {
          "base_uri": "https://localhost:8080/"
        },
        "id": "QqUQ43gVQIUp",
        "outputId": "49f54edf-1d29-4efc-e338-84c05a6f7e16"
      },
      "outputs": [
        {
          "data": {
            "text/plain": [
              "array(['', '1-day-or-more', '15-minutes-or-less', '3-steps-or-less',\n",
              "       '30-minutes-or-less', '4-hours-or-less', '5-ingredients-or-less',\n",
              "       '60-minutes-or-less',\n",
              "       'Throw the ultimate fiesta with this sopaipillas recipe from Food.com.',\n",
              "       'a1-sauce'], dtype='<U69')"
            ]
          },
          "execution_count": 36,
          "metadata": {},
          "output_type": "execute_result"
        }
      ],
      "source": [
        "unique_tags = set()\n",
        "for tags in raw_recipes['tags'].apply(convert_to_list):\n",
        "  if isinstance(tags, list):\n",
        "    for tag in tags:\n",
        "      unique_tags.add(tag)\n",
        "unique_tags = np.unique(list(unique_tags))\n",
        "\n",
        "recipe_tags_model = tf.keras.Sequential([\n",
        "  tf.keras.layers.StringLookup(\n",
        "      vocabulary=unique_tags, mask_token=None),\n",
        "  tf.keras.layers.Embedding(len(unique_tags) + 1, embedding_dimension)\n",
        "])\n",
        "unique_tags[:10]"
      ]
    },
    {
      "cell_type": "markdown",
      "metadata": {
        "id": "n1dQh7uGI2ow"
      },
      "source": [
        "## Combine models"
      ]
    },
    {
      "cell_type": "code",
      "execution_count": 37,
      "metadata": {},
      "outputs": [],
      "source": [
        "class RecipeModel(tf.keras.Model):\n",
        "    def __init__(self, unique_recipe_names, unique_tags, embedding_dimension):\n",
        "        super().__init__()\n",
        "\n",
        "        self.recipe_model = tf.keras.Sequential([\n",
        "            tf.keras.layers.StringLookup(\n",
        "                vocabulary=unique_recipe_names, mask_token=None),\n",
        "            tf.keras.layers.Embedding(len(unique_recipe_names) + 1, embedding_dimension)\n",
        "        ])\n",
        "    \n",
        "    # Tags embeddings\n",
        "        self.tags_model = tf.keras.Sequential([\n",
        "            tf.keras.layers.StringLookup(\n",
        "                vocabulary=unique_tags, mask_token=None),\n",
        "            tf.keras.layers.Embedding(len(unique_tags) + 1, embedding_dimension)\n",
        "        ])\n",
        "        \n",
        "    def call(self, features):\n",
        "        # Inputs should contain \"recipe_name\" and \"tags\"\n",
        "        recipe_name = features[\"recipe_name\"]\n",
        "        tags = features[\"tags\"]\n",
        "\n",
        "        # Embed recipe name\n",
        "        recipe_embeddings = self.recipe_model(recipe_name)\n",
        "\n",
        "        tags_embeddings = self.tags_model(tags)\n",
        "        if(len(recipe_embeddings.shape.as_list())>=3): \n",
        "        #   recipe_embeddings = tf.reshape(recipe_embeddings, [1,32])\n",
        "           recipe_embeddings = tf.reshape(recipe_embeddings, [1,embedding_dimension])\n",
        "        if(len(tags_embeddings.shape.as_list())>=3):\n",
        "            tags_embeddings = tf.reshape(tags_embeddings, [1,embedding_dimension])\n",
        "        #   tags_embeddings = tf.reshape(tags_embeddings, [1,32])\n",
        "        recipe_embeddings = tf.concat([recipe_embeddings, tags_embeddings], axis=1)\n",
        "        return recipe_embeddings"
      ]
    },
    {
      "cell_type": "code",
      "execution_count": 54,
      "metadata": {},
      "outputs": [],
      "source": [
        "class UserModel(tf.keras.Model):\n",
        "    def __init__(self, unique_user_ids, unique_liked_tags, unique_unliked_tags, embedding_dimension):\n",
        "        super().__init__()\n",
        "        \n",
        "        # User ID embeddings\n",
        "        self.user_id_model = tf.keras.Sequential([\n",
        "            tf.keras.layers.StringLookup(\n",
        "                vocabulary=unique_user_ids, mask_token=None),\n",
        "            tf.keras.layers.Embedding(len(unique_user_ids) + 1, embedding_dimension)\n",
        "        ])\n",
        "        \n",
        "        # Liked tags embeddings\n",
        "        self.liked_tags_model = tf.keras.Sequential([\n",
        "            tf.keras.layers.StringLookup(\n",
        "                vocabulary=unique_liked_tags, mask_token=None),\n",
        "            tf.keras.layers.Embedding(len(unique_liked_tags) + 1, embedding_dimension)\n",
        "        ])\n",
        "\n",
        "        # Unliked tags embeddings\n",
        "        self.unliked_tags_model = tf.keras.Sequential([\n",
        "            tf.keras.layers.StringLookup(\n",
        "                vocabulary=unique_unliked_tags, mask_token=None),\n",
        "            tf.keras.layers.Embedding(len(unique_unliked_tags) + 1, embedding_dimension)\n",
        "        ])\n",
        "\n",
        "        # Penalty weight for unliked tags\n",
        "        self.penalty_weight = -0.5\n",
        "\n",
        "    def call(self, features):\n",
        "        # Inputs should contain \"user_id\", \"liked_tags\", and \"unliked_tags\"\n",
        "        user_id = features[\"user_id\"]\n",
        "        liked_tags = features[\"liked_tags\"]\n",
        "        unliked_tags = features[\"unliked_tags\"]\n",
        "        \n",
        "        # Embed user ID\n",
        "        user_id_embedding = self.user_id_model(user_id)\n",
        "        if(user_id_embedding.shape.as_list() == list([1,1,32])):\n",
        "            print(\"Fixed users\")\n",
        "            user_id_embedding = tf.reduce_mean(user_id_embedding, axis=1)\n",
        "        # Embed liked and unliked tags\n",
        "        liked_tags_embedding = self.liked_tags_model(liked_tags)\n",
        "        unliked_tags_embedding = self.unliked_tags_model(unliked_tags)\n",
        "        \n",
        "        # Apply penalty to unliked tags\n",
        "        unliked_tags_embedding = unliked_tags_embedding * self.penalty_weight\n",
        "        # Reduce mean to handle ragged tensors (different lengths of liked/unliked tags)\n",
        "        if(len(liked_tags_embedding.shape.as_list()) >=3):\n",
        "            liked_tags_embedding = tf.reduce_mean(liked_tags_embedding, axis=1)\n",
        "        if(len(unliked_tags_embedding.shape.as_list()) >=3):\n",
        "            unliked_tags_embedding = tf.reduce_mean(unliked_tags_embedding, axis=1)\n",
        "        # Concatenate user embeddings with liked and unliked tags\n",
        "        user_embedding = tf.concat([user_id_embedding, liked_tags_embedding, unliked_tags_embedding], axis=1)\n",
        "        \n",
        "        return user_embedding\n"
      ]
    },
    {
      "cell_type": "code",
      "execution_count": 57,
      "metadata": {},
      "outputs": [],
      "source": [
        "class RecipeAndUserModel(tfrs.Model):\n",
        "  \n",
        "  def _reduce_mean_if_needed(self, embedding):\n",
        "        \"\"\"Сокращает размерность эмбеддинга до среднего, если он многомерный.\"\"\"\n",
        "        if len(embedding.shape) >= 3:\n",
        "            return tf.reduce_mean(embedding, axis=1)\n",
        "        return embedding\n",
        "  \n",
        "  def __init__(self):\n",
        "    super().__init__()\n",
        "    unique_recipe_names = np.unique(list(raw_recipes[\"name\"].unique()))\n",
        "    self.user_model = UserModel(unique_user_ids, unique_liked_tags, unique_unliked_tags, embedding_dimension )\n",
        "\n",
        "    # Recipe embeddings\n",
        "    self.recipe_model = tf.keras.Sequential([\n",
        "      tf.keras.layers.StringLookup(\n",
        "          vocabulary=unique_recipe_names, mask_token=None),\n",
        "      tf.keras.layers.Embedding(len(unique_recipe_names) + 1, embedding_dimension)\n",
        "    ])\n",
        "    \n",
        "    # Tags embeddings\n",
        "    self.tags_model = tf.keras.Sequential([\n",
        "      tf.keras.layers.StringLookup(\n",
        "          vocabulary=unique_tags, mask_token=None),\n",
        "      tf.keras.layers.Embedding(len(unique_tags) + 1, embedding_dimension)\n",
        "    ])\n",
        "\n",
        "    self.task = tfrs.tasks.Retrieval(\n",
        "      metrics=tfrs.metrics.FactorizedTopK(\n",
        "          candidates=recipe_names.batch(128).map(lambda x: tf.squeeze(self.recipe_model(x), axis=1))\n",
        "      )\n",
        "    )\n",
        "    self.dense = tf.keras.layers.Dense(embedding_dimension)  # Сжимаем до размерности 32\n",
        "\n",
        "  def call(self, features: Dict[Text, tf.Tensor]) -> tf.Tensor:\n",
        "    user_embedding = self.user_model(features)\n",
        "    recipe_name_embeddings = self.recipe_model(features[\"recipe_name\"])\n",
        "    recipe_tag_embeddings = self.tags_model(features[\"tags\"])\n",
        "    if(recipe_name_embeddings.shape.as_list() == list([1,1,32])):\n",
        "      print(\"Fixed 1\")\n",
        "      recipe_name_embeddings = tf.reduce_mean(recipe_name_embeddings, axis=1)\n",
        "    if(recipe_tag_embeddings.shape.as_list() == list([1,1,32])):\n",
        "      print(\"Fixed 2\")\n",
        "      recipe_tag_embeddings = tf.reduce_mean(recipe_tag_embeddings, axis=1)\n",
        "    recipe_embeddings = tf.concat([recipe_name_embeddings, recipe_tag_embeddings], axis=1)\n",
        "    return user_embedding, recipe_embeddings\n",
        "\n",
        "\n",
        "  def compute_loss(self, features: Dict[Text, tf.Tensor], training=False) -> tf.Tensor:\n",
        "    user_embeddings, recipe_embeddings = self(features)\n",
        "    print(user_embeddings.shape, recipe_embeddings.shape)\n",
        "    user_embeddings = self._reduce_mean_if_needed(user_embeddings)\n",
        "    recipe_embeddings = self._reduce_mean_if_needed(recipe_embeddings)\n",
        "    return self.task(user_embeddings, recipe_embeddings)\n"
      ]
    },
    {
      "cell_type": "code",
      "execution_count": 71,
      "metadata": {
        "id": "4ln6bTE6XuUT"
      },
      "outputs": [],
      "source": [
        "# Randomly shuffle data and split between train and test.\n",
        "tf.random.set_seed(42)\n",
        "shuffled = ratings.shuffle(100_000, seed=42, reshuffle_each_iteration=False)\n",
        "\n",
        "train = shuffled.take(80_000)\n",
        "test = shuffled.skip(80_000).take(20_000)\n",
        "\n",
        "cached_train = train.shuffle(100_000).batch(8192).cache()\n",
        "cached_test = test.batch(4096).cache()"
      ]
    },
    {
      "cell_type": "code",
      "execution_count": 58,
      "metadata": {
        "id": "-7Gi0OYpUbOM"
      },
      "outputs": [
        {
          "name": "stdout",
          "output_type": "stream",
          "text": [
            "(None, None, 32) (None, 2, 32)\n",
            "(None, None, 32) (None, 2, 32)\n",
            "10/10 [==============================] - 245s 24s/step - factorized_top_k/top_1_categorical_accuracy: 0.0000e+00 - factorized_top_k/top_5_categorical_accuracy: 0.0043 - factorized_top_k/top_10_categorical_accuracy: 0.0076 - factorized_top_k/top_50_categorical_accuracy: 0.0150 - factorized_top_k/top_100_categorical_accuracy: 0.0198 - loss: 70343.2727 - regularization_loss: 0.0000e+00 - total_loss: 70343.2727\n"
          ]
        },
        {
          "data": {
            "text/plain": [
              "<keras.src.callbacks.History at 0x26a160b9cf0>"
            ]
          },
          "execution_count": 58,
          "metadata": {},
          "output_type": "execute_result"
        }
      ],
      "source": [
        "model = RecipeAndUserModel()\n",
        "model.compile(optimizer=tf.keras.optimizers.Adagrad(learning_rate=0.1))\n",
        "model.fit(cached_train, epochs=1)"
      ]
    },
    {
      "cell_type": "code",
      "execution_count": 59,
      "metadata": {},
      "outputs": [
        {
          "name": "stdout",
          "output_type": "stream",
          "text": [
            "Fixed 1\n",
            "(<tf.Tensor: shape=(1, 96), dtype=float32, numpy=\n",
            "array([[ 2.8387915e-02, -4.1919567e-02, -2.9898509e-03,  5.1747635e-04,\n",
            "        -1.1478983e-02, -2.1425331e-02, -1.6046405e-02, -1.4370512e-02,\n",
            "         4.3389667e-02, -4.2174600e-02,  1.0318231e-02, -3.4894742e-02,\n",
            "        -3.0525744e-02,  1.6551975e-02,  3.6430430e-02, -4.5409430e-02,\n",
            "        -6.6065304e-03, -1.1810254e-02,  4.6082679e-02,  3.9585140e-02,\n",
            "         4.0388051e-02, -3.3836558e-02, -1.0857917e-02, -2.2194326e-02,\n",
            "        -2.2310341e-02,  4.9556065e-02,  3.4445871e-02, -2.5607252e-02,\n",
            "         3.8904283e-02,  4.4810954e-02, -4.3374207e-02,  4.2346064e-02,\n",
            "        -1.3274769e-03, -2.5535086e-03,  1.0328115e-03, -4.8636185e-04,\n",
            "         1.0141272e-03,  7.8550185e-04, -9.3671220e-04,  3.0400911e-03,\n",
            "        -3.7901180e-03, -1.8935673e-03, -1.5376646e-03,  2.5155532e-04,\n",
            "         5.6363031e-04, -2.8636267e-03, -3.4368520e-03,  3.6528714e-03,\n",
            "        -7.2964968e-04, -9.4577274e-04, -1.9013633e-03, -5.3392261e-05,\n",
            "        -1.7263652e-03,  3.2622885e-04, -2.2400769e-03, -1.7554088e-03,\n",
            "         6.4531510e-04, -2.0965771e-03,  2.8547668e-03, -3.7598792e-03,\n",
            "         4.4238921e-03, -9.0528571e-04,  2.4627023e-03, -1.1674298e-03,\n",
            "        -7.8109670e-03, -2.3399724e-02, -9.7521003e-03,  3.7659109e-03,\n",
            "        -2.8267503e-04, -7.2988998e-03, -1.6813474e-02,  4.9023386e-03,\n",
            "         1.9004066e-02, -2.2914851e-02,  1.7352974e-02, -3.1618886e-03,\n",
            "         2.4100019e-02,  2.2715306e-02,  1.5854795e-02, -8.6502358e-04,\n",
            "         1.4356655e-02, -1.7560275e-02, -7.4788872e-03, -1.0374611e-02,\n",
            "         4.1125659e-03, -1.5747512e-02,  1.9863630e-02, -2.3775401e-02,\n",
            "        -1.2871139e-03, -9.5229503e-03, -2.4297429e-02, -1.2748837e-03,\n",
            "         1.8551704e-03, -7.0433374e-03,  8.6368434e-03,  6.4417124e-03]],\n",
            "      dtype=float32)>, <tf.Tensor: shape=(1, 64), dtype=float32, numpy=\n",
            "array([[ 0.00404231, -0.04258024, -0.04673254,  0.02170011, -0.00076176,\n",
            "         0.00389143, -0.00364643,  0.04064277,  0.02873242,  0.0025601 ,\n",
            "         0.02068514, -0.04462861,  0.03624365,  0.02545599,  0.00330538,\n",
            "        -0.01742711,  0.03951072,  0.02549431, -0.0341727 ,  0.00209787,\n",
            "         0.02594816, -0.00646508, -0.01945363,  0.02475945, -0.01187317,\n",
            "         0.04173565,  0.00042339,  0.03810035,  0.04765525,  0.03700081,\n",
            "        -0.0485018 , -0.03122563,  0.00109626,  0.00153442,  0.01499952,\n",
            "         0.01692886, -0.01492044, -0.00632743, -0.00986624, -0.03991435,\n",
            "        -0.04704059, -0.0203977 , -0.00633056,  0.02232823,  0.03312055,\n",
            "        -0.03121387, -0.04146973,  0.04922703, -0.03760557, -0.02472342,\n",
            "        -0.04833945, -0.04616909,  0.03206113, -0.02547398,  0.0396093 ,\n",
            "         0.00702387, -0.0168912 , -0.00516291, -0.03546758, -0.03374105,\n",
            "        -0.01357611, -0.0183568 , -0.02371961, -0.0270995 ]],\n",
            "      dtype=float32)>)\n"
          ]
        }
      ],
      "source": [
        "# prompt: Напиши код для теста model для пользователя 42\n",
        "model2 = RecipeAndUserModel()\n",
        "model2.compile(optimizer=tf.keras.optimizers.Adagrad(learning_rate=0.1))\n",
        "test_user = {}\n",
        "for data in test.take(1).as_numpy_iterator():\n",
        "  print(model2(data))"
      ]
    },
    {
      "cell_type": "code",
      "execution_count": null,
      "metadata": {},
      "outputs": [],
      "source": [
        "model.evaluate(cached_test, return_dict=True)"
      ]
    },
    {
      "cell_type": "markdown",
      "metadata": {},
      "source": [
        "### Making predictions"
      ]
    },
    {
      "cell_type": "code",
      "execution_count": 74,
      "metadata": {},
      "outputs": [
        {
          "name": "stdout",
          "output_type": "stream",
          "text": [
            "Fixed users\n",
            "5350      ['60-minutes-or-less', 'time-to-make', 'course...\n",
            "22737     ['weeknight', 'time-to-make', 'course', 'prepa...\n",
            "32248     ['60-minutes-or-less', 'time-to-make', 'course...\n",
            "50819     ['time-to-make', 'course', 'preparation', 'occ...\n",
            "60718     ['30-minutes-or-less', 'time-to-make', 'course...\n",
            "61112     ['60-minutes-or-less', 'time-to-make', 'course...\n",
            "74846     ['30-minutes-or-less', 'time-to-make', 'course...\n",
            "80223     ['15-minutes-or-less', 'time-to-make', 'course...\n",
            "117927    ['time-to-make', 'course', 'preparation', 'des...\n",
            "138140    ['60-minutes-or-less', 'time-to-make', 'course...\n",
            "149839    ['time-to-make', 'course', 'preparation', '5-i...\n",
            "151509    ['30-minutes-or-less', 'time-to-make', 'prepar...\n",
            "158436    ['15-minutes-or-less', 'time-to-make', 'course...\n",
            "190988    ['30-minutes-or-less', 'time-to-make', 'course...\n",
            "192283    ['30-minutes-or-less', 'time-to-make', 'course...\n",
            "Name: tags, dtype: object\n"
          ]
        }
      ],
      "source": [
        "# Извлечение данных пользователя\n",
        "test_user = {}\n",
        "for data in test.take(1).as_numpy_iterator():\n",
        "    test_user = data\n",
        "\n",
        "# Создание набора данных для тестового пользователя\n",
        "user_id_to_test = \"42\"  # Замените на нужный ID пользователя\n",
        "test_user_dataset = {\n",
        "    \"user_id\": np.array(test_user[\"user_id\"]),\n",
        "    \"liked_tags\": np.array([['30-minutes-or-less']]),\n",
        "    \"unliked_tags\": np.array([['60-minutes-or-less']])\n",
        "}\n",
        "\n",
        "brute_force = tfrs.layers.factorized_top_k.BruteForce(model.user_model)\n",
        "def _reduce_mean_if_needed(embedding):\n",
        "    \"\"\"Сокращает размерность эмбеддинга до среднего, если он многомерный.\"\"\"\n",
        "    if len(embedding.shape) >= 3:\n",
        "        return tf.reduce_mean(embedding, axis=1)\n",
        "    return embedding\n",
        "dense = tf.keras.layers.Dense(96)\n",
        "# Создание набора данных для рецептов и тегов\n",
        "def get_recipe_and_tag_embeddings(x):\n",
        "    recipe_embedding = model.recipe_model(x['recipe_name'])  # (None, 32)\n",
        "    tag_embedding = model.tags_model(x['tags'])  # (None, 32)\n",
        "    recipe_embedding =_reduce_mean_if_needed(recipe_embedding)\n",
        "    tag_embedding = _reduce_mean_if_needed(tag_embedding)\n",
        "    \n",
        "    combined_embeddings = tf.concat([_reduce_mean_if_needed(recipe_embedding),  _reduce_mean_if_needed(tag_embedding)], axis=1)  # (None, 64)\n",
        "    \n",
        "    return dense(combined_embeddings)\n",
        "\n",
        "# Используем map для обработки всех данных сразу\n",
        "recipes_embeddings = recipes.batch(100).map(get_recipe_and_tag_embeddings)\n",
        "\n",
        "\n",
        "# Создание набора имен рецептов\n",
        "recipes_names = recipes.batch(100).map(lambda x: x[\"recipe_id\"])  # Убедитесь, что это (None,)\n",
        "\n",
        "# Объединяем эмбеддинги с именами\n",
        "index = brute_force.index_from_dataset(\n",
        "    tf.data.Dataset.zip((recipes_names, recipes_embeddings))\n",
        ")\n",
        "\n",
        "# Получаем рекомендации\n",
        "_, titles = index(test_user_dataset, k=15)\n",
        "\n",
        "# Вывод тегов для рекомендуемых рецептов\n",
        "recommended_tags = raw_recipes[raw_recipes['id'].isin(titles.numpy().flatten().astype('str'))]['tags']\n",
        "print(recommended_tags)"
      ]
    }
  ],
  "metadata": {
    "colab": {
      "provenance": []
    },
    "kernelspec": {
      "display_name": "Python 3",
      "name": "python3"
    },
    "language_info": {
      "codemirror_mode": {
        "name": "ipython",
        "version": 3
      },
      "file_extension": ".py",
      "mimetype": "text/x-python",
      "name": "python",
      "nbconvert_exporter": "python",
      "pygments_lexer": "ipython3",
      "version": "3.10.11"
    }
  },
  "nbformat": 4,
  "nbformat_minor": 0
}
