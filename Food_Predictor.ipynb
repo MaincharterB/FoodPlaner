{
  "cells": [
    {
      "cell_type": "code",
      "execution_count": 1,
      "metadata": {
        "id": "2rptU6mxyaoP"
      },
      "outputs": [
        {
          "name": "stdout",
          "output_type": "stream",
          "text": [
            "WARNING:tensorflow:From C:\\Users\\Maincharter\\AppData\\Roaming\\Python\\Python310\\site-packages\\keras\\src\\losses.py:2976: The name tf.losses.sparse_softmax_cross_entropy is deprecated. Please use tf.compat.v1.losses.sparse_softmax_cross_entropy instead.\n",
            "\n"
          ]
        }
      ],
      "source": [
        "from typing import Dict, Text\n",
        "\n",
        "import numpy as np\n",
        "import tensorflow as tf\n",
        "import tensorflow_datasets as tfds\n",
        "import pandas as pd\n",
        "import tensorflow_recommenders as tfrs"
      ]
    },
    {
      "cell_type": "code",
      "execution_count": 2,
      "metadata": {},
      "outputs": [],
      "source": [
        "import os\n",
        "os.environ['TF_ENABLE_ONEDNN_OPTS'] = '0'"
      ]
    },
    {
      "cell_type": "markdown",
      "metadata": {
        "id": "16W1-BvjtVmz"
      },
      "source": [
        "Let's pretend we have 3 users:\n",
        "1. Clarissa is a vegetarian who is lactose intolerant. 🥝🍅\n",
        "2. Martin is an athlete who prefers meat dishes to vegetable dishes. 🍖🥩\n",
        "3. Stella - has no special preferences, eats mostly everything. 🍲🍠"
      ]
    },
    {
      "cell_type": "code",
      "execution_count": 3,
      "metadata": {
        "id": "FDNshkxJvR-U"
      },
      "outputs": [],
      "source": [
        "clarissa = {'id':'clr', 'prefers': ['vegetables', 'vegan', 'nomeat', 'vegetarian'], 'hates': ['meat', 'lactose']}\n",
        "martin = {'id':'mrt', 'prefers': 'meat', 'hates': 'vegetables'}\n",
        "stella = {'id':'stl', 'prefers': '', 'hates': ''}"
      ]
    },
    {
      "cell_type": "markdown",
      "metadata": {
        "id": "FS8T34Y4xNhX"
      },
      "source": [
        "We will additionally enter the factors Calories, Protein, Fat, Carbohydrates for our requirements. **(The numbers were taken at random and do not reflect proportions or recommendations - the numbers are just an example)**\n",
        "* Clarissa - 2000/100/60/120\n",
        "* Martin, 2600/150/100/328.\n",
        "* Stella - 2200/80/50/100"
      ]
    },
    {
      "cell_type": "code",
      "execution_count": 4,
      "metadata": {
        "id": "qoPCpCLMxUob"
      },
      "outputs": [],
      "source": [
        "def set_requirements(user, calories, proteins, fats, carbs):\n",
        "  user['calories'] = calories\n",
        "  user['proteins'] = proteins\n",
        "  user['fats'] = fats\n",
        "  user['carbs'] = carbs\n",
        "set_requirements(clarissa, 2000, 100, 60, 120)\n",
        "set_requirements(martin, 2600, 150, 100, 328)\n",
        "set_requirements(martin, 2200, 80, 50, 100)\n"
      ]
    },
    {
      "cell_type": "markdown",
      "metadata": {
        "id": "iFMln3jutPpe"
      },
      "source": [
        "# Data processing 📊"
      ]
    },
    {
      "cell_type": "markdown",
      "metadata": {
        "id": "yDHv_HGvzWkB"
      },
      "source": [
        "Loading recipes and user_interactions. Nutritions showed like:calories (#), total fat (PDV), sugar (PDV) , sodium (PDV) , protein (PDV) , saturated fat (PDV) , and carbohydrates (PDV)"
      ]
    },
    {
      "cell_type": "code",
      "execution_count": 5,
      "metadata": {
        "colab": {
          "base_uri": "https://localhost:8080/",
          "height": 293
        },
        "id": "1gVJ6QAiyXLz",
        "outputId": "0e6c0673-457a-4063-eaa5-b553ec30edc8"
      },
      "outputs": [
        {
          "data": {
            "text/html": [
              "<div>\n",
              "<style scoped>\n",
              "    .dataframe tbody tr th:only-of-type {\n",
              "        vertical-align: middle;\n",
              "    }\n",
              "\n",
              "    .dataframe tbody tr th {\n",
              "        vertical-align: top;\n",
              "    }\n",
              "\n",
              "    .dataframe thead th {\n",
              "        text-align: right;\n",
              "    }\n",
              "</style>\n",
              "<table border=\"1\" class=\"dataframe\">\n",
              "  <thead>\n",
              "    <tr style=\"text-align: right;\">\n",
              "      <th></th>\n",
              "      <th>name</th>\n",
              "      <th>id</th>\n",
              "      <th>minutes</th>\n",
              "      <th>contributor_id</th>\n",
              "      <th>submitted</th>\n",
              "      <th>tags</th>\n",
              "      <th>nutrition</th>\n",
              "      <th>n_steps</th>\n",
              "      <th>steps</th>\n",
              "      <th>description</th>\n",
              "      <th>ingredients</th>\n",
              "      <th>n_ingredients</th>\n",
              "    </tr>\n",
              "  </thead>\n",
              "  <tbody>\n",
              "    <tr>\n",
              "      <th>0</th>\n",
              "      <td>arriba   baked winter squash mexican style</td>\n",
              "      <td>137739</td>\n",
              "      <td>55</td>\n",
              "      <td>47892</td>\n",
              "      <td>2005-09-16</td>\n",
              "      <td>['60-minutes-or-less', 'time-to-make', 'course...</td>\n",
              "      <td>[51.5, 0.0, 13.0, 0.0, 2.0, 0.0, 4.0]</td>\n",
              "      <td>11</td>\n",
              "      <td>['make a choice and proceed with recipe', 'dep...</td>\n",
              "      <td>autumn is my favorite time of year to cook! th...</td>\n",
              "      <td>['winter squash', 'mexican seasoning', 'mixed ...</td>\n",
              "      <td>7</td>\n",
              "    </tr>\n",
              "    <tr>\n",
              "      <th>1</th>\n",
              "      <td>a bit different  breakfast pizza</td>\n",
              "      <td>31490</td>\n",
              "      <td>30</td>\n",
              "      <td>26278</td>\n",
              "      <td>2002-06-17</td>\n",
              "      <td>['30-minutes-or-less', 'time-to-make', 'course...</td>\n",
              "      <td>[173.4, 18.0, 0.0, 17.0, 22.0, 35.0, 1.0]</td>\n",
              "      <td>9</td>\n",
              "      <td>['preheat oven to 425 degrees f', 'press dough...</td>\n",
              "      <td>this recipe calls for the crust to be prebaked...</td>\n",
              "      <td>['prepared pizza crust', 'sausage patty', 'egg...</td>\n",
              "      <td>6</td>\n",
              "    </tr>\n",
              "    <tr>\n",
              "      <th>2</th>\n",
              "      <td>all in the kitchen  chili</td>\n",
              "      <td>112140</td>\n",
              "      <td>130</td>\n",
              "      <td>196586</td>\n",
              "      <td>2005-02-25</td>\n",
              "      <td>['time-to-make', 'course', 'preparation', 'mai...</td>\n",
              "      <td>[269.8, 22.0, 32.0, 48.0, 39.0, 27.0, 5.0]</td>\n",
              "      <td>6</td>\n",
              "      <td>['brown ground beef in large pot', 'add choppe...</td>\n",
              "      <td>this modified version of 'mom's' chili was a h...</td>\n",
              "      <td>['ground beef', 'yellow onions', 'diced tomato...</td>\n",
              "      <td>13</td>\n",
              "    </tr>\n",
              "    <tr>\n",
              "      <th>3</th>\n",
              "      <td>alouette  potatoes</td>\n",
              "      <td>59389</td>\n",
              "      <td>45</td>\n",
              "      <td>68585</td>\n",
              "      <td>2003-04-14</td>\n",
              "      <td>['60-minutes-or-less', 'time-to-make', 'course...</td>\n",
              "      <td>[368.1, 17.0, 10.0, 2.0, 14.0, 8.0, 20.0]</td>\n",
              "      <td>11</td>\n",
              "      <td>['place potatoes in a large pot of lightly sal...</td>\n",
              "      <td>this is a super easy, great tasting, make ahea...</td>\n",
              "      <td>['spreadable cheese with garlic and herbs', 'n...</td>\n",
              "      <td>11</td>\n",
              "    </tr>\n",
              "    <tr>\n",
              "      <th>4</th>\n",
              "      <td>amish  tomato ketchup  for canning</td>\n",
              "      <td>44061</td>\n",
              "      <td>190</td>\n",
              "      <td>41706</td>\n",
              "      <td>2002-10-25</td>\n",
              "      <td>['weeknight', 'time-to-make', 'course', 'main-...</td>\n",
              "      <td>[352.9, 1.0, 337.0, 23.0, 3.0, 0.0, 28.0]</td>\n",
              "      <td>5</td>\n",
              "      <td>['mix all ingredients&amp; boil for 2 1 / 2 hours ...</td>\n",
              "      <td>my dh's amish mother raised him on this recipe...</td>\n",
              "      <td>['tomato juice', 'apple cider vinegar', 'sugar...</td>\n",
              "      <td>8</td>\n",
              "    </tr>\n",
              "  </tbody>\n",
              "</table>\n",
              "</div>"
            ],
            "text/plain": [
              "                                         name      id  minutes  \\\n",
              "0  arriba   baked winter squash mexican style  137739       55   \n",
              "1            a bit different  breakfast pizza   31490       30   \n",
              "2                   all in the kitchen  chili  112140      130   \n",
              "3                          alouette  potatoes   59389       45   \n",
              "4          amish  tomato ketchup  for canning   44061      190   \n",
              "\n",
              "   contributor_id   submitted  \\\n",
              "0           47892  2005-09-16   \n",
              "1           26278  2002-06-17   \n",
              "2          196586  2005-02-25   \n",
              "3           68585  2003-04-14   \n",
              "4           41706  2002-10-25   \n",
              "\n",
              "                                                tags  \\\n",
              "0  ['60-minutes-or-less', 'time-to-make', 'course...   \n",
              "1  ['30-minutes-or-less', 'time-to-make', 'course...   \n",
              "2  ['time-to-make', 'course', 'preparation', 'mai...   \n",
              "3  ['60-minutes-or-less', 'time-to-make', 'course...   \n",
              "4  ['weeknight', 'time-to-make', 'course', 'main-...   \n",
              "\n",
              "                                    nutrition  n_steps  \\\n",
              "0       [51.5, 0.0, 13.0, 0.0, 2.0, 0.0, 4.0]       11   \n",
              "1   [173.4, 18.0, 0.0, 17.0, 22.0, 35.0, 1.0]        9   \n",
              "2  [269.8, 22.0, 32.0, 48.0, 39.0, 27.0, 5.0]        6   \n",
              "3   [368.1, 17.0, 10.0, 2.0, 14.0, 8.0, 20.0]       11   \n",
              "4   [352.9, 1.0, 337.0, 23.0, 3.0, 0.0, 28.0]        5   \n",
              "\n",
              "                                               steps  \\\n",
              "0  ['make a choice and proceed with recipe', 'dep...   \n",
              "1  ['preheat oven to 425 degrees f', 'press dough...   \n",
              "2  ['brown ground beef in large pot', 'add choppe...   \n",
              "3  ['place potatoes in a large pot of lightly sal...   \n",
              "4  ['mix all ingredients& boil for 2 1 / 2 hours ...   \n",
              "\n",
              "                                         description  \\\n",
              "0  autumn is my favorite time of year to cook! th...   \n",
              "1  this recipe calls for the crust to be prebaked...   \n",
              "2  this modified version of 'mom's' chili was a h...   \n",
              "3  this is a super easy, great tasting, make ahea...   \n",
              "4  my dh's amish mother raised him on this recipe...   \n",
              "\n",
              "                                         ingredients  n_ingredients  \n",
              "0  ['winter squash', 'mexican seasoning', 'mixed ...              7  \n",
              "1  ['prepared pizza crust', 'sausage patty', 'egg...              6  \n",
              "2  ['ground beef', 'yellow onions', 'diced tomato...             13  \n",
              "3  ['spreadable cheese with garlic and herbs', 'n...             11  \n",
              "4  ['tomato juice', 'apple cider vinegar', 'sugar...              8  "
            ]
          },
          "execution_count": 5,
          "metadata": {},
          "output_type": "execute_result"
        }
      ],
      "source": [
        "raw_recipes = pd.read_csv('./sample_data/RAW_recipes.csv')\n",
        "raw_interactions = pd.read_csv('./sample_data/RAW_interactions.csv')\n",
        "raw_recipes.head()"
      ]
    },
    {
      "cell_type": "markdown",
      "metadata": {
        "id": "9_z_pQgv4fvC"
      },
      "source": [
        "Merge data interactions with recipe infos"
      ]
    },
    {
      "cell_type": "code",
      "execution_count": 6,
      "metadata": {
        "colab": {
          "base_uri": "https://localhost:8080/",
          "height": 293
        },
        "id": "ahU35J7P31xt",
        "outputId": "f26e3ef4-cfee-4ecd-b0bd-44e31a36503b"
      },
      "outputs": [
        {
          "data": {
            "text/html": [
              "<div>\n",
              "<style scoped>\n",
              "    .dataframe tbody tr th:only-of-type {\n",
              "        vertical-align: middle;\n",
              "    }\n",
              "\n",
              "    .dataframe tbody tr th {\n",
              "        vertical-align: top;\n",
              "    }\n",
              "\n",
              "    .dataframe thead th {\n",
              "        text-align: right;\n",
              "    }\n",
              "</style>\n",
              "<table border=\"1\" class=\"dataframe\">\n",
              "  <thead>\n",
              "    <tr style=\"text-align: right;\">\n",
              "      <th></th>\n",
              "      <th>user_id</th>\n",
              "      <th>rating</th>\n",
              "      <th>recipe_name</th>\n",
              "      <th>tags</th>\n",
              "    </tr>\n",
              "  </thead>\n",
              "  <tbody>\n",
              "    <tr>\n",
              "      <th>0</th>\n",
              "      <td>38094</td>\n",
              "      <td>4</td>\n",
              "      <td>white bean   green chile pepper soup</td>\n",
              "      <td>['weeknight', 'time-to-make', 'course', 'main-...</td>\n",
              "    </tr>\n",
              "    <tr>\n",
              "      <th>1</th>\n",
              "      <td>1293707</td>\n",
              "      <td>5</td>\n",
              "      <td>white bean   green chile pepper soup</td>\n",
              "      <td>['weeknight', 'time-to-make', 'course', 'main-...</td>\n",
              "    </tr>\n",
              "    <tr>\n",
              "      <th>2</th>\n",
              "      <td>8937</td>\n",
              "      <td>4</td>\n",
              "      <td>devilicious cookie cake delights</td>\n",
              "      <td>['30-minutes-or-less', 'time-to-make', 'course...</td>\n",
              "    </tr>\n",
              "    <tr>\n",
              "      <th>3</th>\n",
              "      <td>126440</td>\n",
              "      <td>5</td>\n",
              "      <td>baked potato toppings</td>\n",
              "      <td>['15-minutes-or-less', 'time-to-make', 'course...</td>\n",
              "    </tr>\n",
              "    <tr>\n",
              "      <th>4</th>\n",
              "      <td>57222</td>\n",
              "      <td>5</td>\n",
              "      <td>baked potato toppings</td>\n",
              "      <td>['15-minutes-or-less', 'time-to-make', 'course...</td>\n",
              "    </tr>\n",
              "  </tbody>\n",
              "</table>\n",
              "</div>"
            ],
            "text/plain": [
              "   user_id  rating                           recipe_name  \\\n",
              "0    38094       4  white bean   green chile pepper soup   \n",
              "1  1293707       5  white bean   green chile pepper soup   \n",
              "2     8937       4      devilicious cookie cake delights   \n",
              "3   126440       5                 baked potato toppings   \n",
              "4    57222       5                 baked potato toppings   \n",
              "\n",
              "                                                tags  \n",
              "0  ['weeknight', 'time-to-make', 'course', 'main-...  \n",
              "1  ['weeknight', 'time-to-make', 'course', 'main-...  \n",
              "2  ['30-minutes-or-less', 'time-to-make', 'course...  \n",
              "3  ['15-minutes-or-less', 'time-to-make', 'course...  \n",
              "4  ['15-minutes-or-less', 'time-to-make', 'course...  "
            ]
          },
          "execution_count": 6,
          "metadata": {},
          "output_type": "execute_result"
        }
      ],
      "source": [
        "interactions_with_recipe_info = pd.merge(raw_interactions, raw_recipes[['name', 'tags', 'ingredients', 'id']], left_on='recipe_id', right_on='id', how='left')\n",
        "interactions_with_recipe_info = interactions_with_recipe_info[['user_id', 'rating', 'name', 'tags']]\n",
        "interactions_with_recipe_info.rename(columns={'name': 'recipe_name'}, inplace=True)\n",
        "interactions_with_recipe_info.head()"
      ]
    },
    {
      "cell_type": "markdown",
      "metadata": {},
      "source": [
        "For liked user tags we need only high rated recipes"
      ]
    },
    {
      "cell_type": "code",
      "execution_count": 7,
      "metadata": {},
      "outputs": [],
      "source": [
        "interactions_with_recipe_info.drop(interactions_with_recipe_info[interactions_with_recipe_info['rating'] < 4].index, inplace=True)"
      ]
    },
    {
      "cell_type": "code",
      "execution_count": 8,
      "metadata": {
        "id": "a47R5lVA2r_t"
      },
      "outputs": [],
      "source": [
        "import ast\n",
        "\n",
        "def convert_to_list(data_str):\n",
        "  try:\n",
        "    return ast.literal_eval(data_str)\n",
        "  except (SyntaxError, ValueError):\n",
        "    return []"
      ]
    },
    {
      "cell_type": "code",
      "execution_count": 9,
      "metadata": {
        "id": "Fai3Kw-i7xmw"
      },
      "outputs": [],
      "source": [
        "interactions_with_recipe_info['tags_str'] = interactions_with_recipe_info['tags'].apply(convert_to_list)\n",
        "raw_recipes['tags_str'] = raw_recipes['tags'].apply(convert_to_list)"
      ]
    },
    {
      "cell_type": "code",
      "execution_count": 10,
      "metadata": {},
      "outputs": [],
      "source": [
        "uniques_tags_array = np.array(open(\"./unique_tags.txt\", 'r').read().split('\\n'))"
      ]
    },
    {
      "cell_type": "code",
      "execution_count": 11,
      "metadata": {},
      "outputs": [
        {
          "data": {
            "text/plain": [
              "553"
            ]
          },
          "execution_count": 11,
          "metadata": {},
          "output_type": "execute_result"
        }
      ],
      "source": [
        "len(uniques_tags_array)"
      ]
    },
    {
      "cell_type": "code",
      "execution_count": 12,
      "metadata": {},
      "outputs": [
        {
          "data": {
            "text/plain": [
              "['weeknight',\n",
              " 'time-to-make',\n",
              " 'preparation',\n",
              " 'very-low-carbs',\n",
              " 'dietary',\n",
              " 'low-saturated-fat',\n",
              " 'low-calorie',\n",
              " 'low-carb',\n",
              " 'low-in-something',\n",
              " '4-hours-or-less']"
            ]
          },
          "execution_count": 12,
          "metadata": {},
          "output_type": "execute_result"
        }
      ],
      "source": [
        "raw_recipes[\"tags_str\"].max()"
      ]
    },
    {
      "cell_type": "code",
      "execution_count": 13,
      "metadata": {},
      "outputs": [
        {
          "name": "stdout",
          "output_type": "stream",
          "text": [
            "WARNING:tensorflow:From C:\\Users\\Maincharter\\AppData\\Roaming\\Python\\Python310\\site-packages\\keras\\src\\backend.py:873: The name tf.get_default_graph is deprecated. Please use tf.compat.v1.get_default_graph instead.\n",
            "\n"
          ]
        }
      ],
      "source": [
        "tag_lookup_layer = tf.keras.layers.StringLookup(vocabulary=np.unique(uniques_tags_array), mask_token='empty', num_oov_indices=1)"
      ]
    },
    {
      "cell_type": "code",
      "execution_count": 14,
      "metadata": {},
      "outputs": [
        {
          "name": "stdout",
          "output_type": "stream",
          "text": [
            "WARNING:tensorflow:From C:\\Users\\Maincharter\\AppData\\Roaming\\Python\\Python310\\site-packages\\keras\\src\\utils\\tf_utils.py:492: The name tf.ragged.RaggedTensorValue is deprecated. Please use tf.compat.v1.ragged.RaggedTensorValue instead.\n",
            "\n"
          ]
        },
        {
          "data": {
            "text/plain": [
              "<tf.Tensor: shape=(13,), dtype=int64, numpy=\n",
              "array([541, 518, 135, 299, 402, 347, 472,  35, 533, 167, 141, 157, 178],\n",
              "      dtype=int64)>"
            ]
          },
          "execution_count": 14,
          "metadata": {},
          "output_type": "execute_result"
        }
      ],
      "source": [
        "tag_lookup_layer(interactions_with_recipe_info['tags_str'][:2][1])"
      ]
    },
    {
      "cell_type": "markdown",
      "metadata": {
        "id": "nVgYKJQ57wyE"
      },
      "source": [
        "Formatting data for Datasets"
      ]
    },
    {
      "cell_type": "code",
      "execution_count": 15,
      "metadata": {
        "id": "6wavCmee7zWl"
      },
      "outputs": [],
      "source": [
        "interactions_with_recipe_info['user_id'] = interactions_with_recipe_info.user_id.astype(\"str\")\n",
        "interactions_with_recipe_info['rating'] = interactions_with_recipe_info.rating.astype(np.float32)\n",
        "interactions_with_recipe_info['recipe_name'] = interactions_with_recipe_info.recipe_name.astype(\"str\")\n",
        "interactions_with_recipe_info['tags'] = interactions_with_recipe_info.tags.astype(\"str\")"
      ]
    },
    {
      "cell_type": "markdown",
      "metadata": {
        "id": "ZMXuOAHX9sgD"
      },
      "source": [
        "Creating train preferences for users"
      ]
    },
    {
      "cell_type": "code",
      "execution_count": 16,
      "metadata": {
        "colab": {
          "base_uri": "https://localhost:8080/",
          "height": 206
        },
        "id": "4XwFlxfM9wJI",
        "outputId": "c018cb40-8d45-400f-93bf-e5dc2ee5b992"
      },
      "outputs": [
        {
          "data": {
            "text/html": [
              "<div>\n",
              "<style scoped>\n",
              "    .dataframe tbody tr th:only-of-type {\n",
              "        vertical-align: middle;\n",
              "    }\n",
              "\n",
              "    .dataframe tbody tr th {\n",
              "        vertical-align: top;\n",
              "    }\n",
              "\n",
              "    .dataframe thead th {\n",
              "        text-align: right;\n",
              "    }\n",
              "</style>\n",
              "<table border=\"1\" class=\"dataframe\">\n",
              "  <thead>\n",
              "    <tr style=\"text-align: right;\">\n",
              "      <th></th>\n",
              "      <th>user_id</th>\n",
              "      <th>rating</th>\n",
              "      <th>tags_str</th>\n",
              "    </tr>\n",
              "  </thead>\n",
              "  <tbody>\n",
              "    <tr>\n",
              "      <th>0</th>\n",
              "      <td>38094</td>\n",
              "      <td>4.0</td>\n",
              "      <td>[weeknight, time-to-make, course, main-ingredi...</td>\n",
              "    </tr>\n",
              "    <tr>\n",
              "      <th>1</th>\n",
              "      <td>1293707</td>\n",
              "      <td>5.0</td>\n",
              "      <td>[weeknight, time-to-make, course, main-ingredi...</td>\n",
              "    </tr>\n",
              "    <tr>\n",
              "      <th>2</th>\n",
              "      <td>8937</td>\n",
              "      <td>4.0</td>\n",
              "      <td>[30-minutes-or-less, time-to-make, course, mai...</td>\n",
              "    </tr>\n",
              "    <tr>\n",
              "      <th>3</th>\n",
              "      <td>126440</td>\n",
              "      <td>5.0</td>\n",
              "      <td>[15-minutes-or-less, time-to-make, course, mai...</td>\n",
              "    </tr>\n",
              "    <tr>\n",
              "      <th>4</th>\n",
              "      <td>57222</td>\n",
              "      <td>5.0</td>\n",
              "      <td>[15-minutes-or-less, time-to-make, course, mai...</td>\n",
              "    </tr>\n",
              "  </tbody>\n",
              "</table>\n",
              "</div>"
            ],
            "text/plain": [
              "   user_id  rating                                           tags_str\n",
              "0    38094     4.0  [weeknight, time-to-make, course, main-ingredi...\n",
              "1  1293707     5.0  [weeknight, time-to-make, course, main-ingredi...\n",
              "2     8937     4.0  [30-minutes-or-less, time-to-make, course, mai...\n",
              "3   126440     5.0  [15-minutes-or-less, time-to-make, course, mai...\n",
              "4    57222     5.0  [15-minutes-or-less, time-to-make, course, mai..."
            ]
          },
          "execution_count": 16,
          "metadata": {},
          "output_type": "execute_result"
        }
      ],
      "source": [
        "user_preferences = interactions_with_recipe_info[['user_id', 'rating', 'tags_str']]\n",
        "user_preferences.head()"
      ]
    },
    {
      "cell_type": "code",
      "execution_count": 17,
      "metadata": {},
      "outputs": [
        {
          "name": "stderr",
          "output_type": "stream",
          "text": [
            "C:\\Users\\Maincharter\\AppData\\Local\\Temp\\ipykernel_4496\\1496501049.py:1: FutureWarning: Series.__getitem__ treating keys as positions is deprecated. In a future version, integer keys will always be treated as labels (consistent with DataFrame behavior). To access a value by position, use `ser.iloc[pos]`\n",
            "  len(np.unique(user_preferences[user_preferences['user_id'] == '38094'].groupby('user_id')['tags_str'].sum()[0]))\n"
          ]
        },
        {
          "data": {
            "text/plain": [
              "151"
            ]
          },
          "execution_count": 17,
          "metadata": {},
          "output_type": "execute_result"
        }
      ],
      "source": [
        "len(np.unique(user_preferences[user_preferences['user_id'] == '38094'].groupby('user_id')['tags_str'].sum()[0]))"
      ]
    },
    {
      "cell_type": "code",
      "execution_count": 18,
      "metadata": {
        "id": "RN5oeRb--M5o"
      },
      "outputs": [],
      "source": [
        "user_liked_tags = user_preferences[user_preferences['rating'] >= 3].groupby('user_id')['tags_str'].apply(list).reset_index()\n",
        "users_ds = pd.DataFrame(interactions_with_recipe_info['user_id'].unique(), columns=['user_id'])"
      ]
    },
    {
      "cell_type": "code",
      "execution_count": 19,
      "metadata": {
        "id": "swe2hQ9dBZsI"
      },
      "outputs": [],
      "source": [
        "users_ds = users_ds.merge(user_liked_tags, on='user_id', how='left')\n",
        "users_ds = users_ds.rename(columns={'tags_str': 'liked_tags'})"
      ]
    },
    {
      "cell_type": "code",
      "execution_count": 20,
      "metadata": {
        "colab": {
          "base_uri": "https://localhost:8080/",
          "height": 206
        },
        "id": "M2fouB8BCOLp",
        "outputId": "f28b08de-b1ec-49c8-8dc9-6a88074c7444"
      },
      "outputs": [
        {
          "data": {
            "text/html": [
              "<div>\n",
              "<style scoped>\n",
              "    .dataframe tbody tr th:only-of-type {\n",
              "        vertical-align: middle;\n",
              "    }\n",
              "\n",
              "    .dataframe tbody tr th {\n",
              "        vertical-align: top;\n",
              "    }\n",
              "\n",
              "    .dataframe thead th {\n",
              "        text-align: right;\n",
              "    }\n",
              "</style>\n",
              "<table border=\"1\" class=\"dataframe\">\n",
              "  <thead>\n",
              "    <tr style=\"text-align: right;\">\n",
              "      <th></th>\n",
              "      <th>user_id</th>\n",
              "      <th>liked_tags</th>\n",
              "    </tr>\n",
              "  </thead>\n",
              "  <tbody>\n",
              "    <tr>\n",
              "      <th>0</th>\n",
              "      <td>38094</td>\n",
              "      <td>[[weeknight, time-to-make, course, main-ingred...</td>\n",
              "    </tr>\n",
              "    <tr>\n",
              "      <th>1</th>\n",
              "      <td>1293707</td>\n",
              "      <td>[[weeknight, time-to-make, course, main-ingred...</td>\n",
              "    </tr>\n",
              "    <tr>\n",
              "      <th>2</th>\n",
              "      <td>8937</td>\n",
              "      <td>[[30-minutes-or-less, time-to-make, course, ma...</td>\n",
              "    </tr>\n",
              "    <tr>\n",
              "      <th>3</th>\n",
              "      <td>126440</td>\n",
              "      <td>[[15-minutes-or-less, time-to-make, course, ma...</td>\n",
              "    </tr>\n",
              "    <tr>\n",
              "      <th>4</th>\n",
              "      <td>57222</td>\n",
              "      <td>[[15-minutes-or-less, time-to-make, course, ma...</td>\n",
              "    </tr>\n",
              "  </tbody>\n",
              "</table>\n",
              "</div>"
            ],
            "text/plain": [
              "   user_id                                         liked_tags\n",
              "0    38094  [[weeknight, time-to-make, course, main-ingred...\n",
              "1  1293707  [[weeknight, time-to-make, course, main-ingred...\n",
              "2     8937  [[30-minutes-or-less, time-to-make, course, ma...\n",
              "3   126440  [[15-minutes-or-less, time-to-make, course, ma...\n",
              "4    57222  [[15-minutes-or-less, time-to-make, course, ma..."
            ]
          },
          "execution_count": 20,
          "metadata": {},
          "output_type": "execute_result"
        }
      ],
      "source": [
        "users_ds.head()"
      ]
    },
    {
      "cell_type": "markdown",
      "metadata": {
        "id": "O9knZ5NNC1C0"
      },
      "source": [
        "Looking that some of users don't have unliked_tags, so replace all Nan with empty arrays"
      ]
    },
    {
      "cell_type": "code",
      "execution_count": 21,
      "metadata": {
        "id": "eZUt0mAcDLVQ"
      },
      "outputs": [],
      "source": [
        "def unique_tags_in_list(tags_list):\n",
        "  if isinstance(tags_list, list):\n",
        "    unique_tags = []\n",
        "    for sublist in tags_list:\n",
        "      if isinstance(sublist, list):\n",
        "        for tag in sublist:\n",
        "          if tag not in unique_tags:\n",
        "            unique_tags.append(tag)\n",
        "    return unique_tags\n",
        "  else:\n",
        "    return []\n",
        "\n",
        "users_ds['liked_tags'] = users_ds['liked_tags'].apply(unique_tags_in_list)"
      ]
    },
    {
      "cell_type": "code",
      "execution_count": 22,
      "metadata": {},
      "outputs": [
        {
          "data": {
            "text/plain": [
              "['weeknight',\n",
              " 'time-to-make',\n",
              " 'preparation',\n",
              " 'very-low-carbs',\n",
              " 'dietary',\n",
              " 'low-saturated-fat',\n",
              " 'low-calorie',\n",
              " 'low-carb',\n",
              " 'low-in-something',\n",
              " '4-hours-or-less',\n",
              " '60-minutes-or-less',\n",
              " 'course',\n",
              " 'cuisine',\n",
              " 'occasion',\n",
              " 'for-1-or-2',\n",
              " 'main-dish',\n",
              " 'easy',\n",
              " 'european',\n",
              " 'italian',\n",
              " 'copycat',\n",
              " 'low-sodium',\n",
              " 'novelty',\n",
              " 'number-of-servings']"
            ]
          },
          "execution_count": 22,
          "metadata": {},
          "output_type": "execute_result"
        }
      ],
      "source": [
        "users_ds['liked_tags'].max()"
      ]
    },
    {
      "cell_type": "code",
      "execution_count": 24,
      "metadata": {
        "colab": {
          "base_uri": "https://localhost:8080/",
          "height": 206
        },
        "id": "9qRO0tcMF9-X",
        "outputId": "bdbccbcd-2a5f-48c4-a981-76a5231cc610"
      },
      "outputs": [
        {
          "data": {
            "text/html": [
              "<div>\n",
              "<style scoped>\n",
              "    .dataframe tbody tr th:only-of-type {\n",
              "        vertical-align: middle;\n",
              "    }\n",
              "\n",
              "    .dataframe tbody tr th {\n",
              "        vertical-align: top;\n",
              "    }\n",
              "\n",
              "    .dataframe thead th {\n",
              "        text-align: right;\n",
              "    }\n",
              "</style>\n",
              "<table border=\"1\" class=\"dataframe\">\n",
              "  <thead>\n",
              "    <tr style=\"text-align: right;\">\n",
              "      <th></th>\n",
              "      <th>user_id</th>\n",
              "      <th>liked_tags</th>\n",
              "    </tr>\n",
              "  </thead>\n",
              "  <tbody>\n",
              "    <tr>\n",
              "      <th>0</th>\n",
              "      <td>38094</td>\n",
              "      <td>[weeknight, time-to-make, course, main-ingredi...</td>\n",
              "    </tr>\n",
              "    <tr>\n",
              "      <th>1</th>\n",
              "      <td>1293707</td>\n",
              "      <td>[weeknight, time-to-make, course, main-ingredi...</td>\n",
              "    </tr>\n",
              "    <tr>\n",
              "      <th>2</th>\n",
              "      <td>8937</td>\n",
              "      <td>[30-minutes-or-less, time-to-make, course, mai...</td>\n",
              "    </tr>\n",
              "    <tr>\n",
              "      <th>3</th>\n",
              "      <td>126440</td>\n",
              "      <td>[15-minutes-or-less, time-to-make, course, mai...</td>\n",
              "    </tr>\n",
              "    <tr>\n",
              "      <th>4</th>\n",
              "      <td>57222</td>\n",
              "      <td>[15-minutes-or-less, time-to-make, course, mai...</td>\n",
              "    </tr>\n",
              "  </tbody>\n",
              "</table>\n",
              "</div>"
            ],
            "text/plain": [
              "   user_id                                         liked_tags\n",
              "0    38094  [weeknight, time-to-make, course, main-ingredi...\n",
              "1  1293707  [weeknight, time-to-make, course, main-ingredi...\n",
              "2     8937  [30-minutes-or-less, time-to-make, course, mai...\n",
              "3   126440  [15-minutes-or-less, time-to-make, course, mai...\n",
              "4    57222  [15-minutes-or-less, time-to-make, course, mai..."
            ]
          },
          "execution_count": 24,
          "metadata": {},
          "output_type": "execute_result"
        }
      ],
      "source": [
        "users_ds.head()"
      ]
    },
    {
      "cell_type": "code",
      "execution_count": 25,
      "metadata": {
        "id": "GjbluG3mGqXq"
      },
      "outputs": [],
      "source": [
        "interactions_with_recipe_info = pd.merge(interactions_with_recipe_info, users_ds, on='user_id', how='left')"
      ]
    },
    {
      "cell_type": "markdown",
      "metadata": {
        "id": "nzycE1Re7X9i"
      },
      "source": [
        "Creating datasets"
      ]
    },
    {
      "cell_type": "code",
      "execution_count": 26,
      "metadata": {},
      "outputs": [
        {
          "data": {
            "text/plain": [
              "(23, 10)"
            ]
          },
          "execution_count": 26,
          "metadata": {},
          "output_type": "execute_result"
        }
      ],
      "source": [
        "user_lengths = len(users_ds['liked_tags'].max())\n",
        "recipe_lengths = len(interactions_with_recipe_info['tags_str'].max())\n",
        "user_lengths, recipe_lengths"
      ]
    },
    {
      "cell_type": "code",
      "execution_count": 27,
      "metadata": {},
      "outputs": [],
      "source": [
        "# Параметры\n",
        "user_lengths = len(users_ds['liked_tags'].max())\n",
        "recipe_lengths = len(interactions_with_recipe_info['tags_str'].max())\n",
        "MAX_TAG_LENGTH = max(user_lengths, recipe_lengths)\n",
        "PADDING_VALUE = \"empty\"\n",
        "\n",
        "interactions_with_recipe_info['liked_tags'] = [\n",
        "    (tags + [PADDING_VALUE] * (MAX_TAG_LENGTH - len(tags)))[:MAX_TAG_LENGTH] \n",
        "    for tags in interactions_with_recipe_info['liked_tags']\n",
        "]\n",
        "\n",
        "interactions_with_recipe_info['tags_str'] =  [\n",
        "    (tags + [PADDING_VALUE] * (MAX_TAG_LENGTH - len(tags)))[:MAX_TAG_LENGTH] \n",
        "    for tags in interactions_with_recipe_info['tags_str'] ]\n",
        "\n",
        "raw_recipes['tags_str'] = [\n",
        "    (tags + [PADDING_VALUE] * (MAX_TAG_LENGTH - len(tags)))[:MAX_TAG_LENGTH] \n",
        "    for tags in raw_recipes['tags_str'] ]\n"
      ]
    },
    {
      "cell_type": "code",
      "execution_count": 28,
      "metadata": {
        "id": "aZMJRewvLYJb"
      },
      "outputs": [],
      "source": [
        "interactions_with_recipe_info['liked_tags_str'] = interactions_with_recipe_info['liked_tags'].apply(lambda x: ','.join(x))\n",
        "interactions_with_recipe_info['tags_str'] = interactions_with_recipe_info['tags_str'].apply(lambda x: ','.join(x))"
      ]
    },
    {
      "cell_type": "code",
      "execution_count": 29,
      "metadata": {
        "id": "2l72F9aCLw46"
      },
      "outputs": [],
      "source": [
        "def split_tags(tags_string):\n",
        "    return tf.strings.split(tf.strings.strip(tags_string), ',')"
      ]
    },
    {
      "cell_type": "code",
      "execution_count": 30,
      "metadata": {},
      "outputs": [
        {
          "name": "stdout",
          "output_type": "stream",
          "text": [
            "WARNING:tensorflow:From C:\\Users\\Maincharter\\AppData\\Local\\Temp\\ipykernel_4496\\1112888837.py:1: The name tf.enable_eager_execution is deprecated. Please use tf.compat.v1.enable_eager_execution instead.\n",
            "\n"
          ]
        }
      ],
      "source": [
        "tf.compat.v1.enable_eager_execution()"
      ]
    },
    {
      "cell_type": "code",
      "execution_count": 31,
      "metadata": {},
      "outputs": [],
      "source": [
        "def convert_tags_to_indices(tags):\n",
        "    # Применение слоя StringLookup для конверсии тегов в индексы\n",
        "    return tag_lookup_layer(tags)"
      ]
    },
    {
      "cell_type": "code",
      "execution_count": 32,
      "metadata": {
        "id": "1QwBdlgU7Xms"
      },
      "outputs": [],
      "source": [
        "def squeeze_tags(data):\n",
        "    return {\n",
        "        \"user_id\": data[\"user_id\"],\n",
        "        \"recipe_name\": data[\"recipe_name\"],\n",
        "        \"tags\": tf.squeeze(data[\"tags\"], axis=0),  # Укажите ось, которую нужно удалить\n",
        "        \"liked_tags\": tf.squeeze(data[\"liked_tags\"], axis=0),  # Укажите ось, которую нужно удалить\n",
        "    }\n",
        "\n",
        "# Шаг 2: Применение слоя в конвейере обработки данных\n",
        "ratings = tf.data.Dataset.from_tensor_slices((\n",
        "    tf.cast(interactions_with_recipe_info['user_id'].values, tf.string),\n",
        "    tf.cast(interactions_with_recipe_info['recipe_name'].values, tf.string),\n",
        "    tf.cast(interactions_with_recipe_info['tags_str'].values.reshape(-1,1), tf.string),\n",
        "    tf.cast(interactions_with_recipe_info['liked_tags_str'].values.reshape(-1,1), tf.string),\n",
        ")).map(lambda x, x1, x2, x3: {\n",
        "    \"user_id\": x,\n",
        "    \"recipe_name\": x1,\n",
        "    \"tags\": convert_tags_to_indices(split_tags(x2)),  # Конверсия в индексы\n",
        "    \"liked_tags\": convert_tags_to_indices(split_tags(x3)),  # Конверсия в индексы\n",
        "}).map(squeeze_tags)"
      ]
    },
    {
      "cell_type": "code",
      "execution_count": 33,
      "metadata": {},
      "outputs": [
        {
          "name": "stdout",
          "output_type": "stream",
          "text": [
            "{'user_id': b'38094', 'recipe_name': b'white bean   green chile pepper soup', 'tags': array([541, 518, 135, 299, 402, 347, 472,  35, 533, 167, 141, 157, 178,\n",
            "         0,   0,   0,   0,   0,   0,   0,   0,   0,   0], dtype=int64), 'liked_tags': array([541, 518, 135, 299, 402, 347, 472,  35, 533, 167, 141, 157, 178,\n",
            "         9, 293, 199, 532, 534, 497,  56,   6, 287, 435], dtype=int64)}\n"
          ]
        }
      ],
      "source": [
        "for data in ratings.take(1).as_numpy_iterator():\n",
        "    print(data)"
      ]
    },
    {
      "cell_type": "code",
      "execution_count": 34,
      "metadata": {
        "id": "8MS4nMhHMDgp"
      },
      "outputs": [],
      "source": [
        "raw_recipes['tags_str'] = raw_recipes['tags_str'].apply(lambda x: ','.join(x))"
      ]
    },
    {
      "cell_type": "code",
      "execution_count": 35,
      "metadata": {
        "colab": {
          "base_uri": "https://localhost:8080/",
          "height": 293
        },
        "id": "rqtiorEQMH8R",
        "outputId": "0cb1b61d-3171-4534-ec3b-1a6d617531ed"
      },
      "outputs": [
        {
          "data": {
            "text/html": [
              "<div>\n",
              "<style scoped>\n",
              "    .dataframe tbody tr th:only-of-type {\n",
              "        vertical-align: middle;\n",
              "    }\n",
              "\n",
              "    .dataframe tbody tr th {\n",
              "        vertical-align: top;\n",
              "    }\n",
              "\n",
              "    .dataframe thead th {\n",
              "        text-align: right;\n",
              "    }\n",
              "</style>\n",
              "<table border=\"1\" class=\"dataframe\">\n",
              "  <thead>\n",
              "    <tr style=\"text-align: right;\">\n",
              "      <th></th>\n",
              "      <th>name</th>\n",
              "      <th>id</th>\n",
              "      <th>minutes</th>\n",
              "      <th>contributor_id</th>\n",
              "      <th>submitted</th>\n",
              "      <th>tags</th>\n",
              "      <th>nutrition</th>\n",
              "      <th>n_steps</th>\n",
              "      <th>steps</th>\n",
              "      <th>description</th>\n",
              "      <th>ingredients</th>\n",
              "      <th>n_ingredients</th>\n",
              "      <th>tags_str</th>\n",
              "    </tr>\n",
              "  </thead>\n",
              "  <tbody>\n",
              "    <tr>\n",
              "      <th>0</th>\n",
              "      <td>arriba   baked winter squash mexican style</td>\n",
              "      <td>137739</td>\n",
              "      <td>55</td>\n",
              "      <td>47892</td>\n",
              "      <td>2005-09-16</td>\n",
              "      <td>['60-minutes-or-less', 'time-to-make', 'course...</td>\n",
              "      <td>[51.5, 0.0, 13.0, 0.0, 2.0, 0.0, 4.0]</td>\n",
              "      <td>11</td>\n",
              "      <td>['make a choice and proceed with recipe', 'dep...</td>\n",
              "      <td>autumn is my favorite time of year to cook! th...</td>\n",
              "      <td>['winter squash', 'mexican seasoning', 'mixed ...</td>\n",
              "      <td>7</td>\n",
              "      <td>60-minutes-or-less,time-to-make,course,main-in...</td>\n",
              "    </tr>\n",
              "    <tr>\n",
              "      <th>1</th>\n",
              "      <td>a bit different  breakfast pizza</td>\n",
              "      <td>31490</td>\n",
              "      <td>30</td>\n",
              "      <td>26278</td>\n",
              "      <td>2002-06-17</td>\n",
              "      <td>['30-minutes-or-less', 'time-to-make', 'course...</td>\n",
              "      <td>[173.4, 18.0, 0.0, 17.0, 22.0, 35.0, 1.0]</td>\n",
              "      <td>9</td>\n",
              "      <td>['preheat oven to 425 degrees f', 'press dough...</td>\n",
              "      <td>this recipe calls for the crust to be prebaked...</td>\n",
              "      <td>['prepared pizza crust', 'sausage patty', 'egg...</td>\n",
              "      <td>6</td>\n",
              "      <td>30-minutes-or-less,time-to-make,course,main-in...</td>\n",
              "    </tr>\n",
              "    <tr>\n",
              "      <th>2</th>\n",
              "      <td>all in the kitchen  chili</td>\n",
              "      <td>112140</td>\n",
              "      <td>130</td>\n",
              "      <td>196586</td>\n",
              "      <td>2005-02-25</td>\n",
              "      <td>['time-to-make', 'course', 'preparation', 'mai...</td>\n",
              "      <td>[269.8, 22.0, 32.0, 48.0, 39.0, 27.0, 5.0]</td>\n",
              "      <td>6</td>\n",
              "      <td>['brown ground beef in large pot', 'add choppe...</td>\n",
              "      <td>this modified version of 'mom's' chili was a h...</td>\n",
              "      <td>['ground beef', 'yellow onions', 'diced tomato...</td>\n",
              "      <td>13</td>\n",
              "      <td>time-to-make,course,preparation,main-dish,chil...</td>\n",
              "    </tr>\n",
              "    <tr>\n",
              "      <th>3</th>\n",
              "      <td>alouette  potatoes</td>\n",
              "      <td>59389</td>\n",
              "      <td>45</td>\n",
              "      <td>68585</td>\n",
              "      <td>2003-04-14</td>\n",
              "      <td>['60-minutes-or-less', 'time-to-make', 'course...</td>\n",
              "      <td>[368.1, 17.0, 10.0, 2.0, 14.0, 8.0, 20.0]</td>\n",
              "      <td>11</td>\n",
              "      <td>['place potatoes in a large pot of lightly sal...</td>\n",
              "      <td>this is a super easy, great tasting, make ahea...</td>\n",
              "      <td>['spreadable cheese with garlic and herbs', 'n...</td>\n",
              "      <td>11</td>\n",
              "      <td>60-minutes-or-less,time-to-make,course,main-in...</td>\n",
              "    </tr>\n",
              "    <tr>\n",
              "      <th>4</th>\n",
              "      <td>amish  tomato ketchup  for canning</td>\n",
              "      <td>44061</td>\n",
              "      <td>190</td>\n",
              "      <td>41706</td>\n",
              "      <td>2002-10-25</td>\n",
              "      <td>['weeknight', 'time-to-make', 'course', 'main-...</td>\n",
              "      <td>[352.9, 1.0, 337.0, 23.0, 3.0, 0.0, 28.0]</td>\n",
              "      <td>5</td>\n",
              "      <td>['mix all ingredients&amp; boil for 2 1 / 2 hours ...</td>\n",
              "      <td>my dh's amish mother raised him on this recipe...</td>\n",
              "      <td>['tomato juice', 'apple cider vinegar', 'sugar...</td>\n",
              "      <td>8</td>\n",
              "      <td>weeknight,time-to-make,course,main-ingredient,...</td>\n",
              "    </tr>\n",
              "  </tbody>\n",
              "</table>\n",
              "</div>"
            ],
            "text/plain": [
              "                                         name      id  minutes  \\\n",
              "0  arriba   baked winter squash mexican style  137739       55   \n",
              "1            a bit different  breakfast pizza   31490       30   \n",
              "2                   all in the kitchen  chili  112140      130   \n",
              "3                          alouette  potatoes   59389       45   \n",
              "4          amish  tomato ketchup  for canning   44061      190   \n",
              "\n",
              "   contributor_id   submitted  \\\n",
              "0           47892  2005-09-16   \n",
              "1           26278  2002-06-17   \n",
              "2          196586  2005-02-25   \n",
              "3           68585  2003-04-14   \n",
              "4           41706  2002-10-25   \n",
              "\n",
              "                                                tags  \\\n",
              "0  ['60-minutes-or-less', 'time-to-make', 'course...   \n",
              "1  ['30-minutes-or-less', 'time-to-make', 'course...   \n",
              "2  ['time-to-make', 'course', 'preparation', 'mai...   \n",
              "3  ['60-minutes-or-less', 'time-to-make', 'course...   \n",
              "4  ['weeknight', 'time-to-make', 'course', 'main-...   \n",
              "\n",
              "                                    nutrition  n_steps  \\\n",
              "0       [51.5, 0.0, 13.0, 0.0, 2.0, 0.0, 4.0]       11   \n",
              "1   [173.4, 18.0, 0.0, 17.0, 22.0, 35.0, 1.0]        9   \n",
              "2  [269.8, 22.0, 32.0, 48.0, 39.0, 27.0, 5.0]        6   \n",
              "3   [368.1, 17.0, 10.0, 2.0, 14.0, 8.0, 20.0]       11   \n",
              "4   [352.9, 1.0, 337.0, 23.0, 3.0, 0.0, 28.0]        5   \n",
              "\n",
              "                                               steps  \\\n",
              "0  ['make a choice and proceed with recipe', 'dep...   \n",
              "1  ['preheat oven to 425 degrees f', 'press dough...   \n",
              "2  ['brown ground beef in large pot', 'add choppe...   \n",
              "3  ['place potatoes in a large pot of lightly sal...   \n",
              "4  ['mix all ingredients& boil for 2 1 / 2 hours ...   \n",
              "\n",
              "                                         description  \\\n",
              "0  autumn is my favorite time of year to cook! th...   \n",
              "1  this recipe calls for the crust to be prebaked...   \n",
              "2  this modified version of 'mom's' chili was a h...   \n",
              "3  this is a super easy, great tasting, make ahea...   \n",
              "4  my dh's amish mother raised him on this recipe...   \n",
              "\n",
              "                                         ingredients  n_ingredients  \\\n",
              "0  ['winter squash', 'mexican seasoning', 'mixed ...              7   \n",
              "1  ['prepared pizza crust', 'sausage patty', 'egg...              6   \n",
              "2  ['ground beef', 'yellow onions', 'diced tomato...             13   \n",
              "3  ['spreadable cheese with garlic and herbs', 'n...             11   \n",
              "4  ['tomato juice', 'apple cider vinegar', 'sugar...              8   \n",
              "\n",
              "                                            tags_str  \n",
              "0  60-minutes-or-less,time-to-make,course,main-in...  \n",
              "1  30-minutes-or-less,time-to-make,course,main-in...  \n",
              "2  time-to-make,course,preparation,main-dish,chil...  \n",
              "3  60-minutes-or-less,time-to-make,course,main-in...  \n",
              "4  weeknight,time-to-make,course,main-ingredient,...  "
            ]
          },
          "execution_count": 35,
          "metadata": {},
          "output_type": "execute_result"
        }
      ],
      "source": [
        "raw_recipes.head()"
      ]
    },
    {
      "cell_type": "code",
      "execution_count": 37,
      "metadata": {
        "id": "i8HzpEQW_YZw"
      },
      "outputs": [],
      "source": [
        "raw_recipes['id'] = raw_recipes.id.astype(\"str\")\n",
        "raw_recipes['name'] = raw_recipes.name.astype(\"str\")\n",
        "raw_recipes['tags'] = raw_recipes.tags.astype(\"str\")\n",
        "raw_recipes['ingredients'] = raw_recipes.ingredients.astype(\"str\")"
      ]
    },
    {
      "cell_type": "code",
      "execution_count": null,
      "metadata": {},
      "outputs": [],
      "source": [
        "raw_recipes['name'][:1]"
      ]
    },
    {
      "cell_type": "code",
      "execution_count": 39,
      "metadata": {
        "colab": {
          "base_uri": "https://localhost:8080/"
        },
        "id": "PvNaaXXCPzK2",
        "outputId": "d096fdf6-825f-4105-b630-1f8c0d177652"
      },
      "outputs": [],
      "source": [
        "# prompt: Создай на основе raw_recipes датасет, но учти что ingredients_str это массив\n",
        "\n",
        "recipes = tf.data.Dataset.from_tensor_slices((tf.cast(raw_recipes['id'].values, tf.string),\n",
        "                                              tf.cast(raw_recipes['name'].values, tf.string),\n",
        "                                              tf.cast(raw_recipes['tags_str'].values.reshape(-1, 1), tf.string)\n",
        "                                            #   tf.cast(raw_recipes['ingredients_str'].values.reshape(-1, 1), tf.string),\n",
        "                                              )\n",
        "                                             ).map(lambda x, x1, x2: {\n",
        "                                                 'recipe_id': x,\n",
        "                                                  \"recipe_name\": x1,\n",
        "                                                  \"tags\": convert_tags_to_indices(split_tags(x2)),\n",
        "                                                #   \"ingredients\": split_tags(x3)\n",
        "                                              }).map(lambda data: {\n",
        "        **data,\n",
        "        \"tags\": tf.squeeze(data[\"tags\"], axis=0)  # Удаляем дополнительные измерения\n",
        "        # \"ingredients\": tf.squeeze(data[\"ingredients\"], axis=0)  # Удаляем дополнительные измерения\n",
        "    })\n",
        "\n"
      ]
    },
    {
      "cell_type": "code",
      "execution_count": 40,
      "metadata": {},
      "outputs": [
        {
          "name": "stdout",
          "output_type": "stream",
          "text": [
            "{'recipe_id': b'137739.0', 'recipe_name': b'arriba   baked winter squash mexican style', 'tags': array([  9, 518, 135, 299, 144, 402, 347, 337, 459, 533, 313, 167, 181,\n",
            "       239, 534, 550, 157, 113, 450, 487,   0,   0,   0], dtype=int64)}\n"
          ]
        }
      ],
      "source": [
        "for data in recipes.take(1).as_numpy_iterator():\n",
        "  print(data)"
      ]
    },
    {
      "cell_type": "code",
      "execution_count": 41,
      "metadata": {
        "id": "jxTLSUjNgCLs"
      },
      "outputs": [],
      "source": [
        "recipe_names = tf.data.Dataset.from_tensor_slices((tf.cast(raw_recipes['name'].values.reshape(-1, 1), tf.string))).map(lambda x: x)"
      ]
    },
    {
      "cell_type": "markdown",
      "metadata": {
        "id": "3L-UtJ6K5N2B"
      },
      "source": [
        "# Towers 🗼"
      ]
    },
    {
      "cell_type": "markdown",
      "metadata": {
        "id": "oWGCI8IYBx3Z"
      },
      "source": [
        "For our towers set dimensionality of the query and candidate representations: **32**. Higher values will correspond to models that may be more accurate, but will also be slower to fit and more prone to overfitting."
      ]
    },
    {
      "cell_type": "code",
      "execution_count": 179,
      "metadata": {
        "id": "8H35ROAtB2L2"
      },
      "outputs": [],
      "source": [
        "#embedding_dimension = 32"
      ]
    },
    {
      "cell_type": "markdown",
      "metadata": {
        "id": "UGLl4NdNBHoH"
      },
      "source": [
        "## User tower 👷"
      ]
    },
    {
      "cell_type": "markdown",
      "metadata": {
        "id": "S_w7g9Se6Lk_"
      },
      "source": [
        "Lets start creating our towers with User towers. We will compute by:\n",
        "1. User id\n",
        "2. Prefers and hates"
      ]
    },
    {
      "cell_type": "markdown",
      "metadata": {
        "id": "O0pr_riLBCKa"
      },
      "source": [
        "### User ID model"
      ]
    },
    {
      "cell_type": "code",
      "execution_count": 42,
      "metadata": {
        "colab": {
          "base_uri": "https://localhost:8080/"
        },
        "id": "IVERCEAMPPbE",
        "outputId": "e2631cda-7833-44b7-b005-542bb5f24933"
      },
      "outputs": [
        {
          "data": {
            "text/plain": [
              "array(['38094', '1293707', '8937', '126440', '57222', '52282', '76535',\n",
              "       '273745', '353911', '190375'], dtype=object)"
            ]
          },
          "execution_count": 42,
          "metadata": {},
          "output_type": "execute_result"
        }
      ],
      "source": [
        "unique_user_ids = users_ds[\"user_id\"].unique()\n",
        "unique_user_ids[:10]"
      ]
    },
    {
      "cell_type": "code",
      "execution_count": 43,
      "metadata": {
        "id": "4DU-YbghCPJx"
      },
      "outputs": [
        {
          "ename": "NameError",
          "evalue": "name 'embedding_dimension' is not defined",
          "output_type": "error",
          "traceback": [
            "\u001b[1;31m---------------------------------------------------------------------------\u001b[0m",
            "\u001b[1;31mNameError\u001b[0m                                 Traceback (most recent call last)",
            "Cell \u001b[1;32mIn[43], line 5\u001b[0m\n\u001b[0;32m      1\u001b[0m user_id_model \u001b[38;5;241m=\u001b[39m tf\u001b[38;5;241m.\u001b[39mkeras\u001b[38;5;241m.\u001b[39mSequential([\n\u001b[0;32m      2\u001b[0m   tf\u001b[38;5;241m.\u001b[39mkeras\u001b[38;5;241m.\u001b[39mlayers\u001b[38;5;241m.\u001b[39mStringLookup(\n\u001b[0;32m      3\u001b[0m       vocabulary\u001b[38;5;241m=\u001b[39munique_user_ids, mask_token\u001b[38;5;241m=\u001b[39m\u001b[38;5;28;01mNone\u001b[39;00m),\n\u001b[0;32m      4\u001b[0m   \u001b[38;5;66;03m# We add an additional embedding to account for unknown tokens.\u001b[39;00m\n\u001b[1;32m----> 5\u001b[0m   tf\u001b[38;5;241m.\u001b[39mkeras\u001b[38;5;241m.\u001b[39mlayers\u001b[38;5;241m.\u001b[39mEmbedding(\u001b[38;5;28mlen\u001b[39m(unique_user_ids)\u001b[38;5;241m+\u001b[39m\u001b[38;5;241m1\u001b[39m, \u001b[43membedding_dimension\u001b[49m)\n\u001b[0;32m      6\u001b[0m ])\n",
            "\u001b[1;31mNameError\u001b[0m: name 'embedding_dimension' is not defined"
          ]
        }
      ],
      "source": [
        "user_id_model = tf.keras.Sequential([\n",
        "  tf.keras.layers.StringLookup(\n",
        "      vocabulary=unique_user_ids, mask_token=None),\n",
        "  # We add an additional embedding to account for unknown tokens.\n",
        "  tf.keras.layers.Embedding(len(unique_user_ids)+1, embedding_dimension)\n",
        "])"
      ]
    },
    {
      "cell_type": "markdown",
      "metadata": {
        "id": "Q6e5kR2_MsOh"
      },
      "source": [
        "### User Prefers models"
      ]
    },
    {
      "cell_type": "markdown",
      "metadata": {
        "id": "5Zt9V_nAHMqp"
      },
      "source": [
        "## Recipe tower 🌭"
      ]
    },
    {
      "cell_type": "code",
      "execution_count": 44,
      "metadata": {
        "colab": {
          "base_uri": "https://localhost:8080/"
        },
        "id": "e3zzDVmWJmSA",
        "outputId": "2b48e837-bb5f-4670-b353-bb91770413dd"
      },
      "outputs": [],
      "source": [
        "unique_recipe_names = np.unique(list(raw_recipes[\"name\"].unique()))"
      ]
    },
    {
      "cell_type": "markdown",
      "metadata": {
        "id": "q2VwZxnOCg9F"
      },
      "source": [
        "### Recipe ingredient&tag model"
      ]
    },
    {
      "cell_type": "code",
      "execution_count": 45,
      "metadata": {
        "colab": {
          "base_uri": "https://localhost:8080/"
        },
        "id": "QqUQ43gVQIUp",
        "outputId": "49f54edf-1d29-4efc-e338-84c05a6f7e16"
      },
      "outputs": [],
      "source": [
        "tags_model = tf.keras.Sequential([\n",
        "    tf.keras.layers.Embedding(len(uniques_tags_array) + 2, 160)  # Эмбеддинг без StringLookup\n",
        "])"
      ]
    },
    {
      "cell_type": "markdown",
      "metadata": {
        "id": "n1dQh7uGI2ow"
      },
      "source": [
        "## Combine models"
      ]
    },
    {
      "cell_type": "code",
      "execution_count": 46,
      "metadata": {},
      "outputs": [],
      "source": [
        "class UserModel(tf.keras.Model):\n",
        "    def __init__(self, tags_model):\n",
        "        super().__init__()\n",
        "        \n",
        "\n",
        "        \n",
        "        # Liked tags embeddings\n",
        "        self.liked_tags_model = tags_model\n",
        "\n",
        "        # Penalty weight for unliked tags\n",
        "        self.penalty_weight = -1.5\n",
        "        self.plus_weight = 1.5\n",
        "\n",
        "    def call(self, features):\n",
        "        liked_tags = features[\"liked_tags\"]\n",
        "\n",
        "        # Embed user ID\n",
        "        #user_id_embedding = tf.reduce_mean(user_id_embedding, axis=1)\n",
        "\n",
        "        # Embed liked and unliked tags\n",
        "        liked_tags_embedding = self.liked_tags_model(liked_tags)\n",
        "\n",
        "        return liked_tags_embedding\n",
        "\n"
      ]
    },
    {
      "cell_type": "code",
      "execution_count": 47,
      "metadata": {},
      "outputs": [
        {
          "data": {
            "text/plain": [
              "<tf.Tensor: shape=(23, 160), dtype=float32, numpy=\n",
              "array([[ 0.01563456,  0.02409451,  0.00314189, ...,  0.01840777,\n",
              "         0.03200716, -0.01909016],\n",
              "       [-0.04498458,  0.01442958,  0.02059736, ..., -0.01981854,\n",
              "         0.00275165,  0.04156375],\n",
              "       [-0.02206186,  0.00399496, -0.01896117, ..., -0.00852623,\n",
              "         0.03188828, -0.00303593],\n",
              "       ...,\n",
              "       [-0.00919078, -0.00968015, -0.04354283, ..., -0.00706878,\n",
              "         0.04596254,  0.00838672],\n",
              "       [ 0.00857923, -0.00993208, -0.01256803, ..., -0.04096646,\n",
              "        -0.02391887,  0.04301068],\n",
              "       [-0.0314896 ,  0.04797366, -0.01845132, ...,  0.01353276,\n",
              "        -0.04841201, -0.04201857]], dtype=float32)>"
            ]
          },
          "execution_count": 47,
          "metadata": {},
          "output_type": "execute_result"
        }
      ],
      "source": [
        "# Извлечение данных пользователя\n",
        "test_user = {}\n",
        "for data in ratings.take(1).as_numpy_iterator():\n",
        "    test_user = data\n",
        "    \n",
        "user_model = UserModel( tags_model)\n",
        "\n",
        "user_model(test_user)"
      ]
    },
    {
      "cell_type": "code",
      "execution_count": 48,
      "metadata": {},
      "outputs": [],
      "source": [
        "class RecipeAndUserModel(tfrs.Model):\n",
        "\n",
        "    def _reduce_mean_if_needed(self, embedding):\n",
        "        \"\"\"Сокращает размерность эмбеддинга до среднего, если он многомерный.\"\"\"\n",
        "        if len(embedding.shape) >= 3:\n",
        "            return tf.reduce_mean(embedding, axis=1)\n",
        "        return embedding\n",
        "\n",
        "    def __init__(self, unique_recipe_names, embedding_dimension):\n",
        "        super().__init__()\n",
        "        self.embedding_dimension = embedding_dimension\n",
        "        # Модель пользователя\n",
        "        \n",
        "        self.tags_model = tf.keras.Sequential([\n",
        "            tf.keras.layers.Embedding(len(uniques_tags_array) + 2, embedding_dimension)  # Эмбеддинг без StringLookup\n",
        "        ])      \n",
        "\n",
        "        self.user_model = UserModel(self.tags_model)\n",
        "\n",
        "        # # Recipe embeddings\n",
        "        # self.recipe_model = tf.keras.Sequential([\n",
        "        #     tf.keras.layers.StringLookup(\n",
        "        #         vocabulary=unique_recipe_names, mask_token=None),\n",
        "        #     tf.keras.layers.Embedding(len(unique_recipe_names) + 1, self.embedding_dimension)\n",
        "        # ])\n",
        "\n",
        "        self.dense = tf.keras.layers.Dense(embedding_dimension)  # Сжимаем до размерности 32\n",
        "\n",
        "        # Подготовка кандидатов, учитывающих и теги\n",
        "        self.candidates = recipes.batch(128).map(self._get_candidate_embeddings)\n",
        "\n",
        "        self.task = tfrs.tasks.Retrieval(\n",
        "            metrics=tfrs.metrics.FactorizedTopK(\n",
        "                candidates=self.candidates\n",
        "            )\n",
        "        )\n",
        "        \n",
        "    def _get_candidate_embeddings(self, recipe_name):\n",
        "        # Получаем эмбеддинги для имен и тегов\n",
        "        tags_embedding = self.tags_model(recipe_name['tags'])  # Здесь предполагается, что recipe_name может содержать теги\n",
        "        tags_embedding = self._reduce_mean_if_needed(tags_embedding)\n",
        "        # Объединяем эмбеддинги имен и тегов\n",
        "        return tags_embedding\n",
        "\n",
        "    def call(self, features: Dict[Text, tf.Tensor]) -> tf.Tensor:\n",
        "        # User embedding\n",
        "        user_embedding = self.user_model(features)\n",
        "        #recipe_name_embeddings = self._reduce_mean_if_needed(recipe_name_embeddings)\n",
        "        # Tags embeddings\n",
        "        tags = features[\"tags\"]\n",
        "        tags_embeddings = self.tags_model(tags)\n",
        "        tags_embeddings = self._reduce_mean_if_needed(tags_embeddings)\n",
        "        # # Вычисление средневзвешенного значения для тегов (можно модифицировать веса)\n",
        "        # tags_embeddings_weighted_sum = tf.reduce_sum(tags_embeddings, axis=1)\n",
        "        # sum_of_weights = tf.reduce_sum(tf.ones_like(tags_embeddings), axis=1)\n",
        "        # tags_embeddings = tags_embeddings_weighted_sum / sum_of_weights\n",
        "        \n",
        "        # recipe_name_embeddings = self._reduce_mean_if_needed(recipe_name_embeddings)\n",
        "        # tags_embeddings = tf.expand_dims(tags_embeddings, axis=0)\n",
        "        # Конкатенация эмбеддингов рецепта и тегов\n",
        "        \n",
        "\n",
        "        return user_embedding, tags_embeddings\n",
        "\n",
        "    def compute_loss(self, features: Dict[Text, tf.Tensor], training=False) -> tf.Tensor:\n",
        "        user_embeddings, recipe_embeddings = self(features)\n",
        "        print(\"Computed: \", user_embeddings.shape, recipe_embeddings.shape)\n",
        "        # Используем задачу факторизованного топ-K для оптимизации\n",
        "        user_embeddings = self._reduce_mean_if_needed(user_embeddings)\n",
        "        recipe_embeddings = self._reduce_mean_if_needed(recipe_embeddings)\n",
        "        \n",
        "        # user_embeddings = tf.keras.layers.Dense(64)(user_embeddings)\n",
        "        # recipe_embeddings = tf.keras.layers.Dense(64)(recipe_embeddings)\n",
        "        print(\"Computed: \", user_embeddings.shape, recipe_embeddings.shape)\n",
        "        return self.task(user_embeddings, recipe_embeddings)\n"
      ]
    },
    {
      "cell_type": "code",
      "execution_count": 49,
      "metadata": {
        "id": "4ln6bTE6XuUT"
      },
      "outputs": [],
      "source": [
        "# Randomly shuffle data and split between train and test.\n",
        "tf.random.set_seed(42)\n",
        "shuffled = ratings.shuffle(100_000, seed=42, reshuffle_each_iteration=False)\n",
        "\n",
        "train = shuffled.take(3_000)\n",
        "test = shuffled.skip(80_000).take(3_000)\n",
        "\n",
        "cached_train =  train.batch(4_000).cache()\n",
        "cached_test = test.batch(15_000).cache()"
      ]
    },
    {
      "cell_type": "code",
      "execution_count": 50,
      "metadata": {
        "id": "-7Gi0OYpUbOM"
      },
      "outputs": [
        {
          "name": "stdout",
          "output_type": "stream",
          "text": [
            "Epoch 1/10\n",
            "Computed:  (None, None, 34) (None, 34)\n",
            "Computed:  (None, 34) (None, 34)\n",
            "Computed:  (None, None, 34) (None, 34)\n",
            "Computed:  (None, 34) (None, 34)\n",
            "1/1 [==============================] - 25s 25s/step - factorized_top_k/top_1_categorical_accuracy: 0.0000e+00 - factorized_top_k/top_5_categorical_accuracy: 0.0027 - factorized_top_k/top_10_categorical_accuracy: 0.0060 - factorized_top_k/top_50_categorical_accuracy: 0.0120 - factorized_top_k/top_100_categorical_accuracy: 0.0173 - loss: 24017.7734 - regularization_loss: 0.0000e+00 - total_loss: 24017.7734\n",
            "Epoch 2/10\n",
            "1/1 [==============================] - 15s 15s/step - factorized_top_k/top_1_categorical_accuracy: 0.0000e+00 - factorized_top_k/top_5_categorical_accuracy: 0.0000e+00 - factorized_top_k/top_10_categorical_accuracy: 0.0000e+00 - factorized_top_k/top_50_categorical_accuracy: 0.0000e+00 - factorized_top_k/top_100_categorical_accuracy: 0.0000e+00 - loss: 24004.9902 - regularization_loss: 0.0000e+00 - total_loss: 24004.9902\n",
            "Epoch 3/10\n",
            "1/1 [==============================] - 15s 15s/step - factorized_top_k/top_1_categorical_accuracy: 0.0000e+00 - factorized_top_k/top_5_categorical_accuracy: 0.0000e+00 - factorized_top_k/top_10_categorical_accuracy: 0.0000e+00 - factorized_top_k/top_50_categorical_accuracy: 0.0000e+00 - factorized_top_k/top_100_categorical_accuracy: 0.0000e+00 - loss: 23962.0645 - regularization_loss: 0.0000e+00 - total_loss: 23962.0645\n",
            "Epoch 4/10\n",
            "1/1 [==============================] - 15s 15s/step - factorized_top_k/top_1_categorical_accuracy: 0.0000e+00 - factorized_top_k/top_5_categorical_accuracy: 0.0000e+00 - factorized_top_k/top_10_categorical_accuracy: 0.0000e+00 - factorized_top_k/top_50_categorical_accuracy: 0.0000e+00 - factorized_top_k/top_100_categorical_accuracy: 0.0000e+00 - loss: 23895.8906 - regularization_loss: 0.0000e+00 - total_loss: 23895.8906\n",
            "Epoch 5/10\n",
            "1/1 [==============================] - 15s 15s/step - factorized_top_k/top_1_categorical_accuracy: 0.0000e+00 - factorized_top_k/top_5_categorical_accuracy: 0.0000e+00 - factorized_top_k/top_10_categorical_accuracy: 0.0000e+00 - factorized_top_k/top_50_categorical_accuracy: 0.0000e+00 - factorized_top_k/top_100_categorical_accuracy: 0.0000e+00 - loss: 23826.3984 - regularization_loss: 0.0000e+00 - total_loss: 23826.3984\n",
            "Epoch 6/10\n",
            "1/1 [==============================] - 15s 15s/step - factorized_top_k/top_1_categorical_accuracy: 0.0000e+00 - factorized_top_k/top_5_categorical_accuracy: 0.0000e+00 - factorized_top_k/top_10_categorical_accuracy: 0.0000e+00 - factorized_top_k/top_50_categorical_accuracy: 6.6667e-04 - factorized_top_k/top_100_categorical_accuracy: 0.0010 - loss: 23768.2344 - regularization_loss: 0.0000e+00 - total_loss: 23768.2344\n",
            "Epoch 7/10\n",
            "1/1 [==============================] - 15s 15s/step - factorized_top_k/top_1_categorical_accuracy: 0.0000e+00 - factorized_top_k/top_5_categorical_accuracy: 0.0000e+00 - factorized_top_k/top_10_categorical_accuracy: 0.0000e+00 - factorized_top_k/top_50_categorical_accuracy: 0.0000e+00 - factorized_top_k/top_100_categorical_accuracy: 0.0000e+00 - loss: 23725.4727 - regularization_loss: 0.0000e+00 - total_loss: 23725.4727\n",
            "Epoch 8/10\n",
            "1/1 [==============================] - 15s 15s/step - factorized_top_k/top_1_categorical_accuracy: 0.0057 - factorized_top_k/top_5_categorical_accuracy: 0.0123 - factorized_top_k/top_10_categorical_accuracy: 0.0167 - factorized_top_k/top_50_categorical_accuracy: 0.0333 - factorized_top_k/top_100_categorical_accuracy: 0.0497 - loss: 23695.2148 - regularization_loss: 0.0000e+00 - total_loss: 23695.2148\n",
            "Epoch 9/10\n",
            "1/1 [==============================] - 15s 15s/step - factorized_top_k/top_1_categorical_accuracy: 0.0000e+00 - factorized_top_k/top_5_categorical_accuracy: 0.0000e+00 - factorized_top_k/top_10_categorical_accuracy: 0.0000e+00 - factorized_top_k/top_50_categorical_accuracy: 0.0000e+00 - factorized_top_k/top_100_categorical_accuracy: 0.0000e+00 - loss: 23655.7891 - regularization_loss: 0.0000e+00 - total_loss: 23655.7891\n",
            "Epoch 10/10\n",
            "1/1 [==============================] - 16s 16s/step - factorized_top_k/top_1_categorical_accuracy: 0.0000e+00 - factorized_top_k/top_5_categorical_accuracy: 6.6667e-04 - factorized_top_k/top_10_categorical_accuracy: 0.0020 - factorized_top_k/top_50_categorical_accuracy: 0.0037 - factorized_top_k/top_100_categorical_accuracy: 0.0100 - loss: 23594.4238 - regularization_loss: 0.0000e+00 - total_loss: 23594.4238\n"
          ]
        },
        {
          "data": {
            "text/plain": [
              "<keras.src.callbacks.History at 0x128d6fb3ca0>"
            ]
          },
          "execution_count": 50,
          "metadata": {},
          "output_type": "execute_result"
        }
      ],
      "source": [
        "model = RecipeAndUserModel(unique_recipe_names, 34)\n",
        "early_callback = tf.keras.callbacks.EarlyStopping(monitor='loss',  patience=5, min_delta=0.001)\n",
        "model.compile(optimizer=tf.keras.optimizers.Adagrad(learning_rate=0.1))\n",
        "model.fit(cached_train, epochs=10)"
      ]
    },
    {
      "cell_type": "code",
      "execution_count": 51,
      "metadata": {},
      "outputs": [
        {
          "name": "stdout",
          "output_type": "stream",
          "text": [
            "Computed:  (None, None, 34) (None, 34)\n",
            "Computed:  (None, 34) (None, 34)\n",
            "1/1 [==============================] - 29s 29s/step - factorized_top_k/top_1_categorical_accuracy: 0.0000e+00 - factorized_top_k/top_5_categorical_accuracy: 0.0000e+00 - factorized_top_k/top_10_categorical_accuracy: 3.3333e-04 - factorized_top_k/top_50_categorical_accuracy: 0.0020 - factorized_top_k/top_100_categorical_accuracy: 0.0030 - loss: 23696.5469 - regularization_loss: 0.0000e+00 - total_loss: 23696.5469\n"
          ]
        },
        {
          "data": {
            "text/plain": [
              "{'factorized_top_k/top_1_categorical_accuracy': 0.0,\n",
              " 'factorized_top_k/top_5_categorical_accuracy': 0.0,\n",
              " 'factorized_top_k/top_10_categorical_accuracy': 0.00033333332976326346,\n",
              " 'factorized_top_k/top_50_categorical_accuracy': 0.0020000000949949026,\n",
              " 'factorized_top_k/top_100_categorical_accuracy': 0.003000000026077032,\n",
              " 'loss': 23696.546875,\n",
              " 'regularization_loss': 0,\n",
              " 'total_loss': 23696.546875}"
            ]
          },
          "execution_count": 51,
          "metadata": {},
          "output_type": "execute_result"
        }
      ],
      "source": [
        "model.evaluate(cached_test, return_dict=True)"
      ]
    },
    {
      "cell_type": "markdown",
      "metadata": {},
      "source": [
        "### Making predictions"
      ]
    },
    {
      "cell_type": "code",
      "execution_count": null,
      "metadata": {},
      "outputs": [],
      "source": [
        "unique_tags[:20]"
      ]
    },
    {
      "cell_type": "code",
      "execution_count": 52,
      "metadata": {},
      "outputs": [
        {
          "data": {
            "text/plain": [
              "array(['asian', 'asian', 'asian', 'asian', 'asian', 'asian', 'asian',\n",
              "       'asian', 'asian', 'asian', 'asian', 'asian', 'asian', 'asian',\n",
              "       'asian', 'asian', 'asian', 'asian', 'asian', 'asian', 'asian',\n",
              "       'asian', 'asian'], dtype='<U5')"
            ]
          },
          "execution_count": 52,
          "metadata": {},
          "output_type": "execute_result"
        }
      ],
      "source": [
        "likes = np.full(MAX_TAG_LENGTH, \"asian\")\n",
        "likes"
      ]
    },
    {
      "cell_type": "code",
      "execution_count": null,
      "metadata": {},
      "outputs": [],
      "source": [
        "dislikes = np.full(4, '30-minutes-or-less')\n",
        "dislikes_2 = np.full(4, '60-minutes-or-less')\n",
        "dislikes_3 = np.full(2, 'empty')\n",
        "dislikes = np.append(dislikes, dislikes_2)\n",
        "dislikes = np.append(dislikes, dislikes_3)\n",
        "dislikes"
      ]
    },
    {
      "cell_type": "code",
      "execution_count": null,
      "metadata": {},
      "outputs": [],
      "source": [
        "test_user['liked_tags']"
      ]
    },
    {
      "cell_type": "code",
      "execution_count": null,
      "metadata": {},
      "outputs": [],
      "source": [
        "# Извлечение данных пользователя\n",
        "test_user = {}\n",
        "for data in test.take(1).as_numpy_iterator():\n",
        "    test_user = data\n",
        "\n",
        "# Создание набора данных для тестового пользователя\n",
        "user_id_to_test = \"42\"  # Замените на нужный ID пользователя\n",
        "test_user_dataset = {\n",
        "    \"user_id\": np.array(['empty']),\n",
        "    \"liked_tags\": np.array(dislikes),\n",
        "    \"unliked_tags\": np.array(likes)\n",
        "}\n",
        "\n",
        "brute_force = tfrs.layers.factorized_top_k.BruteForce(model.user_model)\n",
        "def _reduce_mean_if_needed(embedding):\n",
        "    \"\"\"Сокращает размерность эмбеддинга до среднего, если он многомерный.\"\"\"\n",
        "    if len(embedding.shape) >= 3:\n",
        "        return tf.reduce_mean(embedding, axis=1)\n",
        "    return embedding\n",
        "dense = tf.keras.layers.Dense(365)\n",
        "\n",
        "def _get_candidate_embeddings(recipe_name):\n",
        "    # Получаем эмбеддинги для имен и тегов\n",
        "    recipe_embedding =  model.recipe_model(recipe_name['recipe_name'])\n",
        "    print(recipe_name['tags'])\n",
        "    tags_embedding = model.tags_model(recipe_name['tags'])  # Здесь предполагается, что recipe_name может содержать теги\n",
        "    recipe_embedding = _reduce_mean_if_needed(recipe_embedding)\n",
        "    tags_embedding = _reduce_mean_if_needed(tags_embedding)\n",
        "    # Объединяем эмбеддинги имен и тегов\n",
        "    combined_embedding = tf.concat([recipe_embedding, tags_embedding], axis=1)\n",
        "    return combined_embedding\n",
        "    \n",
        "# Создание набора данных для рецептов и тегов\n",
        "def get_recipe_and_tag_embeddings(x):\n",
        "    recipe_embedding = model.recipe_model(x['recipe_name'])  # (None, 32)\n",
        "    tag_embedding = model.tags_model(x['tags'])  # (None, 32)\n",
        "    recipe_embedding =_reduce_mean_if_needed(recipe_embedding)\n",
        "    tag_embedding = _reduce_mean_if_needed(tag_embedding)\n",
        "    \n",
        "    combined_embeddings = tf.concat([_reduce_mean_if_needed(recipe_embedding),  _reduce_mean_if_needed(tag_embedding)], axis=1)  # (None, 64)\n",
        "    \n",
        "    return dense(combined_embeddings)\n",
        "\n",
        "# Используем map для обработки всех данных сразу\n",
        "recipes_embeddings = recipes.batch(300).map(_get_candidate_embeddings)\n",
        "\n",
        "\n",
        "# Создание набора имен рецептов\n",
        "recipes_names = recipes.batch(300).map(lambda x: x[\"recipe_id\"])  # Убедитесь, что это (None,)\n",
        "\n",
        "# Объединяем эмбеддинги с именами\n",
        "index = brute_force.index_from_dataset(\n",
        "    tf.data.Dataset.zip((recipes_names, recipes_embeddings))\n",
        ")\n",
        "\n",
        "# Получаем рекомендации\n",
        "_, titles = index(test_user_dataset, k=15)\n",
        "\n",
        "# Вывод тегов для рекомендуемых рецептов\n",
        "recommended_tags = raw_recipes[raw_recipes['id'].isin(titles.numpy().flatten().astype('str'))]\n"
      ]
    },
    {
      "cell_type": "code",
      "execution_count": 55,
      "metadata": {},
      "outputs": [
        {
          "name": "stdout",
          "output_type": "stream",
          "text": [
            "Embeddings: <_MapDataset element_spec=TensorSpec(shape=(None, 34), dtype=tf.float32, name=None)>\n",
            "Recipe names: <_MapDataset element_spec=TensorSpec(shape=(None,), dtype=tf.string, name=None)>\n"
          ]
        }
      ],
      "source": [
        "# Извлечение данных пользователя\n",
        "test_user = {}\n",
        "for data in test.take(1).as_numpy_iterator():\n",
        "    test_user = data\n",
        "\n",
        "# Создание набора данных для тестового пользователя\n",
        "user_id_to_test = \"42\"  # Замените на нужный ID пользователя\n",
        "test_user_dataset = {\n",
        "    \"liked_tags\": tag_lookup_layer(likes),\n",
        "}\n",
        "\n",
        "brute_force = tfrs.layers.factorized_top_k.BruteForce(model.user_model)\n",
        "def _reduce_mean_if_needed(embedding):\n",
        "    \"\"\"Сокращает размерность эмбеддинга до среднего, если он многомерный.\"\"\"\n",
        "    if len(embedding.shape) >= 3:\n",
        "        return tf.reduce_mean(embedding, axis=1)\n",
        "    return embedding\n",
        "dense = tf.keras.layers.Dense(365)\n",
        "\n",
        "def _get_candidate_embeddings(recipe_name):\n",
        "    tags_embedding = model.tags_model(recipe_name['tags'])  # Здесь предполагается, что recipe_name может содержать теги\n",
        "    tags_embedding = _reduce_mean_if_needed(tags_embedding)\n",
        "    return tags_embedding\n",
        "    \n",
        "\n",
        "# Используем map для обработки всех данных сразу\n",
        "recipes_embeddings = recipes.batch(300).map(_get_candidate_embeddings)\n",
        "\n",
        "# Печать для отладки\n",
        "print(\"Embeddings:\", recipes_embeddings)\n",
        "\n",
        "# Создание набора имен рецептов\n",
        "# Убедитесь, что здесь не выполняется попытка привести строку к float\n",
        "recipes_names = recipes.batch(300).map(lambda x: x[\"recipe_id\"])  # Убедитесь, что это (None,)\n",
        "\n",
        "\n",
        "# Печать для отладки\n",
        "print(\"Recipe names:\", recipes_names)\n",
        "\n",
        "# Объединяем эмбеддинги с именами\n",
        "index = brute_force.index_from_dataset(\n",
        "    tf.data.Dataset.zip((recipes_names, recipes_embeddings))\n",
        ")\n",
        "\n",
        "# Получаем рекомендации\n",
        "_, titles = index(test_user_dataset, k=15)\n",
        "\n",
        "# Вывод тегов для рекомендуемых рецептов\n",
        "recommended_tags = raw_recipes[raw_recipes['id'].isin(titles.numpy().flatten().astype('str'))]\n"
      ]
    },
    {
      "cell_type": "code",
      "execution_count": null,
      "metadata": {},
      "outputs": [],
      "source": [
        "titles[0]"
      ]
    },
    {
      "cell_type": "code",
      "execution_count": 61,
      "metadata": {},
      "outputs": [
        {
          "data": {
            "text/plain": [
              "1257    ,empty,empty,empty,empty,empty,empty,empty,emp...\n",
              "Name: tags_str, dtype: object"
            ]
          },
          "execution_count": 61,
          "metadata": {},
          "output_type": "execute_result"
        }
      ],
      "source": [
        "raw_recipes[raw_recipes['id'].isin(titles[0].numpy().flatten().astype('str'))][['tags_str','name']][:1]['tags_str']"
      ]
    },
    {
      "cell_type": "code",
      "execution_count": null,
      "metadata": {},
      "outputs": [],
      "source": [
        "recommended_tags[['name', 'tags_str']]"
      ]
    },
    {
      "cell_type": "code",
      "execution_count": null,
      "metadata": {},
      "outputs": [],
      "source": [
        "recommended_tags[['name', 'tags_str']]"
      ]
    }
  ],
  "metadata": {
    "colab": {
      "provenance": []
    },
    "kernelspec": {
      "display_name": "Python 3",
      "name": "python3"
    },
    "language_info": {
      "codemirror_mode": {
        "name": "ipython",
        "version": 3
      },
      "file_extension": ".py",
      "mimetype": "text/x-python",
      "name": "python",
      "nbconvert_exporter": "python",
      "pygments_lexer": "ipython3",
      "version": "3.10.0"
    }
  },
  "nbformat": 4,
  "nbformat_minor": 0
}
