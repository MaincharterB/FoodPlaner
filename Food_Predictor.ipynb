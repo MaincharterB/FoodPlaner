{
  "cells": [
    {
      "cell_type": "code",
      "execution_count": 1,
      "metadata": {
        "id": "2rptU6mxyaoP"
      },
      "outputs": [
        {
          "name": "stdout",
          "output_type": "stream",
          "text": [
            "WARNING:tensorflow:From C:\\Users\\Maincharter\\AppData\\Roaming\\Python\\Python310\\site-packages\\keras\\src\\losses.py:2976: The name tf.losses.sparse_softmax_cross_entropy is deprecated. Please use tf.compat.v1.losses.sparse_softmax_cross_entropy instead.\n",
            "\n"
          ]
        }
      ],
      "source": [
        "from typing import Dict, Text\n",
        "\n",
        "import numpy as np\n",
        "import tensorflow as tf\n",
        "import tensorflow_datasets as tfds\n",
        "import pandas as pd\n",
        "import tensorflow_recommenders as tfrs"
      ]
    },
    {
      "cell_type": "markdown",
      "metadata": {
        "id": "16W1-BvjtVmz"
      },
      "source": [
        "Let's pretend we have 3 users:\n",
        "1. Clarissa is a vegetarian who is lactose intolerant. 🥝🍅\n",
        "2. Martin is an athlete who prefers meat dishes to vegetable dishes. 🍖🥩\n",
        "3. Stella - has no special preferences, eats mostly everything. 🍲🍠"
      ]
    },
    {
      "cell_type": "code",
      "execution_count": 2,
      "metadata": {
        "id": "FDNshkxJvR-U"
      },
      "outputs": [],
      "source": [
        "clarissa = {'id':'clr', 'prefers': ['vegetables', 'vegan', 'nomeat', 'vegetarian'], 'hates': ['meat', 'lactose']}\n",
        "martin = {'id':'mrt', 'prefers': 'meat', 'hates': 'vegetables'}\n",
        "stella = {'id':'stl', 'prefers': '', 'hates': ''}"
      ]
    },
    {
      "cell_type": "markdown",
      "metadata": {
        "id": "FS8T34Y4xNhX"
      },
      "source": [
        "We will additionally enter the factors Calories, Protein, Fat, Carbohydrates for our requirements. **(The numbers were taken at random and do not reflect proportions or recommendations - the numbers are just an example)**\n",
        "* Clarissa - 2000/100/60/120\n",
        "* Martin, 2600/150/100/328.\n",
        "* Stella - 2200/80/50/100"
      ]
    },
    {
      "cell_type": "code",
      "execution_count": 3,
      "metadata": {
        "id": "qoPCpCLMxUob"
      },
      "outputs": [],
      "source": [
        "def set_requirements(user, calories, proteins, fats, carbs):\n",
        "  user['calories'] = calories\n",
        "  user['proteins'] = proteins\n",
        "  user['fats'] = fats\n",
        "  user['carbs'] = carbs\n",
        "set_requirements(clarissa, 2000, 100, 60, 120)\n",
        "set_requirements(martin, 2600, 150, 100, 328)\n",
        "set_requirements(martin, 2200, 80, 50, 100)\n"
      ]
    },
    {
      "cell_type": "markdown",
      "metadata": {
        "id": "iFMln3jutPpe"
      },
      "source": [
        "# Data processing 📊"
      ]
    },
    {
      "cell_type": "markdown",
      "metadata": {
        "id": "yDHv_HGvzWkB"
      },
      "source": [
        "Loading recipes and user_interactions. Nutritions showed like:calories (#), total fat (PDV), sugar (PDV) , sodium (PDV) , protein (PDV) , saturated fat (PDV) , and carbohydrates (PDV)"
      ]
    },
    {
      "cell_type": "code",
      "execution_count": 4,
      "metadata": {
        "colab": {
          "base_uri": "https://localhost:8080/",
          "height": 293
        },
        "id": "1gVJ6QAiyXLz",
        "outputId": "0e6c0673-457a-4063-eaa5-b553ec30edc8"
      },
      "outputs": [
        {
          "data": {
            "text/html": [
              "<div>\n",
              "<style scoped>\n",
              "    .dataframe tbody tr th:only-of-type {\n",
              "        vertical-align: middle;\n",
              "    }\n",
              "\n",
              "    .dataframe tbody tr th {\n",
              "        vertical-align: top;\n",
              "    }\n",
              "\n",
              "    .dataframe thead th {\n",
              "        text-align: right;\n",
              "    }\n",
              "</style>\n",
              "<table border=\"1\" class=\"dataframe\">\n",
              "  <thead>\n",
              "    <tr style=\"text-align: right;\">\n",
              "      <th></th>\n",
              "      <th>name</th>\n",
              "      <th>id</th>\n",
              "      <th>minutes</th>\n",
              "      <th>contributor_id</th>\n",
              "      <th>submitted</th>\n",
              "      <th>tags</th>\n",
              "      <th>nutrition</th>\n",
              "      <th>n_steps</th>\n",
              "      <th>steps</th>\n",
              "      <th>description</th>\n",
              "      <th>ingredients</th>\n",
              "      <th>n_ingredients</th>\n",
              "    </tr>\n",
              "  </thead>\n",
              "  <tbody>\n",
              "    <tr>\n",
              "      <th>0</th>\n",
              "      <td>arriba   baked winter squash mexican style</td>\n",
              "      <td>137739</td>\n",
              "      <td>55</td>\n",
              "      <td>47892</td>\n",
              "      <td>2005-09-16</td>\n",
              "      <td>['60-minutes-or-less', 'time-to-make', 'course...</td>\n",
              "      <td>[51.5, 0.0, 13.0, 0.0, 2.0, 0.0, 4.0]</td>\n",
              "      <td>11</td>\n",
              "      <td>['make a choice and proceed with recipe', 'dep...</td>\n",
              "      <td>autumn is my favorite time of year to cook! th...</td>\n",
              "      <td>['winter squash', 'mexican seasoning', 'mixed ...</td>\n",
              "      <td>7</td>\n",
              "    </tr>\n",
              "    <tr>\n",
              "      <th>1</th>\n",
              "      <td>a bit different  breakfast pizza</td>\n",
              "      <td>31490</td>\n",
              "      <td>30</td>\n",
              "      <td>26278</td>\n",
              "      <td>2002-06-17</td>\n",
              "      <td>['30-minutes-or-less', 'time-to-make', 'course...</td>\n",
              "      <td>[173.4, 18.0, 0.0, 17.0, 22.0, 35.0, 1.0]</td>\n",
              "      <td>9</td>\n",
              "      <td>['preheat oven to 425 degrees f', 'press dough...</td>\n",
              "      <td>this recipe calls for the crust to be prebaked...</td>\n",
              "      <td>['prepared pizza crust', 'sausage patty', 'egg...</td>\n",
              "      <td>6</td>\n",
              "    </tr>\n",
              "    <tr>\n",
              "      <th>2</th>\n",
              "      <td>all in the kitchen  chili</td>\n",
              "      <td>112140</td>\n",
              "      <td>130</td>\n",
              "      <td>196586</td>\n",
              "      <td>2005-02-25</td>\n",
              "      <td>['time-to-make', 'course', 'preparation', 'mai...</td>\n",
              "      <td>[269.8, 22.0, 32.0, 48.0, 39.0, 27.0, 5.0]</td>\n",
              "      <td>6</td>\n",
              "      <td>['brown ground beef in large pot', 'add choppe...</td>\n",
              "      <td>this modified version of 'mom's' chili was a h...</td>\n",
              "      <td>['ground beef', 'yellow onions', 'diced tomato...</td>\n",
              "      <td>13</td>\n",
              "    </tr>\n",
              "    <tr>\n",
              "      <th>3</th>\n",
              "      <td>alouette  potatoes</td>\n",
              "      <td>59389</td>\n",
              "      <td>45</td>\n",
              "      <td>68585</td>\n",
              "      <td>2003-04-14</td>\n",
              "      <td>['60-minutes-or-less', 'time-to-make', 'course...</td>\n",
              "      <td>[368.1, 17.0, 10.0, 2.0, 14.0, 8.0, 20.0]</td>\n",
              "      <td>11</td>\n",
              "      <td>['place potatoes in a large pot of lightly sal...</td>\n",
              "      <td>this is a super easy, great tasting, make ahea...</td>\n",
              "      <td>['spreadable cheese with garlic and herbs', 'n...</td>\n",
              "      <td>11</td>\n",
              "    </tr>\n",
              "    <tr>\n",
              "      <th>4</th>\n",
              "      <td>amish  tomato ketchup  for canning</td>\n",
              "      <td>44061</td>\n",
              "      <td>190</td>\n",
              "      <td>41706</td>\n",
              "      <td>2002-10-25</td>\n",
              "      <td>['weeknight', 'time-to-make', 'course', 'main-...</td>\n",
              "      <td>[352.9, 1.0, 337.0, 23.0, 3.0, 0.0, 28.0]</td>\n",
              "      <td>5</td>\n",
              "      <td>['mix all ingredients&amp; boil for 2 1 / 2 hours ...</td>\n",
              "      <td>my dh's amish mother raised him on this recipe...</td>\n",
              "      <td>['tomato juice', 'apple cider vinegar', 'sugar...</td>\n",
              "      <td>8</td>\n",
              "    </tr>\n",
              "  </tbody>\n",
              "</table>\n",
              "</div>"
            ],
            "text/plain": [
              "                                         name      id  minutes  \\\n",
              "0  arriba   baked winter squash mexican style  137739       55   \n",
              "1            a bit different  breakfast pizza   31490       30   \n",
              "2                   all in the kitchen  chili  112140      130   \n",
              "3                          alouette  potatoes   59389       45   \n",
              "4          amish  tomato ketchup  for canning   44061      190   \n",
              "\n",
              "   contributor_id   submitted  \\\n",
              "0           47892  2005-09-16   \n",
              "1           26278  2002-06-17   \n",
              "2          196586  2005-02-25   \n",
              "3           68585  2003-04-14   \n",
              "4           41706  2002-10-25   \n",
              "\n",
              "                                                tags  \\\n",
              "0  ['60-minutes-or-less', 'time-to-make', 'course...   \n",
              "1  ['30-minutes-or-less', 'time-to-make', 'course...   \n",
              "2  ['time-to-make', 'course', 'preparation', 'mai...   \n",
              "3  ['60-minutes-or-less', 'time-to-make', 'course...   \n",
              "4  ['weeknight', 'time-to-make', 'course', 'main-...   \n",
              "\n",
              "                                    nutrition  n_steps  \\\n",
              "0       [51.5, 0.0, 13.0, 0.0, 2.0, 0.0, 4.0]       11   \n",
              "1   [173.4, 18.0, 0.0, 17.0, 22.0, 35.0, 1.0]        9   \n",
              "2  [269.8, 22.0, 32.0, 48.0, 39.0, 27.0, 5.0]        6   \n",
              "3   [368.1, 17.0, 10.0, 2.0, 14.0, 8.0, 20.0]       11   \n",
              "4   [352.9, 1.0, 337.0, 23.0, 3.0, 0.0, 28.0]        5   \n",
              "\n",
              "                                               steps  \\\n",
              "0  ['make a choice and proceed with recipe', 'dep...   \n",
              "1  ['preheat oven to 425 degrees f', 'press dough...   \n",
              "2  ['brown ground beef in large pot', 'add choppe...   \n",
              "3  ['place potatoes in a large pot of lightly sal...   \n",
              "4  ['mix all ingredients& boil for 2 1 / 2 hours ...   \n",
              "\n",
              "                                         description  \\\n",
              "0  autumn is my favorite time of year to cook! th...   \n",
              "1  this recipe calls for the crust to be prebaked...   \n",
              "2  this modified version of 'mom's' chili was a h...   \n",
              "3  this is a super easy, great tasting, make ahea...   \n",
              "4  my dh's amish mother raised him on this recipe...   \n",
              "\n",
              "                                         ingredients  n_ingredients  \n",
              "0  ['winter squash', 'mexican seasoning', 'mixed ...              7  \n",
              "1  ['prepared pizza crust', 'sausage patty', 'egg...              6  \n",
              "2  ['ground beef', 'yellow onions', 'diced tomato...             13  \n",
              "3  ['spreadable cheese with garlic and herbs', 'n...             11  \n",
              "4  ['tomato juice', 'apple cider vinegar', 'sugar...              8  "
            ]
          },
          "execution_count": 4,
          "metadata": {},
          "output_type": "execute_result"
        }
      ],
      "source": [
        "raw_recipes = pd.read_csv('./sample_data/RAW_recipes.csv')\n",
        "raw_interactions = pd.read_csv('./sample_data/RAW_interactions.csv')\n",
        "raw_recipes.head()"
      ]
    },
    {
      "cell_type": "markdown",
      "metadata": {
        "id": "9_z_pQgv4fvC"
      },
      "source": [
        "Merge data interactions with recipe infos"
      ]
    },
    {
      "cell_type": "code",
      "execution_count": 5,
      "metadata": {
        "colab": {
          "base_uri": "https://localhost:8080/",
          "height": 293
        },
        "id": "ahU35J7P31xt",
        "outputId": "f26e3ef4-cfee-4ecd-b0bd-44e31a36503b"
      },
      "outputs": [
        {
          "data": {
            "text/html": [
              "<div>\n",
              "<style scoped>\n",
              "    .dataframe tbody tr th:only-of-type {\n",
              "        vertical-align: middle;\n",
              "    }\n",
              "\n",
              "    .dataframe tbody tr th {\n",
              "        vertical-align: top;\n",
              "    }\n",
              "\n",
              "    .dataframe thead th {\n",
              "        text-align: right;\n",
              "    }\n",
              "</style>\n",
              "<table border=\"1\" class=\"dataframe\">\n",
              "  <thead>\n",
              "    <tr style=\"text-align: right;\">\n",
              "      <th></th>\n",
              "      <th>user_id</th>\n",
              "      <th>recipe_id</th>\n",
              "      <th>rating</th>\n",
              "      <th>recipe_name</th>\n",
              "      <th>tags</th>\n",
              "      <th>ingredients</th>\n",
              "    </tr>\n",
              "  </thead>\n",
              "  <tbody>\n",
              "    <tr>\n",
              "      <th>0</th>\n",
              "      <td>38094</td>\n",
              "      <td>40893</td>\n",
              "      <td>4</td>\n",
              "      <td>white bean   green chile pepper soup</td>\n",
              "      <td>['weeknight', 'time-to-make', 'course', 'main-...</td>\n",
              "      <td>['great northern beans', 'yellow onion', 'dice...</td>\n",
              "    </tr>\n",
              "    <tr>\n",
              "      <th>1</th>\n",
              "      <td>1293707</td>\n",
              "      <td>40893</td>\n",
              "      <td>5</td>\n",
              "      <td>white bean   green chile pepper soup</td>\n",
              "      <td>['weeknight', 'time-to-make', 'course', 'main-...</td>\n",
              "      <td>['great northern beans', 'yellow onion', 'dice...</td>\n",
              "    </tr>\n",
              "    <tr>\n",
              "      <th>2</th>\n",
              "      <td>8937</td>\n",
              "      <td>44394</td>\n",
              "      <td>4</td>\n",
              "      <td>devilicious cookie cake delights</td>\n",
              "      <td>['30-minutes-or-less', 'time-to-make', 'course...</td>\n",
              "      <td>[\"devil's food cake mix\", 'vegetable oil', 'eg...</td>\n",
              "    </tr>\n",
              "    <tr>\n",
              "      <th>3</th>\n",
              "      <td>126440</td>\n",
              "      <td>85009</td>\n",
              "      <td>5</td>\n",
              "      <td>baked potato toppings</td>\n",
              "      <td>['15-minutes-or-less', 'time-to-make', 'course...</td>\n",
              "      <td>['mayonnaise', 'salsa', 'cheddar cheese', 'ref...</td>\n",
              "    </tr>\n",
              "    <tr>\n",
              "      <th>4</th>\n",
              "      <td>57222</td>\n",
              "      <td>85009</td>\n",
              "      <td>5</td>\n",
              "      <td>baked potato toppings</td>\n",
              "      <td>['15-minutes-or-less', 'time-to-make', 'course...</td>\n",
              "      <td>['mayonnaise', 'salsa', 'cheddar cheese', 'ref...</td>\n",
              "    </tr>\n",
              "  </tbody>\n",
              "</table>\n",
              "</div>"
            ],
            "text/plain": [
              "   user_id  recipe_id  rating                           recipe_name  \\\n",
              "0    38094      40893       4  white bean   green chile pepper soup   \n",
              "1  1293707      40893       5  white bean   green chile pepper soup   \n",
              "2     8937      44394       4      devilicious cookie cake delights   \n",
              "3   126440      85009       5                 baked potato toppings   \n",
              "4    57222      85009       5                 baked potato toppings   \n",
              "\n",
              "                                                tags  \\\n",
              "0  ['weeknight', 'time-to-make', 'course', 'main-...   \n",
              "1  ['weeknight', 'time-to-make', 'course', 'main-...   \n",
              "2  ['30-minutes-or-less', 'time-to-make', 'course...   \n",
              "3  ['15-minutes-or-less', 'time-to-make', 'course...   \n",
              "4  ['15-minutes-or-less', 'time-to-make', 'course...   \n",
              "\n",
              "                                         ingredients  \n",
              "0  ['great northern beans', 'yellow onion', 'dice...  \n",
              "1  ['great northern beans', 'yellow onion', 'dice...  \n",
              "2  [\"devil's food cake mix\", 'vegetable oil', 'eg...  \n",
              "3  ['mayonnaise', 'salsa', 'cheddar cheese', 'ref...  \n",
              "4  ['mayonnaise', 'salsa', 'cheddar cheese', 'ref...  "
            ]
          },
          "execution_count": 5,
          "metadata": {},
          "output_type": "execute_result"
        }
      ],
      "source": [
        "interactions_with_recipe_info = pd.merge(raw_interactions, raw_recipes[['name', 'tags', 'ingredients', 'id']], left_on='recipe_id', right_on='id', how='left')\n",
        "interactions_with_recipe_info = interactions_with_recipe_info[['user_id', 'recipe_id', 'rating', 'name', 'tags', 'ingredients']]\n",
        "interactions_with_recipe_info.rename(columns={'name': 'recipe_name'}, inplace=True)\n",
        "interactions_with_recipe_info.head()"
      ]
    },
    {
      "cell_type": "code",
      "execution_count": 6,
      "metadata": {
        "id": "a47R5lVA2r_t"
      },
      "outputs": [],
      "source": [
        "import ast\n",
        "\n",
        "def convert_to_list(data_str):\n",
        "  try:\n",
        "    return ast.literal_eval(data_str)\n",
        "  except (SyntaxError, ValueError):\n",
        "    return []"
      ]
    },
    {
      "cell_type": "code",
      "execution_count": 7,
      "metadata": {
        "id": "Fai3Kw-i7xmw"
      },
      "outputs": [],
      "source": [
        "interactions_with_recipe_info['ingredients_str'] = interactions_with_recipe_info['ingredients'].apply(convert_to_list)\n",
        "interactions_with_recipe_info['tags_str'] = interactions_with_recipe_info['tags'].apply(convert_to_list)\n",
        "raw_recipes['ingredients_str'] = raw_recipes['ingredients'].apply(convert_to_list)\n",
        "raw_recipes['tags_str'] = raw_recipes['tags'].apply(convert_to_list)"
      ]
    },
    {
      "cell_type": "markdown",
      "metadata": {
        "id": "nVgYKJQ57wyE"
      },
      "source": [
        "Formatting data for Datasets"
      ]
    },
    {
      "cell_type": "code",
      "execution_count": 8,
      "metadata": {
        "id": "6wavCmee7zWl"
      },
      "outputs": [],
      "source": [
        "interactions_with_recipe_info['user_id'] = interactions_with_recipe_info.user_id.astype(\"str\")\n",
        "interactions_with_recipe_info['recipe_id'] = interactions_with_recipe_info.recipe_id.astype(\"str\")\n",
        "interactions_with_recipe_info['rating'] = interactions_with_recipe_info.rating.astype(np.float32)\n",
        "interactions_with_recipe_info['recipe_name'] = interactions_with_recipe_info.recipe_name.astype(\"str\")\n",
        "interactions_with_recipe_info['tags'] = interactions_with_recipe_info.tags.astype(\"str\")\n",
        "interactions_with_recipe_info['ingredients'] = interactions_with_recipe_info.ingredients.astype(\"str\")\n"
      ]
    },
    {
      "cell_type": "code",
      "execution_count": 9,
      "metadata": {
        "colab": {
          "base_uri": "https://localhost:8080/"
        },
        "id": "MNJZsenzBSOO",
        "outputId": "44524d39-038a-44ea-f3a4-173df25eae43"
      },
      "outputs": [
        {
          "data": {
            "text/plain": [
              "226570"
            ]
          },
          "execution_count": 9,
          "metadata": {},
          "output_type": "execute_result"
        }
      ],
      "source": [
        "len(interactions_with_recipe_info['user_id'].unique())"
      ]
    },
    {
      "cell_type": "markdown",
      "metadata": {
        "id": "ZMXuOAHX9sgD"
      },
      "source": [
        "Creating train preferences for users"
      ]
    },
    {
      "cell_type": "code",
      "execution_count": 10,
      "metadata": {
        "colab": {
          "base_uri": "https://localhost:8080/",
          "height": 206
        },
        "id": "4XwFlxfM9wJI",
        "outputId": "c018cb40-8d45-400f-93bf-e5dc2ee5b992"
      },
      "outputs": [
        {
          "data": {
            "text/html": [
              "<div>\n",
              "<style scoped>\n",
              "    .dataframe tbody tr th:only-of-type {\n",
              "        vertical-align: middle;\n",
              "    }\n",
              "\n",
              "    .dataframe tbody tr th {\n",
              "        vertical-align: top;\n",
              "    }\n",
              "\n",
              "    .dataframe thead th {\n",
              "        text-align: right;\n",
              "    }\n",
              "</style>\n",
              "<table border=\"1\" class=\"dataframe\">\n",
              "  <thead>\n",
              "    <tr style=\"text-align: right;\">\n",
              "      <th></th>\n",
              "      <th>user_id</th>\n",
              "      <th>rating</th>\n",
              "      <th>tags_str</th>\n",
              "    </tr>\n",
              "  </thead>\n",
              "  <tbody>\n",
              "    <tr>\n",
              "      <th>0</th>\n",
              "      <td>38094</td>\n",
              "      <td>4.0</td>\n",
              "      <td>[weeknight, time-to-make, course, main-ingredi...</td>\n",
              "    </tr>\n",
              "    <tr>\n",
              "      <th>1</th>\n",
              "      <td>1293707</td>\n",
              "      <td>5.0</td>\n",
              "      <td>[weeknight, time-to-make, course, main-ingredi...</td>\n",
              "    </tr>\n",
              "    <tr>\n",
              "      <th>2</th>\n",
              "      <td>8937</td>\n",
              "      <td>4.0</td>\n",
              "      <td>[30-minutes-or-less, time-to-make, course, mai...</td>\n",
              "    </tr>\n",
              "    <tr>\n",
              "      <th>3</th>\n",
              "      <td>126440</td>\n",
              "      <td>5.0</td>\n",
              "      <td>[15-minutes-or-less, time-to-make, course, mai...</td>\n",
              "    </tr>\n",
              "    <tr>\n",
              "      <th>4</th>\n",
              "      <td>57222</td>\n",
              "      <td>5.0</td>\n",
              "      <td>[15-minutes-or-less, time-to-make, course, mai...</td>\n",
              "    </tr>\n",
              "  </tbody>\n",
              "</table>\n",
              "</div>"
            ],
            "text/plain": [
              "   user_id  rating                                           tags_str\n",
              "0    38094     4.0  [weeknight, time-to-make, course, main-ingredi...\n",
              "1  1293707     5.0  [weeknight, time-to-make, course, main-ingredi...\n",
              "2     8937     4.0  [30-minutes-or-less, time-to-make, course, mai...\n",
              "3   126440     5.0  [15-minutes-or-less, time-to-make, course, mai...\n",
              "4    57222     5.0  [15-minutes-or-less, time-to-make, course, mai..."
            ]
          },
          "execution_count": 10,
          "metadata": {},
          "output_type": "execute_result"
        }
      ],
      "source": [
        "user_preferences = interactions_with_recipe_info[['user_id', 'rating', 'tags_str']]\n",
        "user_preferences.head()"
      ]
    },
    {
      "cell_type": "code",
      "execution_count": 12,
      "metadata": {
        "id": "RN5oeRb--M5o"
      },
      "outputs": [],
      "source": [
        "user_liked_tags = user_preferences[user_preferences['rating'] >= 3].groupby('user_id')['tags_str'].apply(list).reset_index()\n",
        "user_unliked_tags = user_preferences[user_preferences['rating'] < 3].groupby('user_id')['tags_str'].apply(list).reset_index()\n",
        "users_ds = pd.DataFrame(interactions_with_recipe_info['user_id'].unique(), columns=['user_id'])\n"
      ]
    },
    {
      "cell_type": "code",
      "execution_count": 13,
      "metadata": {
        "id": "swe2hQ9dBZsI"
      },
      "outputs": [],
      "source": [
        "users_ds = users_ds.merge(user_liked_tags, on='user_id', how='left')\n",
        "users_ds = users_ds.rename(columns={'tags_str': 'liked_tags'})\n",
        "users_ds = users_ds.merge(user_unliked_tags, on='user_id', how='left')\n",
        "users_ds = users_ds.rename(columns={'tags_str': 'unliked_tags'})"
      ]
    },
    {
      "cell_type": "code",
      "execution_count": 14,
      "metadata": {
        "colab": {
          "base_uri": "https://localhost:8080/",
          "height": 206
        },
        "id": "M2fouB8BCOLp",
        "outputId": "f28b08de-b1ec-49c8-8dc9-6a88074c7444"
      },
      "outputs": [
        {
          "data": {
            "text/html": [
              "<div>\n",
              "<style scoped>\n",
              "    .dataframe tbody tr th:only-of-type {\n",
              "        vertical-align: middle;\n",
              "    }\n",
              "\n",
              "    .dataframe tbody tr th {\n",
              "        vertical-align: top;\n",
              "    }\n",
              "\n",
              "    .dataframe thead th {\n",
              "        text-align: right;\n",
              "    }\n",
              "</style>\n",
              "<table border=\"1\" class=\"dataframe\">\n",
              "  <thead>\n",
              "    <tr style=\"text-align: right;\">\n",
              "      <th></th>\n",
              "      <th>user_id</th>\n",
              "      <th>liked_tags</th>\n",
              "      <th>unliked_tags</th>\n",
              "    </tr>\n",
              "  </thead>\n",
              "  <tbody>\n",
              "    <tr>\n",
              "      <th>0</th>\n",
              "      <td>38094</td>\n",
              "      <td>[[weeknight, time-to-make, course, main-ingred...</td>\n",
              "      <td>NaN</td>\n",
              "    </tr>\n",
              "    <tr>\n",
              "      <th>1</th>\n",
              "      <td>1293707</td>\n",
              "      <td>[[weeknight, time-to-make, course, main-ingred...</td>\n",
              "      <td>[[60-minutes-or-less, time-to-make, course, ma...</td>\n",
              "    </tr>\n",
              "    <tr>\n",
              "      <th>2</th>\n",
              "      <td>8937</td>\n",
              "      <td>[[30-minutes-or-less, time-to-make, course, ma...</td>\n",
              "      <td>NaN</td>\n",
              "    </tr>\n",
              "    <tr>\n",
              "      <th>3</th>\n",
              "      <td>126440</td>\n",
              "      <td>[[15-minutes-or-less, time-to-make, course, ma...</td>\n",
              "      <td>[[60-minutes-or-less, time-to-make, course, pr...</td>\n",
              "    </tr>\n",
              "    <tr>\n",
              "      <th>4</th>\n",
              "      <td>57222</td>\n",
              "      <td>[[15-minutes-or-less, time-to-make, course, ma...</td>\n",
              "      <td>[[60-minutes-or-less, time-to-make, course, ma...</td>\n",
              "    </tr>\n",
              "  </tbody>\n",
              "</table>\n",
              "</div>"
            ],
            "text/plain": [
              "   user_id                                         liked_tags  \\\n",
              "0    38094  [[weeknight, time-to-make, course, main-ingred...   \n",
              "1  1293707  [[weeknight, time-to-make, course, main-ingred...   \n",
              "2     8937  [[30-minutes-or-less, time-to-make, course, ma...   \n",
              "3   126440  [[15-minutes-or-less, time-to-make, course, ma...   \n",
              "4    57222  [[15-minutes-or-less, time-to-make, course, ma...   \n",
              "\n",
              "                                        unliked_tags  \n",
              "0                                                NaN  \n",
              "1  [[60-minutes-or-less, time-to-make, course, ma...  \n",
              "2                                                NaN  \n",
              "3  [[60-minutes-or-less, time-to-make, course, pr...  \n",
              "4  [[60-minutes-or-less, time-to-make, course, ma...  "
            ]
          },
          "execution_count": 14,
          "metadata": {},
          "output_type": "execute_result"
        }
      ],
      "source": [
        "users_ds.head()"
      ]
    },
    {
      "cell_type": "markdown",
      "metadata": {
        "id": "O9knZ5NNC1C0"
      },
      "source": [
        "Looking that some of users don't have unliked_tags, so replace all Nan with empty arrays"
      ]
    },
    {
      "cell_type": "code",
      "execution_count": 15,
      "metadata": {
        "id": "eZUt0mAcDLVQ"
      },
      "outputs": [],
      "source": [
        "def unique_tags_in_list(tags_list):\n",
        "  if isinstance(tags_list, list):\n",
        "    unique_tags = []\n",
        "    for sublist in tags_list:\n",
        "      if isinstance(sublist, list):\n",
        "        for tag in sublist:\n",
        "          if tag not in unique_tags:\n",
        "            unique_tags.append(tag)\n",
        "    return unique_tags\n",
        "  else:\n",
        "    return []\n",
        "\n",
        "users_ds['liked_tags'] = users_ds['liked_tags'].apply(unique_tags_in_list)\n",
        "users_ds['unliked_tags'] = users_ds['unliked_tags'].apply(unique_tags_in_list)"
      ]
    },
    {
      "cell_type": "code",
      "execution_count": 16,
      "metadata": {
        "id": "OpuGJ1nTFoVR"
      },
      "outputs": [],
      "source": [
        "def remove_duplicate_tags(row):\n",
        "  liked_tags = set(row['liked_tags']) if isinstance(row['liked_tags'], list) else set()\n",
        "  unliked_tags = set(row['unliked_tags']) if isinstance(row['unliked_tags'], list) else set()\n",
        "  duplicate_tags = liked_tags.intersection(unliked_tags)\n",
        "  row['liked_tags'] = [tag for tag in row['liked_tags'] if tag not in duplicate_tags] if isinstance(row['liked_tags'], list) else []\n",
        "  row['unliked_tags'] = [tag for tag in row['unliked_tags'] if tag not in duplicate_tags] if isinstance(row['unliked_tags'], list) else []\n",
        "  return row\n",
        "\n",
        "users_ds = users_ds.apply(remove_duplicate_tags, axis=1)\n"
      ]
    },
    {
      "cell_type": "code",
      "execution_count": 17,
      "metadata": {
        "colab": {
          "base_uri": "https://localhost:8080/",
          "height": 206
        },
        "id": "9qRO0tcMF9-X",
        "outputId": "bdbccbcd-2a5f-48c4-a981-76a5231cc610"
      },
      "outputs": [
        {
          "data": {
            "text/html": [
              "<div>\n",
              "<style scoped>\n",
              "    .dataframe tbody tr th:only-of-type {\n",
              "        vertical-align: middle;\n",
              "    }\n",
              "\n",
              "    .dataframe tbody tr th {\n",
              "        vertical-align: top;\n",
              "    }\n",
              "\n",
              "    .dataframe thead th {\n",
              "        text-align: right;\n",
              "    }\n",
              "</style>\n",
              "<table border=\"1\" class=\"dataframe\">\n",
              "  <thead>\n",
              "    <tr style=\"text-align: right;\">\n",
              "      <th></th>\n",
              "      <th>user_id</th>\n",
              "      <th>liked_tags</th>\n",
              "      <th>unliked_tags</th>\n",
              "    </tr>\n",
              "  </thead>\n",
              "  <tbody>\n",
              "    <tr>\n",
              "      <th>0</th>\n",
              "      <td>38094</td>\n",
              "      <td>[weeknight, time-to-make, course, main-ingredi...</td>\n",
              "      <td>[]</td>\n",
              "    </tr>\n",
              "    <tr>\n",
              "      <th>1</th>\n",
              "      <td>1293707</td>\n",
              "      <td>[weeknight, soups-stews, beans, crock-pot-slow...</td>\n",
              "      <td>[cupcakes, finger-food, cakes, english, cake-f...</td>\n",
              "    </tr>\n",
              "    <tr>\n",
              "      <th>2</th>\n",
              "      <td>8937</td>\n",
              "      <td>[30-minutes-or-less, time-to-make, course, mai...</td>\n",
              "      <td>[]</td>\n",
              "    </tr>\n",
              "    <tr>\n",
              "      <th>3</th>\n",
              "      <td>126440</td>\n",
              "      <td>[15-minutes-or-less, 3-steps-or-less, jewish-s...</td>\n",
              "      <td>[]</td>\n",
              "    </tr>\n",
              "    <tr>\n",
              "      <th>4</th>\n",
              "      <td>57222</td>\n",
              "      <td>[condiments-etc, salads, beans, grains, south-...</td>\n",
              "      <td>[kwanzaa, dairy-free]</td>\n",
              "    </tr>\n",
              "  </tbody>\n",
              "</table>\n",
              "</div>"
            ],
            "text/plain": [
              "   user_id                                         liked_tags  \\\n",
              "0    38094  [weeknight, time-to-make, course, main-ingredi...   \n",
              "1  1293707  [weeknight, soups-stews, beans, crock-pot-slow...   \n",
              "2     8937  [30-minutes-or-less, time-to-make, course, mai...   \n",
              "3   126440  [15-minutes-or-less, 3-steps-or-less, jewish-s...   \n",
              "4    57222  [condiments-etc, salads, beans, grains, south-...   \n",
              "\n",
              "                                        unliked_tags  \n",
              "0                                                 []  \n",
              "1  [cupcakes, finger-food, cakes, english, cake-f...  \n",
              "2                                                 []  \n",
              "3                                                 []  \n",
              "4                              [kwanzaa, dairy-free]  "
            ]
          },
          "execution_count": 17,
          "metadata": {},
          "output_type": "execute_result"
        }
      ],
      "source": [
        "users_ds.head()"
      ]
    },
    {
      "cell_type": "code",
      "execution_count": 18,
      "metadata": {
        "id": "GjbluG3mGqXq"
      },
      "outputs": [],
      "source": [
        "interactions_with_recipe_info = pd.merge(interactions_with_recipe_info, users_ds, on='user_id', how='left')"
      ]
    },
    {
      "cell_type": "code",
      "execution_count": 19,
      "metadata": {
        "colab": {
          "base_uri": "https://localhost:8080/",
          "height": 293
        },
        "id": "2M49kWGoGvqs",
        "outputId": "a455af49-21b4-4b15-c5d2-3395ac926489"
      },
      "outputs": [
        {
          "data": {
            "text/html": [
              "<div>\n",
              "<style scoped>\n",
              "    .dataframe tbody tr th:only-of-type {\n",
              "        vertical-align: middle;\n",
              "    }\n",
              "\n",
              "    .dataframe tbody tr th {\n",
              "        vertical-align: top;\n",
              "    }\n",
              "\n",
              "    .dataframe thead th {\n",
              "        text-align: right;\n",
              "    }\n",
              "</style>\n",
              "<table border=\"1\" class=\"dataframe\">\n",
              "  <thead>\n",
              "    <tr style=\"text-align: right;\">\n",
              "      <th></th>\n",
              "      <th>user_id</th>\n",
              "      <th>recipe_id</th>\n",
              "      <th>rating</th>\n",
              "      <th>recipe_name</th>\n",
              "      <th>tags</th>\n",
              "      <th>ingredients</th>\n",
              "      <th>ingredients_str</th>\n",
              "      <th>tags_str</th>\n",
              "      <th>liked_tags</th>\n",
              "      <th>unliked_tags</th>\n",
              "    </tr>\n",
              "  </thead>\n",
              "  <tbody>\n",
              "    <tr>\n",
              "      <th>0</th>\n",
              "      <td>38094</td>\n",
              "      <td>40893</td>\n",
              "      <td>4.0</td>\n",
              "      <td>white bean   green chile pepper soup</td>\n",
              "      <td>['weeknight', 'time-to-make', 'course', 'main-...</td>\n",
              "      <td>['great northern beans', 'yellow onion', 'dice...</td>\n",
              "      <td>[great northern beans, yellow onion, diced gre...</td>\n",
              "      <td>[weeknight, time-to-make, course, main-ingredi...</td>\n",
              "      <td>[weeknight, time-to-make, course, main-ingredi...</td>\n",
              "      <td>[]</td>\n",
              "    </tr>\n",
              "    <tr>\n",
              "      <th>1</th>\n",
              "      <td>1293707</td>\n",
              "      <td>40893</td>\n",
              "      <td>5.0</td>\n",
              "      <td>white bean   green chile pepper soup</td>\n",
              "      <td>['weeknight', 'time-to-make', 'course', 'main-...</td>\n",
              "      <td>['great northern beans', 'yellow onion', 'dice...</td>\n",
              "      <td>[great northern beans, yellow onion, diced gre...</td>\n",
              "      <td>[weeknight, time-to-make, course, main-ingredi...</td>\n",
              "      <td>[weeknight, soups-stews, beans, crock-pot-slow...</td>\n",
              "      <td>[cupcakes, finger-food, cakes, english, cake-f...</td>\n",
              "    </tr>\n",
              "    <tr>\n",
              "      <th>2</th>\n",
              "      <td>8937</td>\n",
              "      <td>44394</td>\n",
              "      <td>4.0</td>\n",
              "      <td>devilicious cookie cake delights</td>\n",
              "      <td>['30-minutes-or-less', 'time-to-make', 'course...</td>\n",
              "      <td>[\"devil's food cake mix\", 'vegetable oil', 'eg...</td>\n",
              "      <td>[devil's food cake mix, vegetable oil, eggs, r...</td>\n",
              "      <td>[30-minutes-or-less, time-to-make, course, mai...</td>\n",
              "      <td>[30-minutes-or-less, time-to-make, course, mai...</td>\n",
              "      <td>[]</td>\n",
              "    </tr>\n",
              "    <tr>\n",
              "      <th>3</th>\n",
              "      <td>126440</td>\n",
              "      <td>85009</td>\n",
              "      <td>5.0</td>\n",
              "      <td>baked potato toppings</td>\n",
              "      <td>['15-minutes-or-less', 'time-to-make', 'course...</td>\n",
              "      <td>['mayonnaise', 'salsa', 'cheddar cheese', 'ref...</td>\n",
              "      <td>[mayonnaise, salsa, cheddar cheese, refried be...</td>\n",
              "      <td>[15-minutes-or-less, time-to-make, course, mai...</td>\n",
              "      <td>[15-minutes-or-less, 3-steps-or-less, jewish-s...</td>\n",
              "      <td>[]</td>\n",
              "    </tr>\n",
              "    <tr>\n",
              "      <th>4</th>\n",
              "      <td>57222</td>\n",
              "      <td>85009</td>\n",
              "      <td>5.0</td>\n",
              "      <td>baked potato toppings</td>\n",
              "      <td>['15-minutes-or-less', 'time-to-make', 'course...</td>\n",
              "      <td>['mayonnaise', 'salsa', 'cheddar cheese', 'ref...</td>\n",
              "      <td>[mayonnaise, salsa, cheddar cheese, refried be...</td>\n",
              "      <td>[15-minutes-or-less, time-to-make, course, mai...</td>\n",
              "      <td>[condiments-etc, salads, beans, grains, south-...</td>\n",
              "      <td>[kwanzaa, dairy-free]</td>\n",
              "    </tr>\n",
              "  </tbody>\n",
              "</table>\n",
              "</div>"
            ],
            "text/plain": [
              "   user_id recipe_id  rating                           recipe_name  \\\n",
              "0    38094     40893     4.0  white bean   green chile pepper soup   \n",
              "1  1293707     40893     5.0  white bean   green chile pepper soup   \n",
              "2     8937     44394     4.0      devilicious cookie cake delights   \n",
              "3   126440     85009     5.0                 baked potato toppings   \n",
              "4    57222     85009     5.0                 baked potato toppings   \n",
              "\n",
              "                                                tags  \\\n",
              "0  ['weeknight', 'time-to-make', 'course', 'main-...   \n",
              "1  ['weeknight', 'time-to-make', 'course', 'main-...   \n",
              "2  ['30-minutes-or-less', 'time-to-make', 'course...   \n",
              "3  ['15-minutes-or-less', 'time-to-make', 'course...   \n",
              "4  ['15-minutes-or-less', 'time-to-make', 'course...   \n",
              "\n",
              "                                         ingredients  \\\n",
              "0  ['great northern beans', 'yellow onion', 'dice...   \n",
              "1  ['great northern beans', 'yellow onion', 'dice...   \n",
              "2  [\"devil's food cake mix\", 'vegetable oil', 'eg...   \n",
              "3  ['mayonnaise', 'salsa', 'cheddar cheese', 'ref...   \n",
              "4  ['mayonnaise', 'salsa', 'cheddar cheese', 'ref...   \n",
              "\n",
              "                                     ingredients_str  \\\n",
              "0  [great northern beans, yellow onion, diced gre...   \n",
              "1  [great northern beans, yellow onion, diced gre...   \n",
              "2  [devil's food cake mix, vegetable oil, eggs, r...   \n",
              "3  [mayonnaise, salsa, cheddar cheese, refried be...   \n",
              "4  [mayonnaise, salsa, cheddar cheese, refried be...   \n",
              "\n",
              "                                            tags_str  \\\n",
              "0  [weeknight, time-to-make, course, main-ingredi...   \n",
              "1  [weeknight, time-to-make, course, main-ingredi...   \n",
              "2  [30-minutes-or-less, time-to-make, course, mai...   \n",
              "3  [15-minutes-or-less, time-to-make, course, mai...   \n",
              "4  [15-minutes-or-less, time-to-make, course, mai...   \n",
              "\n",
              "                                          liked_tags  \\\n",
              "0  [weeknight, time-to-make, course, main-ingredi...   \n",
              "1  [weeknight, soups-stews, beans, crock-pot-slow...   \n",
              "2  [30-minutes-or-less, time-to-make, course, mai...   \n",
              "3  [15-minutes-or-less, 3-steps-or-less, jewish-s...   \n",
              "4  [condiments-etc, salads, beans, grains, south-...   \n",
              "\n",
              "                                        unliked_tags  \n",
              "0                                                 []  \n",
              "1  [cupcakes, finger-food, cakes, english, cake-f...  \n",
              "2                                                 []  \n",
              "3                                                 []  \n",
              "4                              [kwanzaa, dairy-free]  "
            ]
          },
          "execution_count": 19,
          "metadata": {},
          "output_type": "execute_result"
        }
      ],
      "source": [
        "interactions_with_recipe_info.head()"
      ]
    },
    {
      "cell_type": "markdown",
      "metadata": {
        "id": "nzycE1Re7X9i"
      },
      "source": [
        "Creating datasets"
      ]
    },
    {
      "cell_type": "code",
      "execution_count": 20,
      "metadata": {
        "id": "aZMJRewvLYJb"
      },
      "outputs": [],
      "source": [
        "interactions_with_recipe_info['liked_tags_str'] = interactions_with_recipe_info['liked_tags'].apply(lambda x: ','.join(x))\n",
        "interactions_with_recipe_info['unliked_tags_str'] = interactions_with_recipe_info['unliked_tags'].apply(lambda x: ','.join(x))"
      ]
    },
    {
      "cell_type": "code",
      "execution_count": 21,
      "metadata": {
        "id": "2l72F9aCLw46"
      },
      "outputs": [],
      "source": [
        "def split_tags(tags_string):\n",
        "    return tf.strings.split(tags_string, ',')"
      ]
    },
    {
      "cell_type": "code",
      "execution_count": 22,
      "metadata": {
        "colab": {
          "base_uri": "https://localhost:8080/",
          "height": 458
        },
        "id": "G_4FQuoztYul",
        "outputId": "a008af53-2da1-4e95-8c7f-6a853ee8ce6a"
      },
      "outputs": [
        {
          "data": {
            "text/plain": [
              "0          weeknight,time-to-make,course,main-ingredient,...\n",
              "1          weeknight,soups-stews,beans,crock-pot-slow-coo...\n",
              "2          30-minutes-or-less,time-to-make,course,main-in...\n",
              "3          15-minutes-or-less,3-steps-or-less,jewish-seph...\n",
              "4          condiments-etc,salads,beans,grains,south-ameri...\n",
              "                                 ...                        \n",
              "1132362                                                     \n",
              "1132363    time-to-make,course,main-ingredient,cuisine,pr...\n",
              "1132364    time-to-make,course,main-ingredient,preparatio...\n",
              "1132365    frozen-desserts,freezer,kid-friendly,romantic,...\n",
              "1132366    weeknight,time-to-make,course,preparation,main...\n",
              "Name: liked_tags_str, Length: 1132367, dtype: object"
            ]
          },
          "execution_count": 22,
          "metadata": {},
          "output_type": "execute_result"
        }
      ],
      "source": [
        "interactions_with_recipe_info['liked_tags_str']"
      ]
    },
    {
      "cell_type": "code",
      "execution_count": 23,
      "metadata": {
        "colab": {
          "base_uri": "https://localhost:8080/"
        },
        "id": "fm8q_TCitTJJ",
        "outputId": "41aaa768-3b12-4c56-c319-b992df6bacbf"
      },
      "outputs": [
        {
          "data": {
            "text/plain": [
              "<tf.Tensor: shape=(1,), dtype=string, numpy=array([b''], dtype=object)>"
            ]
          },
          "execution_count": 23,
          "metadata": {},
          "output_type": "execute_result"
        }
      ],
      "source": [
        "split_tags('')"
      ]
    },
    {
      "cell_type": "code",
      "execution_count": 24,
      "metadata": {
        "id": "1QwBdlgU7Xms"
      },
      "outputs": [],
      "source": [
        "ratings = tf.data.Dataset.from_tensor_slices((tf.cast(interactions_with_recipe_info['user_id'].values.reshape(-1,1), tf.string),\n",
        "                                              tf.cast(interactions_with_recipe_info['recipe_id'].values.reshape(-1,1), tf.string),\n",
        "                                              tf.cast(interactions_with_recipe_info['rating'].values.reshape(-1,1), tf.float32),\n",
        "                                              tf.cast(interactions_with_recipe_info['recipe_name'].values.reshape(-1,1), tf.string),\n",
        "                                              tf.cast(interactions_with_recipe_info['tags'].values.reshape(-1,1), tf.string),\n",
        "                                              tf.cast(interactions_with_recipe_info['liked_tags_str'].values.reshape(-1,1), tf.string),\n",
        "                                              tf.cast(interactions_with_recipe_info['unliked_tags_str'].values.reshape(-1,1), tf.string)\n",
        "                                              )).map(lambda x,x1,x2,x3,x4,x5,x6: {\n",
        "                                                  \"user_id\": x,\n",
        "                                                  \"recipe_id\": x1,\n",
        "                                                  \"rating\": x2,\n",
        "                                                  \"recipe_name\": x3,\n",
        "                                                  \"tags\": x4,\n",
        "                                                  \"liked_tags\": split_tags(x5),\n",
        "                                                  \"unliked_tags\": split_tags(x6)\n",
        "                                              })"
      ]
    },
    {
      "cell_type": "code",
      "execution_count": 25,
      "metadata": {
        "id": "8MS4nMhHMDgp"
      },
      "outputs": [],
      "source": [
        "raw_recipes['ingredients_str'] = raw_recipes['ingredients_str'].apply(lambda x: ','.join(x))\n",
        "raw_recipes['tags_str'] = raw_recipes['tags_str'].apply(lambda x: ','.join(x))"
      ]
    },
    {
      "cell_type": "code",
      "execution_count": 26,
      "metadata": {
        "colab": {
          "base_uri": "https://localhost:8080/",
          "height": 293
        },
        "id": "rqtiorEQMH8R",
        "outputId": "0cb1b61d-3171-4534-ec3b-1a6d617531ed"
      },
      "outputs": [
        {
          "data": {
            "text/html": [
              "<div>\n",
              "<style scoped>\n",
              "    .dataframe tbody tr th:only-of-type {\n",
              "        vertical-align: middle;\n",
              "    }\n",
              "\n",
              "    .dataframe tbody tr th {\n",
              "        vertical-align: top;\n",
              "    }\n",
              "\n",
              "    .dataframe thead th {\n",
              "        text-align: right;\n",
              "    }\n",
              "</style>\n",
              "<table border=\"1\" class=\"dataframe\">\n",
              "  <thead>\n",
              "    <tr style=\"text-align: right;\">\n",
              "      <th></th>\n",
              "      <th>name</th>\n",
              "      <th>id</th>\n",
              "      <th>minutes</th>\n",
              "      <th>contributor_id</th>\n",
              "      <th>submitted</th>\n",
              "      <th>tags</th>\n",
              "      <th>nutrition</th>\n",
              "      <th>n_steps</th>\n",
              "      <th>steps</th>\n",
              "      <th>description</th>\n",
              "      <th>ingredients</th>\n",
              "      <th>n_ingredients</th>\n",
              "      <th>ingredients_str</th>\n",
              "      <th>tags_str</th>\n",
              "    </tr>\n",
              "  </thead>\n",
              "  <tbody>\n",
              "    <tr>\n",
              "      <th>0</th>\n",
              "      <td>arriba   baked winter squash mexican style</td>\n",
              "      <td>137739</td>\n",
              "      <td>55</td>\n",
              "      <td>47892</td>\n",
              "      <td>2005-09-16</td>\n",
              "      <td>['60-minutes-or-less', 'time-to-make', 'course...</td>\n",
              "      <td>[51.5, 0.0, 13.0, 0.0, 2.0, 0.0, 4.0]</td>\n",
              "      <td>11</td>\n",
              "      <td>['make a choice and proceed with recipe', 'dep...</td>\n",
              "      <td>autumn is my favorite time of year to cook! th...</td>\n",
              "      <td>['winter squash', 'mexican seasoning', 'mixed ...</td>\n",
              "      <td>7</td>\n",
              "      <td>winter squash,mexican seasoning,mixed spice,ho...</td>\n",
              "      <td>60-minutes-or-less,time-to-make,course,main-in...</td>\n",
              "    </tr>\n",
              "    <tr>\n",
              "      <th>1</th>\n",
              "      <td>a bit different  breakfast pizza</td>\n",
              "      <td>31490</td>\n",
              "      <td>30</td>\n",
              "      <td>26278</td>\n",
              "      <td>2002-06-17</td>\n",
              "      <td>['30-minutes-or-less', 'time-to-make', 'course...</td>\n",
              "      <td>[173.4, 18.0, 0.0, 17.0, 22.0, 35.0, 1.0]</td>\n",
              "      <td>9</td>\n",
              "      <td>['preheat oven to 425 degrees f', 'press dough...</td>\n",
              "      <td>this recipe calls for the crust to be prebaked...</td>\n",
              "      <td>['prepared pizza crust', 'sausage patty', 'egg...</td>\n",
              "      <td>6</td>\n",
              "      <td>prepared pizza crust,sausage patty,eggs,milk,s...</td>\n",
              "      <td>30-minutes-or-less,time-to-make,course,main-in...</td>\n",
              "    </tr>\n",
              "    <tr>\n",
              "      <th>2</th>\n",
              "      <td>all in the kitchen  chili</td>\n",
              "      <td>112140</td>\n",
              "      <td>130</td>\n",
              "      <td>196586</td>\n",
              "      <td>2005-02-25</td>\n",
              "      <td>['time-to-make', 'course', 'preparation', 'mai...</td>\n",
              "      <td>[269.8, 22.0, 32.0, 48.0, 39.0, 27.0, 5.0]</td>\n",
              "      <td>6</td>\n",
              "      <td>['brown ground beef in large pot', 'add choppe...</td>\n",
              "      <td>this modified version of 'mom's' chili was a h...</td>\n",
              "      <td>['ground beef', 'yellow onions', 'diced tomato...</td>\n",
              "      <td>13</td>\n",
              "      <td>ground beef,yellow onions,diced tomatoes,tomat...</td>\n",
              "      <td>time-to-make,course,preparation,main-dish,chil...</td>\n",
              "    </tr>\n",
              "    <tr>\n",
              "      <th>3</th>\n",
              "      <td>alouette  potatoes</td>\n",
              "      <td>59389</td>\n",
              "      <td>45</td>\n",
              "      <td>68585</td>\n",
              "      <td>2003-04-14</td>\n",
              "      <td>['60-minutes-or-less', 'time-to-make', 'course...</td>\n",
              "      <td>[368.1, 17.0, 10.0, 2.0, 14.0, 8.0, 20.0]</td>\n",
              "      <td>11</td>\n",
              "      <td>['place potatoes in a large pot of lightly sal...</td>\n",
              "      <td>this is a super easy, great tasting, make ahea...</td>\n",
              "      <td>['spreadable cheese with garlic and herbs', 'n...</td>\n",
              "      <td>11</td>\n",
              "      <td>spreadable cheese with garlic and herbs,new po...</td>\n",
              "      <td>60-minutes-or-less,time-to-make,course,main-in...</td>\n",
              "    </tr>\n",
              "    <tr>\n",
              "      <th>4</th>\n",
              "      <td>amish  tomato ketchup  for canning</td>\n",
              "      <td>44061</td>\n",
              "      <td>190</td>\n",
              "      <td>41706</td>\n",
              "      <td>2002-10-25</td>\n",
              "      <td>['weeknight', 'time-to-make', 'course', 'main-...</td>\n",
              "      <td>[352.9, 1.0, 337.0, 23.0, 3.0, 0.0, 28.0]</td>\n",
              "      <td>5</td>\n",
              "      <td>['mix all ingredients&amp; boil for 2 1 / 2 hours ...</td>\n",
              "      <td>my dh's amish mother raised him on this recipe...</td>\n",
              "      <td>['tomato juice', 'apple cider vinegar', 'sugar...</td>\n",
              "      <td>8</td>\n",
              "      <td>tomato juice,apple cider vinegar,sugar,salt,pe...</td>\n",
              "      <td>weeknight,time-to-make,course,main-ingredient,...</td>\n",
              "    </tr>\n",
              "  </tbody>\n",
              "</table>\n",
              "</div>"
            ],
            "text/plain": [
              "                                         name      id  minutes  \\\n",
              "0  arriba   baked winter squash mexican style  137739       55   \n",
              "1            a bit different  breakfast pizza   31490       30   \n",
              "2                   all in the kitchen  chili  112140      130   \n",
              "3                          alouette  potatoes   59389       45   \n",
              "4          amish  tomato ketchup  for canning   44061      190   \n",
              "\n",
              "   contributor_id   submitted  \\\n",
              "0           47892  2005-09-16   \n",
              "1           26278  2002-06-17   \n",
              "2          196586  2005-02-25   \n",
              "3           68585  2003-04-14   \n",
              "4           41706  2002-10-25   \n",
              "\n",
              "                                                tags  \\\n",
              "0  ['60-minutes-or-less', 'time-to-make', 'course...   \n",
              "1  ['30-minutes-or-less', 'time-to-make', 'course...   \n",
              "2  ['time-to-make', 'course', 'preparation', 'mai...   \n",
              "3  ['60-minutes-or-less', 'time-to-make', 'course...   \n",
              "4  ['weeknight', 'time-to-make', 'course', 'main-...   \n",
              "\n",
              "                                    nutrition  n_steps  \\\n",
              "0       [51.5, 0.0, 13.0, 0.0, 2.0, 0.0, 4.0]       11   \n",
              "1   [173.4, 18.0, 0.0, 17.0, 22.0, 35.0, 1.0]        9   \n",
              "2  [269.8, 22.0, 32.0, 48.0, 39.0, 27.0, 5.0]        6   \n",
              "3   [368.1, 17.0, 10.0, 2.0, 14.0, 8.0, 20.0]       11   \n",
              "4   [352.9, 1.0, 337.0, 23.0, 3.0, 0.0, 28.0]        5   \n",
              "\n",
              "                                               steps  \\\n",
              "0  ['make a choice and proceed with recipe', 'dep...   \n",
              "1  ['preheat oven to 425 degrees f', 'press dough...   \n",
              "2  ['brown ground beef in large pot', 'add choppe...   \n",
              "3  ['place potatoes in a large pot of lightly sal...   \n",
              "4  ['mix all ingredients& boil for 2 1 / 2 hours ...   \n",
              "\n",
              "                                         description  \\\n",
              "0  autumn is my favorite time of year to cook! th...   \n",
              "1  this recipe calls for the crust to be prebaked...   \n",
              "2  this modified version of 'mom's' chili was a h...   \n",
              "3  this is a super easy, great tasting, make ahea...   \n",
              "4  my dh's amish mother raised him on this recipe...   \n",
              "\n",
              "                                         ingredients  n_ingredients  \\\n",
              "0  ['winter squash', 'mexican seasoning', 'mixed ...              7   \n",
              "1  ['prepared pizza crust', 'sausage patty', 'egg...              6   \n",
              "2  ['ground beef', 'yellow onions', 'diced tomato...             13   \n",
              "3  ['spreadable cheese with garlic and herbs', 'n...             11   \n",
              "4  ['tomato juice', 'apple cider vinegar', 'sugar...              8   \n",
              "\n",
              "                                     ingredients_str  \\\n",
              "0  winter squash,mexican seasoning,mixed spice,ho...   \n",
              "1  prepared pizza crust,sausage patty,eggs,milk,s...   \n",
              "2  ground beef,yellow onions,diced tomatoes,tomat...   \n",
              "3  spreadable cheese with garlic and herbs,new po...   \n",
              "4  tomato juice,apple cider vinegar,sugar,salt,pe...   \n",
              "\n",
              "                                            tags_str  \n",
              "0  60-minutes-or-less,time-to-make,course,main-in...  \n",
              "1  30-minutes-or-less,time-to-make,course,main-in...  \n",
              "2  time-to-make,course,preparation,main-dish,chil...  \n",
              "3  60-minutes-or-less,time-to-make,course,main-in...  \n",
              "4  weeknight,time-to-make,course,main-ingredient,...  "
            ]
          },
          "execution_count": 26,
          "metadata": {},
          "output_type": "execute_result"
        }
      ],
      "source": [
        "raw_recipes.head()"
      ]
    },
    {
      "cell_type": "code",
      "execution_count": 27,
      "metadata": {
        "id": "i8HzpEQW_YZw"
      },
      "outputs": [],
      "source": [
        "raw_recipes['id'] = raw_recipes.id.astype(\"str\")\n",
        "raw_recipes['name'] = raw_recipes.name.astype(\"str\")\n",
        "raw_recipes['tags'] = raw_recipes.tags.astype(\"str\")\n",
        "raw_recipes['ingredients'] = raw_recipes.ingredients.astype(\"str\")"
      ]
    },
    {
      "cell_type": "code",
      "execution_count": 28,
      "metadata": {
        "colab": {
          "base_uri": "https://localhost:8080/"
        },
        "id": "PvNaaXXCPzK2",
        "outputId": "d096fdf6-825f-4105-b630-1f8c0d177652"
      },
      "outputs": [
        {
          "name": "stdout",
          "output_type": "stream",
          "text": [
            "{'recipe_id': array([b'137739'], dtype=object), 'recipe_name': array([b'arriba   baked winter squash mexican style'], dtype=object), 'tags': array([[b'60-minutes-or-less', b'time-to-make', b'course',\n",
            "        b'main-ingredient', b'cuisine', b'preparation', b'occasion',\n",
            "        b'north-american', b'side-dishes', b'vegetables', b'mexican',\n",
            "        b'easy', b'fall', b'holiday-event', b'vegetarian', b'winter',\n",
            "        b'dietary', b'christmas', b'seasonal', b'squash']], dtype=object), 'ingredients': array([[b'winter squash', b'mexican seasoning', b'mixed spice', b'honey',\n",
            "        b'butter', b'olive oil', b'salt']], dtype=object)}\n"
          ]
        }
      ],
      "source": [
        "# prompt: Создай на основе raw_recipes датасет, но учти что ingredients_str это массив\n",
        "\n",
        "recipes = tf.data.Dataset.from_tensor_slices((tf.cast(raw_recipes['id'].values.reshape(-1, 1), tf.string),\n",
        "                                              tf.cast(raw_recipes['name'].values.reshape(-1, 1), tf.string),\n",
        "                                              tf.cast(raw_recipes['tags_str'].values.reshape(-1, 1), tf.string),\n",
        "                                              tf.cast(raw_recipes['ingredients_str'].values.reshape(-1, 1), tf.string),)).map(lambda x, x1, x2, x3: {\n",
        "                                                  \"recipe_id\": x,\n",
        "                                                  \"recipe_name\": x1,\n",
        "                                                  \"tags\": split_tags(x2),\n",
        "                                                  \"ingredients\": split_tags(x3)\n",
        "                                              })\n",
        "\n",
        "for data in recipes.take(1).as_numpy_iterator():\n",
        "  print(data)\n"
      ]
    },
    {
      "cell_type": "code",
      "execution_count": 29,
      "metadata": {
        "id": "jxTLSUjNgCLs"
      },
      "outputs": [],
      "source": [
        "recipe_names = tf.data.Dataset.from_tensor_slices((tf.cast(raw_recipes['name'].values.reshape(-1, 1), tf.string))).map(lambda x: x)"
      ]
    },
    {
      "cell_type": "markdown",
      "metadata": {
        "id": "3L-UtJ6K5N2B"
      },
      "source": [
        "# Towers 🗼"
      ]
    },
    {
      "cell_type": "markdown",
      "metadata": {
        "id": "oWGCI8IYBx3Z"
      },
      "source": [
        "For our towers set dimensionality of the query and candidate representations: **32**. Higher values will correspond to models that may be more accurate, but will also be slower to fit and more prone to overfitting."
      ]
    },
    {
      "cell_type": "code",
      "execution_count": 30,
      "metadata": {
        "id": "8H35ROAtB2L2"
      },
      "outputs": [],
      "source": [
        "embedding_dimension = 32"
      ]
    },
    {
      "cell_type": "markdown",
      "metadata": {
        "id": "UGLl4NdNBHoH"
      },
      "source": [
        "## User tower 👷"
      ]
    },
    {
      "cell_type": "markdown",
      "metadata": {
        "id": "S_w7g9Se6Lk_"
      },
      "source": [
        "Lets start creating our towers with User towers. We will compute by:\n",
        "1. User id\n",
        "2. Prefers and hates"
      ]
    },
    {
      "cell_type": "markdown",
      "metadata": {
        "id": "O0pr_riLBCKa"
      },
      "source": [
        "### User ID model"
      ]
    },
    {
      "cell_type": "code",
      "execution_count": 31,
      "metadata": {
        "colab": {
          "base_uri": "https://localhost:8080/"
        },
        "id": "IVERCEAMPPbE",
        "outputId": "e2631cda-7833-44b7-b005-542bb5f24933"
      },
      "outputs": [
        {
          "data": {
            "text/plain": [
              "array(['38094', '1293707', '8937', '126440', '57222', '52282', '124416',\n",
              "       '2000192946', '76535', '273745'], dtype=object)"
            ]
          },
          "execution_count": 31,
          "metadata": {},
          "output_type": "execute_result"
        }
      ],
      "source": [
        "unique_user_ids = users_ds[\"user_id\"].unique()\n",
        "unique_user_ids[:10]"
      ]
    },
    {
      "cell_type": "code",
      "execution_count": 32,
      "metadata": {
        "id": "czzDlM3O5S_y"
      },
      "outputs": [],
      "source": [
        "# user_ids = ratings.batch(1_000_000).map(lambda x: x[\"user_id\"])\n",
        "# unique_user_ids = np.unique(np.concatenate(list(user_ids)))\n",
        "# unique_user_ids[:10]"
      ]
    },
    {
      "cell_type": "code",
      "execution_count": 33,
      "metadata": {
        "id": "4DU-YbghCPJx"
      },
      "outputs": [
        {
          "name": "stdout",
          "output_type": "stream",
          "text": [
            "WARNING:tensorflow:From C:\\Users\\Maincharter\\AppData\\Roaming\\Python\\Python310\\site-packages\\keras\\src\\backend.py:873: The name tf.get_default_graph is deprecated. Please use tf.compat.v1.get_default_graph instead.\n",
            "\n"
          ]
        }
      ],
      "source": [
        "user_id_model = tf.keras.Sequential([\n",
        "  tf.keras.layers.StringLookup(\n",
        "      vocabulary=unique_user_ids, mask_token=None),\n",
        "  # We add an additional embedding to account for unknown tokens.\n",
        "  tf.keras.layers.Embedding(len(unique_user_ids)+1, embedding_dimension)\n",
        "])"
      ]
    },
    {
      "cell_type": "markdown",
      "metadata": {
        "id": "Q6e5kR2_MsOh"
      },
      "source": [
        "### User Prefers models"
      ]
    },
    {
      "cell_type": "code",
      "execution_count": 34,
      "metadata": {
        "id": "EOzP-NwLMvZI"
      },
      "outputs": [],
      "source": [
        "# prompt: модель для liked_tags которым стоит отдать предпочтение, но учти что liked_tags в датасете это массив\n",
        "\n",
        "unique_liked_tags = set()\n",
        "for tags in users_ds['liked_tags']:\n",
        "  if isinstance(tags, list):\n",
        "    for tag in tags:\n",
        "      unique_liked_tags.add(tag)\n",
        "unique_liked_tags = list(unique_liked_tags)\n",
        "\n",
        "liked_tags_model = tf.keras.Sequential([\n",
        "  tf.keras.layers.StringLookup(\n",
        "      vocabulary=unique_liked_tags, mask_token=None),\n",
        "  tf.keras.layers.Embedding(len(unique_liked_tags) + 1, embedding_dimension)\n",
        "])\n"
      ]
    },
    {
      "cell_type": "code",
      "execution_count": 35,
      "metadata": {
        "colab": {
          "base_uri": "https://localhost:8080/"
        },
        "id": "K_uNmQ2yREWq",
        "outputId": "6221b14d-1fcf-4517-ed41-f13c56f83186"
      },
      "outputs": [
        {
          "data": {
            "text/plain": [
              "['',\n",
              " 'course',\n",
              " 'microwave',\n",
              " 'lactose',\n",
              " 'hidden-valley-ranch',\n",
              " 'portuguese',\n",
              " 'ice-cream',\n",
              " 'eggs-breakfast',\n",
              " 'southern-united-states',\n",
              " 'easter']"
            ]
          },
          "execution_count": 35,
          "metadata": {},
          "output_type": "execute_result"
        }
      ],
      "source": [
        "unique_liked_tags[:10]"
      ]
    },
    {
      "cell_type": "code",
      "execution_count": 36,
      "metadata": {
        "colab": {
          "base_uri": "https://localhost:8080/"
        },
        "id": "W4vprrUvRb3Y",
        "outputId": "3aa5cd85-e456-4cef-9b17-c8e0d4221dce"
      },
      "outputs": [
        {
          "data": {
            "text/plain": [
              "['',\n",
              " 'course',\n",
              " 'microwave',\n",
              " 'lactose',\n",
              " 'hidden-valley-ranch',\n",
              " 'ice-cream',\n",
              " 'portuguese',\n",
              " 'southern-united-states',\n",
              " 'easter',\n",
              " 'salmon']"
            ]
          },
          "execution_count": 36,
          "metadata": {},
          "output_type": "execute_result"
        }
      ],
      "source": [
        "\n",
        "unique_unliked_tags = set()\n",
        "for tags in users_ds['unliked_tags']:\n",
        "  if isinstance(tags, list):\n",
        "    for tag in tags:\n",
        "      unique_unliked_tags.add(tag)\n",
        "unique_unliked_tags = list(unique_unliked_tags)\n",
        "\n",
        "unliked_tags_model = tf.keras.Sequential([\n",
        "  tf.keras.layers.StringLookup(\n",
        "      vocabulary=unique_unliked_tags, mask_token=None),\n",
        "  tf.keras.layers.Embedding(len(unique_unliked_tags) + 1, embedding_dimension)\n",
        "])\n",
        "unique_unliked_tags[:10]"
      ]
    },
    {
      "cell_type": "markdown",
      "metadata": {
        "id": "5Zt9V_nAHMqp"
      },
      "source": [
        "## Recipe tower 🌭"
      ]
    },
    {
      "cell_type": "code",
      "execution_count": 37,
      "metadata": {
        "colab": {
          "base_uri": "https://localhost:8080/"
        },
        "id": "e3zzDVmWJmSA",
        "outputId": "2b48e837-bb5f-4670-b353-bb91770413dd"
      },
      "outputs": [
        {
          "data": {
            "text/plain": [
              "array(['0 carb   0 cal gummy worms', '0 fat chunky watermelon salsa',\n",
              "       '0 point ice cream  only 1 ingredient', '0 point soup   ww',\n",
              "       '0 point soup  crock pot', '007  martini', '007 cocktail',\n",
              "       '1  2  3  swiss meringue buttercream', '1 00 tangy chicken recipe',\n",
              "       '1 000 artichoke hearts'], dtype='<U85')"
            ]
          },
          "execution_count": 37,
          "metadata": {},
          "output_type": "execute_result"
        }
      ],
      "source": [
        "unique_recipe_names = np.unique(list(raw_recipes[\"name\"].unique()))\n",
        "recipe_name_model = tf.keras.Sequential([\n",
        "  tf.keras.layers.StringLookup(\n",
        "      vocabulary=unique_recipe_names, mask_token=None),\n",
        "  # We add an additional embedding to account for unknown tokens.\n",
        "  tf.keras.layers.Embedding(len(unique_recipe_names) + 1, embedding_dimension)\n",
        "])\n",
        "unique_recipe_names[:10]"
      ]
    },
    {
      "cell_type": "code",
      "execution_count": 38,
      "metadata": {
        "colab": {
          "base_uri": "https://localhost:8080/"
        },
        "id": "h8rZOklso4NX",
        "outputId": "64110b89-9f3f-4cce-e81e-95939b66d3f9"
      },
      "outputs": [
        {
          "name": "stdout",
          "output_type": "stream",
          "text": [
            "WARNING:tensorflow:From C:\\Users\\Maincharter\\AppData\\Roaming\\Python\\Python310\\site-packages\\keras\\src\\utils\\tf_utils.py:492: The name tf.ragged.RaggedTensorValue is deprecated. Please use tf.compat.v1.ragged.RaggedTensorValue instead.\n",
            "\n"
          ]
        },
        {
          "data": {
            "text/plain": [
              "<tf.Tensor: shape=(1, 32), dtype=float32, numpy=\n",
              "array([[ 0.0456244 ,  0.03931374, -0.03894681, -0.00580595, -0.04298264,\n",
              "         0.02317716,  0.04442343,  0.04382325, -0.00535711,  0.02303362,\n",
              "         0.00465139,  0.04590912,  0.04135333, -0.00849777,  0.00897612,\n",
              "        -0.00878551,  0.03185965, -0.01099288,  0.01770008,  0.04620594,\n",
              "        -0.02944211,  0.04778177, -0.0057532 , -0.04643984, -0.04169332,\n",
              "        -0.02219941, -0.01274353,  0.02301443,  0.03161195,  0.00935373,\n",
              "        -0.04035289, -0.00177597]], dtype=float32)>"
            ]
          },
          "execution_count": 38,
          "metadata": {},
          "output_type": "execute_result"
        }
      ],
      "source": [
        "# prompt: напиши вызов recipe_name_model\n",
        "\n",
        "recipe_name_model(['some recipe name'])\n"
      ]
    },
    {
      "cell_type": "markdown",
      "metadata": {
        "id": "q2VwZxnOCg9F"
      },
      "source": [
        "### Recipe ingredient&tag model"
      ]
    },
    {
      "cell_type": "code",
      "execution_count": 39,
      "metadata": {
        "colab": {
          "base_uri": "https://localhost:8080/"
        },
        "id": "QqUQ43gVQIUp",
        "outputId": "49f54edf-1d29-4efc-e338-84c05a6f7e16"
      },
      "outputs": [
        {
          "data": {
            "text/plain": [
              "array(['', '1-day-or-more', '15-minutes-or-less', '3-steps-or-less',\n",
              "       '30-minutes-or-less', '4-hours-or-less', '5-ingredients-or-less',\n",
              "       '60-minutes-or-less',\n",
              "       'Throw the ultimate fiesta with this sopaipillas recipe from Food.com.',\n",
              "       'a1-sauce'], dtype='<U69')"
            ]
          },
          "execution_count": 39,
          "metadata": {},
          "output_type": "execute_result"
        }
      ],
      "source": [
        "unique_tags = set()\n",
        "for tags in raw_recipes['tags'].apply(convert_to_list):\n",
        "  if isinstance(tags, list):\n",
        "    for tag in tags:\n",
        "      unique_tags.add(tag)\n",
        "unique_tags = np.unique(list(unique_tags))\n",
        "\n",
        "recipe_tags_model = tf.keras.Sequential([\n",
        "  tf.keras.layers.StringLookup(\n",
        "      vocabulary=unique_tags, mask_token=None),\n",
        "  tf.keras.layers.Embedding(len(unique_tags) + 1, embedding_dimension)\n",
        "])\n",
        "unique_tags[:10]"
      ]
    },
    {
      "cell_type": "markdown",
      "metadata": {
        "id": "n1dQh7uGI2ow"
      },
      "source": [
        "## Combine models"
      ]
    },
    {
      "cell_type": "code",
      "execution_count": 40,
      "metadata": {
        "id": "3dUevm_5uzoI"
      },
      "outputs": [],
      "source": [
        "class RecipeAndUserModel(tfrs.Model):\n",
        "  def __init__(self):\n",
        "    super().__init__()\n",
        "    unique_recipe_names = np.unique(list(raw_recipes[\"name\"].unique()))\n",
        "\n",
        "    # Recipe embeddings\n",
        "    self.recipe_model = tf.keras.Sequential([\n",
        "      tf.keras.layers.StringLookup(\n",
        "          vocabulary=unique_recipe_names, mask_token=None),\n",
        "      tf.keras.layers.Embedding(len(unique_recipe_names) + 1, embedding_dimension)\n",
        "    ])\n",
        "    \n",
        "    # Tags embeddings\n",
        "    self.tags_model = tf.keras.Sequential([\n",
        "      tf.keras.layers.StringLookup(\n",
        "          vocabulary=unique_tags, mask_token=None),\n",
        "      tf.keras.layers.Embedding(len(unique_tags) + 1, embedding_dimension)\n",
        "    ])\n",
        "\n",
        "    # User embeddings\n",
        "    self.user_id_model = tf.keras.Sequential([\n",
        "      tf.keras.layers.StringLookup(\n",
        "          vocabulary=unique_user_ids, mask_token=None),\n",
        "      tf.keras.layers.Embedding(len(unique_user_ids) + 1, embedding_dimension)\n",
        "    ])\n",
        "\n",
        "    # Liked tags embeddings\n",
        "    self.liked_tags_model = tf.keras.Sequential([\n",
        "      tf.keras.layers.StringLookup(\n",
        "          vocabulary=unique_liked_tags, mask_token=None),\n",
        "      tf.keras.layers.Embedding(len(unique_liked_tags) + 1, embedding_dimension)\n",
        "    ])\n",
        "\n",
        "    # Unliked tags embeddings\n",
        "    self.unliked_tags_model = tf.keras.Sequential([\n",
        "      tf.keras.layers.StringLookup(\n",
        "          vocabulary=unique_unliked_tags, mask_token=None),\n",
        "      tf.keras.layers.Embedding(len(unique_unliked_tags) + 1, embedding_dimension)\n",
        "    ])\n",
        "\n",
        "    self.task = tfrs.tasks.Retrieval(\n",
        "      metrics=tfrs.metrics.FactorizedTopK(\n",
        "          candidates=recipe_names.batch(128).map(lambda x: tf.squeeze(self.recipe_model(x), axis=1))\n",
        "      )\n",
        "    )\n",
        "    # Take a single batch from recipe_names\n",
        "    candidate_names = next(iter(recipe_names.batch(128)))\n",
        "    # Pass the batch of names to self.recipe_model\n",
        "    candidate_embeddings = self.recipe_model(candidate_names)\n",
        "    print(\"Candidate Embeddings Shape:\", candidate_embeddings.shape) \n",
        "\n",
        "  def call(self, features: Dict[Text, tf.Tensor]) -> tf.Tensor:\n",
        "    # Recipe embeddings\n",
        "    recipe_embeddings = self.recipe_model(features[\"recipe_name\"])\n",
        "    tags_embeddings = self.tags_model(features[\"tags\"])\n",
        "\n",
        "    # User embeddings\n",
        "    user_id_embedding = self.user_id_model(features[\"user_id\"])\n",
        "    liked_tags_embedding = self.liked_tags_model(features['liked_tags'])\n",
        "    unliked_tags_embedding = self.unliked_tags_model(features['unliked_tags'])\n",
        "\n",
        "    # Apply penalties to unliked tags embeddings\n",
        "    penalty_weight = -0.5\n",
        "    unliked_tags_embedding = unliked_tags_embedding * penalty_weight\n",
        "\n",
        "    # Reduce mean for RaggedTensors to handle variable lengths\n",
        "    liked_tags_embedding = tf.reduce_mean(liked_tags_embedding, axis=1)\n",
        "    unliked_tags_embedding = tf.reduce_mean(unliked_tags_embedding, axis=1)\n",
        "\n",
        "    # Combine user embeddings (ensure shape (batch_size, embedding_dim))\n",
        "    user_embedding = tf.concat([user_id_embedding, liked_tags_embedding, unliked_tags_embedding], axis=1)\n",
        "\n",
        "    # Combine recipe embeddings (ensure shape (batch_size, embedding_dim))\n",
        "    recipe_embeddings = tf.concat([recipe_embeddings, tags_embeddings], axis=1)\n",
        "\n",
        "    # Ensure both user_embedding and recipe_embeddings are reduced to (batch_size, embedding_dim)\n",
        "    user_embedding = tf.reduce_mean(user_embedding, axis=1)  # Reduce axis to 2D\n",
        "    recipe_embeddings = tf.reduce_mean(recipe_embeddings, axis=1)\n",
        "\n",
        "    # Check shapes before returning\n",
        "    print(\"User Embeddings Shape: 21\", user_embedding.shape)\n",
        "    print(\"Recipe Embeddings Shape: 22\", recipe_embeddings.shape)\n",
        "\n",
        "    return user_embedding, recipe_embeddings\n",
        "\n",
        "\n",
        "  def compute_loss(self, features: Dict[Text, tf.Tensor], training=False) -> tf.Tensor:\n",
        "    user_embeddings, recipe_embeddings = self(features)\n",
        "\n",
        "    print(\"User Embeddings Shape:\", user_embeddings.shape)\n",
        "    print(\"Recipe Embeddings Shape:\", recipe_embeddings.shape)\n",
        "    # # Apply pooling to ensure uniform shapes\n",
        "    # user_embeddings = tf.reduce_mean(user_embeddings, axis=1)  # Ensure it's (batch_size, embedding_dim)\n",
        "    # recipe_embeddings = tf.reduce_mean(recipe_embeddings, axis=1)\n",
        "\n",
        "    # user_embeddings = tf.reduce_mean(user_embeddings, axis=1)  # Ensure it's (batch_size, embedding_dim)\n",
        "    # recipe_embeddings = tf.reduce_mean(recipe_embeddings, axis=1) # Ensure it's (batch_size, embedding_dim)\n",
        "\n",
        "    # Check shapes again\n",
        "    print(\"User Embeddings Shape:\", user_embeddings.shape)\n",
        "    print(\"Recipe Embeddings Shape:\", recipe_embeddings.shape)\n",
        "\n",
        "    return self.task(user_embeddings, recipe_embeddings)\n"
      ]
    },
    {
      "cell_type": "code",
      "execution_count": 41,
      "metadata": {},
      "outputs": [],
      "source": [
        "class UserModel(tf.keras.Model):\n",
        "    def __init__(self, unique_user_ids, unique_liked_tags, unique_unliked_tags, embedding_dimension):\n",
        "        super().__init__()\n",
        "        \n",
        "        # User ID embeddings\n",
        "        self.user_id_model = tf.keras.Sequential([\n",
        "            tf.keras.layers.StringLookup(\n",
        "                vocabulary=unique_user_ids, mask_token=None),\n",
        "            tf.keras.layers.Embedding(len(unique_user_ids) + 1, embedding_dimension)\n",
        "        ])\n",
        "        \n",
        "        # Liked tags embeddings\n",
        "        self.liked_tags_model = tf.keras.Sequential([\n",
        "            tf.keras.layers.StringLookup(\n",
        "                vocabulary=unique_liked_tags, mask_token=None),\n",
        "            tf.keras.layers.Embedding(len(unique_liked_tags) + 1, embedding_dimension)\n",
        "        ])\n",
        "\n",
        "        # Unliked tags embeddings\n",
        "        self.unliked_tags_model = tf.keras.Sequential([\n",
        "            tf.keras.layers.StringLookup(\n",
        "                vocabulary=unique_unliked_tags, mask_token=None),\n",
        "            tf.keras.layers.Embedding(len(unique_unliked_tags) + 1, embedding_dimension)\n",
        "        ])\n",
        "\n",
        "        # Penalty weight for unliked tags\n",
        "        self.penalty_weight = -0.5\n",
        "\n",
        "    def call(self, features):\n",
        "        # Inputs should contain \"user_id\", \"liked_tags\", and \"unliked_tags\"\n",
        "        user_id = features[\"user_id\"]\n",
        "        liked_tags = features[\"liked_tags\"]\n",
        "        unliked_tags = features[\"unliked_tags\"]\n",
        "        \n",
        "        # Embed user ID\n",
        "        user_id_embedding = self.user_id_model(user_id)\n",
        "        if(user_id_embedding.shape.as_list() == list([1,1,32])):\n",
        "            print(\"Fixed users\")\n",
        "            user_id_embedding = tf.reduce_mean(user_id_embedding, axis=1)\n",
        "        # Embed liked and unliked tags\n",
        "        liked_tags_embedding = self.liked_tags_model(liked_tags)\n",
        "        unliked_tags_embedding = self.unliked_tags_model(unliked_tags)\n",
        "        \n",
        "        # Apply penalty to unliked tags\n",
        "        unliked_tags_embedding = unliked_tags_embedding * self.penalty_weight\n",
        "        # Reduce mean to handle ragged tensors (different lengths of liked/unliked tags)\n",
        "        if(len(liked_tags_embedding.shape.as_list()) >=3):\n",
        "            liked_tags_embedding = tf.reduce_mean(liked_tags_embedding, axis=1)\n",
        "        if(len(unliked_tags_embedding.shape.as_list()) >=3):\n",
        "            unliked_tags_embedding = tf.reduce_mean(unliked_tags_embedding, axis=1)\n",
        "        # Concatenate user embeddings with liked and unliked tags\n",
        "        user_embedding = tf.concat([user_id_embedding, liked_tags_embedding, unliked_tags_embedding], axis=1)\n",
        "        \n",
        "        return user_embedding\n"
      ]
    },
    {
      "cell_type": "code",
      "execution_count": 42,
      "metadata": {},
      "outputs": [],
      "source": [
        "class RecipeModel(tf.keras.Model):\n",
        "    def __init__(self, unique_recipe_names, unique_tags, embedding_dimension):\n",
        "        super().__init__()\n",
        "\n",
        "        self.recipe_model = tf.keras.Sequential([\n",
        "            tf.keras.layers.StringLookup(\n",
        "                vocabulary=unique_recipe_names, mask_token=None),\n",
        "            tf.keras.layers.Embedding(len(unique_recipe_names) + 1, embedding_dimension)\n",
        "        ])\n",
        "    \n",
        "    # Tags embeddings\n",
        "        self.tags_model = tf.keras.Sequential([\n",
        "            tf.keras.layers.StringLookup(\n",
        "                vocabulary=unique_tags, mask_token=None),\n",
        "            tf.keras.layers.Embedding(len(unique_tags) + 1, embedding_dimension)\n",
        "        ])\n",
        "        \n",
        "    def call(self, features):\n",
        "        # Inputs should contain \"recipe_name\" and \"tags\"\n",
        "        recipe_name = features[\"recipe_name\"]\n",
        "        tags = features[\"tags\"]\n",
        "\n",
        "        # Embed recipe name\n",
        "        recipe_embeddings = self.recipe_model(recipe_name)\n",
        "\n",
        "        tags_embeddings = self.tags_model(tags)\n",
        "        if(len(recipe_embeddings.shape.as_list())>=3): \n",
        "        #   recipe_embeddings = tf.reshape(recipe_embeddings, [1,32])\n",
        "           recipe_embeddings = tf.reshape(recipe_embeddings, [1,embedding_dimension])\n",
        "        if(len(tags_embeddings.shape.as_list())>=3):\n",
        "            tags_embeddings = tf.reshape(tags_embeddings, [1,embedding_dimension])\n",
        "        #   tags_embeddings = tf.reshape(tags_embeddings, [1,32])\n",
        "        recipe_embeddings = tf.concat([recipe_embeddings, tags_embeddings], axis=1)\n",
        "        return recipe_embeddings"
      ]
    },
    {
      "cell_type": "code",
      "execution_count": 48,
      "metadata": {},
      "outputs": [],
      "source": [
        "\n",
        "class RecipeAndUserModel(tfrs.Model):\n",
        "  def __init__(self):\n",
        "    super().__init__()\n",
        "    unique_recipe_names = np.unique(list(raw_recipes[\"name\"].unique()))\n",
        "    self.user_model = UserModel(unique_user_ids, unique_liked_tags, unique_unliked_tags, 32 )\n",
        "    # Recipe embeddings\n",
        "    # Recipe embeddings\n",
        "    self.recipe_model = tf.keras.Sequential([\n",
        "      tf.keras.layers.StringLookup(\n",
        "          vocabulary=unique_recipe_names, mask_token=None),\n",
        "      tf.keras.layers.Embedding(len(unique_recipe_names) + 1, embedding_dimension)\n",
        "    ])\n",
        "    \n",
        "    # Tags embeddings\n",
        "    self.tags_model = tf.keras.Sequential([\n",
        "      tf.keras.layers.StringLookup(\n",
        "          vocabulary=unique_tags, mask_token=None),\n",
        "      tf.keras.layers.Embedding(len(unique_tags) + 1, embedding_dimension)\n",
        "    ])\n",
        "\n",
        "    self.task = tfrs.tasks.Retrieval(\n",
        "      metrics=tfrs.metrics.FactorizedTopK(\n",
        "          candidates=recipe_names.batch(128).map(lambda x: tf.squeeze(self.recipe_model(x), axis=1))\n",
        "      )\n",
        "    )\n",
        "    \n",
        "\n",
        "  def call(self, features: Dict[Text, tf.Tensor]) -> tf.Tensor:\n",
        "    user_embedding = self.user_model(features)\n",
        "    recipe_name_embeddings = self.recipe_model(features[\"recipe_name\"])\n",
        "    recipe_tag_embeddings = self.tags_model(features[\"tags\"])\n",
        "    if(recipe_name_embeddings.shape.as_list() == list([1,1,32])):\n",
        "      print(\"Fixed 1\")\n",
        "      recipe_name_embeddings = tf.reduce_mean(recipe_name_embeddings, axis=1)\n",
        "    if(recipe_tag_embeddings.shape.as_list() == list([1,1,32])):\n",
        "      print(\"Fixed 2\")\n",
        "      recipe_tag_embeddings = tf.reduce_mean(recipe_tag_embeddings, axis=1)\n",
        "    recipe_embeddings = tf.concat([recipe_name_embeddings, recipe_tag_embeddings], axis=1)\n",
        "    return user_embedding, recipe_embeddings\n",
        "\n",
        "\n",
        "  def compute_loss(self, features: Dict[Text, tf.Tensor], training=False) -> tf.Tensor:\n",
        "    user_embeddings, recipe_embeddings = self(features)\n",
        "    print(user_embeddings.shape, recipe_embeddings.shape)\n",
        "    if(len(user_embeddings.shape.as_list()) != recipe_embeddings.shape.as_list()):\n",
        "      if(len(user_embeddings.shape.as_list()) > len(recipe_embeddings.shape.as_list())):\n",
        "        user_embeddings = tf.reduce_mean(user_embeddings, axis=1)\n",
        "      if (len(user_embeddings.shape.as_list()) < len(recipe_embeddings.shape.as_list())):\n",
        "        recipe_embeddings = tf.reduce_mean(recipe_embeddings, axis=1)  \n",
        "    return self.task(user_embeddings, recipe_embeddings)\n"
      ]
    },
    {
      "cell_type": "code",
      "execution_count": 49,
      "metadata": {},
      "outputs": [],
      "source": [
        "from turtle import Shape\n",
        "\n",
        "\n",
        "class RecipeAndUserModel(tfrs.Model):\n",
        "  def __init__(self):\n",
        "    super().__init__()\n",
        "    unique_recipe_names = np.unique(list(raw_recipes[\"name\"].unique()))\n",
        "    self.user_model = UserModel(unique_user_ids, unique_liked_tags, unique_unliked_tags, embedding_dimension )\n",
        "\n",
        "    # Recipe embeddings\n",
        "    self.recipe_model = tf.keras.Sequential([\n",
        "      tf.keras.layers.StringLookup(\n",
        "          vocabulary=unique_recipe_names, mask_token=None),\n",
        "      tf.keras.layers.Embedding(len(unique_recipe_names) + 1, embedding_dimension)\n",
        "    ])\n",
        "    \n",
        "    # Tags embeddings\n",
        "    self.tags_model = tf.keras.Sequential([\n",
        "      tf.keras.layers.StringLookup(\n",
        "          vocabulary=unique_tags, mask_token=None),\n",
        "      tf.keras.layers.Embedding(len(unique_tags) + 1, embedding_dimension)\n",
        "    ])\n",
        "\n",
        "    \n",
        "\n",
        "    self.task = tfrs.tasks.Retrieval(\n",
        "      metrics=tfrs.metrics.FactorizedTopK(\n",
        "          candidates=recipe_names.batch(128).map(lambda x: tf.squeeze(self.recipe_model(x), axis=1))\n",
        "      )\n",
        "    )\n",
        "    # Take a single batch from recipe_names\n",
        "    candidate_names = next(iter(recipe_names.batch(128)))\n",
        "    # Pass the batch of names to self.recipe_model\n",
        "    candidate_embeddings = self.recipe_model(candidate_names)\n",
        "    print(\"Candidate Embeddings Shape:\", candidate_embeddings.shape) \n",
        "\n",
        "  def call(self, features: Dict[Text, tf.Tensor]) -> tf.Tensor:\n",
        "    # Recipe embeddings\n",
        "    recipe_embeddings = self.recipe_model(features[\"recipe_name\"])\n",
        "    tags_embeddings = self.tags_model(features[\"tags\"])\n",
        "\n",
        "    # User embeddings\n",
        "    user_embedding = self.user_model(features)\n",
        "    # user_id_embedding = self.user_id_model(features[\"user_id\"])\n",
        "    # liked_tags_embedding = self.liked_tags_model(features['liked_tags'])\n",
        "    # unliked_tags_embedding = self.unliked_tags_model(features['unliked_tags'])\n",
        "\n",
        "    # # Apply penalties to unliked tags embeddings\n",
        "    # penalty_weight = -0.5\n",
        "    # unliked_tags_embedding = unliked_tags_embedding * penalty_weight\n",
        "\n",
        "    # # Reduce mean for RaggedTensors to handle variable lengths\n",
        "    # liked_tags_embedding = tf.reduce_mean(liked_tags_embedding, axis=1)\n",
        "    # unliked_tags_embedding = tf.reduce_mean(unliked_tags_embedding, axis=1)\n",
        "    # print(user_id_embedding.shape)\n",
        "    # if(user_id_embedding.shape.as_list() == list([1,1,32])):\n",
        "    #   print(\"Fixed users\")\n",
        "    #   user_id_embedding = tf.reduce_mean(user_id_embedding, axis=1)\n",
        "    # # Combine user embeddings (ensure shape (batch_size, embedding_dim))\n",
        "    # user_embedding = tf.concat([user_id_embedding, liked_tags_embedding, unliked_tags_embedding], axis=1)\n",
        "\n",
        "    # Combine recipe embeddings (ensure shape (batch_size, embedding_dim))\n",
        "    print(\"Recipe Embeddings Shape: 31\", recipe_embeddings.shape.as_list())\n",
        "    print(\"tags_embeddings Embeddings Shape: 32\", tags_embeddings.shape)\n",
        "    if(recipe_embeddings.shape.as_list() == list([1,1,32])):\n",
        "      print(\"Fixed 1\")\n",
        "      recipe_embeddings = tf.reduce_mean(recipe_embeddings, axis=1)\n",
        "    if(tags_embeddings.shape.as_list() == list([1,1,32])):\n",
        "      print(\"Fixed 2\")\n",
        "      tags_embeddings = tf.reduce_mean(tags_embeddings, axis=1)\n",
        "\n",
        "    recipe_embeddings = tf.concat([recipe_embeddings, tags_embeddings], axis=1)\n",
        "\n",
        "    # Ensure both user_embedding and recipe_embeddings are reduced to (batch_size, embedding_dim)\n",
        "    user_embedding = tf.reduce_mean(user_embedding, axis=1)  # Reduce axis to 2D\n",
        "    recipe_embeddings = tf.reduce_mean(recipe_embeddings, axis=1)\n",
        "\n",
        "    # Check shapes before returning\n",
        "    print(\"User Embeddings Shape: 21\", user_embedding.shape)\n",
        "    print(\"Recipe Embeddings Shape: 22\", recipe_embeddings.shape)\n",
        "\n",
        "    return user_embedding, recipe_embeddings\n",
        "\n",
        "\n",
        "  def compute_loss(self, features: Dict[Text, tf.Tensor], training=False) -> tf.Tensor:\n",
        "    user_embeddings, recipe_embeddings = self(features)\n",
        "\n",
        "    print(\"User Embeddings Shape:\", user_embeddings.shape)\n",
        "    print(\"Recipe Embeddings Shape:\", recipe_embeddings.shape)\n",
        "    # # Apply pooling to ensure uniform shapes\n",
        "    # user_embeddings = tf.reduce_mean(user_embeddings, axis=1)  # Ensure it's (batch_size, embedding_dim)\n",
        "    # recipe_embeddings = tf.reduce_mean(recipe_embeddings, axis=1)\n",
        "\n",
        "    # user_embeddings = tf.reduce_mean(user_embeddings, axis=1)  # Ensure it's (batch_size, embedding_dim)\n",
        "    # recipe_embeddings = tf.reduce_mean(recipe_embeddings, axis=1) # Ensure it's (batch_size, embedding_dim)\n",
        "\n",
        "    # Check shapes again\n",
        "    print(\"User Embeddings Shape:\", user_embeddings.shape)\n",
        "    print(\"Recipe Embeddings Shape:\", recipe_embeddings.shape)\n",
        "\n",
        "    return self.task(user_embeddings, recipe_embeddings)\n"
      ]
    },
    {
      "cell_type": "code",
      "execution_count": 44,
      "metadata": {
        "id": "4ln6bTE6XuUT"
      },
      "outputs": [],
      "source": [
        "# Randomly shuffle data and split between train and test.\n",
        "tf.random.set_seed(42)\n",
        "shuffled = ratings.shuffle(100_000, seed=42, reshuffle_each_iteration=False)\n",
        "\n",
        "train = shuffled.take(80_000)\n",
        "test = shuffled.skip(80_000).take(20_000)\n",
        "\n",
        "cached_train = train.shuffle(100_000).batch(8192).cache()\n",
        "cached_test = test.batch(4096).cache()"
      ]
    },
    {
      "cell_type": "code",
      "execution_count": 45,
      "metadata": {},
      "outputs": [
        {
          "name": "stdout",
          "output_type": "stream",
          "text": [
            "Fixed 1\n",
            "(<tf.Tensor: shape=(1, 96), dtype=float32, numpy=\n",
            "array([[-3.52230556e-02,  1.75264813e-02,  1.60246007e-02,\n",
            "         2.81946175e-02,  4.14231755e-02, -3.62736359e-02,\n",
            "         2.48584896e-03, -1.59127116e-02,  2.75185592e-02,\n",
            "         1.92953013e-02,  2.19455399e-02,  4.37143557e-02,\n",
            "        -4.38168049e-02,  5.96208498e-03,  3.98756750e-02,\n",
            "        -4.34775613e-02, -2.30742823e-02,  3.63623016e-02,\n",
            "        -3.83467562e-02, -1.85733326e-02,  9.38465446e-03,\n",
            "         8.92303884e-04, -1.25821680e-03, -1.91025864e-02,\n",
            "        -4.44731377e-02,  3.63770463e-02, -2.16915011e-02,\n",
            "        -1.59541368e-02,  1.41413249e-02, -6.47109747e-03,\n",
            "         2.30637677e-02, -6.81829453e-03, -1.68757210e-03,\n",
            "         2.75275623e-03,  7.90641643e-04, -1.27081433e-03,\n",
            "        -3.44715896e-03,  6.88652566e-04, -9.55880038e-04,\n",
            "         3.47363576e-03,  1.32687448e-03, -6.82806422e-04,\n",
            "         4.34627337e-03,  1.85572880e-03, -2.21296796e-03,\n",
            "         2.76207225e-03, -2.89641344e-03, -5.32198101e-05,\n",
            "        -7.86103483e-04, -8.92264885e-04, -3.15994723e-04,\n",
            "         2.08137836e-03, -1.74646964e-03,  1.15288189e-03,\n",
            "         2.04551523e-03, -3.42407177e-04,  4.73605795e-03,\n",
            "         3.36195435e-03,  4.63535573e-04, -3.51948361e-03,\n",
            "        -2.72768340e-03,  3.11690290e-03,  4.05164843e-04,\n",
            "         8.12069746e-04,  2.03989744e-02,  2.79048644e-03,\n",
            "        -1.89134050e-02, -7.46573322e-03,  1.31274881e-02,\n",
            "        -2.02889089e-02, -7.38266669e-03,  3.35791148e-03,\n",
            "         5.88726439e-03,  6.02614880e-03,  1.65726915e-02,\n",
            "         1.13989785e-03, -8.68758000e-03, -1.53179001e-02,\n",
            "         4.70656902e-04, -9.19266231e-03, -7.09360279e-03,\n",
            "        -1.61837060e-02,  7.42953271e-04,  2.53762677e-03,\n",
            "        -2.37269159e-02, -6.65199198e-03, -2.07583979e-03,\n",
            "        -8.20405968e-03,  1.47008542e-02, -1.34294350e-02,\n",
            "        -1.04900021e-02, -7.09165819e-03,  2.15448737e-02,\n",
            "         1.49903819e-03, -1.26779545e-02,  2.37198547e-03]], dtype=float32)>, <tf.Tensor: shape=(1, 64), dtype=float32, numpy=\n",
            "array([[ 0.04224881, -0.02609596, -0.01384181, -0.02336953, -0.02450879,\n",
            "         0.0049431 ,  0.01659088,  0.0044467 , -0.04881048, -0.01119123,\n",
            "        -0.00746566,  0.00154348, -0.02070295,  0.03692505,  0.01404046,\n",
            "         0.01394023,  0.03130617,  0.03942603,  0.04316243,  0.01567784,\n",
            "         0.0136847 ,  0.04217506, -0.02811462,  0.04720345, -0.04362246,\n",
            "         0.03081507,  0.00180676,  0.03512998,  0.04005462,  0.01017667,\n",
            "         0.01248814,  0.03110239,  0.02071201,  0.01993993, -0.00667239,\n",
            "         0.04587371,  0.00645783,  0.01520702,  0.01718484,  0.04562665,\n",
            "        -0.02513762, -0.01573576,  0.00653047, -0.00830959,  0.02305292,\n",
            "        -0.02353536,  0.00454963,  0.00376643, -0.01314764,  0.04679113,\n",
            "         0.01064349,  0.03308746, -0.01392191,  0.04661265, -0.03796522,\n",
            "        -0.03223105,  0.03692821, -0.04937522, -0.01675423, -0.03629773,\n",
            "        -0.01620032,  0.01603946,  0.00187266,  0.00869592]],\n",
            "      dtype=float32)>)\n"
          ]
        }
      ],
      "source": [
        "# prompt: Напиши код для теста model для пользователя 42\n",
        "model = RecipeAndUserModel()\n",
        "model.compile(optimizer=tf.keras.optimizers.Adagrad(learning_rate=0.1))\n",
        "test_user = {}\n",
        "for data in test.take(1).as_numpy_iterator():\n",
        "  print(model(data))"
      ]
    },
    {
      "cell_type": "code",
      "execution_count": 50,
      "metadata": {
        "id": "-7Gi0OYpUbOM"
      },
      "outputs": [
        {
          "name": "stdout",
          "output_type": "stream",
          "text": [
            "Candidate Embeddings Shape: (128, 1, 32)\n",
            "Recipe Embeddings Shape: 31 [None, 1, 32]\n",
            "tags_embeddings Embeddings Shape: 32 (None, 1, 32)\n",
            "User Embeddings Shape: 21 (None, 32)\n",
            "Recipe Embeddings Shape: 22 (None, 32)\n",
            "User Embeddings Shape: (None, 32)\n",
            "Recipe Embeddings Shape: (None, 32)\n",
            "User Embeddings Shape: (None, 32)\n",
            "Recipe Embeddings Shape: (None, 32)\n",
            "Recipe Embeddings Shape: 31 [None, 1, 32]\n",
            "tags_embeddings Embeddings Shape: 32 (None, 1, 32)\n",
            "User Embeddings Shape: 21 (None, 32)\n",
            "Recipe Embeddings Shape: 22 (None, 32)\n",
            "User Embeddings Shape: (None, 32)\n",
            "Recipe Embeddings Shape: (None, 32)\n",
            "User Embeddings Shape: (None, 32)\n",
            "Recipe Embeddings Shape: (None, 32)\n",
            "10/10 [==============================] - 191s 18s/step - factorized_top_k/top_1_categorical_accuracy: 0.0000e+00 - factorized_top_k/top_5_categorical_accuracy: 0.0047 - factorized_top_k/top_10_categorical_accuracy: 0.0070 - factorized_top_k/top_50_categorical_accuracy: 0.0141 - factorized_top_k/top_100_categorical_accuracy: 0.0163 - loss: 70342.0781 - regularization_loss: 0.0000e+00 - total_loss: 70342.0781\n"
          ]
        },
        {
          "data": {
            "text/plain": [
              "<keras.src.callbacks.History at 0x23d998f2e30>"
            ]
          },
          "execution_count": 50,
          "metadata": {},
          "output_type": "execute_result"
        }
      ],
      "source": [
        "model = RecipeAndUserModel()\n",
        "model.compile(optimizer=tf.keras.optimizers.Adagrad(learning_rate=0.1))\n",
        "model.fit(cached_train, epochs=1)"
      ]
    },
    {
      "cell_type": "code",
      "execution_count": 46,
      "metadata": {},
      "outputs": [
        {
          "name": "stdout",
          "output_type": "stream",
          "text": [
            "(None, 1, 32)\n",
            "Recipe Embeddings Shape: 31 [None, 1, 32]\n",
            "tags_embeddings Embeddings Shape: 32 (None, 1, 32)\n",
            "User Embeddings Shape: 21 (None, 32)\n",
            "Recipe Embeddings Shape: 22 (None, 32)\n",
            "User Embeddings Shape: (None, 32)\n",
            "Recipe Embeddings Shape: (None, 32)\n",
            "User Embeddings Shape: (None, 32)\n",
            "Recipe Embeddings Shape: (None, 32)\n",
            "5/5 [==============================] - 43s 8s/step - factorized_top_k/top_1_categorical_accuracy: 0.0000e+00 - factorized_top_k/top_5_categorical_accuracy: 0.0037 - factorized_top_k/top_10_categorical_accuracy: 0.0058 - factorized_top_k/top_50_categorical_accuracy: 0.0213 - factorized_top_k/top_100_categorical_accuracy: 0.0344 - loss: 32552.9779 - regularization_loss: 0.0000e+00 - total_loss: 32552.9779\n"
          ]
        },
        {
          "data": {
            "text/plain": [
              "{'factorized_top_k/top_1_categorical_accuracy': 0.0,\n",
              " 'factorized_top_k/top_5_categorical_accuracy': 0.003700000001117587,\n",
              " 'factorized_top_k/top_10_categorical_accuracy': 0.005849999841302633,\n",
              " 'factorized_top_k/top_50_categorical_accuracy': 0.021250000223517418,\n",
              " 'factorized_top_k/top_100_categorical_accuracy': 0.03435000032186508,\n",
              " 'loss': 29595.990234375,\n",
              " 'regularization_loss': 0,\n",
              " 'total_loss': 29595.990234375}"
            ]
          },
          "execution_count": 46,
          "metadata": {},
          "output_type": "execute_result"
        }
      ],
      "source": [
        "model.evaluate(cached_test, return_dict=True)"
      ]
    },
    {
      "cell_type": "code",
      "execution_count": 81,
      "metadata": {},
      "outputs": [
        {
          "name": "stdout",
          "output_type": "stream",
          "text": [
            "Recipe Embeddings Shape: 31 [None, 1, 32]\n",
            "tags_embeddings Embeddings Shape: 32 (None, 1, 32)\n",
            "User Embeddings Shape: 21 (None, 32)\n",
            "Recipe Embeddings Shape: 22 (None, 32)\n",
            "User Embeddings Shape: (None, 32)\n",
            "Recipe Embeddings Shape: (None, 32)\n",
            "User Embeddings Shape: (None, 32)\n",
            "Recipe Embeddings Shape: (None, 32)\n",
            "5/5 [==============================] - 46s 8s/step - factorized_top_k/top_1_categorical_accuracy: 0.0000e+00 - factorized_top_k/top_5_categorical_accuracy: 0.0028 - factorized_top_k/top_10_categorical_accuracy: 0.0061 - factorized_top_k/top_50_categorical_accuracy: 0.0199 - factorized_top_k/top_100_categorical_accuracy: 0.0316 - loss: 32548.2214 - regularization_loss: 0.0000e+00 - total_loss: 32548.2214\n"
          ]
        },
        {
          "data": {
            "text/plain": [
              "{'factorized_top_k/top_1_categorical_accuracy': 0.0,\n",
              " 'factorized_top_k/top_5_categorical_accuracy': 0.00279999990016222,\n",
              " 'factorized_top_k/top_10_categorical_accuracy': 0.006099999882280827,\n",
              " 'factorized_top_k/top_50_categorical_accuracy': 0.019899999722838402,\n",
              " 'factorized_top_k/top_100_categorical_accuracy': 0.03164999932050705,\n",
              " 'loss': 29591.072265625,\n",
              " 'regularization_loss': 0,\n",
              " 'total_loss': 29591.072265625}"
            ]
          },
          "execution_count": 81,
          "metadata": {},
          "output_type": "execute_result"
        }
      ],
      "source": [
        "model.evaluate(cached_test, return_dict=True)"
      ]
    },
    {
      "cell_type": "markdown",
      "metadata": {},
      "source": [
        "### Making predictions"
      ]
    },
    {
      "cell_type": "code",
      "execution_count": 78,
      "metadata": {},
      "outputs": [
        {
          "name": "stdout",
          "output_type": "stream",
          "text": [
            "Fixed users\n",
            "Recipe Embeddings Shape: 31 [1, 1, 32]\n",
            "tags_embeddings Embeddings Shape: 32 (1, 1, 32)\n",
            "Fixed 1\n",
            "Fixed 2\n",
            "User Embeddings Shape: 21 (1,)\n",
            "Recipe Embeddings Shape: 22 (1,)\n",
            "(<tf.Tensor: shape=(1,), dtype=float32, numpy=array([-0.0028638], dtype=float32)>, <tf.Tensor: shape=(1,), dtype=float32, numpy=array([-0.0279709], dtype=float32)>)\n"
          ]
        }
      ],
      "source": [
        "test_user = {}\n",
        "for data in test.take(1).as_numpy_iterator():\n",
        "  print(model(data))"
      ]
    },
    {
      "cell_type": "code",
      "execution_count": 52,
      "metadata": {},
      "outputs": [],
      "source": [
        "test_user = {}\n",
        "for data in test.take(1).as_numpy_iterator():\n",
        "  test_user = data"
      ]
    },
    {
      "cell_type": "code",
      "execution_count": null,
      "metadata": {},
      "outputs": [],
      "source": [
        "test_user"
      ]
    },
    {
      "cell_type": "code",
      "execution_count": 63,
      "metadata": {},
      "outputs": [
        {
          "name": "stdout",
          "output_type": "stream",
          "text": [
            "Fixed users\n",
            "Recipe Embeddings Shape: 31 [1, 1, 32]\n",
            "tags_embeddings Embeddings Shape: 32 (1, 1, 32)\n",
            "Fixed 1\n",
            "Fixed 2\n",
            "User Embeddings Shape: 21 (1,)\n",
            "Recipe Embeddings Shape: 22 (1,)\n",
            "tf.Tensor([-0.0037438], shape=(1,), dtype=float32)\n"
          ]
        },
        {
          "ename": "AttributeError",
          "evalue": "'dict' object has no attribute 'shape'",
          "output_type": "error",
          "traceback": [
            "\u001b[1;31m---------------------------------------------------------------------------\u001b[0m",
            "\u001b[1;31mAttributeError\u001b[0m                            Traceback (most recent call last)",
            "Cell \u001b[1;32mIn[63], line 15\u001b[0m\n\u001b[0;32m     12\u001b[0m brute_force \u001b[38;5;241m=\u001b[39m tfrs\u001b[38;5;241m.\u001b[39mlayers\u001b[38;5;241m.\u001b[39mfactorized_top_k\u001b[38;5;241m.\u001b[39mBruteForce(model\u001b[38;5;241m.\u001b[39muser_model)\n\u001b[0;32m     13\u001b[0m \u001b[38;5;28mprint\u001b[39m(recipe_embeddings)\n\u001b[1;32m---> 15\u001b[0m index \u001b[38;5;241m=\u001b[39m \u001b[43mbrute_force\u001b[49m\u001b[38;5;241;43m.\u001b[39;49m\u001b[43mindex_from_dataset\u001b[49m\u001b[43m(\u001b[49m\n\u001b[0;32m     16\u001b[0m \u001b[43m  \u001b[49m\u001b[43mtf\u001b[49m\u001b[38;5;241;43m.\u001b[39;49m\u001b[43mdata\u001b[49m\u001b[38;5;241;43m.\u001b[39;49m\u001b[43mDataset\u001b[49m\u001b[38;5;241;43m.\u001b[39;49m\u001b[43mzip\u001b[49m\u001b[43m(\u001b[49m\u001b[43m(\u001b[49m\u001b[43mrecipes\u001b[49m\u001b[38;5;241;43m.\u001b[39;49m\u001b[43mbatch\u001b[49m\u001b[43m(\u001b[49m\u001b[38;5;241;43m100\u001b[39;49m\u001b[43m)\u001b[49m\u001b[43m,\u001b[49m\u001b[43m \u001b[49m\u001b[43mrecipes\u001b[49m\u001b[38;5;241;43m.\u001b[39;49m\u001b[43mbatch\u001b[49m\u001b[43m(\u001b[49m\u001b[38;5;241;43m100\u001b[39;49m\u001b[43m)\u001b[49m\u001b[38;5;241;43m.\u001b[39;49m\u001b[43mmap\u001b[49m\u001b[43m(\u001b[49m\u001b[38;5;28;43;01mlambda\u001b[39;49;00m\u001b[43m \u001b[49m\u001b[43mx\u001b[49m\u001b[43m:\u001b[49m\u001b[43m \u001b[49m\u001b[43mmodel\u001b[49m\u001b[38;5;241;43m.\u001b[39;49m\u001b[43mrecipe_model\u001b[49m\u001b[43m(\u001b[49m\u001b[43mx\u001b[49m\u001b[43m[\u001b[49m\u001b[38;5;124;43m'\u001b[39;49m\u001b[38;5;124;43mrecipe_name\u001b[39;49m\u001b[38;5;124;43m'\u001b[39;49m\u001b[43m]\u001b[49m\u001b[43m)\u001b[49m\u001b[43m)\u001b[49m\u001b[43m)\u001b[49m\u001b[43m)\u001b[49m\u001b[43m)\u001b[49m\n\u001b[0;32m     19\u001b[0m \u001b[38;5;28mprint\u001b[39m(index(test_user_dataset))\n\u001b[0;32m     20\u001b[0m _, titles \u001b[38;5;241m=\u001b[39m index(recipe_embeddings, k\u001b[38;5;241m=\u001b[39m\u001b[38;5;241m10\u001b[39m)\n",
            "File \u001b[1;32mf:\\P310\\lib\\site-packages\\tensorflow_recommenders\\layers\\factorized_top_k.py:197\u001b[0m, in \u001b[0;36mTopK.index_from_dataset\u001b[1;34m(self, candidates)\u001b[0m\n\u001b[0;32m    174\u001b[0m \u001b[38;5;28;01mdef\u001b[39;00m \u001b[38;5;21mindex_from_dataset\u001b[39m(\n\u001b[0;32m    175\u001b[0m     \u001b[38;5;28mself\u001b[39m,\n\u001b[0;32m    176\u001b[0m     candidates: tf\u001b[38;5;241m.\u001b[39mdata\u001b[38;5;241m.\u001b[39mDataset\n\u001b[0;32m    177\u001b[0m ) \u001b[38;5;241m-\u001b[39m\u001b[38;5;241m>\u001b[39m \u001b[38;5;124m\"\u001b[39m\u001b[38;5;124mTopK\u001b[39m\u001b[38;5;124m\"\u001b[39m:\n\u001b[0;32m    178\u001b[0m \u001b[38;5;250m  \u001b[39m\u001b[38;5;124;03m\"\"\"Builds the retrieval index.\u001b[39;00m\n\u001b[0;32m    179\u001b[0m \n\u001b[0;32m    180\u001b[0m \u001b[38;5;124;03m  When called multiple times the existing index will be dropped and a new one\u001b[39;00m\n\u001b[1;32m   (...)\u001b[0m\n\u001b[0;32m    194\u001b[0m \u001b[38;5;124;03m    ValueError if the dataset does not have the correct structure.\u001b[39;00m\n\u001b[0;32m    195\u001b[0m \u001b[38;5;124;03m  \"\"\"\u001b[39;00m\n\u001b[1;32m--> 197\u001b[0m   \u001b[43m_check_candidates_with_identifiers\u001b[49m\u001b[43m(\u001b[49m\u001b[43mcandidates\u001b[49m\u001b[43m)\u001b[49m\n\u001b[0;32m    199\u001b[0m   spec \u001b[38;5;241m=\u001b[39m candidates\u001b[38;5;241m.\u001b[39melement_spec\n\u001b[0;32m    201\u001b[0m   \u001b[38;5;28;01mif\u001b[39;00m \u001b[38;5;28misinstance\u001b[39m(spec, \u001b[38;5;28mtuple\u001b[39m):\n",
            "File \u001b[1;32mf:\\P310\\lib\\site-packages\\tensorflow_recommenders\\layers\\factorized_top_k.py:127\u001b[0m, in \u001b[0;36m_check_candidates_with_identifiers\u001b[1;34m(candidates)\u001b[0m\n\u001b[0;32m    119\u001b[0m   \u001b[38;5;28;01mraise\u001b[39;00m \u001b[38;5;167;01mValueError\u001b[39;00m(\n\u001b[0;32m    120\u001b[0m       \u001b[38;5;124m\"\u001b[39m\u001b[38;5;124mThe dataset must yield candidate embeddings or \u001b[39m\u001b[38;5;124m\"\u001b[39m\n\u001b[0;32m    121\u001b[0m       \u001b[38;5;124m\"\u001b[39m\u001b[38;5;124mtuples of (candidate identifiers, candidate embeddings). \u001b[39m\u001b[38;5;124m\"\u001b[39m\n\u001b[0;32m    122\u001b[0m       \u001b[38;5;124mf\u001b[39m\u001b[38;5;124m\"\u001b[39m\u001b[38;5;124mGot \u001b[39m\u001b[38;5;132;01m{\u001b[39;00mspec\u001b[38;5;132;01m}\u001b[39;00m\u001b[38;5;124m instead.\u001b[39m\u001b[38;5;124m\"\u001b[39m\n\u001b[0;32m    123\u001b[0m   )\n\u001b[0;32m    125\u001b[0m identifiers_spec, candidates_spec \u001b[38;5;241m=\u001b[39m spec\n\u001b[1;32m--> 127\u001b[0m \u001b[38;5;28;01mif\u001b[39;00m candidates_spec\u001b[38;5;241m.\u001b[39mshape[\u001b[38;5;241m0\u001b[39m] \u001b[38;5;241m!=\u001b[39m \u001b[43midentifiers_spec\u001b[49m\u001b[38;5;241;43m.\u001b[39;49m\u001b[43mshape\u001b[49m[\u001b[38;5;241m0\u001b[39m]:\n\u001b[0;32m    128\u001b[0m   \u001b[38;5;28;01mraise\u001b[39;00m \u001b[38;5;167;01mValueError\u001b[39;00m(\n\u001b[0;32m    129\u001b[0m       \u001b[38;5;124m\"\u001b[39m\u001b[38;5;124mCandidates and identifiers have to have the same batch dimension. \u001b[39m\u001b[38;5;124m\"\u001b[39m\n\u001b[0;32m    130\u001b[0m       \u001b[38;5;124mf\u001b[39m\u001b[38;5;124m\"\u001b[39m\u001b[38;5;124mGot \u001b[39m\u001b[38;5;132;01m{\u001b[39;00mcandidates_spec\u001b[38;5;241m.\u001b[39mshape[\u001b[38;5;241m0\u001b[39m]\u001b[38;5;132;01m}\u001b[39;00m\u001b[38;5;124m and \u001b[39m\u001b[38;5;132;01m{\u001b[39;00midentifiers_spec\u001b[38;5;241m.\u001b[39mshape[\u001b[38;5;241m0\u001b[39m]\u001b[38;5;132;01m}\u001b[39;00m\u001b[38;5;124m.\u001b[39m\u001b[38;5;124m\"\u001b[39m\n\u001b[0;32m    131\u001b[0m   )\n",
            "\u001b[1;31mAttributeError\u001b[0m: 'dict' object has no attribute 'shape'"
          ]
        }
      ],
      "source": [
        "# Create a dataset with the user ID you want to test\n",
        "user_id_to_test = \"42\"  # Replace with the user ID you want to test\n",
        "test_user_dataset = {\"user_id\": np.array(test_user[\"user_id\"]),\n",
        "      \"liked_tags\": np.array(test_user[\"liked_tags\"]),\n",
        "      \"recipe_name\": np.array([\"arriba baked winter squash mexican style\"]),  # Use empty list as a default\n",
        "      \"tags\": np.array(test_user[\"tags\"]),\n",
        "      \"unliked_tags\": np.array(test_user[\"unliked_tags\"])}\n",
        "\n",
        "# Use the model's retrieval task to get the top-k predictions\n",
        "_, recipe_embeddings = model(test_user_dataset)\n",
        "\n",
        "brute_force = tfrs.layers.factorized_top_k.BruteForce(model.user_model)\n",
        "print(recipe_embeddings)\n",
        "\n",
        "index = brute_force.index_from_dataset(\n",
        "  tf.data.Dataset.zip((recipes.batch(100), recipes.batch(100).map(lambda x: model.recipe_model(x['recipe_name'])))))\n",
        "\n",
        "\n",
        "print(index(test_user_dataset))\n",
        "_, titles = index(recipe_embeddings, k=10)\n",
        "\n",
        "print(f\"Top 10 recommendations for user {user_id_to_test}: {titles}\")"
      ]
    },
    {
      "cell_type": "code",
      "execution_count": null,
      "metadata": {},
      "outputs": [],
      "source": [
        "class UserModel(tf.keras.Model):\n",
        "    def __init__(self, unique_user_ids, unique_liked_tags, unique_unliked_tags, embedding_dimension):\n",
        "        super().__init__()\n",
        "        \n",
        "        # User ID embeddings\n",
        "        self.user_id_model = tf.keras.Sequential([\n",
        "            tf.keras.layers.StringLookup(\n",
        "                vocabulary=unique_user_ids, mask_token=None),\n",
        "            tf.keras.layers.Embedding(len(unique_user_ids) + 1, embedding_dimension)\n",
        "        ])\n",
        "        \n",
        "        # Liked tags embeddings\n",
        "        self.liked_tags_model = tf.keras.Sequential([\n",
        "            tf.keras.layers.StringLookup(\n",
        "                vocabulary=unique_liked_tags, mask_token=None),\n",
        "            tf.keras.layers.Embedding(len(unique_liked_tags) + 1, embedding_dimension)\n",
        "        ])\n",
        "\n",
        "        # Unliked tags embeddings\n",
        "        self.unliked_tags_model = tf.keras.Sequential([\n",
        "            tf.keras.layers.StringLookup(\n",
        "                vocabulary=unique_unliked_tags, mask_token=None),\n",
        "            tf.keras.layers.Embedding(len(unique_unliked_tags) + 1, embedding_dimension)\n",
        "        ])\n",
        "\n",
        "        # Penalty weight for unliked tags\n",
        "        self.penalty_weight = -0.5\n",
        "\n",
        "    def call(self, features):\n",
        "        # Inputs should contain \"user_id\", \"liked_tags\", and \"unliked_tags\"\n",
        "        user_id = features[\"user_id\"]\n",
        "        liked_tags = features[\"liked_tags\"]\n",
        "        unliked_tags = features[\"unliked_tags\"]\n",
        "        \n",
        "        # Embed user ID\n",
        "        user_id_embedding = self.user_id_model(user_id)\n",
        "        if(user_id_embedding.shape.as_list() == list([1,1,32])):\n",
        "            print(\"Fixed users\")\n",
        "            user_id_embedding = tf.reduce_mean(user_id_embedding, axis=1)\n",
        "        # Embed liked and unliked tags\n",
        "        liked_tags_embedding = self.liked_tags_model(liked_tags)\n",
        "        unliked_tags_embedding = self.unliked_tags_model(unliked_tags)\n",
        "        \n",
        "        # Apply penalty to unliked tags\n",
        "        unliked_tags_embedding = unliked_tags_embedding * self.penalty_weight\n",
        "        # Reduce mean to handle ragged tensors (different lengths of liked/unliked tags)\n",
        "        if(len(liked_tags_embedding.shape.as_list()) >=3):\n",
        "            liked_tags_embedding = tf.reduce_mean(liked_tags_embedding, axis=1)\n",
        "        if(len(unliked_tags_embedding.shape.as_list()) >=3):\n",
        "            unliked_tags_embedding = tf.reduce_mean(unliked_tags_embedding, axis=1)\n",
        "        # Concatenate user embeddings with liked and unliked tags\n",
        "        user_embedding = tf.concat([user_id_embedding, liked_tags_embedding, unliked_tags_embedding], axis=1)\n",
        "        \n",
        "        return user_embedding\n"
      ]
    },
    {
      "cell_type": "code",
      "execution_count": null,
      "metadata": {},
      "outputs": [],
      "source": [
        "model.recipe_model(np.array([\"arriba baked winter squash mexican style\"]))"
      ]
    },
    {
      "cell_type": "code",
      "execution_count": null,
      "metadata": {},
      "outputs": [],
      "source": [
        "recipes.batch(100).map(lambda x: x[\"recipe_id\"]).map(lambda z: tf.cast(z, tf.float32))"
      ]
    },
    {
      "cell_type": "code",
      "execution_count": 83,
      "metadata": {},
      "outputs": [],
      "source": [
        "test_user = {}\n",
        "for data in test.take(1).as_numpy_iterator():\n",
        "  test_user = data"
      ]
    },
    {
      "cell_type": "code",
      "execution_count": 64,
      "metadata": {},
      "outputs": [
        {
          "name": "stdout",
          "output_type": "stream",
          "text": [
            "Fixed users\n",
            "Recipe Embeddings Shape: 31 [1, 1, 32]\n",
            "tags_embeddings Embeddings Shape: 32 (1, 1, 32)\n",
            "Fixed 1\n",
            "Fixed 2\n",
            "User Embeddings Shape: 21 (1,)\n",
            "Recipe Embeddings Shape: 22 (1,)\n",
            "Shape of recipe embeddings: (1,)\n",
            "Dtype of recipe embeddings: <dtype: 'float32'>\n",
            "Shape of reshaped recipe embeddings: (1, 1)\n"
          ]
        },
        {
          "ename": "TypeError",
          "evalue": "Exception encountered when calling layer 'user_model_3' (type UserModel).\n\nOnly integers, slices (`:`), ellipsis (`...`), tf.newaxis (`None`) and scalar tf.int32/tf.int64 tensors are valid indices, got 'user_id'\n\nCall arguments received by layer 'user_model_3' (type UserModel):\n  • features=tf.Tensor(shape=(1, 1), dtype=string)",
          "output_type": "error",
          "traceback": [
            "\u001b[1;31m---------------------------------------------------------------------------\u001b[0m",
            "\u001b[1;31mTypeError\u001b[0m                                 Traceback (most recent call last)",
            "Cell \u001b[1;32mIn[64], line 37\u001b[0m\n\u001b[0;32m     34\u001b[0m \u001b[38;5;28mprint\u001b[39m(\u001b[38;5;124m\"\u001b[39m\u001b[38;5;124mShape of reshaped recipe embeddings:\u001b[39m\u001b[38;5;124m\"\u001b[39m, recipe_embeddings\u001b[38;5;241m.\u001b[39mshape)\n\u001b[0;32m     36\u001b[0m recipe_embeddings_str \u001b[38;5;241m=\u001b[39m tf\u001b[38;5;241m.\u001b[39mstrings\u001b[38;5;241m.\u001b[39mas_string(recipe_embeddings)\n\u001b[1;32m---> 37\u001b[0m _, titles \u001b[38;5;241m=\u001b[39m \u001b[43mindex\u001b[49m\u001b[43m(\u001b[49m\u001b[43mrecipe_embeddings_str\u001b[49m\u001b[43m,\u001b[49m\u001b[43m \u001b[49m\u001b[43mk\u001b[49m\u001b[38;5;241;43m=\u001b[39;49m\u001b[38;5;241;43m10\u001b[39;49m\u001b[43m)\u001b[49m\n\u001b[0;32m     39\u001b[0m \u001b[38;5;28mprint\u001b[39m(\u001b[38;5;124mf\u001b[39m\u001b[38;5;124m\"\u001b[39m\u001b[38;5;124mTop 10 recommendations for user \u001b[39m\u001b[38;5;132;01m{\u001b[39;00muser_id_to_test\u001b[38;5;132;01m}\u001b[39;00m\u001b[38;5;124m: \u001b[39m\u001b[38;5;132;01m{\u001b[39;00mtitles\u001b[38;5;132;01m}\u001b[39;00m\u001b[38;5;124m\"\u001b[39m)\n",
            "File \u001b[1;32m~\\AppData\\Roaming\\Python\\Python310\\site-packages\\keras\\src\\utils\\traceback_utils.py:70\u001b[0m, in \u001b[0;36mfilter_traceback.<locals>.error_handler\u001b[1;34m(*args, **kwargs)\u001b[0m\n\u001b[0;32m     67\u001b[0m     filtered_tb \u001b[38;5;241m=\u001b[39m _process_traceback_frames(e\u001b[38;5;241m.\u001b[39m__traceback__)\n\u001b[0;32m     68\u001b[0m     \u001b[38;5;66;03m# To get the full stack trace, call:\u001b[39;00m\n\u001b[0;32m     69\u001b[0m     \u001b[38;5;66;03m# `tf.debugging.disable_traceback_filtering()`\u001b[39;00m\n\u001b[1;32m---> 70\u001b[0m     \u001b[38;5;28;01mraise\u001b[39;00m e\u001b[38;5;241m.\u001b[39mwith_traceback(filtered_tb) \u001b[38;5;28;01mfrom\u001b[39;00m \u001b[38;5;28;01mNone\u001b[39;00m\n\u001b[0;32m     71\u001b[0m \u001b[38;5;28;01mfinally\u001b[39;00m:\n\u001b[0;32m     72\u001b[0m     \u001b[38;5;28;01mdel\u001b[39;00m filtered_tb\n",
            "File \u001b[1;32mf:\\P310\\lib\\site-packages\\tensorflow_recommenders\\layers\\factorized_top_k.py:584\u001b[0m, in \u001b[0;36mBruteForce.call\u001b[1;34m(self, queries, k)\u001b[0m\n\u001b[0;32m    580\u001b[0m   \u001b[38;5;28;01mraise\u001b[39;00m \u001b[38;5;167;01mValueError\u001b[39;00m(\u001b[38;5;124m\"\u001b[39m\u001b[38;5;124mThe `index` method must be called first to \u001b[39m\u001b[38;5;124m\"\u001b[39m\n\u001b[0;32m    581\u001b[0m                    \u001b[38;5;124m\"\u001b[39m\u001b[38;5;124mcreate the retrieval index.\u001b[39m\u001b[38;5;124m\"\u001b[39m)\n\u001b[0;32m    583\u001b[0m \u001b[38;5;28;01mif\u001b[39;00m \u001b[38;5;28mself\u001b[39m\u001b[38;5;241m.\u001b[39mquery_model \u001b[38;5;129;01mis\u001b[39;00m \u001b[38;5;129;01mnot\u001b[39;00m \u001b[38;5;28;01mNone\u001b[39;00m:\n\u001b[1;32m--> 584\u001b[0m   queries \u001b[38;5;241m=\u001b[39m \u001b[38;5;28;43mself\u001b[39;49m\u001b[38;5;241;43m.\u001b[39;49m\u001b[43mquery_model\u001b[49m\u001b[43m(\u001b[49m\u001b[43mqueries\u001b[49m\u001b[43m)\u001b[49m\n\u001b[0;32m    586\u001b[0m scores \u001b[38;5;241m=\u001b[39m \u001b[38;5;28mself\u001b[39m\u001b[38;5;241m.\u001b[39m_compute_score(queries, \u001b[38;5;28mself\u001b[39m\u001b[38;5;241m.\u001b[39m_candidates)\n\u001b[0;32m    588\u001b[0m values, indices \u001b[38;5;241m=\u001b[39m tf\u001b[38;5;241m.\u001b[39mmath\u001b[38;5;241m.\u001b[39mtop_k(scores, k\u001b[38;5;241m=\u001b[39mk)\n",
            "Cell \u001b[1;32mIn[41], line 31\u001b[0m, in \u001b[0;36mUserModel.call\u001b[1;34m(self, features)\u001b[0m\n\u001b[0;32m     29\u001b[0m \u001b[38;5;28;01mdef\u001b[39;00m \u001b[38;5;21mcall\u001b[39m(\u001b[38;5;28mself\u001b[39m, features):\n\u001b[0;32m     30\u001b[0m     \u001b[38;5;66;03m# Inputs should contain \"user_id\", \"liked_tags\", and \"unliked_tags\"\u001b[39;00m\n\u001b[1;32m---> 31\u001b[0m     user_id \u001b[38;5;241m=\u001b[39m \u001b[43mfeatures\u001b[49m\u001b[43m[\u001b[49m\u001b[38;5;124;43m\"\u001b[39;49m\u001b[38;5;124;43muser_id\u001b[39;49m\u001b[38;5;124;43m\"\u001b[39;49m\u001b[43m]\u001b[49m\n\u001b[0;32m     32\u001b[0m     liked_tags \u001b[38;5;241m=\u001b[39m features[\u001b[38;5;124m\"\u001b[39m\u001b[38;5;124mliked_tags\u001b[39m\u001b[38;5;124m\"\u001b[39m]\n\u001b[0;32m     33\u001b[0m     unliked_tags \u001b[38;5;241m=\u001b[39m features[\u001b[38;5;124m\"\u001b[39m\u001b[38;5;124munliked_tags\u001b[39m\u001b[38;5;124m\"\u001b[39m]\n",
            "\u001b[1;31mTypeError\u001b[0m: Exception encountered when calling layer 'user_model_3' (type UserModel).\n\nOnly integers, slices (`:`), ellipsis (`...`), tf.newaxis (`None`) and scalar tf.int32/tf.int64 tensors are valid indices, got 'user_id'\n\nCall arguments received by layer 'user_model_3' (type UserModel):\n  • features=tf.Tensor(shape=(1, 1), dtype=string)"
          ]
        }
      ],
      "source": [
        "# Create a dataset with the user ID you want to test\n",
        "user_id_to_test = \"42\"\n",
        "test_user_dataset = {\n",
        "    \"user_id\": np.array(test_user[\"user_id\"]),\n",
        "    \"liked_tags\": np.array(test_user[\"liked_tags\"]),\n",
        "    \"recipe_name\": np.array([\"arriba baked winter squash mexican style\"], dtype=object),\n",
        "    \"tags\": np.array(test_user[\"tags\"]),\n",
        "    \"unliked_tags\": np.array(test_user[\"unliked_tags\"]),\n",
        "}\n",
        "\n",
        "# Use the model's retrieval task to get the top-k predictions\n",
        "_, recipe_embeddings = model(test_user_dataset)\n",
        "\n",
        "# Ensure recipe embeddings have the correct shape\n",
        "print(\"Shape of recipe embeddings:\", recipe_embeddings.shape)\n",
        "print(\"Dtype of recipe embeddings:\", recipe_embeddings.dtype)\n",
        "\n",
        "# Create a brute force index\n",
        "brute_force = tfrs.layers.factorized_top_k.BruteForce(model.user_model)\n",
        "\n",
        "# Build the index\n",
        "index = brute_force.index_from_dataset(\n",
        "    recipes.batch(100).map(\n",
        "        lambda x: (\n",
        "            x[\"recipe_id\"] +\"_\" + x[\"recipe_name\"],\n",
        "            tf.squeeze(model.recipe_model(x[\"recipe_name\"]), axis=1)  # Ensure this is 2D\n",
        "        )\n",
        "    )\n",
        ")\n",
        "\n",
        "# Reshape the recipe embeddings if necessary\n",
        "if len(recipe_embeddings.shape) == 1:\n",
        "    recipe_embeddings = tf.expand_dims(recipe_embeddings, axis=0)  # Reshape to (1, embedding_dim)\n",
        "print(\"Shape of reshaped recipe embeddings:\", recipe_embeddings.shape)\n",
        "\n",
        "recipe_embeddings_str = tf.strings.as_string(recipe_embeddings)\n",
        "_, titles = index(recipe_embeddings_str, k=10)\n",
        "\n",
        "print(f\"Top 10 recommendations for user {user_id_to_test}: {titles}\")\n"
      ]
    },
    {
      "cell_type": "code",
      "execution_count": 72,
      "metadata": {},
      "outputs": [
        {
          "ename": "InvalidArgumentError",
          "evalue": "Exception encountered when calling layer 'user_model_1' (type UserModel).\n\n{{function_node __wrapped__ConcatV2_N_3_device_/job:localhost/replica:0/task:0/device:CPU:0}} ConcatOp : Ranks of all input tensors should match: shape[0] = [1,1,32] vs. shape[1] = [1,32] [Op:ConcatV2] name: concat\n\nCall arguments received by layer 'user_model_1' (type UserModel):\n  • inputs={'user_id': 'tf.Tensor(shape=(1,), dtype=string)', 'liked_tags': 'tf.Tensor(shape=(1, 178), dtype=string)', 'recipe_name': 'tf.Tensor(shape=(1,), dtype=string)', 'tags': 'tf.Tensor(shape=(1,), dtype=string)', 'unliked_tags': 'tf.Tensor(shape=(1, 1), dtype=string)'}",
          "output_type": "error",
          "traceback": [
            "\u001b[1;31m---------------------------------------------------------------------------\u001b[0m",
            "\u001b[1;31mInvalidArgumentError\u001b[0m                      Traceback (most recent call last)",
            "Cell \u001b[1;32mIn[72], line 12\u001b[0m\n\u001b[0;32m      3\u001b[0m test_user_dataset \u001b[38;5;241m=\u001b[39m {\n\u001b[0;32m      4\u001b[0m     \u001b[38;5;124m\"\u001b[39m\u001b[38;5;124muser_id\u001b[39m\u001b[38;5;124m\"\u001b[39m: np\u001b[38;5;241m.\u001b[39marray(test_user[\u001b[38;5;124m\"\u001b[39m\u001b[38;5;124muser_id\u001b[39m\u001b[38;5;124m\"\u001b[39m]),\n\u001b[0;32m      5\u001b[0m     \u001b[38;5;124m\"\u001b[39m\u001b[38;5;124mliked_tags\u001b[39m\u001b[38;5;124m\"\u001b[39m: np\u001b[38;5;241m.\u001b[39marray(test_user[\u001b[38;5;124m\"\u001b[39m\u001b[38;5;124mliked_tags\u001b[39m\u001b[38;5;124m\"\u001b[39m]),\n\u001b[1;32m   (...)\u001b[0m\n\u001b[0;32m      8\u001b[0m     \u001b[38;5;124m\"\u001b[39m\u001b[38;5;124munliked_tags\u001b[39m\u001b[38;5;124m\"\u001b[39m: np\u001b[38;5;241m.\u001b[39marray(test_user[\u001b[38;5;124m\"\u001b[39m\u001b[38;5;124munliked_tags\u001b[39m\u001b[38;5;124m\"\u001b[39m]),\n\u001b[0;32m      9\u001b[0m }\n\u001b[0;32m     11\u001b[0m \u001b[38;5;66;03m# Use the model's retrieval task to get the top-k predictions\u001b[39;00m\n\u001b[1;32m---> 12\u001b[0m _, recipe_embeddings \u001b[38;5;241m=\u001b[39m \u001b[43mmodel\u001b[49m\u001b[43m(\u001b[49m\u001b[43mtest_user_dataset\u001b[49m\u001b[43m)\u001b[49m\n\u001b[0;32m     14\u001b[0m \u001b[38;5;66;03m# Ensure recipe embeddings have the correct shape\u001b[39;00m\n\u001b[0;32m     15\u001b[0m \u001b[38;5;28mprint\u001b[39m(\u001b[38;5;124m\"\u001b[39m\u001b[38;5;124mShape of recipe embeddings:\u001b[39m\u001b[38;5;124m\"\u001b[39m, recipe_embeddings\u001b[38;5;241m.\u001b[39mshape)\n",
            "File \u001b[1;32m~\\AppData\\Roaming\\Python\\Python310\\site-packages\\keras\\src\\utils\\traceback_utils.py:70\u001b[0m, in \u001b[0;36mfilter_traceback.<locals>.error_handler\u001b[1;34m(*args, **kwargs)\u001b[0m\n\u001b[0;32m     67\u001b[0m     filtered_tb \u001b[38;5;241m=\u001b[39m _process_traceback_frames(e\u001b[38;5;241m.\u001b[39m__traceback__)\n\u001b[0;32m     68\u001b[0m     \u001b[38;5;66;03m# To get the full stack trace, call:\u001b[39;00m\n\u001b[0;32m     69\u001b[0m     \u001b[38;5;66;03m# `tf.debugging.disable_traceback_filtering()`\u001b[39;00m\n\u001b[1;32m---> 70\u001b[0m     \u001b[38;5;28;01mraise\u001b[39;00m e\u001b[38;5;241m.\u001b[39mwith_traceback(filtered_tb) \u001b[38;5;28;01mfrom\u001b[39;00m \u001b[38;5;28;01mNone\u001b[39;00m\n\u001b[0;32m     71\u001b[0m \u001b[38;5;28;01mfinally\u001b[39;00m:\n\u001b[0;32m     72\u001b[0m     \u001b[38;5;28;01mdel\u001b[39;00m filtered_tb\n",
            "Cell \u001b[1;32mIn[65], line 34\u001b[0m, in \u001b[0;36mRecipeAndUserModel.call\u001b[1;34m(self, features)\u001b[0m\n\u001b[0;32m     31\u001b[0m recipe_embeddings \u001b[38;5;241m=\u001b[39m \u001b[38;5;28mself\u001b[39m\u001b[38;5;241m.\u001b[39mrecipe_model(features[\u001b[38;5;124m\"\u001b[39m\u001b[38;5;124mrecipe_name\u001b[39m\u001b[38;5;124m\"\u001b[39m])\n\u001b[0;32m     32\u001b[0m tags_embeddings \u001b[38;5;241m=\u001b[39m \u001b[38;5;28mself\u001b[39m\u001b[38;5;241m.\u001b[39mtags_model(features[\u001b[38;5;124m\"\u001b[39m\u001b[38;5;124mtags\u001b[39m\u001b[38;5;124m\"\u001b[39m])\n\u001b[1;32m---> 34\u001b[0m user_embedding \u001b[38;5;241m=\u001b[39m \u001b[38;5;28;43mself\u001b[39;49m\u001b[38;5;241;43m.\u001b[39;49m\u001b[43muser_model\u001b[49m\u001b[43m(\u001b[49m\u001b[43mfeatures\u001b[49m\u001b[43m)\u001b[49m\n\u001b[0;32m     36\u001b[0m \u001b[38;5;66;03m# Combine recipe embeddings (ensure shape (batch_size, embedding_dim))\u001b[39;00m\n\u001b[0;32m     37\u001b[0m \u001b[38;5;28mprint\u001b[39m(\u001b[38;5;124m\"\u001b[39m\u001b[38;5;124mRecipe Embeddings Shape: 31\u001b[39m\u001b[38;5;124m\"\u001b[39m, recipe_embeddings\u001b[38;5;241m.\u001b[39mshape\u001b[38;5;241m.\u001b[39mas_list())\n",
            "Cell \u001b[1;32mIn[64], line 50\u001b[0m, in \u001b[0;36mUserModel.call\u001b[1;34m(self, inputs)\u001b[0m\n\u001b[0;32m     47\u001b[0m unliked_tags_embedding \u001b[38;5;241m=\u001b[39m tf\u001b[38;5;241m.\u001b[39mreduce_mean(unliked_tags_embedding, axis\u001b[38;5;241m=\u001b[39m\u001b[38;5;241m1\u001b[39m)\n\u001b[0;32m     49\u001b[0m \u001b[38;5;66;03m# Concatenate user embeddings with liked and unliked tags\u001b[39;00m\n\u001b[1;32m---> 50\u001b[0m user_embedding \u001b[38;5;241m=\u001b[39m \u001b[43mtf\u001b[49m\u001b[38;5;241;43m.\u001b[39;49m\u001b[43mconcat\u001b[49m\u001b[43m(\u001b[49m\u001b[43m[\u001b[49m\u001b[43muser_id_embedding\u001b[49m\u001b[43m,\u001b[49m\u001b[43m \u001b[49m\u001b[43mliked_tags_embedding\u001b[49m\u001b[43m,\u001b[49m\u001b[43m \u001b[49m\u001b[43munliked_tags_embedding\u001b[49m\u001b[43m]\u001b[49m\u001b[43m,\u001b[49m\u001b[43m \u001b[49m\u001b[43maxis\u001b[49m\u001b[38;5;241;43m=\u001b[39;49m\u001b[38;5;241;43m1\u001b[39;49m\u001b[43m)\u001b[49m\n\u001b[0;32m     52\u001b[0m \u001b[38;5;28;01mreturn\u001b[39;00m user_embedding\n",
            "\u001b[1;31mInvalidArgumentError\u001b[0m: Exception encountered when calling layer 'user_model_1' (type UserModel).\n\n{{function_node __wrapped__ConcatV2_N_3_device_/job:localhost/replica:0/task:0/device:CPU:0}} ConcatOp : Ranks of all input tensors should match: shape[0] = [1,1,32] vs. shape[1] = [1,32] [Op:ConcatV2] name: concat\n\nCall arguments received by layer 'user_model_1' (type UserModel):\n  • inputs={'user_id': 'tf.Tensor(shape=(1,), dtype=string)', 'liked_tags': 'tf.Tensor(shape=(1, 178), dtype=string)', 'recipe_name': 'tf.Tensor(shape=(1,), dtype=string)', 'tags': 'tf.Tensor(shape=(1,), dtype=string)', 'unliked_tags': 'tf.Tensor(shape=(1, 1), dtype=string)'}"
          ]
        }
      ],
      "source": [
        "# Create a dataset with the user ID you want to test\n",
        "user_id_to_test = \"42\"\n",
        "test_user_dataset = {\n",
        "    \"user_id\": np.array(test_user[\"user_id\"]),\n",
        "    \"liked_tags\": np.array(test_user[\"liked_tags\"]),\n",
        "    \"recipe_name\": np.array([\"arriba baked winter squash mexican style\"], dtype=object),\n",
        "    \"tags\": np.array(test_user[\"tags\"]),\n",
        "    \"unliked_tags\": np.array(test_user[\"unliked_tags\"]),\n",
        "}\n",
        "\n",
        "# Use the model's retrieval task to get the top-k predictions\n",
        "_, recipe_embeddings = model(test_user_dataset)\n",
        "\n",
        "# Ensure recipe embeddings have the correct shape\n",
        "print(\"Shape of recipe embeddings:\", recipe_embeddings.shape)\n",
        "print(\"Dtype of recipe embeddings:\", recipe_embeddings.dtype)\n",
        "\n",
        "# Create a brute force index\n",
        "brute_force = tfrs.layers.factorized_top_k.BruteForce(model.user_model)\n",
        "\n",
        "# Build the index\n",
        "index = brute_force.index_from_dataset(\n",
        "    recipes.batch(100).map(\n",
        "        lambda x: (\n",
        "            x[\"recipe_id\"] +\"_\" + x[\"recipe_name\"],\n",
        "            tf.squeeze(model.recipe_model(x[\"recipe_name\"]), axis=1)  # Ensure this is 2D\n",
        "        )\n",
        "    )\n",
        ")\n",
        "\n",
        "# Reshape the recipe embeddings if necessary\n",
        "if len(recipe_embeddings.shape) == 1:\n",
        "    recipe_embeddings = tf.expand_dims(recipe_embeddings, axis=0)  # Reshape to (1, embedding_dim)\n",
        "print(\"Shape of reshaped recipe embeddings:\", recipe_embeddings.shape)\n",
        "\n",
        "recipe_embeddings_str = tf.strings.as_string(recipe_embeddings)\n",
        "_, titles = index(recipe_embeddings_str, k=10)\n",
        "\n",
        "print(f\"Top 10 recommendations for user {user_id_to_test}: {titles}\")"
      ]
    }
  ],
  "metadata": {
    "colab": {
      "provenance": []
    },
    "kernelspec": {
      "display_name": "Python 3",
      "name": "python3"
    },
    "language_info": {
      "codemirror_mode": {
        "name": "ipython",
        "version": 3
      },
      "file_extension": ".py",
      "mimetype": "text/x-python",
      "name": "python",
      "nbconvert_exporter": "python",
      "pygments_lexer": "ipython3",
      "version": "3.10.0"
    }
  },
  "nbformat": 4,
  "nbformat_minor": 0
}
