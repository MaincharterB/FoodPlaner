{
  "cells": [
    {
      "cell_type": "code",
      "execution_count": 1,
      "metadata": {
        "id": "2rptU6mxyaoP"
      },
      "outputs": [
        {
          "name": "stdout",
          "output_type": "stream",
          "text": [
            "WARNING:tensorflow:From C:\\Users\\azdanevy\\AppData\\Roaming\\Python\\Python310\\site-packages\\keras\\src\\losses.py:2976: The name tf.losses.sparse_softmax_cross_entropy is deprecated. Please use tf.compat.v1.losses.sparse_softmax_cross_entropy instead.\n",
            "\n"
          ]
        }
      ],
      "source": [
        "from typing import Dict, Text\n",
        "\n",
        "import numpy as np\n",
        "import tensorflow as tf\n",
        "import tensorflow_datasets as tfds\n",
        "import pandas as pd\n",
        "import tensorflow_recommenders as tfrs"
      ]
    },
    {
      "cell_type": "code",
      "execution_count": 2,
      "metadata": {},
      "outputs": [],
      "source": [
        "import os\n",
        "os.environ['TF_ENABLE_ONEDNN_OPTS'] = '0'"
      ]
    },
    {
      "cell_type": "markdown",
      "metadata": {
        "id": "16W1-BvjtVmz"
      },
      "source": [
        "Let's pretend we have 3 users:\n",
        "1. Clarissa is a vegetarian who is lactose intolerant. 🥝🍅\n",
        "2. Martin is an athlete who prefers meat dishes to vegetable dishes. 🍖🥩\n",
        "3. Stella - has no special preferences, eats mostly everything. 🍲🍠"
      ]
    },
    {
      "cell_type": "code",
      "execution_count": 3,
      "metadata": {
        "id": "FDNshkxJvR-U"
      },
      "outputs": [],
      "source": [
        "clarissa = {'id':'clr', 'prefers': ['vegetables', 'vegan', 'nomeat', 'vegetarian'], 'hates': ['meat', 'lactose']}\n",
        "martin = {'id':'mrt', 'prefers': 'meat', 'hates': 'vegetables'}\n",
        "stella = {'id':'stl', 'prefers': '', 'hates': ''}"
      ]
    },
    {
      "cell_type": "markdown",
      "metadata": {
        "id": "FS8T34Y4xNhX"
      },
      "source": [
        "We will additionally enter the factors Calories, Protein, Fat, Carbohydrates for our requirements. **(The numbers were taken at random and do not reflect proportions or recommendations - the numbers are just an example)**\n",
        "* Clarissa - 2000/100/60/120\n",
        "* Martin, 2600/150/100/328.\n",
        "* Stella - 2200/80/50/100"
      ]
    },
    {
      "cell_type": "code",
      "execution_count": 4,
      "metadata": {
        "id": "qoPCpCLMxUob"
      },
      "outputs": [],
      "source": [
        "def set_requirements(user, calories, proteins, fats, carbs):\n",
        "  user['calories'] = calories\n",
        "  user['proteins'] = proteins\n",
        "  user['fats'] = fats\n",
        "  user['carbs'] = carbs\n",
        "set_requirements(clarissa, 2000, 100, 60, 120)\n",
        "set_requirements(martin, 2600, 150, 100, 328)\n",
        "set_requirements(martin, 2200, 80, 50, 100)\n"
      ]
    },
    {
      "cell_type": "markdown",
      "metadata": {
        "id": "iFMln3jutPpe"
      },
      "source": [
        "# Data processing 📊"
      ]
    },
    {
      "cell_type": "markdown",
      "metadata": {
        "id": "yDHv_HGvzWkB"
      },
      "source": [
        "Loading recipes and user_interactions. Nutritions showed like:calories (#), total fat (PDV), sugar (PDV) , sodium (PDV) , protein (PDV) , saturated fat (PDV) , and carbohydrates (PDV)"
      ]
    },
    {
      "cell_type": "code",
      "execution_count": 5,
      "metadata": {
        "colab": {
          "base_uri": "https://localhost:8080/",
          "height": 293
        },
        "id": "1gVJ6QAiyXLz",
        "outputId": "0e6c0673-457a-4063-eaa5-b553ec30edc8"
      },
      "outputs": [
        {
          "data": {
            "text/html": [
              "<div>\n",
              "<style scoped>\n",
              "    .dataframe tbody tr th:only-of-type {\n",
              "        vertical-align: middle;\n",
              "    }\n",
              "\n",
              "    .dataframe tbody tr th {\n",
              "        vertical-align: top;\n",
              "    }\n",
              "\n",
              "    .dataframe thead th {\n",
              "        text-align: right;\n",
              "    }\n",
              "</style>\n",
              "<table border=\"1\" class=\"dataframe\">\n",
              "  <thead>\n",
              "    <tr style=\"text-align: right;\">\n",
              "      <th></th>\n",
              "      <th>name</th>\n",
              "      <th>id</th>\n",
              "      <th>minutes</th>\n",
              "      <th>contributor_id</th>\n",
              "      <th>submitted</th>\n",
              "      <th>tags</th>\n",
              "      <th>nutrition</th>\n",
              "      <th>n_steps</th>\n",
              "      <th>steps</th>\n",
              "      <th>description</th>\n",
              "      <th>ingredients</th>\n",
              "      <th>n_ingredients</th>\n",
              "    </tr>\n",
              "  </thead>\n",
              "  <tbody>\n",
              "    <tr>\n",
              "      <th>0</th>\n",
              "      <td>arriba   baked winter squash mexican style</td>\n",
              "      <td>137739</td>\n",
              "      <td>55</td>\n",
              "      <td>47892</td>\n",
              "      <td>2005-09-16</td>\n",
              "      <td>['60-minutes-or-less', 'time-to-make', 'course...</td>\n",
              "      <td>[51.5, 0.0, 13.0, 0.0, 2.0, 0.0, 4.0]</td>\n",
              "      <td>11</td>\n",
              "      <td>['make a choice and proceed with recipe', 'dep...</td>\n",
              "      <td>autumn is my favorite time of year to cook! th...</td>\n",
              "      <td>['winter squash', 'mexican seasoning', 'mixed ...</td>\n",
              "      <td>7</td>\n",
              "    </tr>\n",
              "    <tr>\n",
              "      <th>1</th>\n",
              "      <td>a bit different  breakfast pizza</td>\n",
              "      <td>31490</td>\n",
              "      <td>30</td>\n",
              "      <td>26278</td>\n",
              "      <td>2002-06-17</td>\n",
              "      <td>['30-minutes-or-less', 'time-to-make', 'course...</td>\n",
              "      <td>[173.4, 18.0, 0.0, 17.0, 22.0, 35.0, 1.0]</td>\n",
              "      <td>9</td>\n",
              "      <td>['preheat oven to 425 degrees f', 'press dough...</td>\n",
              "      <td>this recipe calls for the crust to be prebaked...</td>\n",
              "      <td>['prepared pizza crust', 'sausage patty', 'egg...</td>\n",
              "      <td>6</td>\n",
              "    </tr>\n",
              "    <tr>\n",
              "      <th>2</th>\n",
              "      <td>all in the kitchen  chili</td>\n",
              "      <td>112140</td>\n",
              "      <td>130</td>\n",
              "      <td>196586</td>\n",
              "      <td>2005-02-25</td>\n",
              "      <td>['time-to-make', 'course', 'preparation', 'mai...</td>\n",
              "      <td>[269.8, 22.0, 32.0, 48.0, 39.0, 27.0, 5.0]</td>\n",
              "      <td>6</td>\n",
              "      <td>['brown ground beef in large pot', 'add choppe...</td>\n",
              "      <td>this modified version of 'mom's' chili was a h...</td>\n",
              "      <td>['ground beef', 'yellow onions', 'diced tomato...</td>\n",
              "      <td>13</td>\n",
              "    </tr>\n",
              "    <tr>\n",
              "      <th>3</th>\n",
              "      <td>alouette  potatoes</td>\n",
              "      <td>59389</td>\n",
              "      <td>45</td>\n",
              "      <td>68585</td>\n",
              "      <td>2003-04-14</td>\n",
              "      <td>['60-minutes-or-less', 'time-to-make', 'course...</td>\n",
              "      <td>[368.1, 17.0, 10.0, 2.0, 14.0, 8.0, 20.0]</td>\n",
              "      <td>11</td>\n",
              "      <td>['place potatoes in a large pot of lightly sal...</td>\n",
              "      <td>this is a super easy, great tasting, make ahea...</td>\n",
              "      <td>['spreadable cheese with garlic and herbs', 'n...</td>\n",
              "      <td>11</td>\n",
              "    </tr>\n",
              "    <tr>\n",
              "      <th>4</th>\n",
              "      <td>amish  tomato ketchup  for canning</td>\n",
              "      <td>44061</td>\n",
              "      <td>190</td>\n",
              "      <td>41706</td>\n",
              "      <td>2002-10-25</td>\n",
              "      <td>['weeknight', 'time-to-make', 'course', 'main-...</td>\n",
              "      <td>[352.9, 1.0, 337.0, 23.0, 3.0, 0.0, 28.0]</td>\n",
              "      <td>5</td>\n",
              "      <td>['mix all ingredients&amp; boil for 2 1 / 2 hours ...</td>\n",
              "      <td>my dh's amish mother raised him on this recipe...</td>\n",
              "      <td>['tomato juice', 'apple cider vinegar', 'sugar...</td>\n",
              "      <td>8</td>\n",
              "    </tr>\n",
              "  </tbody>\n",
              "</table>\n",
              "</div>"
            ],
            "text/plain": [
              "                                         name      id  minutes  \\\n",
              "0  arriba   baked winter squash mexican style  137739       55   \n",
              "1            a bit different  breakfast pizza   31490       30   \n",
              "2                   all in the kitchen  chili  112140      130   \n",
              "3                          alouette  potatoes   59389       45   \n",
              "4          amish  tomato ketchup  for canning   44061      190   \n",
              "\n",
              "   contributor_id   submitted  \\\n",
              "0           47892  2005-09-16   \n",
              "1           26278  2002-06-17   \n",
              "2          196586  2005-02-25   \n",
              "3           68585  2003-04-14   \n",
              "4           41706  2002-10-25   \n",
              "\n",
              "                                                tags  \\\n",
              "0  ['60-minutes-or-less', 'time-to-make', 'course...   \n",
              "1  ['30-minutes-or-less', 'time-to-make', 'course...   \n",
              "2  ['time-to-make', 'course', 'preparation', 'mai...   \n",
              "3  ['60-minutes-or-less', 'time-to-make', 'course...   \n",
              "4  ['weeknight', 'time-to-make', 'course', 'main-...   \n",
              "\n",
              "                                    nutrition  n_steps  \\\n",
              "0       [51.5, 0.0, 13.0, 0.0, 2.0, 0.0, 4.0]       11   \n",
              "1   [173.4, 18.0, 0.0, 17.0, 22.0, 35.0, 1.0]        9   \n",
              "2  [269.8, 22.0, 32.0, 48.0, 39.0, 27.0, 5.0]        6   \n",
              "3   [368.1, 17.0, 10.0, 2.0, 14.0, 8.0, 20.0]       11   \n",
              "4   [352.9, 1.0, 337.0, 23.0, 3.0, 0.0, 28.0]        5   \n",
              "\n",
              "                                               steps  \\\n",
              "0  ['make a choice and proceed with recipe', 'dep...   \n",
              "1  ['preheat oven to 425 degrees f', 'press dough...   \n",
              "2  ['brown ground beef in large pot', 'add choppe...   \n",
              "3  ['place potatoes in a large pot of lightly sal...   \n",
              "4  ['mix all ingredients& boil for 2 1 / 2 hours ...   \n",
              "\n",
              "                                         description  \\\n",
              "0  autumn is my favorite time of year to cook! th...   \n",
              "1  this recipe calls for the crust to be prebaked...   \n",
              "2  this modified version of 'mom's' chili was a h...   \n",
              "3  this is a super easy, great tasting, make ahea...   \n",
              "4  my dh's amish mother raised him on this recipe...   \n",
              "\n",
              "                                         ingredients  n_ingredients  \n",
              "0  ['winter squash', 'mexican seasoning', 'mixed ...              7  \n",
              "1  ['prepared pizza crust', 'sausage patty', 'egg...              6  \n",
              "2  ['ground beef', 'yellow onions', 'diced tomato...             13  \n",
              "3  ['spreadable cheese with garlic and herbs', 'n...             11  \n",
              "4  ['tomato juice', 'apple cider vinegar', 'sugar...              8  "
            ]
          },
          "execution_count": 5,
          "metadata": {},
          "output_type": "execute_result"
        }
      ],
      "source": [
        "raw_recipes = pd.read_csv('./sample_data/RAW_recipes.csv')\n",
        "raw_interactions = pd.read_csv('./sample_data/RAW_interactions.csv')\n",
        "raw_recipes.head()"
      ]
    },
    {
      "cell_type": "markdown",
      "metadata": {
        "id": "9_z_pQgv4fvC"
      },
      "source": [
        "Merge data interactions with recipe infos"
      ]
    },
    {
      "cell_type": "code",
      "execution_count": 6,
      "metadata": {
        "colab": {
          "base_uri": "https://localhost:8080/",
          "height": 293
        },
        "id": "ahU35J7P31xt",
        "outputId": "f26e3ef4-cfee-4ecd-b0bd-44e31a36503b"
      },
      "outputs": [
        {
          "data": {
            "text/html": [
              "<div>\n",
              "<style scoped>\n",
              "    .dataframe tbody tr th:only-of-type {\n",
              "        vertical-align: middle;\n",
              "    }\n",
              "\n",
              "    .dataframe tbody tr th {\n",
              "        vertical-align: top;\n",
              "    }\n",
              "\n",
              "    .dataframe thead th {\n",
              "        text-align: right;\n",
              "    }\n",
              "</style>\n",
              "<table border=\"1\" class=\"dataframe\">\n",
              "  <thead>\n",
              "    <tr style=\"text-align: right;\">\n",
              "      <th></th>\n",
              "      <th>user_id</th>\n",
              "      <th>recipe_id</th>\n",
              "      <th>rating</th>\n",
              "      <th>recipe_name</th>\n",
              "      <th>tags</th>\n",
              "      <th>ingredients</th>\n",
              "    </tr>\n",
              "  </thead>\n",
              "  <tbody>\n",
              "    <tr>\n",
              "      <th>0</th>\n",
              "      <td>38094</td>\n",
              "      <td>40893</td>\n",
              "      <td>4</td>\n",
              "      <td>white bean   green chile pepper soup</td>\n",
              "      <td>['weeknight', 'time-to-make', 'course', 'main-...</td>\n",
              "      <td>['great northern beans', 'yellow onion', 'dice...</td>\n",
              "    </tr>\n",
              "    <tr>\n",
              "      <th>1</th>\n",
              "      <td>1293707</td>\n",
              "      <td>40893</td>\n",
              "      <td>5</td>\n",
              "      <td>white bean   green chile pepper soup</td>\n",
              "      <td>['weeknight', 'time-to-make', 'course', 'main-...</td>\n",
              "      <td>['great northern beans', 'yellow onion', 'dice...</td>\n",
              "    </tr>\n",
              "    <tr>\n",
              "      <th>2</th>\n",
              "      <td>8937</td>\n",
              "      <td>44394</td>\n",
              "      <td>4</td>\n",
              "      <td>devilicious cookie cake delights</td>\n",
              "      <td>['30-minutes-or-less', 'time-to-make', 'course...</td>\n",
              "      <td>[\"devil's food cake mix\", 'vegetable oil', 'eg...</td>\n",
              "    </tr>\n",
              "    <tr>\n",
              "      <th>3</th>\n",
              "      <td>126440</td>\n",
              "      <td>85009</td>\n",
              "      <td>5</td>\n",
              "      <td>baked potato toppings</td>\n",
              "      <td>['15-minutes-or-less', 'time-to-make', 'course...</td>\n",
              "      <td>['mayonnaise', 'salsa', 'cheddar cheese', 'ref...</td>\n",
              "    </tr>\n",
              "    <tr>\n",
              "      <th>4</th>\n",
              "      <td>57222</td>\n",
              "      <td>85009</td>\n",
              "      <td>5</td>\n",
              "      <td>baked potato toppings</td>\n",
              "      <td>['15-minutes-or-less', 'time-to-make', 'course...</td>\n",
              "      <td>['mayonnaise', 'salsa', 'cheddar cheese', 'ref...</td>\n",
              "    </tr>\n",
              "  </tbody>\n",
              "</table>\n",
              "</div>"
            ],
            "text/plain": [
              "   user_id  recipe_id  rating                           recipe_name  \\\n",
              "0    38094      40893       4  white bean   green chile pepper soup   \n",
              "1  1293707      40893       5  white bean   green chile pepper soup   \n",
              "2     8937      44394       4      devilicious cookie cake delights   \n",
              "3   126440      85009       5                 baked potato toppings   \n",
              "4    57222      85009       5                 baked potato toppings   \n",
              "\n",
              "                                                tags  \\\n",
              "0  ['weeknight', 'time-to-make', 'course', 'main-...   \n",
              "1  ['weeknight', 'time-to-make', 'course', 'main-...   \n",
              "2  ['30-minutes-or-less', 'time-to-make', 'course...   \n",
              "3  ['15-minutes-or-less', 'time-to-make', 'course...   \n",
              "4  ['15-minutes-or-less', 'time-to-make', 'course...   \n",
              "\n",
              "                                         ingredients  \n",
              "0  ['great northern beans', 'yellow onion', 'dice...  \n",
              "1  ['great northern beans', 'yellow onion', 'dice...  \n",
              "2  [\"devil's food cake mix\", 'vegetable oil', 'eg...  \n",
              "3  ['mayonnaise', 'salsa', 'cheddar cheese', 'ref...  \n",
              "4  ['mayonnaise', 'salsa', 'cheddar cheese', 'ref...  "
            ]
          },
          "execution_count": 6,
          "metadata": {},
          "output_type": "execute_result"
        }
      ],
      "source": [
        "interactions_with_recipe_info = pd.merge(raw_interactions, raw_recipes[['name', 'tags', 'ingredients', 'id']], left_on='recipe_id', right_on='id', how='left')\n",
        "interactions_with_recipe_info = interactions_with_recipe_info[['user_id', 'recipe_id', 'rating', 'name', 'tags', 'ingredients']]\n",
        "interactions_with_recipe_info.rename(columns={'name': 'recipe_name'}, inplace=True)\n",
        "interactions_with_recipe_info.head()"
      ]
    },
    {
      "cell_type": "code",
      "execution_count": 7,
      "metadata": {
        "id": "a47R5lVA2r_t"
      },
      "outputs": [],
      "source": [
        "import ast\n",
        "\n",
        "def convert_to_list(data_str):\n",
        "  try:\n",
        "    return ast.literal_eval(data_str)\n",
        "  except (SyntaxError, ValueError):\n",
        "    return []"
      ]
    },
    {
      "cell_type": "code",
      "execution_count": 8,
      "metadata": {
        "id": "Fai3Kw-i7xmw"
      },
      "outputs": [],
      "source": [
        "interactions_with_recipe_info['ingredients_str'] = interactions_with_recipe_info['ingredients'].apply(convert_to_list)\n",
        "interactions_with_recipe_info['tags_str'] = interactions_with_recipe_info['tags'].apply(convert_to_list)\n",
        "\n",
        "raw_recipes['ingredients_str'] = raw_recipes['ingredients'].apply(convert_to_list)\n",
        "raw_recipes['tags_str'] = raw_recipes['tags'].apply(convert_to_list)"
      ]
    },
    {
      "cell_type": "code",
      "execution_count": 9,
      "metadata": {},
      "outputs": [
        {
          "data": {
            "text/plain": [
              "array([ 9,  4, 13,  2, 12, 10, 16,  8, 14, 15,  7, 11,  6,  5, 23, 22, 17,\n",
              "        3, 18, 19, 21, 26, 29, 24, 20, 27, 25, 33, 30, 31,  1, 28, 35, 32,\n",
              "       34, 43, 40, 39, 37, 36, 38], dtype=int64)"
            ]
          },
          "execution_count": 9,
          "metadata": {},
          "output_type": "execute_result"
        }
      ],
      "source": [
        "interactions_with_recipe_info['ingredients_str'].str.len().unique()"
      ]
    },
    {
      "cell_type": "markdown",
      "metadata": {
        "id": "nVgYKJQ57wyE"
      },
      "source": [
        "Formatting data for Datasets"
      ]
    },
    {
      "cell_type": "code",
      "execution_count": 10,
      "metadata": {
        "id": "6wavCmee7zWl"
      },
      "outputs": [],
      "source": [
        "interactions_with_recipe_info['user_id'] = interactions_with_recipe_info.user_id.astype(\"str\")\n",
        "interactions_with_recipe_info['recipe_id'] = interactions_with_recipe_info.recipe_id.astype(\"str\")\n",
        "interactions_with_recipe_info['rating'] = interactions_with_recipe_info.rating.astype(np.float32)\n",
        "interactions_with_recipe_info['recipe_name'] = interactions_with_recipe_info.recipe_name.astype(\"str\")\n",
        "interactions_with_recipe_info['tags'] = interactions_with_recipe_info.tags.astype(\"str\")\n",
        "interactions_with_recipe_info['ingredients'] = interactions_with_recipe_info.ingredients.astype(\"str\")\n"
      ]
    },
    {
      "cell_type": "markdown",
      "metadata": {
        "id": "ZMXuOAHX9sgD"
      },
      "source": [
        "Creating train preferences for users"
      ]
    },
    {
      "cell_type": "code",
      "execution_count": 11,
      "metadata": {
        "colab": {
          "base_uri": "https://localhost:8080/",
          "height": 206
        },
        "id": "4XwFlxfM9wJI",
        "outputId": "c018cb40-8d45-400f-93bf-e5dc2ee5b992"
      },
      "outputs": [
        {
          "data": {
            "text/html": [
              "<div>\n",
              "<style scoped>\n",
              "    .dataframe tbody tr th:only-of-type {\n",
              "        vertical-align: middle;\n",
              "    }\n",
              "\n",
              "    .dataframe tbody tr th {\n",
              "        vertical-align: top;\n",
              "    }\n",
              "\n",
              "    .dataframe thead th {\n",
              "        text-align: right;\n",
              "    }\n",
              "</style>\n",
              "<table border=\"1\" class=\"dataframe\">\n",
              "  <thead>\n",
              "    <tr style=\"text-align: right;\">\n",
              "      <th></th>\n",
              "      <th>user_id</th>\n",
              "      <th>rating</th>\n",
              "      <th>tags_str</th>\n",
              "    </tr>\n",
              "  </thead>\n",
              "  <tbody>\n",
              "    <tr>\n",
              "      <th>0</th>\n",
              "      <td>38094</td>\n",
              "      <td>4.0</td>\n",
              "      <td>[weeknight, time-to-make, course, main-ingredi...</td>\n",
              "    </tr>\n",
              "    <tr>\n",
              "      <th>1</th>\n",
              "      <td>1293707</td>\n",
              "      <td>5.0</td>\n",
              "      <td>[weeknight, time-to-make, course, main-ingredi...</td>\n",
              "    </tr>\n",
              "    <tr>\n",
              "      <th>2</th>\n",
              "      <td>8937</td>\n",
              "      <td>4.0</td>\n",
              "      <td>[30-minutes-or-less, time-to-make, course, mai...</td>\n",
              "    </tr>\n",
              "    <tr>\n",
              "      <th>3</th>\n",
              "      <td>126440</td>\n",
              "      <td>5.0</td>\n",
              "      <td>[15-minutes-or-less, time-to-make, course, mai...</td>\n",
              "    </tr>\n",
              "    <tr>\n",
              "      <th>4</th>\n",
              "      <td>57222</td>\n",
              "      <td>5.0</td>\n",
              "      <td>[15-minutes-or-less, time-to-make, course, mai...</td>\n",
              "    </tr>\n",
              "  </tbody>\n",
              "</table>\n",
              "</div>"
            ],
            "text/plain": [
              "   user_id  rating                                           tags_str\n",
              "0    38094     4.0  [weeknight, time-to-make, course, main-ingredi...\n",
              "1  1293707     5.0  [weeknight, time-to-make, course, main-ingredi...\n",
              "2     8937     4.0  [30-minutes-or-less, time-to-make, course, mai...\n",
              "3   126440     5.0  [15-minutes-or-less, time-to-make, course, mai...\n",
              "4    57222     5.0  [15-minutes-or-less, time-to-make, course, mai..."
            ]
          },
          "execution_count": 11,
          "metadata": {},
          "output_type": "execute_result"
        }
      ],
      "source": [
        "user_preferences = interactions_with_recipe_info[['user_id', 'rating', 'tags_str']]\n",
        "user_preferences.head()"
      ]
    },
    {
      "cell_type": "code",
      "execution_count": 12,
      "metadata": {
        "id": "RN5oeRb--M5o"
      },
      "outputs": [],
      "source": [
        "user_liked_tags = user_preferences[user_preferences['rating'] >= 3].groupby('user_id')['tags_str'].apply(list).reset_index()\n",
        "user_unliked_tags = user_preferences[user_preferences['rating'] < 3].groupby('user_id')['tags_str'].apply(list).reset_index()\n",
        "users_ds = pd.DataFrame(interactions_with_recipe_info['user_id'].unique(), columns=['user_id'])\n"
      ]
    },
    {
      "cell_type": "code",
      "execution_count": 13,
      "metadata": {
        "id": "swe2hQ9dBZsI"
      },
      "outputs": [],
      "source": [
        "users_ds = users_ds.merge(user_liked_tags, on='user_id', how='left')\n",
        "users_ds = users_ds.rename(columns={'tags_str': 'liked_tags'})\n",
        "users_ds = users_ds.merge(user_unliked_tags, on='user_id', how='left')\n",
        "users_ds = users_ds.rename(columns={'tags_str': 'unliked_tags'})"
      ]
    },
    {
      "cell_type": "code",
      "execution_count": 14,
      "metadata": {
        "colab": {
          "base_uri": "https://localhost:8080/",
          "height": 206
        },
        "id": "M2fouB8BCOLp",
        "outputId": "f28b08de-b1ec-49c8-8dc9-6a88074c7444"
      },
      "outputs": [
        {
          "data": {
            "text/html": [
              "<div>\n",
              "<style scoped>\n",
              "    .dataframe tbody tr th:only-of-type {\n",
              "        vertical-align: middle;\n",
              "    }\n",
              "\n",
              "    .dataframe tbody tr th {\n",
              "        vertical-align: top;\n",
              "    }\n",
              "\n",
              "    .dataframe thead th {\n",
              "        text-align: right;\n",
              "    }\n",
              "</style>\n",
              "<table border=\"1\" class=\"dataframe\">\n",
              "  <thead>\n",
              "    <tr style=\"text-align: right;\">\n",
              "      <th></th>\n",
              "      <th>user_id</th>\n",
              "      <th>liked_tags</th>\n",
              "      <th>unliked_tags</th>\n",
              "    </tr>\n",
              "  </thead>\n",
              "  <tbody>\n",
              "    <tr>\n",
              "      <th>0</th>\n",
              "      <td>38094</td>\n",
              "      <td>[[weeknight, time-to-make, course, main-ingred...</td>\n",
              "      <td>NaN</td>\n",
              "    </tr>\n",
              "    <tr>\n",
              "      <th>1</th>\n",
              "      <td>1293707</td>\n",
              "      <td>[[weeknight, time-to-make, course, main-ingred...</td>\n",
              "      <td>[[60-minutes-or-less, time-to-make, course, ma...</td>\n",
              "    </tr>\n",
              "    <tr>\n",
              "      <th>2</th>\n",
              "      <td>8937</td>\n",
              "      <td>[[30-minutes-or-less, time-to-make, course, ma...</td>\n",
              "      <td>NaN</td>\n",
              "    </tr>\n",
              "    <tr>\n",
              "      <th>3</th>\n",
              "      <td>126440</td>\n",
              "      <td>[[15-minutes-or-less, time-to-make, course, ma...</td>\n",
              "      <td>[[60-minutes-or-less, time-to-make, course, pr...</td>\n",
              "    </tr>\n",
              "    <tr>\n",
              "      <th>4</th>\n",
              "      <td>57222</td>\n",
              "      <td>[[15-minutes-or-less, time-to-make, course, ma...</td>\n",
              "      <td>[[60-minutes-or-less, time-to-make, course, ma...</td>\n",
              "    </tr>\n",
              "  </tbody>\n",
              "</table>\n",
              "</div>"
            ],
            "text/plain": [
              "   user_id                                         liked_tags  \\\n",
              "0    38094  [[weeknight, time-to-make, course, main-ingred...   \n",
              "1  1293707  [[weeknight, time-to-make, course, main-ingred...   \n",
              "2     8937  [[30-minutes-or-less, time-to-make, course, ma...   \n",
              "3   126440  [[15-minutes-or-less, time-to-make, course, ma...   \n",
              "4    57222  [[15-minutes-or-less, time-to-make, course, ma...   \n",
              "\n",
              "                                        unliked_tags  \n",
              "0                                                NaN  \n",
              "1  [[60-minutes-or-less, time-to-make, course, ma...  \n",
              "2                                                NaN  \n",
              "3  [[60-minutes-or-less, time-to-make, course, pr...  \n",
              "4  [[60-minutes-or-less, time-to-make, course, ma...  "
            ]
          },
          "execution_count": 14,
          "metadata": {},
          "output_type": "execute_result"
        }
      ],
      "source": [
        "users_ds.head()"
      ]
    },
    {
      "cell_type": "markdown",
      "metadata": {
        "id": "O9knZ5NNC1C0"
      },
      "source": [
        "Looking that some of users don't have unliked_tags, so replace all Nan with empty arrays"
      ]
    },
    {
      "cell_type": "code",
      "execution_count": 15,
      "metadata": {
        "id": "eZUt0mAcDLVQ"
      },
      "outputs": [],
      "source": [
        "def unique_tags_in_list(tags_list):\n",
        "  if isinstance(tags_list, list):\n",
        "    unique_tags = []\n",
        "    for sublist in tags_list:\n",
        "      if isinstance(sublist, list):\n",
        "        for tag in sublist:\n",
        "          if tag not in unique_tags:\n",
        "            unique_tags.append(tag)\n",
        "    return unique_tags\n",
        "  else:\n",
        "    return []\n",
        "\n",
        "users_ds['liked_tags'] = users_ds['liked_tags'].apply(unique_tags_in_list)\n",
        "users_ds['unliked_tags'] = users_ds['unliked_tags'].apply(unique_tags_in_list)"
      ]
    },
    {
      "cell_type": "code",
      "execution_count": 16,
      "metadata": {
        "id": "OpuGJ1nTFoVR"
      },
      "outputs": [],
      "source": [
        "def remove_duplicate_tags(row):\n",
        "  liked_tags = set(row['liked_tags']) if isinstance(row['liked_tags'], list) else set()\n",
        "  unliked_tags = set(row['unliked_tags']) if isinstance(row['unliked_tags'], list) else set()\n",
        "  duplicate_tags = liked_tags.intersection(unliked_tags)\n",
        "  row['liked_tags'] = [tag for tag in row['liked_tags'] if tag not in duplicate_tags] if isinstance(row['liked_tags'], list) else []\n",
        "  row['unliked_tags'] = [tag for tag in row['unliked_tags'] if tag not in duplicate_tags] if isinstance(row['unliked_tags'], list) else []\n",
        "  return row\n",
        "\n",
        "users_ds = users_ds.apply(remove_duplicate_tags, axis=1)\n"
      ]
    },
    {
      "cell_type": "code",
      "execution_count": 17,
      "metadata": {
        "colab": {
          "base_uri": "https://localhost:8080/",
          "height": 206
        },
        "id": "9qRO0tcMF9-X",
        "outputId": "bdbccbcd-2a5f-48c4-a981-76a5231cc610"
      },
      "outputs": [
        {
          "data": {
            "text/html": [
              "<div>\n",
              "<style scoped>\n",
              "    .dataframe tbody tr th:only-of-type {\n",
              "        vertical-align: middle;\n",
              "    }\n",
              "\n",
              "    .dataframe tbody tr th {\n",
              "        vertical-align: top;\n",
              "    }\n",
              "\n",
              "    .dataframe thead th {\n",
              "        text-align: right;\n",
              "    }\n",
              "</style>\n",
              "<table border=\"1\" class=\"dataframe\">\n",
              "  <thead>\n",
              "    <tr style=\"text-align: right;\">\n",
              "      <th></th>\n",
              "      <th>user_id</th>\n",
              "      <th>liked_tags</th>\n",
              "      <th>unliked_tags</th>\n",
              "    </tr>\n",
              "  </thead>\n",
              "  <tbody>\n",
              "    <tr>\n",
              "      <th>0</th>\n",
              "      <td>38094</td>\n",
              "      <td>[weeknight, time-to-make, course, main-ingredi...</td>\n",
              "      <td>[]</td>\n",
              "    </tr>\n",
              "    <tr>\n",
              "      <th>1</th>\n",
              "      <td>1293707</td>\n",
              "      <td>[weeknight, soups-stews, beans, crock-pot-slow...</td>\n",
              "      <td>[cupcakes, finger-food, cakes, english, cake-f...</td>\n",
              "    </tr>\n",
              "    <tr>\n",
              "      <th>2</th>\n",
              "      <td>8937</td>\n",
              "      <td>[30-minutes-or-less, time-to-make, course, mai...</td>\n",
              "      <td>[]</td>\n",
              "    </tr>\n",
              "    <tr>\n",
              "      <th>3</th>\n",
              "      <td>126440</td>\n",
              "      <td>[15-minutes-or-less, 3-steps-or-less, jewish-s...</td>\n",
              "      <td>[]</td>\n",
              "    </tr>\n",
              "    <tr>\n",
              "      <th>4</th>\n",
              "      <td>57222</td>\n",
              "      <td>[condiments-etc, salads, beans, grains, south-...</td>\n",
              "      <td>[kwanzaa, dairy-free]</td>\n",
              "    </tr>\n",
              "  </tbody>\n",
              "</table>\n",
              "</div>"
            ],
            "text/plain": [
              "   user_id                                         liked_tags  \\\n",
              "0    38094  [weeknight, time-to-make, course, main-ingredi...   \n",
              "1  1293707  [weeknight, soups-stews, beans, crock-pot-slow...   \n",
              "2     8937  [30-minutes-or-less, time-to-make, course, mai...   \n",
              "3   126440  [15-minutes-or-less, 3-steps-or-less, jewish-s...   \n",
              "4    57222  [condiments-etc, salads, beans, grains, south-...   \n",
              "\n",
              "                                        unliked_tags  \n",
              "0                                                 []  \n",
              "1  [cupcakes, finger-food, cakes, english, cake-f...  \n",
              "2                                                 []  \n",
              "3                                                 []  \n",
              "4                              [kwanzaa, dairy-free]  "
            ]
          },
          "execution_count": 17,
          "metadata": {},
          "output_type": "execute_result"
        }
      ],
      "source": [
        "users_ds.head()"
      ]
    },
    {
      "cell_type": "code",
      "execution_count": 18,
      "metadata": {
        "id": "GjbluG3mGqXq"
      },
      "outputs": [],
      "source": [
        "interactions_with_recipe_info = pd.merge(interactions_with_recipe_info, users_ds, on='user_id', how='left')"
      ]
    },
    {
      "cell_type": "markdown",
      "metadata": {
        "id": "nzycE1Re7X9i"
      },
      "source": [
        "Creating datasets"
      ]
    },
    {
      "cell_type": "code",
      "execution_count": 19,
      "metadata": {},
      "outputs": [],
      "source": [
        "# Параметры\n",
        "MAX_TAG_LENGTH = 30\n",
        "PADDING_VALUE = \"empty\"\n",
        "\n",
        "interactions_with_recipe_info['liked_tags'] = [\n",
        "    (tags + [PADDING_VALUE] * (MAX_TAG_LENGTH - len(tags)))[:MAX_TAG_LENGTH] \n",
        "    for tags in interactions_with_recipe_info['liked_tags']\n",
        "]\n",
        "interactions_with_recipe_info['unliked_tags'] = [\n",
        "    (tags + [PADDING_VALUE] * (MAX_TAG_LENGTH - len(tags)))[:MAX_TAG_LENGTH] \n",
        "    for tags in interactions_with_recipe_info['unliked_tags']\n",
        "]\n",
        "interactions_with_recipe_info['ingredients_str'] =  [\n",
        "    (tags + [PADDING_VALUE] * (MAX_TAG_LENGTH - len(tags)))[:MAX_TAG_LENGTH] \n",
        "    for tags in interactions_with_recipe_info['ingredients_str'] ]\n",
        "\n",
        "interactions_with_recipe_info['tags_str'] =  [\n",
        "    (tags + [PADDING_VALUE] * (MAX_TAG_LENGTH - len(tags)))[:MAX_TAG_LENGTH] \n",
        "    for tags in interactions_with_recipe_info['tags_str'] ]\n",
        "\n",
        "raw_recipes['tags_str'] = [\n",
        "    (tags + [PADDING_VALUE] * (MAX_TAG_LENGTH - len(tags)))[:MAX_TAG_LENGTH] \n",
        "    for tags in raw_recipes['tags_str'] ]\n",
        "\n",
        "raw_recipes['ingredients_str'] = [\n",
        "    (tags + [PADDING_VALUE] * (MAX_TAG_LENGTH - len(tags)))[:MAX_TAG_LENGTH] \n",
        "    for tags in raw_recipes['ingredients_str'] ]"
      ]
    },
    {
      "cell_type": "code",
      "execution_count": 20,
      "metadata": {},
      "outputs": [
        {
          "data": {
            "text/plain": [
              "(array([30], dtype=int64), array([30], dtype=int64))"
            ]
          },
          "execution_count": 20,
          "metadata": {},
          "output_type": "execute_result"
        }
      ],
      "source": [
        "interactions_with_recipe_info['ingredients_str'].str.len().unique(), interactions_with_recipe_info['unliked_tags'].str.len().unique(), "
      ]
    },
    {
      "cell_type": "code",
      "execution_count": 21,
      "metadata": {
        "id": "aZMJRewvLYJb"
      },
      "outputs": [],
      "source": [
        "interactions_with_recipe_info['liked_tags_str'] = interactions_with_recipe_info['liked_tags'].apply(lambda x: ','.join(x))\n",
        "interactions_with_recipe_info['unliked_tags_str'] = interactions_with_recipe_info['unliked_tags'].apply(lambda x: ','.join(x))\n",
        "interactions_with_recipe_info['tags_str'] = interactions_with_recipe_info['tags_str'].apply(lambda x: ','.join(x))"
      ]
    },
    {
      "cell_type": "code",
      "execution_count": 22,
      "metadata": {
        "id": "2l72F9aCLw46"
      },
      "outputs": [],
      "source": [
        "def split_tags(tags_string):\n",
        "    return tf.strings.split(tf.strings.strip(tags_string), ',')"
      ]
    },
    {
      "cell_type": "code",
      "execution_count": 23,
      "metadata": {},
      "outputs": [
        {
          "name": "stdout",
          "output_type": "stream",
          "text": [
            "WARNING:tensorflow:From C:\\Users\\azdanevy\\AppData\\Local\\Temp\\ipykernel_17264\\1112888837.py:1: The name tf.enable_eager_execution is deprecated. Please use tf.compat.v1.enable_eager_execution instead.\n",
            "\n"
          ]
        }
      ],
      "source": [
        "tf.compat.v1.enable_eager_execution()"
      ]
    },
    {
      "cell_type": "code",
      "execution_count": 24,
      "metadata": {
        "id": "1QwBdlgU7Xms"
      },
      "outputs": [],
      "source": [
        "def squeeze_tags(data):\n",
        "    return {\n",
        "        \"user_id\": data[\"user_id\"],\n",
        "        \"recipe_id\": data[\"recipe_id\"],\n",
        "        \"rating\": data[\"rating\"],\n",
        "        \"recipe_name\": data[\"recipe_name\"],\n",
        "        \"tags\": tf.squeeze(data[\"tags\"], axis=0),  # Укажите ось, которую нужно удалить\n",
        "        \"liked_tags\": tf.squeeze(data[\"liked_tags\"], axis=0),  # Укажите ось, которую нужно удалить\n",
        "        \"unliked_tags\": tf.squeeze(data[\"unliked_tags\"], axis=0)  # Укажите ось, которую нужно удалить\n",
        "    }\n",
        "\n",
        "ratings = tf.data.Dataset.from_tensor_slices((tf.cast(interactions_with_recipe_info['user_id'].values, tf.string),\n",
        "                                              tf.cast(interactions_with_recipe_info['recipe_id'].values, tf.string),\n",
        "                                              tf.cast(interactions_with_recipe_info['rating'].values, tf.float32),\n",
        "                                              tf.cast(interactions_with_recipe_info['recipe_name'].values, tf.string),\n",
        "                                              tf.cast(interactions_with_recipe_info['tags_str'].values.reshape(-1,1), tf.string),\n",
        "                                              tf.cast(interactions_with_recipe_info['liked_tags_str'].values.reshape(-1,1), tf.string),\n",
        "                                              tf.cast(interactions_with_recipe_info['unliked_tags_str'].values.reshape(-1,1), tf.string)\n",
        "                                              )).map(lambda x, x1, x2, x3, x4, x5, x6: {\n",
        "                                                  \"user_id\": x,\n",
        "                                                  \"recipe_id\": x1,\n",
        "                                                  \"rating\": x2,\n",
        "                                                  \"recipe_name\": x3,\n",
        "                                                  \"tags\": split_tags(x4),\n",
        "                                                  \"liked_tags\": split_tags(x5),\n",
        "                                                  \"unliked_tags\": split_tags(x6)\n",
        "                                              }).map(squeeze_tags)\n"
      ]
    },
    {
      "cell_type": "code",
      "execution_count": 25,
      "metadata": {},
      "outputs": [
        {
          "name": "stdout",
          "output_type": "stream",
          "text": [
            "{'user_id': b'38094', 'recipe_id': b'40893', 'rating': 4.0, 'recipe_name': b'white bean   green chile pepper soup', 'tags': array([b'weeknight', b'time-to-make', b'course', b'main-ingredient',\n",
            "       b'preparation', b'occasion', b'soups-stews', b'beans',\n",
            "       b'vegetables', b'easy', b'crock-pot-slow-cooker', b'dietary',\n",
            "       b'equipment', b'empty', b'empty', b'empty', b'empty', b'empty',\n",
            "       b'empty', b'empty', b'empty', b'empty', b'empty', b'empty',\n",
            "       b'empty', b'empty', b'empty', b'empty', b'empty', b'empty'],\n",
            "      dtype=object), 'liked_tags': array([b'weeknight', b'time-to-make', b'course', b'main-ingredient',\n",
            "       b'preparation', b'occasion', b'soups-stews', b'beans',\n",
            "       b'vegetables', b'easy', b'crock-pot-slow-cooker', b'dietary',\n",
            "       b'equipment', b'60-minutes-or-less', b'main-dish', b'fruit',\n",
            "       b'vegan', b'vegetarian', b'stove-top', b'black-beans',\n",
            "       b'30-minutes-or-less', b'low-protein', b'salads', b'dinner-party',\n",
            "       b'low-cholesterol', b'low-carb', b'healthy-2', b'low-in-something',\n",
            "       b'for-1-or-2', b'side-dishes'], dtype=object), 'unliked_tags': array([b'empty', b'empty', b'empty', b'empty', b'empty', b'empty',\n",
            "       b'empty', b'empty', b'empty', b'empty', b'empty', b'empty',\n",
            "       b'empty', b'empty', b'empty', b'empty', b'empty', b'empty',\n",
            "       b'empty', b'empty', b'empty', b'empty', b'empty', b'empty',\n",
            "       b'empty', b'empty', b'empty', b'empty', b'empty', b'empty'],\n",
            "      dtype=object)}\n"
          ]
        }
      ],
      "source": [
        "for data in ratings.take(1).as_numpy_iterator():\n",
        "    print(data)"
      ]
    },
    {
      "cell_type": "code",
      "execution_count": 26,
      "metadata": {
        "id": "8MS4nMhHMDgp"
      },
      "outputs": [],
      "source": [
        "raw_recipes['ingredients_str'] = raw_recipes['ingredients_str'].apply(lambda x: ','.join(x))\n",
        "raw_recipes['tags_str'] = raw_recipes['tags_str'].apply(lambda x: ','.join(x))"
      ]
    },
    {
      "cell_type": "code",
      "execution_count": 27,
      "metadata": {
        "colab": {
          "base_uri": "https://localhost:8080/",
          "height": 293
        },
        "id": "rqtiorEQMH8R",
        "outputId": "0cb1b61d-3171-4534-ec3b-1a6d617531ed"
      },
      "outputs": [
        {
          "data": {
            "text/html": [
              "<div>\n",
              "<style scoped>\n",
              "    .dataframe tbody tr th:only-of-type {\n",
              "        vertical-align: middle;\n",
              "    }\n",
              "\n",
              "    .dataframe tbody tr th {\n",
              "        vertical-align: top;\n",
              "    }\n",
              "\n",
              "    .dataframe thead th {\n",
              "        text-align: right;\n",
              "    }\n",
              "</style>\n",
              "<table border=\"1\" class=\"dataframe\">\n",
              "  <thead>\n",
              "    <tr style=\"text-align: right;\">\n",
              "      <th></th>\n",
              "      <th>name</th>\n",
              "      <th>id</th>\n",
              "      <th>minutes</th>\n",
              "      <th>contributor_id</th>\n",
              "      <th>submitted</th>\n",
              "      <th>tags</th>\n",
              "      <th>nutrition</th>\n",
              "      <th>n_steps</th>\n",
              "      <th>steps</th>\n",
              "      <th>description</th>\n",
              "      <th>ingredients</th>\n",
              "      <th>n_ingredients</th>\n",
              "      <th>ingredients_str</th>\n",
              "      <th>tags_str</th>\n",
              "    </tr>\n",
              "  </thead>\n",
              "  <tbody>\n",
              "    <tr>\n",
              "      <th>0</th>\n",
              "      <td>arriba   baked winter squash mexican style</td>\n",
              "      <td>137739</td>\n",
              "      <td>55</td>\n",
              "      <td>47892</td>\n",
              "      <td>2005-09-16</td>\n",
              "      <td>['60-minutes-or-less', 'time-to-make', 'course...</td>\n",
              "      <td>[51.5, 0.0, 13.0, 0.0, 2.0, 0.0, 4.0]</td>\n",
              "      <td>11</td>\n",
              "      <td>['make a choice and proceed with recipe', 'dep...</td>\n",
              "      <td>autumn is my favorite time of year to cook! th...</td>\n",
              "      <td>['winter squash', 'mexican seasoning', 'mixed ...</td>\n",
              "      <td>7</td>\n",
              "      <td>winter squash,mexican seasoning,mixed spice,ho...</td>\n",
              "      <td>60-minutes-or-less,time-to-make,course,main-in...</td>\n",
              "    </tr>\n",
              "    <tr>\n",
              "      <th>1</th>\n",
              "      <td>a bit different  breakfast pizza</td>\n",
              "      <td>31490</td>\n",
              "      <td>30</td>\n",
              "      <td>26278</td>\n",
              "      <td>2002-06-17</td>\n",
              "      <td>['30-minutes-or-less', 'time-to-make', 'course...</td>\n",
              "      <td>[173.4, 18.0, 0.0, 17.0, 22.0, 35.0, 1.0]</td>\n",
              "      <td>9</td>\n",
              "      <td>['preheat oven to 425 degrees f', 'press dough...</td>\n",
              "      <td>this recipe calls for the crust to be prebaked...</td>\n",
              "      <td>['prepared pizza crust', 'sausage patty', 'egg...</td>\n",
              "      <td>6</td>\n",
              "      <td>prepared pizza crust,sausage patty,eggs,milk,s...</td>\n",
              "      <td>30-minutes-or-less,time-to-make,course,main-in...</td>\n",
              "    </tr>\n",
              "    <tr>\n",
              "      <th>2</th>\n",
              "      <td>all in the kitchen  chili</td>\n",
              "      <td>112140</td>\n",
              "      <td>130</td>\n",
              "      <td>196586</td>\n",
              "      <td>2005-02-25</td>\n",
              "      <td>['time-to-make', 'course', 'preparation', 'mai...</td>\n",
              "      <td>[269.8, 22.0, 32.0, 48.0, 39.0, 27.0, 5.0]</td>\n",
              "      <td>6</td>\n",
              "      <td>['brown ground beef in large pot', 'add choppe...</td>\n",
              "      <td>this modified version of 'mom's' chili was a h...</td>\n",
              "      <td>['ground beef', 'yellow onions', 'diced tomato...</td>\n",
              "      <td>13</td>\n",
              "      <td>ground beef,yellow onions,diced tomatoes,tomat...</td>\n",
              "      <td>time-to-make,course,preparation,main-dish,chil...</td>\n",
              "    </tr>\n",
              "    <tr>\n",
              "      <th>3</th>\n",
              "      <td>alouette  potatoes</td>\n",
              "      <td>59389</td>\n",
              "      <td>45</td>\n",
              "      <td>68585</td>\n",
              "      <td>2003-04-14</td>\n",
              "      <td>['60-minutes-or-less', 'time-to-make', 'course...</td>\n",
              "      <td>[368.1, 17.0, 10.0, 2.0, 14.0, 8.0, 20.0]</td>\n",
              "      <td>11</td>\n",
              "      <td>['place potatoes in a large pot of lightly sal...</td>\n",
              "      <td>this is a super easy, great tasting, make ahea...</td>\n",
              "      <td>['spreadable cheese with garlic and herbs', 'n...</td>\n",
              "      <td>11</td>\n",
              "      <td>spreadable cheese with garlic and herbs,new po...</td>\n",
              "      <td>60-minutes-or-less,time-to-make,course,main-in...</td>\n",
              "    </tr>\n",
              "    <tr>\n",
              "      <th>4</th>\n",
              "      <td>amish  tomato ketchup  for canning</td>\n",
              "      <td>44061</td>\n",
              "      <td>190</td>\n",
              "      <td>41706</td>\n",
              "      <td>2002-10-25</td>\n",
              "      <td>['weeknight', 'time-to-make', 'course', 'main-...</td>\n",
              "      <td>[352.9, 1.0, 337.0, 23.0, 3.0, 0.0, 28.0]</td>\n",
              "      <td>5</td>\n",
              "      <td>['mix all ingredients&amp; boil for 2 1 / 2 hours ...</td>\n",
              "      <td>my dh's amish mother raised him on this recipe...</td>\n",
              "      <td>['tomato juice', 'apple cider vinegar', 'sugar...</td>\n",
              "      <td>8</td>\n",
              "      <td>tomato juice,apple cider vinegar,sugar,salt,pe...</td>\n",
              "      <td>weeknight,time-to-make,course,main-ingredient,...</td>\n",
              "    </tr>\n",
              "  </tbody>\n",
              "</table>\n",
              "</div>"
            ],
            "text/plain": [
              "                                         name      id  minutes  \\\n",
              "0  arriba   baked winter squash mexican style  137739       55   \n",
              "1            a bit different  breakfast pizza   31490       30   \n",
              "2                   all in the kitchen  chili  112140      130   \n",
              "3                          alouette  potatoes   59389       45   \n",
              "4          amish  tomato ketchup  for canning   44061      190   \n",
              "\n",
              "   contributor_id   submitted  \\\n",
              "0           47892  2005-09-16   \n",
              "1           26278  2002-06-17   \n",
              "2          196586  2005-02-25   \n",
              "3           68585  2003-04-14   \n",
              "4           41706  2002-10-25   \n",
              "\n",
              "                                                tags  \\\n",
              "0  ['60-minutes-or-less', 'time-to-make', 'course...   \n",
              "1  ['30-minutes-or-less', 'time-to-make', 'course...   \n",
              "2  ['time-to-make', 'course', 'preparation', 'mai...   \n",
              "3  ['60-minutes-or-less', 'time-to-make', 'course...   \n",
              "4  ['weeknight', 'time-to-make', 'course', 'main-...   \n",
              "\n",
              "                                    nutrition  n_steps  \\\n",
              "0       [51.5, 0.0, 13.0, 0.0, 2.0, 0.0, 4.0]       11   \n",
              "1   [173.4, 18.0, 0.0, 17.0, 22.0, 35.0, 1.0]        9   \n",
              "2  [269.8, 22.0, 32.0, 48.0, 39.0, 27.0, 5.0]        6   \n",
              "3   [368.1, 17.0, 10.0, 2.0, 14.0, 8.0, 20.0]       11   \n",
              "4   [352.9, 1.0, 337.0, 23.0, 3.0, 0.0, 28.0]        5   \n",
              "\n",
              "                                               steps  \\\n",
              "0  ['make a choice and proceed with recipe', 'dep...   \n",
              "1  ['preheat oven to 425 degrees f', 'press dough...   \n",
              "2  ['brown ground beef in large pot', 'add choppe...   \n",
              "3  ['place potatoes in a large pot of lightly sal...   \n",
              "4  ['mix all ingredients& boil for 2 1 / 2 hours ...   \n",
              "\n",
              "                                         description  \\\n",
              "0  autumn is my favorite time of year to cook! th...   \n",
              "1  this recipe calls for the crust to be prebaked...   \n",
              "2  this modified version of 'mom's' chili was a h...   \n",
              "3  this is a super easy, great tasting, make ahea...   \n",
              "4  my dh's amish mother raised him on this recipe...   \n",
              "\n",
              "                                         ingredients  n_ingredients  \\\n",
              "0  ['winter squash', 'mexican seasoning', 'mixed ...              7   \n",
              "1  ['prepared pizza crust', 'sausage patty', 'egg...              6   \n",
              "2  ['ground beef', 'yellow onions', 'diced tomato...             13   \n",
              "3  ['spreadable cheese with garlic and herbs', 'n...             11   \n",
              "4  ['tomato juice', 'apple cider vinegar', 'sugar...              8   \n",
              "\n",
              "                                     ingredients_str  \\\n",
              "0  winter squash,mexican seasoning,mixed spice,ho...   \n",
              "1  prepared pizza crust,sausage patty,eggs,milk,s...   \n",
              "2  ground beef,yellow onions,diced tomatoes,tomat...   \n",
              "3  spreadable cheese with garlic and herbs,new po...   \n",
              "4  tomato juice,apple cider vinegar,sugar,salt,pe...   \n",
              "\n",
              "                                            tags_str  \n",
              "0  60-minutes-or-less,time-to-make,course,main-in...  \n",
              "1  30-minutes-or-less,time-to-make,course,main-in...  \n",
              "2  time-to-make,course,preparation,main-dish,chil...  \n",
              "3  60-minutes-or-less,time-to-make,course,main-in...  \n",
              "4  weeknight,time-to-make,course,main-ingredient,...  "
            ]
          },
          "execution_count": 27,
          "metadata": {},
          "output_type": "execute_result"
        }
      ],
      "source": [
        "raw_recipes.head()"
      ]
    },
    {
      "cell_type": "code",
      "execution_count": 28,
      "metadata": {
        "id": "i8HzpEQW_YZw"
      },
      "outputs": [],
      "source": [
        "raw_recipes['id'] = raw_recipes.id.astype(\"str\")\n",
        "raw_recipes['name'] = raw_recipes.name.astype(\"str\")\n",
        "raw_recipes['tags'] = raw_recipes.tags.astype(\"str\")\n",
        "raw_recipes['ingredients'] = raw_recipes.ingredients.astype(\"str\")"
      ]
    },
    {
      "cell_type": "code",
      "execution_count": 29,
      "metadata": {},
      "outputs": [
        {
          "data": {
            "text/plain": [
              "0    arriba   baked winter squash mexican style\n",
              "Name: name, dtype: object"
            ]
          },
          "execution_count": 29,
          "metadata": {},
          "output_type": "execute_result"
        }
      ],
      "source": [
        "raw_recipes['name'][:1]"
      ]
    },
    {
      "cell_type": "code",
      "execution_count": 31,
      "metadata": {
        "colab": {
          "base_uri": "https://localhost:8080/"
        },
        "id": "PvNaaXXCPzK2",
        "outputId": "d096fdf6-825f-4105-b630-1f8c0d177652"
      },
      "outputs": [],
      "source": [
        "# prompt: Создай на основе raw_recipes датасет, но учти что ingredients_str это массив\n",
        "\n",
        "recipes = tf.data.Dataset.from_tensor_slices((tf.cast(raw_recipes['id'].values, tf.string),\n",
        "                                              tf.cast(raw_recipes['name'].values, tf.string),\n",
        "                                              tf.cast(raw_recipes['tags_str'].values.reshape(-1, 1), tf.string)\n",
        "                                            #   tf.cast(raw_recipes['ingredients_str'].values.reshape(-1, 1), tf.string),\n",
        "                                              )\n",
        "                                             ).map(lambda x, x1, x2: {\n",
        "                                                  \"recipe_id\": x,\n",
        "                                                  \"recipe_name\": x1,\n",
        "                                                  \"tags\": split_tags(x2),\n",
        "                                                #   \"ingredients\": split_tags(x3)\n",
        "                                              }).map(lambda data: {\n",
        "        **data,\n",
        "        \"tags\": tf.squeeze(data[\"tags\"], axis=0)  # Удаляем дополнительные измерения\n",
        "        # \"ingredients\": tf.squeeze(data[\"ingredients\"], axis=0)  # Удаляем дополнительные измерения\n",
        "    })\n",
        "\n"
      ]
    },
    {
      "cell_type": "code",
      "execution_count": 32,
      "metadata": {},
      "outputs": [
        {
          "name": "stdout",
          "output_type": "stream",
          "text": [
            "[30]\n"
          ]
        }
      ],
      "source": [
        "sizes = []\n",
        "for data in recipes.as_numpy_iterator():\n",
        "  sizes.append(len(data[\"tags\"]))\n",
        "print(np.unique(sizes))  "
      ]
    },
    {
      "cell_type": "code",
      "execution_count": 33,
      "metadata": {
        "id": "jxTLSUjNgCLs"
      },
      "outputs": [],
      "source": [
        "recipe_names = tf.data.Dataset.from_tensor_slices((tf.cast(raw_recipes['name'].values.reshape(-1, 1), tf.string))).map(lambda x: x)"
      ]
    },
    {
      "cell_type": "markdown",
      "metadata": {
        "id": "3L-UtJ6K5N2B"
      },
      "source": [
        "# Towers 🗼"
      ]
    },
    {
      "cell_type": "markdown",
      "metadata": {
        "id": "oWGCI8IYBx3Z"
      },
      "source": [
        "For our towers set dimensionality of the query and candidate representations: **32**. Higher values will correspond to models that may be more accurate, but will also be slower to fit and more prone to overfitting."
      ]
    },
    {
      "cell_type": "code",
      "execution_count": 34,
      "metadata": {
        "id": "8H35ROAtB2L2"
      },
      "outputs": [],
      "source": [
        "embedding_dimension = 32"
      ]
    },
    {
      "cell_type": "markdown",
      "metadata": {
        "id": "UGLl4NdNBHoH"
      },
      "source": [
        "## User tower 👷"
      ]
    },
    {
      "cell_type": "markdown",
      "metadata": {
        "id": "S_w7g9Se6Lk_"
      },
      "source": [
        "Lets start creating our towers with User towers. We will compute by:\n",
        "1. User id\n",
        "2. Prefers and hates"
      ]
    },
    {
      "cell_type": "markdown",
      "metadata": {
        "id": "O0pr_riLBCKa"
      },
      "source": [
        "### User ID model"
      ]
    },
    {
      "cell_type": "code",
      "execution_count": 35,
      "metadata": {
        "colab": {
          "base_uri": "https://localhost:8080/"
        },
        "id": "IVERCEAMPPbE",
        "outputId": "e2631cda-7833-44b7-b005-542bb5f24933"
      },
      "outputs": [
        {
          "data": {
            "text/plain": [
              "array(['38094', '1293707', '8937', '126440', '57222', '52282', '124416',\n",
              "       '2000192946', '76535', '273745'], dtype=object)"
            ]
          },
          "execution_count": 35,
          "metadata": {},
          "output_type": "execute_result"
        }
      ],
      "source": [
        "unique_user_ids = users_ds[\"user_id\"].unique()\n",
        "unique_user_ids[:10]"
      ]
    },
    {
      "cell_type": "code",
      "execution_count": 36,
      "metadata": {
        "id": "4DU-YbghCPJx"
      },
      "outputs": [
        {
          "name": "stdout",
          "output_type": "stream",
          "text": [
            "WARNING:tensorflow:From C:\\Users\\azdanevy\\AppData\\Roaming\\Python\\Python310\\site-packages\\keras\\src\\backend.py:873: The name tf.get_default_graph is deprecated. Please use tf.compat.v1.get_default_graph instead.\n",
            "\n"
          ]
        }
      ],
      "source": [
        "user_id_model = tf.keras.Sequential([\n",
        "  tf.keras.layers.StringLookup(\n",
        "      vocabulary=unique_user_ids, mask_token=None),\n",
        "  # We add an additional embedding to account for unknown tokens.\n",
        "  tf.keras.layers.Embedding(len(unique_user_ids)+1, embedding_dimension)\n",
        "])"
      ]
    },
    {
      "cell_type": "markdown",
      "metadata": {
        "id": "Q6e5kR2_MsOh"
      },
      "source": [
        "### User Prefers models"
      ]
    },
    {
      "cell_type": "code",
      "execution_count": 37,
      "metadata": {
        "id": "EOzP-NwLMvZI"
      },
      "outputs": [],
      "source": [
        "# prompt: модель для liked_tags которым стоит отдать предпочтение, но учти что liked_tags в датасете это массив\n",
        "\n",
        "unique_liked_tags = set()\n",
        "for tags in users_ds['liked_tags']:\n",
        "  if isinstance(tags, list):\n",
        "    for tag in tags:\n",
        "      unique_liked_tags.add(tag)\n",
        "unique_liked_tags = list(unique_liked_tags)\n",
        "\n",
        "liked_tags_model = tf.keras.Sequential([\n",
        "  tf.keras.layers.StringLookup(\n",
        "      vocabulary=unique_liked_tags, mask_token=None),\n",
        "  tf.keras.layers.Embedding(len(unique_liked_tags) + 1, embedding_dimension)\n",
        "])\n"
      ]
    },
    {
      "cell_type": "code",
      "execution_count": 38,
      "metadata": {
        "colab": {
          "base_uri": "https://localhost:8080/"
        },
        "id": "K_uNmQ2yREWq",
        "outputId": "6221b14d-1fcf-4517-ed41-f13c56f83186"
      },
      "outputs": [
        {
          "data": {
            "text/plain": [
              "['',\n",
              " 'whole-turkey',\n",
              " 'puddings-and-mousses',\n",
              " 'cocktails',\n",
              " 'pumpkin-bread',\n",
              " 'vegetables',\n",
              " 'bear',\n",
              " 'cuban',\n",
              " 'saltwater-fish',\n",
              " 'ham-and-bean-soup']"
            ]
          },
          "execution_count": 38,
          "metadata": {},
          "output_type": "execute_result"
        }
      ],
      "source": [
        "unique_liked_tags[:10]"
      ]
    },
    {
      "cell_type": "code",
      "execution_count": 39,
      "metadata": {
        "colab": {
          "base_uri": "https://localhost:8080/"
        },
        "id": "W4vprrUvRb3Y",
        "outputId": "3aa5cd85-e456-4cef-9b17-c8e0d4221dce"
      },
      "outputs": [
        {
          "data": {
            "text/plain": [
              "['',\n",
              " 'whole-turkey',\n",
              " 'puddings-and-mousses',\n",
              " 'cocktails',\n",
              " 'pumpkin-bread',\n",
              " 'vegetables',\n",
              " 'bear',\n",
              " 'cuban',\n",
              " 'saltwater-fish',\n",
              " 'freezer']"
            ]
          },
          "execution_count": 39,
          "metadata": {},
          "output_type": "execute_result"
        }
      ],
      "source": [
        "\n",
        "unique_unliked_tags = set()\n",
        "for tags in users_ds['unliked_tags']:\n",
        "  if isinstance(tags, list):\n",
        "    for tag in tags:\n",
        "      unique_unliked_tags.add(tag)\n",
        "unique_unliked_tags = list(unique_unliked_tags)\n",
        "\n",
        "unliked_tags_model = tf.keras.Sequential([\n",
        "  tf.keras.layers.StringLookup(\n",
        "      vocabulary=unique_unliked_tags, mask_token=None),\n",
        "  tf.keras.layers.Embedding(len(unique_unliked_tags) + 1, embedding_dimension)\n",
        "])\n",
        "unique_unliked_tags[:10]"
      ]
    },
    {
      "cell_type": "markdown",
      "metadata": {
        "id": "5Zt9V_nAHMqp"
      },
      "source": [
        "## Recipe tower 🌭"
      ]
    },
    {
      "cell_type": "code",
      "execution_count": 55,
      "metadata": {
        "colab": {
          "base_uri": "https://localhost:8080/"
        },
        "id": "e3zzDVmWJmSA",
        "outputId": "2b48e837-bb5f-4670-b353-bb91770413dd"
      },
      "outputs": [
        {
          "data": {
            "text/plain": [
              "<tf.Tensor: shape=(10, 32), dtype=float32, numpy=\n",
              "array([[ 0.0472048 ,  0.01294236,  0.00443701,  0.03320727,  0.03093543,\n",
              "        -0.00575296, -0.00971135, -0.00443405, -0.0112393 ,  0.04181773,\n",
              "        -0.01955422, -0.02848119,  0.02421819,  0.00236275, -0.04367229,\n",
              "        -0.0098153 ,  0.02960339, -0.02839004,  0.04600623, -0.00764652,\n",
              "        -0.03071568,  0.04263257,  0.03541404,  0.00306255,  0.02307874,\n",
              "        -0.03934962,  0.02299384,  0.02980052, -0.01855361, -0.04155486,\n",
              "         0.00100814, -0.00252416],\n",
              "       [ 0.01989014,  0.02301419, -0.03366714, -0.01993567, -0.02033699,\n",
              "         0.02615819,  0.04491473,  0.01740885,  0.02885518,  0.04962257,\n",
              "        -0.01450702, -0.03947305,  0.03339407, -0.00873897,  0.00290372,\n",
              "        -0.00048428, -0.02043494, -0.02024843, -0.01525304,  0.00413046,\n",
              "        -0.01673555,  0.0418126 ,  0.0454229 ,  0.04387082,  0.00041959,\n",
              "        -0.0122963 , -0.00599637,  0.00350878, -0.01531995,  0.03534785,\n",
              "        -0.0450451 , -0.04944437],\n",
              "       [-0.01000217, -0.0424719 ,  0.04337222,  0.01026745,  0.04352896,\n",
              "        -0.04590815,  0.01492169,  0.04421988,  0.0141268 , -0.03870596,\n",
              "        -0.04210533, -0.01787201,  0.04730595,  0.02792821,  0.04009768,\n",
              "        -0.01404878, -0.01420737, -0.00453409, -0.0029332 ,  0.04055314,\n",
              "         0.01325703, -0.03883804, -0.00207055,  0.01047994,  0.00533245,\n",
              "        -0.04806196,  0.03144829, -0.02866651, -0.04859233, -0.02246957,\n",
              "        -0.02687503, -0.03258748],\n",
              "       [-0.04622108,  0.00205327,  0.0176116 ,  0.03299816,  0.02215802,\n",
              "        -0.04570662, -0.04475556,  0.04511006, -0.00420271, -0.02689558,\n",
              "        -0.02086307, -0.01168637, -0.03467325, -0.02322017,  0.00868604,\n",
              "        -0.02179492, -0.03926872, -0.03530134, -0.04330268, -0.03703554,\n",
              "        -0.01895347,  0.04311256, -0.03302778, -0.03781233,  0.00335537,\n",
              "         0.043346  ,  0.01309418, -0.04484894,  0.01519037,  0.00418793,\n",
              "        -0.03156854, -0.02589481],\n",
              "       [ 0.01921922, -0.00578479, -0.01638583,  0.00713756,  0.02614448,\n",
              "        -0.02435927, -0.00906394,  0.01234357, -0.03581778,  0.00438938,\n",
              "         0.00799844,  0.04182043,  0.00174289,  0.03923074,  0.00928224,\n",
              "         0.0125958 , -0.00179919,  0.02725935, -0.03133783, -0.01649933,\n",
              "        -0.00935564, -0.04187346, -0.0300294 , -0.03820657,  0.04615797,\n",
              "        -0.00231045, -0.00559852,  0.01349412, -0.02586491,  0.04012711,\n",
              "         0.03860167, -0.00017433],\n",
              "       [-0.01526431,  0.02076541,  0.00251851, -0.02231395,  0.0132505 ,\n",
              "        -0.03203666,  0.04993303, -0.03137226,  0.011677  , -0.02190849,\n",
              "        -0.04730686, -0.0476104 , -0.01371323,  0.00524385, -0.04395645,\n",
              "         0.01345335, -0.0324571 ,  0.02627582, -0.00615252,  0.02061141,\n",
              "         0.01891737, -0.00816373,  0.0067175 ,  0.01533541, -0.01275215,\n",
              "        -0.03035033,  0.01472812, -0.02087714,  0.0262967 , -0.00573945,\n",
              "         0.02593741, -0.00139477],\n",
              "       [-0.03398945, -0.04694104, -0.02917484, -0.00621042,  0.00414866,\n",
              "        -0.03419787, -0.03829732,  0.0145431 ,  0.03184618, -0.00653479,\n",
              "         0.00176755, -0.0422852 ,  0.04239691, -0.02550103,  0.03635085,\n",
              "         0.01114085,  0.00181792, -0.04193347,  0.03378459, -0.00370628,\n",
              "        -0.03990771,  0.02019533,  0.01449733,  0.04567809, -0.01688028,\n",
              "         0.02610717,  0.04449866,  0.03917867, -0.03857227, -0.01863079,\n",
              "         0.04150439, -0.00922059],\n",
              "       [ 0.02787575,  0.01852917,  0.02302411, -0.00084051,  0.00269344,\n",
              "         0.04700947,  0.02695761,  0.03654237,  0.02639666, -0.02149694,\n",
              "        -0.02964303, -0.01900816, -0.01151571, -0.02148631,  0.00527141,\n",
              "         0.04715648, -0.01013876, -0.01925367,  0.01474055, -0.02720192,\n",
              "        -0.01589614,  0.0445945 , -0.02156718,  0.03790262,  0.02888956,\n",
              "        -0.02230227, -0.01150827,  0.0352556 , -0.00806768,  0.03617566,\n",
              "        -0.03733169, -0.00381313],\n",
              "       [-0.02457612,  0.03562063,  0.03617373,  0.02652465,  0.04903017,\n",
              "         0.00506499, -0.01527758,  0.01288238,  0.041223  , -0.01466613,\n",
              "         0.02915983,  0.03477439, -0.0492492 ,  0.00046583, -0.04263691,\n",
              "         0.04139522, -0.03326607,  0.03181719,  0.02755392, -0.02852844,\n",
              "         0.02088392,  0.01245862, -0.01536993, -0.04821267,  0.00531945,\n",
              "         0.04582364, -0.02869856,  0.01540513,  0.0135311 ,  0.04974799,\n",
              "         0.04083034, -0.02012068],\n",
              "       [ 0.04197529,  0.02544988,  0.02193682, -0.00788482, -0.04150065,\n",
              "        -0.01848679, -0.02955371,  0.00034143, -0.01926086,  0.01544496,\n",
              "        -0.03298908,  0.0269911 , -0.01503036, -0.01015772, -0.03841891,\n",
              "        -0.02864692,  0.04011322, -0.00187866, -0.03030119, -0.04682754,\n",
              "        -0.02620888, -0.02803755,  0.04669808, -0.03155227,  0.04969951,\n",
              "         0.04701896, -0.02599002, -0.00131281,  0.00859142, -0.04643659,\n",
              "         0.03715882, -0.02024489]], dtype=float32)>"
            ]
          },
          "execution_count": 55,
          "metadata": {},
          "output_type": "execute_result"
        }
      ],
      "source": [
        "unique_recipe_names = np.unique(list(raw_recipes[\"name\"].unique()))\n",
        "recipe_name_model = tf.keras.Sequential([\n",
        "  tf.keras.layers.StringLookup(\n",
        "      vocabulary=unique_recipe_names, mask_token=None),\n",
        "  # We add an additional embedding to account for unknown tokens.\n",
        "  tf.keras.layers.Embedding(len(unique_recipe_names) + 1, embedding_dimension)\n",
        "])\n",
        "unique_recipe_names[:10]"
      ]
    },
    {
      "cell_type": "code",
      "execution_count": 41,
      "metadata": {
        "colab": {
          "base_uri": "https://localhost:8080/"
        },
        "id": "h8rZOklso4NX",
        "outputId": "64110b89-9f3f-4cce-e81e-95939b66d3f9"
      },
      "outputs": [
        {
          "name": "stdout",
          "output_type": "stream",
          "text": [
            "WARNING:tensorflow:From C:\\Users\\azdanevy\\AppData\\Roaming\\Python\\Python310\\site-packages\\keras\\src\\utils\\tf_utils.py:492: The name tf.ragged.RaggedTensorValue is deprecated. Please use tf.compat.v1.ragged.RaggedTensorValue instead.\n",
            "\n"
          ]
        },
        {
          "data": {
            "text/plain": [
              "<tf.Tensor: shape=(1, 32), dtype=float32, numpy=\n",
              "array([[-0.01512814,  0.00578652, -0.02536417,  0.01278904, -0.02616717,\n",
              "         0.04773802, -0.02358906, -0.00427809, -0.00764314,  0.0321222 ,\n",
              "        -0.0138072 ,  0.04330536, -0.02166371, -0.02522388, -0.02843325,\n",
              "        -0.02910688, -0.04606888,  0.02071381, -0.04990273,  0.00213184,\n",
              "         0.04562029, -0.03151394,  0.03627158, -0.0352541 ,  0.0396946 ,\n",
              "        -0.0235576 , -0.01854372, -0.04658786, -0.01251549,  0.04925865,\n",
              "        -0.02487599, -0.03450589]], dtype=float32)>"
            ]
          },
          "execution_count": 41,
          "metadata": {},
          "output_type": "execute_result"
        }
      ],
      "source": [
        "# prompt: напиши вызов recipe_name_model\n",
        "\n",
        "recipe_name_model(['some recipe name'])\n"
      ]
    },
    {
      "cell_type": "markdown",
      "metadata": {
        "id": "q2VwZxnOCg9F"
      },
      "source": [
        "### Recipe ingredient&tag model"
      ]
    },
    {
      "cell_type": "code",
      "execution_count": 69,
      "metadata": {
        "colab": {
          "base_uri": "https://localhost:8080/"
        },
        "id": "QqUQ43gVQIUp",
        "outputId": "49f54edf-1d29-4efc-e338-84c05a6f7e16"
      },
      "outputs": [
        {
          "data": {
            "text/plain": [
              "array(['', '1-day-or-more', '15-minutes-or-less', '3-steps-or-less',\n",
              "       '30-minutes-or-less', '4-hours-or-less', '5-ingredients-or-less',\n",
              "       '60-minutes-or-less',\n",
              "       'Throw the ultimate fiesta with this sopaipillas recipe from Food.com.',\n",
              "       'a1-sauce'], dtype='<U69')"
            ]
          },
          "execution_count": 69,
          "metadata": {},
          "output_type": "execute_result"
        }
      ],
      "source": [
        "unique_tags = set()\n",
        "for tags in raw_recipes['tags'].apply(convert_to_list):\n",
        "  if isinstance(tags, list):\n",
        "    for tag in tags:\n",
        "      unique_tags.add(tag)\n",
        "unique_tags = np.unique(list(unique_tags))\n",
        "\n",
        "tags_model = tf.keras.Sequential([\n",
        "  tf.keras.layers.StringLookup(\n",
        "      vocabulary=unique_tags, mask_token=\"empty\"),\n",
        "  tf.keras.layers.Embedding(len(unique_tags) + 2, embedding_dimension)\n",
        "])\n",
        "unique_tags[:10]"
      ]
    },
    {
      "cell_type": "markdown",
      "metadata": {
        "id": "n1dQh7uGI2ow"
      },
      "source": [
        "## Combine models"
      ]
    },
    {
      "cell_type": "code",
      "execution_count": 71,
      "metadata": {},
      "outputs": [],
      "source": [
        "class UserModel(tf.keras.Model):\n",
        "    def __init__(self, unique_user_ids, tags_model, embedding_dimension):\n",
        "        super().__init__()\n",
        "        \n",
        "        # User ID embeddings\n",
        "        self.user_id_model = tf.keras.Sequential([\n",
        "            tf.keras.layers.StringLookup(\n",
        "                vocabulary=unique_user_ids, mask_token=None),\n",
        "            tf.keras.layers.Embedding(len(unique_user_ids) + 1, embedding_dimension)\n",
        "        ])\n",
        "        \n",
        "        # Liked tags embeddings\n",
        "        self.liked_tags_model = tf.keras.Sequential([\n",
        "          tf.keras.layers.StringLookup(\n",
        "              vocabulary=unique_tags, mask_token=None),\n",
        "          tf.keras.layers.Embedding(len(unique_tags) + 1, embedding_dimension)\n",
        "        ])\n",
        "\n",
        "        # Unliked tags embeddings\n",
        "        self.unliked_tags_model = tf.keras.Sequential([\n",
        "              tf.keras.layers.StringLookup(\n",
        "                  vocabulary=unique_tags, mask_token=None),\n",
        "              tf.keras.layers.Embedding(len(unique_tags) + 1, embedding_dimension)\n",
        "            ])\n",
        "\n",
        "        # Penalty weight for unliked tags\n",
        "        self.penalty_weight = -1.5\n",
        "        self.plus_weight = 1.5\n",
        "\n",
        "    def call(self, features):\n",
        "        user_id = features[\"user_id\"]\n",
        "        liked_tags = features[\"liked_tags\"]\n",
        "        unliked_tags = features[\"unliked_tags\"]\n",
        "\n",
        "        # Embed user ID\n",
        "        user_id_embedding = self.user_id_model(user_id)\n",
        "        #user_id_embedding = tf.reduce_mean(user_id_embedding, axis=1)\n",
        "\n",
        "        # Embed liked and unliked tags\n",
        "        liked_tags_embedding = self.liked_tags_model(liked_tags)\n",
        "        unliked_tags_embedding = self.unliked_tags_model(unliked_tags)\n",
        "\n",
        "        # Apply penalty to unliked tags\n",
        "        unliked_tags_embedding = unliked_tags_embedding * self.penalty_weight\n",
        "        liked_tags_embedding = liked_tags_embedding * self.plus_weight\n",
        "\n",
        "\n",
        "        # Aggregate embeddings\n",
        "        liked_tags_embedding = tf.reduce_max(liked_tags_embedding, axis=1, keepdims=True)\n",
        "        unliked_tags_embedding = tf.reduce_min(unliked_tags_embedding, axis=1, keepdims=True)\n",
        "\n",
        "\n",
        "        # Используйте weighted суммирование для учета штрафов\n",
        "        user_embedding = tf.add(user_id_embedding, liked_tags_embedding)\n",
        "        user_embedding = tf.add(user_embedding, unliked_tags_embedding)\n",
        "\n",
        "        return user_embedding\n",
        "\n"
      ]
    },
    {
      "cell_type": "code",
      "execution_count": 72,
      "metadata": {},
      "outputs": [
        {
          "data": {
            "text/plain": [
              "<tf.Tensor: shape=(30, 32), dtype=float32, numpy=\n",
              "array([[-4.12917249e-02,  4.81190011e-02,  3.75489146e-03,\n",
              "         9.66150314e-03,  3.89677212e-02, -3.77974510e-02,\n",
              "         4.88035604e-02,  3.40055302e-02, -1.22389086e-02,\n",
              "         4.61238250e-02,  1.80438906e-03,  1.73912644e-02,\n",
              "         4.40333411e-02, -1.69305094e-02, -3.93023379e-02,\n",
              "        -5.81628084e-03,  3.01088169e-02, -1.74230114e-02,\n",
              "         2.69133598e-03,  1.19811818e-02, -2.33053342e-02,\n",
              "         4.95718345e-02,  2.78292820e-02, -2.64891163e-02,\n",
              "         6.28507882e-03, -2.02019811e-02,  1.77216530e-03,\n",
              "         3.55437472e-02,  1.81175768e-04, -3.97733562e-02,\n",
              "        -3.53161469e-02, -3.13482173e-02],\n",
              "       [-4.24581505e-02,  4.69525680e-02,  2.58846581e-03,\n",
              "         8.49508494e-03,  3.78012881e-02, -3.89638767e-02,\n",
              "         4.76371273e-02,  3.28390971e-02, -1.34053342e-02,\n",
              "         4.49574068e-02,  6.37963414e-04,  1.62248388e-02,\n",
              "         4.28669080e-02, -1.80969350e-02, -4.04687636e-02,\n",
              "        -6.98270649e-03,  2.89423987e-02, -1.85894370e-02,\n",
              "         1.52491778e-03,  1.08147487e-02, -2.44717598e-02,\n",
              "         4.84054163e-02,  2.66628489e-02, -2.76555419e-02,\n",
              "         5.11866063e-03, -2.13684067e-02,  6.05739653e-04,\n",
              "         3.43773142e-02, -9.85249877e-04, -4.09397818e-02,\n",
              "        -3.64825726e-02, -3.25146429e-02],\n",
              "       [-3.87472846e-02,  5.06634340e-02,  6.29933178e-03,\n",
              "         1.22059509e-02,  4.15121540e-02, -3.52530107e-02,\n",
              "         5.13479933e-02,  3.65499631e-02, -9.69446823e-03,\n",
              "         4.86682728e-02,  4.34882939e-03,  1.99357048e-02,\n",
              "         4.65777740e-02, -1.43860690e-02, -3.67578976e-02,\n",
              "        -3.27184051e-03,  3.26532647e-02, -1.48785710e-02,\n",
              "         5.23578376e-03,  1.45256147e-02, -2.07608938e-02,\n",
              "         5.21162823e-02,  3.03737149e-02, -2.39446759e-02,\n",
              "         8.82952660e-03, -1.76575407e-02,  4.31660563e-03,\n",
              "         3.80881801e-02,  2.72561610e-03, -3.72289158e-02,\n",
              "        -3.27717066e-02, -2.88037769e-02],\n",
              "       [-3.90373878e-02,  5.03733382e-02,  6.00922853e-03,\n",
              "         1.19158402e-02,  4.12220582e-02, -3.55431139e-02,\n",
              "         5.10578975e-02,  3.62598673e-02, -9.98457149e-03,\n",
              "         4.83781621e-02,  4.05872613e-03,  1.96456015e-02,\n",
              "         4.62876782e-02, -1.46761723e-02, -3.70480008e-02,\n",
              "        -3.56194377e-03,  3.23631540e-02, -1.51686743e-02,\n",
              "         4.94567305e-03,  1.42355189e-02, -2.10509971e-02,\n",
              "         5.18261716e-02,  3.00836191e-02, -2.42347792e-02,\n",
              "         8.53941590e-03, -1.79476440e-02,  4.02650237e-03,\n",
              "         3.77980843e-02,  2.43551284e-03, -3.75190191e-02,\n",
              "        -3.30618098e-02, -2.90938802e-02],\n",
              "       [-4.28025462e-02,  4.66081724e-02,  2.24407017e-03,\n",
              "         8.15068930e-03,  3.74568924e-02, -3.93082723e-02,\n",
              "         4.72927317e-02,  3.24947014e-02, -1.37497298e-02,\n",
              "         4.46130112e-02,  2.93567777e-04,  1.58804432e-02,\n",
              "         4.25225124e-02, -1.84413306e-02, -4.08131592e-02,\n",
              "        -7.32710212e-03,  2.85980031e-02, -1.89338326e-02,\n",
              "         1.18052214e-03,  1.04703531e-02, -2.48161554e-02,\n",
              "         4.80610207e-02,  2.63184533e-02, -2.79999375e-02,\n",
              "         4.77426499e-03, -2.17128024e-02,  2.61344016e-04,\n",
              "         3.40329185e-02, -1.32964551e-03, -4.12841775e-02,\n",
              "        -3.68269682e-02, -3.28590386e-02],\n",
              "       [-4.14390899e-02,  4.79716286e-02,  3.60752642e-03,\n",
              "         9.51414555e-03,  3.88203487e-02, -3.79448161e-02,\n",
              "         4.86561880e-02,  3.38581577e-02, -1.23862736e-02,\n",
              "         4.59764674e-02,  1.65702403e-03,  1.72438994e-02,\n",
              "         4.38859686e-02, -1.70778744e-02, -3.94497029e-02,\n",
              "        -5.96364588e-03,  2.99614593e-02, -1.75703764e-02,\n",
              "         2.54397839e-03,  1.18338093e-02, -2.34526992e-02,\n",
              "         4.94244769e-02,  2.76819095e-02, -2.66364813e-02,\n",
              "         6.13772124e-03, -2.03493461e-02,  1.62480026e-03,\n",
              "         3.53963748e-02,  3.38107347e-05, -3.99207212e-02,\n",
              "        -3.54635119e-02, -3.14955823e-02],\n",
              "       [-4.26373594e-02,  4.67733666e-02,  2.40925699e-03,\n",
              "         8.31586868e-03,  3.76220867e-02, -3.91430855e-02,\n",
              "         4.74579260e-02,  3.26598957e-02, -1.35845430e-02,\n",
              "         4.47781906e-02,  4.58754599e-04,  1.60456300e-02,\n",
              "         4.26877066e-02, -1.82761438e-02, -4.06479724e-02,\n",
              "        -7.16191530e-03,  2.87631825e-02, -1.87686458e-02,\n",
              "         1.34570152e-03,  1.06355473e-02, -2.46509686e-02,\n",
              "         4.82262000e-02,  2.64836475e-02, -2.78347507e-02,\n",
              "         4.93944436e-03, -2.15476155e-02,  4.26530838e-04,\n",
              "         3.41981128e-02, -1.16445869e-03, -4.11189906e-02,\n",
              "        -3.66617814e-02, -3.26938517e-02],\n",
              "       [-3.98426391e-02,  4.95680794e-02,  5.20397723e-03,\n",
              "         1.11105964e-02,  4.04167995e-02, -3.63483652e-02,\n",
              "         5.02526388e-02,  3.54546085e-02, -1.07898228e-02,\n",
              "         4.75729182e-02,  3.25347483e-03,  1.88403502e-02,\n",
              "         4.54824194e-02, -1.54814236e-02, -3.78532521e-02,\n",
              "        -4.36719507e-03,  3.15579101e-02, -1.59739256e-02,\n",
              "         4.14042920e-03,  1.34302601e-02, -2.18562484e-02,\n",
              "         5.10209277e-02,  2.92783603e-02, -2.50400305e-02,\n",
              "         7.73417205e-03, -1.87528953e-02,  3.22125107e-03,\n",
              "         3.69928256e-02,  1.63026154e-03, -3.83242704e-02,\n",
              "        -3.38670611e-02, -2.98991315e-02],\n",
              "       [-4.05518375e-02,  4.88588884e-02,  4.49477881e-03,\n",
              "         1.04013905e-02,  3.97076085e-02, -3.70575637e-02,\n",
              "         4.95434478e-02,  3.47454175e-02, -1.14990212e-02,\n",
              "         4.68637124e-02,  2.54427642e-03,  1.81311518e-02,\n",
              "         4.47732285e-02, -1.61906220e-02, -3.85624506e-02,\n",
              "        -5.07639349e-03,  3.08487043e-02, -1.66831240e-02,\n",
              "         3.43122333e-03,  1.27210692e-02, -2.25654468e-02,\n",
              "         5.03117219e-02,  2.85691693e-02, -2.57492289e-02,\n",
              "         7.02496618e-03, -1.94620937e-02,  2.51205266e-03,\n",
              "         3.62836346e-02,  9.21063125e-04, -3.90334688e-02,\n",
              "        -3.45762596e-02, -3.06083299e-02],\n",
              "       [-3.93499546e-02,  5.00607714e-02,  5.69666177e-03,\n",
              "         1.16032735e-02,  4.09094915e-02, -3.58556807e-02,\n",
              "         5.07453308e-02,  3.59473005e-02, -1.02971382e-02,\n",
              "         4.80655953e-02,  3.74615937e-03,  1.93330348e-02,\n",
              "         4.59751114e-02, -1.49887390e-02, -3.73605676e-02,\n",
              "        -3.87451053e-03,  3.20505872e-02, -1.54812410e-02,\n",
              "         4.63310629e-03,  1.39229521e-02, -2.13635638e-02,\n",
              "         5.15136048e-02,  2.97710523e-02, -2.45473459e-02,\n",
              "         8.22684914e-03, -1.82602108e-02,  3.71393561e-03,\n",
              "         3.74855176e-02,  2.12294608e-03, -3.78315859e-02,\n",
              "        -3.33743766e-02, -2.94064470e-02],\n",
              "       [-4.48097028e-02,  4.46010157e-02,  2.36913562e-04,\n",
              "         6.14353269e-03,  3.54497358e-02, -4.13154289e-02,\n",
              "         4.52855751e-02,  3.04875448e-02, -1.57568865e-02,\n",
              "         4.26058546e-02, -1.71358883e-03,  1.38732865e-02,\n",
              "         4.05153558e-02, -2.04484873e-02, -4.28203158e-02,\n",
              "        -9.33425874e-03,  2.65908465e-02, -2.09409893e-02,\n",
              "        -8.26634467e-04,  8.46319646e-03, -2.68233120e-02,\n",
              "         4.60538641e-02,  2.43112966e-02, -3.00070941e-02,\n",
              "         2.76710838e-03, -2.37199590e-02, -1.74581259e-03,\n",
              "         3.20257619e-02, -3.33680212e-03, -4.32913341e-02,\n",
              "        -3.88341248e-02, -3.48661952e-02],\n",
              "       [-4.72114496e-02,  4.21992764e-02, -2.16483325e-03,\n",
              "         3.74177843e-03,  3.30479965e-02, -4.37171757e-02,\n",
              "         4.28838357e-02,  2.80858055e-02, -1.81586333e-02,\n",
              "         4.02041003e-02, -4.11533564e-03,  1.14715397e-02,\n",
              "         3.81136164e-02, -2.28502341e-02, -4.52220626e-02,\n",
              "        -1.17360055e-02,  2.41890922e-02, -2.33427361e-02,\n",
              "        -3.22838873e-03,  6.06145710e-03, -2.92250589e-02,\n",
              "         4.36521098e-02,  2.19095573e-02, -3.24088410e-02,\n",
              "         3.65354121e-04, -2.61217058e-02, -4.14755940e-03,\n",
              "         2.96240225e-02, -5.73854893e-03, -4.56930809e-02,\n",
              "        -4.12358716e-02, -3.72679420e-02],\n",
              "       [-4.81367223e-02,  4.12740037e-02, -3.09010595e-03,\n",
              "         2.81650573e-03,  3.21227238e-02, -4.46424484e-02,\n",
              "         4.19585630e-02,  2.71605328e-02, -1.90839060e-02,\n",
              "         3.92788276e-02, -5.04060835e-03,  1.05462670e-02,\n",
              "         3.71883437e-02, -2.37755068e-02, -4.61473353e-02,\n",
              "        -1.26612782e-02,  2.32638195e-02, -2.42680088e-02,\n",
              "        -4.15366143e-03,  5.13618439e-03, -3.01503316e-02,\n",
              "         4.27268371e-02,  2.09842846e-02, -3.33341137e-02,\n",
              "        -5.59918582e-04, -2.70469785e-02, -5.07283211e-03,\n",
              "         2.86987498e-02, -6.66382164e-03, -4.66183536e-02,\n",
              "        -4.21611443e-02, -3.81932147e-02],\n",
              "       [-4.81891744e-02,  4.12215516e-02, -3.14255804e-03,\n",
              "         2.76405364e-03,  3.20702717e-02, -4.46949005e-02,\n",
              "         4.19061109e-02,  2.71080807e-02, -1.91363581e-02,\n",
              "         3.92263755e-02, -5.09306043e-03,  1.04938149e-02,\n",
              "         3.71358916e-02, -2.38279589e-02, -4.61997874e-02,\n",
              "        -1.27137303e-02,  2.32113674e-02, -2.43204609e-02,\n",
              "        -4.20611352e-03,  5.08373231e-03, -3.02027836e-02,\n",
              "         4.26743850e-02,  2.09318325e-02, -3.33865657e-02,\n",
              "        -6.12370670e-04, -2.70994306e-02, -5.12528419e-03,\n",
              "         2.86462978e-02, -6.71627373e-03, -4.66708057e-02,\n",
              "        -4.22135964e-02, -3.82456668e-02],\n",
              "       [-3.97241451e-02,  4.96865734e-02,  5.32247126e-03,\n",
              "         1.12290904e-02,  4.05352935e-02, -3.62298712e-02,\n",
              "         5.03711328e-02,  3.55731025e-02, -1.06713288e-02,\n",
              "         4.76914123e-02,  3.37196887e-03,  1.89588442e-02,\n",
              "         4.56009135e-02, -1.53629296e-02, -3.77347581e-02,\n",
              "        -4.24870104e-03,  3.16764042e-02, -1.58554316e-02,\n",
              "         4.25892323e-03,  1.35487542e-02, -2.17377543e-02,\n",
              "         5.11394218e-02,  2.93968543e-02, -2.49215364e-02,\n",
              "         7.85266608e-03, -1.86344013e-02,  3.33974510e-03,\n",
              "         3.71113196e-02,  1.74875557e-03, -3.82057764e-02,\n",
              "        -3.37485671e-02, -2.97806375e-02],\n",
              "       [-4.18270491e-02,  4.75836769e-02,  3.21956724e-03,\n",
              "         9.12617892e-03,  3.84323969e-02, -3.83327752e-02,\n",
              "         4.82682362e-02,  3.34702060e-02, -1.27742328e-02,\n",
              "         4.55885008e-02,  1.26906484e-03,  1.68559402e-02,\n",
              "         4.34980169e-02, -1.74658336e-02, -3.98376621e-02,\n",
              "        -6.35160506e-03,  2.95734927e-02, -1.79583356e-02,\n",
              "         2.15601176e-03,  1.14458576e-02, -2.38406584e-02,\n",
              "         4.90365103e-02,  2.72939578e-02, -2.70244405e-02,\n",
              "         5.74975461e-03, -2.07373053e-02,  1.23684108e-03,\n",
              "         3.50084230e-02, -3.54148448e-04, -4.03086804e-02,\n",
              "        -3.58514711e-02, -3.18835415e-02],\n",
              "       [-4.79462557e-02,  4.14644703e-02, -2.89963931e-03,\n",
              "         3.00697237e-03,  3.23131904e-02, -4.44519818e-02,\n",
              "         4.21490297e-02,  2.73509994e-02, -1.88934393e-02,\n",
              "         3.94692943e-02, -4.85014170e-03,  1.07367337e-02,\n",
              "         3.73788103e-02, -2.35850401e-02, -4.59568687e-02,\n",
              "        -1.24708116e-02,  2.34542862e-02, -2.40775421e-02,\n",
              "        -3.96319479e-03,  5.32665104e-03, -2.99598649e-02,\n",
              "         4.29173037e-02,  2.11747512e-02, -3.31436470e-02,\n",
              "        -3.69451940e-04, -2.68565118e-02, -4.88236547e-03,\n",
              "         2.88892165e-02, -6.47335500e-03, -4.64278869e-02,\n",
              "        -4.19706777e-02, -3.80027480e-02],\n",
              "       [-3.94302420e-02,  4.99804839e-02,  5.61637431e-03,\n",
              "         1.15229860e-02,  4.08292040e-02, -3.59359682e-02,\n",
              "         5.06650433e-02,  3.58670130e-02, -1.03774257e-02,\n",
              "         4.79853079e-02,  3.66587192e-03,  1.92527473e-02,\n",
              "         4.58948240e-02, -1.50690265e-02, -3.74408551e-02,\n",
              "        -3.95479798e-03,  3.19702998e-02, -1.55615285e-02,\n",
              "         4.55281883e-03,  1.38426647e-02, -2.14438513e-02,\n",
              "         5.14333174e-02,  2.96907648e-02, -2.46276334e-02,\n",
              "         8.14656168e-03, -1.83404982e-02,  3.63364816e-03,\n",
              "         3.74052301e-02,  2.04265863e-03, -3.79118733e-02,\n",
              "        -3.34546641e-02, -2.94867344e-02],\n",
              "       [-3.95857207e-02,  4.98250052e-02,  5.46089560e-03,\n",
              "         1.13675073e-02,  4.06737253e-02, -3.60914469e-02,\n",
              "         5.05095646e-02,  3.57115343e-02, -1.05329044e-02,\n",
              "         4.78298292e-02,  3.51039320e-03,  1.90972686e-02,\n",
              "         4.57393453e-02, -1.52245052e-02, -3.75963338e-02,\n",
              "        -4.11027670e-03,  3.18148211e-02, -1.57170072e-02,\n",
              "         4.39734012e-03,  1.36871859e-02, -2.15993300e-02,\n",
              "         5.12778386e-02,  2.95352861e-02, -2.47831121e-02,\n",
              "         7.99108297e-03, -1.84959769e-02,  3.47816944e-03,\n",
              "         3.72497514e-02,  1.88717991e-03, -3.80673520e-02,\n",
              "        -3.36101428e-02, -2.96422131e-02],\n",
              "       [-4.96261232e-02,  3.97846028e-02, -4.57950681e-03,\n",
              "         1.32710487e-03,  3.06333229e-02, -4.61318493e-02,\n",
              "         4.04691622e-02,  2.56711319e-02, -2.05733068e-02,\n",
              "         3.77894267e-02, -6.53000921e-03,  9.05686617e-03,\n",
              "         3.56989428e-02, -2.52649076e-02, -4.76367362e-02,\n",
              "        -1.41506791e-02,  2.17744187e-02, -2.57574096e-02,\n",
              "        -5.64305857e-03,  3.64678353e-03, -3.16397324e-02,\n",
              "         4.12374362e-02,  1.94948837e-02, -3.48235145e-02,\n",
              "        -2.04931945e-03, -2.85363793e-02, -6.56223297e-03,\n",
              "         2.72093490e-02, -8.15322250e-03, -4.81077544e-02,\n",
              "        -4.36505452e-02, -3.96826155e-02],\n",
              "       [-4.42657582e-02,  4.51449677e-02,  7.80858099e-04,\n",
              "         6.68746978e-03,  3.59936878e-02, -4.07714844e-02,\n",
              "         4.58295271e-02,  3.10314968e-02, -1.52129419e-02,\n",
              "         4.31497917e-02, -1.16964430e-03,  1.44172311e-02,\n",
              "         4.10593078e-02, -1.99045427e-02, -4.22763713e-02,\n",
              "        -8.79031420e-03,  2.71347836e-02, -2.03970447e-02,\n",
              "        -2.82697380e-04,  9.00714844e-03, -2.62793675e-02,\n",
              "         4.65978011e-02,  2.48552486e-02, -2.94631496e-02,\n",
              "         3.31104547e-03, -2.31760144e-02, -1.20186806e-03,\n",
              "         3.25697139e-02, -2.79285759e-03, -4.27473895e-02,\n",
              "        -3.82901803e-02, -3.43222506e-02],\n",
              "       [-5.81614338e-02,  3.12492922e-02, -1.31148174e-02,\n",
              "        -7.20820203e-03,  2.20980123e-02, -5.46671599e-02,\n",
              "         3.19338515e-02,  1.71358213e-02, -2.91086175e-02,\n",
              "         2.92541161e-02, -1.50653198e-02,  5.21555543e-04,\n",
              "         2.71636322e-02, -3.38002183e-02, -5.61720468e-02,\n",
              "        -2.26859897e-02,  1.32391080e-02, -3.42927203e-02,\n",
              "        -1.41783692e-02, -4.88853082e-03, -4.01750430e-02,\n",
              "         3.27021256e-02,  1.09595731e-02, -4.33588251e-02,\n",
              "        -1.05846263e-02, -3.70716900e-02, -1.50975436e-02,\n",
              "         1.86740384e-02, -1.66885331e-02, -5.66430651e-02,\n",
              "        -5.21858558e-02, -4.82179262e-02],\n",
              "       [-3.93538214e-02,  5.00568971e-02,  5.69279492e-03,\n",
              "         1.15994141e-02,  4.09056172e-02, -3.58595476e-02,\n",
              "         5.07414564e-02,  3.59434262e-02, -1.03010051e-02,\n",
              "         4.80617359e-02,  3.74229252e-03,  1.93291679e-02,\n",
              "         4.59712371e-02, -1.49926059e-02, -3.73644345e-02,\n",
              "        -3.87837738e-03,  3.20467278e-02, -1.54851079e-02,\n",
              "         4.62924689e-03,  1.39190778e-02, -2.13674307e-02,\n",
              "         5.15097454e-02,  2.97671780e-02, -2.45512128e-02,\n",
              "         8.22298974e-03, -1.82640776e-02,  3.71006876e-03,\n",
              "         3.74816433e-02,  2.11907923e-03, -3.78354527e-02,\n",
              "        -3.33782434e-02, -2.94103138e-02],\n",
              "       [-3.93090062e-02,  5.01017198e-02,  5.73761016e-03,\n",
              "         1.16442218e-02,  4.09504399e-02, -3.58147323e-02,\n",
              "         5.07862791e-02,  3.59882489e-02, -1.02561899e-02,\n",
              "         4.81065437e-02,  3.78710777e-03,  1.93739831e-02,\n",
              "         4.60160598e-02, -1.49477907e-02, -3.73196192e-02,\n",
              "        -3.83356214e-03,  3.20915356e-02, -1.54402927e-02,\n",
              "         4.67405468e-03,  1.39639005e-02, -2.13226154e-02,\n",
              "         5.15545532e-02,  2.98120007e-02, -2.45063975e-02,\n",
              "         8.26779753e-03, -1.82192624e-02,  3.75488400e-03,\n",
              "         3.75264660e-02,  2.16389447e-03, -3.77906375e-02,\n",
              "        -3.33334282e-02, -2.93654986e-02],\n",
              "       [-4.80078869e-02,  4.14028391e-02, -2.96127051e-03,\n",
              "         2.94534117e-03,  3.22515592e-02, -4.45136130e-02,\n",
              "         4.20873985e-02,  2.72893682e-02, -1.89550705e-02,\n",
              "         3.94076630e-02, -4.91177291e-03,  1.06751025e-02,\n",
              "         3.73171791e-02, -2.36466713e-02, -4.60184999e-02,\n",
              "        -1.25324428e-02,  2.33926550e-02, -2.41391733e-02,\n",
              "        -4.02482599e-03,  5.26501983e-03, -3.00214961e-02,\n",
              "         4.28556725e-02,  2.11131200e-02, -3.32052782e-02,\n",
              "        -4.31083143e-04, -2.69181430e-02, -4.94399667e-03,\n",
              "         2.88275853e-02, -6.53498620e-03, -4.64895181e-02,\n",
              "        -4.20323089e-02, -3.80643792e-02],\n",
              "       [-3.87072302e-02,  5.07034883e-02,  6.33938611e-03,\n",
              "         1.22460052e-02,  4.15522084e-02, -3.52129564e-02,\n",
              "         5.13880476e-02,  3.65900174e-02, -9.65441391e-03,\n",
              "         4.87083271e-02,  4.38888371e-03,  1.99757591e-02,\n",
              "         4.66178283e-02, -1.43460147e-02, -3.67178433e-02,\n",
              "        -3.23178619e-03,  3.26933190e-02, -1.48385167e-02,\n",
              "         5.27583808e-03,  1.45656690e-02, -2.07208395e-02,\n",
              "         5.21563366e-02,  3.04137692e-02, -2.39046216e-02,\n",
              "         8.86958092e-03, -1.76174864e-02,  4.35665995e-03,\n",
              "         3.81282344e-02,  2.76567042e-03, -3.71888615e-02,\n",
              "        -3.27316523e-02, -2.87637226e-02],\n",
              "       [-3.93160917e-02,  5.00946268e-02,  5.73052466e-03,\n",
              "         1.16371438e-02,  4.09433469e-02, -3.58218178e-02,\n",
              "         5.07791862e-02,  3.59811559e-02, -1.02632754e-02,\n",
              "         4.80994657e-02,  3.78002226e-03,  1.93668976e-02,\n",
              "         4.60089669e-02, -1.49548762e-02, -3.73267047e-02,\n",
              "        -3.84064764e-03,  3.20844576e-02, -1.54473782e-02,\n",
              "         4.66697663e-03,  1.39568076e-02, -2.13297009e-02,\n",
              "         5.15474752e-02,  2.98049077e-02, -2.45134830e-02,\n",
              "         8.26071948e-03, -1.82263479e-02,  3.74779850e-03,\n",
              "         3.75193730e-02,  2.15680897e-03, -3.77977230e-02,\n",
              "        -3.33405137e-02, -2.93725841e-02],\n",
              "       [-4.52077426e-02,  4.42029759e-02, -1.61126256e-04,\n",
              "         5.74549288e-03,  3.50516960e-02, -4.17134687e-02,\n",
              "         4.48875353e-02,  3.00895050e-02, -1.61549263e-02,\n",
              "         4.22078148e-02, -2.11162865e-03,  1.34752467e-02,\n",
              "         4.01173159e-02, -2.08465271e-02, -4.32183556e-02,\n",
              "        -9.73229855e-03,  2.61928067e-02, -2.13390291e-02,\n",
              "        -1.22467428e-03,  8.06515664e-03, -2.72213519e-02,\n",
              "         4.56558242e-02,  2.39132568e-02, -3.04051340e-02,\n",
              "         2.36906856e-03, -2.41179988e-02, -2.14385241e-03,\n",
              "         3.16277221e-02, -3.73484194e-03, -4.36893739e-02,\n",
              "        -3.92321646e-02, -3.52642350e-02],\n",
              "       [-4.24652360e-02,  4.69454899e-02,  2.58138031e-03,\n",
              "         8.48799199e-03,  3.77942100e-02, -3.89709622e-02,\n",
              "         4.76300493e-02,  3.28320190e-02, -1.34124197e-02,\n",
              "         4.49503139e-02,  6.30877912e-04,  1.62177533e-02,\n",
              "         4.28598300e-02, -1.81040205e-02, -4.04758491e-02,\n",
              "        -6.98979199e-03,  2.89353058e-02, -1.85965225e-02,\n",
              "         1.51782483e-03,  1.08076707e-02, -2.44788453e-02,\n",
              "         4.83983234e-02,  2.66557708e-02, -2.76626274e-02,\n",
              "         5.11156768e-03, -2.13754922e-02,  5.98654151e-04,\n",
              "         3.43702361e-02, -9.92335379e-04, -4.09468673e-02,\n",
              "        -3.64896581e-02, -3.25217284e-02],\n",
              "       [-4.35401239e-02,  4.58705947e-02,  1.50649250e-03,\n",
              "         7.41311163e-03,  3.67193148e-02, -4.00458500e-02,\n",
              "         4.65551540e-02,  3.17571238e-02, -1.44873075e-02,\n",
              "         4.38754335e-02, -4.44009900e-04,  1.51428655e-02,\n",
              "         4.17849347e-02, -1.91789083e-02, -4.15507369e-02,\n",
              "        -8.06467980e-03,  2.78604254e-02, -1.96714103e-02,\n",
              "         4.42944467e-04,  9.73277539e-03, -2.55537331e-02,\n",
              "         4.73234430e-02,  2.55808756e-02, -2.87375152e-02,\n",
              "         4.03668731e-03, -2.24503800e-02, -4.76233661e-04,\n",
              "         3.32953408e-02, -2.06722319e-03, -4.20217551e-02,\n",
              "        -3.75645459e-02, -3.35966162e-02]], dtype=float32)>"
            ]
          },
          "execution_count": 72,
          "metadata": {},
          "output_type": "execute_result"
        }
      ],
      "source": [
        "# Извлечение данных пользователя\n",
        "test_user = {}\n",
        "for data in ratings.take(1).as_numpy_iterator():\n",
        "    test_user = data\n",
        "    \n",
        "user_model = UserModel(unique_user_ids, tags_model, embedding_dimension)\n",
        "\n",
        "user_model(test_user)"
      ]
    },
    {
      "cell_type": "code",
      "execution_count": 73,
      "metadata": {},
      "outputs": [],
      "source": [
        "class RecipeAndUserModel(tfrs.Model):\n",
        "\n",
        "    def _reduce_mean_if_needed(self, embedding):\n",
        "        \"\"\"Сокращает размерность эмбеддинга до среднего, если он многомерный.\"\"\"\n",
        "        if len(embedding.shape) >= 3:\n",
        "            return tf.reduce_mean(embedding, axis=1)\n",
        "        return embedding\n",
        "\n",
        "    def __init__(self, unique_recipe_names, unique_tags, embedding_dimension):\n",
        "        super().__init__()\n",
        "        self.embedding_dimension = embedding_dimension\n",
        "        # Модель пользователя\n",
        "        self.user_model = UserModel(unique_user_ids, tags_model, 64)\n",
        "\n",
        "        # Recipe embeddings\n",
        "        self.recipe_model = tf.keras.Sequential([\n",
        "            tf.keras.layers.StringLookup(\n",
        "                vocabulary=unique_recipe_names, mask_token=None),\n",
        "            tf.keras.layers.Embedding(len(unique_recipe_names) + 1, embedding_dimension)\n",
        "        ])\n",
        "\n",
        "        # Tags embeddings\n",
        "        self.tags_model = tags_model\n",
        "\n",
        "        self.dense = tf.keras.layers.Dense(embedding_dimension)  # Сжимаем до размерности 32\n",
        "\n",
        "        # Подготовка кандидатов, учитывающих и теги\n",
        "        self.candidates = recipes.batch(128).map(self._get_candidate_embeddings)\n",
        "\n",
        "        self.task = tfrs.tasks.Retrieval(\n",
        "            metrics=tfrs.metrics.FactorizedTopK(\n",
        "                candidates=self.candidates\n",
        "            )\n",
        "        )\n",
        "        \n",
        "    def _get_candidate_embeddings(self, recipe_name):\n",
        "        # Получаем эмбеддинги для имен и тегов\n",
        "        recipe_embedding = self.recipe_model(recipe_name['recipe_name'])\n",
        "        print(recipe_name['tags'])\n",
        "        tags_embedding = self.tags_model(recipe_name['tags'])  # Здесь предполагается, что recipe_name может содержать теги\n",
        "        recipe_embedding = self._reduce_mean_if_needed(recipe_embedding)\n",
        "        tags_embedding = self._reduce_mean_if_needed(tags_embedding)\n",
        "        # Объединяем эмбеддинги имен и тегов\n",
        "        combined_embedding = tf.concat([recipe_embedding, tags_embedding], axis=1)\n",
        "        return combined_embedding\n",
        "\n",
        "    def call(self, features: Dict[Text, tf.Tensor]) -> tf.Tensor:\n",
        "        # User embedding\n",
        "        user_embedding = self.user_model(features)\n",
        "\n",
        "        # Recipe name embeddings\n",
        "        recipe_name_embeddings = self.recipe_model(features[\"recipe_name\"])\n",
        "        #recipe_name_embeddings = self._reduce_mean_if_needed(recipe_name_embeddings)\n",
        "        # Tags embeddings\n",
        "        tags = features[\"tags\"]\n",
        "        tags_embeddings = self.tags_model(tags)\n",
        "        tags_embeddings = self._reduce_mean_if_needed(tags_embeddings)\n",
        "        # # Вычисление средневзвешенного значения для тегов (можно модифицировать веса)\n",
        "        # tags_embeddings_weighted_sum = tf.reduce_sum(tags_embeddings, axis=1)\n",
        "        # sum_of_weights = tf.reduce_sum(tf.ones_like(tags_embeddings), axis=1)\n",
        "        # tags_embeddings = tags_embeddings_weighted_sum / sum_of_weights\n",
        "        \n",
        "        # recipe_name_embeddings = self._reduce_mean_if_needed(recipe_name_embeddings)\n",
        "        # tags_embeddings = tf.expand_dims(tags_embeddings, axis=0)\n",
        "        # Конкатенация эмбеддингов рецепта и тегов\n",
        "        recipe_embeddings = tf.concat([recipe_name_embeddings, tags_embeddings], axis=1)\n",
        "\n",
        "        return user_embedding, recipe_embeddings\n",
        "\n",
        "    def compute_loss(self, features: Dict[Text, tf.Tensor], training=False) -> tf.Tensor:\n",
        "        user_embeddings, recipe_embeddings = self(features)\n",
        "        print(\"Computed: \", user_embeddings.shape, recipe_embeddings.shape)\n",
        "        # Используем задачу факторизованного топ-K для оптимизации\n",
        "        user_embeddings = self._reduce_mean_if_needed(user_embeddings)\n",
        "        recipe_embeddings = self._reduce_mean_if_needed(recipe_embeddings)\n",
        "        \n",
        "        # user_embeddings = tf.keras.layers.Dense(64)(user_embeddings)\n",
        "        # recipe_embeddings = tf.keras.layers.Dense(64)(recipe_embeddings)\n",
        "        print(\"Computed: \", user_embeddings.shape, recipe_embeddings.shape)\n",
        "        return self.task(user_embeddings, recipe_embeddings)\n"
      ]
    },
    {
      "cell_type": "code",
      "execution_count": 74,
      "metadata": {
        "id": "4ln6bTE6XuUT"
      },
      "outputs": [],
      "source": [
        "# Randomly shuffle data and split between train and test.\n",
        "tf.random.set_seed(42)\n",
        "shuffled = ratings.shuffle(100_000, seed=42, reshuffle_each_iteration=False)\n",
        "\n",
        "train = shuffled.take(5_000)\n",
        "test = shuffled.skip(80_000).take(20_000)\n",
        "\n",
        "cached_train =  train.batch(15_000).cache()\n",
        "cached_test = test.batch(4096).cache()"
      ]
    },
    {
      "cell_type": "code",
      "execution_count": 75,
      "metadata": {
        "id": "-7Gi0OYpUbOM"
      },
      "outputs": [
        {
          "name": "stdout",
          "output_type": "stream",
          "text": [
            "Tensor(\"args_2:0\", shape=(None, None), dtype=string)\n",
            "Tensor(\"args_2:0\", shape=(None, None), dtype=string)\n",
            "Epoch 1/12\n",
            "Computed:  (None, None, 64) (None, 64)\n",
            "Computed:  (None, 64) (None, 64)\n",
            "Computed:  (None, None, 64) (None, 64)\n",
            "Computed:  (None, 64) (None, 64)\n",
            "1/1 [==============================] - 28s 28s/step - factorized_top_k/top_1_categorical_accuracy: 0.0000e+00 - factorized_top_k/top_5_categorical_accuracy: 0.0000e+00 - factorized_top_k/top_10_categorical_accuracy: 0.0000e+00 - factorized_top_k/top_50_categorical_accuracy: 2.0000e-04 - factorized_top_k/top_100_categorical_accuracy: 2.0000e-04 - loss: 42585.4453 - regularization_loss: 0.0000e+00 - total_loss: 42585.4453\n",
            "Epoch 2/12\n",
            "1/1 [==============================] - 20s 20s/step - factorized_top_k/top_1_categorical_accuracy: 0.0000e+00 - factorized_top_k/top_5_categorical_accuracy: 0.0000e+00 - factorized_top_k/top_10_categorical_accuracy: 0.0000e+00 - factorized_top_k/top_50_categorical_accuracy: 0.0030 - factorized_top_k/top_100_categorical_accuracy: 0.0116 - loss: 42426.5078 - regularization_loss: 0.0000e+00 - total_loss: 42426.5078\n",
            "Epoch 3/12\n",
            "1/1 [==============================] - 20s 20s/step - factorized_top_k/top_1_categorical_accuracy: 2.0000e-04 - factorized_top_k/top_5_categorical_accuracy: 0.0030 - factorized_top_k/top_10_categorical_accuracy: 0.0038 - factorized_top_k/top_50_categorical_accuracy: 0.0090 - factorized_top_k/top_100_categorical_accuracy: 0.0148 - loss: 41608.7734 - regularization_loss: 0.0000e+00 - total_loss: 41608.7734\n",
            "Epoch 4/12\n",
            "1/1 [==============================] - 20s 20s/step - factorized_top_k/top_1_categorical_accuracy: 0.0156 - factorized_top_k/top_5_categorical_accuracy: 0.0512 - factorized_top_k/top_10_categorical_accuracy: 0.0766 - factorized_top_k/top_50_categorical_accuracy: 0.1554 - factorized_top_k/top_100_categorical_accuracy: 0.2152 - loss: 40222.2461 - regularization_loss: 0.0000e+00 - total_loss: 40222.2461\n",
            "Epoch 5/12\n",
            "1/1 [==============================] - 21s 21s/step - factorized_top_k/top_1_categorical_accuracy: 0.0698 - factorized_top_k/top_5_categorical_accuracy: 0.1812 - factorized_top_k/top_10_categorical_accuracy: 0.2456 - factorized_top_k/top_50_categorical_accuracy: 0.4182 - factorized_top_k/top_100_categorical_accuracy: 0.4890 - loss: 38795.8789 - regularization_loss: 0.0000e+00 - total_loss: 38795.8789\n",
            "Epoch 6/12\n",
            "1/1 [==============================] - 21s 21s/step - factorized_top_k/top_1_categorical_accuracy: 0.0436 - factorized_top_k/top_5_categorical_accuracy: 0.3626 - factorized_top_k/top_10_categorical_accuracy: 0.4620 - factorized_top_k/top_50_categorical_accuracy: 0.5922 - factorized_top_k/top_100_categorical_accuracy: 0.6440 - loss: 35832.7461 - regularization_loss: 0.0000e+00 - total_loss: 35832.7461\n",
            "Epoch 7/12\n",
            "1/1 [==============================] - 21s 21s/step - factorized_top_k/top_1_categorical_accuracy: 0.0412 - factorized_top_k/top_5_categorical_accuracy: 0.4322 - factorized_top_k/top_10_categorical_accuracy: 0.5440 - factorized_top_k/top_50_categorical_accuracy: 0.7140 - factorized_top_k/top_100_categorical_accuracy: 0.7670 - loss: 32343.4258 - regularization_loss: 0.0000e+00 - total_loss: 32343.4258\n",
            "Epoch 8/12\n",
            "1/1 [==============================] - 21s 21s/step - factorized_top_k/top_1_categorical_accuracy: 0.0182 - factorized_top_k/top_5_categorical_accuracy: 0.4758 - factorized_top_k/top_10_categorical_accuracy: 0.5952 - factorized_top_k/top_50_categorical_accuracy: 0.7444 - factorized_top_k/top_100_categorical_accuracy: 0.8006 - loss: 28815.6641 - regularization_loss: 0.0000e+00 - total_loss: 28815.6641\n",
            "Epoch 9/12\n",
            "1/1 [==============================] - 21s 21s/step - factorized_top_k/top_1_categorical_accuracy: 0.0514 - factorized_top_k/top_5_categorical_accuracy: 0.5338 - factorized_top_k/top_10_categorical_accuracy: 0.6568 - factorized_top_k/top_50_categorical_accuracy: 0.7886 - factorized_top_k/top_100_categorical_accuracy: 0.8276 - loss: 25388.8848 - regularization_loss: 0.0000e+00 - total_loss: 25388.8848\n",
            "Epoch 10/12\n",
            "1/1 [==============================] - 21s 21s/step - factorized_top_k/top_1_categorical_accuracy: 0.0538 - factorized_top_k/top_5_categorical_accuracy: 0.5614 - factorized_top_k/top_10_categorical_accuracy: 0.6810 - factorized_top_k/top_50_categorical_accuracy: 0.8046 - factorized_top_k/top_100_categorical_accuracy: 0.8524 - loss: 22409.6074 - regularization_loss: 0.0000e+00 - total_loss: 22409.6074\n",
            "Epoch 11/12\n",
            "1/1 [==============================] - 21s 21s/step - factorized_top_k/top_1_categorical_accuracy: 0.1054 - factorized_top_k/top_5_categorical_accuracy: 0.6022 - factorized_top_k/top_10_categorical_accuracy: 0.7160 - factorized_top_k/top_50_categorical_accuracy: 0.8356 - factorized_top_k/top_100_categorical_accuracy: 0.8708 - loss: 20107.0586 - regularization_loss: 0.0000e+00 - total_loss: 20107.0586\n",
            "Epoch 12/12\n",
            "1/1 [==============================] - 21s 21s/step - factorized_top_k/top_1_categorical_accuracy: 0.1472 - factorized_top_k/top_5_categorical_accuracy: 0.6406 - factorized_top_k/top_10_categorical_accuracy: 0.7392 - factorized_top_k/top_50_categorical_accuracy: 0.8488 - factorized_top_k/top_100_categorical_accuracy: 0.8874 - loss: 18445.1816 - regularization_loss: 0.0000e+00 - total_loss: 18445.1816\n"
          ]
        },
        {
          "data": {
            "text/plain": [
              "<keras.src.callbacks.History at 0x22127379600>"
            ]
          },
          "execution_count": 75,
          "metadata": {},
          "output_type": "execute_result"
        }
      ],
      "source": [
        "model = RecipeAndUserModel(unique_recipe_names, unique_tags, embedding_dimension)\n",
        "early_callback = tf.keras.callbacks.EarlyStopping(monitor='loss',  patience=5, min_delta=0.001)\n",
        "model.compile(optimizer=tf.keras.optimizers.Adagrad(learning_rate=0.1))\n",
        "model.fit(cached_train, epochs=12)"
      ]
    },
    {
      "cell_type": "code",
      "execution_count": 76,
      "metadata": {},
      "outputs": [
        {
          "name": "stdout",
          "output_type": "stream",
          "text": [
            "Computed:  (None, None, 64) (None, 64)\n",
            "Computed:  (None, 64) (None, 64)\n",
            "5/5 [==============================] - 82s 15s/step - factorized_top_k/top_1_categorical_accuracy: 0.0093 - factorized_top_k/top_5_categorical_accuracy: 0.0216 - factorized_top_k/top_10_categorical_accuracy: 0.0249 - factorized_top_k/top_50_categorical_accuracy: 0.0349 - factorized_top_k/top_100_categorical_accuracy: 0.0425 - loss: 35502.8314 - regularization_loss: 0.0000e+00 - total_loss: 35502.8314\n"
          ]
        },
        {
          "data": {
            "text/plain": [
              "{'factorized_top_k/top_1_categorical_accuracy': 0.00930000003427267,\n",
              " 'factorized_top_k/top_5_categorical_accuracy': 0.021649999544024467,\n",
              " 'factorized_top_k/top_10_categorical_accuracy': 0.024949999526143074,\n",
              " 'factorized_top_k/top_50_categorical_accuracy': 0.0348999984562397,\n",
              " 'factorized_top_k/top_100_categorical_accuracy': 0.042500000447034836,\n",
              " 'loss': 32250.1015625,\n",
              " 'regularization_loss': 0,\n",
              " 'total_loss': 32250.1015625}"
            ]
          },
          "execution_count": 76,
          "metadata": {},
          "output_type": "execute_result"
        }
      ],
      "source": [
        "model.evaluate(cached_test, return_dict=True)"
      ]
    },
    {
      "cell_type": "markdown",
      "metadata": {},
      "source": [
        "### Making predictions"
      ]
    },
    {
      "cell_type": "code",
      "execution_count": null,
      "metadata": {},
      "outputs": [],
      "source": [
        "unique_tags[:20]"
      ]
    },
    {
      "cell_type": "code",
      "execution_count": 77,
      "metadata": {},
      "outputs": [
        {
          "data": {
            "text/plain": [
              "array(['asian', 'asian', 'asian', 'asian', 'asian', 'asian', 'asian',\n",
              "       'asian', 'asian', 'asian', 'asian', 'asian', 'asian', 'asian',\n",
              "       'asian', 'african', 'african', 'african', 'african', 'african',\n",
              "       'african', 'african', 'african', 'african', 'african', 'african',\n",
              "       'african', 'african', 'african', 'african'], dtype='<U7')"
            ]
          },
          "execution_count": 77,
          "metadata": {},
          "output_type": "execute_result"
        }
      ],
      "source": [
        "likes = np.full(15, \"asian\")\n",
        "likes_2 = np.full(15, \"african\")\n",
        "likes = np.append(likes,likes_2)\n",
        "likes"
      ]
    },
    {
      "cell_type": "code",
      "execution_count": 79,
      "metadata": {},
      "outputs": [
        {
          "data": {
            "text/plain": [
              "array(['30-minutes-or-less', '30-minutes-or-less', '30-minutes-or-less',\n",
              "       '30-minutes-or-less', '30-minutes-or-less', '30-minutes-or-less',\n",
              "       '30-minutes-or-less', '30-minutes-or-less', '30-minutes-or-less',\n",
              "       '30-minutes-or-less', '60-minutes-or-less', '60-minutes-or-less',\n",
              "       '60-minutes-or-less', '60-minutes-or-less', '60-minutes-or-less',\n",
              "       '60-minutes-or-less', '60-minutes-or-less', '60-minutes-or-less',\n",
              "       '60-minutes-or-less', '60-minutes-or-less', 'empty', 'empty',\n",
              "       'empty', 'empty', 'empty', 'empty', 'empty', 'empty', 'empty',\n",
              "       'empty'], dtype='<U18')"
            ]
          },
          "execution_count": 79,
          "metadata": {},
          "output_type": "execute_result"
        }
      ],
      "source": [
        "dislikes = np.full(10, '30-minutes-or-less')\n",
        "dislikes_2 = np.full(10, '60-minutes-or-less')\n",
        "dislikes_3 = np.full(10, 'empty')\n",
        "dislikes = np.append(dislikes, [dislikes_2, dislikes_3])\n",
        "dislikes"
      ]
    },
    {
      "cell_type": "code",
      "execution_count": null,
      "metadata": {},
      "outputs": [],
      "source": [
        "test_user['liked_tags']"
      ]
    },
    {
      "cell_type": "code",
      "execution_count": 80,
      "metadata": {},
      "outputs": [
        {
          "name": "stdout",
          "output_type": "stream",
          "text": [
            "Tensor(\"args_2:0\", shape=(None, None), dtype=string)\n"
          ]
        }
      ],
      "source": [
        "# Извлечение данных пользователя\n",
        "test_user = {}\n",
        "for data in test.take(1).as_numpy_iterator():\n",
        "    test_user = data\n",
        "\n",
        "# Создание набора данных для тестового пользователя\n",
        "user_id_to_test = \"42\"  # Замените на нужный ID пользователя\n",
        "test_user_dataset = {\n",
        "    \"user_id\": np.array(test_user[\"user_id\"]),\n",
        "    \"liked_tags\": np.array(likes),\n",
        "    \"unliked_tags\": np.array(dislikes)\n",
        "}\n",
        "\n",
        "brute_force = tfrs.layers.factorized_top_k.BruteForce(model.user_model)\n",
        "def _reduce_mean_if_needed(embedding):\n",
        "    \"\"\"Сокращает размерность эмбеддинга до среднего, если он многомерный.\"\"\"\n",
        "    if len(embedding.shape) >= 3:\n",
        "        return tf.reduce_mean(embedding, axis=1)\n",
        "    return embedding\n",
        "dense = tf.keras.layers.Dense(96)\n",
        "\n",
        "def _get_candidate_embeddings(recipe_name):\n",
        "    # Получаем эмбеддинги для имен и тегов\n",
        "    recipe_embedding =  model.recipe_model(recipe_name['recipe_name'])\n",
        "    print(recipe_name['tags'])\n",
        "    tags_embedding = model.tags_model(recipe_name['tags'])  # Здесь предполагается, что recipe_name может содержать теги\n",
        "    recipe_embedding = _reduce_mean_if_needed(recipe_embedding)\n",
        "    tags_embedding = _reduce_mean_if_needed(tags_embedding)\n",
        "    # Объединяем эмбеддинги имен и тегов\n",
        "    combined_embedding = tf.concat([recipe_embedding, tags_embedding], axis=1)\n",
        "    return combined_embedding\n",
        "    \n",
        "# Создание набора данных для рецептов и тегов\n",
        "def get_recipe_and_tag_embeddings(x):\n",
        "    recipe_embedding = model.recipe_model(x['recipe_name'])  # (None, 32)\n",
        "    tag_embedding = model.tags_model(x['tags'])  # (None, 32)\n",
        "    recipe_embedding =_reduce_mean_if_needed(recipe_embedding)\n",
        "    tag_embedding = _reduce_mean_if_needed(tag_embedding)\n",
        "    \n",
        "    combined_embeddings = tf.concat([_reduce_mean_if_needed(recipe_embedding),  _reduce_mean_if_needed(tag_embedding)], axis=1)  # (None, 64)\n",
        "    \n",
        "    return dense(combined_embeddings)\n",
        "\n",
        "# Используем map для обработки всех данных сразу\n",
        "recipes_embeddings = recipes.batch(100).map(_get_candidate_embeddings)\n",
        "\n",
        "\n",
        "# Создание набора имен рецептов\n",
        "recipes_names = recipes.batch(100).map(lambda x: x[\"recipe_id\"])  # Убедитесь, что это (None,)\n",
        "\n",
        "# Объединяем эмбеддинги с именами\n",
        "index = brute_force.index_from_dataset(\n",
        "    tf.data.Dataset.zip((recipes_names, recipes_embeddings))\n",
        ")\n",
        "\n",
        "# Получаем рекомендации\n",
        "_, titles = index(test_user_dataset, k=15)\n",
        "\n",
        "# Вывод тегов для рекомендуемых рецептов\n",
        "recommended_tags = raw_recipes[raw_recipes['id'].isin(titles.numpy().flatten().astype('str'))]\n"
      ]
    },
    {
      "cell_type": "code",
      "execution_count": 81,
      "metadata": {},
      "outputs": [
        {
          "data": {
            "text/html": [
              "<div>\n",
              "<style scoped>\n",
              "    .dataframe tbody tr th:only-of-type {\n",
              "        vertical-align: middle;\n",
              "    }\n",
              "\n",
              "    .dataframe tbody tr th {\n",
              "        vertical-align: top;\n",
              "    }\n",
              "\n",
              "    .dataframe thead th {\n",
              "        text-align: right;\n",
              "    }\n",
              "</style>\n",
              "<table border=\"1\" class=\"dataframe\">\n",
              "  <thead>\n",
              "    <tr style=\"text-align: right;\">\n",
              "      <th></th>\n",
              "      <th>name</th>\n",
              "      <th>tags_str</th>\n",
              "    </tr>\n",
              "  </thead>\n",
              "  <tbody>\n",
              "    <tr>\n",
              "      <th>8046</th>\n",
              "      <td>apricot clafouti</td>\n",
              "      <td>60-minutes-or-less,time-to-make,course,main-in...</td>\n",
              "    </tr>\n",
              "    <tr>\n",
              "      <th>8345</th>\n",
              "      <td>apricots with blue cheese</td>\n",
              "      <td>15-minutes-or-less,time-to-make,course,main-in...</td>\n",
              "    </tr>\n",
              "    <tr>\n",
              "      <th>13953</th>\n",
              "      <td>baked corn casserole</td>\n",
              "      <td>weeknight,time-to-make,course,main-ingredient,...</td>\n",
              "    </tr>\n",
              "    <tr>\n",
              "      <th>29284</th>\n",
              "      <td>broccoli cheddar soup</td>\n",
              "      <td>30-minutes-or-less,time-to-make,course,main-in...</td>\n",
              "    </tr>\n",
              "    <tr>\n",
              "      <th>29716</th>\n",
              "      <td>broccoli cheddar soup</td>\n",
              "      <td>60-minutes-or-less,time-to-make,course,main-in...</td>\n",
              "    </tr>\n",
              "    <tr>\n",
              "      <th>30658</th>\n",
              "      <td>bruschetta chicken bake   weight watchers</td>\n",
              "      <td>60-minutes-or-less,time-to-make,course,main-in...</td>\n",
              "    </tr>\n",
              "    <tr>\n",
              "      <th>39609</th>\n",
              "      <td>cheese straws</td>\n",
              "      <td>30-minutes-or-less,time-to-make,course,main-in...</td>\n",
              "    </tr>\n",
              "    <tr>\n",
              "      <th>40922</th>\n",
              "      <td>cheesy vegetable casserole</td>\n",
              "      <td>60-minutes-or-less,time-to-make,course,main-in...</td>\n",
              "    </tr>\n",
              "    <tr>\n",
              "      <th>41201</th>\n",
              "      <td>cherry angel cream cake</td>\n",
              "      <td>30-minutes-or-less,time-to-make,course,prepara...</td>\n",
              "    </tr>\n",
              "    <tr>\n",
              "      <th>43627</th>\n",
              "      <td>chicken cacciatore and rigatoni</td>\n",
              "      <td>60-minutes-or-less,time-to-make,course,main-in...</td>\n",
              "    </tr>\n",
              "    <tr>\n",
              "      <th>48986</th>\n",
              "      <td>chipotles en adobo  chipotles chili in adobo s...</td>\n",
              "      <td>time-to-make,course,main-ingredient,cuisine,pr...</td>\n",
              "    </tr>\n",
              "    <tr>\n",
              "      <th>50523</th>\n",
              "      <td>chocolate eclair dessert</td>\n",
              "      <td>30-minutes-or-less,time-to-make,course,main-in...</td>\n",
              "    </tr>\n",
              "    <tr>\n",
              "      <th>51192</th>\n",
              "      <td>chocolate oreo bark</td>\n",
              "      <td>30-minutes-or-less,time-to-make,course,main-in...</td>\n",
              "    </tr>\n",
              "    <tr>\n",
              "      <th>66892</th>\n",
              "      <td>croque monsieur egg rolls   ww 2 points</td>\n",
              "      <td>ham,30-minutes-or-less,time-to-make,course,mai...</td>\n",
              "    </tr>\n",
              "    <tr>\n",
              "      <th>86995</th>\n",
              "      <td>fresh horseradish  hot stuff</td>\n",
              "      <td>15-minutes-or-less,time-to-make,course,main-in...</td>\n",
              "    </tr>\n",
              "    <tr>\n",
              "      <th>88876</th>\n",
              "      <td>fruit salsa and cinnamon chips</td>\n",
              "      <td>30-minutes-or-less,time-to-make,course,main-in...</td>\n",
              "    </tr>\n",
              "    <tr>\n",
              "      <th>89990</th>\n",
              "      <td>garlic baked brie spider</td>\n",
              "      <td>60-minutes-or-less,time-to-make,course,main-in...</td>\n",
              "    </tr>\n",
              "    <tr>\n",
              "      <th>90602</th>\n",
              "      <td>garlic shrimp pasta</td>\n",
              "      <td>30-minutes-or-less,time-to-make,course,main-in...</td>\n",
              "    </tr>\n",
              "    <tr>\n",
              "      <th>114420</th>\n",
              "      <td>japanese ginger pork  shogayaki</td>\n",
              "      <td>30-minutes-or-less,time-to-make,course,main-in...</td>\n",
              "    </tr>\n",
              "    <tr>\n",
              "      <th>123023</th>\n",
              "      <td>lenoxville general store hoagie sauce  italian...</td>\n",
              "      <td>15-minutes-or-less,time-to-make,course,prepara...</td>\n",
              "    </tr>\n",
              "    <tr>\n",
              "      <th>129317</th>\n",
              "      <td>mandarin orange pork chops</td>\n",
              "      <td>30-minutes-or-less,time-to-make,main-ingredien...</td>\n",
              "    </tr>\n",
              "    <tr>\n",
              "      <th>148828</th>\n",
              "      <td>orange coconut scones</td>\n",
              "      <td>30-minutes-or-less,15-minutes-or-less,time-to-...</td>\n",
              "    </tr>\n",
              "    <tr>\n",
              "      <th>158360</th>\n",
              "      <td>perfect meatloaf sandwich</td>\n",
              "      <td>15-minutes-or-less,time-to-make,course,main-in...</td>\n",
              "    </tr>\n",
              "    <tr>\n",
              "      <th>168407</th>\n",
              "      <td>quick and easy peanut butter and jelly cookies</td>\n",
              "      <td>60-minutes-or-less,time-to-make,course,cuisine...</td>\n",
              "    </tr>\n",
              "    <tr>\n",
              "      <th>170570</th>\n",
              "      <td>ranch style beans</td>\n",
              "      <td>course,main-ingredient,preparation,occasion,si...</td>\n",
              "    </tr>\n",
              "    <tr>\n",
              "      <th>170867</th>\n",
              "      <td>raspberry coulis</td>\n",
              "      <td>15-minutes-or-less,time-to-make,course,main-in...</td>\n",
              "    </tr>\n",
              "    <tr>\n",
              "      <th>201708</th>\n",
              "      <td>stroganoff sandwich</td>\n",
              "      <td>30-minutes-or-less,time-to-make,course,prepara...</td>\n",
              "    </tr>\n",
              "    <tr>\n",
              "      <th>210343</th>\n",
              "      <td>thai basil chicken in coconut curry sauce</td>\n",
              "      <td>curries,60-minutes-or-less,time-to-make,course...</td>\n",
              "    </tr>\n",
              "    <tr>\n",
              "      <th>217052</th>\n",
              "      <td>tsr version of aunt jemima maple syrup by todd...</td>\n",
              "      <td>30-minutes-or-less,time-to-make,course,cuisine...</td>\n",
              "    </tr>\n",
              "    <tr>\n",
              "      <th>218616</th>\n",
              "      <td>turnip and carrot mash</td>\n",
              "      <td>60-minutes-or-less,time-to-make,course,main-in...</td>\n",
              "    </tr>\n",
              "    <tr>\n",
              "      <th>226029</th>\n",
              "      <td>white castle cheeseburgers</td>\n",
              "      <td>60-minutes-or-less,time-to-make,course,main-in...</td>\n",
              "    </tr>\n",
              "  </tbody>\n",
              "</table>\n",
              "</div>"
            ],
            "text/plain": [
              "                                                     name  \\\n",
              "8046                                     apricot clafouti   \n",
              "8345                            apricots with blue cheese   \n",
              "13953                                baked corn casserole   \n",
              "29284                               broccoli cheddar soup   \n",
              "29716                               broccoli cheddar soup   \n",
              "30658           bruschetta chicken bake   weight watchers   \n",
              "39609                                       cheese straws   \n",
              "40922                          cheesy vegetable casserole   \n",
              "41201                             cherry angel cream cake   \n",
              "43627                     chicken cacciatore and rigatoni   \n",
              "48986   chipotles en adobo  chipotles chili in adobo s...   \n",
              "50523                            chocolate eclair dessert   \n",
              "51192                                 chocolate oreo bark   \n",
              "66892             croque monsieur egg rolls   ww 2 points   \n",
              "86995                        fresh horseradish  hot stuff   \n",
              "88876                      fruit salsa and cinnamon chips   \n",
              "89990                            garlic baked brie spider   \n",
              "90602                                 garlic shrimp pasta   \n",
              "114420                    japanese ginger pork  shogayaki   \n",
              "123023  lenoxville general store hoagie sauce  italian...   \n",
              "129317                         mandarin orange pork chops   \n",
              "148828                              orange coconut scones   \n",
              "158360                          perfect meatloaf sandwich   \n",
              "168407     quick and easy peanut butter and jelly cookies   \n",
              "170570                                  ranch style beans   \n",
              "170867                                   raspberry coulis   \n",
              "201708                                stroganoff sandwich   \n",
              "210343          thai basil chicken in coconut curry sauce   \n",
              "217052  tsr version of aunt jemima maple syrup by todd...   \n",
              "218616                             turnip and carrot mash   \n",
              "226029                         white castle cheeseburgers   \n",
              "\n",
              "                                                 tags_str  \n",
              "8046    60-minutes-or-less,time-to-make,course,main-in...  \n",
              "8345    15-minutes-or-less,time-to-make,course,main-in...  \n",
              "13953   weeknight,time-to-make,course,main-ingredient,...  \n",
              "29284   30-minutes-or-less,time-to-make,course,main-in...  \n",
              "29716   60-minutes-or-less,time-to-make,course,main-in...  \n",
              "30658   60-minutes-or-less,time-to-make,course,main-in...  \n",
              "39609   30-minutes-or-less,time-to-make,course,main-in...  \n",
              "40922   60-minutes-or-less,time-to-make,course,main-in...  \n",
              "41201   30-minutes-or-less,time-to-make,course,prepara...  \n",
              "43627   60-minutes-or-less,time-to-make,course,main-in...  \n",
              "48986   time-to-make,course,main-ingredient,cuisine,pr...  \n",
              "50523   30-minutes-or-less,time-to-make,course,main-in...  \n",
              "51192   30-minutes-or-less,time-to-make,course,main-in...  \n",
              "66892   ham,30-minutes-or-less,time-to-make,course,mai...  \n",
              "86995   15-minutes-or-less,time-to-make,course,main-in...  \n",
              "88876   30-minutes-or-less,time-to-make,course,main-in...  \n",
              "89990   60-minutes-or-less,time-to-make,course,main-in...  \n",
              "90602   30-minutes-or-less,time-to-make,course,main-in...  \n",
              "114420  30-minutes-or-less,time-to-make,course,main-in...  \n",
              "123023  15-minutes-or-less,time-to-make,course,prepara...  \n",
              "129317  30-minutes-or-less,time-to-make,main-ingredien...  \n",
              "148828  30-minutes-or-less,15-minutes-or-less,time-to-...  \n",
              "158360  15-minutes-or-less,time-to-make,course,main-in...  \n",
              "168407  60-minutes-or-less,time-to-make,course,cuisine...  \n",
              "170570  course,main-ingredient,preparation,occasion,si...  \n",
              "170867  15-minutes-or-less,time-to-make,course,main-in...  \n",
              "201708  30-minutes-or-less,time-to-make,course,prepara...  \n",
              "210343  curries,60-minutes-or-less,time-to-make,course...  \n",
              "217052  30-minutes-or-less,time-to-make,course,cuisine...  \n",
              "218616  60-minutes-or-less,time-to-make,course,main-in...  \n",
              "226029  60-minutes-or-less,time-to-make,course,main-in...  "
            ]
          },
          "execution_count": 81,
          "metadata": {},
          "output_type": "execute_result"
        }
      ],
      "source": [
        "recommended_tags[['name', 'tags_str']]"
      ]
    },
    {
      "cell_type": "code",
      "execution_count": null,
      "metadata": {},
      "outputs": [],
      "source": [
        "recommended_tags[['name', 'tags_str']]"
      ]
    }
  ],
  "metadata": {
    "colab": {
      "provenance": []
    },
    "kernelspec": {
      "display_name": "Python 3",
      "name": "python3"
    },
    "language_info": {
      "codemirror_mode": {
        "name": "ipython",
        "version": 3
      },
      "file_extension": ".py",
      "mimetype": "text/x-python",
      "name": "python",
      "nbconvert_exporter": "python",
      "pygments_lexer": "ipython3",
      "version": "3.10.0"
    }
  },
  "nbformat": 4,
  "nbformat_minor": 0
}
