{
  "cells": [
    {
      "cell_type": "code",
      "execution_count": 1,
      "metadata": {
        "id": "2rptU6mxyaoP"
      },
      "outputs": [
        {
          "name": "stdout",
          "output_type": "stream",
          "text": [
            "WARNING:tensorflow:From C:\\Users\\Maincharter\\AppData\\Roaming\\Python\\Python310\\site-packages\\keras\\src\\losses.py:2976: The name tf.losses.sparse_softmax_cross_entropy is deprecated. Please use tf.compat.v1.losses.sparse_softmax_cross_entropy instead.\n",
            "\n"
          ]
        }
      ],
      "source": [
        "from typing import Dict, Text\n",
        "\n",
        "import numpy as np\n",
        "import tensorflow as tf\n",
        "import tensorflow_datasets as tfds\n",
        "import pandas as pd\n",
        "import tensorflow_recommenders as tfrs"
      ]
    },
    {
      "cell_type": "code",
      "execution_count": 2,
      "metadata": {},
      "outputs": [],
      "source": [
        "import os\n",
        "os.environ['TF_ENABLE_ONEDNN_OPTS'] = '0'"
      ]
    },
    {
      "cell_type": "markdown",
      "metadata": {
        "id": "16W1-BvjtVmz"
      },
      "source": [
        "Let's pretend we have 3 users:\n",
        "1. Clarissa is a vegetarian who is lactose intolerant. 🥝🍅\n",
        "2. Martin is an athlete who prefers meat dishes to vegetable dishes. 🍖🥩\n",
        "3. Stella - has no special preferences, eats mostly everything. 🍲🍠"
      ]
    },
    {
      "cell_type": "code",
      "execution_count": 3,
      "metadata": {
        "id": "FDNshkxJvR-U"
      },
      "outputs": [],
      "source": [
        "clarissa = {'id':'clr', 'prefers': ['vegetables', 'vegan', 'nomeat', 'vegetarian'], 'hates': ['meat', 'lactose']}\n",
        "martin = {'id':'mrt', 'prefers': 'meat', 'hates': 'vegetables'}\n",
        "stella = {'id':'stl', 'prefers': '', 'hates': ''}"
      ]
    },
    {
      "cell_type": "markdown",
      "metadata": {
        "id": "FS8T34Y4xNhX"
      },
      "source": [
        "We will additionally enter the factors Calories, Protein, Fat, Carbohydrates for our requirements. **(The numbers were taken at random and do not reflect proportions or recommendations - the numbers are just an example)**\n",
        "* Clarissa - 2000/100/60/120\n",
        "* Martin, 2600/150/100/328.\n",
        "* Stella - 2200/80/50/100"
      ]
    },
    {
      "cell_type": "code",
      "execution_count": 4,
      "metadata": {
        "id": "qoPCpCLMxUob"
      },
      "outputs": [],
      "source": [
        "def set_requirements(user, calories, proteins, fats, carbs):\n",
        "  user['calories'] = calories\n",
        "  user['proteins'] = proteins\n",
        "  user['fats'] = fats\n",
        "  user['carbs'] = carbs\n",
        "set_requirements(clarissa, 2000, 100, 60, 120)\n",
        "set_requirements(martin, 2600, 150, 100, 328)\n",
        "set_requirements(martin, 2200, 80, 50, 100)\n"
      ]
    },
    {
      "cell_type": "markdown",
      "metadata": {
        "id": "iFMln3jutPpe"
      },
      "source": [
        "# Data processing 📊"
      ]
    },
    {
      "cell_type": "markdown",
      "metadata": {
        "id": "yDHv_HGvzWkB"
      },
      "source": [
        "Loading recipes and user_interactions. Nutritions showed like:calories (#), total fat (PDV), sugar (PDV) , sodium (PDV) , protein (PDV) , saturated fat (PDV) , and carbohydrates (PDV)"
      ]
    },
    {
      "cell_type": "code",
      "execution_count": 5,
      "metadata": {
        "colab": {
          "base_uri": "https://localhost:8080/",
          "height": 293
        },
        "id": "1gVJ6QAiyXLz",
        "outputId": "0e6c0673-457a-4063-eaa5-b553ec30edc8"
      },
      "outputs": [
        {
          "data": {
            "text/html": [
              "<div>\n",
              "<style scoped>\n",
              "    .dataframe tbody tr th:only-of-type {\n",
              "        vertical-align: middle;\n",
              "    }\n",
              "\n",
              "    .dataframe tbody tr th {\n",
              "        vertical-align: top;\n",
              "    }\n",
              "\n",
              "    .dataframe thead th {\n",
              "        text-align: right;\n",
              "    }\n",
              "</style>\n",
              "<table border=\"1\" class=\"dataframe\">\n",
              "  <thead>\n",
              "    <tr style=\"text-align: right;\">\n",
              "      <th></th>\n",
              "      <th>name</th>\n",
              "      <th>id</th>\n",
              "      <th>minutes</th>\n",
              "      <th>contributor_id</th>\n",
              "      <th>submitted</th>\n",
              "      <th>tags</th>\n",
              "      <th>nutrition</th>\n",
              "      <th>n_steps</th>\n",
              "      <th>steps</th>\n",
              "      <th>description</th>\n",
              "      <th>ingredients</th>\n",
              "      <th>n_ingredients</th>\n",
              "    </tr>\n",
              "  </thead>\n",
              "  <tbody>\n",
              "    <tr>\n",
              "      <th>0</th>\n",
              "      <td>arriba   baked winter squash mexican style</td>\n",
              "      <td>137739</td>\n",
              "      <td>55</td>\n",
              "      <td>47892</td>\n",
              "      <td>2005-09-16</td>\n",
              "      <td>['60-minutes-or-less', 'time-to-make', 'course...</td>\n",
              "      <td>[51.5, 0.0, 13.0, 0.0, 2.0, 0.0, 4.0]</td>\n",
              "      <td>11</td>\n",
              "      <td>['make a choice and proceed with recipe', 'dep...</td>\n",
              "      <td>autumn is my favorite time of year to cook! th...</td>\n",
              "      <td>['winter squash', 'mexican seasoning', 'mixed ...</td>\n",
              "      <td>7</td>\n",
              "    </tr>\n",
              "    <tr>\n",
              "      <th>1</th>\n",
              "      <td>a bit different  breakfast pizza</td>\n",
              "      <td>31490</td>\n",
              "      <td>30</td>\n",
              "      <td>26278</td>\n",
              "      <td>2002-06-17</td>\n",
              "      <td>['30-minutes-or-less', 'time-to-make', 'course...</td>\n",
              "      <td>[173.4, 18.0, 0.0, 17.0, 22.0, 35.0, 1.0]</td>\n",
              "      <td>9</td>\n",
              "      <td>['preheat oven to 425 degrees f', 'press dough...</td>\n",
              "      <td>this recipe calls for the crust to be prebaked...</td>\n",
              "      <td>['prepared pizza crust', 'sausage patty', 'egg...</td>\n",
              "      <td>6</td>\n",
              "    </tr>\n",
              "    <tr>\n",
              "      <th>2</th>\n",
              "      <td>all in the kitchen  chili</td>\n",
              "      <td>112140</td>\n",
              "      <td>130</td>\n",
              "      <td>196586</td>\n",
              "      <td>2005-02-25</td>\n",
              "      <td>['time-to-make', 'course', 'preparation', 'mai...</td>\n",
              "      <td>[269.8, 22.0, 32.0, 48.0, 39.0, 27.0, 5.0]</td>\n",
              "      <td>6</td>\n",
              "      <td>['brown ground beef in large pot', 'add choppe...</td>\n",
              "      <td>this modified version of 'mom's' chili was a h...</td>\n",
              "      <td>['ground beef', 'yellow onions', 'diced tomato...</td>\n",
              "      <td>13</td>\n",
              "    </tr>\n",
              "    <tr>\n",
              "      <th>3</th>\n",
              "      <td>alouette  potatoes</td>\n",
              "      <td>59389</td>\n",
              "      <td>45</td>\n",
              "      <td>68585</td>\n",
              "      <td>2003-04-14</td>\n",
              "      <td>['60-minutes-or-less', 'time-to-make', 'course...</td>\n",
              "      <td>[368.1, 17.0, 10.0, 2.0, 14.0, 8.0, 20.0]</td>\n",
              "      <td>11</td>\n",
              "      <td>['place potatoes in a large pot of lightly sal...</td>\n",
              "      <td>this is a super easy, great tasting, make ahea...</td>\n",
              "      <td>['spreadable cheese with garlic and herbs', 'n...</td>\n",
              "      <td>11</td>\n",
              "    </tr>\n",
              "    <tr>\n",
              "      <th>4</th>\n",
              "      <td>amish  tomato ketchup  for canning</td>\n",
              "      <td>44061</td>\n",
              "      <td>190</td>\n",
              "      <td>41706</td>\n",
              "      <td>2002-10-25</td>\n",
              "      <td>['weeknight', 'time-to-make', 'course', 'main-...</td>\n",
              "      <td>[352.9, 1.0, 337.0, 23.0, 3.0, 0.0, 28.0]</td>\n",
              "      <td>5</td>\n",
              "      <td>['mix all ingredients&amp; boil for 2 1 / 2 hours ...</td>\n",
              "      <td>my dh's amish mother raised him on this recipe...</td>\n",
              "      <td>['tomato juice', 'apple cider vinegar', 'sugar...</td>\n",
              "      <td>8</td>\n",
              "    </tr>\n",
              "  </tbody>\n",
              "</table>\n",
              "</div>"
            ],
            "text/plain": [
              "                                         name      id  minutes  \\\n",
              "0  arriba   baked winter squash mexican style  137739       55   \n",
              "1            a bit different  breakfast pizza   31490       30   \n",
              "2                   all in the kitchen  chili  112140      130   \n",
              "3                          alouette  potatoes   59389       45   \n",
              "4          amish  tomato ketchup  for canning   44061      190   \n",
              "\n",
              "   contributor_id   submitted  \\\n",
              "0           47892  2005-09-16   \n",
              "1           26278  2002-06-17   \n",
              "2          196586  2005-02-25   \n",
              "3           68585  2003-04-14   \n",
              "4           41706  2002-10-25   \n",
              "\n",
              "                                                tags  \\\n",
              "0  ['60-minutes-or-less', 'time-to-make', 'course...   \n",
              "1  ['30-minutes-or-less', 'time-to-make', 'course...   \n",
              "2  ['time-to-make', 'course', 'preparation', 'mai...   \n",
              "3  ['60-minutes-or-less', 'time-to-make', 'course...   \n",
              "4  ['weeknight', 'time-to-make', 'course', 'main-...   \n",
              "\n",
              "                                    nutrition  n_steps  \\\n",
              "0       [51.5, 0.0, 13.0, 0.0, 2.0, 0.0, 4.0]       11   \n",
              "1   [173.4, 18.0, 0.0, 17.0, 22.0, 35.0, 1.0]        9   \n",
              "2  [269.8, 22.0, 32.0, 48.0, 39.0, 27.0, 5.0]        6   \n",
              "3   [368.1, 17.0, 10.0, 2.0, 14.0, 8.0, 20.0]       11   \n",
              "4   [352.9, 1.0, 337.0, 23.0, 3.0, 0.0, 28.0]        5   \n",
              "\n",
              "                                               steps  \\\n",
              "0  ['make a choice and proceed with recipe', 'dep...   \n",
              "1  ['preheat oven to 425 degrees f', 'press dough...   \n",
              "2  ['brown ground beef in large pot', 'add choppe...   \n",
              "3  ['place potatoes in a large pot of lightly sal...   \n",
              "4  ['mix all ingredients& boil for 2 1 / 2 hours ...   \n",
              "\n",
              "                                         description  \\\n",
              "0  autumn is my favorite time of year to cook! th...   \n",
              "1  this recipe calls for the crust to be prebaked...   \n",
              "2  this modified version of 'mom's' chili was a h...   \n",
              "3  this is a super easy, great tasting, make ahea...   \n",
              "4  my dh's amish mother raised him on this recipe...   \n",
              "\n",
              "                                         ingredients  n_ingredients  \n",
              "0  ['winter squash', 'mexican seasoning', 'mixed ...              7  \n",
              "1  ['prepared pizza crust', 'sausage patty', 'egg...              6  \n",
              "2  ['ground beef', 'yellow onions', 'diced tomato...             13  \n",
              "3  ['spreadable cheese with garlic and herbs', 'n...             11  \n",
              "4  ['tomato juice', 'apple cider vinegar', 'sugar...              8  "
            ]
          },
          "execution_count": 5,
          "metadata": {},
          "output_type": "execute_result"
        }
      ],
      "source": [
        "raw_recipes = pd.read_csv('./sample_data/RAW_recipes.csv')\n",
        "raw_interactions = pd.read_csv('./sample_data/RAW_interactions.csv')\n",
        "raw_recipes.head()"
      ]
    },
    {
      "cell_type": "markdown",
      "metadata": {
        "id": "9_z_pQgv4fvC"
      },
      "source": [
        "Merge data interactions with recipe infos"
      ]
    },
    {
      "cell_type": "code",
      "execution_count": 6,
      "metadata": {
        "colab": {
          "base_uri": "https://localhost:8080/",
          "height": 293
        },
        "id": "ahU35J7P31xt",
        "outputId": "f26e3ef4-cfee-4ecd-b0bd-44e31a36503b"
      },
      "outputs": [
        {
          "data": {
            "text/html": [
              "<div>\n",
              "<style scoped>\n",
              "    .dataframe tbody tr th:only-of-type {\n",
              "        vertical-align: middle;\n",
              "    }\n",
              "\n",
              "    .dataframe tbody tr th {\n",
              "        vertical-align: top;\n",
              "    }\n",
              "\n",
              "    .dataframe thead th {\n",
              "        text-align: right;\n",
              "    }\n",
              "</style>\n",
              "<table border=\"1\" class=\"dataframe\">\n",
              "  <thead>\n",
              "    <tr style=\"text-align: right;\">\n",
              "      <th></th>\n",
              "      <th>user_id</th>\n",
              "      <th>recipe_id</th>\n",
              "      <th>rating</th>\n",
              "      <th>recipe_name</th>\n",
              "      <th>tags</th>\n",
              "      <th>ingredients</th>\n",
              "    </tr>\n",
              "  </thead>\n",
              "  <tbody>\n",
              "    <tr>\n",
              "      <th>0</th>\n",
              "      <td>38094</td>\n",
              "      <td>40893</td>\n",
              "      <td>4</td>\n",
              "      <td>white bean   green chile pepper soup</td>\n",
              "      <td>['weeknight', 'time-to-make', 'course', 'main-...</td>\n",
              "      <td>['great northern beans', 'yellow onion', 'dice...</td>\n",
              "    </tr>\n",
              "    <tr>\n",
              "      <th>1</th>\n",
              "      <td>1293707</td>\n",
              "      <td>40893</td>\n",
              "      <td>5</td>\n",
              "      <td>white bean   green chile pepper soup</td>\n",
              "      <td>['weeknight', 'time-to-make', 'course', 'main-...</td>\n",
              "      <td>['great northern beans', 'yellow onion', 'dice...</td>\n",
              "    </tr>\n",
              "    <tr>\n",
              "      <th>2</th>\n",
              "      <td>8937</td>\n",
              "      <td>44394</td>\n",
              "      <td>4</td>\n",
              "      <td>devilicious cookie cake delights</td>\n",
              "      <td>['30-minutes-or-less', 'time-to-make', 'course...</td>\n",
              "      <td>[\"devil's food cake mix\", 'vegetable oil', 'eg...</td>\n",
              "    </tr>\n",
              "    <tr>\n",
              "      <th>3</th>\n",
              "      <td>126440</td>\n",
              "      <td>85009</td>\n",
              "      <td>5</td>\n",
              "      <td>baked potato toppings</td>\n",
              "      <td>['15-minutes-or-less', 'time-to-make', 'course...</td>\n",
              "      <td>['mayonnaise', 'salsa', 'cheddar cheese', 'ref...</td>\n",
              "    </tr>\n",
              "    <tr>\n",
              "      <th>4</th>\n",
              "      <td>57222</td>\n",
              "      <td>85009</td>\n",
              "      <td>5</td>\n",
              "      <td>baked potato toppings</td>\n",
              "      <td>['15-minutes-or-less', 'time-to-make', 'course...</td>\n",
              "      <td>['mayonnaise', 'salsa', 'cheddar cheese', 'ref...</td>\n",
              "    </tr>\n",
              "  </tbody>\n",
              "</table>\n",
              "</div>"
            ],
            "text/plain": [
              "   user_id  recipe_id  rating                           recipe_name  \\\n",
              "0    38094      40893       4  white bean   green chile pepper soup   \n",
              "1  1293707      40893       5  white bean   green chile pepper soup   \n",
              "2     8937      44394       4      devilicious cookie cake delights   \n",
              "3   126440      85009       5                 baked potato toppings   \n",
              "4    57222      85009       5                 baked potato toppings   \n",
              "\n",
              "                                                tags  \\\n",
              "0  ['weeknight', 'time-to-make', 'course', 'main-...   \n",
              "1  ['weeknight', 'time-to-make', 'course', 'main-...   \n",
              "2  ['30-minutes-or-less', 'time-to-make', 'course...   \n",
              "3  ['15-minutes-or-less', 'time-to-make', 'course...   \n",
              "4  ['15-minutes-or-less', 'time-to-make', 'course...   \n",
              "\n",
              "                                         ingredients  \n",
              "0  ['great northern beans', 'yellow onion', 'dice...  \n",
              "1  ['great northern beans', 'yellow onion', 'dice...  \n",
              "2  [\"devil's food cake mix\", 'vegetable oil', 'eg...  \n",
              "3  ['mayonnaise', 'salsa', 'cheddar cheese', 'ref...  \n",
              "4  ['mayonnaise', 'salsa', 'cheddar cheese', 'ref...  "
            ]
          },
          "execution_count": 6,
          "metadata": {},
          "output_type": "execute_result"
        }
      ],
      "source": [
        "interactions_with_recipe_info = pd.merge(raw_interactions, raw_recipes[['name', 'tags', 'ingredients', 'id']], left_on='recipe_id', right_on='id', how='left')\n",
        "interactions_with_recipe_info = interactions_with_recipe_info[['user_id', 'recipe_id', 'rating', 'name', 'tags', 'ingredients']]\n",
        "interactions_with_recipe_info.rename(columns={'name': 'recipe_name'}, inplace=True)\n",
        "interactions_with_recipe_info.head()"
      ]
    },
    {
      "cell_type": "code",
      "execution_count": 7,
      "metadata": {
        "id": "a47R5lVA2r_t"
      },
      "outputs": [],
      "source": [
        "import ast\n",
        "\n",
        "def convert_to_list(data_str):\n",
        "  try:\n",
        "    return ast.literal_eval(data_str)\n",
        "  except (SyntaxError, ValueError):\n",
        "    return []"
      ]
    },
    {
      "cell_type": "code",
      "execution_count": 8,
      "metadata": {
        "id": "Fai3Kw-i7xmw"
      },
      "outputs": [],
      "source": [
        "interactions_with_recipe_info['ingredients_str'] = interactions_with_recipe_info['ingredients'].apply(convert_to_list)\n",
        "interactions_with_recipe_info['tags_str'] = interactions_with_recipe_info['tags'].apply(convert_to_list)\n",
        "\n",
        "raw_recipes['ingredients_str'] = raw_recipes['ingredients'].apply(convert_to_list)\n",
        "raw_recipes['tags_str'] = raw_recipes['tags'].apply(convert_to_list)"
      ]
    },
    {
      "cell_type": "code",
      "execution_count": 9,
      "metadata": {},
      "outputs": [
        {
          "data": {
            "text/plain": [
              "array([ 9,  4, 13,  2, 12, 10, 16,  8, 14, 15,  7, 11,  6,  5, 23, 22, 17,\n",
              "        3, 18, 19, 21, 26, 29, 24, 20, 27, 25, 33, 30, 31,  1, 28, 35, 32,\n",
              "       34, 43, 40, 39, 37, 36, 38], dtype=int64)"
            ]
          },
          "execution_count": 9,
          "metadata": {},
          "output_type": "execute_result"
        }
      ],
      "source": [
        "interactions_with_recipe_info['ingredients_str'].str.len().unique()"
      ]
    },
    {
      "cell_type": "markdown",
      "metadata": {
        "id": "nVgYKJQ57wyE"
      },
      "source": [
        "Formatting data for Datasets"
      ]
    },
    {
      "cell_type": "code",
      "execution_count": 10,
      "metadata": {
        "id": "6wavCmee7zWl"
      },
      "outputs": [],
      "source": [
        "interactions_with_recipe_info['user_id'] = interactions_with_recipe_info.user_id.astype(\"str\")\n",
        "interactions_with_recipe_info['recipe_id'] = interactions_with_recipe_info.recipe_id.astype(\"str\")\n",
        "interactions_with_recipe_info['rating'] = interactions_with_recipe_info.rating.astype(np.float32)\n",
        "interactions_with_recipe_info['recipe_name'] = interactions_with_recipe_info.recipe_name.astype(\"str\")\n",
        "interactions_with_recipe_info['tags'] = interactions_with_recipe_info.tags.astype(\"str\")\n",
        "interactions_with_recipe_info['ingredients'] = interactions_with_recipe_info.ingredients.astype(\"str\")\n"
      ]
    },
    {
      "cell_type": "markdown",
      "metadata": {
        "id": "ZMXuOAHX9sgD"
      },
      "source": [
        "Creating train preferences for users"
      ]
    },
    {
      "cell_type": "code",
      "execution_count": 11,
      "metadata": {
        "colab": {
          "base_uri": "https://localhost:8080/",
          "height": 206
        },
        "id": "4XwFlxfM9wJI",
        "outputId": "c018cb40-8d45-400f-93bf-e5dc2ee5b992"
      },
      "outputs": [
        {
          "data": {
            "text/html": [
              "<div>\n",
              "<style scoped>\n",
              "    .dataframe tbody tr th:only-of-type {\n",
              "        vertical-align: middle;\n",
              "    }\n",
              "\n",
              "    .dataframe tbody tr th {\n",
              "        vertical-align: top;\n",
              "    }\n",
              "\n",
              "    .dataframe thead th {\n",
              "        text-align: right;\n",
              "    }\n",
              "</style>\n",
              "<table border=\"1\" class=\"dataframe\">\n",
              "  <thead>\n",
              "    <tr style=\"text-align: right;\">\n",
              "      <th></th>\n",
              "      <th>user_id</th>\n",
              "      <th>rating</th>\n",
              "      <th>tags_str</th>\n",
              "    </tr>\n",
              "  </thead>\n",
              "  <tbody>\n",
              "    <tr>\n",
              "      <th>0</th>\n",
              "      <td>38094</td>\n",
              "      <td>4.0</td>\n",
              "      <td>[weeknight, time-to-make, course, main-ingredi...</td>\n",
              "    </tr>\n",
              "    <tr>\n",
              "      <th>1</th>\n",
              "      <td>1293707</td>\n",
              "      <td>5.0</td>\n",
              "      <td>[weeknight, time-to-make, course, main-ingredi...</td>\n",
              "    </tr>\n",
              "    <tr>\n",
              "      <th>2</th>\n",
              "      <td>8937</td>\n",
              "      <td>4.0</td>\n",
              "      <td>[30-minutes-or-less, time-to-make, course, mai...</td>\n",
              "    </tr>\n",
              "    <tr>\n",
              "      <th>3</th>\n",
              "      <td>126440</td>\n",
              "      <td>5.0</td>\n",
              "      <td>[15-minutes-or-less, time-to-make, course, mai...</td>\n",
              "    </tr>\n",
              "    <tr>\n",
              "      <th>4</th>\n",
              "      <td>57222</td>\n",
              "      <td>5.0</td>\n",
              "      <td>[15-minutes-or-less, time-to-make, course, mai...</td>\n",
              "    </tr>\n",
              "  </tbody>\n",
              "</table>\n",
              "</div>"
            ],
            "text/plain": [
              "   user_id  rating                                           tags_str\n",
              "0    38094     4.0  [weeknight, time-to-make, course, main-ingredi...\n",
              "1  1293707     5.0  [weeknight, time-to-make, course, main-ingredi...\n",
              "2     8937     4.0  [30-minutes-or-less, time-to-make, course, mai...\n",
              "3   126440     5.0  [15-minutes-or-less, time-to-make, course, mai...\n",
              "4    57222     5.0  [15-minutes-or-less, time-to-make, course, mai..."
            ]
          },
          "execution_count": 11,
          "metadata": {},
          "output_type": "execute_result"
        }
      ],
      "source": [
        "user_preferences = interactions_with_recipe_info[['user_id', 'rating', 'tags_str']]\n",
        "user_preferences.head()"
      ]
    },
    {
      "cell_type": "code",
      "execution_count": 12,
      "metadata": {
        "id": "RN5oeRb--M5o"
      },
      "outputs": [],
      "source": [
        "user_liked_tags = user_preferences[user_preferences['rating'] >= 3].groupby('user_id')['tags_str'].apply(list).reset_index()\n",
        "user_unliked_tags = user_preferences[user_preferences['rating'] < 3].groupby('user_id')['tags_str'].apply(list).reset_index()\n",
        "users_ds = pd.DataFrame(interactions_with_recipe_info['user_id'].unique(), columns=['user_id'])\n"
      ]
    },
    {
      "cell_type": "code",
      "execution_count": 13,
      "metadata": {
        "id": "swe2hQ9dBZsI"
      },
      "outputs": [],
      "source": [
        "users_ds = users_ds.merge(user_liked_tags, on='user_id', how='left')\n",
        "users_ds = users_ds.rename(columns={'tags_str': 'liked_tags'})\n",
        "users_ds = users_ds.merge(user_unliked_tags, on='user_id', how='left')\n",
        "users_ds = users_ds.rename(columns={'tags_str': 'unliked_tags'})"
      ]
    },
    {
      "cell_type": "code",
      "execution_count": 14,
      "metadata": {
        "colab": {
          "base_uri": "https://localhost:8080/",
          "height": 206
        },
        "id": "M2fouB8BCOLp",
        "outputId": "f28b08de-b1ec-49c8-8dc9-6a88074c7444"
      },
      "outputs": [
        {
          "data": {
            "text/html": [
              "<div>\n",
              "<style scoped>\n",
              "    .dataframe tbody tr th:only-of-type {\n",
              "        vertical-align: middle;\n",
              "    }\n",
              "\n",
              "    .dataframe tbody tr th {\n",
              "        vertical-align: top;\n",
              "    }\n",
              "\n",
              "    .dataframe thead th {\n",
              "        text-align: right;\n",
              "    }\n",
              "</style>\n",
              "<table border=\"1\" class=\"dataframe\">\n",
              "  <thead>\n",
              "    <tr style=\"text-align: right;\">\n",
              "      <th></th>\n",
              "      <th>user_id</th>\n",
              "      <th>liked_tags</th>\n",
              "      <th>unliked_tags</th>\n",
              "    </tr>\n",
              "  </thead>\n",
              "  <tbody>\n",
              "    <tr>\n",
              "      <th>0</th>\n",
              "      <td>38094</td>\n",
              "      <td>[[weeknight, time-to-make, course, main-ingred...</td>\n",
              "      <td>NaN</td>\n",
              "    </tr>\n",
              "    <tr>\n",
              "      <th>1</th>\n",
              "      <td>1293707</td>\n",
              "      <td>[[weeknight, time-to-make, course, main-ingred...</td>\n",
              "      <td>[[60-minutes-or-less, time-to-make, course, ma...</td>\n",
              "    </tr>\n",
              "    <tr>\n",
              "      <th>2</th>\n",
              "      <td>8937</td>\n",
              "      <td>[[30-minutes-or-less, time-to-make, course, ma...</td>\n",
              "      <td>NaN</td>\n",
              "    </tr>\n",
              "    <tr>\n",
              "      <th>3</th>\n",
              "      <td>126440</td>\n",
              "      <td>[[15-minutes-or-less, time-to-make, course, ma...</td>\n",
              "      <td>[[60-minutes-or-less, time-to-make, course, pr...</td>\n",
              "    </tr>\n",
              "    <tr>\n",
              "      <th>4</th>\n",
              "      <td>57222</td>\n",
              "      <td>[[15-minutes-or-less, time-to-make, course, ma...</td>\n",
              "      <td>[[60-minutes-or-less, time-to-make, course, ma...</td>\n",
              "    </tr>\n",
              "  </tbody>\n",
              "</table>\n",
              "</div>"
            ],
            "text/plain": [
              "   user_id                                         liked_tags  \\\n",
              "0    38094  [[weeknight, time-to-make, course, main-ingred...   \n",
              "1  1293707  [[weeknight, time-to-make, course, main-ingred...   \n",
              "2     8937  [[30-minutes-or-less, time-to-make, course, ma...   \n",
              "3   126440  [[15-minutes-or-less, time-to-make, course, ma...   \n",
              "4    57222  [[15-minutes-or-less, time-to-make, course, ma...   \n",
              "\n",
              "                                        unliked_tags  \n",
              "0                                                NaN  \n",
              "1  [[60-minutes-or-less, time-to-make, course, ma...  \n",
              "2                                                NaN  \n",
              "3  [[60-minutes-or-less, time-to-make, course, pr...  \n",
              "4  [[60-minutes-or-less, time-to-make, course, ma...  "
            ]
          },
          "execution_count": 14,
          "metadata": {},
          "output_type": "execute_result"
        }
      ],
      "source": [
        "users_ds.head()"
      ]
    },
    {
      "cell_type": "markdown",
      "metadata": {
        "id": "O9knZ5NNC1C0"
      },
      "source": [
        "Looking that some of users don't have unliked_tags, so replace all Nan with empty arrays"
      ]
    },
    {
      "cell_type": "code",
      "execution_count": 15,
      "metadata": {
        "id": "eZUt0mAcDLVQ"
      },
      "outputs": [],
      "source": [
        "def unique_tags_in_list(tags_list):\n",
        "  if isinstance(tags_list, list):\n",
        "    unique_tags = []\n",
        "    for sublist in tags_list:\n",
        "      if isinstance(sublist, list):\n",
        "        for tag in sublist:\n",
        "          if tag not in unique_tags:\n",
        "            unique_tags.append(tag)\n",
        "    return unique_tags\n",
        "  else:\n",
        "    return []\n",
        "\n",
        "users_ds['liked_tags'] = users_ds['liked_tags'].apply(unique_tags_in_list)\n",
        "users_ds['unliked_tags'] = users_ds['unliked_tags'].apply(unique_tags_in_list)"
      ]
    },
    {
      "cell_type": "code",
      "execution_count": 16,
      "metadata": {
        "id": "OpuGJ1nTFoVR"
      },
      "outputs": [],
      "source": [
        "def remove_duplicate_tags(row):\n",
        "  liked_tags = set(row['liked_tags']) if isinstance(row['liked_tags'], list) else set()\n",
        "  unliked_tags = set(row['unliked_tags']) if isinstance(row['unliked_tags'], list) else set()\n",
        "  duplicate_tags = liked_tags.intersection(unliked_tags)\n",
        "  row['liked_tags'] = [tag for tag in row['liked_tags'] if tag not in duplicate_tags] if isinstance(row['liked_tags'], list) else []\n",
        "  row['unliked_tags'] = [tag for tag in row['unliked_tags'] if tag not in duplicate_tags] if isinstance(row['unliked_tags'], list) else []\n",
        "  return row\n",
        "\n",
        "users_ds = users_ds.apply(remove_duplicate_tags, axis=1)\n"
      ]
    },
    {
      "cell_type": "code",
      "execution_count": 17,
      "metadata": {
        "colab": {
          "base_uri": "https://localhost:8080/",
          "height": 206
        },
        "id": "9qRO0tcMF9-X",
        "outputId": "bdbccbcd-2a5f-48c4-a981-76a5231cc610"
      },
      "outputs": [
        {
          "data": {
            "text/html": [
              "<div>\n",
              "<style scoped>\n",
              "    .dataframe tbody tr th:only-of-type {\n",
              "        vertical-align: middle;\n",
              "    }\n",
              "\n",
              "    .dataframe tbody tr th {\n",
              "        vertical-align: top;\n",
              "    }\n",
              "\n",
              "    .dataframe thead th {\n",
              "        text-align: right;\n",
              "    }\n",
              "</style>\n",
              "<table border=\"1\" class=\"dataframe\">\n",
              "  <thead>\n",
              "    <tr style=\"text-align: right;\">\n",
              "      <th></th>\n",
              "      <th>user_id</th>\n",
              "      <th>liked_tags</th>\n",
              "      <th>unliked_tags</th>\n",
              "    </tr>\n",
              "  </thead>\n",
              "  <tbody>\n",
              "    <tr>\n",
              "      <th>0</th>\n",
              "      <td>38094</td>\n",
              "      <td>[weeknight, time-to-make, course, main-ingredi...</td>\n",
              "      <td>[]</td>\n",
              "    </tr>\n",
              "    <tr>\n",
              "      <th>1</th>\n",
              "      <td>1293707</td>\n",
              "      <td>[weeknight, soups-stews, beans, crock-pot-slow...</td>\n",
              "      <td>[cupcakes, finger-food, cakes, english, cake-f...</td>\n",
              "    </tr>\n",
              "    <tr>\n",
              "      <th>2</th>\n",
              "      <td>8937</td>\n",
              "      <td>[30-minutes-or-less, time-to-make, course, mai...</td>\n",
              "      <td>[]</td>\n",
              "    </tr>\n",
              "    <tr>\n",
              "      <th>3</th>\n",
              "      <td>126440</td>\n",
              "      <td>[15-minutes-or-less, 3-steps-or-less, jewish-s...</td>\n",
              "      <td>[]</td>\n",
              "    </tr>\n",
              "    <tr>\n",
              "      <th>4</th>\n",
              "      <td>57222</td>\n",
              "      <td>[condiments-etc, salads, beans, grains, south-...</td>\n",
              "      <td>[kwanzaa, dairy-free]</td>\n",
              "    </tr>\n",
              "  </tbody>\n",
              "</table>\n",
              "</div>"
            ],
            "text/plain": [
              "   user_id                                         liked_tags  \\\n",
              "0    38094  [weeknight, time-to-make, course, main-ingredi...   \n",
              "1  1293707  [weeknight, soups-stews, beans, crock-pot-slow...   \n",
              "2     8937  [30-minutes-or-less, time-to-make, course, mai...   \n",
              "3   126440  [15-minutes-or-less, 3-steps-or-less, jewish-s...   \n",
              "4    57222  [condiments-etc, salads, beans, grains, south-...   \n",
              "\n",
              "                                        unliked_tags  \n",
              "0                                                 []  \n",
              "1  [cupcakes, finger-food, cakes, english, cake-f...  \n",
              "2                                                 []  \n",
              "3                                                 []  \n",
              "4                              [kwanzaa, dairy-free]  "
            ]
          },
          "execution_count": 17,
          "metadata": {},
          "output_type": "execute_result"
        }
      ],
      "source": [
        "users_ds.head()"
      ]
    },
    {
      "cell_type": "code",
      "execution_count": 18,
      "metadata": {
        "id": "GjbluG3mGqXq"
      },
      "outputs": [],
      "source": [
        "interactions_with_recipe_info = pd.merge(interactions_with_recipe_info, users_ds, on='user_id', how='left')"
      ]
    },
    {
      "cell_type": "markdown",
      "metadata": {
        "id": "nzycE1Re7X9i"
      },
      "source": [
        "Creating datasets"
      ]
    },
    {
      "cell_type": "code",
      "execution_count": 19,
      "metadata": {},
      "outputs": [],
      "source": [
        "# Параметры\n",
        "MAX_TAG_LENGTH = 30\n",
        "PADDING_VALUE = \"empty\"\n",
        "\n",
        "interactions_with_recipe_info['liked_tags'] = [\n",
        "    (tags + [PADDING_VALUE] * (MAX_TAG_LENGTH - len(tags)))[:MAX_TAG_LENGTH] \n",
        "    for tags in interactions_with_recipe_info['liked_tags']\n",
        "]\n",
        "interactions_with_recipe_info['unliked_tags'] = [\n",
        "    (tags + [PADDING_VALUE] * (MAX_TAG_LENGTH - len(tags)))[:MAX_TAG_LENGTH] \n",
        "    for tags in interactions_with_recipe_info['unliked_tags']\n",
        "]\n",
        "interactions_with_recipe_info['ingredients_str'] =  [\n",
        "    (tags + [PADDING_VALUE] * (MAX_TAG_LENGTH - len(tags)))[:MAX_TAG_LENGTH] \n",
        "    for tags in interactions_with_recipe_info['ingredients_str'] ]\n",
        "\n",
        "interactions_with_recipe_info['tags_str'] =  [\n",
        "    (tags + [PADDING_VALUE] * (MAX_TAG_LENGTH - len(tags)))[:MAX_TAG_LENGTH] \n",
        "    for tags in interactions_with_recipe_info['tags_str'] ]\n",
        "\n",
        "raw_recipes['tags_str'] = [\n",
        "    (tags + [PADDING_VALUE] * (MAX_TAG_LENGTH - len(tags)))[:MAX_TAG_LENGTH] \n",
        "    for tags in raw_recipes['tags_str'] ]\n",
        "\n",
        "raw_recipes['ingredients_str'] = [\n",
        "    (tags + [PADDING_VALUE] * (MAX_TAG_LENGTH - len(tags)))[:MAX_TAG_LENGTH] \n",
        "    for tags in raw_recipes['ingredients_str'] ]"
      ]
    },
    {
      "cell_type": "code",
      "execution_count": 20,
      "metadata": {},
      "outputs": [
        {
          "data": {
            "text/plain": [
              "(array([30], dtype=int64), array([30], dtype=int64))"
            ]
          },
          "execution_count": 20,
          "metadata": {},
          "output_type": "execute_result"
        }
      ],
      "source": [
        "interactions_with_recipe_info['ingredients_str'].str.len().unique(), interactions_with_recipe_info['unliked_tags'].str.len().unique(), "
      ]
    },
    {
      "cell_type": "code",
      "execution_count": 21,
      "metadata": {
        "id": "aZMJRewvLYJb"
      },
      "outputs": [],
      "source": [
        "interactions_with_recipe_info['liked_tags_str'] = interactions_with_recipe_info['liked_tags'].apply(lambda x: ','.join(x))\n",
        "interactions_with_recipe_info['unliked_tags_str'] = interactions_with_recipe_info['unliked_tags'].apply(lambda x: ','.join(x))\n",
        "interactions_with_recipe_info['tags_str'] = interactions_with_recipe_info['tags_str'].apply(lambda x: ','.join(x))"
      ]
    },
    {
      "cell_type": "code",
      "execution_count": 22,
      "metadata": {
        "id": "2l72F9aCLw46"
      },
      "outputs": [],
      "source": [
        "def split_tags(tags_string):\n",
        "    return tf.strings.split(tf.strings.strip(tags_string), ',')"
      ]
    },
    {
      "cell_type": "code",
      "execution_count": 23,
      "metadata": {},
      "outputs": [
        {
          "name": "stdout",
          "output_type": "stream",
          "text": [
            "WARNING:tensorflow:From C:\\Users\\Maincharter\\AppData\\Local\\Temp\\ipykernel_21732\\1112888837.py:1: The name tf.enable_eager_execution is deprecated. Please use tf.compat.v1.enable_eager_execution instead.\n",
            "\n"
          ]
        }
      ],
      "source": [
        "tf.compat.v1.enable_eager_execution()"
      ]
    },
    {
      "cell_type": "code",
      "execution_count": 24,
      "metadata": {
        "id": "1QwBdlgU7Xms"
      },
      "outputs": [],
      "source": [
        "def squeeze_tags(data):\n",
        "    return {\n",
        "        \"user_id\": data[\"user_id\"],\n",
        "        \"recipe_id\": data[\"recipe_id\"],\n",
        "        \"rating\": data[\"rating\"],\n",
        "        \"recipe_name\": data[\"recipe_name\"],\n",
        "        \"tags\": tf.squeeze(data[\"tags\"], axis=0),  # Укажите ось, которую нужно удалить\n",
        "        \"liked_tags\": tf.squeeze(data[\"liked_tags\"], axis=0),  # Укажите ось, которую нужно удалить\n",
        "        \"unliked_tags\": tf.squeeze(data[\"unliked_tags\"], axis=0)  # Укажите ось, которую нужно удалить\n",
        "    }\n",
        "\n",
        "ratings = tf.data.Dataset.from_tensor_slices((tf.cast(interactions_with_recipe_info['user_id'].values, tf.string),\n",
        "                                              tf.cast(interactions_with_recipe_info['recipe_id'].values, tf.string),\n",
        "                                              tf.cast(interactions_with_recipe_info['rating'].values, tf.float32),\n",
        "                                              tf.cast(interactions_with_recipe_info['recipe_name'].values, tf.string),\n",
        "                                              tf.cast(interactions_with_recipe_info['tags_str'].values.reshape(-1,1), tf.string),\n",
        "                                              tf.cast(interactions_with_recipe_info['liked_tags_str'].values.reshape(-1,1), tf.string),\n",
        "                                              tf.cast(interactions_with_recipe_info['unliked_tags_str'].values.reshape(-1,1), tf.string)\n",
        "                                              )).map(lambda x, x1, x2, x3, x4, x5, x6: {\n",
        "                                                  \"user_id\": x,\n",
        "                                                  \"recipe_id\": x1,\n",
        "                                                  \"rating\": x2,\n",
        "                                                  \"recipe_name\": x3,\n",
        "                                                  \"tags\": split_tags(x4),\n",
        "                                                  \"liked_tags\": split_tags(x5),\n",
        "                                                  \"unliked_tags\": split_tags(x6)\n",
        "                                              }).map(squeeze_tags)\n"
      ]
    },
    {
      "cell_type": "code",
      "execution_count": 25,
      "metadata": {},
      "outputs": [
        {
          "name": "stdout",
          "output_type": "stream",
          "text": [
            "{'user_id': b'38094', 'recipe_id': b'40893', 'rating': 4.0, 'recipe_name': b'white bean   green chile pepper soup', 'tags': array([b'weeknight', b'time-to-make', b'course', b'main-ingredient',\n",
            "       b'preparation', b'occasion', b'soups-stews', b'beans',\n",
            "       b'vegetables', b'easy', b'crock-pot-slow-cooker', b'dietary',\n",
            "       b'equipment', b'empty', b'empty', b'empty', b'empty', b'empty',\n",
            "       b'empty', b'empty', b'empty', b'empty', b'empty', b'empty',\n",
            "       b'empty', b'empty', b'empty', b'empty', b'empty', b'empty'],\n",
            "      dtype=object), 'liked_tags': array([b'weeknight', b'time-to-make', b'course', b'main-ingredient',\n",
            "       b'preparation', b'occasion', b'soups-stews', b'beans',\n",
            "       b'vegetables', b'easy', b'crock-pot-slow-cooker', b'dietary',\n",
            "       b'equipment', b'60-minutes-or-less', b'main-dish', b'fruit',\n",
            "       b'vegan', b'vegetarian', b'stove-top', b'black-beans',\n",
            "       b'30-minutes-or-less', b'low-protein', b'salads', b'dinner-party',\n",
            "       b'low-cholesterol', b'low-carb', b'healthy-2', b'low-in-something',\n",
            "       b'for-1-or-2', b'side-dishes'], dtype=object), 'unliked_tags': array([b'empty', b'empty', b'empty', b'empty', b'empty', b'empty',\n",
            "       b'empty', b'empty', b'empty', b'empty', b'empty', b'empty',\n",
            "       b'empty', b'empty', b'empty', b'empty', b'empty', b'empty',\n",
            "       b'empty', b'empty', b'empty', b'empty', b'empty', b'empty',\n",
            "       b'empty', b'empty', b'empty', b'empty', b'empty', b'empty'],\n",
            "      dtype=object)}\n"
          ]
        }
      ],
      "source": [
        "for data in ratings.take(1).as_numpy_iterator():\n",
        "    print(data)"
      ]
    },
    {
      "cell_type": "code",
      "execution_count": 26,
      "metadata": {
        "id": "8MS4nMhHMDgp"
      },
      "outputs": [],
      "source": [
        "raw_recipes['ingredients_str'] = raw_recipes['ingredients_str'].apply(lambda x: ','.join(x))\n",
        "raw_recipes['tags_str'] = raw_recipes['tags_str'].apply(lambda x: ','.join(x))"
      ]
    },
    {
      "cell_type": "code",
      "execution_count": 27,
      "metadata": {
        "colab": {
          "base_uri": "https://localhost:8080/",
          "height": 293
        },
        "id": "rqtiorEQMH8R",
        "outputId": "0cb1b61d-3171-4534-ec3b-1a6d617531ed"
      },
      "outputs": [
        {
          "data": {
            "text/html": [
              "<div>\n",
              "<style scoped>\n",
              "    .dataframe tbody tr th:only-of-type {\n",
              "        vertical-align: middle;\n",
              "    }\n",
              "\n",
              "    .dataframe tbody tr th {\n",
              "        vertical-align: top;\n",
              "    }\n",
              "\n",
              "    .dataframe thead th {\n",
              "        text-align: right;\n",
              "    }\n",
              "</style>\n",
              "<table border=\"1\" class=\"dataframe\">\n",
              "  <thead>\n",
              "    <tr style=\"text-align: right;\">\n",
              "      <th></th>\n",
              "      <th>name</th>\n",
              "      <th>id</th>\n",
              "      <th>minutes</th>\n",
              "      <th>contributor_id</th>\n",
              "      <th>submitted</th>\n",
              "      <th>tags</th>\n",
              "      <th>nutrition</th>\n",
              "      <th>n_steps</th>\n",
              "      <th>steps</th>\n",
              "      <th>description</th>\n",
              "      <th>ingredients</th>\n",
              "      <th>n_ingredients</th>\n",
              "      <th>ingredients_str</th>\n",
              "      <th>tags_str</th>\n",
              "    </tr>\n",
              "  </thead>\n",
              "  <tbody>\n",
              "    <tr>\n",
              "      <th>0</th>\n",
              "      <td>arriba   baked winter squash mexican style</td>\n",
              "      <td>137739</td>\n",
              "      <td>55</td>\n",
              "      <td>47892</td>\n",
              "      <td>2005-09-16</td>\n",
              "      <td>['60-minutes-or-less', 'time-to-make', 'course...</td>\n",
              "      <td>[51.5, 0.0, 13.0, 0.0, 2.0, 0.0, 4.0]</td>\n",
              "      <td>11</td>\n",
              "      <td>['make a choice and proceed with recipe', 'dep...</td>\n",
              "      <td>autumn is my favorite time of year to cook! th...</td>\n",
              "      <td>['winter squash', 'mexican seasoning', 'mixed ...</td>\n",
              "      <td>7</td>\n",
              "      <td>winter squash,mexican seasoning,mixed spice,ho...</td>\n",
              "      <td>60-minutes-or-less,time-to-make,course,main-in...</td>\n",
              "    </tr>\n",
              "    <tr>\n",
              "      <th>1</th>\n",
              "      <td>a bit different  breakfast pizza</td>\n",
              "      <td>31490</td>\n",
              "      <td>30</td>\n",
              "      <td>26278</td>\n",
              "      <td>2002-06-17</td>\n",
              "      <td>['30-minutes-or-less', 'time-to-make', 'course...</td>\n",
              "      <td>[173.4, 18.0, 0.0, 17.0, 22.0, 35.0, 1.0]</td>\n",
              "      <td>9</td>\n",
              "      <td>['preheat oven to 425 degrees f', 'press dough...</td>\n",
              "      <td>this recipe calls for the crust to be prebaked...</td>\n",
              "      <td>['prepared pizza crust', 'sausage patty', 'egg...</td>\n",
              "      <td>6</td>\n",
              "      <td>prepared pizza crust,sausage patty,eggs,milk,s...</td>\n",
              "      <td>30-minutes-or-less,time-to-make,course,main-in...</td>\n",
              "    </tr>\n",
              "    <tr>\n",
              "      <th>2</th>\n",
              "      <td>all in the kitchen  chili</td>\n",
              "      <td>112140</td>\n",
              "      <td>130</td>\n",
              "      <td>196586</td>\n",
              "      <td>2005-02-25</td>\n",
              "      <td>['time-to-make', 'course', 'preparation', 'mai...</td>\n",
              "      <td>[269.8, 22.0, 32.0, 48.0, 39.0, 27.0, 5.0]</td>\n",
              "      <td>6</td>\n",
              "      <td>['brown ground beef in large pot', 'add choppe...</td>\n",
              "      <td>this modified version of 'mom's' chili was a h...</td>\n",
              "      <td>['ground beef', 'yellow onions', 'diced tomato...</td>\n",
              "      <td>13</td>\n",
              "      <td>ground beef,yellow onions,diced tomatoes,tomat...</td>\n",
              "      <td>time-to-make,course,preparation,main-dish,chil...</td>\n",
              "    </tr>\n",
              "    <tr>\n",
              "      <th>3</th>\n",
              "      <td>alouette  potatoes</td>\n",
              "      <td>59389</td>\n",
              "      <td>45</td>\n",
              "      <td>68585</td>\n",
              "      <td>2003-04-14</td>\n",
              "      <td>['60-minutes-or-less', 'time-to-make', 'course...</td>\n",
              "      <td>[368.1, 17.0, 10.0, 2.0, 14.0, 8.0, 20.0]</td>\n",
              "      <td>11</td>\n",
              "      <td>['place potatoes in a large pot of lightly sal...</td>\n",
              "      <td>this is a super easy, great tasting, make ahea...</td>\n",
              "      <td>['spreadable cheese with garlic and herbs', 'n...</td>\n",
              "      <td>11</td>\n",
              "      <td>spreadable cheese with garlic and herbs,new po...</td>\n",
              "      <td>60-minutes-or-less,time-to-make,course,main-in...</td>\n",
              "    </tr>\n",
              "    <tr>\n",
              "      <th>4</th>\n",
              "      <td>amish  tomato ketchup  for canning</td>\n",
              "      <td>44061</td>\n",
              "      <td>190</td>\n",
              "      <td>41706</td>\n",
              "      <td>2002-10-25</td>\n",
              "      <td>['weeknight', 'time-to-make', 'course', 'main-...</td>\n",
              "      <td>[352.9, 1.0, 337.0, 23.0, 3.0, 0.0, 28.0]</td>\n",
              "      <td>5</td>\n",
              "      <td>['mix all ingredients&amp; boil for 2 1 / 2 hours ...</td>\n",
              "      <td>my dh's amish mother raised him on this recipe...</td>\n",
              "      <td>['tomato juice', 'apple cider vinegar', 'sugar...</td>\n",
              "      <td>8</td>\n",
              "      <td>tomato juice,apple cider vinegar,sugar,salt,pe...</td>\n",
              "      <td>weeknight,time-to-make,course,main-ingredient,...</td>\n",
              "    </tr>\n",
              "  </tbody>\n",
              "</table>\n",
              "</div>"
            ],
            "text/plain": [
              "                                         name      id  minutes  \\\n",
              "0  arriba   baked winter squash mexican style  137739       55   \n",
              "1            a bit different  breakfast pizza   31490       30   \n",
              "2                   all in the kitchen  chili  112140      130   \n",
              "3                          alouette  potatoes   59389       45   \n",
              "4          amish  tomato ketchup  for canning   44061      190   \n",
              "\n",
              "   contributor_id   submitted  \\\n",
              "0           47892  2005-09-16   \n",
              "1           26278  2002-06-17   \n",
              "2          196586  2005-02-25   \n",
              "3           68585  2003-04-14   \n",
              "4           41706  2002-10-25   \n",
              "\n",
              "                                                tags  \\\n",
              "0  ['60-minutes-or-less', 'time-to-make', 'course...   \n",
              "1  ['30-minutes-or-less', 'time-to-make', 'course...   \n",
              "2  ['time-to-make', 'course', 'preparation', 'mai...   \n",
              "3  ['60-minutes-or-less', 'time-to-make', 'course...   \n",
              "4  ['weeknight', 'time-to-make', 'course', 'main-...   \n",
              "\n",
              "                                    nutrition  n_steps  \\\n",
              "0       [51.5, 0.0, 13.0, 0.0, 2.0, 0.0, 4.0]       11   \n",
              "1   [173.4, 18.0, 0.0, 17.0, 22.0, 35.0, 1.0]        9   \n",
              "2  [269.8, 22.0, 32.0, 48.0, 39.0, 27.0, 5.0]        6   \n",
              "3   [368.1, 17.0, 10.0, 2.0, 14.0, 8.0, 20.0]       11   \n",
              "4   [352.9, 1.0, 337.0, 23.0, 3.0, 0.0, 28.0]        5   \n",
              "\n",
              "                                               steps  \\\n",
              "0  ['make a choice and proceed with recipe', 'dep...   \n",
              "1  ['preheat oven to 425 degrees f', 'press dough...   \n",
              "2  ['brown ground beef in large pot', 'add choppe...   \n",
              "3  ['place potatoes in a large pot of lightly sal...   \n",
              "4  ['mix all ingredients& boil for 2 1 / 2 hours ...   \n",
              "\n",
              "                                         description  \\\n",
              "0  autumn is my favorite time of year to cook! th...   \n",
              "1  this recipe calls for the crust to be prebaked...   \n",
              "2  this modified version of 'mom's' chili was a h...   \n",
              "3  this is a super easy, great tasting, make ahea...   \n",
              "4  my dh's amish mother raised him on this recipe...   \n",
              "\n",
              "                                         ingredients  n_ingredients  \\\n",
              "0  ['winter squash', 'mexican seasoning', 'mixed ...              7   \n",
              "1  ['prepared pizza crust', 'sausage patty', 'egg...              6   \n",
              "2  ['ground beef', 'yellow onions', 'diced tomato...             13   \n",
              "3  ['spreadable cheese with garlic and herbs', 'n...             11   \n",
              "4  ['tomato juice', 'apple cider vinegar', 'sugar...              8   \n",
              "\n",
              "                                     ingredients_str  \\\n",
              "0  winter squash,mexican seasoning,mixed spice,ho...   \n",
              "1  prepared pizza crust,sausage patty,eggs,milk,s...   \n",
              "2  ground beef,yellow onions,diced tomatoes,tomat...   \n",
              "3  spreadable cheese with garlic and herbs,new po...   \n",
              "4  tomato juice,apple cider vinegar,sugar,salt,pe...   \n",
              "\n",
              "                                            tags_str  \n",
              "0  60-minutes-or-less,time-to-make,course,main-in...  \n",
              "1  30-minutes-or-less,time-to-make,course,main-in...  \n",
              "2  time-to-make,course,preparation,main-dish,chil...  \n",
              "3  60-minutes-or-less,time-to-make,course,main-in...  \n",
              "4  weeknight,time-to-make,course,main-ingredient,...  "
            ]
          },
          "execution_count": 27,
          "metadata": {},
          "output_type": "execute_result"
        }
      ],
      "source": [
        "raw_recipes.head()"
      ]
    },
    {
      "cell_type": "code",
      "execution_count": 28,
      "metadata": {
        "id": "i8HzpEQW_YZw"
      },
      "outputs": [],
      "source": [
        "raw_recipes['id'] = raw_recipes.id.astype(\"str\")\n",
        "raw_recipes['name'] = raw_recipes.name.astype(\"str\")\n",
        "raw_recipes['tags'] = raw_recipes.tags.astype(\"str\")\n",
        "raw_recipes['ingredients'] = raw_recipes.ingredients.astype(\"str\")"
      ]
    },
    {
      "cell_type": "code",
      "execution_count": 29,
      "metadata": {},
      "outputs": [
        {
          "data": {
            "text/plain": [
              "0    arriba   baked winter squash mexican style\n",
              "Name: name, dtype: object"
            ]
          },
          "execution_count": 29,
          "metadata": {},
          "output_type": "execute_result"
        }
      ],
      "source": [
        "raw_recipes['name'][:1]"
      ]
    },
    {
      "cell_type": "code",
      "execution_count": 30,
      "metadata": {
        "colab": {
          "base_uri": "https://localhost:8080/"
        },
        "id": "PvNaaXXCPzK2",
        "outputId": "d096fdf6-825f-4105-b630-1f8c0d177652"
      },
      "outputs": [],
      "source": [
        "# prompt: Создай на основе raw_recipes датасет, но учти что ingredients_str это массив\n",
        "\n",
        "recipes = tf.data.Dataset.from_tensor_slices((tf.cast(raw_recipes['id'].values, tf.string),\n",
        "                                              tf.cast(raw_recipes['name'].values, tf.string),\n",
        "                                              tf.cast(raw_recipes['tags_str'].values.reshape(-1, 1), tf.string)\n",
        "                                            #   tf.cast(raw_recipes['ingredients_str'].values.reshape(-1, 1), tf.string),\n",
        "                                              )\n",
        "                                             ).map(lambda x, x1, x2: {\n",
        "                                                  \"recipe_id\": x,\n",
        "                                                  \"recipe_name\": x1,\n",
        "                                                  \"tags\": split_tags(x2),\n",
        "                                                #   \"ingredients\": split_tags(x3)\n",
        "                                              }).map(lambda data: {\n",
        "        **data,\n",
        "        \"tags\": tf.squeeze(data[\"tags\"], axis=0)  # Удаляем дополнительные измерения\n",
        "        # \"ingredients\": tf.squeeze(data[\"ingredients\"], axis=0)  # Удаляем дополнительные измерения\n",
        "    })\n",
        "\n"
      ]
    },
    {
      "cell_type": "code",
      "execution_count": 31,
      "metadata": {},
      "outputs": [
        {
          "name": "stdout",
          "output_type": "stream",
          "text": [
            "[30]\n"
          ]
        }
      ],
      "source": [
        "sizes = []\n",
        "for data in recipes.as_numpy_iterator():\n",
        "  sizes.append(len(data[\"tags\"]))\n",
        "print(np.unique(sizes))  "
      ]
    },
    {
      "cell_type": "code",
      "execution_count": 32,
      "metadata": {
        "id": "jxTLSUjNgCLs"
      },
      "outputs": [],
      "source": [
        "recipe_names = tf.data.Dataset.from_tensor_slices((tf.cast(raw_recipes['name'].values.reshape(-1, 1), tf.string))).map(lambda x: x)"
      ]
    },
    {
      "cell_type": "markdown",
      "metadata": {
        "id": "3L-UtJ6K5N2B"
      },
      "source": [
        "# Towers 🗼"
      ]
    },
    {
      "cell_type": "markdown",
      "metadata": {
        "id": "oWGCI8IYBx3Z"
      },
      "source": [
        "For our towers set dimensionality of the query and candidate representations: **32**. Higher values will correspond to models that may be more accurate, but will also be slower to fit and more prone to overfitting."
      ]
    },
    {
      "cell_type": "code",
      "execution_count": 55,
      "metadata": {
        "id": "8H35ROAtB2L2"
      },
      "outputs": [],
      "source": [
        "#embedding_dimension = 32"
      ]
    },
    {
      "cell_type": "markdown",
      "metadata": {
        "id": "UGLl4NdNBHoH"
      },
      "source": [
        "## User tower 👷"
      ]
    },
    {
      "cell_type": "markdown",
      "metadata": {
        "id": "S_w7g9Se6Lk_"
      },
      "source": [
        "Lets start creating our towers with User towers. We will compute by:\n",
        "1. User id\n",
        "2. Prefers and hates"
      ]
    },
    {
      "cell_type": "markdown",
      "metadata": {
        "id": "O0pr_riLBCKa"
      },
      "source": [
        "### User ID model"
      ]
    },
    {
      "cell_type": "code",
      "execution_count": 34,
      "metadata": {
        "colab": {
          "base_uri": "https://localhost:8080/"
        },
        "id": "IVERCEAMPPbE",
        "outputId": "e2631cda-7833-44b7-b005-542bb5f24933"
      },
      "outputs": [
        {
          "data": {
            "text/plain": [
              "array(['38094', '1293707', '8937', '126440', '57222', '52282', '124416',\n",
              "       '2000192946', '76535', '273745'], dtype=object)"
            ]
          },
          "execution_count": 34,
          "metadata": {},
          "output_type": "execute_result"
        }
      ],
      "source": [
        "unique_user_ids = users_ds[\"user_id\"].unique()\n",
        "unique_user_ids[:10]"
      ]
    },
    {
      "cell_type": "code",
      "execution_count": 35,
      "metadata": {
        "id": "4DU-YbghCPJx"
      },
      "outputs": [
        {
          "name": "stdout",
          "output_type": "stream",
          "text": [
            "WARNING:tensorflow:From C:\\Users\\Maincharter\\AppData\\Roaming\\Python\\Python310\\site-packages\\keras\\src\\backend.py:873: The name tf.get_default_graph is deprecated. Please use tf.compat.v1.get_default_graph instead.\n",
            "\n"
          ]
        }
      ],
      "source": [
        "user_id_model = tf.keras.Sequential([\n",
        "  tf.keras.layers.StringLookup(\n",
        "      vocabulary=unique_user_ids, mask_token=None),\n",
        "  # We add an additional embedding to account for unknown tokens.\n",
        "  tf.keras.layers.Embedding(len(unique_user_ids)+1, embedding_dimension)\n",
        "])"
      ]
    },
    {
      "cell_type": "markdown",
      "metadata": {
        "id": "Q6e5kR2_MsOh"
      },
      "source": [
        "### User Prefers models"
      ]
    },
    {
      "cell_type": "code",
      "execution_count": 36,
      "metadata": {
        "id": "EOzP-NwLMvZI"
      },
      "outputs": [],
      "source": [
        "# prompt: модель для liked_tags которым стоит отдать предпочтение, но учти что liked_tags в датасете это массив\n",
        "\n",
        "unique_liked_tags = set()\n",
        "for tags in users_ds['liked_tags']:\n",
        "  if isinstance(tags, list):\n",
        "    for tag in tags:\n",
        "      unique_liked_tags.add(tag)\n",
        "unique_liked_tags = list(unique_liked_tags)\n",
        "\n",
        "liked_tags_model = tf.keras.Sequential([\n",
        "  tf.keras.layers.StringLookup(\n",
        "      vocabulary=unique_liked_tags, mask_token=None),\n",
        "  tf.keras.layers.Embedding(len(unique_liked_tags) + 1, embedding_dimension)\n",
        "])\n"
      ]
    },
    {
      "cell_type": "code",
      "execution_count": 37,
      "metadata": {
        "colab": {
          "base_uri": "https://localhost:8080/"
        },
        "id": "K_uNmQ2yREWq",
        "outputId": "6221b14d-1fcf-4517-ed41-f13c56f83186"
      },
      "outputs": [
        {
          "data": {
            "text/plain": [
              "['',\n",
              " 'infant-baby-friendly',\n",
              " 'kiwifruit',\n",
              " 'brazilian',\n",
              " 'for-large-groups',\n",
              " 'lemon',\n",
              " 'beginner-cook',\n",
              " 'melons',\n",
              " 'fudge',\n",
              " 'st-patricks-day']"
            ]
          },
          "execution_count": 37,
          "metadata": {},
          "output_type": "execute_result"
        }
      ],
      "source": [
        "unique_liked_tags[:10]"
      ]
    },
    {
      "cell_type": "code",
      "execution_count": 38,
      "metadata": {
        "colab": {
          "base_uri": "https://localhost:8080/"
        },
        "id": "W4vprrUvRb3Y",
        "outputId": "3aa5cd85-e456-4cef-9b17-c8e0d4221dce"
      },
      "outputs": [
        {
          "data": {
            "text/plain": [
              "['',\n",
              " 'infant-baby-friendly',\n",
              " 'kiwifruit',\n",
              " 'brazilian',\n",
              " 'for-large-groups',\n",
              " 'lemon',\n",
              " 'beginner-cook',\n",
              " 'melons',\n",
              " 'lamb-sheep-main-dish',\n",
              " 'fudge']"
            ]
          },
          "execution_count": 38,
          "metadata": {},
          "output_type": "execute_result"
        }
      ],
      "source": [
        "\n",
        "unique_unliked_tags = set()\n",
        "for tags in users_ds['unliked_tags']:\n",
        "  if isinstance(tags, list):\n",
        "    for tag in tags:\n",
        "      unique_unliked_tags.add(tag)\n",
        "unique_unliked_tags = list(unique_unliked_tags)\n",
        "\n",
        "unliked_tags_model = tf.keras.Sequential([\n",
        "  tf.keras.layers.StringLookup(\n",
        "      vocabulary=unique_unliked_tags, mask_token=None),\n",
        "  tf.keras.layers.Embedding(len(unique_unliked_tags) + 1, embedding_dimension)\n",
        "])\n",
        "unique_unliked_tags[:10]"
      ]
    },
    {
      "cell_type": "markdown",
      "metadata": {
        "id": "5Zt9V_nAHMqp"
      },
      "source": [
        "## Recipe tower 🌭"
      ]
    },
    {
      "cell_type": "code",
      "execution_count": 39,
      "metadata": {
        "colab": {
          "base_uri": "https://localhost:8080/"
        },
        "id": "e3zzDVmWJmSA",
        "outputId": "2b48e837-bb5f-4670-b353-bb91770413dd"
      },
      "outputs": [
        {
          "data": {
            "text/plain": [
              "array(['0 carb   0 cal gummy worms', '0 fat chunky watermelon salsa',\n",
              "       '0 point ice cream  only 1 ingredient', '0 point soup   ww',\n",
              "       '0 point soup  crock pot', '007  martini', '007 cocktail',\n",
              "       '1  2  3  swiss meringue buttercream', '1 00 tangy chicken recipe',\n",
              "       '1 000 artichoke hearts'], dtype='<U85')"
            ]
          },
          "execution_count": 39,
          "metadata": {},
          "output_type": "execute_result"
        }
      ],
      "source": [
        "unique_recipe_names = np.unique(list(raw_recipes[\"name\"].unique()))\n",
        "recipe_name_model = tf.keras.Sequential([\n",
        "  tf.keras.layers.StringLookup(\n",
        "      vocabulary=unique_recipe_names, mask_token=None),\n",
        "  # We add an additional embedding to account for unknown tokens.\n",
        "  tf.keras.layers.Embedding(len(unique_recipe_names) + 1, embedding_dimension)\n",
        "])\n",
        "unique_recipe_names[:10]"
      ]
    },
    {
      "cell_type": "code",
      "execution_count": 40,
      "metadata": {
        "colab": {
          "base_uri": "https://localhost:8080/"
        },
        "id": "h8rZOklso4NX",
        "outputId": "64110b89-9f3f-4cce-e81e-95939b66d3f9"
      },
      "outputs": [
        {
          "name": "stdout",
          "output_type": "stream",
          "text": [
            "WARNING:tensorflow:From C:\\Users\\Maincharter\\AppData\\Roaming\\Python\\Python310\\site-packages\\keras\\src\\utils\\tf_utils.py:492: The name tf.ragged.RaggedTensorValue is deprecated. Please use tf.compat.v1.ragged.RaggedTensorValue instead.\n",
            "\n"
          ]
        },
        {
          "data": {
            "text/plain": [
              "<tf.Tensor: shape=(1, 32), dtype=float32, numpy=\n",
              "array([[-0.04022384,  0.03198082,  0.01680404,  0.02569875,  0.04956589,\n",
              "        -0.03386796, -0.01278985,  0.01473087,  0.0171161 , -0.04176515,\n",
              "         0.01333975,  0.0333013 , -0.02724527,  0.02846116, -0.0493012 ,\n",
              "         0.01441814,  0.0340233 , -0.02964989, -0.00687019,  0.04881856,\n",
              "         0.03174844,  0.01197533,  0.02987069,  0.0498438 , -0.00471228,\n",
              "        -0.04069904, -0.00519881,  0.02281589, -0.00624678,  0.0159745 ,\n",
              "         0.02831981, -0.02725786]], dtype=float32)>"
            ]
          },
          "execution_count": 40,
          "metadata": {},
          "output_type": "execute_result"
        }
      ],
      "source": [
        "# prompt: напиши вызов recipe_name_model\n",
        "\n",
        "recipe_name_model(['some recipe name'])\n"
      ]
    },
    {
      "cell_type": "markdown",
      "metadata": {
        "id": "q2VwZxnOCg9F"
      },
      "source": [
        "### Recipe ingredient&tag model"
      ]
    },
    {
      "cell_type": "code",
      "execution_count": 75,
      "metadata": {
        "colab": {
          "base_uri": "https://localhost:8080/"
        },
        "id": "QqUQ43gVQIUp",
        "outputId": "49f54edf-1d29-4efc-e338-84c05a6f7e16"
      },
      "outputs": [
        {
          "data": {
            "text/plain": [
              "array(['', '1-day-or-more', '15-minutes-or-less', '3-steps-or-less',\n",
              "       '30-minutes-or-less', '4-hours-or-less', '5-ingredients-or-less',\n",
              "       '60-minutes-or-less',\n",
              "       'Throw the ultimate fiesta with this sopaipillas recipe from Food.com.',\n",
              "       'a1-sauce'], dtype='<U69')"
            ]
          },
          "execution_count": 75,
          "metadata": {},
          "output_type": "execute_result"
        }
      ],
      "source": [
        "unique_tags = set()\n",
        "for tags in raw_recipes['tags'].apply(convert_to_list):\n",
        "  if isinstance(tags, list):\n",
        "    for tag in tags:\n",
        "      unique_tags.add(tag)\n",
        "unique_tags = np.unique(list(unique_tags))\n",
        "\n",
        "tags_model = tf.keras.Sequential([\n",
        "  tf.keras.layers.StringLookup(\n",
        "      vocabulary=unique_tags, mask_token=\"empty\"),\n",
        "  tf.keras.layers.Embedding(len(unique_tags) + 2, 160)\n",
        "])\n",
        "unique_tags[:10]"
      ]
    },
    {
      "cell_type": "markdown",
      "metadata": {
        "id": "n1dQh7uGI2ow"
      },
      "source": [
        "## Combine models"
      ]
    },
    {
      "cell_type": "code",
      "execution_count": 76,
      "metadata": {},
      "outputs": [],
      "source": [
        "class UserModel(tf.keras.Model):\n",
        "    def __init__(self, unique_user_ids, tags_model, embedding_dimension):\n",
        "        super().__init__()\n",
        "        \n",
        "        # User ID embeddings\n",
        "        self.user_id_model = tf.keras.Sequential([\n",
        "            tf.keras.layers.StringLookup(\n",
        "                vocabulary=unique_user_ids, mask_token=None),\n",
        "            tf.keras.layers.Embedding(len(unique_user_ids) + 1, embedding_dimension)\n",
        "        ])\n",
        "        \n",
        "        # Liked tags embeddings\n",
        "        self.liked_tags_model = tf.keras.Sequential([\n",
        "          tf.keras.layers.StringLookup(\n",
        "              vocabulary=unique_tags, mask_token=None),\n",
        "          tf.keras.layers.Embedding(len(unique_tags) + 1, embedding_dimension)\n",
        "        ])\n",
        "\n",
        "        # Unliked tags embeddings\n",
        "        self.unliked_tags_model = tf.keras.Sequential([\n",
        "              tf.keras.layers.StringLookup(\n",
        "                  vocabulary=unique_tags, mask_token=None),\n",
        "              tf.keras.layers.Embedding(len(unique_tags) + 1, embedding_dimension)\n",
        "            ])\n",
        "\n",
        "        # Penalty weight for unliked tags\n",
        "        self.penalty_weight = -1.5\n",
        "        self.plus_weight = 1.5\n",
        "\n",
        "    def call(self, features):\n",
        "        user_id = features[\"user_id\"]\n",
        "        liked_tags = features[\"liked_tags\"]\n",
        "        unliked_tags = features[\"unliked_tags\"]\n",
        "\n",
        "        # Embed user ID\n",
        "        user_id_embedding = self.user_id_model(user_id)\n",
        "        #user_id_embedding = tf.reduce_mean(user_id_embedding, axis=1)\n",
        "\n",
        "        # Embed liked and unliked tags\n",
        "        liked_tags_embedding = self.liked_tags_model(liked_tags)\n",
        "        unliked_tags_embedding = self.unliked_tags_model(unliked_tags)\n",
        "\n",
        "        # Apply penalty to unliked tags\n",
        "        unliked_tags_embedding = unliked_tags_embedding * self.penalty_weight\n",
        "        liked_tags_embedding = liked_tags_embedding * self.plus_weight\n",
        "\n",
        "\n",
        "        # Aggregate embeddings\n",
        "        liked_tags_embedding = tf.reduce_max(liked_tags_embedding, axis=1, keepdims=True)\n",
        "        unliked_tags_embedding = tf.reduce_min(unliked_tags_embedding, axis=1, keepdims=True)\n",
        "\n",
        "\n",
        "        # Используйте weighted суммирование для учета штрафов\n",
        "        user_embedding = tf.add(user_id_embedding, liked_tags_embedding)\n",
        "        user_embedding = tf.add(user_embedding, unliked_tags_embedding)\n",
        "\n",
        "        return user_embedding\n",
        "\n"
      ]
    },
    {
      "cell_type": "code",
      "execution_count": 77,
      "metadata": {},
      "outputs": [
        {
          "data": {
            "text/plain": [
              "<tf.Tensor: shape=(30, 32), dtype=float32, numpy=\n",
              "array([[ 0.019876  , -0.046961  , -0.00843369, -0.03970179,  0.02947155,\n",
              "        -0.00705806, -0.04265935, -0.00539065, -0.04638531,  0.00102698,\n",
              "        -0.02408699,  0.01413954, -0.04639607, -0.02812576, -0.04535428,\n",
              "        -0.00546051,  0.02973939, -0.01493241,  0.01683442,  0.00607761,\n",
              "         0.04114311, -0.02887453,  0.03994773,  0.03568748, -0.00450126,\n",
              "        -0.02628521,  0.03341987, -0.03978372, -0.0451223 , -0.01183569,\n",
              "         0.01994457, -0.01826802],\n",
              "       [ 0.02008212, -0.04675488, -0.00822757, -0.03949567,  0.02967768,\n",
              "        -0.00685195, -0.04245323, -0.00518452, -0.04617919,  0.00123311,\n",
              "        -0.02388087,  0.01434567, -0.04618995, -0.02791964, -0.04514816,\n",
              "        -0.00525438,  0.02994552, -0.01472629,  0.01704054,  0.00628372,\n",
              "         0.04134924, -0.02866841,  0.04015384,  0.0358936 , -0.00429515,\n",
              "        -0.02607909,  0.03362598, -0.0395776 , -0.04491618, -0.01162957,\n",
              "         0.02015068, -0.0180619 ],\n",
              "       [ 0.02174044, -0.04509656, -0.00656925, -0.03783735,  0.031336  ,\n",
              "        -0.00519363, -0.04079491, -0.0035262 , -0.04452087,  0.00289143,\n",
              "        -0.02222255,  0.01600399, -0.04453163, -0.02626131, -0.04348984,\n",
              "        -0.00359606,  0.03160384, -0.01306797,  0.01869886,  0.00794204,\n",
              "         0.04300756, -0.02701009,  0.04181216,  0.03755192, -0.00263683,\n",
              "        -0.02442077,  0.0352843 , -0.03791928, -0.04325785, -0.00997125,\n",
              "         0.021809  , -0.01640358],\n",
              "       [ 0.01227524, -0.05456176, -0.01603445, -0.04730255,  0.0218708 ,\n",
              "        -0.01465883, -0.05026011, -0.01299141, -0.05398607, -0.00657377,\n",
              "        -0.03168776,  0.00653879, -0.05399683, -0.03572652, -0.05295504,\n",
              "        -0.01306127,  0.02213863, -0.02253317,  0.00923366, -0.00152316,\n",
              "         0.03354236, -0.03647529,  0.03234696,  0.02808671, -0.01210203,\n",
              "        -0.03388597,  0.0258191 , -0.04738448, -0.05272306, -0.01943645,\n",
              "         0.0123438 , -0.02586878],\n",
              "       [ 0.00755175, -0.05928525, -0.02075794, -0.05202603,  0.01714731,\n",
              "        -0.01938231, -0.05498359, -0.01771489, -0.05870955, -0.01129726,\n",
              "        -0.03641124,  0.0018153 , -0.05872031, -0.04045   , -0.05767852,\n",
              "        -0.01778475,  0.01741514, -0.02725665,  0.00451017, -0.00624663,\n",
              "         0.02881887, -0.04119878,  0.02762348,  0.02336324, -0.01682551,\n",
              "        -0.03860946,  0.02109563, -0.05210796, -0.05744654, -0.02415993,\n",
              "         0.00762033, -0.03059226],\n",
              "       [ 0.02124038, -0.04559663, -0.00706932, -0.03833742,  0.03083593,\n",
              "        -0.0056937 , -0.04129497, -0.00402627, -0.04502093,  0.00239136,\n",
              "        -0.02272262,  0.01550392, -0.0450317 , -0.02676138, -0.0439899 ,\n",
              "        -0.00409613,  0.03110377, -0.01356804,  0.0181988 ,  0.00744198,\n",
              "         0.04250749, -0.02751016,  0.04131209,  0.03705185, -0.0031369 ,\n",
              "        -0.02492084,  0.03478424, -0.03841935, -0.04375792, -0.01047131,\n",
              "         0.02130894, -0.01690365],\n",
              "       [ 0.01774865, -0.04908836, -0.01056105, -0.04182915,  0.0273442 ,\n",
              "        -0.00918543, -0.0447867 , -0.007518  , -0.04851266, -0.00110037,\n",
              "        -0.02621435,  0.01201219, -0.04852343, -0.03025311, -0.04748163,\n",
              "        -0.00758786,  0.02761204, -0.01705977,  0.01470707,  0.00395025,\n",
              "         0.03901576, -0.03100189,  0.03782036,  0.03356012, -0.00662863,\n",
              "        -0.02841257,  0.03129251, -0.04191108, -0.04724965, -0.01396304,\n",
              "         0.01781721, -0.02039538],\n",
              "       [ 0.02135938, -0.04547763, -0.00695032, -0.03821842,  0.03095493,\n",
              "        -0.0055747 , -0.04117597, -0.00390727, -0.04490193,  0.00251036,\n",
              "        -0.02260362,  0.01562292, -0.0449127 , -0.02664238, -0.0438709 ,\n",
              "        -0.00397713,  0.03122277, -0.01344904,  0.0183178 ,  0.00756098,\n",
              "         0.04262649, -0.02739116,  0.04143109,  0.03717085, -0.00301789,\n",
              "        -0.02480184,  0.03490324, -0.03830035, -0.04363892, -0.01035231,\n",
              "         0.02142794, -0.01678465],\n",
              "       [ 0.01993295, -0.04690405, -0.00837674, -0.03964484,  0.02952851,\n",
              "        -0.00700111, -0.04260239, -0.0053337 , -0.04632835,  0.00108393,\n",
              "        -0.02403004,  0.01419649, -0.04633912, -0.0280688 , -0.04529732,\n",
              "        -0.00540356,  0.02979634, -0.01487546,  0.01689137,  0.00613456,\n",
              "         0.04120006, -0.02881758,  0.04000468,  0.03574444, -0.00444431,\n",
              "        -0.02622826,  0.03347682, -0.03972677, -0.04506534, -0.01177873,\n",
              "         0.02000152, -0.01821107],\n",
              "       [ 0.01244097, -0.05439603, -0.01586872, -0.04713681,  0.02203653,\n",
              "        -0.01449309, -0.05009437, -0.01282567, -0.05382033, -0.00640804,\n",
              "        -0.03152202,  0.00670452, -0.05383109, -0.03556078, -0.0527893 ,\n",
              "        -0.01289553,  0.02230436, -0.02236743,  0.00939939, -0.00135741,\n",
              "         0.03370809, -0.03630956,  0.0325127 ,  0.02825246, -0.01193628,\n",
              "        -0.03372024,  0.02598485, -0.04721874, -0.05255732, -0.01927071,\n",
              "         0.01250955, -0.02570304],\n",
              "       [ 0.01661845, -0.05021855, -0.01169124, -0.04295934,  0.02621401,\n",
              "        -0.01031562, -0.0459169 , -0.00864819, -0.04964286, -0.00223056,\n",
              "        -0.02734454,  0.010882  , -0.04965362, -0.03138331, -0.04861183,\n",
              "        -0.00871805,  0.02648184, -0.01818996,  0.01357687,  0.00282005,\n",
              "         0.03788557, -0.03213208,  0.03669017,  0.03242993, -0.00775882,\n",
              "        -0.02954276,  0.03016231, -0.04304127, -0.04837985, -0.01509324,\n",
              "         0.01668701, -0.02152557],\n",
              "       [ 0.01701119, -0.04982581, -0.0112985 , -0.0425666 ,  0.02660675,\n",
              "        -0.00992287, -0.04552415, -0.00825546, -0.04925011, -0.00183783,\n",
              "        -0.0269518 ,  0.01127473, -0.04926088, -0.03099056, -0.04821908,\n",
              "        -0.00832532,  0.02687458, -0.01779722,  0.01396961,  0.0032128 ,\n",
              "         0.0382783 , -0.03173934,  0.03708292,  0.03282268, -0.00736607,\n",
              "        -0.02915002,  0.03055506, -0.04264853, -0.0479871 , -0.01470049,\n",
              "         0.01707976, -0.02113283],\n",
              "       [ 0.02169355, -0.04514345, -0.00661614, -0.03788424,  0.03128911,\n",
              "        -0.00524051, -0.04084179, -0.0035731 , -0.04456775,  0.00284453,\n",
              "        -0.02226944,  0.01595709, -0.04457851, -0.0263082 , -0.04353672,\n",
              "        -0.00364295,  0.03155694, -0.01311485,  0.01865197,  0.00789516,\n",
              "         0.04296067, -0.02705698,  0.04176528,  0.03750504, -0.00268371,\n",
              "        -0.02446766,  0.03523742, -0.03796617, -0.04330474, -0.01001813,\n",
              "         0.02176213, -0.01645046],\n",
              "       [ 0.02177771, -0.04505929, -0.00653198, -0.03780008,  0.03137327,\n",
              "        -0.00515636, -0.04075764, -0.00348894, -0.0444836 ,  0.0029287 ,\n",
              "        -0.02218528,  0.01604126, -0.04449436, -0.02622405, -0.04345257,\n",
              "        -0.00355879,  0.0316411 , -0.0130307 ,  0.01873613,  0.00797931,\n",
              "         0.04304483, -0.02697282,  0.04184943,  0.03758918, -0.00259956,\n",
              "        -0.0243835 ,  0.03532157, -0.03788201, -0.04322059, -0.00993398,\n",
              "         0.02184627, -0.01636631],\n",
              "       [ 0.01267632, -0.05416068, -0.01563337, -0.04690147,  0.02227188,\n",
              "        -0.01425775, -0.04985903, -0.01259033, -0.05358499, -0.00617269,\n",
              "        -0.03128668,  0.00693987, -0.05359575, -0.03532544, -0.05255396,\n",
              "        -0.01266019,  0.02253971, -0.02213209,  0.00963474, -0.00112208,\n",
              "         0.03394344, -0.03607421,  0.03274804,  0.02848779, -0.01170095,\n",
              "        -0.03348489,  0.02622018, -0.0469834 , -0.05232198, -0.01903537,\n",
              "         0.01274488, -0.0254677 ],\n",
              "       [ 0.02101129, -0.04582572, -0.00729841, -0.03856651,  0.03060684,\n",
              "        -0.00592279, -0.04152406, -0.00425536, -0.04525002,  0.00216227,\n",
              "        -0.02295171,  0.01527483, -0.04526079, -0.02699047, -0.04421899,\n",
              "        -0.00432522,  0.03087468, -0.01379713,  0.01796971,  0.00721288,\n",
              "         0.0422784 , -0.02773925,  0.041083  ,  0.03682276, -0.00336599,\n",
              "        -0.02514993,  0.03455514, -0.03864844, -0.04398701, -0.0107004 ,\n",
              "         0.02107985, -0.01713274],\n",
              "       [ 0.01826748, -0.04856952, -0.01004221, -0.04131031,  0.02786303,\n",
              "        -0.00866658, -0.04426787, -0.00699917, -0.04799383, -0.00058154,\n",
              "        -0.02569551,  0.01253102, -0.04800459, -0.02973428, -0.0469628 ,\n",
              "        -0.00706903,  0.02813087, -0.01654093,  0.01522589,  0.00446909,\n",
              "         0.03953459, -0.03048305,  0.03833921,  0.03407896, -0.00610978,\n",
              "        -0.02789373,  0.03181135, -0.04139224, -0.04673082, -0.01344421,\n",
              "         0.01833605, -0.01987654],\n",
              "       [ 0.01431247, -0.05252453, -0.01399722, -0.04526532,  0.02390803,\n",
              "        -0.01262159, -0.04822287, -0.01095418, -0.05194883, -0.00453655,\n",
              "        -0.02965052,  0.00857601, -0.0519596 , -0.03368928, -0.0509178 ,\n",
              "        -0.01102404,  0.02417586, -0.02049594,  0.01127089,  0.00051408,\n",
              "         0.03557958, -0.03443806,  0.0343842 ,  0.03012396, -0.01006479,\n",
              "        -0.03184874,  0.02785634, -0.04534725, -0.05068582, -0.01739921,\n",
              "         0.01438104, -0.02383155],\n",
              "       [ 0.02157801, -0.04525899, -0.00673168, -0.03799978,  0.03117356,\n",
              "        -0.00535605, -0.04095734, -0.00368864, -0.0446833 ,  0.00272899,\n",
              "        -0.02238498,  0.01584155, -0.04469406, -0.02642374, -0.04365227,\n",
              "        -0.0037585 ,  0.0314414 , -0.0132304 ,  0.01853643,  0.00777962,\n",
              "         0.04284512, -0.02717252,  0.04164974,  0.03738949, -0.00279925,\n",
              "        -0.0245832 ,  0.03512188, -0.03808171, -0.04342028, -0.01013368,\n",
              "         0.02164658, -0.01656601],\n",
              "       [ 0.0176288 , -0.04920821, -0.0106809 , -0.041949  ,  0.02722435,\n",
              "        -0.00930528, -0.04490655, -0.00763785, -0.04863251, -0.00122022,\n",
              "        -0.0263342 ,  0.01189234, -0.04864328, -0.03037296, -0.04760148,\n",
              "        -0.00770771,  0.02749219, -0.01717962,  0.01458722,  0.0038304 ,\n",
              "         0.03889591, -0.03112174,  0.03770051,  0.03344027, -0.00674848,\n",
              "        -0.02853242,  0.03117266, -0.04203093, -0.0473695 , -0.01408289,\n",
              "         0.01769736, -0.02051523],\n",
              "       [ 0.02096229, -0.04587471, -0.0073474 , -0.03861549,  0.03055785,\n",
              "        -0.00597177, -0.04157305, -0.00430436, -0.04529901,  0.00211328,\n",
              "        -0.0230007 ,  0.01522584, -0.04530977, -0.02703946, -0.04426798,\n",
              "        -0.00437421,  0.03082568, -0.01384611,  0.01792071,  0.0071639 ,\n",
              "         0.04222941, -0.02778824,  0.04103402,  0.03677378, -0.00341497,\n",
              "        -0.02519892,  0.03450616, -0.03869743, -0.044036  , -0.01074939,\n",
              "         0.02103087, -0.01718172],\n",
              "       [ 0.021672  , -0.04516499, -0.00663769, -0.03790578,  0.03126756,\n",
              "        -0.00526205, -0.04086334, -0.00359464, -0.0445893 ,  0.00282299,\n",
              "        -0.02229099,  0.01593555, -0.04460006, -0.02632975, -0.04355827,\n",
              "        -0.0036645 ,  0.03153539, -0.0131364 ,  0.01863042,  0.00787362,\n",
              "         0.04293912, -0.02707852,  0.04174373,  0.03748349, -0.00270525,\n",
              "        -0.02448921,  0.03521588, -0.03798771, -0.04332629, -0.01003968,\n",
              "         0.02174058, -0.01647201],\n",
              "       [ 0.01198704, -0.05484997, -0.01632266, -0.04759075,  0.0215826 ,\n",
              "        -0.01494703, -0.05054831, -0.01327961, -0.05427427, -0.00686198,\n",
              "        -0.03197596,  0.00625058, -0.05428503, -0.03601472, -0.05324324,\n",
              "        -0.01334947,  0.02185043, -0.02282137,  0.00894546, -0.00181136,\n",
              "         0.03325415, -0.0367635 ,  0.03205875,  0.02779851, -0.01239023,\n",
              "        -0.03417418,  0.0255309 , -0.04767269, -0.05301126, -0.01972465,\n",
              "         0.0120556 , -0.02615698],\n",
              "       [ 0.01944198, -0.04739501, -0.0088677 , -0.0401358 ,  0.02903754,\n",
              "        -0.00749207, -0.04309336, -0.00582466, -0.04681932,  0.00059297,\n",
              "        -0.024521  ,  0.01370553, -0.04683008, -0.02855977, -0.04578829,\n",
              "        -0.00589452,  0.02930538, -0.01536642,  0.0164004 ,  0.0056436 ,\n",
              "         0.0407091 , -0.02930854,  0.03951371,  0.03525347, -0.00493527,\n",
              "        -0.02671922,  0.03298586, -0.04021773, -0.04555631, -0.0122697 ,\n",
              "         0.01951056, -0.01870203],\n",
              "       [ 0.01493564, -0.05190136, -0.01337405, -0.04464215,  0.02453119,\n",
              "        -0.01199842, -0.04759971, -0.01033101, -0.05132567, -0.00391338,\n",
              "        -0.02902735,  0.00919918, -0.05133643, -0.03306612, -0.05029464,\n",
              "        -0.01040087,  0.02479903, -0.01987277,  0.01189405,  0.00113725,\n",
              "         0.03620275, -0.03381489,  0.03500737,  0.03074712, -0.00944162,\n",
              "        -0.03122557,  0.02847951, -0.04472408, -0.05006266, -0.01677605,\n",
              "         0.01500421, -0.02320838],\n",
              "       [ 0.00855695, -0.05828004, -0.01975273, -0.05102083,  0.01815251,\n",
              "        -0.01837711, -0.05397839, -0.01670969, -0.05770435, -0.01029206,\n",
              "        -0.03540603,  0.0028205 , -0.05771511, -0.0394448 , -0.05667332,\n",
              "        -0.01677955,  0.01842035, -0.02625145,  0.00551537, -0.00524143,\n",
              "         0.02982407, -0.04019357,  0.02862868,  0.02436844, -0.01582031,\n",
              "        -0.03760425,  0.02210083, -0.05110276, -0.05644134, -0.02315473,\n",
              "         0.00862553, -0.02958706],\n",
              "       [ 0.02180964, -0.04502736, -0.00650005, -0.03776815,  0.0314052 ,\n",
              "        -0.00512443, -0.0407257 , -0.003457  , -0.04445167,  0.00296063,\n",
              "        -0.02215335,  0.01607319, -0.04446243, -0.02619211, -0.04342064,\n",
              "        -0.00352686,  0.03167304, -0.01299877,  0.01876806,  0.00801124,\n",
              "         0.04307676, -0.02694089,  0.04188136,  0.03762112, -0.00256763,\n",
              "        -0.02435157,  0.0353535 , -0.03785008, -0.04318865, -0.00990205,\n",
              "         0.02187821, -0.01633438],\n",
              "       [ 0.02058744, -0.04624957, -0.00772226, -0.03899036,  0.03018299,\n",
              "        -0.00634664, -0.04194791, -0.00467921, -0.04567387,  0.00173842,\n",
              "        -0.02337556,  0.01485098, -0.04568464, -0.02741432, -0.04464284,\n",
              "        -0.00474907,  0.03045083, -0.01422098,  0.01754586,  0.00678904,\n",
              "         0.04185455, -0.0281631 ,  0.04065915,  0.03639891, -0.00378983,\n",
              "        -0.02557378,  0.0341313 , -0.03907229, -0.04441086, -0.01112425,\n",
              "         0.020656  , -0.01755659],\n",
              "       [ 0.01493277, -0.05190422, -0.01337691, -0.04464501,  0.02452833,\n",
              "        -0.01200128, -0.04760257, -0.01033387, -0.05132853, -0.00391624,\n",
              "        -0.02903021,  0.00919632, -0.05133929, -0.03306898, -0.0502975 ,\n",
              "        -0.01040373,  0.02479617, -0.01987563,  0.01189119,  0.00113439,\n",
              "         0.03619989, -0.03381775,  0.0350045 ,  0.03074426, -0.00944448,\n",
              "        -0.03122843,  0.02847665, -0.04472694, -0.05006552, -0.01677891,\n",
              "         0.01500135, -0.02321124],\n",
              "       [ 0.01099681, -0.05584019, -0.01731288, -0.04858098,  0.02059237,\n",
              "        -0.01593726, -0.05153854, -0.01426984, -0.0552645 , -0.0078522 ,\n",
              "        -0.03296619,  0.00526036, -0.05527526, -0.03700495, -0.05423347,\n",
              "        -0.0143397 ,  0.0208602 , -0.0238116 ,  0.00795523, -0.00280159,\n",
              "         0.03226393, -0.03775372,  0.03106853,  0.02680828, -0.01338046,\n",
              "        -0.0351644 ,  0.02454067, -0.04866291, -0.05400149, -0.02071488,\n",
              "         0.01106537, -0.02714721]], dtype=float32)>"
            ]
          },
          "execution_count": 77,
          "metadata": {},
          "output_type": "execute_result"
        }
      ],
      "source": [
        "# Извлечение данных пользователя\n",
        "test_user = {}\n",
        "for data in ratings.take(1).as_numpy_iterator():\n",
        "    test_user = data\n",
        "    \n",
        "user_model = UserModel(unique_user_ids, tags_model, embedding_dimension)\n",
        "\n",
        "user_model(test_user)"
      ]
    },
    {
      "cell_type": "code",
      "execution_count": 80,
      "metadata": {},
      "outputs": [],
      "source": [
        "class RecipeAndUserModel(tfrs.Model):\n",
        "\n",
        "    def _reduce_mean_if_needed(self, embedding):\n",
        "        \"\"\"Сокращает размерность эмбеддинга до среднего, если он многомерный.\"\"\"\n",
        "        if len(embedding.shape) >= 3:\n",
        "            return tf.reduce_mean(embedding, axis=1)\n",
        "        return embedding\n",
        "\n",
        "    def __init__(self, unique_recipe_names, embedding_dimension):\n",
        "        super().__init__()\n",
        "        self.embedding_dimension = embedding_dimension\n",
        "        # Модель пользователя\n",
        "        \n",
        "        self.tags_model = tf.keras.Sequential([\n",
        "          tf.keras.layers.StringLookup(\n",
        "              vocabulary=unique_tags, mask_token=\"empty\"),\n",
        "          tf.keras.layers.Embedding(len(unique_tags) + 2, self.embedding_dimension)\n",
        "        ])\n",
        "        \n",
        "        self.user_model = UserModel(unique_user_ids, self.tags_model, self.embedding_dimension*2)\n",
        "\n",
        "        # Recipe embeddings\n",
        "        self.recipe_model = tf.keras.Sequential([\n",
        "            tf.keras.layers.StringLookup(\n",
        "                vocabulary=unique_recipe_names, mask_token=None),\n",
        "            tf.keras.layers.Embedding(len(unique_recipe_names) + 1, self.embedding_dimension)\n",
        "        ])\n",
        "\n",
        "        self.dense = tf.keras.layers.Dense(embedding_dimension)  # Сжимаем до размерности 32\n",
        "\n",
        "        # Подготовка кандидатов, учитывающих и теги\n",
        "        self.candidates = recipes.batch(128).map(self._get_candidate_embeddings)\n",
        "\n",
        "        self.task = tfrs.tasks.Retrieval(\n",
        "            metrics=tfrs.metrics.FactorizedTopK(\n",
        "                candidates=self.candidates\n",
        "            )\n",
        "        )\n",
        "        \n",
        "    def _get_candidate_embeddings(self, recipe_name):\n",
        "        # Получаем эмбеддинги для имен и тегов\n",
        "        recipe_embedding = self.recipe_model(recipe_name['recipe_name'])\n",
        "        print(recipe_name['tags'])\n",
        "        tags_embedding = self.tags_model(recipe_name['tags'])  # Здесь предполагается, что recipe_name может содержать теги\n",
        "        recipe_embedding = self._reduce_mean_if_needed(recipe_embedding)\n",
        "        tags_embedding = self._reduce_mean_if_needed(tags_embedding)\n",
        "        # Объединяем эмбеддинги имен и тегов\n",
        "        combined_embedding = tf.concat([recipe_embedding, tags_embedding], axis=1)\n",
        "        return combined_embedding\n",
        "\n",
        "    def call(self, features: Dict[Text, tf.Tensor]) -> tf.Tensor:\n",
        "        # User embedding\n",
        "        user_embedding = self.user_model(features)\n",
        "\n",
        "        # Recipe name embeddings\n",
        "        recipe_name_embeddings = self.recipe_model(features[\"recipe_name\"])\n",
        "        #recipe_name_embeddings = self._reduce_mean_if_needed(recipe_name_embeddings)\n",
        "        # Tags embeddings\n",
        "        tags = features[\"tags\"]\n",
        "        tags_embeddings = self.tags_model(tags)\n",
        "        tags_embeddings = self._reduce_mean_if_needed(tags_embeddings)\n",
        "        # # Вычисление средневзвешенного значения для тегов (можно модифицировать веса)\n",
        "        # tags_embeddings_weighted_sum = tf.reduce_sum(tags_embeddings, axis=1)\n",
        "        # sum_of_weights = tf.reduce_sum(tf.ones_like(tags_embeddings), axis=1)\n",
        "        # tags_embeddings = tags_embeddings_weighted_sum / sum_of_weights\n",
        "        \n",
        "        # recipe_name_embeddings = self._reduce_mean_if_needed(recipe_name_embeddings)\n",
        "        # tags_embeddings = tf.expand_dims(tags_embeddings, axis=0)\n",
        "        # Конкатенация эмбеддингов рецепта и тегов\n",
        "        recipe_embeddings = tf.concat([recipe_name_embeddings, tags_embeddings], axis=1)\n",
        "\n",
        "        return user_embedding, recipe_embeddings\n",
        "\n",
        "    def compute_loss(self, features: Dict[Text, tf.Tensor], training=False) -> tf.Tensor:\n",
        "        user_embeddings, recipe_embeddings = self(features)\n",
        "        print(\"Computed: \", user_embeddings.shape, recipe_embeddings.shape)\n",
        "        # Используем задачу факторизованного топ-K для оптимизации\n",
        "        user_embeddings = self._reduce_mean_if_needed(user_embeddings)\n",
        "        recipe_embeddings = self._reduce_mean_if_needed(recipe_embeddings)\n",
        "        \n",
        "        # user_embeddings = tf.keras.layers.Dense(64)(user_embeddings)\n",
        "        # recipe_embeddings = tf.keras.layers.Dense(64)(recipe_embeddings)\n",
        "        print(\"Computed: \", user_embeddings.shape, recipe_embeddings.shape)\n",
        "        return self.task(user_embeddings, recipe_embeddings)\n"
      ]
    },
    {
      "cell_type": "code",
      "execution_count": 86,
      "metadata": {
        "id": "4ln6bTE6XuUT"
      },
      "outputs": [],
      "source": [
        "# Randomly shuffle data and split between train and test.\n",
        "tf.random.set_seed(42)\n",
        "shuffled = ratings.shuffle(100_000, seed=42, reshuffle_each_iteration=False)\n",
        "\n",
        "train = shuffled.take(2_000)\n",
        "test = shuffled.skip(80_000).take(2_000)\n",
        "\n",
        "cached_train =  train.batch(15_000).cache()\n",
        "cached_test = test.batch(15_000).cache()"
      ]
    },
    {
      "cell_type": "code",
      "execution_count": 84,
      "metadata": {
        "id": "-7Gi0OYpUbOM"
      },
      "outputs": [
        {
          "name": "stdout",
          "output_type": "stream",
          "text": [
            "Tensor(\"args_2:0\", shape=(None, None), dtype=string)\n",
            "Tensor(\"args_2:0\", shape=(None, None), dtype=string)\n",
            "Epoch 1/12\n",
            "Computed:  (None, None, 128) (None, 128)\n",
            "Computed:  (None, 128) (None, 128)\n",
            "Computed:  (None, None, 128) (None, 128)\n",
            "Computed:  (None, 128) (None, 128)\n",
            "1/1 [==============================] - 10s 10s/step - factorized_top_k/top_1_categorical_accuracy: 0.0000e+00 - factorized_top_k/top_5_categorical_accuracy: 0.0000e+00 - factorized_top_k/top_10_categorical_accuracy: 0.0000e+00 - factorized_top_k/top_50_categorical_accuracy: 0.0000e+00 - factorized_top_k/top_100_categorical_accuracy: 0.0000e+00 - loss: 15201.7578 - regularization_loss: 0.0000e+00 - total_loss: 15201.7578\n",
            "Epoch 2/12\n",
            "1/1 [==============================] - 6s 6s/step - factorized_top_k/top_1_categorical_accuracy: 0.0000e+00 - factorized_top_k/top_5_categorical_accuracy: 0.0000e+00 - factorized_top_k/top_10_categorical_accuracy: 5.0000e-04 - factorized_top_k/top_50_categorical_accuracy: 0.0120 - factorized_top_k/top_100_categorical_accuracy: 0.0230 - loss: 15091.4238 - regularization_loss: 0.0000e+00 - total_loss: 15091.4238\n",
            "Epoch 3/12\n",
            "1/1 [==============================] - 6s 6s/step - factorized_top_k/top_1_categorical_accuracy: 0.0010 - factorized_top_k/top_5_categorical_accuracy: 0.0055 - factorized_top_k/top_10_categorical_accuracy: 0.0075 - factorized_top_k/top_50_categorical_accuracy: 0.0185 - factorized_top_k/top_100_categorical_accuracy: 0.0660 - loss: 14605.2109 - regularization_loss: 0.0000e+00 - total_loss: 14605.2109\n",
            "Epoch 4/12\n",
            "1/1 [==============================] - 6s 6s/step - factorized_top_k/top_1_categorical_accuracy: 0.0500 - factorized_top_k/top_5_categorical_accuracy: 0.1735 - factorized_top_k/top_10_categorical_accuracy: 0.2375 - factorized_top_k/top_50_categorical_accuracy: 0.3800 - factorized_top_k/top_100_categorical_accuracy: 0.4410 - loss: 14199.4102 - regularization_loss: 0.0000e+00 - total_loss: 14199.4102\n",
            "Epoch 5/12\n",
            "1/1 [==============================] - 6s 6s/step - factorized_top_k/top_1_categorical_accuracy: 0.1070 - factorized_top_k/top_5_categorical_accuracy: 0.5025 - factorized_top_k/top_10_categorical_accuracy: 0.5860 - factorized_top_k/top_50_categorical_accuracy: 0.7050 - factorized_top_k/top_100_categorical_accuracy: 0.7515 - loss: 12661.6543 - regularization_loss: 0.0000e+00 - total_loss: 12661.6543\n",
            "Epoch 6/12\n",
            "1/1 [==============================] - 6s 6s/step - factorized_top_k/top_1_categorical_accuracy: 0.0390 - factorized_top_k/top_5_categorical_accuracy: 0.6155 - factorized_top_k/top_10_categorical_accuracy: 0.7085 - factorized_top_k/top_50_categorical_accuracy: 0.8485 - factorized_top_k/top_100_categorical_accuracy: 0.8965 - loss: 10450.1934 - regularization_loss: 0.0000e+00 - total_loss: 10450.1934\n",
            "Epoch 7/12\n",
            "1/1 [==============================] - 6s 6s/step - factorized_top_k/top_1_categorical_accuracy: 0.0525 - factorized_top_k/top_5_categorical_accuracy: 0.7270 - factorized_top_k/top_10_categorical_accuracy: 0.8110 - factorized_top_k/top_50_categorical_accuracy: 0.9090 - factorized_top_k/top_100_categorical_accuracy: 0.9420 - loss: 7984.8594 - regularization_loss: 0.0000e+00 - total_loss: 7984.8594\n",
            "Epoch 8/12\n",
            "1/1 [==============================] - 6s 6s/step - factorized_top_k/top_1_categorical_accuracy: 0.0710 - factorized_top_k/top_5_categorical_accuracy: 0.7890 - factorized_top_k/top_10_categorical_accuracy: 0.8675 - factorized_top_k/top_50_categorical_accuracy: 0.9355 - factorized_top_k/top_100_categorical_accuracy: 0.9615 - loss: 5891.0088 - regularization_loss: 0.0000e+00 - total_loss: 5891.0088\n",
            "Epoch 9/12\n",
            "1/1 [==============================] - 7s 7s/step - factorized_top_k/top_1_categorical_accuracy: 0.1500 - factorized_top_k/top_5_categorical_accuracy: 0.8375 - factorized_top_k/top_10_categorical_accuracy: 0.8935 - factorized_top_k/top_50_categorical_accuracy: 0.9605 - factorized_top_k/top_100_categorical_accuracy: 0.9765 - loss: 4573.0737 - regularization_loss: 0.0000e+00 - total_loss: 4573.0737\n",
            "Epoch 10/12\n",
            "1/1 [==============================] - 7s 7s/step - factorized_top_k/top_1_categorical_accuracy: 0.1945 - factorized_top_k/top_5_categorical_accuracy: 0.8845 - factorized_top_k/top_10_categorical_accuracy: 0.9265 - factorized_top_k/top_50_categorical_accuracy: 0.9705 - factorized_top_k/top_100_categorical_accuracy: 0.9835 - loss: 3848.1990 - regularization_loss: 0.0000e+00 - total_loss: 3848.1990\n",
            "Epoch 11/12\n",
            "1/1 [==============================] - 7s 7s/step - factorized_top_k/top_1_categorical_accuracy: 0.2495 - factorized_top_k/top_5_categorical_accuracy: 0.9115 - factorized_top_k/top_10_categorical_accuracy: 0.9460 - factorized_top_k/top_50_categorical_accuracy: 0.9830 - factorized_top_k/top_100_categorical_accuracy: 0.9875 - loss: 3402.9802 - regularization_loss: 0.0000e+00 - total_loss: 3402.9802\n",
            "Epoch 12/12\n",
            "1/1 [==============================] - 7s 7s/step - factorized_top_k/top_1_categorical_accuracy: 0.2740 - factorized_top_k/top_5_categorical_accuracy: 0.9340 - factorized_top_k/top_10_categorical_accuracy: 0.9595 - factorized_top_k/top_50_categorical_accuracy: 0.9880 - factorized_top_k/top_100_categorical_accuracy: 0.9930 - loss: 2988.2793 - regularization_loss: 0.0000e+00 - total_loss: 2988.2793\n"
          ]
        },
        {
          "data": {
            "text/plain": [
              "<keras.src.callbacks.History at 0x2db2a9bc550>"
            ]
          },
          "execution_count": 84,
          "metadata": {},
          "output_type": "execute_result"
        }
      ],
      "source": [
        "model = RecipeAndUserModel(unique_recipe_names, 64)\n",
        "early_callback = tf.keras.callbacks.EarlyStopping(monitor='loss',  patience=5, min_delta=0.001)\n",
        "model.compile(optimizer=tf.keras.optimizers.Adagrad(learning_rate=0.1))\n",
        "model.fit(cached_train, epochs=12)"
      ]
    },
    {
      "cell_type": "code",
      "execution_count": 87,
      "metadata": {},
      "outputs": [
        {
          "name": "stdout",
          "output_type": "stream",
          "text": [
            "1/1 [==============================] - 11s 11s/step - factorized_top_k/top_1_categorical_accuracy: 0.0160 - factorized_top_k/top_5_categorical_accuracy: 0.0310 - factorized_top_k/top_10_categorical_accuracy: 0.0375 - factorized_top_k/top_50_categorical_accuracy: 0.0465 - factorized_top_k/top_100_categorical_accuracy: 0.0580 - loss: 16582.3145 - regularization_loss: 0.0000e+00 - total_loss: 16582.3145\n"
          ]
        },
        {
          "data": {
            "text/plain": [
              "{'factorized_top_k/top_1_categorical_accuracy': 0.01600000075995922,\n",
              " 'factorized_top_k/top_5_categorical_accuracy': 0.03099999949336052,\n",
              " 'factorized_top_k/top_10_categorical_accuracy': 0.03750000149011612,\n",
              " 'factorized_top_k/top_50_categorical_accuracy': 0.04650000110268593,\n",
              " 'factorized_top_k/top_100_categorical_accuracy': 0.057999998331069946,\n",
              " 'loss': 16582.314453125,\n",
              " 'regularization_loss': 0,\n",
              " 'total_loss': 16582.314453125}"
            ]
          },
          "execution_count": 87,
          "metadata": {},
          "output_type": "execute_result"
        }
      ],
      "source": [
        "model.evaluate(cached_test, return_dict=True)"
      ]
    },
    {
      "cell_type": "code",
      "execution_count": 85,
      "metadata": {},
      "outputs": [
        {
          "name": "stdout",
          "output_type": "stream",
          "text": [
            "Computed:  (None, None, 128) (None, 128)\n",
            "Computed:  (None, 128) (None, 128)\n"
          ]
        },
        {
          "ename": "ResourceExhaustedError",
          "evalue": "Graph execution error:\n\nDetected at node recipe_and_user_model_12/user_model_14/Add defined at (most recent call last):\n  File \"f:\\P310\\lib\\runpy.py\", line 196, in _run_module_as_main\n\n  File \"f:\\P310\\lib\\runpy.py\", line 86, in _run_code\n\n  File \"C:\\Users\\Maincharter\\AppData\\Roaming\\Python\\Python310\\site-packages\\ipykernel_launcher.py\", line 17, in <module>\n\n  File \"C:\\Users\\Maincharter\\AppData\\Roaming\\Python\\Python310\\site-packages\\traitlets\\config\\application.py\", line 1046, in launch_instance\n\n  File \"C:\\Users\\Maincharter\\AppData\\Roaming\\Python\\Python310\\site-packages\\ipykernel\\kernelapp.py\", line 736, in start\n\n  File \"C:\\Users\\Maincharter\\AppData\\Roaming\\Python\\Python310\\site-packages\\tornado\\platform\\asyncio.py\", line 195, in start\n\n  File \"f:\\P310\\lib\\asyncio\\base_events.py\", line 595, in run_forever\n\n  File \"f:\\P310\\lib\\asyncio\\base_events.py\", line 1881, in _run_once\n\n  File \"f:\\P310\\lib\\asyncio\\events.py\", line 80, in _run\n\n  File \"C:\\Users\\Maincharter\\AppData\\Roaming\\Python\\Python310\\site-packages\\ipykernel\\kernelbase.py\", line 516, in dispatch_queue\n\n  File \"C:\\Users\\Maincharter\\AppData\\Roaming\\Python\\Python310\\site-packages\\ipykernel\\kernelbase.py\", line 505, in process_one\n\n  File \"C:\\Users\\Maincharter\\AppData\\Roaming\\Python\\Python310\\site-packages\\ipykernel\\kernelbase.py\", line 412, in dispatch_shell\n\n  File \"C:\\Users\\Maincharter\\AppData\\Roaming\\Python\\Python310\\site-packages\\ipykernel\\kernelbase.py\", line 740, in execute_request\n\n  File \"C:\\Users\\Maincharter\\AppData\\Roaming\\Python\\Python310\\site-packages\\ipykernel\\ipkernel.py\", line 422, in do_execute\n\n  File \"C:\\Users\\Maincharter\\AppData\\Roaming\\Python\\Python310\\site-packages\\ipykernel\\zmqshell.py\", line 546, in run_cell\n\n  File \"C:\\Users\\Maincharter\\AppData\\Roaming\\Python\\Python310\\site-packages\\IPython\\core\\interactiveshell.py\", line 3024, in run_cell\n\n  File \"C:\\Users\\Maincharter\\AppData\\Roaming\\Python\\Python310\\site-packages\\IPython\\core\\interactiveshell.py\", line 3079, in _run_cell\n\n  File \"C:\\Users\\Maincharter\\AppData\\Roaming\\Python\\Python310\\site-packages\\IPython\\core\\async_helpers.py\", line 129, in _pseudo_sync_runner\n\n  File \"C:\\Users\\Maincharter\\AppData\\Roaming\\Python\\Python310\\site-packages\\IPython\\core\\interactiveshell.py\", line 3284, in run_cell_async\n\n  File \"C:\\Users\\Maincharter\\AppData\\Roaming\\Python\\Python310\\site-packages\\IPython\\core\\interactiveshell.py\", line 3466, in run_ast_nodes\n\n  File \"C:\\Users\\Maincharter\\AppData\\Roaming\\Python\\Python310\\site-packages\\IPython\\core\\interactiveshell.py\", line 3526, in run_code\n\n  File \"C:\\Users\\Maincharter\\AppData\\Local\\Temp\\ipykernel_21732\\4057685878.py\", line 1, in <module>\n\n  File \"C:\\Users\\Maincharter\\AppData\\Roaming\\Python\\Python310\\site-packages\\keras\\src\\utils\\traceback_utils.py\", line 65, in error_handler\n\n  File \"C:\\Users\\Maincharter\\AppData\\Roaming\\Python\\Python310\\site-packages\\keras\\src\\engine\\training.py\", line 2296, in evaluate\n\n  File \"C:\\Users\\Maincharter\\AppData\\Roaming\\Python\\Python310\\site-packages\\keras\\src\\engine\\training.py\", line 4108, in run_step\n\n  File \"C:\\Users\\Maincharter\\AppData\\Roaming\\Python\\Python310\\site-packages\\keras\\src\\engine\\training.py\", line 2066, in test_function\n\n  File \"C:\\Users\\Maincharter\\AppData\\Roaming\\Python\\Python310\\site-packages\\keras\\src\\engine\\training.py\", line 2049, in step_function\n\n  File \"C:\\Users\\Maincharter\\AppData\\Roaming\\Python\\Python310\\site-packages\\keras\\src\\engine\\training.py\", line 2037, in run_step\n\n  File \"f:\\P310\\lib\\site-packages\\tensorflow_recommenders\\models\\base.py\", line 88, in test_step\n\n  File \"C:\\Users\\Maincharter\\AppData\\Local\\Temp\\ipykernel_21732\\3027339719.py\", line 75, in compute_loss\n\n  File \"C:\\Users\\Maincharter\\AppData\\Roaming\\Python\\Python310\\site-packages\\keras\\src\\utils\\traceback_utils.py\", line 65, in error_handler\n\n  File \"C:\\Users\\Maincharter\\AppData\\Roaming\\Python\\Python310\\site-packages\\keras\\src\\engine\\training.py\", line 590, in __call__\n\n  File \"C:\\Users\\Maincharter\\AppData\\Roaming\\Python\\Python310\\site-packages\\keras\\src\\utils\\traceback_utils.py\", line 65, in error_handler\n\n  File \"C:\\Users\\Maincharter\\AppData\\Roaming\\Python\\Python310\\site-packages\\keras\\src\\engine\\base_layer.py\", line 1149, in __call__\n\n  File \"C:\\Users\\Maincharter\\AppData\\Roaming\\Python\\Python310\\site-packages\\keras\\src\\utils\\traceback_utils.py\", line 96, in error_handler\n\n  File \"C:\\Users\\Maincharter\\AppData\\Local\\Temp\\ipykernel_21732\\3027339719.py\", line 53, in call\n\n  File \"C:\\Users\\Maincharter\\AppData\\Roaming\\Python\\Python310\\site-packages\\keras\\src\\utils\\traceback_utils.py\", line 65, in error_handler\n\n  File \"C:\\Users\\Maincharter\\AppData\\Roaming\\Python\\Python310\\site-packages\\keras\\src\\engine\\training.py\", line 590, in __call__\n\n  File \"C:\\Users\\Maincharter\\AppData\\Roaming\\Python\\Python310\\site-packages\\keras\\src\\utils\\traceback_utils.py\", line 65, in error_handler\n\n  File \"C:\\Users\\Maincharter\\AppData\\Roaming\\Python\\Python310\\site-packages\\keras\\src\\engine\\base_layer.py\", line 1149, in __call__\n\n  File \"C:\\Users\\Maincharter\\AppData\\Roaming\\Python\\Python310\\site-packages\\keras\\src\\utils\\traceback_utils.py\", line 96, in error_handler\n\n  File \"C:\\Users\\Maincharter\\AppData\\Local\\Temp\\ipykernel_21732\\1021769160.py\", line 54, in call\n\nOOM when allocating tensor with shape[4096,4096,128] and type float on /job:localhost/replica:0/task:0/device:CPU:0 by allocator mklcpu\n\t [[{{node recipe_and_user_model_12/user_model_14/Add}}]]\nHint: If you want to see a list of allocated tensors when OOM happens, add report_tensor_allocations_upon_oom to RunOptions for current allocation info. This isn't available when running in Eager mode.\n [Op:__inference_test_function_715140]",
          "output_type": "error",
          "traceback": [
            "\u001b[1;31m---------------------------------------------------------------------------\u001b[0m",
            "\u001b[1;31mResourceExhaustedError\u001b[0m                    Traceback (most recent call last)",
            "Cell \u001b[1;32mIn[85], line 1\u001b[0m\n\u001b[1;32m----> 1\u001b[0m \u001b[43mmodel\u001b[49m\u001b[38;5;241;43m.\u001b[39;49m\u001b[43mevaluate\u001b[49m\u001b[43m(\u001b[49m\u001b[43mcached_test\u001b[49m\u001b[43m,\u001b[49m\u001b[43m \u001b[49m\u001b[43mreturn_dict\u001b[49m\u001b[38;5;241;43m=\u001b[39;49m\u001b[38;5;28;43;01mTrue\u001b[39;49;00m\u001b[43m)\u001b[49m\n",
            "File \u001b[1;32m~\\AppData\\Roaming\\Python\\Python310\\site-packages\\keras\\src\\utils\\traceback_utils.py:70\u001b[0m, in \u001b[0;36mfilter_traceback.<locals>.error_handler\u001b[1;34m(*args, **kwargs)\u001b[0m\n\u001b[0;32m     67\u001b[0m     filtered_tb \u001b[38;5;241m=\u001b[39m _process_traceback_frames(e\u001b[38;5;241m.\u001b[39m__traceback__)\n\u001b[0;32m     68\u001b[0m     \u001b[38;5;66;03m# To get the full stack trace, call:\u001b[39;00m\n\u001b[0;32m     69\u001b[0m     \u001b[38;5;66;03m# `tf.debugging.disable_traceback_filtering()`\u001b[39;00m\n\u001b[1;32m---> 70\u001b[0m     \u001b[38;5;28;01mraise\u001b[39;00m e\u001b[38;5;241m.\u001b[39mwith_traceback(filtered_tb) \u001b[38;5;28;01mfrom\u001b[39;00m \u001b[38;5;28;01mNone\u001b[39;00m\n\u001b[0;32m     71\u001b[0m \u001b[38;5;28;01mfinally\u001b[39;00m:\n\u001b[0;32m     72\u001b[0m     \u001b[38;5;28;01mdel\u001b[39;00m filtered_tb\n",
            "File \u001b[1;32m~\\AppData\\Roaming\\Python\\Python310\\site-packages\\tensorflow\\python\\eager\\execute.py:53\u001b[0m, in \u001b[0;36mquick_execute\u001b[1;34m(op_name, num_outputs, inputs, attrs, ctx, name)\u001b[0m\n\u001b[0;32m     51\u001b[0m \u001b[38;5;28;01mtry\u001b[39;00m:\n\u001b[0;32m     52\u001b[0m   ctx\u001b[38;5;241m.\u001b[39mensure_initialized()\n\u001b[1;32m---> 53\u001b[0m   tensors \u001b[38;5;241m=\u001b[39m pywrap_tfe\u001b[38;5;241m.\u001b[39mTFE_Py_Execute(ctx\u001b[38;5;241m.\u001b[39m_handle, device_name, op_name,\n\u001b[0;32m     54\u001b[0m                                       inputs, attrs, num_outputs)\n\u001b[0;32m     55\u001b[0m \u001b[38;5;28;01mexcept\u001b[39;00m core\u001b[38;5;241m.\u001b[39m_NotOkStatusException \u001b[38;5;28;01mas\u001b[39;00m e:\n\u001b[0;32m     56\u001b[0m   \u001b[38;5;28;01mif\u001b[39;00m name \u001b[38;5;129;01mis\u001b[39;00m \u001b[38;5;129;01mnot\u001b[39;00m \u001b[38;5;28;01mNone\u001b[39;00m:\n",
            "\u001b[1;31mResourceExhaustedError\u001b[0m: Graph execution error:\n\nDetected at node recipe_and_user_model_12/user_model_14/Add defined at (most recent call last):\n  File \"f:\\P310\\lib\\runpy.py\", line 196, in _run_module_as_main\n\n  File \"f:\\P310\\lib\\runpy.py\", line 86, in _run_code\n\n  File \"C:\\Users\\Maincharter\\AppData\\Roaming\\Python\\Python310\\site-packages\\ipykernel_launcher.py\", line 17, in <module>\n\n  File \"C:\\Users\\Maincharter\\AppData\\Roaming\\Python\\Python310\\site-packages\\traitlets\\config\\application.py\", line 1046, in launch_instance\n\n  File \"C:\\Users\\Maincharter\\AppData\\Roaming\\Python\\Python310\\site-packages\\ipykernel\\kernelapp.py\", line 736, in start\n\n  File \"C:\\Users\\Maincharter\\AppData\\Roaming\\Python\\Python310\\site-packages\\tornado\\platform\\asyncio.py\", line 195, in start\n\n  File \"f:\\P310\\lib\\asyncio\\base_events.py\", line 595, in run_forever\n\n  File \"f:\\P310\\lib\\asyncio\\base_events.py\", line 1881, in _run_once\n\n  File \"f:\\P310\\lib\\asyncio\\events.py\", line 80, in _run\n\n  File \"C:\\Users\\Maincharter\\AppData\\Roaming\\Python\\Python310\\site-packages\\ipykernel\\kernelbase.py\", line 516, in dispatch_queue\n\n  File \"C:\\Users\\Maincharter\\AppData\\Roaming\\Python\\Python310\\site-packages\\ipykernel\\kernelbase.py\", line 505, in process_one\n\n  File \"C:\\Users\\Maincharter\\AppData\\Roaming\\Python\\Python310\\site-packages\\ipykernel\\kernelbase.py\", line 412, in dispatch_shell\n\n  File \"C:\\Users\\Maincharter\\AppData\\Roaming\\Python\\Python310\\site-packages\\ipykernel\\kernelbase.py\", line 740, in execute_request\n\n  File \"C:\\Users\\Maincharter\\AppData\\Roaming\\Python\\Python310\\site-packages\\ipykernel\\ipkernel.py\", line 422, in do_execute\n\n  File \"C:\\Users\\Maincharter\\AppData\\Roaming\\Python\\Python310\\site-packages\\ipykernel\\zmqshell.py\", line 546, in run_cell\n\n  File \"C:\\Users\\Maincharter\\AppData\\Roaming\\Python\\Python310\\site-packages\\IPython\\core\\interactiveshell.py\", line 3024, in run_cell\n\n  File \"C:\\Users\\Maincharter\\AppData\\Roaming\\Python\\Python310\\site-packages\\IPython\\core\\interactiveshell.py\", line 3079, in _run_cell\n\n  File \"C:\\Users\\Maincharter\\AppData\\Roaming\\Python\\Python310\\site-packages\\IPython\\core\\async_helpers.py\", line 129, in _pseudo_sync_runner\n\n  File \"C:\\Users\\Maincharter\\AppData\\Roaming\\Python\\Python310\\site-packages\\IPython\\core\\interactiveshell.py\", line 3284, in run_cell_async\n\n  File \"C:\\Users\\Maincharter\\AppData\\Roaming\\Python\\Python310\\site-packages\\IPython\\core\\interactiveshell.py\", line 3466, in run_ast_nodes\n\n  File \"C:\\Users\\Maincharter\\AppData\\Roaming\\Python\\Python310\\site-packages\\IPython\\core\\interactiveshell.py\", line 3526, in run_code\n\n  File \"C:\\Users\\Maincharter\\AppData\\Local\\Temp\\ipykernel_21732\\4057685878.py\", line 1, in <module>\n\n  File \"C:\\Users\\Maincharter\\AppData\\Roaming\\Python\\Python310\\site-packages\\keras\\src\\utils\\traceback_utils.py\", line 65, in error_handler\n\n  File \"C:\\Users\\Maincharter\\AppData\\Roaming\\Python\\Python310\\site-packages\\keras\\src\\engine\\training.py\", line 2296, in evaluate\n\n  File \"C:\\Users\\Maincharter\\AppData\\Roaming\\Python\\Python310\\site-packages\\keras\\src\\engine\\training.py\", line 4108, in run_step\n\n  File \"C:\\Users\\Maincharter\\AppData\\Roaming\\Python\\Python310\\site-packages\\keras\\src\\engine\\training.py\", line 2066, in test_function\n\n  File \"C:\\Users\\Maincharter\\AppData\\Roaming\\Python\\Python310\\site-packages\\keras\\src\\engine\\training.py\", line 2049, in step_function\n\n  File \"C:\\Users\\Maincharter\\AppData\\Roaming\\Python\\Python310\\site-packages\\keras\\src\\engine\\training.py\", line 2037, in run_step\n\n  File \"f:\\P310\\lib\\site-packages\\tensorflow_recommenders\\models\\base.py\", line 88, in test_step\n\n  File \"C:\\Users\\Maincharter\\AppData\\Local\\Temp\\ipykernel_21732\\3027339719.py\", line 75, in compute_loss\n\n  File \"C:\\Users\\Maincharter\\AppData\\Roaming\\Python\\Python310\\site-packages\\keras\\src\\utils\\traceback_utils.py\", line 65, in error_handler\n\n  File \"C:\\Users\\Maincharter\\AppData\\Roaming\\Python\\Python310\\site-packages\\keras\\src\\engine\\training.py\", line 590, in __call__\n\n  File \"C:\\Users\\Maincharter\\AppData\\Roaming\\Python\\Python310\\site-packages\\keras\\src\\utils\\traceback_utils.py\", line 65, in error_handler\n\n  File \"C:\\Users\\Maincharter\\AppData\\Roaming\\Python\\Python310\\site-packages\\keras\\src\\engine\\base_layer.py\", line 1149, in __call__\n\n  File \"C:\\Users\\Maincharter\\AppData\\Roaming\\Python\\Python310\\site-packages\\keras\\src\\utils\\traceback_utils.py\", line 96, in error_handler\n\n  File \"C:\\Users\\Maincharter\\AppData\\Local\\Temp\\ipykernel_21732\\3027339719.py\", line 53, in call\n\n  File \"C:\\Users\\Maincharter\\AppData\\Roaming\\Python\\Python310\\site-packages\\keras\\src\\utils\\traceback_utils.py\", line 65, in error_handler\n\n  File \"C:\\Users\\Maincharter\\AppData\\Roaming\\Python\\Python310\\site-packages\\keras\\src\\engine\\training.py\", line 590, in __call__\n\n  File \"C:\\Users\\Maincharter\\AppData\\Roaming\\Python\\Python310\\site-packages\\keras\\src\\utils\\traceback_utils.py\", line 65, in error_handler\n\n  File \"C:\\Users\\Maincharter\\AppData\\Roaming\\Python\\Python310\\site-packages\\keras\\src\\engine\\base_layer.py\", line 1149, in __call__\n\n  File \"C:\\Users\\Maincharter\\AppData\\Roaming\\Python\\Python310\\site-packages\\keras\\src\\utils\\traceback_utils.py\", line 96, in error_handler\n\n  File \"C:\\Users\\Maincharter\\AppData\\Local\\Temp\\ipykernel_21732\\1021769160.py\", line 54, in call\n\nOOM when allocating tensor with shape[4096,4096,128] and type float on /job:localhost/replica:0/task:0/device:CPU:0 by allocator mklcpu\n\t [[{{node recipe_and_user_model_12/user_model_14/Add}}]]\nHint: If you want to see a list of allocated tensors when OOM happens, add report_tensor_allocations_upon_oom to RunOptions for current allocation info. This isn't available when running in Eager mode.\n [Op:__inference_test_function_715140]"
          ]
        }
      ],
      "source": [
        "model.evaluate(cached_test, return_dict=True)"
      ]
    },
    {
      "cell_type": "markdown",
      "metadata": {},
      "source": [
        "### Making predictions"
      ]
    },
    {
      "cell_type": "code",
      "execution_count": 48,
      "metadata": {},
      "outputs": [
        {
          "data": {
            "text/plain": [
              "array(['', '1-day-or-more', '15-minutes-or-less', '3-steps-or-less',\n",
              "       '30-minutes-or-less', '4-hours-or-less', '5-ingredients-or-less',\n",
              "       '60-minutes-or-less',\n",
              "       'Throw the ultimate fiesta with this sopaipillas recipe from Food.com.',\n",
              "       'a1-sauce', 'african', 'american', 'amish-mennonite', 'angolan',\n",
              "       'appetizers', 'apples', 'april-fools-day', 'argentine',\n",
              "       'artichoke', 'asian'], dtype='<U69')"
            ]
          },
          "execution_count": 48,
          "metadata": {},
          "output_type": "execute_result"
        }
      ],
      "source": [
        "unique_tags[:20]"
      ]
    },
    {
      "cell_type": "code",
      "execution_count": 88,
      "metadata": {},
      "outputs": [
        {
          "data": {
            "text/plain": [
              "array(['asian', 'asian', 'asian', 'asian', 'asian', 'asian', 'asian',\n",
              "       'asian', 'asian', 'asian', 'asian', 'asian', 'asian', 'asian',\n",
              "       'asian', 'african', 'african', 'african', 'african', 'african',\n",
              "       'african', 'african', 'african', 'african', 'african', 'african',\n",
              "       'african', 'african', 'african', 'african'], dtype='<U7')"
            ]
          },
          "execution_count": 88,
          "metadata": {},
          "output_type": "execute_result"
        }
      ],
      "source": [
        "likes = np.full(15, \"asian\")\n",
        "likes_2 = np.full(15, \"african\")\n",
        "likes = np.append(likes,likes_2)\n",
        "likes"
      ]
    },
    {
      "cell_type": "code",
      "execution_count": 89,
      "metadata": {},
      "outputs": [
        {
          "data": {
            "text/plain": [
              "array(['30-minutes-or-less', '30-minutes-or-less', '30-minutes-or-less',\n",
              "       '30-minutes-or-less', '30-minutes-or-less', '30-minutes-or-less',\n",
              "       '30-minutes-or-less', '30-minutes-or-less', '30-minutes-or-less',\n",
              "       '30-minutes-or-less', '60-minutes-or-less', '60-minutes-or-less',\n",
              "       '60-minutes-or-less', '60-minutes-or-less', '60-minutes-or-less',\n",
              "       '60-minutes-or-less', '60-minutes-or-less', '60-minutes-or-less',\n",
              "       '60-minutes-or-less', '60-minutes-or-less', 'empty', 'empty',\n",
              "       'empty', 'empty', 'empty', 'empty', 'empty', 'empty', 'empty',\n",
              "       'empty'], dtype='<U18')"
            ]
          },
          "execution_count": 89,
          "metadata": {},
          "output_type": "execute_result"
        }
      ],
      "source": [
        "dislikes = np.full(10, '30-minutes-or-less')\n",
        "dislikes_2 = np.full(10, '60-minutes-or-less')\n",
        "dislikes_3 = np.full(10, 'empty')\n",
        "dislikes = np.append(dislikes, [dislikes_2, dislikes_3])\n",
        "dislikes"
      ]
    },
    {
      "cell_type": "code",
      "execution_count": 51,
      "metadata": {},
      "outputs": [
        {
          "data": {
            "text/plain": [
              "array([b'weeknight', b'time-to-make', b'course', b'main-ingredient',\n",
              "       b'preparation', b'occasion', b'soups-stews', b'beans',\n",
              "       b'vegetables', b'easy', b'crock-pot-slow-cooker', b'dietary',\n",
              "       b'equipment', b'60-minutes-or-less', b'main-dish', b'fruit',\n",
              "       b'vegan', b'vegetarian', b'stove-top', b'black-beans',\n",
              "       b'30-minutes-or-less', b'low-protein', b'salads', b'dinner-party',\n",
              "       b'low-cholesterol', b'low-carb', b'healthy-2', b'low-in-something',\n",
              "       b'for-1-or-2', b'side-dishes'], dtype=object)"
            ]
          },
          "execution_count": 51,
          "metadata": {},
          "output_type": "execute_result"
        }
      ],
      "source": [
        "test_user['liked_tags']"
      ]
    },
    {
      "cell_type": "code",
      "execution_count": 90,
      "metadata": {},
      "outputs": [
        {
          "name": "stdout",
          "output_type": "stream",
          "text": [
            "Tensor(\"args_2:0\", shape=(None, None), dtype=string)\n"
          ]
        }
      ],
      "source": [
        "# Извлечение данных пользователя\n",
        "test_user = {}\n",
        "for data in test.take(1).as_numpy_iterator():\n",
        "    test_user = data\n",
        "\n",
        "# Создание набора данных для тестового пользователя\n",
        "user_id_to_test = \"42\"  # Замените на нужный ID пользователя\n",
        "test_user_dataset = {\n",
        "    \"user_id\": np.array(test_user[\"user_id\"]),\n",
        "    \"liked_tags\": np.array(likes),\n",
        "    \"unliked_tags\": np.array(dislikes)\n",
        "}\n",
        "\n",
        "brute_force = tfrs.layers.factorized_top_k.BruteForce(model.user_model)\n",
        "def _reduce_mean_if_needed(embedding):\n",
        "    \"\"\"Сокращает размерность эмбеддинга до среднего, если он многомерный.\"\"\"\n",
        "    if len(embedding.shape) >= 3:\n",
        "        return tf.reduce_mean(embedding, axis=1)\n",
        "    return embedding\n",
        "dense = tf.keras.layers.Dense(96)\n",
        "\n",
        "def _get_candidate_embeddings(recipe_name):\n",
        "    # Получаем эмбеддинги для имен и тегов\n",
        "    recipe_embedding =  model.recipe_model(recipe_name['recipe_name'])\n",
        "    print(recipe_name['tags'])\n",
        "    tags_embedding = model.tags_model(recipe_name['tags'])  # Здесь предполагается, что recipe_name может содержать теги\n",
        "    recipe_embedding = _reduce_mean_if_needed(recipe_embedding)\n",
        "    tags_embedding = _reduce_mean_if_needed(tags_embedding)\n",
        "    # Объединяем эмбеддинги имен и тегов\n",
        "    combined_embedding = tf.concat([recipe_embedding, tags_embedding], axis=1)\n",
        "    return combined_embedding\n",
        "    \n",
        "# Создание набора данных для рецептов и тегов\n",
        "def get_recipe_and_tag_embeddings(x):\n",
        "    recipe_embedding = model.recipe_model(x['recipe_name'])  # (None, 32)\n",
        "    tag_embedding = model.tags_model(x['tags'])  # (None, 32)\n",
        "    recipe_embedding =_reduce_mean_if_needed(recipe_embedding)\n",
        "    tag_embedding = _reduce_mean_if_needed(tag_embedding)\n",
        "    \n",
        "    combined_embeddings = tf.concat([_reduce_mean_if_needed(recipe_embedding),  _reduce_mean_if_needed(tag_embedding)], axis=1)  # (None, 64)\n",
        "    \n",
        "    return dense(combined_embeddings)\n",
        "\n",
        "# Используем map для обработки всех данных сразу\n",
        "recipes_embeddings = recipes.batch(100).map(_get_candidate_embeddings)\n",
        "\n",
        "\n",
        "# Создание набора имен рецептов\n",
        "recipes_names = recipes.batch(100).map(lambda x: x[\"recipe_id\"])  # Убедитесь, что это (None,)\n",
        "\n",
        "# Объединяем эмбеддинги с именами\n",
        "index = brute_force.index_from_dataset(\n",
        "    tf.data.Dataset.zip((recipes_names, recipes_embeddings))\n",
        ")\n",
        "\n",
        "# Получаем рекомендации\n",
        "_, titles = index(test_user_dataset, k=15)\n",
        "\n",
        "# Вывод тегов для рекомендуемых рецептов\n",
        "recommended_tags = raw_recipes[raw_recipes['id'].isin(titles.numpy().flatten().astype('str'))]\n"
      ]
    },
    {
      "cell_type": "code",
      "execution_count": 103,
      "metadata": {},
      "outputs": [
        {
          "data": {
            "text/html": [
              "<div>\n",
              "<style scoped>\n",
              "    .dataframe tbody tr th:only-of-type {\n",
              "        vertical-align: middle;\n",
              "    }\n",
              "\n",
              "    .dataframe tbody tr th {\n",
              "        vertical-align: top;\n",
              "    }\n",
              "\n",
              "    .dataframe thead th {\n",
              "        text-align: right;\n",
              "    }\n",
              "</style>\n",
              "<table border=\"1\" class=\"dataframe\">\n",
              "  <thead>\n",
              "    <tr style=\"text-align: right;\">\n",
              "      <th></th>\n",
              "      <th>tags_str</th>\n",
              "      <th>name</th>\n",
              "    </tr>\n",
              "  </thead>\n",
              "  <tbody>\n",
              "    <tr>\n",
              "      <th>526</th>\n",
              "      <td>30-minutes-or-less,time-to-make,main-ingredient,preparation,occasion,low-protein,healthy,very-low-carbs,canning,vegetables,easy,no-cook,holiday-event,low-fat,dietary,gifts,christmas,thanksgiving,low-cholesterol,low-saturated-fat,low-calorie,low-carb,inexpensive,low-in-something,technique,empty,empty,empty,empty,empty</td>\n",
              "      <td>so i cheated  refrigerator dills</td>\n",
              "    </tr>\n",
              "    <tr>\n",
              "      <th>11574</th>\n",
              "      <td>60-minutes-or-less,time-to-make,course,main-ingredient,cuisine,preparation,occasion,north-american,appetizers,main-dish,side-dishes,beef,vegetables,american,asian,chinese,finger-food,deep-fry,dietary,ground-beef,meat,presentation,technique,empty,empty,empty,empty,empty,empty,empty</td>\n",
              "      <td>awesome egg rolls</td>\n",
              "    </tr>\n",
              "    <tr>\n",
              "      <th>22566</th>\n",
              "      <td>weeknight,time-to-make,course,preparation,occasion,healthy,pies-and-tarts,desserts,oven,heirloom-historical,holiday-event,pies,dietary,thanksgiving,equipment,number-of-servings,4-hours-or-less,empty,empty,empty,empty,empty,empty,empty,empty,empty,empty,empty,empty,empty</td>\n",
              "      <td>best ever pumpkin pie</td>\n",
              "    </tr>\n",
              "    <tr>\n",
              "      <th>43749</th>\n",
              "      <td>60-minutes-or-less,time-to-make,course,main-ingredient,cuisine,preparation,occasion,north-american,main-dish,eggs-dairy,poultry,mexican,potluck,dinner-party,holiday-event,cheese,chicken,comfort-food,meat,chicken-breasts,taste-mood,to-go,empty,empty,empty,empty,empty,empty,empty,empty</td>\n",
              "      <td>chicken chile verde enchiladas</td>\n",
              "    </tr>\n",
              "    <tr>\n",
              "      <th>58634</th>\n",
              "      <td>weeknight,time-to-make,main-ingredient,preparation,poultry,oven,dietary,meat,equipment,4-hours-or-less,empty,empty,empty,empty,empty,empty,empty,empty,empty,empty,empty,empty,empty,empty,empty,empty,empty,empty,empty,empty</td>\n",
              "      <td>cornish game hens with orange stuffing</td>\n",
              "    </tr>\n",
              "    <tr>\n",
              "      <th>73987</th>\n",
              "      <td>30-minutes-or-less,time-to-make,course,cuisine,preparation,occasion,north-american,healthy,5-ingredients-or-less,american,southern-united-states,easy,kid-friendly,dietary,high-calcium,comfort-food,high-in-something,taste-mood,number-of-servings,empty,empty,empty,empty,empty,empty,empty,empty,empty,empty,empty</td>\n",
              "      <td>dumplings</td>\n",
              "    </tr>\n",
              "    <tr>\n",
              "      <th>77750</th>\n",
              "      <td>60-minutes-or-less,time-to-make,course,main-ingredient,preparation,occasion,for-large-groups,low-protein,healthy,drop-cookies,desserts,vegetables,oven,easy,beginner-cook,holiday-event,kid-friendly,cookies-and-brownies,dietary,gifts,low-cholesterol,inexpensive,healthy-2,low-in-something,taste-mood,sweet,to-go,equipment,number-of-servings,empty</td>\n",
              "      <td>easy pumpkin spice cookies  cake mix</td>\n",
              "    </tr>\n",
              "    <tr>\n",
              "      <th>81699</th>\n",
              "      <td>weeknight,time-to-make,course,main-ingredient,preparation,very-low-carbs,main-dish,poultry,chicken,crock-pot-slow-cooker,dietary,low-sodium,high-protein,low-carb,high-in-something,low-in-something,meat,equipment,empty,empty,empty,empty,empty,empty,empty,empty,empty,empty,empty,empty</td>\n",
              "      <td>fake rotisserie chicken</td>\n",
              "    </tr>\n",
              "    <tr>\n",
              "      <th>98319</th>\n",
              "      <td>course,main-ingredient,preparation,occasion,main-dish,pork,barbecue,easy,beginner-cook,dinner-party,holiday-event,summer,dietary,seasonal,high-protein,low-carb,high-in-something,low-in-something,meat,taste-mood,savory,equipment,grilling,empty,empty,empty,empty,empty,empty,empty</td>\n",
              "      <td>grilled bourbon marinated pork chops or pork tenderloins</td>\n",
              "    </tr>\n",
              "    <tr>\n",
              "      <th>120540</th>\n",
              "      <td>15-minutes-or-less,time-to-make,course,main-ingredient,preparation,low-protein,healthy,sauces,condiments-etc,pork,barbecue,easy,low-fat,stove-top,dietary,low-cholesterol,savory-sauces,low-in-something,meat,equipment,grilling,number-of-servings,3-steps-or-less,technique,empty,empty,empty,empty,empty,empty</td>\n",
              "      <td>lee lee s famous barbecue sauce for ribs w  preserves</td>\n",
              "    </tr>\n",
              "    <tr>\n",
              "      <th>172160</th>\n",
              "      <td>30-minutes-or-less,time-to-make,course,preparation,occasion,breads,side-dishes,oven,rolls-biscuits,dietary,copycat,novelty,equipment,empty,empty,empty,empty,empty,empty,empty,empty,empty,empty,empty,empty,empty,empty,empty,empty,empty</td>\n",
              "      <td>red lobster cheddar bay biscuits copycat</td>\n",
              "    </tr>\n",
              "    <tr>\n",
              "      <th>180273</th>\n",
              "      <td>ham,weeknight,time-to-make,course,main-ingredient,cuisine,preparation,occasion,north-american,main-dish,side-dishes,pork,potatoes,vegetables,american,dinner-party,dietary,comfort-food,low-carb,inexpensive,low-in-something,meat,taste-mood,4-hours-or-less,empty,empty,empty,empty,empty,empty</td>\n",
              "      <td>sarasota s supreme smoky scalloped potatoes   ham</td>\n",
              "    </tr>\n",
              "    <tr>\n",
              "      <th>189877</th>\n",
              "      <td>time-to-make,course,main-ingredient,preparation,occasion,main-dish,soups-stews,beans,pork,fall,winter,dietary,one-dish-meal,seasonal,comfort-food,meat,pork-sausage,taste-mood,4-hours-or-less,empty,empty,empty,empty,empty,empty,empty,empty,empty,empty,empty</td>\n",
              "      <td>smoked sausage and white bean soup</td>\n",
              "    </tr>\n",
              "    <tr>\n",
              "      <th>193937</th>\n",
              "      <td>lactose,60-minutes-or-less,time-to-make,course,main-ingredient,cuisine,preparation,occasion,north-american,very-low-carbs,omelets-and-frittatas,appetizers,breakfast,eggs-dairy,potatoes,vegetables,american,southwestern-united-states,spanish,european,eggs,dietary,low-sodium,gluten-free,low-carb,free-of-something,low-in-something,brunch,technique,empty</td>\n",
              "      <td>spanish omelette  tortilla de patatas   spain</td>\n",
              "    </tr>\n",
              "    <tr>\n",
              "      <th>211169</th>\n",
              "      <td>60-minutes-or-less,time-to-make,course,preparation,for-1-or-2,main-dish,number-of-servings,empty,empty,empty,empty,empty,empty,empty,empty,empty,empty,empty,empty,empty,empty,empty,empty,empty,empty,empty,empty,empty,empty,empty</td>\n",
              "      <td>the 400th something chicken enchiladas</td>\n",
              "    </tr>\n",
              "  </tbody>\n",
              "</table>\n",
              "</div>"
            ],
            "text/plain": [
              "                                                                                                                                                                                                                                                                                                                                                               tags_str  \\\n",
              "526                                      30-minutes-or-less,time-to-make,main-ingredient,preparation,occasion,low-protein,healthy,very-low-carbs,canning,vegetables,easy,no-cook,holiday-event,low-fat,dietary,gifts,christmas,thanksgiving,low-cholesterol,low-saturated-fat,low-calorie,low-carb,inexpensive,low-in-something,technique,empty,empty,empty,empty,empty   \n",
              "11574                                                                         60-minutes-or-less,time-to-make,course,main-ingredient,cuisine,preparation,occasion,north-american,appetizers,main-dish,side-dishes,beef,vegetables,american,asian,chinese,finger-food,deep-fry,dietary,ground-beef,meat,presentation,technique,empty,empty,empty,empty,empty,empty,empty   \n",
              "22566                                                                                    weeknight,time-to-make,course,preparation,occasion,healthy,pies-and-tarts,desserts,oven,heirloom-historical,holiday-event,pies,dietary,thanksgiving,equipment,number-of-servings,4-hours-or-less,empty,empty,empty,empty,empty,empty,empty,empty,empty,empty,empty,empty,empty   \n",
              "43749                                                                      60-minutes-or-less,time-to-make,course,main-ingredient,cuisine,preparation,occasion,north-american,main-dish,eggs-dairy,poultry,mexican,potluck,dinner-party,holiday-event,cheese,chicken,comfort-food,meat,chicken-breasts,taste-mood,to-go,empty,empty,empty,empty,empty,empty,empty,empty   \n",
              "58634                                                                                                                                    weeknight,time-to-make,main-ingredient,preparation,poultry,oven,dietary,meat,equipment,4-hours-or-less,empty,empty,empty,empty,empty,empty,empty,empty,empty,empty,empty,empty,empty,empty,empty,empty,empty,empty,empty,empty   \n",
              "73987                                            30-minutes-or-less,time-to-make,course,cuisine,preparation,occasion,north-american,healthy,5-ingredients-or-less,american,southern-united-states,easy,kid-friendly,dietary,high-calcium,comfort-food,high-in-something,taste-mood,number-of-servings,empty,empty,empty,empty,empty,empty,empty,empty,empty,empty,empty   \n",
              "77750          60-minutes-or-less,time-to-make,course,main-ingredient,preparation,occasion,for-large-groups,low-protein,healthy,drop-cookies,desserts,vegetables,oven,easy,beginner-cook,holiday-event,kid-friendly,cookies-and-brownies,dietary,gifts,low-cholesterol,inexpensive,healthy-2,low-in-something,taste-mood,sweet,to-go,equipment,number-of-servings,empty   \n",
              "81699                                                                       weeknight,time-to-make,course,main-ingredient,preparation,very-low-carbs,main-dish,poultry,chicken,crock-pot-slow-cooker,dietary,low-sodium,high-protein,low-carb,high-in-something,low-in-something,meat,equipment,empty,empty,empty,empty,empty,empty,empty,empty,empty,empty,empty,empty   \n",
              "98319                                                                            course,main-ingredient,preparation,occasion,main-dish,pork,barbecue,easy,beginner-cook,dinner-party,holiday-event,summer,dietary,seasonal,high-protein,low-carb,high-in-something,low-in-something,meat,taste-mood,savory,equipment,grilling,empty,empty,empty,empty,empty,empty,empty   \n",
              "120540                                                15-minutes-or-less,time-to-make,course,main-ingredient,preparation,low-protein,healthy,sauces,condiments-etc,pork,barbecue,easy,low-fat,stove-top,dietary,low-cholesterol,savory-sauces,low-in-something,meat,equipment,grilling,number-of-servings,3-steps-or-less,technique,empty,empty,empty,empty,empty,empty   \n",
              "172160                                                                                                                       30-minutes-or-less,time-to-make,course,preparation,occasion,breads,side-dishes,oven,rolls-biscuits,dietary,copycat,novelty,equipment,empty,empty,empty,empty,empty,empty,empty,empty,empty,empty,empty,empty,empty,empty,empty,empty,empty   \n",
              "180273                                                                ham,weeknight,time-to-make,course,main-ingredient,cuisine,preparation,occasion,north-american,main-dish,side-dishes,pork,potatoes,vegetables,american,dinner-party,dietary,comfort-food,low-carb,inexpensive,low-in-something,meat,taste-mood,4-hours-or-less,empty,empty,empty,empty,empty,empty   \n",
              "189877                                                                                                 time-to-make,course,main-ingredient,preparation,occasion,main-dish,soups-stews,beans,pork,fall,winter,dietary,one-dish-meal,seasonal,comfort-food,meat,pork-sausage,taste-mood,4-hours-or-less,empty,empty,empty,empty,empty,empty,empty,empty,empty,empty,empty   \n",
              "193937  lactose,60-minutes-or-less,time-to-make,course,main-ingredient,cuisine,preparation,occasion,north-american,very-low-carbs,omelets-and-frittatas,appetizers,breakfast,eggs-dairy,potatoes,vegetables,american,southwestern-united-states,spanish,european,eggs,dietary,low-sodium,gluten-free,low-carb,free-of-something,low-in-something,brunch,technique,empty   \n",
              "211169                                                                                                                             60-minutes-or-less,time-to-make,course,preparation,for-1-or-2,main-dish,number-of-servings,empty,empty,empty,empty,empty,empty,empty,empty,empty,empty,empty,empty,empty,empty,empty,empty,empty,empty,empty,empty,empty,empty,empty   \n",
              "\n",
              "                                                            name  \n",
              "526                             so i cheated  refrigerator dills  \n",
              "11574                                          awesome egg rolls  \n",
              "22566                                      best ever pumpkin pie  \n",
              "43749                             chicken chile verde enchiladas  \n",
              "58634                     cornish game hens with orange stuffing  \n",
              "73987                                                  dumplings  \n",
              "77750                       easy pumpkin spice cookies  cake mix  \n",
              "81699                                    fake rotisserie chicken  \n",
              "98319   grilled bourbon marinated pork chops or pork tenderloins  \n",
              "120540     lee lee s famous barbecue sauce for ribs w  preserves  \n",
              "172160                  red lobster cheddar bay biscuits copycat  \n",
              "180273         sarasota s supreme smoky scalloped potatoes   ham  \n",
              "189877                        smoked sausage and white bean soup  \n",
              "193937             spanish omelette  tortilla de patatas   spain  \n",
              "211169                    the 400th something chicken enchiladas  "
            ]
          },
          "execution_count": 103,
          "metadata": {},
          "output_type": "execute_result"
        }
      ],
      "source": [
        "pd.set_option('display.max_colwidth', None)\n",
        "raw_recipes[raw_recipes['id'].isin(titles.numpy()[0].flatten().astype('str'))][['tags_str','name']]"
      ]
    },
    {
      "cell_type": "code",
      "execution_count": 91,
      "metadata": {},
      "outputs": [
        {
          "data": {
            "text/html": [
              "<div>\n",
              "<style scoped>\n",
              "    .dataframe tbody tr th:only-of-type {\n",
              "        vertical-align: middle;\n",
              "    }\n",
              "\n",
              "    .dataframe tbody tr th {\n",
              "        vertical-align: top;\n",
              "    }\n",
              "\n",
              "    .dataframe thead th {\n",
              "        text-align: right;\n",
              "    }\n",
              "</style>\n",
              "<table border=\"1\" class=\"dataframe\">\n",
              "  <thead>\n",
              "    <tr style=\"text-align: right;\">\n",
              "      <th></th>\n",
              "      <th>name</th>\n",
              "      <th>tags_str</th>\n",
              "    </tr>\n",
              "  </thead>\n",
              "  <tbody>\n",
              "    <tr>\n",
              "      <th>526</th>\n",
              "      <td>so i cheated  refrigerator dills</td>\n",
              "      <td>30-minutes-or-less,time-to-make,main-ingredien...</td>\n",
              "    </tr>\n",
              "    <tr>\n",
              "      <th>11574</th>\n",
              "      <td>awesome egg rolls</td>\n",
              "      <td>60-minutes-or-less,time-to-make,course,main-in...</td>\n",
              "    </tr>\n",
              "    <tr>\n",
              "      <th>22566</th>\n",
              "      <td>best ever pumpkin pie</td>\n",
              "      <td>weeknight,time-to-make,course,preparation,occa...</td>\n",
              "    </tr>\n",
              "    <tr>\n",
              "      <th>43749</th>\n",
              "      <td>chicken chile verde enchiladas</td>\n",
              "      <td>60-minutes-or-less,time-to-make,course,main-in...</td>\n",
              "    </tr>\n",
              "    <tr>\n",
              "      <th>58634</th>\n",
              "      <td>cornish game hens with orange stuffing</td>\n",
              "      <td>weeknight,time-to-make,main-ingredient,prepara...</td>\n",
              "    </tr>\n",
              "    <tr>\n",
              "      <th>73987</th>\n",
              "      <td>dumplings</td>\n",
              "      <td>30-minutes-or-less,time-to-make,course,cuisine...</td>\n",
              "    </tr>\n",
              "    <tr>\n",
              "      <th>77750</th>\n",
              "      <td>easy pumpkin spice cookies  cake mix</td>\n",
              "      <td>60-minutes-or-less,time-to-make,course,main-in...</td>\n",
              "    </tr>\n",
              "    <tr>\n",
              "      <th>81699</th>\n",
              "      <td>fake rotisserie chicken</td>\n",
              "      <td>weeknight,time-to-make,course,main-ingredient,...</td>\n",
              "    </tr>\n",
              "    <tr>\n",
              "      <th>98319</th>\n",
              "      <td>grilled bourbon marinated pork chops or pork t...</td>\n",
              "      <td>course,main-ingredient,preparation,occasion,ma...</td>\n",
              "    </tr>\n",
              "    <tr>\n",
              "      <th>120540</th>\n",
              "      <td>lee lee s famous barbecue sauce for ribs w  pr...</td>\n",
              "      <td>15-minutes-or-less,time-to-make,course,main-in...</td>\n",
              "    </tr>\n",
              "    <tr>\n",
              "      <th>138499</th>\n",
              "      <td>mom s pot roast</td>\n",
              "      <td>weeknight,time-to-make,course,main-ingredient,...</td>\n",
              "    </tr>\n",
              "    <tr>\n",
              "      <th>141624</th>\n",
              "      <td>my family s favorite sloppy joes  pizza joes</td>\n",
              "      <td>60-minutes-or-less,time-to-make,course,main-in...</td>\n",
              "    </tr>\n",
              "    <tr>\n",
              "      <th>158081</th>\n",
              "      <td>pepperoni pizza wraps</td>\n",
              "      <td>30-minutes-or-less,time-to-make,course,main-in...</td>\n",
              "    </tr>\n",
              "    <tr>\n",
              "      <th>172160</th>\n",
              "      <td>red lobster cheddar bay biscuits copycat</td>\n",
              "      <td>30-minutes-or-less,time-to-make,course,prepara...</td>\n",
              "    </tr>\n",
              "    <tr>\n",
              "      <th>180273</th>\n",
              "      <td>sarasota s supreme smoky scalloped potatoes   ham</td>\n",
              "      <td>ham,weeknight,time-to-make,course,main-ingredi...</td>\n",
              "    </tr>\n",
              "    <tr>\n",
              "      <th>189877</th>\n",
              "      <td>smoked sausage and white bean soup</td>\n",
              "      <td>time-to-make,course,main-ingredient,preparatio...</td>\n",
              "    </tr>\n",
              "    <tr>\n",
              "      <th>193937</th>\n",
              "      <td>spanish omelette  tortilla de patatas   spain</td>\n",
              "      <td>lactose,60-minutes-or-less,time-to-make,course...</td>\n",
              "    </tr>\n",
              "    <tr>\n",
              "      <th>211169</th>\n",
              "      <td>the 400th something chicken enchiladas</td>\n",
              "      <td>60-minutes-or-less,time-to-make,course,prepara...</td>\n",
              "    </tr>\n",
              "    <tr>\n",
              "      <th>212310</th>\n",
              "      <td>the only marinade you will need for grilled sa...</td>\n",
              "      <td>,empty,empty,empty,empty,empty,empty,empty,emp...</td>\n",
              "    </tr>\n",
              "  </tbody>\n",
              "</table>\n",
              "</div>"
            ],
            "text/plain": [
              "                                                     name  \\\n",
              "526                      so i cheated  refrigerator dills   \n",
              "11574                                   awesome egg rolls   \n",
              "22566                               best ever pumpkin pie   \n",
              "43749                      chicken chile verde enchiladas   \n",
              "58634              cornish game hens with orange stuffing   \n",
              "73987                                           dumplings   \n",
              "77750                easy pumpkin spice cookies  cake mix   \n",
              "81699                             fake rotisserie chicken   \n",
              "98319   grilled bourbon marinated pork chops or pork t...   \n",
              "120540  lee lee s famous barbecue sauce for ribs w  pr...   \n",
              "138499                                    mom s pot roast   \n",
              "141624       my family s favorite sloppy joes  pizza joes   \n",
              "158081                              pepperoni pizza wraps   \n",
              "172160           red lobster cheddar bay biscuits copycat   \n",
              "180273  sarasota s supreme smoky scalloped potatoes   ham   \n",
              "189877                 smoked sausage and white bean soup   \n",
              "193937      spanish omelette  tortilla de patatas   spain   \n",
              "211169             the 400th something chicken enchiladas   \n",
              "212310  the only marinade you will need for grilled sa...   \n",
              "\n",
              "                                                 tags_str  \n",
              "526     30-minutes-or-less,time-to-make,main-ingredien...  \n",
              "11574   60-minutes-or-less,time-to-make,course,main-in...  \n",
              "22566   weeknight,time-to-make,course,preparation,occa...  \n",
              "43749   60-minutes-or-less,time-to-make,course,main-in...  \n",
              "58634   weeknight,time-to-make,main-ingredient,prepara...  \n",
              "73987   30-minutes-or-less,time-to-make,course,cuisine...  \n",
              "77750   60-minutes-or-less,time-to-make,course,main-in...  \n",
              "81699   weeknight,time-to-make,course,main-ingredient,...  \n",
              "98319   course,main-ingredient,preparation,occasion,ma...  \n",
              "120540  15-minutes-or-less,time-to-make,course,main-in...  \n",
              "138499  weeknight,time-to-make,course,main-ingredient,...  \n",
              "141624  60-minutes-or-less,time-to-make,course,main-in...  \n",
              "158081  30-minutes-or-less,time-to-make,course,main-in...  \n",
              "172160  30-minutes-or-less,time-to-make,course,prepara...  \n",
              "180273  ham,weeknight,time-to-make,course,main-ingredi...  \n",
              "189877  time-to-make,course,main-ingredient,preparatio...  \n",
              "193937  lactose,60-minutes-or-less,time-to-make,course...  \n",
              "211169  60-minutes-or-less,time-to-make,course,prepara...  \n",
              "212310  ,empty,empty,empty,empty,empty,empty,empty,emp...  "
            ]
          },
          "execution_count": 91,
          "metadata": {},
          "output_type": "execute_result"
        }
      ],
      "source": [
        "recommended_tags[['name', 'tags_str']]"
      ]
    },
    {
      "cell_type": "code",
      "execution_count": 54,
      "metadata": {},
      "outputs": [
        {
          "data": {
            "text/html": [
              "<div>\n",
              "<style scoped>\n",
              "    .dataframe tbody tr th:only-of-type {\n",
              "        vertical-align: middle;\n",
              "    }\n",
              "\n",
              "    .dataframe tbody tr th {\n",
              "        vertical-align: top;\n",
              "    }\n",
              "\n",
              "    .dataframe thead th {\n",
              "        text-align: right;\n",
              "    }\n",
              "</style>\n",
              "<table border=\"1\" class=\"dataframe\">\n",
              "  <thead>\n",
              "    <tr style=\"text-align: right;\">\n",
              "      <th></th>\n",
              "      <th>name</th>\n",
              "      <th>tags_str</th>\n",
              "    </tr>\n",
              "  </thead>\n",
              "  <tbody>\n",
              "    <tr>\n",
              "      <th>8801</th>\n",
              "      <td>artichoke chicken saute</td>\n",
              "      <td>30-minutes-or-less,time-to-make,course,prepara...</td>\n",
              "    </tr>\n",
              "    <tr>\n",
              "      <th>9384</th>\n",
              "      <td>asian plum sauce</td>\n",
              "      <td>time-to-make,course,main-ingredient,cuisine,pr...</td>\n",
              "    </tr>\n",
              "    <tr>\n",
              "      <th>10452</th>\n",
              "      <td>aunt nelda s sugar cookies</td>\n",
              "      <td>30-minutes-or-less,time-to-make,course,prepara...</td>\n",
              "    </tr>\n",
              "    <tr>\n",
              "      <th>12572</th>\n",
              "      <td>bacon maple ice cream</td>\n",
              "      <td>course,desserts,frozen-desserts,empty,empty,em...</td>\n",
              "    </tr>\n",
              "    <tr>\n",
              "      <th>24988</th>\n",
              "      <td>blackened shrimp</td>\n",
              "      <td>30-minutes-or-less,time-to-make,course,main-in...</td>\n",
              "    </tr>\n",
              "    <tr>\n",
              "      <th>26417</th>\n",
              "      <td>blueberry lemon tea bread</td>\n",
              "      <td>time-to-make,course,preparation,breads,4-hours...</td>\n",
              "    </tr>\n",
              "    <tr>\n",
              "      <th>48667</th>\n",
              "      <td>chinese white rice</td>\n",
              "      <td>lactose,60-minutes-or-less,time-to-make,course...</td>\n",
              "    </tr>\n",
              "    <tr>\n",
              "      <th>78435</th>\n",
              "      <td>easy tortellini pesto salad</td>\n",
              "      <td>30-minutes-or-less,time-to-make,course,main-in...</td>\n",
              "    </tr>\n",
              "    <tr>\n",
              "      <th>88080</th>\n",
              "      <td>frog in a hole with vegemite  sausage  bacon a...</td>\n",
              "      <td>15-minutes-or-less,time-to-make,course,main-in...</td>\n",
              "    </tr>\n",
              "    <tr>\n",
              "      <th>88302</th>\n",
              "      <td>frozen blueberry margaritas</td>\n",
              "      <td>15-minutes-or-less,time-to-make,course,prepara...</td>\n",
              "    </tr>\n",
              "    <tr>\n",
              "      <th>91695</th>\n",
              "      <td>giant chocolate chip cookie cake</td>\n",
              "      <td>60-minutes-or-less,time-to-make,course,prepara...</td>\n",
              "    </tr>\n",
              "    <tr>\n",
              "      <th>102053</th>\n",
              "      <td>hamburger helper style beef with noodles</td>\n",
              "      <td>60-minutes-or-less,time-to-make,course,main-in...</td>\n",
              "    </tr>\n",
              "    <tr>\n",
              "      <th>102335</th>\n",
              "      <td>hardee s  1 4 pound hamburger by todd wilbur</td>\n",
              "      <td>15-minutes-or-less,time-to-make,course,main-in...</td>\n",
              "    </tr>\n",
              "    <tr>\n",
              "      <th>111026</th>\n",
              "      <td>indian lentil soup  dal shorva</td>\n",
              "      <td>60-minutes-or-less,time-to-make,course,main-in...</td>\n",
              "    </tr>\n",
              "    <tr>\n",
              "      <th>111837</th>\n",
              "      <td>irish dessert</td>\n",
              "      <td>15-minutes-or-less,time-to-make,course,main-in...</td>\n",
              "    </tr>\n",
              "    <tr>\n",
              "      <th>123324</th>\n",
              "      <td>leontes  fruit punch</td>\n",
              "      <td>15-minutes-or-less,time-to-make,course,prepara...</td>\n",
              "    </tr>\n",
              "    <tr>\n",
              "      <th>126460</th>\n",
              "      <td>low fat coffee cake</td>\n",
              "      <td>60-minutes-or-less,time-to-make,course,prepara...</td>\n",
              "    </tr>\n",
              "    <tr>\n",
              "      <th>127056</th>\n",
              "      <td>low fat coffee cake</td>\n",
              "      <td>30-minutes-or-less,time-to-make,course,prepara...</td>\n",
              "    </tr>\n",
              "    <tr>\n",
              "      <th>134182</th>\n",
              "      <td>mexican corn dip</td>\n",
              "      <td>time-to-make,course,preparation,appetizers,4-h...</td>\n",
              "    </tr>\n",
              "    <tr>\n",
              "      <th>146522</th>\n",
              "      <td>ocean spray s cranberry nut bread</td>\n",
              "      <td>time-to-make,course,main-ingredient,preparatio...</td>\n",
              "    </tr>\n",
              "    <tr>\n",
              "      <th>146724</th>\n",
              "      <td>okra pilau</td>\n",
              "      <td>bacon,60-minutes-or-less,time-to-make,course,m...</td>\n",
              "    </tr>\n",
              "    <tr>\n",
              "      <th>161666</th>\n",
              "      <td>plum tart</td>\n",
              "      <td>60-minutes-or-less,time-to-make,course,prepara...</td>\n",
              "    </tr>\n",
              "    <tr>\n",
              "      <th>182744</th>\n",
              "      <td>schuler s swiss onion soup</td>\n",
              "      <td>60-minutes-or-less,time-to-make,course,main-in...</td>\n",
              "    </tr>\n",
              "    <tr>\n",
              "      <th>196087</th>\n",
              "      <td>spicy japanese persimmon bread</td>\n",
              "      <td>time-to-make,course,main-ingredient,cuisine,pr...</td>\n",
              "    </tr>\n",
              "    <tr>\n",
              "      <th>203731</th>\n",
              "      <td>sunrise biscotti</td>\n",
              "      <td>60-minutes-or-less,time-to-make,course,main-in...</td>\n",
              "    </tr>\n",
              "    <tr>\n",
              "      <th>206745</th>\n",
              "      <td>sweet potatoes with pecan crumb topping</td>\n",
              "      <td>60-minutes-or-less,time-to-make,course,main-in...</td>\n",
              "    </tr>\n",
              "    <tr>\n",
              "      <th>219376</th>\n",
              "      <td>ukrainian lokshyna w cottage cheese  noodle an...</td>\n",
              "      <td>60-minutes-or-less,time-to-make,main-ingredien...</td>\n",
              "    </tr>\n",
              "    <tr>\n",
              "      <th>221917</th>\n",
              "      <td>vegetable cod soup</td>\n",
              "      <td>60-minutes-or-less,time-to-make,course,main-in...</td>\n",
              "    </tr>\n",
              "    <tr>\n",
              "      <th>227176</th>\n",
              "      <td>wholemeal carrot cake</td>\n",
              "      <td>60-minutes-or-less,time-to-make,course,prepara...</td>\n",
              "    </tr>\n",
              "    <tr>\n",
              "      <th>230565</th>\n",
              "      <td>zesty ranch crackers</td>\n",
              "      <td>15-minutes-or-less,time-to-make,course,prepara...</td>\n",
              "    </tr>\n",
              "  </tbody>\n",
              "</table>\n",
              "</div>"
            ],
            "text/plain": [
              "                                                     name  \\\n",
              "8801                              artichoke chicken saute   \n",
              "9384                                     asian plum sauce   \n",
              "10452                          aunt nelda s sugar cookies   \n",
              "12572                               bacon maple ice cream   \n",
              "24988                                    blackened shrimp   \n",
              "26417                           blueberry lemon tea bread   \n",
              "48667                                  chinese white rice   \n",
              "78435                         easy tortellini pesto salad   \n",
              "88080   frog in a hole with vegemite  sausage  bacon a...   \n",
              "88302                         frozen blueberry margaritas   \n",
              "91695                    giant chocolate chip cookie cake   \n",
              "102053           hamburger helper style beef with noodles   \n",
              "102335       hardee s  1 4 pound hamburger by todd wilbur   \n",
              "111026                     indian lentil soup  dal shorva   \n",
              "111837                                      irish dessert   \n",
              "123324                               leontes  fruit punch   \n",
              "126460                                low fat coffee cake   \n",
              "127056                                low fat coffee cake   \n",
              "134182                                   mexican corn dip   \n",
              "146522                  ocean spray s cranberry nut bread   \n",
              "146724                                         okra pilau   \n",
              "161666                                          plum tart   \n",
              "182744                         schuler s swiss onion soup   \n",
              "196087                     spicy japanese persimmon bread   \n",
              "203731                                   sunrise biscotti   \n",
              "206745            sweet potatoes with pecan crumb topping   \n",
              "219376  ukrainian lokshyna w cottage cheese  noodle an...   \n",
              "221917                                 vegetable cod soup   \n",
              "227176                              wholemeal carrot cake   \n",
              "230565                               zesty ranch crackers   \n",
              "\n",
              "                                                 tags_str  \n",
              "8801    30-minutes-or-less,time-to-make,course,prepara...  \n",
              "9384    time-to-make,course,main-ingredient,cuisine,pr...  \n",
              "10452   30-minutes-or-less,time-to-make,course,prepara...  \n",
              "12572   course,desserts,frozen-desserts,empty,empty,em...  \n",
              "24988   30-minutes-or-less,time-to-make,course,main-in...  \n",
              "26417   time-to-make,course,preparation,breads,4-hours...  \n",
              "48667   lactose,60-minutes-or-less,time-to-make,course...  \n",
              "78435   30-minutes-or-less,time-to-make,course,main-in...  \n",
              "88080   15-minutes-or-less,time-to-make,course,main-in...  \n",
              "88302   15-minutes-or-less,time-to-make,course,prepara...  \n",
              "91695   60-minutes-or-less,time-to-make,course,prepara...  \n",
              "102053  60-minutes-or-less,time-to-make,course,main-in...  \n",
              "102335  15-minutes-or-less,time-to-make,course,main-in...  \n",
              "111026  60-minutes-or-less,time-to-make,course,main-in...  \n",
              "111837  15-minutes-or-less,time-to-make,course,main-in...  \n",
              "123324  15-minutes-or-less,time-to-make,course,prepara...  \n",
              "126460  60-minutes-or-less,time-to-make,course,prepara...  \n",
              "127056  30-minutes-or-less,time-to-make,course,prepara...  \n",
              "134182  time-to-make,course,preparation,appetizers,4-h...  \n",
              "146522  time-to-make,course,main-ingredient,preparatio...  \n",
              "146724  bacon,60-minutes-or-less,time-to-make,course,m...  \n",
              "161666  60-minutes-or-less,time-to-make,course,prepara...  \n",
              "182744  60-minutes-or-less,time-to-make,course,main-in...  \n",
              "196087  time-to-make,course,main-ingredient,cuisine,pr...  \n",
              "203731  60-minutes-or-less,time-to-make,course,main-in...  \n",
              "206745  60-minutes-or-less,time-to-make,course,main-in...  \n",
              "219376  60-minutes-or-less,time-to-make,main-ingredien...  \n",
              "221917  60-minutes-or-less,time-to-make,course,main-in...  \n",
              "227176  60-minutes-or-less,time-to-make,course,prepara...  \n",
              "230565  15-minutes-or-less,time-to-make,course,prepara...  "
            ]
          },
          "execution_count": 54,
          "metadata": {},
          "output_type": "execute_result"
        }
      ],
      "source": [
        "recommended_tags[['name', 'tags_str']]"
      ]
    }
  ],
  "metadata": {
    "colab": {
      "provenance": []
    },
    "kernelspec": {
      "display_name": "Python 3",
      "name": "python3"
    },
    "language_info": {
      "codemirror_mode": {
        "name": "ipython",
        "version": 3
      },
      "file_extension": ".py",
      "mimetype": "text/x-python",
      "name": "python",
      "nbconvert_exporter": "python",
      "pygments_lexer": "ipython3",
      "version": "3.10.0"
    }
  },
  "nbformat": 4,
  "nbformat_minor": 0
}
